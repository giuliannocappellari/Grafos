{
 "cells": [
  {
   "cell_type": "code",
<<<<<<< HEAD
   "execution_count": 17,
   "id": "0e283387",
   "metadata": {},
   "outputs": [
    {
     "data": {
      "text/plain": [
       "'pt_BR.UTF-8'"
      ]
     },
     "execution_count": 17,
     "metadata": {},
     "output_type": "execute_result"
    }
   ],
   "source": [
    "import numpy as np\n",
    "import pandas as pd\n",
    "import csv\n",
    "import matplotlib.pyplot as plt\n",
    "pd.set_option('display.max_rows', 1000)\n",
    "import seaborn as sns\n",
    "import locale\n",
    "from locale import atof\n",
    "locale.setlocale(locale.LC_ALL, 'pt_BR.UTF-8')"
   ]
  },
  {
   "cell_type": "code",
   "execution_count": 18,
   "id": "d4687ed7",
   "metadata": {},
   "outputs": [],
   "source": [
    "#Lendo dados\n",
    "drogas_final = pd.read_csv('Dados/GESEG_SBX_DROGA_EXPORT.csv', encoding = 'latin-1', sep = ';', index_col=0, decimal=\",\", thousands='.')"
   ]
  },
  {
   "cell_type": "code",
   "execution_count": 19,
   "id": "fe8fa343",
   "metadata": {},
   "outputs": [],
=======
   "execution_count": 164,
   "source": [
    "import numpy as np\r\n",
    "import pandas as pd\r\n",
    "import csv\r\n",
    "import matplotlib.pyplot as plt\r\n",
    "pd.set_option('display.max_rows', 1000)\r\n",
    "import seaborn as sns\r\n",
    "import locale\r\n",
    "from locale import atof\r\n",
    "locale.setlocale(locale.LC_ALL, 'pt_BR.UTF-8')"
   ],
   "outputs": [
    {
     "output_type": "execute_result",
     "data": {
      "text/plain": [
       "'pt_BR.UTF-8'"
      ]
     },
     "metadata": {},
     "execution_count": 164
    }
   ],
   "metadata": {}
  },
  {
   "cell_type": "code",
   "execution_count": 165,
   "source": [
    "#Lendo dados\r\n",
    "drogas_final = pd.read_csv('Dados/GESEG_SBX_DROGA_EXPORT.csv', encoding = 'latin-1', sep = ';', index_col=0, decimal=\",\", thousands='.')"
   ],
   "outputs": [],
   "metadata": {}
  },
  {
   "cell_type": "code",
   "execution_count": 166,
>>>>>>> 0decbb3632edb7b756c733e0bf0b872586f55bfc
   "source": [
    "#Pivotando valor \"QUANTIDADE\" da coluna \"ATRIBUTOS\" com o mesmo \"NRO_INT_OBJETO\"\r\n",
    "drogas_final_pivot = drogas_final.pivot(index=\"NRO_INT_OBJETO\", columns=\"ATRIBUTO\", values=\"QUANTIDADE\")"
   ],
   "outputs": [],
   "metadata": {}
  },
  {
   "cell_type": "code",
<<<<<<< HEAD
   "execution_count": 20,
   "id": "5fb85289",
   "metadata": {},
   "outputs": [],
=======
   "execution_count": 167,
>>>>>>> 0decbb3632edb7b756c733e0bf0b872586f55bfc
   "source": [
    "#Agrupando dados com o mesmo \"K93_NRO_INT_OBJETO\"\r\n",
    "#Foi preciso utilizar \"agg('min')\" pois apenas groupby()...\r\n",
    "#retorna um objeto iterável \r\n",
    "dg2_final = drogas_final[['NRO_INT_OBJETO','ANO_OCOR', 'NRO_OCOR','NRO_INT_TIPO_OBJETO','TIPO_OBJETO','ATRIBUTO']].groupby([\"NRO_INT_OBJETO\"]).min()"
   ],
   "outputs": [],
   "metadata": {}
  },
  {
   "cell_type": "code",
<<<<<<< HEAD
   "execution_count": 21,
   "id": "91421ede",
   "metadata": {},
   "outputs": [],
=======
   "execution_count": 168,
>>>>>>> 0decbb3632edb7b756c733e0bf0b872586f55bfc
   "source": [
    "#Ordenando por \"K93_NRO_INT_OBJETO\"\r\n",
    "dg2_final_sorted = dg2_final.sort_values(by=['NRO_INT_OBJETO'])\r\n",
    "drogas_pivot_final_sorted = drogas_final_pivot.sort_values(by=['NRO_INT_OBJETO'])"
   ],
   "outputs": [],
   "metadata": {}
  },
  {
   "cell_type": "code",
<<<<<<< HEAD
   "execution_count": 22,
   "id": "9df0e5fa",
   "metadata": {},
   "outputs": [],
=======
   "execution_count": 169,
>>>>>>> 0decbb3632edb7b756c733e0bf0b872586f55bfc
   "source": [
    "#Concatenando as duas tabelas\r\n",
    "try_1_final = pd.concat([dg2_final_sorted, drogas_pivot_final_sorted],axis=1)"
   ],
   "outputs": [],
   "metadata": {}
  },
  {
   "cell_type": "code",
<<<<<<< HEAD
   "execution_count": 23,
   "id": "a2627c71",
   "metadata": {},
   "outputs": [],
=======
   "execution_count": 170,
>>>>>>> 0decbb3632edb7b756c733e0bf0b872586f55bfc
   "source": [
    "#Atribuindo a tabela resultado \"try_1\" com um index numérico\r\n",
    "resultado = try_1_final.reset_index()"
   ],
   "outputs": [],
   "metadata": {}
  },
  {
   "cell_type": "code",
<<<<<<< HEAD
   "execution_count": 24,
   "id": "8406329f",
   "metadata": {},
   "outputs": [],
=======
   "execution_count": 171,
>>>>>>> 0decbb3632edb7b756c733e0bf0b872586f55bfc
   "source": [
    "#Renomeando Coluans\r\n",
    "resultado = resultado.rename(columns={\"NRO_INT_OBJETO\": \"CHAVE_OBJETO\", \"TIPO_OBJETO\": \"TXT_TIPO_OBJETO\"})"
   ],
   "outputs": [],
   "metadata": {}
  },
  {
   "cell_type": "code",
<<<<<<< HEAD
   "execution_count": 25,
   "id": "460caff1",
   "metadata": {},
=======
   "execution_count": 172,
   "source": [
    "def ajusta_texto_numerico(texto):\r\n",
    "    return str(texto).replace('.', '').replace(',', '.')\r\n",
    "\r\n",
    "resultado['Peso Unitário'] = resultado['Peso Unitário'].apply(ajusta_texto_numerico)\r\n",
    "resultado['Peso Total'] = resultado['Peso Total'].apply(ajusta_texto_numerico)\r\n",
    "\r\n",
    "resultado['Peso Unitário'] = pd.to_numeric(resultado['Peso Unitário'], errors='coerce',downcast=\"float\").fillna(0).astype(float)\r\n",
    "resultado['Peso Total'] = pd.to_numeric(resultado['Peso Total'], errors='coerce',downcast=\"float\").fillna(0).astype(float)\r\n"
   ],
>>>>>>> 0decbb3632edb7b756c733e0bf0b872586f55bfc
   "outputs": [],
   "metadata": {}
  },
  {
   "cell_type": "code",
   "execution_count": 173,
   "source": [
<<<<<<< HEAD
    "def ajusta_texto_numerico(texto):\n",
    "    return str(texto).replace('.', '').replace(',', '.')\n",
    "\n",
    "resultado['Peso Unitário'] = resultado['Peso Unitário'].apply(ajusta_texto_numerico)\n",
    "resultado['Peso Total'] = resultado['Peso Total'].apply(ajusta_texto_numerico)\n",
    "\n",
    "resultado['Peso Unitário'] = pd.to_numeric(resultado['Peso Unitário'], errors='coerce',downcast=\"float\").fillna(0).astype(float)\n",
    "resultado['Peso Total'] = pd.to_numeric(resultado['Peso Total'], errors='coerce',downcast=\"float\").fillna(0).astype(float)\n"
   ]
  },
  {
   "cell_type": "code",
   "execution_count": 26,
   "id": "8f6d6722",
   "metadata": {},
   "outputs": [
    {
     "data": {
=======
    "resultado.loc[resultado['CHAVE_OBJETO'] == 20345920]"
   ],
   "outputs": [
    {
     "output_type": "execute_result",
     "data": {
      "text/plain": [
       "      CHAVE_OBJETO  ANO_OCOR  NRO_OCOR  NRO_INT_TIPO_OBJETO TXT_TIPO_OBJETO  \\\n",
       "1265      20345920      2018      9797                 1025          Drogas   \n",
       "\n",
       "              ATRIBUTO Cor Predominante  \\\n",
       "1265  Cor Predominante          Amarelo   \n",
       "\n",
       "                                        Descrição  Peso Total  Peso Unitário  \\\n",
       "1265  pequenas porções envoltas em saco plástico          4.4            4.4   \n",
       "\n",
       "     Quantidade de Unidade(s) Tipo de Embalagem Unidade de Peso  \n",
       "1265                       34        Porção(es)           Grama  "
      ],
>>>>>>> 0decbb3632edb7b756c733e0bf0b872586f55bfc
      "text/html": [
       "<div>\n",
       "<style scoped>\n",
       "    .dataframe tbody tr th:only-of-type {\n",
       "        vertical-align: middle;\n",
       "    }\n",
       "\n",
       "    .dataframe tbody tr th {\n",
       "        vertical-align: top;\n",
       "    }\n",
       "\n",
       "    .dataframe thead th {\n",
       "        text-align: right;\n",
       "    }\n",
       "</style>\n",
       "<table border=\"1\" class=\"dataframe\">\n",
       "  <thead>\n",
       "    <tr style=\"text-align: right;\">\n",
       "      <th></th>\n",
       "      <th>CHAVE_OBJETO</th>\n",
       "      <th>ANO_OCOR</th>\n",
       "      <th>NRO_OCOR</th>\n",
       "      <th>NRO_INT_TIPO_OBJETO</th>\n",
       "      <th>TXT_TIPO_OBJETO</th>\n",
       "      <th>ATRIBUTO</th>\n",
       "      <th>Cor Predominante</th>\n",
       "      <th>Descrição</th>\n",
       "      <th>Peso Total</th>\n",
       "      <th>Peso Unitário</th>\n",
       "      <th>Quantidade de Unidade(s)</th>\n",
       "      <th>Tipo de Embalagem</th>\n",
       "      <th>Unidade de Peso</th>\n",
       "    </tr>\n",
       "  </thead>\n",
       "  <tbody>\n",
       "    <tr>\n",
       "      <th>1265</th>\n",
       "      <td>20345920</td>\n",
       "      <td>2018</td>\n",
       "      <td>9797</td>\n",
       "      <td>1025</td>\n",
       "      <td>Drogas</td>\n",
       "      <td>Cor Predominante</td>\n",
       "      <td>Amarelo</td>\n",
       "      <td>pequenas porções envoltas em saco plástico</td>\n",
       "      <td>4.4</td>\n",
       "      <td>4.4</td>\n",
       "      <td>34</td>\n",
       "      <td>Porção(es)</td>\n",
       "      <td>Grama</td>\n",
       "    </tr>\n",
       "  </tbody>\n",
       "</table>\n",
       "</div>"
<<<<<<< HEAD
      ],
      "text/plain": [
       "      CHAVE_OBJETO  ANO_OCOR  NRO_OCOR  NRO_INT_TIPO_OBJETO TXT_TIPO_OBJETO  \\\n",
       "1265      20345920      2018      9797                 1025          Drogas   \n",
       "\n",
       "              ATRIBUTO Cor Predominante  \\\n",
       "1265  Cor Predominante          Amarelo   \n",
       "\n",
       "                                        Descrição  Peso Total  Peso Unitário  \\\n",
       "1265  pequenas porções envoltas em saco plástico          4.4            4.4   \n",
       "\n",
       "     Quantidade de Unidade(s) Tipo de Embalagem Unidade de Peso  \n",
       "1265                       34        Porção(es)           Grama  "
      ]
     },
     "execution_count": 26,
     "metadata": {},
     "output_type": "execute_result"
    }
   ],
   "source": [
    "resultado.loc[resultado['CHAVE_OBJETO'] == 20345920]"
   ]
  },
  {
   "cell_type": "markdown",
   "id": "6fd4396e",
   "metadata": {},
=======
      ]
     },
     "metadata": {},
     "execution_count": 173
    }
   ],
   "metadata": {}
  },
  {
   "cell_type": "markdown",
>>>>>>> 0decbb3632edb7b756c733e0bf0b872586f55bfc
   "source": [
    "# <h1><center>TIPO DE OBJETO</center></h1>"
   ],
   "metadata": {}
  },
  {
   "cell_type": "code",
<<<<<<< HEAD
   "execution_count": 27,
   "id": "822f54d7",
   "metadata": {},
=======
   "execution_count": 174,
   "source": [
    "#Criando DF cores a partir de frequência do tipo do Objeto\r\n",
    "cores = resultado['TXT_TIPO_OBJETO'].value_counts()\r\n",
    "cores = pd.DataFrame(cores)\r\n",
    "cores = cores.reset_index()\r\n",
    "cores = cores.T\r\n",
    "cores = cores.rename(columns={0:cores[0][0],1:cores[1][0],2:cores[2][0],3:cores[3][0]})\r\n",
    "cores = cores.iloc[1:]\r\n",
    "\r\n",
    "#Criando DF cores1 com as frequências\r\n",
    "cores1 = resultado['TXT_TIPO_OBJETO'].value_counts(normalize=True)\r\n",
    "cores1 = pd.DataFrame(cores1)\r\n",
    "cores1 = cores1.reset_index()\r\n",
    "cores1 = cores1.T\r\n",
    "cores1 = cores1.rename(columns={0:cores1[0][0],1:cores1[1][0],2:cores1[2][0],3:cores1[3][0][0]\r\n",
    "                             })\r\n",
    "#Concatenado DF para cores2\r\n",
    "lista = [cores,cores1]\r\n",
    "cores2 = pd.concat(lista)\r\n",
    "cores2 = cores2.reset_index(drop=True)\r\n",
    "cores2 = cores2.drop([1], axis = 0)\r\n",
    "cores2 = cores2.rename(index={0:'Quantidade', 2:\"Frequencias\"})\r\n",
    "#Atribuindo a coluna Crack também as frequências de C\r\n",
    "#Não foi atribuido também Quantidade pois retornava um valor NaN\r\n",
    "cores2['Crack']['Frequencias'] = cores2['C']['Frequencias']\r\n",
    "cores2 = cores2.drop(['C'], axis = 1)\r\n",
    "cores2"
   ],
>>>>>>> 0decbb3632edb7b756c733e0bf0b872586f55bfc
   "outputs": [
    {
     "output_type": "execute_result",
     "data": {
      "text/plain": [
       "             Maconha    Drogas   Cocaína     Crack\n",
       "Quantidade     41164     37528     20063     14476\n",
       "Frequencias  0.36354  0.331429  0.177186  0.127845"
      ],
      "text/html": [
       "<div>\n",
       "<style scoped>\n",
       "    .dataframe tbody tr th:only-of-type {\n",
       "        vertical-align: middle;\n",
       "    }\n",
       "\n",
       "    .dataframe tbody tr th {\n",
       "        vertical-align: top;\n",
       "    }\n",
       "\n",
       "    .dataframe thead th {\n",
       "        text-align: right;\n",
       "    }\n",
       "</style>\n",
       "<table border=\"1\" class=\"dataframe\">\n",
       "  <thead>\n",
       "    <tr style=\"text-align: right;\">\n",
       "      <th></th>\n",
       "      <th>Maconha</th>\n",
       "      <th>Drogas</th>\n",
       "      <th>Cocaína</th>\n",
       "      <th>Crack</th>\n",
       "    </tr>\n",
       "  </thead>\n",
       "  <tbody>\n",
       "    <tr>\n",
       "      <th>Quantidade</th>\n",
       "      <td>41164</td>\n",
       "      <td>37528</td>\n",
       "      <td>20063</td>\n",
       "      <td>14476</td>\n",
       "    </tr>\n",
       "    <tr>\n",
       "      <th>Frequencias</th>\n",
       "      <td>0.36354</td>\n",
       "      <td>0.331429</td>\n",
       "      <td>0.177186</td>\n",
       "      <td>0.127845</td>\n",
       "    </tr>\n",
       "  </tbody>\n",
       "</table>\n",
       "</div>"
      ]
     },
<<<<<<< HEAD
     "execution_count": 27,
=======
>>>>>>> 0decbb3632edb7b756c733e0bf0b872586f55bfc
     "metadata": {},
     "execution_count": 174
    }
   ],
   "metadata": {}
  },
  {
   "cell_type": "code",
<<<<<<< HEAD
   "execution_count": 28,
   "id": "34cf8179",
   "metadata": {},
=======
   "execution_count": 175,
   "source": [
    "#Plotando gráficos\r\n",
    "stores_df = resultado\r\n",
    "\r\n",
    "palette ={\"Maconha\": \"green\", \"Cocaína\": \"white\", \"Crack\": \"yellow\", \"Drogas\": \"blue\"}\r\n",
    "f, (ax3) = plt.subplots(1, 1, figsize=(14, 5))\r\n",
    "sns.set(font_scale=1.5)\r\n",
    "\r\n",
    "sns.countplot(x=\"TXT_TIPO_OBJETO\", data=stores_df, ax=ax3, palette= palette, alpha = 0.7, linewidth=2.5, edgecolor=\".0\")\r\n",
    "ax3.set_facecolor('#ababab')\r\n",
    "ax3.patch.set_alpha(0.3)\r\n",
    "ax3.set_xlabel(\"Tipo de Objeto\",fontsize=20)\r\n",
    "ax3.set_ylabel(\"Quantidade\",fontsize=20)\r\n",
    "ax3.set_xticklabels(ax3.get_xmajorticklabels(), fontsize = 15)\r\n",
    "plt.grid(axis='x')\r\n",
    "plt.tight_layout()\r\n",
    "plt.title('Tipo de Objeto')"
   ],
>>>>>>> 0decbb3632edb7b756c733e0bf0b872586f55bfc
   "outputs": [
    {
     "output_type": "execute_result",
     "data": {
      "text/plain": [
       "Text(0.5, 1.0, 'Tipo de Objeto')"
      ]
     },
<<<<<<< HEAD
     "execution_count": 28,
=======
>>>>>>> 0decbb3632edb7b756c733e0bf0b872586f55bfc
     "metadata": {},
     "execution_count": 175
    },
    {
     "output_type": "display_data",
     "data": {
<<<<<<< HEAD
      "image/png": "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\n",
      "text/plain": [
       "<Figure size 1008x360 with 1 Axes>"
      ]
     },
     "metadata": {},
     "output_type": "display_data"
=======
      "text/plain": [
       "<Figure size 1008x360 with 1 Axes>"
      ],
      "image/png": "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"
     },
     "metadata": {}
>>>>>>> 0decbb3632edb7b756c733e0bf0b872586f55bfc
    }
   ],
   "metadata": {}
  },
  {
   "cell_type": "code",
<<<<<<< HEAD
   "execution_count": 29,
   "id": "740e2449",
   "metadata": {},
   "outputs": [],
=======
   "execution_count": 176,
>>>>>>> 0decbb3632edb7b756c733e0bf0b872586f55bfc
   "source": [
    "#Definindo uma series Drogas\r\n",
    "#Como resultado do tipo de objeto de resultado = Drogas\r\n",
    "Drogas = resultado.loc[resultado['TXT_TIPO_OBJETO'] == 'Drogas']"
   ],
   "outputs": [],
   "metadata": {}
  },
  {
   "cell_type": "code",
<<<<<<< HEAD
   "execution_count": 30,
   "id": "89cfd369",
   "metadata": {},
=======
   "execution_count": 177,
   "source": [
    "import unidecode\r\n",
    "\r\n",
    "Drogas = resultado.loc[resultado['TXT_TIPO_OBJETO'] == 'Drogas']\r\n",
    "Outras = resultado.loc[resultado['TXT_TIPO_OBJETO'] != 'Drogas']\r\n",
    "Outras = Outras.reset_index(drop= True)\r\n",
    "\r\n",
    "#DF com descrição nula\r\n",
    "DrogasNA = Drogas.loc[Drogas['Descrição'].isnull()]\r\n",
    "DrogasNA = DrogasNA.reset_index(drop=True)\r\n",
    "\r\n",
    "#Excluindo descrição nula do DF Drogas\r\n",
    "Drogas = Drogas.loc[Drogas['Descrição'].notna()]\r\n",
    "Drogas = Drogas.reset_index(drop=True)\r\n",
    "\r\n",
    "#Excluindo virgulas e pontos\r\n",
    "x = 0\r\n",
    "while x < len(Drogas):\r\n",
    "    frase = Drogas['Descrição'][x]\r\n",
    "    frase = frase.replace(',','')\r\n",
    "    frase = frase.replace('.','')\r\n",
    "    frase = unidecode.unidecode(frase)\r\n",
    "    Drogas['Descrição'][x] = frase\r\n",
    "    x += 1\r\n",
    "    \r\n",
    "Drogas['Descrição'] = Drogas['Descrição'].str.lower()"
   ],
>>>>>>> 0decbb3632edb7b756c733e0bf0b872586f55bfc
   "outputs": [
    {
     "output_type": "stream",
     "name": "stderr",
     "text": [
<<<<<<< HEAD
      "C:\\Users\\giu_2\\AppData\\Local\\Temp/ipykernel_8600/1374628422.py:22: SettingWithCopyWarning: \n",
=======
      "C:\\Users\\CAESAR~1\\AppData\\Local\\Temp/ipykernel_20540/1374628422.py:22: SettingWithCopyWarning: \n",
>>>>>>> 0decbb3632edb7b756c733e0bf0b872586f55bfc
      "A value is trying to be set on a copy of a slice from a DataFrame\n",
      "\n",
      "See the caveats in the documentation: https://pandas.pydata.org/pandas-docs/stable/user_guide/indexing.html#returning-a-view-versus-a-copy\n",
      "  Drogas['Descrição'][x] = frase\n"
     ]
    }
   ],
   "metadata": {}
  },
  {
   "cell_type": "code",
<<<<<<< HEAD
   "execution_count": 31,
   "id": "1a5522eb",
   "metadata": {
    "scrolled": true
   },
   "outputs": [],
   "source": [
    "#Tratando ajustes de drogas\n",
    "def analizer(x):\n",
    "    \n",
    "    if 'maconha' in x:\n",
    "        return 'Maconha'\n",
    "    elif 'canabis' in x:\n",
    "        return 'Maconha'\n",
    "    elif 'cannabis' in x:\n",
    "        return 'Maconha'\n",
    "    elif 'crack' in x:\n",
    "        return 'Crack'\n",
    "    elif 'cocaina' in x:\n",
    "        return 'Cocaína'\n",
    "    else:\n",
    "        return 'Drogas'\n",
    "    \n",
=======
   "execution_count": 178,
   "source": [
    "#Tratando ajustes de drogas\r\n",
    "def analizer(x):\r\n",
    "    \r\n",
    "    if 'maconha' in x:\r\n",
    "        return 'Maconha'\r\n",
    "    elif 'canabis' in x:\r\n",
    "        return 'Maconha'\r\n",
    "    elif 'cannabis' in x:\r\n",
    "        return 'Maconha'\r\n",
    "    elif 'crack' in x:\r\n",
    "        return 'Crack'\r\n",
    "    elif 'cocaina' in x:\r\n",
    "        return 'Cocaína'\r\n",
    "    else:\r\n",
    "        return 'Drogas'\r\n",
    "    \r\n",
>>>>>>> 0decbb3632edb7b756c733e0bf0b872586f55bfc
    "Drogas['RECLASSIFICAÇÃO'] = Drogas['Descrição'].apply(analizer)"
   ],
   "outputs": [],
   "metadata": {
    "scrolled": true
   }
  },
  {
   "cell_type": "code",
<<<<<<< HEAD
   "execution_count": 32,
   "id": "2bb39667",
   "metadata": {},
   "outputs": [],
   "source": [
    "listaDrogas = [Drogas, DrogasNA]\n",
    "Drogas = pd.concat(listaDrogas)"
   ]
  },
  {
   "cell_type": "code",
   "execution_count": 33,
   "id": "8f7ee916",
   "metadata": {},
=======
   "execution_count": 179,
   "source": [
    "stores_df = Drogas\r\n",
    "\r\n",
    "palette ={\"Maconha\": \"green\", \"Cocaína\": \"white\", \"Crack\": \"yellow\", \"Drogas\": \"blue\"}\r\n",
    "f, (ax3) = plt.subplots(1, 1, figsize=(14, 5))\r\n",
    "sns.set(font_scale=1.5)\r\n",
    "\r\n",
    "sns.countplot(x=\"RECLASSIFICAÇÃO\", data=stores_df, ax=ax3, palette= palette, alpha = 0.7, linewidth=2.5, edgecolor=\".0\")\r\n",
    "ax3.set_facecolor('#ababab')\r\n",
    "ax3.patch.set_alpha(0.3)\r\n",
    "ax3.set_xlabel(\"Tipo de Objeto\",fontsize=20)\r\n",
    "ax3.set_ylabel(\"Quantidade\",fontsize=20)\r\n",
    "ax3.set_xticklabels(ax3.get_xmajorticklabels(), fontsize = 15)\r\n",
    "\r\n",
    "plt.grid(axis='x')\r\n",
    "plt.tight_layout()\r\n",
    "plt.title('Tipo de Objeto')"
   ],
>>>>>>> 0decbb3632edb7b756c733e0bf0b872586f55bfc
   "outputs": [
    {
     "output_type": "execute_result",
     "data": {
      "text/plain": [
       "Text(0.5, 1.0, 'Tipo de Objeto')"
      ]
     },
<<<<<<< HEAD
     "execution_count": 33,
=======
>>>>>>> 0decbb3632edb7b756c733e0bf0b872586f55bfc
     "metadata": {},
     "execution_count": 179
    },
    {
     "output_type": "display_data",
     "data": {
      "text/plain": [
       "<Figure size 1008x360 with 1 Axes>"
      ],
      "image/png": "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"
     },
     "metadata": {}
    }
   ],
   "metadata": {}
  },
  {
   "cell_type": "code",
<<<<<<< HEAD
   "execution_count": 34,
   "id": "dde9f450",
   "metadata": {},
=======
   "execution_count": 180,
   "source": [
    "#DF cores com as drogas\r\n",
    "cores = Drogas['RECLASSIFICAÇÃO'].value_counts()\r\n",
    "cores = pd.DataFrame(cores)\r\n",
    "cores = cores.reset_index()\r\n",
    "cores = cores.T\r\n",
    "cores = cores.rename(columns={0:cores[0][0],1:cores[1][0],2:cores[2][0],3:cores[3][0]})\r\n",
    "cores = cores.iloc[1:]\r\n",
    "\r\n",
    "#Frequência das drogas\r\n",
    "cores1 = Drogas['RECLASSIFICAÇÃO'].value_counts(normalize=True)\r\n",
    "cores1 = pd.DataFrame(cores1)\r\n",
    "cores1 = cores1.reset_index()\r\n",
    "cores1 = cores1.T\r\n",
    "cores1 = cores1.rename(columns={0:cores1[0][0],1:cores1[1][0],2:cores1[2][0],3:cores1[3][0][0]\r\n",
    "                             })\r\n",
    "#Concatenando DF\r\n",
    "lista = [cores,cores1]\r\n",
    "cores2 = pd.concat(lista)\r\n",
    "cores2 = cores2.reset_index(drop=True)\r\n",
    "cores2 = cores2.drop([1], axis = 0)\r\n",
    "cores2 = cores2.rename(index={0:'Quantidade', 2:\"Frequencia\"})\r\n",
    "cores2['Drogas']['Frequencia'] = cores2['D']['Frequencia']\r\n",
    "cores2 = cores2.drop(['D'], axis = 1)\r\n",
    "cores2"
   ],
>>>>>>> 0decbb3632edb7b756c733e0bf0b872586f55bfc
   "outputs": [
    {
     "output_type": "execute_result",
     "data": {
      "text/plain": [
       "             Maconha   Cocaína     Crack    Drogas\n",
       "Quantidade     17710      7999      5806      3999\n",
       "Frequencia  0.498677  0.225235  0.163485  0.112603"
      ],
      "text/html": [
       "<div>\n",
       "<style scoped>\n",
       "    .dataframe tbody tr th:only-of-type {\n",
       "        vertical-align: middle;\n",
       "    }\n",
       "\n",
       "    .dataframe tbody tr th {\n",
       "        vertical-align: top;\n",
       "    }\n",
       "\n",
       "    .dataframe thead th {\n",
       "        text-align: right;\n",
       "    }\n",
       "</style>\n",
       "<table border=\"1\" class=\"dataframe\">\n",
       "  <thead>\n",
       "    <tr style=\"text-align: right;\">\n",
       "      <th></th>\n",
       "      <th>Maconha</th>\n",
       "      <th>Cocaína</th>\n",
       "      <th>Crack</th>\n",
       "      <th>Drogas</th>\n",
       "    </tr>\n",
       "  </thead>\n",
       "  <tbody>\n",
       "    <tr>\n",
       "      <th>Quantidade</th>\n",
       "      <td>17710</td>\n",
       "      <td>7999</td>\n",
       "      <td>5806</td>\n",
       "      <td>3999</td>\n",
       "    </tr>\n",
       "    <tr>\n",
       "      <th>Frequencia</th>\n",
       "      <td>0.498677</td>\n",
       "      <td>0.225235</td>\n",
       "      <td>0.163485</td>\n",
       "      <td>0.112603</td>\n",
       "    </tr>\n",
       "  </tbody>\n",
       "</table>\n",
       "</div>"
      ]
     },
<<<<<<< HEAD
     "execution_count": 34,
=======
>>>>>>> 0decbb3632edb7b756c733e0bf0b872586f55bfc
     "metadata": {},
     "execution_count": 180
    }
   ],
   "metadata": {}
  },
  {
   "cell_type": "code",
<<<<<<< HEAD
   "execution_count": 35,
   "id": "3c7cbd63",
   "metadata": {},
   "outputs": [],
=======
   "execution_count": 181,
>>>>>>> 0decbb3632edb7b756c733e0bf0b872586f55bfc
   "source": [
    "resultado_final = pd.concat([Drogas, Outras])"
   ],
   "outputs": [],
   "metadata": {}
  },
  {
   "cell_type": "code",
<<<<<<< HEAD
   "execution_count": 36,
   "id": "7ae79591",
   "metadata": {},
   "outputs": [],
=======
   "execution_count": 182,
>>>>>>> 0decbb3632edb7b756c733e0bf0b872586f55bfc
   "source": [
    "resultado_final['RECLASSIFICAÇÃO'] = resultado_final['RECLASSIFICAÇÃO'].fillna(value=resultado_final.TXT_TIPO_OBJETO)"
   ],
   "outputs": [],
   "metadata": {}
  },
  {
   "cell_type": "code",
<<<<<<< HEAD
   "execution_count": 37,
   "id": "c492ba49",
   "metadata": {},
   "outputs": [],
   "source": [
    "resultado_final = resultado_final.set_index('CHAVE_OBJETO')"
   ]
  },
  {
   "cell_type": "code",
   "execution_count": 38,
   "id": "b76c6c69",
   "metadata": {},
=======
   "execution_count": 183,
   "source": [
    "resultado_final = resultado_final.set_index('CHAVE_OBJETO')"
   ],
   "outputs": [],
   "metadata": {
    "collapsed": true
   }
  },
  {
   "cell_type": "code",
   "execution_count": 184,
   "source": [
    "resultado_final.loc[20345920]"
   ],
>>>>>>> 0decbb3632edb7b756c733e0bf0b872586f55bfc
   "outputs": [
    {
     "output_type": "execute_result",
     "data": {
      "text/plain": [
       "ANO_OCOR                                                           2018\n",
       "NRO_OCOR                                                           9797\n",
       "NRO_INT_TIPO_OBJETO                                                1025\n",
       "TXT_TIPO_OBJETO                                                  Drogas\n",
       "ATRIBUTO                                               Cor Predominante\n",
       "Cor Predominante                                                Amarelo\n",
       "Descrição                   pequenas porcoes envoltas em saco plastico \n",
       "Peso Total                                                          4.4\n",
       "Peso Unitário                                                       4.4\n",
       "Quantidade de Unidade(s)                                             34\n",
       "Tipo de Embalagem                                            Porção(es)\n",
       "Unidade de Peso                                                   Grama\n",
       "RECLASSIFICAÇÃO                                                  Drogas\n",
       "Name: 20345920, dtype: object"
      ]
     },
<<<<<<< HEAD
     "execution_count": 38,
=======
>>>>>>> 0decbb3632edb7b756c733e0bf0b872586f55bfc
     "metadata": {},
     "execution_count": 184
    }
   ],
<<<<<<< HEAD
   "source": [
    "resultado_final.loc[20345920]"
   ]
  },
  {
   "cell_type": "code",
   "execution_count": 39,
   "id": "1c6db7ce",
   "metadata": {},
   "outputs": [],
   "source": [
    "analizes = Drogas.loc[Drogas['RECLASSIFICAÇÃO'] == 'Drogas']"
   ]
  },
  {
   "cell_type": "code",
   "execution_count": 40,
   "id": "5cb9a388",
   "metadata": {},
   "outputs": [],
   "source": [
    "analizes_export = analizes[['CHAVE_OBJETO','Cor Predominante','Descrição','Peso Total','Peso Unitário','Tipo de Embalagem','RECLASSIFICAÇÃO']]\n",
    "analizes_export = analizes_export.set_index('CHAVE_OBJETO')"
   ]
  },
  {
   "cell_type": "code",
   "execution_count": 41,
   "id": "10616593",
   "metadata": {},
   "outputs": [],
   "source": [
    "analizes_export.to_csv('Dados/Analize_Reclassificacao_Igual_A_Drogas_OK.csv', sep=';', decimal=\",\", float_format='%.2f', quoting=csv.QUOTE_NONNUMERIC, encoding=\"cp1252\")"
   ]
  },
  {
   "cell_type": "code",
   "execution_count": 42,
   "id": "50a513e4",
   "metadata": {},
   "outputs": [],
   "source": [
    "resultado_final.to_csv('Dados/Drogas_Reclassificadas_completa_OK.csv', sep=';', decimal=\",\", float_format='%.2f', quoting=csv.QUOTE_NONNUMERIC, encoding=\"cp1252\")"
   ]
  },
  {
   "cell_type": "code",
   "execution_count": null,
   "id": "9a890d71",
   "metadata": {},
   "outputs": [],
   "source": []
=======
   "metadata": {}
  },
  {
   "cell_type": "code",
   "execution_count": 185,
   "source": [
    "analizes = Drogas.loc[Drogas['RECLASSIFICAÇÃO'] == 'Drogas']"
   ],
   "outputs": [],
   "metadata": {}
  },
  {
   "cell_type": "code",
   "execution_count": 186,
   "source": [
    "analizes_export = analizes[['CHAVE_OBJETO','Cor Predominante','Descrição','Peso Total','Peso Unitário','Tipo de Embalagem','RECLASSIFICAÇÃO']]\r\n",
    "analizes_export = analizes_export.set_index('CHAVE_OBJETO')"
   ],
   "outputs": [],
   "metadata": {}
  },
  {
   "cell_type": "code",
   "execution_count": 189,
   "source": [
    "analizes_export.to_csv('Dados/Analize_Reclassificacao_Igual_A_Drogas_OK.csv', sep=';', decimal=\",\", float_format='%.2f', quoting=csv.QUOTE_NONNUMERIC, encoding=\"cp1252\")"
   ],
   "outputs": [],
   "metadata": {}
  },
  {
   "cell_type": "code",
   "execution_count": 190,
   "source": [
    "resultado_final.to_csv('Dados/Drogas_Reclassificadas_completa_OK.csv', sep=';', decimal=\",\", float_format='%.2f', quoting=csv.QUOTE_NONNUMERIC, encoding=\"cp1252\")"
   ],
   "outputs": [],
   "metadata": {}
>>>>>>> 0decbb3632edb7b756c733e0bf0b872586f55bfc
  }
 ],
 "metadata": {
  "interpreter": {
   "hash": "9b9dc834f7e10f1366f4d9e5678a46b36a3e7c6702ac3d269ba7dc2d92aa0498"
  },
  "kernelspec": {
<<<<<<< HEAD
   "display_name": "Python 3 (ipykernel)",
   "language": "python",
   "name": "python3"
=======
   "name": "python3",
   "display_name": "Python 3.8.10 64-bit ('venv': venv)"
>>>>>>> 0decbb3632edb7b756c733e0bf0b872586f55bfc
  },
  "language_info": {
   "codemirror_mode": {
    "name": "ipython",
    "version": 3
   },
   "file_extension": ".py",
   "mimetype": "text/x-python",
   "name": "python",
   "nbconvert_exporter": "python",
   "pygments_lexer": "ipython3",
   "version": "3.8.10"
  }
 },
 "nbformat": 4,
 "nbformat_minor": 5
}