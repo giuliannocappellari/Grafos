{
 "cells": [
  {
   "cell_type": "code",
   "execution_count": 8,
   "id": "c7ea1be7",
   "metadata": {},
   "outputs": [],
   "source": [
    "import spacy\n",
    "import pandas as pd\n",
    "import json"
   ]
  },
  {
   "cell_type": "code",
   "execution_count": 9,
   "id": "c7fc5abe",
   "metadata": {},
   "outputs": [],
   "source": [
    "df = pd.read_csv(\"Data/resultado_drogas.csv\", encoding = 'latin-1', sep = ';', index_col=0)\n",
    "df_not_nan = df[df['Descrição'].notna()]\n",
    "df_sem_duplicados = df_not_nan.drop_duplicates()"
   ]
  },
  {
   "cell_type": "code",
   "execution_count": 37,
   "id": "da568def",
   "metadata": {},
   "outputs": [
    {
     "name": "stdout",
     "output_type": "stream",
     "text": [
      "02 pinos de substancia semelhante a maconha\n",
      "3 tjolos de maconha pesando aproximadamente 135 gramas\n",
      "76 buchas de pó branco com características de maconha pesando aproximadamente 81 gramas com invólucro\n",
      "02 porções de maconha, com embalagem, pesando o total de 100 gramas\n",
      "Duas buchas contendo uma substância semelhante a maconha cocaína \n",
      "2 porções de maconha embaladas em plástico transparente e 2 em plástico preto\n",
      "aproximadamente 2 gramas substancia maconha\n",
      "1 porção de substância semelhante a maconha, pesando aprox. 0,5 gr com embalagem\n",
      "03 porções de maconha pesando aproximadamente 1G\n",
      "Torrõezinhos de substâncias semelhantes a maconha com peso aproximado\n",
      "14 porções de maconha pesando aproximadamente 10 gramas no total com embalagem\n",
      "23(vinte e três) pinos de substância branca com característica de maconha\n",
      "58 pinos contendo pó branco semelhante a maconha, peso 56 g\n",
      "1 pino contendo pó branco semelhante a maconha, peso 1 g\n",
      "Substancia com característica de maconha\n",
      "1 pino de plástico transparente com po branco característicos a maconha.\n",
      "05 (cinco) porções de subst. com caract. de maconha, com peso aproximado de 5 gramas. Peso com embalagem.\n",
      "Um invólucro contendo substância com características de maconha, pesando 0,6g\n",
      "uma porção de maconha pesando com invólucro aproximadamente cinquenta gramas\n",
      "2,58g  de substância semelhante a maconha\n",
      "13 gramas de cocaína misturada com maconha e moedas \n",
      "duas porçoes de maconha pesando ao todo 1 grama\n",
      "0,5 gramas de substância semelhante a maconha\n",
      "quatro porçoes de maconha pesando no total aproximadamente 3,20gramas\n",
      "196 buchas de maconha, peso com embalagem\n",
      "seis tijolos e uma porção de maconha pesando, aproximadamente, seis quilos e quatrocentas gramas\n",
      "01 buchinha de maconha pesando 0,90 gramas aproximadamente\n",
      "104 gramas de substãncia semelhante a maconha\n",
      "113 buchas de maconha, pesando 76 gramas no total, com os plasticos.\n",
      "dezoito quilos duzentos e quarenta e cinco gramas de maconha (aprox.)\n",
      "1 Porção de substância semelhante a maconha\n",
      "20,00 gramas aprox. de maconha, referente ao BO 9535/19/100311\n",
      "1 tijolo de maconha pesando aproximadamente 1047 gramas\n",
      "1 (um) tijolo de maconha pesando aproximadamente 1037 gramas\n",
      "1 (um) tijolo de maconha pesando aproximadante 1052 gramas\n",
      "1 (um) tijolo de maconha pesando aproximadante 1019 gramas\n",
      "1 (um ) tijolo de maconha pesando aproximadamente 1033 gramas\n",
      "04 buchas grande e 01 bucha pequena de substância com caracteristica de maconha pesando aprox. no total 40 gramas com embalagem\n",
      "três tabletes de maconha pesando 78,7g\n",
      "uma pequena quantidade de substancia com caracteristicas a maconha mas que nao apresentou peso na balaçna\n",
      "Três gramas de maconha divididos em 11 porções\n",
      "substancia caracretistica de maconha\n",
      "substância semelhante à maconha\n",
      "96 pinos de maconha com peso total de 85g\n",
      "Aproximadamente 9 gramas de substância semelhante a maconha\n"
     ]
    }
   ],
   "source": [
    "for desc in df_sem_duplicados.loc[df_sem_duplicados['RECLASSIFICAÇÃO'] == 'Cocaína'].Descrição:\n",
    "    if any(item in desc for item in ['maconha','canabis','cannabis']):\n",
    "        print(desc)\n",
    "    # uma porção de substância com carac. de maconha\n",
    "    # uma pequena porção de erva de cor esverdeada semelhante a Maconha"
   ]
  },
  {
   "cell_type": "code",
   "execution_count": 16,
   "id": "ea8bf9d6",
   "metadata": {},
   "outputs": [],
   "source": [
    "         #  |0 a 9    |  10 a 19 |  20 a 29| 30 a 39|40 a 49 | 50 a 59  |60 a 69  |70 a 79  |80 a 89\n",
    "           #012345678901234567890123456789012345678901234567890123456789012345678901234567890123456789013\n",
    "corpus = [['1 cigarro de macionha', {'entities': [(13, 21, 'Maconha')]}],\n",
    "          ['14 BUCHAS PESANDO 2 GRAMAS NO TOTAL DE CARCK', {'entities': [(39, 44, 'Crack')]}],\n",
    "          ['Um cigarro com substância similar a macoinha, obtendo pesagem de', {'entities': [(36, 44, 'Maconha')]}],\n",
    "          ['uma pequena quantidade de uma erva esverdeada com caracteristicas de macocnha', {'entities': [(69, 77, 'Maconha')]}],\n",
    "          ['16 pacotes de machonha já embalados para o consumo', {'entities': [(14, 22, 'Maconha')]}],\n",
    "          ['uma porçao de substancia semelhante a maoconha.', {'entities': [(38, 46, 'Maconha')]}],\n",
    "          ['BUCHA DE SUBSTÂNCIA COM CARACTERÍSTICA DE CAOCAÍNA', {'entities': [(42, 50, 'Cocaína')]}],\n",
    "          ['Pó de cor branca que assemelha-se a cocaíca.', {'entities': [(36, 43, 'Cocaína')]}],\n",
    "          ['um tijolo com característica de caína, pesando aprox. 226,80gr com embalgem', {'entities': [(32, 37, 'Cocaína')]}],\n",
    "          ['02 porções (01pino e 01 bucha) de substância semelhante à cocaíca', {'entities': [(58, 65, 'Cocaína')]}],\n",
    "          ['01 MTIJOLO DE NACONHA PESANDO 0,24g', {'entities': [(14, 21, 'Maconha')]}],\n",
    "          ['1 cigarro artesanal de macona e 1 Bituca', {'entities': [(23, 29, 'Maconha')]}],\n",
    "          ['1 FRASCO DE EPPENDORF CONTENDO SUBSTÂNCIA BRANCA COM CARACTERISTICAS SEMELHANTE A COCAÍANA', {'entities': [(82, 90, 'Cocaína')]}],\n",
    "          ['01 saquinho zipado contendo uma porção fracionada de pó branco simalar a cocína', {'entities': [(73, 79, 'Cocaína')]}],\n",
    "          ['4 porções de subst c carct de crck, pesando o total aprox de 181gr c embalagem', {'entities': [(30, 34, 'Cocaína')]}],\n",
    "          [\"Duas pequenas 'buchas' de pó branco semelhante a COCAÍCA pesando menos de 1g\", {'entities': [(49, 56, 'Cocaína')]}],\n",
    "          ['uma porçao de substancia semelhante a maoconha.', {'entities': [(38, 46, 'Maconha')]}],\n",
    "          ['uma porção de substância com carac. de maconha', {'entities': [(23, 31,'Maconha')]}],\n",
    "          ['uma pequena porção de erva de cor esverdeada semelhante a Maconha', {'entities': [(23, 31,'Maconha')]}],\n",
    "          ['46 Petecas de Crack pesando aproximadamente 6g com invólucro', {'entities': [(23, 31,'Maconha')]}],\n",
    "          ['13 PEDRAS DE CRACK', {'entities': [(23, 31,'Maconha')]}],\n",
    "          ['SUBSTÂNCIA SEMELHANTE A COCAINA, PESO TOTAL COM INVÓLUCRO', {'entities': [(23, 31,'Maconha')]}],\n",
    "          ['pequena quantidade de semente de cannabis/pequena caixa azul', {'entities': [(23, 31,'Maconha')]}],\n",
    "          ['uma porção de substancia com aparencia de canabis sativa', {'entities': [(23, 31,'Maconha')]}],\n",
    "          ['5 pedras de crak em poder de Paul Lentz Burkiewicz', {'entities': [(23, 31,'Maconha')]}],\n",
    "          ['vinte e uma pedras de crak, pesando aproximadamente em sua totalidade 3,70 gramas', {'entities': [(23, 31,'Maconha')]}],\n",
    "          ['29 BUCHAS DE COCAÍNA', {'entities': [(23, 31,'Maconha')]}]]"
   ]
  },
  {
   "cell_type": "code",
   "execution_count": 15,
   "id": "0d44b352",
   "metadata": {},
   "outputs": [
    {
     "data": {
      "text/plain": [
       "'macionha'"
      ]
     },
     "execution_count": 15,
     "metadata": {},
     "output_type": "execute_result"
    }
   ],
   "source": []
  },
  {
   "cell_type": "code",
   "execution_count": null,
   "id": "1a0169f8",
   "metadata": {},
   "outputs": [],
   "source": []
  }
 ],
 "metadata": {
  "kernelspec": {
   "display_name": "machine_learning",
   "language": "python",
   "name": "machine_learning"
  },
  "language_info": {
   "codemirror_mode": {
    "name": "ipython",
    "version": 3
   },
   "file_extension": ".py",
   "mimetype": "text/x-python",
   "name": "python",
   "nbconvert_exporter": "python",
   "pygments_lexer": "ipython3",
   "version": "3.9.7"
  }
 },
 "nbformat": 4,
 "nbformat_minor": 5
}
