{
 "cells": [
  {
   "cell_type": "code",
   "execution_count": 1,
   "id": "28b7207f",
   "metadata": {},
   "outputs": [],
   "source": [
    "import numpy as np\n",
    "import pandas as pd\n",
    "import matplotlib.pyplot as plt\n",
    "pd.set_option('display.max_rows', 1000)\n",
    "import seaborn as sns\n",
    "import unidecode"
   ]
  },
  {
   "cell_type": "code",
   "execution_count": 2,
   "id": "7c0f42c2",
   "metadata": {},
   "outputs": [
    {
     "ename": "FileNotFoundError",
     "evalue": "[Errno 2] No such file or directory: 'Dados/GESEG_SBX_DROGA_EXPORT.csv'",
     "output_type": "error",
     "traceback": [
      "\u001b[1;31m---------------------------------------------------------------------------\u001b[0m",
      "\u001b[1;31mFileNotFoundError\u001b[0m                         Traceback (most recent call last)",
      "\u001b[1;32m~\\AppData\\Local\\Temp/ipykernel_17472/3762995006.py\u001b[0m in \u001b[0;36m<module>\u001b[1;34m\u001b[0m\n\u001b[0;32m      1\u001b[0m \u001b[1;31m#Lendo dados\u001b[0m\u001b[1;33m\u001b[0m\u001b[1;33m\u001b[0m\u001b[1;33m\u001b[0m\u001b[0m\n\u001b[1;32m----> 2\u001b[1;33m \u001b[0mdrogas_final\u001b[0m \u001b[1;33m=\u001b[0m \u001b[0mpd\u001b[0m\u001b[1;33m.\u001b[0m\u001b[0mread_csv\u001b[0m\u001b[1;33m(\u001b[0m\u001b[1;34m'Dados/GESEG_SBX_DROGA_EXPORT.csv'\u001b[0m\u001b[1;33m,\u001b[0m \u001b[0mencoding\u001b[0m \u001b[1;33m=\u001b[0m \u001b[1;34m'latin-1'\u001b[0m\u001b[1;33m,\u001b[0m \u001b[0msep\u001b[0m \u001b[1;33m=\u001b[0m \u001b[1;34m';'\u001b[0m\u001b[1;33m,\u001b[0m \u001b[0mindex_col\u001b[0m\u001b[1;33m=\u001b[0m\u001b[1;36m0\u001b[0m\u001b[1;33m)\u001b[0m\u001b[1;33m\u001b[0m\u001b[1;33m\u001b[0m\u001b[0m\n\u001b[0m\u001b[0;32m      3\u001b[0m \u001b[1;31m#Pivotando valor \"QUANTIDADE\" da coluna \"ATRIBUTOS\" com o mesmo \"NRO_INT_OBJETO\"\u001b[0m\u001b[1;33m\u001b[0m\u001b[1;33m\u001b[0m\u001b[1;33m\u001b[0m\u001b[0m\n\u001b[0;32m      4\u001b[0m \u001b[0mdrogas_final_pivot\u001b[0m \u001b[1;33m=\u001b[0m \u001b[0mdrogas_final\u001b[0m\u001b[1;33m.\u001b[0m\u001b[0mpivot\u001b[0m\u001b[1;33m(\u001b[0m\u001b[0mindex\u001b[0m\u001b[1;33m=\u001b[0m\u001b[1;34m\"NRO_INT_OBJETO\"\u001b[0m\u001b[1;33m,\u001b[0m \u001b[0mcolumns\u001b[0m\u001b[1;33m=\u001b[0m\u001b[1;34m\"ATRIBUTO\"\u001b[0m\u001b[1;33m,\u001b[0m \u001b[0mvalues\u001b[0m\u001b[1;33m=\u001b[0m\u001b[1;34m\"QUANTIDADE\"\u001b[0m\u001b[1;33m)\u001b[0m\u001b[1;33m\u001b[0m\u001b[1;33m\u001b[0m\u001b[0m\n\u001b[0;32m      5\u001b[0m \u001b[1;31m#Agrupando dados com o mesmo \"K93_NRO_INT_OBJETO\"\u001b[0m\u001b[1;33m\u001b[0m\u001b[1;33m\u001b[0m\u001b[1;33m\u001b[0m\u001b[0m\n",
      "\u001b[1;32m~\\Anaconda3\\envs\\projeto_drogas\\lib\\site-packages\\pandas\\util\\_decorators.py\u001b[0m in \u001b[0;36mwrapper\u001b[1;34m(*args, **kwargs)\u001b[0m\n\u001b[0;32m    309\u001b[0m                     \u001b[0mstacklevel\u001b[0m\u001b[1;33m=\u001b[0m\u001b[0mstacklevel\u001b[0m\u001b[1;33m,\u001b[0m\u001b[1;33m\u001b[0m\u001b[1;33m\u001b[0m\u001b[0m\n\u001b[0;32m    310\u001b[0m                 )\n\u001b[1;32m--> 311\u001b[1;33m             \u001b[1;32mreturn\u001b[0m \u001b[0mfunc\u001b[0m\u001b[1;33m(\u001b[0m\u001b[1;33m*\u001b[0m\u001b[0margs\u001b[0m\u001b[1;33m,\u001b[0m \u001b[1;33m**\u001b[0m\u001b[0mkwargs\u001b[0m\u001b[1;33m)\u001b[0m\u001b[1;33m\u001b[0m\u001b[1;33m\u001b[0m\u001b[0m\n\u001b[0m\u001b[0;32m    312\u001b[0m \u001b[1;33m\u001b[0m\u001b[0m\n\u001b[0;32m    313\u001b[0m         \u001b[1;32mreturn\u001b[0m \u001b[0mwrapper\u001b[0m\u001b[1;33m\u001b[0m\u001b[1;33m\u001b[0m\u001b[0m\n",
      "\u001b[1;32m~\\Anaconda3\\envs\\projeto_drogas\\lib\\site-packages\\pandas\\io\\parsers\\readers.py\u001b[0m in \u001b[0;36mread_csv\u001b[1;34m(filepath_or_buffer, sep, delimiter, header, names, index_col, usecols, squeeze, prefix, mangle_dupe_cols, dtype, engine, converters, true_values, false_values, skipinitialspace, skiprows, skipfooter, nrows, na_values, keep_default_na, na_filter, verbose, skip_blank_lines, parse_dates, infer_datetime_format, keep_date_col, date_parser, dayfirst, cache_dates, iterator, chunksize, compression, thousands, decimal, lineterminator, quotechar, quoting, doublequote, escapechar, comment, encoding, encoding_errors, dialect, error_bad_lines, warn_bad_lines, on_bad_lines, delim_whitespace, low_memory, memory_map, float_precision, storage_options)\u001b[0m\n\u001b[0;32m    584\u001b[0m     \u001b[0mkwds\u001b[0m\u001b[1;33m.\u001b[0m\u001b[0mupdate\u001b[0m\u001b[1;33m(\u001b[0m\u001b[0mkwds_defaults\u001b[0m\u001b[1;33m)\u001b[0m\u001b[1;33m\u001b[0m\u001b[1;33m\u001b[0m\u001b[0m\n\u001b[0;32m    585\u001b[0m \u001b[1;33m\u001b[0m\u001b[0m\n\u001b[1;32m--> 586\u001b[1;33m     \u001b[1;32mreturn\u001b[0m \u001b[0m_read\u001b[0m\u001b[1;33m(\u001b[0m\u001b[0mfilepath_or_buffer\u001b[0m\u001b[1;33m,\u001b[0m \u001b[0mkwds\u001b[0m\u001b[1;33m)\u001b[0m\u001b[1;33m\u001b[0m\u001b[1;33m\u001b[0m\u001b[0m\n\u001b[0m\u001b[0;32m    587\u001b[0m \u001b[1;33m\u001b[0m\u001b[0m\n\u001b[0;32m    588\u001b[0m \u001b[1;33m\u001b[0m\u001b[0m\n",
      "\u001b[1;32m~\\Anaconda3\\envs\\projeto_drogas\\lib\\site-packages\\pandas\\io\\parsers\\readers.py\u001b[0m in \u001b[0;36m_read\u001b[1;34m(filepath_or_buffer, kwds)\u001b[0m\n\u001b[0;32m    480\u001b[0m \u001b[1;33m\u001b[0m\u001b[0m\n\u001b[0;32m    481\u001b[0m     \u001b[1;31m# Create the parser.\u001b[0m\u001b[1;33m\u001b[0m\u001b[1;33m\u001b[0m\u001b[1;33m\u001b[0m\u001b[0m\n\u001b[1;32m--> 482\u001b[1;33m     \u001b[0mparser\u001b[0m \u001b[1;33m=\u001b[0m \u001b[0mTextFileReader\u001b[0m\u001b[1;33m(\u001b[0m\u001b[0mfilepath_or_buffer\u001b[0m\u001b[1;33m,\u001b[0m \u001b[1;33m**\u001b[0m\u001b[0mkwds\u001b[0m\u001b[1;33m)\u001b[0m\u001b[1;33m\u001b[0m\u001b[1;33m\u001b[0m\u001b[0m\n\u001b[0m\u001b[0;32m    483\u001b[0m \u001b[1;33m\u001b[0m\u001b[0m\n\u001b[0;32m    484\u001b[0m     \u001b[1;32mif\u001b[0m \u001b[0mchunksize\u001b[0m \u001b[1;32mor\u001b[0m \u001b[0miterator\u001b[0m\u001b[1;33m:\u001b[0m\u001b[1;33m\u001b[0m\u001b[1;33m\u001b[0m\u001b[0m\n",
      "\u001b[1;32m~\\Anaconda3\\envs\\projeto_drogas\\lib\\site-packages\\pandas\\io\\parsers\\readers.py\u001b[0m in \u001b[0;36m__init__\u001b[1;34m(self, f, engine, **kwds)\u001b[0m\n\u001b[0;32m    809\u001b[0m             \u001b[0mself\u001b[0m\u001b[1;33m.\u001b[0m\u001b[0moptions\u001b[0m\u001b[1;33m[\u001b[0m\u001b[1;34m\"has_index_names\"\u001b[0m\u001b[1;33m]\u001b[0m \u001b[1;33m=\u001b[0m \u001b[0mkwds\u001b[0m\u001b[1;33m[\u001b[0m\u001b[1;34m\"has_index_names\"\u001b[0m\u001b[1;33m]\u001b[0m\u001b[1;33m\u001b[0m\u001b[1;33m\u001b[0m\u001b[0m\n\u001b[0;32m    810\u001b[0m \u001b[1;33m\u001b[0m\u001b[0m\n\u001b[1;32m--> 811\u001b[1;33m         \u001b[0mself\u001b[0m\u001b[1;33m.\u001b[0m\u001b[0m_engine\u001b[0m \u001b[1;33m=\u001b[0m \u001b[0mself\u001b[0m\u001b[1;33m.\u001b[0m\u001b[0m_make_engine\u001b[0m\u001b[1;33m(\u001b[0m\u001b[0mself\u001b[0m\u001b[1;33m.\u001b[0m\u001b[0mengine\u001b[0m\u001b[1;33m)\u001b[0m\u001b[1;33m\u001b[0m\u001b[1;33m\u001b[0m\u001b[0m\n\u001b[0m\u001b[0;32m    812\u001b[0m \u001b[1;33m\u001b[0m\u001b[0m\n\u001b[0;32m    813\u001b[0m     \u001b[1;32mdef\u001b[0m \u001b[0mclose\u001b[0m\u001b[1;33m(\u001b[0m\u001b[0mself\u001b[0m\u001b[1;33m)\u001b[0m\u001b[1;33m:\u001b[0m\u001b[1;33m\u001b[0m\u001b[1;33m\u001b[0m\u001b[0m\n",
      "\u001b[1;32m~\\Anaconda3\\envs\\projeto_drogas\\lib\\site-packages\\pandas\\io\\parsers\\readers.py\u001b[0m in \u001b[0;36m_make_engine\u001b[1;34m(self, engine)\u001b[0m\n\u001b[0;32m   1038\u001b[0m             )\n\u001b[0;32m   1039\u001b[0m         \u001b[1;31m# error: Too many arguments for \"ParserBase\"\u001b[0m\u001b[1;33m\u001b[0m\u001b[1;33m\u001b[0m\u001b[1;33m\u001b[0m\u001b[0m\n\u001b[1;32m-> 1040\u001b[1;33m         \u001b[1;32mreturn\u001b[0m \u001b[0mmapping\u001b[0m\u001b[1;33m[\u001b[0m\u001b[0mengine\u001b[0m\u001b[1;33m]\u001b[0m\u001b[1;33m(\u001b[0m\u001b[0mself\u001b[0m\u001b[1;33m.\u001b[0m\u001b[0mf\u001b[0m\u001b[1;33m,\u001b[0m \u001b[1;33m**\u001b[0m\u001b[0mself\u001b[0m\u001b[1;33m.\u001b[0m\u001b[0moptions\u001b[0m\u001b[1;33m)\u001b[0m  \u001b[1;31m# type: ignore[call-arg]\u001b[0m\u001b[1;33m\u001b[0m\u001b[1;33m\u001b[0m\u001b[0m\n\u001b[0m\u001b[0;32m   1041\u001b[0m \u001b[1;33m\u001b[0m\u001b[0m\n\u001b[0;32m   1042\u001b[0m     \u001b[1;32mdef\u001b[0m \u001b[0m_failover_to_python\u001b[0m\u001b[1;33m(\u001b[0m\u001b[0mself\u001b[0m\u001b[1;33m)\u001b[0m\u001b[1;33m:\u001b[0m\u001b[1;33m\u001b[0m\u001b[1;33m\u001b[0m\u001b[0m\n",
      "\u001b[1;32m~\\Anaconda3\\envs\\projeto_drogas\\lib\\site-packages\\pandas\\io\\parsers\\c_parser_wrapper.py\u001b[0m in \u001b[0;36m__init__\u001b[1;34m(self, src, **kwds)\u001b[0m\n\u001b[0;32m     49\u001b[0m \u001b[1;33m\u001b[0m\u001b[0m\n\u001b[0;32m     50\u001b[0m         \u001b[1;31m# open handles\u001b[0m\u001b[1;33m\u001b[0m\u001b[1;33m\u001b[0m\u001b[1;33m\u001b[0m\u001b[0m\n\u001b[1;32m---> 51\u001b[1;33m         \u001b[0mself\u001b[0m\u001b[1;33m.\u001b[0m\u001b[0m_open_handles\u001b[0m\u001b[1;33m(\u001b[0m\u001b[0msrc\u001b[0m\u001b[1;33m,\u001b[0m \u001b[0mkwds\u001b[0m\u001b[1;33m)\u001b[0m\u001b[1;33m\u001b[0m\u001b[1;33m\u001b[0m\u001b[0m\n\u001b[0m\u001b[0;32m     52\u001b[0m         \u001b[1;32massert\u001b[0m \u001b[0mself\u001b[0m\u001b[1;33m.\u001b[0m\u001b[0mhandles\u001b[0m \u001b[1;32mis\u001b[0m \u001b[1;32mnot\u001b[0m \u001b[1;32mNone\u001b[0m\u001b[1;33m\u001b[0m\u001b[1;33m\u001b[0m\u001b[0m\n\u001b[0;32m     53\u001b[0m \u001b[1;33m\u001b[0m\u001b[0m\n",
      "\u001b[1;32m~\\Anaconda3\\envs\\projeto_drogas\\lib\\site-packages\\pandas\\io\\parsers\\base_parser.py\u001b[0m in \u001b[0;36m_open_handles\u001b[1;34m(self, src, kwds)\u001b[0m\n\u001b[0;32m    220\u001b[0m         \u001b[0mLet\u001b[0m \u001b[0mthe\u001b[0m \u001b[0mreaders\u001b[0m \u001b[0mopen\u001b[0m \u001b[0mIOHandles\u001b[0m \u001b[0mafter\u001b[0m \u001b[0mthey\u001b[0m \u001b[0mare\u001b[0m \u001b[0mdone\u001b[0m \u001b[1;32mwith\u001b[0m \u001b[0mtheir\u001b[0m \u001b[0mpotential\u001b[0m \u001b[0mraises\u001b[0m\u001b[1;33m.\u001b[0m\u001b[1;33m\u001b[0m\u001b[1;33m\u001b[0m\u001b[0m\n\u001b[0;32m    221\u001b[0m         \"\"\"\n\u001b[1;32m--> 222\u001b[1;33m         self.handles = get_handle(\n\u001b[0m\u001b[0;32m    223\u001b[0m             \u001b[0msrc\u001b[0m\u001b[1;33m,\u001b[0m\u001b[1;33m\u001b[0m\u001b[1;33m\u001b[0m\u001b[0m\n\u001b[0;32m    224\u001b[0m             \u001b[1;34m\"r\"\u001b[0m\u001b[1;33m,\u001b[0m\u001b[1;33m\u001b[0m\u001b[1;33m\u001b[0m\u001b[0m\n",
      "\u001b[1;32m~\\Anaconda3\\envs\\projeto_drogas\\lib\\site-packages\\pandas\\io\\common.py\u001b[0m in \u001b[0;36mget_handle\u001b[1;34m(path_or_buf, mode, encoding, compression, memory_map, is_text, errors, storage_options)\u001b[0m\n\u001b[0;32m    699\u001b[0m         \u001b[1;32mif\u001b[0m \u001b[0mioargs\u001b[0m\u001b[1;33m.\u001b[0m\u001b[0mencoding\u001b[0m \u001b[1;32mand\u001b[0m \u001b[1;34m\"b\"\u001b[0m \u001b[1;32mnot\u001b[0m \u001b[1;32min\u001b[0m \u001b[0mioargs\u001b[0m\u001b[1;33m.\u001b[0m\u001b[0mmode\u001b[0m\u001b[1;33m:\u001b[0m\u001b[1;33m\u001b[0m\u001b[1;33m\u001b[0m\u001b[0m\n\u001b[0;32m    700\u001b[0m             \u001b[1;31m# Encoding\u001b[0m\u001b[1;33m\u001b[0m\u001b[1;33m\u001b[0m\u001b[1;33m\u001b[0m\u001b[0m\n\u001b[1;32m--> 701\u001b[1;33m             handle = open(\n\u001b[0m\u001b[0;32m    702\u001b[0m                 \u001b[0mhandle\u001b[0m\u001b[1;33m,\u001b[0m\u001b[1;33m\u001b[0m\u001b[1;33m\u001b[0m\u001b[0m\n\u001b[0;32m    703\u001b[0m                 \u001b[0mioargs\u001b[0m\u001b[1;33m.\u001b[0m\u001b[0mmode\u001b[0m\u001b[1;33m,\u001b[0m\u001b[1;33m\u001b[0m\u001b[1;33m\u001b[0m\u001b[0m\n",
      "\u001b[1;31mFileNotFoundError\u001b[0m: [Errno 2] No such file or directory: 'Dados/GESEG_SBX_DROGA_EXPORT.csv'"
     ]
    }
   ],
   "source": [
    "#Lendo dados\n",
    "drogas_final = pd.read_csv('Dados/GESEG_SBX_DROGA_EXPORT.csv', encoding = 'latin-1', sep = ';', index_col=0)\n",
    "#Pivotando valor \"QUANTIDADE\" da coluna \"ATRIBUTOS\" com o mesmo \"NRO_INT_OBJETO\"\n",
    "drogas_final_pivot = drogas_final.pivot(index=\"NRO_INT_OBJETO\", columns=\"ATRIBUTO\", values=\"QUANTIDADE\")\n",
    "#Agrupando dados com o mesmo \"K93_NRO_INT_OBJETO\"\n",
    "#Foi preciso utilizar \"agg('min')\" pois apenas groupby()...\n",
    "#retorna um objeto iterável \n",
    "dg2_final = drogas_final[['NRO_INT_OBJETO','ANO_OCOR', 'NRO_OCOR','NRO_INT_TIPO_OBJETO','TIPO_OBJETO','ATRIBUTO']].groupby([\"NRO_INT_OBJETO\"]).min()\n",
    "#Ordenando por \"K93_NRO_INT_OBJETO\"\n",
    "dg2_final_sorted = dg2_final.sort_values(by=['NRO_INT_OBJETO'])\n",
    "drogas_pivot_final_sorted = drogas_final_pivot.sort_values(by=['NRO_INT_OBJETO'])"
   ]
  },
  {
   "cell_type": "code",
   "execution_count": null,
   "id": "63982163",
   "metadata": {},
   "outputs": [],
   "source": [
    "#Concatenando as duas tabelas\n",
    "try_1_final = pd.concat([dg2_final_sorted, drogas_pivot_final_sorted],axis=1)\n",
    "#Atribuindo a tabela resultado \"try_1\" com um index numérico\n",
    "resultado = try_1_final.reset_index()\n",
    "#Renomeando Coluans\n",
    "resultado = resultado.rename(columns={\"NRO_INT_OBJETO\": \"CHAVE_OBJETO\", \"TIPO_OBJETO\": \"TXT_TIPO_OBJETO\"})"
   ]
  },
  {
   "cell_type": "code",
   "execution_count": null,
   "id": "3d50d12c",
   "metadata": {},
   "outputs": [],
   "source": [
    "def ajusta_texto_numerico(texto):\n",
    "    return str(texto).replace('.', '').replace(',', '.')\n",
    "\n",
    "resultado['Peso Unitário'] = resultado['Peso Unitário'].apply(ajusta_texto_numerico)\n",
    "resultado['Peso Total'] = resultado['Peso Total'].apply(ajusta_texto_numerico)\n",
    "\n",
    "resultado['Peso Unitário'] = pd.to_numeric(resultado['Peso Unitário'], errors='coerce',downcast=\"float\").fillna(0).astype(float)\n",
    "resultado['Peso Total'] = pd.to_numeric(resultado['Peso Total'], errors='coerce',downcast=\"float\").fillna(0).astype(float)"
   ]
  },
  {
   "cell_type": "code",
   "execution_count": null,
   "id": "c8357c1f",
   "metadata": {},
   "outputs": [],
   "source": [
    "#Criando DF cores a partir de frequência do tipo do Objeto\n",
    "cores = resultado['TXT_TIPO_OBJETO'].value_counts()\n",
    "cores = pd.DataFrame(cores)\n",
    "cores = cores.reset_index()\n",
    "cores = cores.T\n",
    "cores = cores.rename(columns={0:cores[0][0],1:cores[1][0],2:cores[2][0],3:cores[3][0]})\n",
    "cores = cores.iloc[1:]\n",
    "\n",
    "#Criando DF cores1 com as frequências\n",
    "cores1 = resultado['TXT_TIPO_OBJETO'].value_counts(normalize=True)\n",
    "cores1 = pd.DataFrame(cores1)\n",
    "cores1 = cores1.reset_index()\n",
    "cores1 = cores1.T\n",
    "cores1 = cores1.rename(columns={0:cores1[0][0],1:cores1[1][0],2:cores1[2][0],3:cores1[3][0][0]\n",
    "                             })\n",
    "#Concatenado DF para cores2\n",
    "lista = [cores,cores1]\n",
    "cores2 = pd.concat(lista)\n",
    "cores2 = cores2.reset_index(drop=True)\n",
    "cores2 = cores2.drop([1], axis = 0)\n",
    "cores2 = cores2.rename(index={0:'Quantidade', 2:\"Frequencias\"})\n",
    "#Atribuindo a coluna Crack também as frequências de C\n",
    "#Não foi atribuido também Quantidade pois retornava um valor NaN\n",
    "cores2['Crack']['Frequencias'] = cores2['C']['Frequencias']\n",
    "cores2 = cores2.drop(['C'], axis = 1)\n",
    "cores2"
   ]
  },
  {
   "cell_type": "code",
   "execution_count": null,
   "id": "be4b763e",
   "metadata": {},
   "outputs": [],
   "source": [
    "#Plotando gráficos\n",
    "stores_df = resultado\n",
    "\n",
    "palette ={\"Maconha\": \"green\", \"Cocaína\": \"white\", \"Crack\": \"yellow\", \"Drogas\": \"blue\"}\n",
    "f, (ax3) = plt.subplots(1, 1, figsize=(14, 5))\n",
    "sns.set(font_scale=1.5)\n",
    "\n",
    "sns.countplot(x=\"TXT_TIPO_OBJETO\", data=stores_df, ax=ax3, palette= palette, alpha = 0.7, linewidth=2.5, edgecolor=\".0\")\n",
    "ax3.set_facecolor('#ababab')\n",
    "ax3.patch.set_alpha(0.3)\n",
    "ax3.set_xlabel(\"Tipo de Objeto\",fontsize=20)\n",
    "ax3.set_ylabel(\"Quantidade\",fontsize=20)\n",
    "ax3.set_xticklabels(ax3.get_xmajorticklabels(), fontsize = 15)\n",
    "plt.grid(axis='x')\n",
    "plt.tight_layout()\n",
    "plt.title('Tipo de Objeto')"
   ]
  },
  {
   "cell_type": "code",
   "execution_count": null,
   "id": "8516cd27",
   "metadata": {},
   "outputs": [],
   "source": [
    "#Definindo uma series Drogas\n",
    "#Como resultado do tipo de objeto de resultado = Drogas\n",
    "Drogas = resultado.loc[resultado['TXT_TIPO_OBJETO'] == 'Drogas']\n",
    "\n",
    "Drogas = resultado.loc[resultado['TXT_TIPO_OBJETO'] == 'Drogas']\n",
    "Outras = resultado.loc[resultado['TXT_TIPO_OBJETO'] != 'Drogas']\n",
    "Outras = Outras.reset_index(drop= True)\n",
    "\n",
    "#DF com descrição nula\n",
    "DrogasNA = Drogas.loc[Drogas['Descrição'].isnull()]\n",
    "DrogasNA = DrogasNA.reset_index(drop=True)\n",
    "\n",
    "#Excluindo descrição nula do DF Drogas\n",
    "Drogas = Drogas.loc[Drogas['Descrição'].notna()]\n",
    "Drogas = Drogas.reset_index(drop=True)"
   ]
  },
  {
   "cell_type": "code",
   "execution_count": null,
   "id": "962d101c",
   "metadata": {},
   "outputs": [],
   "source": [
    "def changer(txt):\n",
    "    return unidecode.unidecode(str(txt).replace(',','').replace('.',''))\n",
    "\n",
    "Drogas['Descrição'] = Drogas['Descrição'].apply(changer)\n",
    "    \n",
    "Drogas['Descrição'] = Drogas['Descrição'].str.lower()"
   ]
  },
  {
   "cell_type": "code",
   "execution_count": null,
   "id": "ea568ed8",
   "metadata": {},
   "outputs": [],
   "source": [
    "#Tratando ajustes de drogas\n",
    "def analizer(x):\n",
    "    \n",
    "    if 'maconha' in x:\n",
    "        return 'Maconha'\n",
    "    elif 'canabis' in x:\n",
    "        return 'Maconha'\n",
    "    elif 'cannabis' in x:\n",
    "        return 'Maconha'\n",
    "    elif 'crack' in x:\n",
    "        return 'Crack'\n",
    "    elif 'cocaina' in x:\n",
    "        return 'Cocaína'\n",
    "    else:\n",
    "        return 'Drogas'\n",
    "    \n",
    "Drogas['RECLASSIFICAÇÃO'] = Drogas['Descrição'].apply(analizer)"
   ]
  },
  {
   "cell_type": "code",
   "execution_count": null,
   "id": "a7c4f1b8",
   "metadata": {},
   "outputs": [],
   "source": [
    "listaDrogas = [Drogas, DrogasNA]\n",
    "Drogas = pd.concat(listaDrogas)\n",
    "\n",
    "stores_df = Drogas"
   ]
  },
  {
   "cell_type": "code",
   "execution_count": null,
   "id": "497252de",
   "metadata": {},
   "outputs": [],
   "source": [
    "#Plotando Reclassificado\n",
    "palette ={\"Maconha\": \"green\", \"Cocaína\": \"white\", \"Crack\": \"yellow\", \"Drogas\": \"blue\"}\n",
    "f, (ax3) = plt.subplots(1, 1, figsize=(14, 5))\n",
    "sns.set(font_scale=1.5)\n",
    "\n",
    "sns.countplot(x=\"RECLASSIFICAÇÃO\", data=stores_df, ax=ax3, palette= palette, alpha = 0.7, linewidth=2.5, edgecolor=\".0\")\n",
    "ax3.set_facecolor('#ababab')\n",
    "ax3.patch.set_alpha(0.3)\n",
    "ax3.set_xlabel(\"Tipo de Objeto\",fontsize=20)\n",
    "ax3.set_ylabel(\"Quantidade\",fontsize=20)\n",
    "ax3.set_xticklabels(ax3.get_xmajorticklabels(), fontsize = 15)\n",
    "\n",
    "plt.grid(axis='x')\n",
    "plt.tight_layout()\n",
    "plt.title('Tipo de Objeto')"
   ]
  },
  {
   "cell_type": "code",
   "execution_count": null,
   "id": "3d754c1f",
   "metadata": {},
   "outputs": [],
   "source": [
    "#DF cores com as drogas\n",
    "cores = Drogas['RECLASSIFICAÇÃO'].value_counts()\n",
    "cores = pd.DataFrame(cores)\n",
    "cores = cores.reset_index()\n",
    "cores = cores.T\n",
    "cores = cores.rename(columns={0:cores[0][0],1:cores[1][0],2:cores[2][0],3:cores[3][0]})\n",
    "cores = cores.iloc[1:]\n",
    "\n",
    "#Frequência das drogas\n",
    "cores1 = Drogas['RECLASSIFICAÇÃO'].value_counts(normalize=True)\n",
    "cores1 = pd.DataFrame(cores1)\n",
    "cores1 = cores1.reset_index()\n",
    "cores1 = cores1.T\n",
    "cores1 = cores1.rename(columns={0:cores1[0][0],1:cores1[1][0],2:cores1[2][0],3:cores1[3][0][0]\n",
    "                             })\n",
    "#Concatenando DF\n",
    "lista = [cores,cores1]\n",
    "cores2 = pd.concat(lista)\n",
    "cores2 = cores2.reset_index(drop=True)\n",
    "cores2 = cores2.drop([1], axis = 0)\n",
    "cores2 = cores2.rename(index={0:'Quantidade', 2:\"Frequencia\"})\n",
    "cores2['Drogas']['Frequencia'] = cores2['D']['Frequencia']\n",
    "cores2 = cores2.drop(['D'], axis = 1)\n",
    "cores2\n"
   ]
  },
  {
   "cell_type": "code",
   "execution_count": null,
   "id": "6033c949",
   "metadata": {},
   "outputs": [],
   "source": [
    "#Concatenando DF Drogas com DF outros\n",
    "resultado_final = pd.concat([Drogas, Outras])\n",
    "\n",
    "#Tratando NaN de reclassificação\n",
    "resultado_final['RECLASSIFICAÇÃO'] = resultado_final['RECLASSIFICAÇÃO'].fillna(value=resultado_final.TXT_TIPO_OBJETO)\n",
    "\n",
    "#Definindo a chave do objeto como indice\n",
    "resultado_final = resultado_final.set_index('CHAVE_OBJETO')"
   ]
  },
  {
   "cell_type": "code",
   "execution_count": null,
   "id": "d9fafc21",
   "metadata": {},
   "outputs": [],
   "source": [
    "#Definindo dados a serem analizados pela reclassificação\n",
    "analizes = Drogas.loc[Drogas['RECLASSIFICAÇÃO'] == 'Drogas']\n",
    "\n",
    "#A serem exportados\n",
    "analizes_export = analizes[['CHAVE_OBJETO','Cor Predominante','Descrição','Peso Total','Peso Unitário','Tipo de Embalagem','RECLASSIFICAÇÃO']]"
   ]
  },
  {
   "cell_type": "code",
   "execution_count": null,
   "id": "64415d4f",
   "metadata": {},
   "outputs": [],
   "source": [
    "analizes_export = analizes_export.set_index('CHAVE_OBJETO')"
   ]
  },
  {
   "cell_type": "code",
   "execution_count": null,
   "id": "01649473",
   "metadata": {},
   "outputs": [],
   "source": [
    "#analizes_export.to_csv('Dados/Analize_Reclassificacao_Igual_A_Drogas_OK.csv')"
   ]
  },
  {
   "cell_type": "code",
   "execution_count": null,
   "id": "6740c79c",
   "metadata": {},
   "outputs": [],
   "source": [
    "#resultado_final.to_csv('Dados/Drogas_Reclassificadas_completa_OK.csv', sep=';', decimal=\",\", float_format='%.2f', quoting=csv.QUOTE_NONNUMERIC)"
   ]
  },
  {
   "cell_type": "code",
   "execution_count": null,
   "id": "53c00b02",
   "metadata": {},
   "outputs": [],
   "source": []
  }
 ],
 "metadata": {
  "kernelspec": {
   "display_name": "projeto_drogas",
   "language": "python",
   "name": "projeto_drogas"
  },
  "language_info": {
   "codemirror_mode": {
    "name": "ipython",
    "version": 3
   },
   "file_extension": ".py",
   "mimetype": "text/x-python",
   "name": "python",
   "nbconvert_exporter": "python",
   "pygments_lexer": "ipython3",
   "version": "3.9.6"
  }
 },
 "nbformat": 4,
 "nbformat_minor": 5
}
