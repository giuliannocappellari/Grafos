{
 "cells": [
  {
   "cell_type": "code",
   "execution_count": 1,
   "id": "28b7207f",
   "metadata": {},
   "outputs": [],
   "source": [
    "import numpy as np\n",
    "import pandas as pd\n",
    "import matplotlib.pyplot as plt\n",
    "pd.set_option('display.max_rows', 1000)\n",
    "import seaborn as sns\n",
    "import unidecode"
   ]
  },
  {
   "cell_type": "code",
   "execution_count": 2,
   "id": "7c0f42c2",
   "metadata": {},
   "outputs": [],
   "source": [
    "#Lendo dados\n",
    "drogas_final = pd.read_csv('Dados/GESEG_SBX_DROGA_EXPORT.csv', encoding = 'latin-1', sep = ';', index_col=0)\n",
    "#Pivotando valor \"QUANTIDADE\" da coluna \"ATRIBUTOS\" com o mesmo \"NRO_INT_OBJETO\"\n",
    "drogas_final_pivot = drogas_final.pivot(index=\"NRO_INT_OBJETO\", columns=\"ATRIBUTO\", values=\"QUANTIDADE\")\n",
    "#Agrupando dados com o mesmo \"K93_NRO_INT_OBJETO\"\n",
    "#Foi preciso utilizar \"agg('min')\" pois apenas groupby()...\n",
    "#retorna um objeto iterável \n",
    "dg2_final = drogas_final[['NRO_INT_OBJETO','ANO_OCOR', 'NRO_OCOR','NRO_INT_TIPO_OBJETO','TIPO_OBJETO','ATRIBUTO']].groupby([\"NRO_INT_OBJETO\"]).min()\n",
    "#Ordenando por \"K93_NRO_INT_OBJETO\"\n",
    "dg2_final_sorted = dg2_final.sort_values(by=['NRO_INT_OBJETO'])\n",
    "drogas_pivot_final_sorted = drogas_final_pivot.sort_values(by=['NRO_INT_OBJETO'])"
   ]
  },
  {
   "cell_type": "code",
   "execution_count": 3,
   "id": "63982163",
   "metadata": {},
   "outputs": [],
   "source": [
    "#Concatenando as duas tabelas\n",
    "try_1_final = pd.concat([dg2_final_sorted, drogas_pivot_final_sorted],axis=1)\n",
    "#Atribuindo a tabela resultado \"try_1\" com um index numérico\n",
    "resultado = try_1_final.reset_index()\n",
    "#Renomeando Coluans\n",
    "resultado = resultado.rename(columns={\"NRO_INT_OBJETO\": \"CHAVE_OBJETO\", \"TIPO_OBJETO\": \"TXT_TIPO_OBJETO\"})"
   ]
  },
  {
   "cell_type": "code",
   "execution_count": 4,
   "id": "3d50d12c",
   "metadata": {},
   "outputs": [],
   "source": [
    "def ajusta_texto_numerico(texto):\n",
    "    return str(texto).replace('.', '').replace(',', '.')\n",
    "\n",
    "resultado['Peso Unitário'] = resultado['Peso Unitário'].apply(ajusta_texto_numerico)\n",
    "resultado['Peso Total'] = resultado['Peso Total'].apply(ajusta_texto_numerico)\n",
    "\n",
    "resultado['Peso Unitário'] = pd.to_numeric(resultado['Peso Unitário'], errors='coerce',downcast=\"float\").fillna(0).astype(float)\n",
    "resultado['Peso Total'] = pd.to_numeric(resultado['Peso Total'], errors='coerce',downcast=\"float\").fillna(0).astype(float)"
   ]
  },
  {
   "cell_type": "code",
   "execution_count": 5,
   "id": "c8357c1f",
   "metadata": {},
   "outputs": [
    {
     "data": {
      "text/html": [
       "<div>\n",
       "<style scoped>\n",
       "    .dataframe tbody tr th:only-of-type {\n",
       "        vertical-align: middle;\n",
       "    }\n",
       "\n",
       "    .dataframe tbody tr th {\n",
       "        vertical-align: top;\n",
       "    }\n",
       "\n",
       "    .dataframe thead th {\n",
       "        text-align: right;\n",
       "    }\n",
       "</style>\n",
       "<table border=\"1\" class=\"dataframe\">\n",
       "  <thead>\n",
       "    <tr style=\"text-align: right;\">\n",
       "      <th></th>\n",
       "      <th>Maconha</th>\n",
       "      <th>Drogas</th>\n",
       "      <th>Cocaína</th>\n",
       "      <th>Crack</th>\n",
       "    </tr>\n",
       "  </thead>\n",
       "  <tbody>\n",
       "    <tr>\n",
       "      <th>Quantidade</th>\n",
       "      <td>41164</td>\n",
       "      <td>37528</td>\n",
       "      <td>20063</td>\n",
       "      <td>14476</td>\n",
       "    </tr>\n",
       "    <tr>\n",
       "      <th>Frequencias</th>\n",
       "      <td>0.36354</td>\n",
       "      <td>0.331429</td>\n",
       "      <td>0.177186</td>\n",
       "      <td>0.127845</td>\n",
       "    </tr>\n",
       "  </tbody>\n",
       "</table>\n",
       "</div>"
      ],
      "text/plain": [
       "             Maconha    Drogas   Cocaína     Crack\n",
       "Quantidade     41164     37528     20063     14476\n",
       "Frequencias  0.36354  0.331429  0.177186  0.127845"
      ]
     },
     "execution_count": 5,
     "metadata": {},
     "output_type": "execute_result"
    }
   ],
   "source": [
    "#Criando DF cores a partir de frequência do tipo do Objeto\n",
    "cores = resultado['TXT_TIPO_OBJETO'].value_counts()\n",
    "cores = pd.DataFrame(cores)\n",
    "cores = cores.reset_index()\n",
    "cores = cores.T\n",
    "cores = cores.rename(columns={0:cores[0][0],1:cores[1][0],2:cores[2][0],3:cores[3][0]})\n",
    "cores = cores.iloc[1:]\n",
    "\n",
    "#Criando DF cores1 com as frequências\n",
    "cores1 = resultado['TXT_TIPO_OBJETO'].value_counts(normalize=True)\n",
    "cores1 = pd.DataFrame(cores1)\n",
    "cores1 = cores1.reset_index()\n",
    "cores1 = cores1.T\n",
    "cores1 = cores1.rename(columns={0:cores1[0][0],1:cores1[1][0],2:cores1[2][0],3:cores1[3][0][0]\n",
    "                             })\n",
    "#Concatenado DF para cores2\n",
    "lista = [cores,cores1]\n",
    "cores2 = pd.concat(lista)\n",
    "cores2 = cores2.reset_index(drop=True)\n",
    "cores2 = cores2.drop([1], axis = 0)\n",
    "cores2 = cores2.rename(index={0:'Quantidade', 2:\"Frequencias\"})\n",
    "#Atribuindo a coluna Crack também as frequências de C\n",
    "#Não foi atribuido também Quantidade pois retornava um valor NaN\n",
    "cores2['Crack']['Frequencias'] = cores2['C']['Frequencias']\n",
    "cores2 = cores2.drop(['C'], axis = 1)\n",
    "cores2"
   ]
  },
  {
   "cell_type": "code",
   "execution_count": 6,
   "id": "be4b763e",
   "metadata": {},
   "outputs": [
    {
     "data": {
      "text/plain": [
       "Text(0.5, 1.0, 'Tipo de Objeto')"
      ]
     },
     "execution_count": 6,
     "metadata": {},
     "output_type": "execute_result"
    },
    {
     "data": {
      "image/png": "[encoded data removed]",
      "text/plain": [
       "<Figure size 1008x360 with 1 Axes>"
      ]
     },
     "metadata": {
      "needs_background": "light"
     },
     "output_type": "display_data"
    }
   ],
   "source": [
    "#Plotando gráficos\n",
    "stores_df = resultado\n",
    "\n",
    "palette ={\"Maconha\": \"green\", \"Cocaína\": \"white\", \"Crack\": \"yellow\", \"Drogas\": \"blue\"}\n",
    "f, (ax3) = plt.subplots(1, 1, figsize=(14, 5))\n",
    "sns.set(font_scale=1.5)\n",
    "\n",
    "sns.countplot(x=\"TXT_TIPO_OBJETO\", data=stores_df, ax=ax3, palette= palette, alpha = 0.7, linewidth=2.5, edgecolor=\".0\")\n",
    "ax3.set_facecolor('#ababab')\n",
    "ax3.patch.set_alpha(0.3)\n",
    "ax3.set_xlabel(\"Tipo de Objeto\",fontsize=20)\n",
    "ax3.set_ylabel(\"Quantidade\",fontsize=20)\n",
    "ax3.set_xticklabels(ax3.get_xmajorticklabels(), fontsize = 15)\n",
    "plt.grid(axis='x')\n",
    "plt.tight_layout()\n",
    "plt.title('Tipo de Objeto')"
   ]
  },
  {
   "cell_type": "code",
   "execution_count": 7,
   "id": "8516cd27",
   "metadata": {},
   "outputs": [],
   "source": [
    "#Definindo uma series Drogas\n",
    "#Como resultado do tipo de objeto de resultado = Drogas\n",
    "Drogas = resultado.loc[resultado['TXT_TIPO_OBJETO'] == 'Drogas']\n",
    "\n",
    "Drogas = resultado.loc[resultado['TXT_TIPO_OBJETO'] == 'Drogas']\n",
    "Outras = resultado.loc[resultado['TXT_TIPO_OBJETO'] != 'Drogas']\n",
    "Outras = Outras.reset_index(drop= True)\n",
    "\n",
    "#DF com descrição nula\n",
    "DrogasNA = Drogas.loc[Drogas['Descrição'].isnull()]\n",
    "DrogasNA = DrogasNA.reset_index(drop=True)\n",
    "\n",
    "#Excluindo descrição nula do DF Drogas\n",
    "Drogas = Drogas.loc[Drogas['Descrição'].notna()]\n",
    "Drogas = Drogas.reset_index(drop=True)"
   ]
  },
  {
   "cell_type": "code",
   "execution_count": 8,
   "id": "962d101c",
   "metadata": {},
   "outputs": [],
   "source": [
    "def changer(txt):\n",
    "    return unidecode.unidecode(str(txt).replace(',','').replace('.',''))\n",
    "\n",
    "Drogas['Descrição'] = Drogas['Descrição'].apply(changer)\n",
    "    \n",
    "Drogas['Descrição'] = Drogas['Descrição'].str.lower()"
   ]
  },
  {
   "cell_type": "code",
   "execution_count": 9,
   "id": "ea568ed8",
   "metadata": {},
   "outputs": [],
   "source": [
    "#Tratando ajustes de drogas\n",
    "def analizer(x):\n",
    "    \n",
    "    if 'maconha' in x:\n",
    "        return 'Maconha'\n",
    "    elif 'canabis' in x:\n",
    "        return 'Maconha'\n",
    "    elif 'cannabis' in x:\n",
    "        return 'Maconha'\n",
    "    elif 'crack' in x:\n",
    "        return 'Crack'\n",
    "    elif 'cocaina' in x:\n",
    "        return 'Cocaína'\n",
    "    else:\n",
    "        return 'Drogas'\n",
    "    \n",
    "Drogas['RECLASSIFICAÇÃO'] = Drogas['Descrição'].apply(analizer)"
   ]
  },
  {
   "cell_type": "code",
   "execution_count": 10,
   "id": "a7c4f1b8",
   "metadata": {},
   "outputs": [],
   "source": [
    "listaDrogas = [Drogas, DrogasNA]\n",
    "Drogas = pd.concat(listaDrogas)\n",
    "\n",
    "stores_df = Drogas"
   ]
  },
  {
   "cell_type": "code",
   "execution_count": 11,
   "id": "497252de",
   "metadata": {},
   "outputs": [
    {
     "data": {
      "text/plain": [
       "Text(0.5, 1.0, 'Tipo de Objeto')"
      ]
     },
     "execution_count": 11,
     "metadata": {},
     "output_type": "execute_result"
    },
    {
     "data": {
      "image/png": "[encoded data removed]",
      "text/plain": [
       "<Figure size 1008x360 with 1 Axes>"
      ]
     },
     "metadata": {},
     "output_type": "display_data"
    }
   ],
   "source": [
    "#Plotando Reclassificado\n",
    "palette ={\"Maconha\": \"green\", \"Cocaína\": \"white\", \"Crack\": \"yellow\", \"Drogas\": \"blue\"}\n",
    "f, (ax3) = plt.subplots(1, 1, figsize=(14, 5))\n",
    "sns.set(font_scale=1.5)\n",
    "\n",
    "sns.countplot(x=\"RECLASSIFICAÇÃO\", data=stores_df, ax=ax3, palette= palette, alpha = 0.7, linewidth=2.5, edgecolor=\".0\")\n",
    "ax3.set_facecolor('#ababab')\n",
    "ax3.patch.set_alpha(0.3)\n",
    "ax3.set_xlabel(\"Tipo de Objeto\",fontsize=20)\n",
    "ax3.set_ylabel(\"Quantidade\",fontsize=20)\n",
    "ax3.set_xticklabels(ax3.get_xmajorticklabels(), fontsize = 15)\n",
    "\n",
    "plt.grid(axis='x')\n",
    "plt.tight_layout()\n",
    "plt.title('Tipo de Objeto')"
   ]
  },
  {
   "cell_type": "code",
   "execution_count": 12,
   "id": "3d754c1f",
   "metadata": {},
   "outputs": [
    {
     "data": {
      "text/html": [
       "<div>\n",
       "<style scoped>\n",
       "    .dataframe tbody tr th:only-of-type {\n",
       "        vertical-align: middle;\n",
       "    }\n",
       "\n",
       "    .dataframe tbody tr th {\n",
       "        vertical-align: top;\n",
       "    }\n",
       "\n",
       "    .dataframe thead th {\n",
       "        text-align: right;\n",
       "    }\n",
       "</style>\n",
       "<table border=\"1\" class=\"dataframe\">\n",
       "  <thead>\n",
       "    <tr style=\"text-align: right;\">\n",
       "      <th></th>\n",
       "      <th>Maconha</th>\n",
       "      <th>Cocaína</th>\n",
       "      <th>Crack</th>\n",
       "      <th>Drogas</th>\n",
       "    </tr>\n",
       "  </thead>\n",
       "  <tbody>\n",
       "    <tr>\n",
       "      <th>Quantidade</th>\n",
       "      <td>17710</td>\n",
       "      <td>7999</td>\n",
       "      <td>5806</td>\n",
       "      <td>3999</td>\n",
       "    </tr>\n",
       "    <tr>\n",
       "      <th>Frequencia</th>\n",
       "      <td>0.498677</td>\n",
       "      <td>0.225235</td>\n",
       "      <td>0.163485</td>\n",
       "      <td>0.112603</td>\n",
       "    </tr>\n",
       "  </tbody>\n",
       "</table>\n",
       "</div>"
      ],
      "text/plain": [
       "             Maconha   Cocaína     Crack    Drogas\n",
       "Quantidade     17710      7999      5806      3999\n",
       "Frequencia  0.498677  0.225235  0.163485  0.112603"
      ]
     },
     "execution_count": 12,
     "metadata": {},
     "output_type": "execute_result"
    }
   ],
   "source": [
    "#DF cores com as drogas\n",
    "cores = Drogas['RECLASSIFICAÇÃO'].value_counts()\n",
    "cores = pd.DataFrame(cores)\n",
    "cores = cores.reset_index()\n",
    "cores = cores.T\n",
    "cores = cores.rename(columns={0:cores[0][0],1:cores[1][0],2:cores[2][0],3:cores[3][0]})\n",
    "cores = cores.iloc[1:]\n",
    "\n",
    "#Frequência das drogas\n",
    "cores1 = Drogas['RECLASSIFICAÇÃO'].value_counts(normalize=True)\n",
    "cores1 = pd.DataFrame(cores1)\n",
    "cores1 = cores1.reset_index()\n",
    "cores1 = cores1.T\n",
    "cores1 = cores1.rename(columns={0:cores1[0][0],1:cores1[1][0],2:cores1[2][0],3:cores1[3][0][0]\n",
    "                             })\n",
    "#Concatenando DF\n",
    "lista = [cores,cores1]\n",
    "cores2 = pd.concat(lista)\n",
    "cores2 = cores2.reset_index(drop=True)\n",
    "cores2 = cores2.drop([1], axis = 0)\n",
    "cores2 = cores2.rename(index={0:'Quantidade', 2:\"Frequencia\"})\n",
    "cores2['Drogas']['Frequencia'] = cores2['D']['Frequencia']\n",
    "cores2 = cores2.drop(['D'], axis = 1)\n",
    "cores2\n"
   ]
  },
  {
   "cell_type": "code",
   "execution_count": 13,
   "id": "6033c949",
   "metadata": {},
   "outputs": [],
   "source": [
    "#Concatenando DF Drogas com DF outros\n",
    "resultado_final = pd.concat([Drogas, Outras])\n",
    "\n",
    "#Tratando NaN de reclassificação\n",
    "resultado_final['RECLASSIFICAÇÃO'] = resultado_final['RECLASSIFICAÇÃO'].fillna(value=resultado_final.TXT_TIPO_OBJETO)\n",
    "\n",
    "#Definindo a chave do objeto como indice\n",
    "resultado_final = resultado_final.set_index('CHAVE_OBJETO')"
   ]
  },
  {
   "cell_type": "code",
   "execution_count": 14,
   "id": "d9fafc21",
   "metadata": {},
   "outputs": [],
   "source": [
    "#Definindo dados a serem analizados pela reclassificação\n",
    "analizes = Drogas.loc[Drogas['RECLASSIFICAÇÃO'] == 'Drogas']\n",
    "\n",
    "#A serem exportados\n",
    "analizes_export = analizes[['CHAVE_OBJETO','Cor Predominante','Descrição','Peso Total','Peso Unitário','Tipo de Embalagem','RECLASSIFICAÇÃO']]"
   ]
  },
  {
   "cell_type": "code",
   "execution_count": 15,
   "id": "64415d4f",
   "metadata": {},
   "outputs": [],
   "source": [
    "analizes_export = analizes_export.set_index('CHAVE_OBJETO')"
   ]
  },
  {
   "cell_type": "code",
   "execution_count": 16,
   "id": "01649473",
   "metadata": {},
   "outputs": [],
   "source": [
    "#analizes_export.to_csv('Dados/Analize_Reclassificacao_Igual_A_Drogas_OK.csv')"
   ]
  },
  {
   "cell_type": "code",
   "execution_count": 17,
   "id": "6740c79c",
   "metadata": {},
   "outputs": [],
   "source": [
    "#resultado_final.to_csv('Dados/Drogas_Reclassificadas_completa_OK.csv', sep=';', decimal=\",\", float_format='%.2f', quoting=csv.QUOTE_NONNUMERIC)"
   ]
  },
  {
   "cell_type": "code",
   "execution_count": null,
   "id": "53c00b02",
   "metadata": {},
   "outputs": [],
   "source": []
  }
 ],
 "metadata": {
  "kernelspec": {
   "display_name": "projeto_drogas",
   "language": "python",
   "name": "projeto_drogas"
  },
  "language_info": {
   "codemirror_mode": {
    "name": "ipython",
    "version": 3
   },
   "file_extension": ".py",
   "mimetype": "text/x-python",
   "name": "python",
   "nbconvert_exporter": "python",
   "pygments_lexer": "ipython3",
   "version": "3.9.6"
  }
 },
 "nbformat": 4,
 "nbformat_minor": 5
}
