{
 "cells": [
  {
   "cell_type": "code",
   "execution_count": null,
   "metadata": {},
   "outputs": [],
   "source": [
    "import numpy as np\n",
    "import pandas as pd\n",
    "import matplotlib.pyplot as plt\n",
    "pd.set_option('display.max_rows', 1000)\n",
    "import seaborn as sns"
   ]
  },
  {
   "cell_type": "code",
   "execution_count": null,
   "metadata": {},
   "outputs": [],
   "source": [
    "drogas_final = pd.read_csv('Dados/GESEG_SBX_DROGA_EXPORT.csv', encoding = 'latin-1', sep = ';', index_col=0)"
   ]
  },
  {
   "cell_type": "code",
   "execution_count": null,
   "metadata": {},
   "outputs": [],
   "source": [
    "drogas_final_pivot = drogas_final.pivot(index=\"NRO_INT_OBJETO\", columns=\"ATRIBUTO\", values=\"QUANTIDADE\")"
   ]
  },
  {
   "cell_type": "code",
   "execution_count": null,
   "metadata": {},
   "outputs": [],
   "source": [
    "dg2_final = drogas_final[['NRO_INT_OBJETO','ANO_OCOR', 'NRO_OCOR','NRO_INT_TIPO_OBJETO','TIPO_OBJETO']].groupby([\"NRO_INT_OBJETO\"]).min()"
   ]
  },
  {
   "cell_type": "code",
   "execution_count": null,
   "metadata": {},
   "outputs": [],
   "source": [
    "dg2_final_sorted = dg2_final.sort_values(by=['NRO_INT_OBJETO'])\n",
    "drogas_pivot_final_sorted = drogas_final_pivot.sort_values(by=['NRO_INT_OBJETO'])"
   ]
  },
  {
   "cell_type": "code",
   "execution_count": null,
   "metadata": {},
   "outputs": [],
   "source": [
    "try_1_final = pd.concat([dg2_final_sorted, drogas_pivot_final_sorted],axis=1)"
   ]
  },
  {
   "cell_type": "code",
   "execution_count": null,
   "metadata": {},
   "outputs": [],
   "source": [
    "resultado = try_1_final.reset_index()"
   ]
  },
  {
   "cell_type": "code",
   "execution_count": null,
   "metadata": {},
   "outputs": [],
   "source": [
    "#Renomeando Coluans\n",
    "resultado = resultado.rename(columns={\"NRO_INT_OBJETO\": \"CHAVE_OBJETO\", \"TIPO_OBJETO\": \"TXT_TIPO_OBJETO\"})"
   ]
  },
  {
   "cell_type": "code",
   "execution_count": null,
   "metadata": {},
   "outputs": [],
   "source": [
    "#Mudando o float do padrão brasileiro para o americano\n",
    "#Criando novas colunas de Peso para analise e diferenciação de valores entre nova e antiga\n",
    "\n",
    "resultado['Peso Unitário'] = pd.to_numeric(resultado['Peso Unitário'].str.replace(',','.'), errors='coerce',downcast=\"float\")\n",
    "resultado['Peso Total'] = pd.to_numeric(resultado['Peso Total'].str.replace(',','.'), errors='coerce',downcast=\"float\")\n",
    "\n",
    "#Trocando dados NaN por 0\n",
    "resultado['Peso Unitário'] = resultado['Peso Unitário'].fillna(0)\n",
    "resultado['Peso Total'] = resultado['Peso Total'].fillna(0)\n",
    "\n",
    "\n",
    "#Trocando o tipo de dado para float\n",
    "resultado['Peso Total']  = resultado['Peso Total'].astype(float)\n",
    "resultado['Peso Unitário']  = resultado['Peso Unitário'].astype(float)"
   ]
  },
  {
   "cell_type": "markdown",
   "metadata": {},
   "source": [
    "<h1><center>COR</center></h1>"
   ]
  },
  {
   "cell_type": "code",
   "execution_count": null,
   "metadata": {},
   "outputs": [],
   "source": [
    "cores = resultado['Cor Predominante'].value_counts()\n",
    "cores = pd.DataFrame(cores)\n",
    "cores = cores.reset_index()\n",
    "cores = cores.T\n",
    "cores = cores.rename(columns={0:cores[0][0],1:cores[1][0],2:cores[2][0],3:cores[3][0],4:cores[4][0]\n",
    "                             ,5:cores[5][0],6:cores[6][0],7:cores[7][0],8:cores[8][0],9:cores[9][0]\n",
    "                             ,10:cores[10][0], 11:cores[11][0],12:cores[12][0]})\n",
    "cores = cores.iloc[1:]\n",
    "cores1 = resultado['Cor Predominante'].value_counts(normalize=True)\n",
    "cores1 = pd.DataFrame(cores1)\n",
    "cores1 = cores1.reset_index()\n",
    "cores1 = cores1.T\n",
    "cores1 = cores1.rename(columns={0:cores1[0][0],1:cores1[1][0],2:cores1[2][0],3:cores1[3][0],4:cores1[4][0]\n",
    "                             ,5:cores1[5][0],6:cores1[6][0],7:cores1[7][0],8:cores1[8][0],9:cores1[9][0]\n",
    "                             ,10:cores1[10][0], 11:cores1[11][0],12:cores1[12][0]})\n",
    "#cores1 = cores.iloc[1:]\n",
    "cores1\n",
    "lista = [cores,cores1]\n",
    "cores2 = pd.concat(lista)\n",
    "cores2 = cores2.reset_index(drop=True)\n",
    "cores2 = cores2.drop([1], axis = 0)\n",
    "cores2 = cores2.rename(index={0:'Quantidade', 2:\"%\"})\n",
    "cores2"
   ]
  },
  {
   "cell_type": "code",
   "execution_count": null,
   "metadata": {},
   "outputs": [],
   "source": [
    "stores_df = resultado\n",
    "\n",
    "f, (ax1) = plt.subplots(1, 1, figsize=(12, 6))\n",
    "#palette ={\"Verde\": \"green\", \"Marrom\": \"brown\", \"Branco\": \"white\", \"Amarelo\": \"yellow\",\"Cinza\":'grey',\"Dourado\":'gold',\"Laranja\":\"orange\",\"Azul\":\"Blue\",\"Vermelho\":\"Red\",'Bege':'beige',\"Preto\":\"black\", \"Incolor\":\"blue\", \"Rosa\":\"pink\", \"Cobreado\":'coper', \"Prateado\":'silver','Salmon':'salmon', \"Roxo\":'black'}\n",
    "\n",
    "sns.countplot(x=\"Cor Predominante\", data=stores_df, ax=ax1)\n",
    "#sns.countplot(x=\"Tipo de Embalagem\", data=stores_df, ax=ax2)\n",
    "#sns.countplot(x=\"TXT_TIPO_OBJETO\", data=stores_df, ax=ax3, palette= palette)\n",
    "palette ={\"Maconha\": \"green\", \"Cocaína\": \"white\", \"Crack\": \"yellow\", \"Drogas\": \"blue\"}\n",
    "plt.setp(ax1.xaxis.get_majorticklabels(), rotation=70)\n",
    "#plt.setp(ax2.xaxis.get_majorticklabels(), rotation=70)\n",
    "ax1.set_ylabel(\"Quantidade\",fontsize=20)\n",
    "ax1.set(xlabel=None)\n",
    "#ax2.set_ylabel(\"Quantidade\",fontsize=20)\n",
    "plt.tight_layout()\n",
    "plt.grid(axis='x')\n",
    "plt.title('Cor Predominante')"
   ]
  },
  {
   "cell_type": "markdown",
   "metadata": {},
   "source": [
    "<h1><center>EMBALAGEM</center></h1>"
   ]
  },
  {
   "cell_type": "code",
   "execution_count": null,
   "metadata": {},
   "outputs": [],
   "source": [
    "cores = resultado['Tipo de Embalagem'].value_counts()\n",
    "cores = pd.DataFrame(cores)\n",
    "cores = cores.reset_index()\n",
    "cores = cores.T\n",
    "cores = cores.rename(columns={0:cores[0][0],1:cores[1][0],2:cores[2][0],3:cores[3][0],4:cores[4][0]\n",
    "                             ,5:cores[5][0],6:cores[6][0],7:cores[7][0],8:cores[8][0],9:cores[9][0]\n",
    "                             ,10:cores[10][0], 11:cores[11][0],12:cores[12][0]})\n",
    "cores = cores.iloc[1:]\n",
    "cores1 = resultado['Tipo de Embalagem'].value_counts(normalize=True)\n",
    "cores1 = pd.DataFrame(cores1)\n",
    "cores1 = cores1.reset_index()\n",
    "cores1 = cores1.T\n",
    "cores1 = cores1.rename(columns={0:cores1[0][0],1:cores1[1][0],2:cores1[2][0],3:cores1[3][0],4:cores1[4][0]\n",
    "                             ,5:cores1[5][0],6:cores1[6][0],7:cores1[7][0],8:cores1[8][0],9:cores1[9][0]\n",
    "                             ,10:cores1[10][0], 11:cores1[11][0],12:cores1[12][0]})\n",
    "#cores1 = cores.iloc[1:]\n",
    "cores1\n",
    "lista = [cores,cores1]\n",
    "cores2 = pd.concat(lista)\n",
    "cores2 = cores2.reset_index(drop=True)\n",
    "cores2 = cores2.drop([1], axis = 0)\n",
    "cores2 = cores2.rename(index={0:'Quantidade', 2:\"%\"})\n",
    "cores2 = cores2.rename(columns={13:'Maço(s)', 14:'Kit(s)'})\n",
    "cores2"
   ]
  },
  {
   "cell_type": "code",
   "execution_count": null,
   "metadata": {},
   "outputs": [],
   "source": [
    "stores_df = resultado\n",
    "\n",
    "f, (ax2) = plt.subplots(1, 1, figsize=(12, 6))\n",
    "palette ={\"Verde\": \"green\", \"Marrom\": \"brown\", \"Branco\": \"white\", \"Amarelo\": \"yellow\",\"Cinza\":'grey',\"Dourado\":'gold',\"Laranja\":\"orange\",\"Azul\":\"Blue\",\"Vermelho\":\"Red\",'Bege':'beige',\"Preto\":\"black\", \"Incolor\":\"blue\", \"Rosa\":\"pink\"}\n",
    "\n",
    "#sns.countplot(x=\"Cor Predominante\", data=stores_df, ax=ax1, palette = palette)\n",
    "sns.countplot(x=\"Tipo de Embalagem\", data=stores_df, ax=ax2)\n",
    "#sns.countplot(x=\"TXT_TIPO_OBJETO\", data=stores_df, ax=ax3, palette= palette)\n",
    "palette ={\"Maconha\": \"green\", \"Cocaína\": \"white\", \"Crack\": \"yellow\", \"Drogas\": \"blue\"}\n",
    "#plt.setp(ax1.xaxis.get_majorticklabels(), rotation=70)\n",
    "plt.setp(ax2.xaxis.get_majorticklabels(), rotation=70)\n",
    "ax2.set(xlabel=None)\n",
    "#ax1.set_ylabel(\"Quantidade\",fontsize=20)\n",
    "ax2.set_ylabel(\"Quantidade\",fontsize=20)\n",
    "plt.tight_layout()\n",
    "plt.grid(axis='x')\n",
    "plt.title('Embalagem')"
   ]
  },
  {
   "cell_type": "markdown",
   "metadata": {},
   "source": [
    "<h1><center>UNIDADE DE PESO</center></h1>"
   ]
  },
  {
   "cell_type": "code",
   "execution_count": null,
   "metadata": {},
   "outputs": [],
   "source": [
    "cores = resultado['Unidade de Peso'].value_counts()\n",
    "cores = pd.DataFrame(cores)\n",
    "cores = cores.reset_index()\n",
    "cores = cores.T\n",
    "cores = cores.rename(columns={0:cores[0][0],1:cores[1][0],2:cores[2][0],3:cores[3][0],4:cores[4][0],5:cores[5][0]})\n",
    "cores = cores.iloc[1:]\n",
    "cores1 = resultado['Unidade de Peso'].value_counts(normalize=True)\n",
    "cores1 = pd.DataFrame(cores1)\n",
    "cores1 = cores1.reset_index()\n",
    "cores1 = cores1.T\n",
    "cores1 = cores1.rename(columns={0:cores1[0][0],1:cores1[1][0],2:cores1[2][0],3:cores1[3][0],4:cores1[4][0],5:cores1[5][0]\n",
    "                             })\n",
    "#cores1 = cores.iloc[1:]\n",
    "cores1\n",
    "lista = [cores,cores1]\n",
    "cores2 = pd.concat(lista)\n",
    "cores2 = cores2.reset_index(drop=True)\n",
    "cores2 = cores2.drop([1], axis = 0)\n",
    "cores2 = cores2.rename(index={0:'Quantidade', 2:\"%\"})\n",
    "cores2"
   ]
  },
  {
   "cell_type": "code",
   "execution_count": null,
   "metadata": {},
   "outputs": [],
   "source": [
    "stores_df = resultado\n",
    "\n",
    "f, (ax2) = plt.subplots(1, 1, figsize=(12, 6))\n",
    "palette ={\"Verde\": \"green\", \"Marrom\": \"brown\", \"Branco\": \"white\", \"Amarelo\": \"yellow\",\"Cinza\":'grey',\"Dourado\":'gold',\"Laranja\":\"orange\",\"Azul\":\"Blue\",\"Vermelho\":\"Red\",'Bege':'beige',\"Preto\":\"black\", \"Incolor\":\"blue\", \"Rosa\":\"pink\"}\n",
    "\n",
    "#sns.countplot(x=\"Cor Predominante\", data=stores_df, ax=ax1, palette = palette)\n",
    "sns.countplot(x=\"Unidade de Peso\", data=stores_df, ax=ax2)\n",
    "#sns.countplot(x=\"TXT_TIPO_OBJETO\", data=stores_df, ax=ax3, palette= palette)\n",
    "palette ={\"Maconha\": \"green\", \"Cocaína\": \"white\", \"Crack\": \"yellow\", \"Drogas\": \"blue\"}\n",
    "#plt.setp(ax1.xaxis.get_majorticklabels(), rotation=70)\n",
    "plt.setp(ax2.xaxis.get_majorticklabels(), rotation=70)\n",
    "ax2.set(xlabel=None)\n",
    "#ax1.set_ylabel(\"Quantidade\",fontsize=20)\n",
    "ax2.set_ylabel(\"Quantidade\",fontsize=20)\n",
    "plt.grid(axis='x')\n",
    "plt.tight_layout()\n",
    "plt.title('Unidade de Peso')"
   ]
  },
  {
   "cell_type": "code",
   "execution_count": null,
   "metadata": {},
   "outputs": [],
   "source": [
    "sem_info = resultado.loc[resultado['Unidade de Peso'] == 'Não soube informar']\n",
    "sem_info['Tipo de Embalagem'].value_counts()"
   ]
  },
  {
   "cell_type": "code",
   "execution_count": null,
   "metadata": {},
   "outputs": [],
   "source": [
    "sem_info = resultado.loc[resultado['Unidade de Peso'] == 'Não soube informar']\n",
    "com_info = resultado.loc[resultado['Unidade de Peso'] != 'Não soube informar']\n",
    "com_info = com_info.reset_index(drop= True)\n",
    "sem_info = sem_info.reset_index(drop=True)\n"
   ]
  },
  {
   "cell_type": "code",
   "execution_count": null,
   "metadata": {},
   "outputs": [],
   "source": [
    "porcao = com_info.loc[com_info['Tipo de Embalagem'] == 'Porção(es)']\n",
    "porcao = porcao.loc[porcao['Unidade de Peso'] == 'Grama']\n",
    "porcao = porcao.loc[porcao['Peso Unitário'].notna()]\n",
    "porcao = porcao.reset_index(drop=True)\n",
    "x = 0\n",
    "while x < len(porcao):\n",
    "    if porcao['Peso Unitário'][x] == '-':\n",
    "        porcao['Peso Unitário'][x] = 0\n",
    "    x += 1\n",
    "    \n",
    "porcao['Peso Unitário'] = porcao['Peso Unitário'].astype(float) \n"
   ]
  },
  {
   "cell_type": "code",
   "execution_count": null,
   "metadata": {
    "scrolled": false
   },
   "outputs": [],
   "source": [
    "print('Média')\n",
    "print(porcao['Peso Unitário'].mean())\n",
    "print('Mediana')\n",
    "print(porcao['Peso Unitário'].median())\n",
    "print('Quartil')\n",
    "print(porcao['Peso Unitário'].quantile(0.25))"
   ]
  },
  {
   "cell_type": "code",
   "execution_count": null,
   "metadata": {},
   "outputs": [],
   "source": [
    "porcao_sem = sem_info.loc[sem_info['Tipo de Embalagem'] == 'Porção(es)']\n",
    "porcao_sem['Unidade de Peso'] = 'Grama'\n",
    "porcao_sem['Peso Unitário'] = porcao['Peso Unitário'].median()\n"
   ]
  },
  {
   "cell_type": "code",
   "execution_count": null,
   "metadata": {},
   "outputs": [],
   "source": [
    "cigarro_com = com_info.loc[com_info['Tipo de Embalagem'] == 'Cigarro(s)']\n",
    "cigarro_com = cigarro_com.loc[cigarro_com['Unidade de Peso'] == 'Grama']\n",
    "cigarro_com = cigarro_com.loc[cigarro_com['Peso Unitário'].notna()]\n",
    "cigarro_com = cigarro_com.reset_index(drop=True)\n",
    "cigarro_com['Peso Unitário'] = cigarro_com['Peso Unitário'].astype(float) \n",
    "print('Média')\n",
    "print(cigarro_com['Peso Unitário'].mean())\n",
    "print('Mediana')\n",
    "print(cigarro_com['Peso Unitário'].median())\n",
    "print('Quartil')\n",
    "print(cigarro_com['Peso Unitário'].quantile(0.25))"
   ]
  },
  {
   "cell_type": "code",
   "execution_count": null,
   "metadata": {},
   "outputs": [],
   "source": [
    "cigarro_sem = sem_info.loc[sem_info['Tipo de Embalagem'] == 'Cigarro(s)']\n",
    "cigarro_sem['Unidade de Peso'] = 'Grama'\n",
    "cigarro_sem['Peso Unitário'] = cigarro_com['Peso Unitário'].median()"
   ]
  },
  {
   "cell_type": "code",
   "execution_count": null,
   "metadata": {},
   "outputs": [],
   "source": [
    "unidade_com = com_info.loc[com_info['Tipo de Embalagem'] == 'Unidade(s)']\n",
    "unidade_com = unidade_com.loc[unidade_com['Unidade de Peso'] == 'Grama']\n",
    "unidade_com = unidade_com.loc[unidade_com['Peso Unitário'].notna()]\n",
    "unidade_com = unidade_com.reset_index(drop=True)\n",
    "unidade_com['Peso Unitário'] = unidade_com['Peso Unitário'].astype(float) \n",
    "print('Média')\n",
    "print(unidade_com['Peso Unitário'].mean())\n",
    "print('Mediana')\n",
    "print(unidade_com['Peso Unitário'].median())\n",
    "print('Quartil')\n",
    "print(unidade_com['Peso Unitário'].quantile(0.25))"
   ]
  },
  {
   "cell_type": "code",
   "execution_count": null,
   "metadata": {},
   "outputs": [],
   "source": [
    "unidade_sem = sem_info.loc[sem_info['Tipo de Embalagem'] == 'Unidade(s)']\n",
    "unidade_sem['Unidade de Peso'] = 'Grama'\n",
    "unidade_sem['Peso Unitário'] = unidade_com['Peso Unitário'].median()"
   ]
  },
  {
   "cell_type": "code",
   "execution_count": null,
   "metadata": {},
   "outputs": [],
   "source": [
    "tijolo_com = com_info.loc[com_info['Tipo de Embalagem'] == 'Tijolo(s)']\n",
    "tijolo_com = tijolo_com.loc[tijolo_com['Unidade de Peso'] == 'Grama']\n",
    "tijolo_com = tijolo_com.loc[tijolo_com['Peso Unitário'].notna()]\n",
    "tijolo_com = tijolo_com.reset_index(drop=True)\n",
    "tijolo_com['Peso Unitário'] = tijolo_com['Peso Unitário'].astype(float) \n",
    "print('Média')\n",
    "print(tijolo_com['Peso Unitário'].mean())\n",
    "print('Mediana')\n",
    "print(tijolo_com['Peso Unitário'].median())\n",
    "print('Quartil')\n",
    "print(tijolo_com['Peso Unitário'].quantile(0.25))"
   ]
  },
  {
   "cell_type": "code",
   "execution_count": null,
   "metadata": {},
   "outputs": [],
   "source": [
    "tijolo_sem = sem_info.loc[sem_info['Tipo de Embalagem'] == 'Tijolo(s)']\n",
    "tijolo_sem['Unidade de Peso'] = 'Grama'\n",
    "tijolo_sem['Peso Unitário'] = tijolo_com['Peso Unitário'].median()"
   ]
  },
  {
   "cell_type": "code",
   "execution_count": null,
   "metadata": {},
   "outputs": [],
   "source": [
    "frasco_com = com_info.loc[com_info['Tipo de Embalagem'] == 'Frasco(s)']\n",
    "frasco_com = frasco_com.loc[frasco_com['Unidade de Peso'] == 'Grama']\n",
    "frasco_com = frasco_com.loc[frasco_com['Peso Unitário'].notna()]\n",
    "frasco_com = frasco_com.reset_index(drop=True)\n",
    "frasco_com['Peso Unitário'] = frasco_com['Peso Unitário'].astype(float) \n",
    "print('Média')\n",
    "print(frasco_com['Peso Unitário'].mean())\n",
    "print('Mediana')\n",
    "print(frasco_com['Peso Unitário'].median())\n",
    "print('Quartil')\n",
    "print(frasco_com['Peso Unitário'].quantile(0.25))"
   ]
  },
  {
   "cell_type": "code",
   "execution_count": null,
   "metadata": {},
   "outputs": [],
   "source": [
    "frasco_sem = sem_info.loc[sem_info['Tipo de Embalagem'] == 'Frasco(s)']\n",
    "frasco_sem['Unidade de Peso'] = 'Grama'\n",
    "frasco_sem['Peso Unitário'] = frasco_com['Peso Unitário'].median()"
   ]
  },
  {
   "cell_type": "code",
   "execution_count": null,
   "metadata": {},
   "outputs": [],
   "source": [
    "pacote_com = com_info.loc[com_info['Tipo de Embalagem'] == 'Pacote(s)']\n",
    "pacote_com = pacote_com.loc[pacote_com['Unidade de Peso'] == 'Grama']\n",
    "pacote_com = pacote_com.loc[pacote_com['Peso Unitário'].notna()]\n",
    "pacote_com = pacote_com.reset_index(drop=True)\n",
    "pacote_com['Peso Unitário'] = pacote_com['Peso Unitário'].astype(float) \n",
    "print('Média')\n",
    "print(pacote_com['Peso Unitário'].mean())\n",
    "print('Mediana')\n",
    "print(pacote_com['Peso Unitário'].median())\n",
    "print('Quartil')\n",
    "print(pacote_com['Peso Unitário'].quantile(0.25))"
   ]
  },
  {
   "cell_type": "code",
   "execution_count": null,
   "metadata": {},
   "outputs": [],
   "source": [
    "pacote_sem = sem_info.loc[sem_info['Tipo de Embalagem'] == 'Pacote(s)']\n",
    "pacote_sem['Unidade de Peso'] = 'Grama'\n",
    "pacote_sem['Peso Unitário'] = pacote_com['Peso Unitário'].median()"
   ]
  },
  {
   "cell_type": "code",
   "execution_count": null,
   "metadata": {},
   "outputs": [],
   "source": [
    "saco_com = com_info.loc[com_info['Tipo de Embalagem'] == 'Saco(s)']\n",
    "saco_com = saco_com.loc[saco_com['Unidade de Peso'] == 'Grama']\n",
    "saco_com = saco_com.loc[saco_com['Peso Unitário'].notna()]\n",
    "saco_com = saco_com.reset_index(drop=True)\n",
    "saco_com['Peso Unitário'] = saco_com['Peso Unitário'].astype(float) \n",
    "print('Média')\n",
    "print(saco_com['Peso Unitário'].mean())\n",
    "print('Mediana')\n",
    "print(saco_com['Peso Unitário'].median())\n",
    "print('Quartil')\n",
    "print(saco_com['Peso Unitário'].quantile(0.25))"
   ]
  },
  {
   "cell_type": "code",
   "execution_count": null,
   "metadata": {},
   "outputs": [],
   "source": [
    "saco_sem = sem_info.loc[sem_info['Tipo de Embalagem'] == 'Saco(s)']\n",
    "saco_sem['Unidade de Peso'] = 'Grama'\n",
    "saco_sem['Peso Unitário'] = saco_com['Peso Unitário'].median()"
   ]
  },
  {
   "cell_type": "code",
   "execution_count": null,
   "metadata": {},
   "outputs": [],
   "source": [
    "ponto_com = com_info.loc[com_info['Tipo de Embalagem'] == 'Ponto(s)']\n",
    "ponto_com = ponto_com.loc[ponto_com['Unidade de Peso'] == 'Grama']\n",
    "ponto_com = ponto_com.loc[ponto_com['Peso Unitário'].notna()]\n",
    "ponto_com = ponto_com.reset_index(drop=True)\n",
    "ponto_com['Peso Unitário'] = ponto_com['Peso Unitário'].astype(float) \n",
    "print('Média')\n",
    "print(ponto_com['Peso Unitário'].mean())\n",
    "print('Mediana')\n",
    "print(ponto_com['Peso Unitário'].median())\n",
    "print('Quartil')\n",
    "print(ponto_com['Peso Unitário'].quantile(0.25))"
   ]
  },
  {
   "cell_type": "code",
   "execution_count": null,
   "metadata": {},
   "outputs": [],
   "source": [
    "ponto_sem = sem_info.loc[sem_info['Tipo de Embalagem'] == 'Ponto(s)']\n",
    "ponto_sem['Unidade de Peso'] = 'Grama'\n",
    "ponto_sem['Peso Unitário'] = ponto_com['Peso Unitário'].median()"
   ]
  },
  {
   "cell_type": "code",
   "execution_count": null,
   "metadata": {},
   "outputs": [],
   "source": [
    "lista = [ponto_sem, saco_sem, tijolo_sem, unidade_sem, cigarro_sem, pacote_sem, frasco_sem, porcao_sem]\n",
    "sem_info2 = pd.concat(lista)"
   ]
  },
  {
   "cell_type": "code",
   "execution_count": null,
   "metadata": {},
   "outputs": [],
   "source": [
    "lista = [sem_info2, com_info]\n",
    "resultado = pd.concat(lista)\n",
    "resultado = resultado.reset_index(drop=True)\n"
   ]
  },
  {
   "cell_type": "code",
   "execution_count": null,
   "metadata": {},
   "outputs": [],
   "source": [
    "resultado['Unidade de Peso'].value_counts()"
   ]
  },
  {
   "cell_type": "code",
   "execution_count": null,
   "metadata": {},
   "outputs": [],
   "source": [
    "cores = resultado['Unidade de Peso'].value_counts()\n",
    "cores = pd.DataFrame(cores)\n",
    "cores = cores.reset_index()\n",
    "cores = cores.T\n",
    "cores = cores.rename(columns={0:cores[0][0],1:cores[1][0],2:cores[2][0],3:cores[3][0]})\n",
    "cores = cores.iloc[1:]\n",
    "cores1 = resultado['Unidade de Peso'].value_counts(normalize=True)\n",
    "cores1 = pd.DataFrame(cores1)\n",
    "cores1 = cores1.reset_index()\n",
    "cores1 = cores1.T\n",
    "cores1 = cores1.rename(columns={0:cores1[0][0],1:cores1[1][0],2:cores1[2][0],3:cores1[3][0]\n",
    "                             })\n",
    "#cores1 = cores.iloc[1:]\n",
    "cores1\n",
    "lista = [cores,cores1]\n",
    "cores2 = pd.concat(lista)\n",
    "cores2 = cores2.reset_index(drop=True)\n",
    "cores2 = cores2.drop([1], axis = 0)\n",
    "cores2 = cores2.rename(index={0:'Quantidade', 2:\"%\"})\n",
    "cores2"
   ]
  },
  {
   "cell_type": "code",
   "execution_count": null,
   "metadata": {},
   "outputs": [],
   "source": [
    "stores_df = resultado\n",
    "\n",
    "f, (ax2) = plt.subplots(1, 1, figsize=(12, 6))\n",
    "palette ={\"Verde\": \"green\", \"Marrom\": \"brown\", \"Branco\": \"white\", \"Amarelo\": \"yellow\",\"Cinza\":'grey',\"Dourado\":'gold',\"Laranja\":\"orange\",\"Azul\":\"Blue\",\"Vermelho\":\"Red\",'Bege':'beige',\"Preto\":\"black\", \"Incolor\":\"blue\", \"Rosa\":\"pink\"}\n",
    "\n",
    "#sns.countplot(x=\"Cor Predominante\", data=stores_df, ax=ax1, palette = palette)\n",
    "sns.countplot(x=\"Unidade de Peso\", data=stores_df, ax=ax2)\n",
    "#sns.countplot(x=\"TXT_TIPO_OBJETO\", data=stores_df, ax=ax3, palette= palette)\n",
    "palette ={\"Maconha\": \"green\", \"Cocaína\": \"white\", \"Crack\": \"yellow\", \"Drogas\": \"blue\"}\n",
    "#plt.setp(ax1.xaxis.get_majorticklabels(), rotation=70)\n",
    "plt.setp(ax2.xaxis.get_majorticklabels(), rotation=70)\n",
    "ax2.set(xlabel=None)\n",
    "#ax1.set_ylabel(\"Quantidade\",fontsize=20)\n",
    "ax2.set_ylabel(\"Quantidade\",fontsize=20)\n",
    "plt.grid(axis='x')\n",
    "plt.tight_layout()\n",
    "plt.title('Unidade de Peso')"
   ]
  },
  {
   "cell_type": "markdown",
   "metadata": {},
   "source": [
    "<h1><center>TIPO DE OBJETO</center></h1>"
   ]
  },
  {
   "cell_type": "code",
   "execution_count": null,
   "metadata": {},
   "outputs": [],
   "source": [
    "cores = resultado['TXT_TIPO_OBJETO'].value_counts()\n",
    "cores = pd.DataFrame(cores)\n",
    "cores = cores.reset_index()\n",
    "cores = cores.T\n",
    "cores = cores.rename(columns={0:cores[0][0],1:cores[1][0],2:cores[2][0],3:cores[3][0]})\n",
    "cores = cores.iloc[1:]\n",
    "cores1 = resultado['TXT_TIPO_OBJETO'].value_counts(normalize=True)\n",
    "cores1 = pd.DataFrame(cores1)\n",
    "cores1 = cores1.reset_index()\n",
    "cores1 = cores1.T\n",
    "cores1 = cores1.rename(columns={0:cores1[0][0],1:cores1[1][0],2:cores1[2][0],3:cores1[3][0][0]\n",
    "                             })\n",
    "#cores1 = cores.iloc[1:]\n",
    "cores1\n",
    "lista = [cores,cores1]\n",
    "cores2 = pd.concat(lista)\n",
    "cores2 = cores2.reset_index(drop=True)\n",
    "cores2 = cores2.drop([1], axis = 0)\n",
    "cores2 = cores2.rename(index={0:'Quantidade', 2:\"%\"})\n",
    "cores2['Crack']['%'] = cores2['C']['%']\n",
    "cores2 = cores2.drop(['C'], axis = 1)\n",
    "cores2"
   ]
  },
  {
   "cell_type": "code",
   "execution_count": null,
   "metadata": {},
   "outputs": [],
   "source": [
    "stores_df = resultado\n",
    "\n",
    "palette ={\"Maconha\": \"green\", \"Cocaína\": \"white\", \"Crack\": \"yellow\", \"Drogas\": \"blue\"}\n",
    "f, (ax3) = plt.subplots(1, 1, figsize=(14, 5))\n",
    "sns.set(font_scale=1.5)\n",
    "\n",
    "sns.countplot(x=\"TXT_TIPO_OBJETO\", data=stores_df, ax=ax3, palette= palette, alpha = 0.7, linewidth=2.5, edgecolor=\".0\")\n",
    "ax3.set_facecolor('#ababab')\n",
    "ax3.patch.set_alpha(0.3)\n",
    "ax3.set_xlabel(\"Tipo de Objeto\",fontsize=20)\n",
    "ax3.set_ylabel(\"Quantidade\",fontsize=20)\n",
    "ax3.set_xticklabels(ax3.get_xmajorticklabels(), fontsize = 15)\n",
    "#ax3.set_yticklabels(ax3,fontsize = 18)\n",
    "ax3.set(xlabel=None)\n",
    "plt.setp(ax1.xaxis.get_majorticklabels(), rotation=70)\n",
    "plt.setp(ax2.xaxis.get_majorticklabels(), rotation=70)\n",
    "plt.grid(axis='x')\n",
    "plt.tight_layout()\n",
    "plt.title('Tipo de Objeto')"
   ]
  },
  {
   "cell_type": "code",
   "execution_count": null,
   "metadata": {},
   "outputs": [],
   "source": [
    "Drogas = resultado.loc[resultado['TXT_TIPO_OBJETO'] == 'Drogas']\n",
    "Drogas.sample(5)"
   ]
  },
  {
   "cell_type": "code",
   "execution_count": null,
   "metadata": {},
   "outputs": [],
   "source": [
    "import unidecode\n",
    "\n",
    "Drogas = resultado.loc[resultado['TXT_TIPO_OBJETO'] == 'Drogas']\n",
    "Outras = resultado.loc[resultado['TXT_TIPO_OBJETO'] != 'Drogas']\n",
    "Outras = Outras.reset_index(drop= True)\n",
    "DrogasNA = Drogas.loc[Drogas['Descrição'].isnull()]\n",
    "DrogasNA = DrogasNA.reset_index(drop=True)\n",
    "Drogas = Drogas.loc[Drogas['Descrição'].notna()]\n",
    "Drogas = Drogas.reset_index(drop=True)\n",
    "\n",
    "x = 0\n",
    "while x < len(Drogas):\n",
    "    frase = Drogas['Descrição'][x]\n",
    "    frase = frase.replace(',','')\n",
    "    frase = frase.replace('.','')\n",
    "    frase = unidecode.unidecode(frase)\n",
    "    Drogas['Descrição'][x] = frase\n",
    "    x += 1\n",
    "    \n",
    "Drogas['Descrição'] = Drogas['Descrição'].str.lower()\n",
    "\n"
   ]
  },
  {
   "cell_type": "code",
   "execution_count": null,
   "metadata": {
    "scrolled": false
   },
   "outputs": [],
   "source": [
    "\n",
    "Drogas = Drogas.reset_index(drop=True)\n",
    "x = 0\n",
    "m = 0\n",
    "c = 0\n",
    "ck = 0\n",
    "mc = 0\n",
    "mck = 0\n",
    "cck = 0\n",
    "while x < len(Drogas):\n",
    "    if 'maconha' in Drogas.Descrição[x]:\n",
    "        Drogas['TXT_TIPO_OBJETO'].loc[x] = 'Maconha'\n",
    "        m += 1\n",
    "    if 'cannabis' in Drogas.Descrição[x]:\n",
    "        Drogas['TXT_TIPO_OBJETO'].loc[x] = 'Maconha'\n",
    "        m += 1\n",
    "    if 'canabis' in Drogas.Descrição[x]:\n",
    "        Drogas['TXT_TIPO_OBJETO'].loc[x] = 'Maconha'\n",
    "        m += 1\n",
    "        \n",
    "    if 'cocaina' in Drogas.Descrição[x]:\n",
    "        Drogas['TXT_TIPO_OBJETO'].loc[x] = 'Cocaína'\n",
    "        c += 1\n",
    "    if 'crack' in Drogas.Descrição[x]:\n",
    "        Drogas['TXT_TIPO_OBJETO'].loc[x] = 'Crack'\n",
    "        ck += 1\n",
    "    if 'maconha' in Drogas.Descrição[x] and 'cocaina' in Drogas.Descrição[x]:\n",
    "        mc += 1\n",
    "    if 'maconha' in Drogas.Descrição[x] and 'crack' in Drogas.Descrição[x]:\n",
    "        mck += 1\n",
    "    if 'cocaina' in Drogas.Descrição[x] and 'crack' in Drogas.Descrição[x]:\n",
    "        cck += 1\n",
    "    x += 1\n",
    "\n",
    "print('Achei %d maconha ' % m)\n",
    "print('Achei %d cocaina ' % c)\n",
    "print('Achei %d crack ' % ck)\n",
    "print('Achei %d com maconha e cocaina' % mc)\n",
    "print('Achei %d com maconha e crack' % mck)\n",
    "print('Achei %d com cocaina e crack' % cck)"
   ]
  },
  {
   "cell_type": "code",
   "execution_count": null,
   "metadata": {},
   "outputs": [],
   "source": [
    "listaDrogas = [Drogas, DrogasNA]\n",
    "Drogas = pd.concat(listaDrogas)\n",
    "Drogas = Drogas.reset_index(drop=True)\n",
    "lista = [Drogas, Outras]\n",
    "Todas = pd.concat(lista)\n",
    "Todas = Todas.reset_index(drop=True)"
   ]
  },
  {
   "cell_type": "code",
   "execution_count": null,
   "metadata": {},
   "outputs": [],
   "source": [
    "stores_df = Todas\n",
    "\n",
    "palette ={\"Maconha\": \"green\", \"Cocaína\": \"white\", \"Crack\": \"yellow\", \"Drogas\": \"blue\"}\n",
    "f, (ax3) = plt.subplots(1, 1, figsize=(14, 5))\n",
    "sns.set(font_scale=1.5)\n",
    "\n",
    "sns.countplot(x=\"TXT_TIPO_OBJETO\", data=stores_df, ax=ax3, palette= palette, alpha = 0.7, linewidth=2.5, edgecolor=\".0\")\n",
    "ax3.set_facecolor('#ababab')\n",
    "ax3.patch.set_alpha(0.3)\n",
    "ax3.set_xlabel(\"Tipo de Objeto\",fontsize=20)\n",
    "ax3.set_ylabel(\"Quantidade\",fontsize=20)\n",
    "ax3.set_xticklabels(ax3.get_xmajorticklabels(), fontsize = 15)\n",
    "#ax3.set_yticklabels(ax3,fontsize = 18)\n",
    "\n",
    "plt.setp(ax1.xaxis.get_majorticklabels(), rotation=70)\n",
    "plt.setp(ax2.xaxis.get_majorticklabels(), rotation=70)\n",
    "ax3.set(xlabel=None)\n",
    "plt.grid(axis='x')\n",
    "plt.tight_layout()\n",
    "plt.title('Tipo de Objeto')"
   ]
  },
  {
   "cell_type": "code",
   "execution_count": null,
   "metadata": {},
   "outputs": [],
   "source": [
    "cores = Todas['TXT_TIPO_OBJETO'].value_counts()\n",
    "cores = pd.DataFrame(cores)\n",
    "cores = cores.reset_index()\n",
    "cores = cores.T\n",
    "cores = cores.rename(columns={0:cores[0][0],1:cores[1][0],2:cores[2][0],3:cores[3][0]})\n",
    "cores = cores.iloc[1:]\n",
    "cores1 = Todas['TXT_TIPO_OBJETO'].value_counts(normalize=True)\n",
    "cores1 = pd.DataFrame(cores1)\n",
    "cores1 = cores1.reset_index()\n",
    "cores1 = cores1.T\n",
    "cores1 = cores1.rename(columns={0:cores1[0][0],1:cores1[1][0],2:cores1[2][0],3:cores1[3][0][0]\n",
    "                             })\n",
    "#cores1 = cores.iloc[1:]\n",
    "cores1\n",
    "lista = [cores,cores1]\n",
    "cores2 = pd.concat(lista)\n",
    "cores2 = cores2.reset_index(drop=True)\n",
    "cores2 = cores2.drop([1], axis = 0)\n",
    "cores2 = cores2.rename(index={0:'Quantidade', 2:\"%\"})\n",
    "cores2['Drogas']['%'] = cores2['D']['%']\n",
    "cores2 = cores2.drop(['D'], axis = 1)\n",
    "cores2"
   ]
  },
  {
   "cell_type": "code",
   "execution_count": null,
   "metadata": {},
   "outputs": [],
   "source": [
    "resultado['Unidade de Peso'].value_counts()"
   ]
  },
  {
   "cell_type": "code",
   "execution_count": null,
   "metadata": {},
   "outputs": [],
   "source": [
    "x = 0\n",
    "while x < len(resultado):\n",
    "    if resultado['Unidade de Peso'][x] == 'Miligrama':\n",
    "        resultado['Peso Unitário'][x] = resultado['Peso Unitário'][x] / 1000\n",
    "        resultado['Unidade de Peso'][x] = 'Grama'\n",
    "    if resultado['Unidade de Peso'][x] == 'Quilograma':\n",
    "        resultado['Peso Unitário'][x] = resultado['Peso Unitário'][x] * 1000\n",
    "        resultado['Unidade de Peso'][x] = 'Grama'\n",
    "    if resultado['Unidade de Peso'][x] == 'Decigrama':\n",
    "        resultado['Peso Unitário'][x] = resultado['Peso Unitário'][x] / 10\n",
    "        resultado['Unidade de Peso'][x] = 'Grama'\n",
    "    if resultado['Unidade de Peso'][x] == 'Tonelada':\n",
    "        resultado['Peso Unitário'][x] = resultado['Peso Unitário'][x] * 1000000\n",
    "        resultado['Unidade de Peso'][x] = 'Grama'\n",
    "    else:\n",
    "        x = x\n",
    "    x += 1"
   ]
  },
  {
   "cell_type": "code",
   "execution_count": null,
   "metadata": {},
   "outputs": [],
   "source": [
    "x = 0\n",
    "\n",
    "while x < len(resultado):\n",
    "    if resultado['Quantidade de Unidade(s)'][x] == '-':\n",
    "        resultado['Quantidade de Unidade(s)'][x] = 0\n",
    "    x += 1"
   ]
  },
  {
   "cell_type": "code",
   "execution_count": null,
   "metadata": {},
   "outputs": [],
   "source": [
    "resultado['Quantidade de Unidade(s)'] = resultado['Quantidade de Unidade(s)'].astype(float) "
   ]
  },
  {
   "cell_type": "code",
   "execution_count": null,
   "metadata": {},
   "outputs": [],
   "source": [
    "resultado2 = resultado.loc[resultado['Peso Total'] > 0]\n",
    "resultado2 = resultado2.reset_index(drop=True)\n",
    "resultado2.shape\n",
    "# RESULTADO 2 = COM PESO TOTAL, PRONTO #"
   ]
  },
  {
   "cell_type": "code",
   "execution_count": null,
   "metadata": {},
   "outputs": [],
   "source": [
    "semtotal = resultado.loc[resultado['Peso Total'] < 0.001]\n",
    "semtotal = semtotal.reset_index(drop=True)\n",
    "semtotal.shape"
   ]
  },
  {
   "cell_type": "code",
   "execution_count": null,
   "metadata": {},
   "outputs": [],
   "source": [
    "com_quantidade =  semtotal.loc[semtotal['Quantidade de Unidade(s)'] > 0]\n",
    "com_unitario = com_quantidade.loc[com_quantidade['Peso Unitário'] > 0]\n",
    "com_unitario.shape"
   ]
  },
  {
   "cell_type": "code",
   "execution_count": null,
   "metadata": {},
   "outputs": [],
   "source": [
    "resultado3 = com_unitario\n",
    "resultado3['Peso Total'] = com_unitario['Quantidade de Unidade(s)'] * com_unitario['Peso Unitário']\n",
    "# RESULTADO 3 = COM PESO TOTAL, PRONTO #"
   ]
  },
  {
   "cell_type": "code",
   "execution_count": null,
   "metadata": {},
   "outputs": [],
   "source": [
    "resultado3"
   ]
  },
  {
   "cell_type": "code",
   "execution_count": null,
   "metadata": {},
   "outputs": [],
   "source": [
    "sem_unitario = com_quantidade.loc[com_quantidade['Peso Unitário'] < 0.001]\n",
    "sem_unitario.shape"
   ]
  },
  {
   "cell_type": "code",
   "execution_count": null,
   "metadata": {},
   "outputs": [],
   "source": [
    "df = semtotal.merge(com_unitario, on='CHAVE_OBJETO', how='outer', indicator = True)"
   ]
  },
  {
   "cell_type": "code",
   "execution_count": null,
   "metadata": {},
   "outputs": [],
   "source": [
    "df.shape"
   ]
  },
  {
   "cell_type": "code",
   "execution_count": null,
   "metadata": {},
   "outputs": [],
   "source": [
    "df = df.loc[df['_merge'] != 'both']\n",
    "df.shape"
   ]
  },
  {
   "cell_type": "code",
   "execution_count": null,
   "metadata": {},
   "outputs": [],
   "source": [
    "df.columns"
   ]
  },
  {
   "cell_type": "code",
   "execution_count": null,
   "metadata": {},
   "outputs": [],
   "source": [
    "df = df.rename(columns={'TXT_TIPO_OBJETO_x':'TXT_TIPO_OBJETO', 'Peso Total_x':'Peso Total',\n",
    "       'Cor Predominante_x':'Cor Predominante', 'Descrição_x':'Descrição', 'Unidade de Peso_x':'Unidade de Peso',\n",
    "       'Tipo de Embalagem_x':'Tipo de Embalagem', 'Peso Unitário_x':'Peso Unitário', 'Quantidade de Unidade(s)_x':'Quantidade de Unidade(s)'})\n",
    "df = df[['CHAVE_OBJETO', 'TXT_TIPO_OBJETO', 'Peso Total',\n",
    "       'Cor Predominante', 'Descrição', 'Unidade de Peso', 'Tipo de Embalagem',\n",
    "       'Peso Unitário', 'Quantidade de Unidade(s)']]"
   ]
  },
  {
   "cell_type": "code",
   "execution_count": null,
   "metadata": {},
   "outputs": [],
   "source": [
    "df = df. reset_index(drop=True)\n"
   ]
  },
  {
   "cell_type": "code",
   "execution_count": null,
   "metadata": {},
   "outputs": [],
   "source": [
    "df_maconha = df.loc[df['TXT_TIPO_OBJETO'] == 'Maconha']\n",
    "df_maconha = df_maconha.reset_index(drop=True)\n",
    "\n",
    "df_cocaina = df.loc[df['TXT_TIPO_OBJETO'] == 'Cocaína']\n",
    "df_cocaina = df_cocaina.reset_index(drop=True)\n",
    "\n",
    "df_crack = df.loc[df['TXT_TIPO_OBJETO'] == 'Crack']\n",
    "df_crack = df_crack.reset_index(drop=True)\n",
    "\n",
    "df_drogas = df.loc[df['TXT_TIPO_OBJETO'] == 'Drogas']\n",
    "df_drogas = df_drogas.reset_index(drop=True)\n",
    "\n",
    "print(df_crack.shape)\n",
    "print(df_maconha.shape)\n",
    "print(df_cocaina.shape)\n",
    "print(df_drogas.shape)"
   ]
  },
  {
   "cell_type": "code",
   "execution_count": null,
   "metadata": {},
   "outputs": [],
   "source": [
    "#MACONHA#\n",
    "maconha_resultado2 = resultado2.loc[resultado2['TXT_TIPO_OBJETO'] == 'Maconha']\n",
    "maconha_resultado2 = maconha_resultado2.reset_index(drop=True)\n",
    "maconha_mediana_pU = maconha_resultado2['Peso Unitário'].median()\n",
    "print(maconha_mediana_pU)"
   ]
  },
  {
   "cell_type": "code",
   "execution_count": null,
   "metadata": {},
   "outputs": [],
   "source": [
    "#COCAINA#\n",
    "maconha_resultado2 = resultado2.loc[resultado2['TXT_TIPO_OBJETO'] == 'Cocaína']\n",
    "maconha_resultado2 = maconha_resultado2.reset_index(drop=True)\n",
    "cocaina_mediana_pU = maconha_resultado2['Peso Unitário'].median()\n",
    "print(cocaina_mediana_pU)"
   ]
  },
  {
   "cell_type": "code",
   "execution_count": null,
   "metadata": {},
   "outputs": [],
   "source": [
    "#CRACK#\n",
    "maconha_resultado2 = resultado2.loc[resultado2['TXT_TIPO_OBJETO'] == 'Crack']\n",
    "maconha_resultado2 = maconha_resultado2.reset_index(drop=True)\n",
    "crack_mediana_pU = maconha_resultado2['Peso Unitário'].median()\n",
    "print(crack_mediana_pU)"
   ]
  },
  {
   "cell_type": "code",
   "execution_count": null,
   "metadata": {},
   "outputs": [],
   "source": [
    "#DROGAS#\n",
    "maconha_resultado2 = resultado2.loc[resultado2['TXT_TIPO_OBJETO'] == 'Drogas']\n",
    "maconha_resultado2 = maconha_resultado2.reset_index(drop=True)\n",
    "drogas_mediana_pU = maconha_resultado2['Peso Unitário'].median()\n",
    "print(drogas_mediana_pU)"
   ]
  },
  {
   "cell_type": "code",
   "execution_count": null,
   "metadata": {},
   "outputs": [],
   "source": [
    "df1 = df.loc[df['Quantidade de Unidade(s)'] > 0]\n",
    "df1 = df1.reset_index(drop=True)\n",
    "\n",
    "df2 = df.loc[df['Quantidade de Unidade(s)'] < 0.001]\n",
    "df2 = df2.reset_index(drop=True)"
   ]
  },
  {
   "cell_type": "code",
   "execution_count": null,
   "metadata": {},
   "outputs": [],
   "source": [
    "df1.shape"
   ]
  },
  {
   "cell_type": "code",
   "execution_count": null,
   "metadata": {},
   "outputs": [],
   "source": [
    "df2.shape"
   ]
  },
  {
   "cell_type": "code",
   "execution_count": null,
   "metadata": {},
   "outputs": [],
   "source": [
    "x = 0\n",
    "\n",
    "while x < len(df1):\n",
    "    if df1['TXT_TIPO_OBJETO'][x] == 'Maconha':\n",
    "        df1['Peso Unitário'][x] = maconha_mediana_pU\n",
    "    if df1['TXT_TIPO_OBJETO'][x] == 'Cocaína':\n",
    "        df1['Peso Unitário'][x] = cocaina_mediana_pU\n",
    "    if df1['TXT_TIPO_OBJETO'][x] == 'Crack':\n",
    "        df1['Peso Unitário'][x] = crack_mediana_pU\n",
    "    if df1['TXT_TIPO_OBJETO'][x] == 'Drogas':\n",
    "        df1['Peso Unitário'][x] = drogas_mediana_pU\n",
    "    x += 1"
   ]
  },
  {
   "cell_type": "code",
   "execution_count": null,
   "metadata": {},
   "outputs": [],
   "source": [
    "df1['Peso Total'] = df1['Peso Unitário'] * df1['Quantidade de Unidade(s)']\n",
    "# df1 com PESO TOTAL, PRONTO#"
   ]
  },
  {
   "cell_type": "code",
   "execution_count": null,
   "metadata": {},
   "outputs": [],
   "source": [
    "x = 0\n",
    "\n",
    "while x < len(df2):\n",
    "    if df2['TXT_TIPO_OBJETO'][x] == 'Maconha':\n",
    "        maconha_resultado2 = resultado2.loc[resultado2['TXT_TIPO_OBJETO'] == 'Maconha']\n",
    "        maconha_resultado2 = maconha_resultado2.reset_index(drop=True)\n",
    "        maconha_mediana_pT = maconha_resultado2['Peso Total'].median()\n",
    "        df2['Peso Total'][x] = maconha_mediana_pT\n",
    "    if df2['TXT_TIPO_OBJETO'][x] == 'Cocaína':\n",
    "        maconha_resultado2 = resultado2.loc[resultado2['TXT_TIPO_OBJETO'] == 'Cocaína']\n",
    "        maconha_resultado2 = maconha_resultado2.reset_index(drop=True)\n",
    "        maconha_mediana_pT = maconha_resultado2['Peso Total'].median()\n",
    "        df2['Peso Total'][x] = maconha_mediana_pT \n",
    "    if df2['TXT_TIPO_OBJETO'][x] == 'Crack':\n",
    "        maconha_resultado2 = resultado2.loc[resultado2['TXT_TIPO_OBJETO'] == 'Crack']\n",
    "        maconha_resultado2 = maconha_resultado2.reset_index(drop=True)\n",
    "        maconha_mediana_pT = maconha_resultado2['Peso Total'].median()\n",
    "        df2['Peso Total'][x] = maconha_mediana_pT\n",
    "    if df2['TXT_TIPO_OBJETO'][x] == 'Drogas':\n",
    "        maconha_resultado2 = resultado2.loc[resultado2['TXT_TIPO_OBJETO'] == 'Drogas']\n",
    "        maconha_resultado2 = maconha_resultado2.reset_index(drop=True)\n",
    "        maconha_mediana_pT = maconha_resultado2['Peso Total'].median()\n",
    "        df2['Peso Total'][x] = maconha_mediana_pT\n",
    "    x += 1"
   ]
  },
  {
   "cell_type": "code",
   "execution_count": null,
   "metadata": {},
   "outputs": [],
   "source": [
    "# df2, com PESO TOTAL, PRONTO#\n",
    "df.head(2)"
   ]
  },
  {
   "cell_type": "code",
   "execution_count": null,
   "metadata": {},
   "outputs": [],
   "source": [
    "lista = [resultado2, resultado3, df1, df2]\n",
    "tudo = pd.concat(lista)"
   ]
  },
  {
   "cell_type": "code",
   "execution_count": null,
   "metadata": {},
   "outputs": [],
   "source": [
    "tudo = tudo.reset_index(drop=True)"
   ]
  },
  {
   "cell_type": "code",
   "execution_count": null,
   "metadata": {},
   "outputs": [],
   "source": [
    "tudo['Peso Total'].sum()"
   ]
  },
  {
   "cell_type": "code",
   "execution_count": null,
   "metadata": {},
   "outputs": [],
   "source": [
    "maconha_tudo = tudo.loc[tudo['TXT_TIPO_OBJETO'] == 'Maconha']\n",
    "maconha_tudo = maconha_tudo.reset_index(drop=True)\n",
    "maconha_tudo = maconha_tudo.loc[maconha_tudo['Peso Total'] <= maconha_tudo['Peso Total'].quantile(0.99)]\n",
    "maconha_tudo = maconha_tudo.loc[maconha_tudo['Peso Total'] >= maconha_tudo['Peso Total'].quantile(0.01)]\n",
    "maconha_tudo = maconha_tudo.reset_index(drop=True)\n",
    "                                \n",
    "                                \n",
    "cocaina_tudo = tudo.loc[tudo['TXT_TIPO_OBJETO'] == 'Cocaína']\n",
    "cocaina_tudo = cocaina_tudo.reset_index(drop=True)\n",
    "cocaina_tudo = cocaina_tudo.loc[cocaina_tudo['Peso Total'] <= cocaina_tudo['Peso Total'].quantile(0.99)]\n",
    "cocaina_tudo = cocaina_tudo.loc[cocaina_tudo['Peso Total'] >= cocaina_tudo['Peso Total'].quantile(0.01)]\n",
    "cocaina_tudo = cocaina_tudo.reset_index(drop=True)\n",
    "\n",
    "crack_tudo = tudo.loc[tudo['TXT_TIPO_OBJETO'] == 'Crack']\n",
    "crack_tudo = crack_tudo.reset_index(drop=True)\n",
    "crack_tudo = crack_tudo.loc[crack_tudo['Peso Total'] <= crack_tudo['Peso Total'].quantile(0.99)]\n",
    "crack_tudo = crack_tudo.loc[crack_tudo['Peso Total'] >= crack_tudo['Peso Total'].quantile(0.01)]\n",
    "crack_tudo = crack_tudo.reset_index(drop=True)\n",
    "\n",
    "drogas_tudo = tudo.loc[tudo['TXT_TIPO_OBJETO'] == 'Drogas']\n",
    "drogas_tudo = drogas_tudo.reset_index(drop=True)\n",
    "drogas_tudo = drogas_tudo.loc[drogas_tudo['Peso Total'] <= drogas_tudo['Peso Total'].quantile(0.99)]\n",
    "drogas_tudo = drogas_tudo.loc[drogas_tudo['Peso Total'] >= drogas_tudo['Peso Total'].quantile(0.01)]\n",
    "drogas_tudo = drogas_tudo.reset_index(drop=True)"
   ]
  },
  {
   "cell_type": "code",
   "execution_count": null,
   "metadata": {},
   "outputs": [],
   "source": [
    "lista = [maconha_tudo, cocaina_tudo, crack_tudo, drogas_tudo]\n",
    "final = pd.concat(lista)\n",
    "final = final.reset_index(drop=True)"
   ]
  },
  {
   "cell_type": "code",
   "execution_count": null,
   "metadata": {},
   "outputs": [],
   "source": [
    "final"
   ]
  }
 ],
 "metadata": {
  "interpreter": {
   "hash": "9b9dc834f7e10f1366f4d9e5678a46b36a3e7c6702ac3d269ba7dc2d92aa0498"
  },
  "kernelspec": {
   "display_name": "Python 3",
   "language": "python",
   "name": "python3"
  },
  "language_info": {
   "codemirror_mode": {
    "name": "ipython",
    "version": 3
   },
   "file_extension": ".py",
   "mimetype": "text/x-python",
   "name": "python",
   "nbconvert_exporter": "python",
   "pygments_lexer": "ipython3",
   "version": "3.9.6"
  }
 },
 "nbformat": 4,
 "nbformat_minor": 4
}
