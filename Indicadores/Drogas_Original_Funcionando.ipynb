{
 "cells": [
  {
   "cell_type": "code",
   "execution_count": null,
   "source": [
    "import numpy as np\r\n",
    "import pandas as pd\r\n",
    "import matplotlib.pyplot as plt\r\n",
    "pd.set_option('display.max_rows', 1000)\r\n",
    "import seaborn as sns"
   ],
   "outputs": [],
   "metadata": {}
  },
  {
   "cell_type": "code",
   "execution_count": null,
   "source": [
    "drogas_final = pd.read_csv('Dados/GESEG_SBX_DROGA_EXPORT.csv', encoding = 'latin-1', sep = ';', index_col=0)"
   ],
   "outputs": [],
   "metadata": {}
  },
  {
   "cell_type": "code",
   "execution_count": null,
   "source": [
    "drogas_final_pivot = drogas_final.pivot(index=\"NRO_INT_OBJETO\", columns=\"ATRIBUTO\", values=\"QUANTIDADE\")"
   ],
   "outputs": [],
   "metadata": {}
  },
  {
   "cell_type": "code",
   "execution_count": null,
   "source": [
    "dg2_final = drogas_final[['NRO_INT_OBJETO','ANO_OCOR', 'NRO_OCOR','NRO_INT_TIPO_OBJETO','TIPO_OBJETO']].groupby([\"NRO_INT_OBJETO\"]).min()"
   ],
   "outputs": [],
   "metadata": {}
  },
  {
   "cell_type": "code",
   "execution_count": null,
   "source": [
    "dg2_final_sorted = dg2_final.sort_values(by=['NRO_INT_OBJETO'])\r\n",
    "drogas_pivot_final_sorted = drogas_final_pivot.sort_values(by=['NRO_INT_OBJETO'])"
   ],
   "outputs": [],
   "metadata": {}
  },
  {
   "cell_type": "code",
   "execution_count": null,
   "source": [
    "try_1_final = pd.concat([dg2_final_sorted, drogas_pivot_final_sorted],axis=1)"
   ],
   "outputs": [],
   "metadata": {}
  },
  {
   "cell_type": "code",
   "execution_count": null,
   "source": [
    "resultado = try_1_final.reset_index()"
   ],
   "outputs": [],
   "metadata": {}
  },
  {
   "cell_type": "code",
   "execution_count": null,
   "source": [
    "#Renomeando Coluans\r\n",
    "resultado = resultado.rename(columns={\"NRO_INT_OBJETO\": \"CHAVE_OBJETO\", \"TIPO_OBJETO\": \"TXT_TIPO_OBJETO\"})"
   ],
   "outputs": [],
   "metadata": {}
  },
  {
   "cell_type": "code",
   "execution_count": null,
   "source": [
    "#Mudando o float do padrão brasileiro para o americano\r\n",
    "#Criando novas colunas de Peso para analise e diferenciação de valores entre nova e antiga\r\n",
    "\r\n",
    "resultado['Peso Unitário'] = pd.to_numeric(resultado['Peso Unitário'].str.replace(',','.'), errors='coerce',downcast=\"float\")\r\n",
    "resultado['Peso Total'] = pd.to_numeric(resultado['Peso Total'].str.replace(',','.'), errors='coerce',downcast=\"float\")\r\n",
    "\r\n",
    "#Trocando dados NaN por 0\r\n",
    "resultado['Peso Unitário'] = resultado['Peso Unitário'].fillna(0)\r\n",
    "resultado['Peso Total'] = resultado['Peso Total'].fillna(0)\r\n",
    "\r\n",
    "\r\n",
    "#Trocando o tipo de dado para float\r\n",
    "resultado['Peso Total']  = resultado['Peso Total'].astype(float)\r\n",
    "resultado['Peso Unitário']  = resultado['Peso Unitário'].astype(float)"
   ],
   "outputs": [],
   "metadata": {}
  },
  {
   "cell_type": "markdown",
   "source": [
    "<h1><center>COR</center></h1>"
   ],
   "metadata": {}
  },
  {
   "cell_type": "code",
   "execution_count": null,
   "source": [
    "cores = resultado['Cor Predominante'].value_counts()\r\n",
    "cores = pd.DataFrame(cores)\r\n",
    "cores = cores.reset_index()\r\n",
    "cores = cores.T\r\n",
    "cores = cores.rename(columns={0:cores[0][0],1:cores[1][0],2:cores[2][0],3:cores[3][0],4:cores[4][0]\r\n",
    "                             ,5:cores[5][0],6:cores[6][0],7:cores[7][0],8:cores[8][0],9:cores[9][0]\r\n",
    "                             ,10:cores[10][0], 11:cores[11][0],12:cores[12][0]})\r\n",
    "cores = cores.iloc[1:]\r\n",
    "cores1 = resultado['Cor Predominante'].value_counts(normalize=True)\r\n",
    "cores1 = pd.DataFrame(cores1)\r\n",
    "cores1 = cores1.reset_index()\r\n",
    "cores1 = cores1.T\r\n",
    "cores1 = cores1.rename(columns={0:cores1[0][0],1:cores1[1][0],2:cores1[2][0],3:cores1[3][0],4:cores1[4][0]\r\n",
    "                             ,5:cores1[5][0],6:cores1[6][0],7:cores1[7][0],8:cores1[8][0],9:cores1[9][0]\r\n",
    "                             ,10:cores1[10][0], 11:cores1[11][0],12:cores1[12][0]})\r\n",
    "#cores1 = cores.iloc[1:]\r\n",
    "cores1\r\n",
    "lista = [cores,cores1]\r\n",
    "cores2 = pd.concat(lista)\r\n",
    "cores2 = cores2.reset_index(drop=True)\r\n",
    "cores2 = cores2.drop([1], axis = 0)\r\n",
    "cores2 = cores2.rename(index={0:'Quantidade', 2:\"%\"})\r\n",
    "cores2"
   ],
   "outputs": [],
   "metadata": {}
  },
  {
   "cell_type": "code",
   "execution_count": null,
   "source": [
    "stores_df = resultado\r\n",
    "\r\n",
    "f, (ax1) = plt.subplots(1, 1, figsize=(12, 6))\r\n",
    "#palette ={\"Verde\": \"green\", \"Marrom\": \"brown\", \"Branco\": \"white\", \"Amarelo\": \"yellow\",\"Cinza\":'grey',\"Dourado\":'gold',\"Laranja\":\"orange\",\"Azul\":\"Blue\",\"Vermelho\":\"Red\",'Bege':'beige',\"Preto\":\"black\", \"Incolor\":\"blue\", \"Rosa\":\"pink\", \"Cobreado\":'coper', \"Prateado\":'silver','Salmon':'salmon', \"Roxo\":'black'}\r\n",
    "\r\n",
    "sns.countplot(x=\"Cor Predominante\", data=stores_df, ax=ax1)\r\n",
    "#sns.countplot(x=\"Tipo de Embalagem\", data=stores_df, ax=ax2)\r\n",
    "#sns.countplot(x=\"TXT_TIPO_OBJETO\", data=stores_df, ax=ax3, palette= palette)\r\n",
    "palette ={\"Maconha\": \"green\", \"Cocaína\": \"white\", \"Crack\": \"yellow\", \"Drogas\": \"blue\"}\r\n",
    "plt.setp(ax1.xaxis.get_majorticklabels(), rotation=70)\r\n",
    "#plt.setp(ax2.xaxis.get_majorticklabels(), rotation=70)\r\n",
    "ax1.set_ylabel(\"Quantidade\",fontsize=20)\r\n",
    "ax1.set(xlabel=None)\r\n",
    "#ax2.set_ylabel(\"Quantidade\",fontsize=20)\r\n",
    "plt.tight_layout()\r\n",
    "plt.grid(axis='x')\r\n",
    "plt.title('Cor Predominante')"
   ],
   "outputs": [],
   "metadata": {}
  },
  {
   "cell_type": "markdown",
   "source": [
    "<h1><center>EMBALAGEM</center></h1>"
   ],
   "metadata": {}
  },
  {
   "cell_type": "code",
   "execution_count": null,
   "source": [
    "cores = resultado['Tipo de Embalagem'].value_counts()\r\n",
    "cores = pd.DataFrame(cores)\r\n",
    "cores = cores.reset_index()\r\n",
    "cores = cores.T\r\n",
    "cores = cores.rename(columns={0:cores[0][0],1:cores[1][0],2:cores[2][0],3:cores[3][0],4:cores[4][0]\r\n",
    "                             ,5:cores[5][0],6:cores[6][0],7:cores[7][0],8:cores[8][0],9:cores[9][0]\r\n",
    "                             ,10:cores[10][0], 11:cores[11][0],12:cores[12][0]})\r\n",
    "cores = cores.iloc[1:]\r\n",
    "cores1 = resultado['Tipo de Embalagem'].value_counts(normalize=True)\r\n",
    "cores1 = pd.DataFrame(cores1)\r\n",
    "cores1 = cores1.reset_index()\r\n",
    "cores1 = cores1.T\r\n",
    "cores1 = cores1.rename(columns={0:cores1[0][0],1:cores1[1][0],2:cores1[2][0],3:cores1[3][0],4:cores1[4][0]\r\n",
    "                             ,5:cores1[5][0],6:cores1[6][0],7:cores1[7][0],8:cores1[8][0],9:cores1[9][0]\r\n",
    "                             ,10:cores1[10][0], 11:cores1[11][0],12:cores1[12][0]})\r\n",
    "#cores1 = cores.iloc[1:]\r\n",
    "cores1\r\n",
    "lista = [cores,cores1]\r\n",
    "cores2 = pd.concat(lista)\r\n",
    "cores2 = cores2.reset_index(drop=True)\r\n",
    "cores2 = cores2.drop([1], axis = 0)\r\n",
    "cores2 = cores2.rename(index={0:'Quantidade', 2:\"%\"})\r\n",
    "cores2 = cores2.rename(columns={13:'Maço(s)', 14:'Kit(s)'})\r\n",
    "cores2"
   ],
   "outputs": [],
   "metadata": {}
  },
  {
   "cell_type": "code",
   "execution_count": null,
   "source": [
    "stores_df = resultado\r\n",
    "\r\n",
    "f, (ax2) = plt.subplots(1, 1, figsize=(12, 6))\r\n",
    "palette ={\"Verde\": \"green\", \"Marrom\": \"brown\", \"Branco\": \"white\", \"Amarelo\": \"yellow\",\"Cinza\":'grey',\"Dourado\":'gold',\"Laranja\":\"orange\",\"Azul\":\"Blue\",\"Vermelho\":\"Red\",'Bege':'beige',\"Preto\":\"black\", \"Incolor\":\"blue\", \"Rosa\":\"pink\"}\r\n",
    "\r\n",
    "#sns.countplot(x=\"Cor Predominante\", data=stores_df, ax=ax1, palette = palette)\r\n",
    "sns.countplot(x=\"Tipo de Embalagem\", data=stores_df, ax=ax2)\r\n",
    "#sns.countplot(x=\"TXT_TIPO_OBJETO\", data=stores_df, ax=ax3, palette= palette)\r\n",
    "palette ={\"Maconha\": \"green\", \"Cocaína\": \"white\", \"Crack\": \"yellow\", \"Drogas\": \"blue\"}\r\n",
    "#plt.setp(ax1.xaxis.get_majorticklabels(), rotation=70)\r\n",
    "plt.setp(ax2.xaxis.get_majorticklabels(), rotation=70)\r\n",
    "ax2.set(xlabel=None)\r\n",
    "#ax1.set_ylabel(\"Quantidade\",fontsize=20)\r\n",
    "ax2.set_ylabel(\"Quantidade\",fontsize=20)\r\n",
    "plt.tight_layout()\r\n",
    "plt.grid(axis='x')\r\n",
    "plt.title('Embalagem')"
   ],
   "outputs": [],
   "metadata": {}
  },
  {
   "cell_type": "markdown",
   "source": [
    "<h1><center>UNIDADE DE PESO</center></h1>"
   ],
   "metadata": {}
  },
  {
   "cell_type": "code",
   "execution_count": null,
   "source": [
    "cores = resultado['Unidade de Peso'].value_counts()\r\n",
    "cores = pd.DataFrame(cores)\r\n",
    "cores = cores.reset_index()\r\n",
    "cores = cores.T\r\n",
    "cores = cores.rename(columns={0:cores[0][0],1:cores[1][0],2:cores[2][0],3:cores[3][0],4:cores[4][0],5:cores[5][0]})\r\n",
    "cores = cores.iloc[1:]\r\n",
    "cores1 = resultado['Unidade de Peso'].value_counts(normalize=True)\r\n",
    "cores1 = pd.DataFrame(cores1)\r\n",
    "cores1 = cores1.reset_index()\r\n",
    "cores1 = cores1.T\r\n",
    "cores1 = cores1.rename(columns={0:cores1[0][0],1:cores1[1][0],2:cores1[2][0],3:cores1[3][0],4:cores1[4][0],5:cores1[5][0]\r\n",
    "                             })\r\n",
    "#cores1 = cores.iloc[1:]\r\n",
    "cores1\r\n",
    "lista = [cores,cores1]\r\n",
    "cores2 = pd.concat(lista)\r\n",
    "cores2 = cores2.reset_index(drop=True)\r\n",
    "cores2 = cores2.drop([1], axis = 0)\r\n",
    "cores2 = cores2.rename(index={0:'Quantidade', 2:\"%\"})\r\n",
    "cores2"
   ],
   "outputs": [],
   "metadata": {}
  },
  {
   "cell_type": "code",
   "execution_count": null,
   "source": [
    "stores_df = resultado\r\n",
    "\r\n",
    "f, (ax2) = plt.subplots(1, 1, figsize=(12, 6))\r\n",
    "palette ={\"Verde\": \"green\", \"Marrom\": \"brown\", \"Branco\": \"white\", \"Amarelo\": \"yellow\",\"Cinza\":'grey',\"Dourado\":'gold',\"Laranja\":\"orange\",\"Azul\":\"Blue\",\"Vermelho\":\"Red\",'Bege':'beige',\"Preto\":\"black\", \"Incolor\":\"blue\", \"Rosa\":\"pink\"}\r\n",
    "\r\n",
    "#sns.countplot(x=\"Cor Predominante\", data=stores_df, ax=ax1, palette = palette)\r\n",
    "sns.countplot(x=\"Unidade de Peso\", data=stores_df, ax=ax2)\r\n",
    "#sns.countplot(x=\"TXT_TIPO_OBJETO\", data=stores_df, ax=ax3, palette= palette)\r\n",
    "palette ={\"Maconha\": \"green\", \"Cocaína\": \"white\", \"Crack\": \"yellow\", \"Drogas\": \"blue\"}\r\n",
    "#plt.setp(ax1.xaxis.get_majorticklabels(), rotation=70)\r\n",
    "plt.setp(ax2.xaxis.get_majorticklabels(), rotation=70)\r\n",
    "ax2.set(xlabel=None)\r\n",
    "#ax1.set_ylabel(\"Quantidade\",fontsize=20)\r\n",
    "ax2.set_ylabel(\"Quantidade\",fontsize=20)\r\n",
    "plt.grid(axis='x')\r\n",
    "plt.tight_layout()\r\n",
    "plt.title('Unidade de Peso')"
   ],
   "outputs": [],
   "metadata": {}
  },
  {
   "cell_type": "code",
   "execution_count": null,
   "source": [
    "sem_info = resultado.loc[resultado['Unidade de Peso'] == 'Não soube informar']\r\n",
    "sem_info['Tipo de Embalagem'].value_counts()"
   ],
   "outputs": [],
   "metadata": {}
  },
  {
   "cell_type": "code",
   "execution_count": null,
   "source": [
    "sem_info = resultado.loc[resultado['Unidade de Peso'] == 'Não soube informar']\r\n",
    "com_info = resultado.loc[resultado['Unidade de Peso'] != 'Não soube informar']\r\n",
    "com_info = com_info.reset_index(drop= True)\r\n",
    "sem_info = sem_info.reset_index(drop=True)\r\n"
   ],
   "outputs": [],
   "metadata": {}
  },
  {
   "cell_type": "code",
   "execution_count": null,
   "source": [
    "porcao = com_info.loc[com_info['Tipo de Embalagem'] == 'Porção(es)']\r\n",
    "porcao = porcao.loc[porcao['Unidade de Peso'] == 'Grama']\r\n",
    "porcao = porcao.loc[porcao['Peso Unitário'].notna()]\r\n",
    "porcao = porcao.reset_index(drop=True)\r\n",
    "x = 0\r\n",
    "while x < len(porcao):\r\n",
    "    if porcao['Peso Unitário'][x] == '-':\r\n",
    "        porcao['Peso Unitário'][x] = 0\r\n",
    "    x += 1\r\n",
    "    \r\n",
    "porcao['Peso Unitário'] = porcao['Peso Unitário'].astype(float) \r\n"
   ],
   "outputs": [],
   "metadata": {}
  },
  {
   "cell_type": "code",
   "execution_count": null,
   "source": [
    "print('Média')\r\n",
    "print(porcao['Peso Unitário'].mean())\r\n",
    "print('Mediana')\r\n",
    "print(porcao['Peso Unitário'].median())\r\n",
    "print('Quartil')\r\n",
    "print(porcao['Peso Unitário'].quantile(0.25))"
   ],
   "outputs": [],
   "metadata": {
    "scrolled": false
   }
  },
  {
   "cell_type": "code",
   "execution_count": null,
   "source": [
    "porcao_sem = sem_info.loc[sem_info['Tipo de Embalagem'] == 'Porção(es)']\r\n",
    "porcao_sem['Unidade de Peso'] = 'Grama'\r\n",
    "porcao_sem['Peso Unitário'] = porcao['Peso Unitário'].median()\r\n"
   ],
   "outputs": [],
   "metadata": {}
  },
  {
   "cell_type": "code",
   "execution_count": null,
   "source": [
    "cigarro_com = com_info.loc[com_info['Tipo de Embalagem'] == 'Cigarro(s)']\r\n",
    "cigarro_com = cigarro_com.loc[cigarro_com['Unidade de Peso'] == 'Grama']\r\n",
    "cigarro_com = cigarro_com.loc[cigarro_com['Peso Unitário'].notna()]\r\n",
    "cigarro_com = cigarro_com.reset_index(drop=True)\r\n",
    "cigarro_com['Peso Unitário'] = cigarro_com['Peso Unitário'].astype(float) \r\n",
    "print('Média')\r\n",
    "print(cigarro_com['Peso Unitário'].mean())\r\n",
    "print('Mediana')\r\n",
    "print(cigarro_com['Peso Unitário'].median())\r\n",
    "print('Quartil')\r\n",
    "print(cigarro_com['Peso Unitário'].quantile(0.25))"
   ],
   "outputs": [],
   "metadata": {}
  },
  {
   "cell_type": "code",
   "execution_count": null,
   "source": [
    "cigarro_sem = sem_info.loc[sem_info['Tipo de Embalagem'] == 'Cigarro(s)']\r\n",
    "cigarro_sem['Unidade de Peso'] = 'Grama'\r\n",
    "cigarro_sem['Peso Unitário'] = cigarro_com['Peso Unitário'].median()"
   ],
   "outputs": [],
   "metadata": {}
  },
  {
   "cell_type": "code",
   "execution_count": null,
   "source": [
    "unidade_com = com_info.loc[com_info['Tipo de Embalagem'] == 'Unidade(s)']\r\n",
    "unidade_com = unidade_com.loc[unidade_com['Unidade de Peso'] == 'Grama']\r\n",
    "unidade_com = unidade_com.loc[unidade_com['Peso Unitário'].notna()]\r\n",
    "unidade_com = unidade_com.reset_index(drop=True)\r\n",
    "unidade_com['Peso Unitário'] = unidade_com['Peso Unitário'].astype(float) \r\n",
    "print('Média')\r\n",
    "print(unidade_com['Peso Unitário'].mean())\r\n",
    "print('Mediana')\r\n",
    "print(unidade_com['Peso Unitário'].median())\r\n",
    "print('Quartil')\r\n",
    "print(unidade_com['Peso Unitário'].quantile(0.25))"
   ],
   "outputs": [],
   "metadata": {}
  },
  {
   "cell_type": "code",
   "execution_count": null,
   "source": [
    "unidade_sem = sem_info.loc[sem_info['Tipo de Embalagem'] == 'Unidade(s)']\r\n",
    "unidade_sem['Unidade de Peso'] = 'Grama'\r\n",
    "unidade_sem['Peso Unitário'] = unidade_com['Peso Unitário'].median()"
   ],
   "outputs": [],
   "metadata": {}
  },
  {
   "cell_type": "code",
   "execution_count": null,
   "source": [
    "tijolo_com = com_info.loc[com_info['Tipo de Embalagem'] == 'Tijolo(s)']\r\n",
    "tijolo_com = tijolo_com.loc[tijolo_com['Unidade de Peso'] == 'Grama']\r\n",
    "tijolo_com = tijolo_com.loc[tijolo_com['Peso Unitário'].notna()]\r\n",
    "tijolo_com = tijolo_com.reset_index(drop=True)\r\n",
    "tijolo_com['Peso Unitário'] = tijolo_com['Peso Unitário'].astype(float) \r\n",
    "print('Média')\r\n",
    "print(tijolo_com['Peso Unitário'].mean())\r\n",
    "print('Mediana')\r\n",
    "print(tijolo_com['Peso Unitário'].median())\r\n",
    "print('Quartil')\r\n",
    "print(tijolo_com['Peso Unitário'].quantile(0.25))"
   ],
   "outputs": [],
   "metadata": {}
  },
  {
   "cell_type": "code",
   "execution_count": null,
   "source": [
    "tijolo_sem = sem_info.loc[sem_info['Tipo de Embalagem'] == 'Tijolo(s)']\r\n",
    "tijolo_sem['Unidade de Peso'] = 'Grama'\r\n",
    "tijolo_sem['Peso Unitário'] = tijolo_com['Peso Unitário'].median()"
   ],
   "outputs": [],
   "metadata": {}
  },
  {
   "cell_type": "code",
   "execution_count": null,
   "source": [
    "frasco_com = com_info.loc[com_info['Tipo de Embalagem'] == 'Frasco(s)']\r\n",
    "frasco_com = frasco_com.loc[frasco_com['Unidade de Peso'] == 'Grama']\r\n",
    "frasco_com = frasco_com.loc[frasco_com['Peso Unitário'].notna()]\r\n",
    "frasco_com = frasco_com.reset_index(drop=True)\r\n",
    "frasco_com['Peso Unitário'] = frasco_com['Peso Unitário'].astype(float) \r\n",
    "print('Média')\r\n",
    "print(frasco_com['Peso Unitário'].mean())\r\n",
    "print('Mediana')\r\n",
    "print(frasco_com['Peso Unitário'].median())\r\n",
    "print('Quartil')\r\n",
    "print(frasco_com['Peso Unitário'].quantile(0.25))"
   ],
   "outputs": [],
   "metadata": {}
  },
  {
   "cell_type": "code",
   "execution_count": null,
   "source": [
    "frasco_sem = sem_info.loc[sem_info['Tipo de Embalagem'] == 'Frasco(s)']\r\n",
    "frasco_sem['Unidade de Peso'] = 'Grama'\r\n",
    "frasco_sem['Peso Unitário'] = frasco_com['Peso Unitário'].median()"
   ],
   "outputs": [],
   "metadata": {}
  },
  {
   "cell_type": "code",
   "execution_count": null,
   "source": [
    "pacote_com = com_info.loc[com_info['Tipo de Embalagem'] == 'Pacote(s)']\r\n",
    "pacote_com = pacote_com.loc[pacote_com['Unidade de Peso'] == 'Grama']\r\n",
    "pacote_com = pacote_com.loc[pacote_com['Peso Unitário'].notna()]\r\n",
    "pacote_com = pacote_com.reset_index(drop=True)\r\n",
    "pacote_com['Peso Unitário'] = pacote_com['Peso Unitário'].astype(float) \r\n",
    "print('Média')\r\n",
    "print(pacote_com['Peso Unitário'].mean())\r\n",
    "print('Mediana')\r\n",
    "print(pacote_com['Peso Unitário'].median())\r\n",
    "print('Quartil')\r\n",
    "print(pacote_com['Peso Unitário'].quantile(0.25))"
   ],
   "outputs": [],
   "metadata": {}
  },
  {
   "cell_type": "code",
   "execution_count": null,
   "source": [
    "pacote_sem = sem_info.loc[sem_info['Tipo de Embalagem'] == 'Pacote(s)']\r\n",
    "pacote_sem['Unidade de Peso'] = 'Grama'\r\n",
    "pacote_sem['Peso Unitário'] = pacote_com['Peso Unitário'].median()"
   ],
   "outputs": [],
   "metadata": {}
  },
  {
   "cell_type": "code",
   "execution_count": null,
   "source": [
    "saco_com = com_info.loc[com_info['Tipo de Embalagem'] == 'Saco(s)']\r\n",
    "saco_com = saco_com.loc[saco_com['Unidade de Peso'] == 'Grama']\r\n",
    "saco_com = saco_com.loc[saco_com['Peso Unitário'].notna()]\r\n",
    "saco_com = saco_com.reset_index(drop=True)\r\n",
    "saco_com['Peso Unitário'] = saco_com['Peso Unitário'].astype(float) \r\n",
    "print('Média')\r\n",
    "print(saco_com['Peso Unitário'].mean())\r\n",
    "print('Mediana')\r\n",
    "print(saco_com['Peso Unitário'].median())\r\n",
    "print('Quartil')\r\n",
    "print(saco_com['Peso Unitário'].quantile(0.25))"
   ],
   "outputs": [],
   "metadata": {}
  },
  {
   "cell_type": "code",
   "execution_count": null,
   "source": [
    "saco_sem = sem_info.loc[sem_info['Tipo de Embalagem'] == 'Saco(s)']\r\n",
    "saco_sem['Unidade de Peso'] = 'Grama'\r\n",
    "saco_sem['Peso Unitário'] = saco_com['Peso Unitário'].median()"
   ],
   "outputs": [],
   "metadata": {}
  },
  {
   "cell_type": "code",
   "execution_count": null,
   "source": [
    "ponto_com = com_info.loc[com_info['Tipo de Embalagem'] == 'Ponto(s)']\r\n",
    "ponto_com = ponto_com.loc[ponto_com['Unidade de Peso'] == 'Grama']\r\n",
    "ponto_com = ponto_com.loc[ponto_com['Peso Unitário'].notna()]\r\n",
    "ponto_com = ponto_com.reset_index(drop=True)\r\n",
    "ponto_com['Peso Unitário'] = ponto_com['Peso Unitário'].astype(float) \r\n",
    "print('Média')\r\n",
    "print(ponto_com['Peso Unitário'].mean())\r\n",
    "print('Mediana')\r\n",
    "print(ponto_com['Peso Unitário'].median())\r\n",
    "print('Quartil')\r\n",
    "print(ponto_com['Peso Unitário'].quantile(0.25))"
   ],
   "outputs": [],
   "metadata": {}
  },
  {
   "cell_type": "code",
   "execution_count": null,
   "source": [
    "ponto_sem = sem_info.loc[sem_info['Tipo de Embalagem'] == 'Ponto(s)']\r\n",
    "ponto_sem['Unidade de Peso'] = 'Grama'\r\n",
    "ponto_sem['Peso Unitário'] = ponto_com['Peso Unitário'].median()"
   ],
   "outputs": [],
   "metadata": {}
  },
  {
   "cell_type": "code",
   "execution_count": null,
   "source": [
    "lista = [ponto_sem, saco_sem, tijolo_sem, unidade_sem, cigarro_sem, pacote_sem, frasco_sem, porcao_sem]\r\n",
    "sem_info2 = pd.concat(lista)"
   ],
   "outputs": [],
   "metadata": {}
  },
  {
   "cell_type": "code",
   "execution_count": null,
   "source": [
    "lista = [sem_info2, com_info]\r\n",
    "resultado = pd.concat(lista)\r\n",
    "resultado = resultado.reset_index(drop=True)\r\n"
   ],
   "outputs": [],
   "metadata": {}
  },
  {
   "cell_type": "code",
   "execution_count": null,
   "source": [
    "resultado['Unidade de Peso'].value_counts()"
   ],
   "outputs": [],
   "metadata": {}
  },
  {
   "cell_type": "code",
   "execution_count": null,
   "source": [
    "cores = resultado['Unidade de Peso'].value_counts()\r\n",
    "cores = pd.DataFrame(cores)\r\n",
    "cores = cores.reset_index()\r\n",
    "cores = cores.T\r\n",
    "cores = cores.rename(columns={0:cores[0][0],1:cores[1][0],2:cores[2][0],3:cores[3][0]})\r\n",
    "cores = cores.iloc[1:]\r\n",
    "cores1 = resultado['Unidade de Peso'].value_counts(normalize=True)\r\n",
    "cores1 = pd.DataFrame(cores1)\r\n",
    "cores1 = cores1.reset_index()\r\n",
    "cores1 = cores1.T\r\n",
    "cores1 = cores1.rename(columns={0:cores1[0][0],1:cores1[1][0],2:cores1[2][0],3:cores1[3][0]\r\n",
    "                             })\r\n",
    "#cores1 = cores.iloc[1:]\r\n",
    "cores1\r\n",
    "lista = [cores,cores1]\r\n",
    "cores2 = pd.concat(lista)\r\n",
    "cores2 = cores2.reset_index(drop=True)\r\n",
    "cores2 = cores2.drop([1], axis = 0)\r\n",
    "cores2 = cores2.rename(index={0:'Quantidade', 2:\"%\"})\r\n",
    "cores2"
   ],
   "outputs": [],
   "metadata": {}
  },
  {
   "cell_type": "code",
   "execution_count": null,
   "source": [
    "stores_df = resultado\r\n",
    "\r\n",
    "f, (ax2) = plt.subplots(1, 1, figsize=(12, 6))\r\n",
    "palette ={\"Verde\": \"green\", \"Marrom\": \"brown\", \"Branco\": \"white\", \"Amarelo\": \"yellow\",\"Cinza\":'grey',\"Dourado\":'gold',\"Laranja\":\"orange\",\"Azul\":\"Blue\",\"Vermelho\":\"Red\",'Bege':'beige',\"Preto\":\"black\", \"Incolor\":\"blue\", \"Rosa\":\"pink\"}\r\n",
    "\r\n",
    "#sns.countplot(x=\"Cor Predominante\", data=stores_df, ax=ax1, palette = palette)\r\n",
    "sns.countplot(x=\"Unidade de Peso\", data=stores_df, ax=ax2)\r\n",
    "#sns.countplot(x=\"TXT_TIPO_OBJETO\", data=stores_df, ax=ax3, palette= palette)\r\n",
    "palette ={\"Maconha\": \"green\", \"Cocaína\": \"white\", \"Crack\": \"yellow\", \"Drogas\": \"blue\"}\r\n",
    "#plt.setp(ax1.xaxis.get_majorticklabels(), rotation=70)\r\n",
    "plt.setp(ax2.xaxis.get_majorticklabels(), rotation=70)\r\n",
    "ax2.set(xlabel=None)\r\n",
    "#ax1.set_ylabel(\"Quantidade\",fontsize=20)\r\n",
    "ax2.set_ylabel(\"Quantidade\",fontsize=20)\r\n",
    "plt.grid(axis='x')\r\n",
    "plt.tight_layout()\r\n",
    "plt.title('Unidade de Peso')"
   ],
   "outputs": [],
   "metadata": {}
  },
  {
   "cell_type": "markdown",
   "source": [
    "<h1><center>TIPO DE OBJETO</center></h1>"
   ],
   "metadata": {}
  },
  {
   "cell_type": "code",
   "execution_count": null,
   "source": [
    "cores = resultado['TXT_TIPO_OBJETO'].value_counts()\r\n",
    "cores = pd.DataFrame(cores)\r\n",
    "cores = cores.reset_index()\r\n",
    "cores = cores.T\r\n",
    "cores = cores.rename(columns={0:cores[0][0],1:cores[1][0],2:cores[2][0],3:cores[3][0]})\r\n",
    "cores = cores.iloc[1:]\r\n",
    "cores1 = resultado['TXT_TIPO_OBJETO'].value_counts(normalize=True)\r\n",
    "cores1 = pd.DataFrame(cores1)\r\n",
    "cores1 = cores1.reset_index()\r\n",
    "cores1 = cores1.T\r\n",
    "cores1 = cores1.rename(columns={0:cores1[0][0],1:cores1[1][0],2:cores1[2][0],3:cores1[3][0][0]\r\n",
    "                             })\r\n",
    "#cores1 = cores.iloc[1:]\r\n",
    "cores1\r\n",
    "lista = [cores,cores1]\r\n",
    "cores2 = pd.concat(lista)\r\n",
    "cores2 = cores2.reset_index(drop=True)\r\n",
    "cores2 = cores2.drop([1], axis = 0)\r\n",
    "cores2 = cores2.rename(index={0:'Quantidade', 2:\"%\"})\r\n",
    "cores2['Crack']['%'] = cores2['C']['%']\r\n",
    "cores2 = cores2.drop(['C'], axis = 1)\r\n",
    "cores2"
   ],
   "outputs": [],
   "metadata": {}
  },
  {
   "cell_type": "code",
   "execution_count": null,
   "source": [
    "stores_df = resultado\r\n",
    "\r\n",
    "palette ={\"Maconha\": \"green\", \"Cocaína\": \"white\", \"Crack\": \"yellow\", \"Drogas\": \"blue\"}\r\n",
    "f, (ax3) = plt.subplots(1, 1, figsize=(14, 5))\r\n",
    "sns.set(font_scale=1.5)\r\n",
    "\r\n",
    "sns.countplot(x=\"TXT_TIPO_OBJETO\", data=stores_df, ax=ax3, palette= palette, alpha = 0.7, linewidth=2.5, edgecolor=\".0\")\r\n",
    "ax3.set_facecolor('#ababab')\r\n",
    "ax3.patch.set_alpha(0.3)\r\n",
    "ax3.set_xlabel(\"Tipo de Objeto\",fontsize=20)\r\n",
    "ax3.set_ylabel(\"Quantidade\",fontsize=20)\r\n",
    "ax3.set_xticklabels(ax3.get_xmajorticklabels(), fontsize = 15)\r\n",
    "#ax3.set_yticklabels(ax3,fontsize = 18)\r\n",
    "ax3.set(xlabel=None)\r\n",
    "plt.setp(ax1.xaxis.get_majorticklabels(), rotation=70)\r\n",
    "plt.setp(ax2.xaxis.get_majorticklabels(), rotation=70)\r\n",
    "plt.grid(axis='x')\r\n",
    "plt.tight_layout()\r\n",
    "plt.title('Tipo de Objeto')"
   ],
   "outputs": [],
   "metadata": {}
  },
  {
   "cell_type": "code",
   "execution_count": null,
   "source": [
    "Drogas = resultado.loc[resultado['TXT_TIPO_OBJETO'] == 'Drogas']\r\n",
    "Drogas.sample(5)"
   ],
   "outputs": [],
   "metadata": {}
  },
  {
   "cell_type": "code",
   "execution_count": null,
   "source": [
    "import unidecode\r\n",
    "\r\n",
    "Drogas = resultado.loc[resultado['TXT_TIPO_OBJETO'] == 'Drogas']\r\n",
    "Outras = resultado.loc[resultado['TXT_TIPO_OBJETO'] != 'Drogas']\r\n",
    "Outras = Outras.reset_index(drop= True)\r\n",
    "DrogasNA = Drogas.loc[Drogas['Descrição'].isnull()]\r\n",
    "DrogasNA = DrogasNA.reset_index(drop=True)\r\n",
    "Drogas = Drogas.loc[Drogas['Descrição'].notna()]\r\n",
    "Drogas = Drogas.reset_index(drop=True)\r\n",
    "\r\n",
    "x = 0\r\n",
    "while x < len(Drogas):\r\n",
    "    frase = Drogas['Descrição'][x]\r\n",
    "    frase = frase.replace(',','')\r\n",
    "    frase = frase.replace('.','')\r\n",
    "    frase = unidecode.unidecode(frase)\r\n",
    "    Drogas['Descrição'][x] = frase\r\n",
    "    x += 1\r\n",
    "    \r\n",
    "Drogas['Descrição'] = Drogas['Descrição'].str.lower()\r\n",
    "\r\n"
   ],
   "outputs": [],
   "metadata": {}
  },
  {
   "cell_type": "code",
   "execution_count": null,
   "source": [
    "\r\n",
    "Drogas = Drogas.reset_index(drop=True)\r\n",
    "x = 0\r\n",
    "m = 0\r\n",
    "c = 0\r\n",
    "ck = 0\r\n",
    "mc = 0\r\n",
    "mck = 0\r\n",
    "cck = 0\r\n",
    "while x < len(Drogas):\r\n",
    "    if 'maconha' in Drogas.Descrição[x]:\r\n",
    "        Drogas['TXT_TIPO_OBJETO'].loc[x] = 'Maconha'\r\n",
    "        m += 1\r\n",
    "    if 'cannabis' in Drogas.Descrição[x]:\r\n",
    "        Drogas['TXT_TIPO_OBJETO'].loc[x] = 'Maconha'\r\n",
    "        m += 1\r\n",
    "    if 'canabis' in Drogas.Descrição[x]:\r\n",
    "        Drogas['TXT_TIPO_OBJETO'].loc[x] = 'Maconha'\r\n",
    "        m += 1\r\n",
    "        \r\n",
    "    if 'cocaina' in Drogas.Descrição[x]:\r\n",
    "        Drogas['TXT_TIPO_OBJETO'].loc[x] = 'Cocaína'\r\n",
    "        c += 1\r\n",
    "    if 'crack' in Drogas.Descrição[x]:\r\n",
    "        Drogas['TXT_TIPO_OBJETO'].loc[x] = 'Crack'\r\n",
    "        ck += 1\r\n",
    "    if 'maconha' in Drogas.Descrição[x] and 'cocaina' in Drogas.Descrição[x]:\r\n",
    "        mc += 1\r\n",
    "    if 'maconha' in Drogas.Descrição[x] and 'crack' in Drogas.Descrição[x]:\r\n",
    "        mck += 1\r\n",
    "    if 'cocaina' in Drogas.Descrição[x] and 'crack' in Drogas.Descrição[x]:\r\n",
    "        cck += 1\r\n",
    "    x += 1\r\n",
    "\r\n",
    "print('Achei %d maconha ' % m)\r\n",
    "print('Achei %d cocaina ' % c)\r\n",
    "print('Achei %d crack ' % ck)\r\n",
    "print('Achei %d com maconha e cocaina' % mc)\r\n",
    "print('Achei %d com maconha e crack' % mck)\r\n",
    "print('Achei %d com cocaina e crack' % cck)"
   ],
   "outputs": [],
   "metadata": {
    "scrolled": false
   }
  },
  {
   "cell_type": "code",
   "execution_count": null,
   "source": [
    "listaDrogas = [Drogas, DrogasNA]\r\n",
    "Drogas = pd.concat(listaDrogas)\r\n",
    "Drogas = Drogas.reset_index(drop=True)\r\n",
    "lista = [Drogas, Outras]\r\n",
    "Todas = pd.concat(lista)\r\n",
    "Todas = Todas.reset_index(drop=True)"
   ],
   "outputs": [],
   "metadata": {}
  },
  {
   "cell_type": "code",
   "execution_count": null,
   "source": [
    "stores_df = Todas\r\n",
    "\r\n",
    "palette ={\"Maconha\": \"green\", \"Cocaína\": \"white\", \"Crack\": \"yellow\", \"Drogas\": \"blue\"}\r\n",
    "f, (ax3) = plt.subplots(1, 1, figsize=(14, 5))\r\n",
    "sns.set(font_scale=1.5)\r\n",
    "\r\n",
    "sns.countplot(x=\"TXT_TIPO_OBJETO\", data=stores_df, ax=ax3, palette= palette, alpha = 0.7, linewidth=2.5, edgecolor=\".0\")\r\n",
    "ax3.set_facecolor('#ababab')\r\n",
    "ax3.patch.set_alpha(0.3)\r\n",
    "ax3.set_xlabel(\"Tipo de Objeto\",fontsize=20)\r\n",
    "ax3.set_ylabel(\"Quantidade\",fontsize=20)\r\n",
    "ax3.set_xticklabels(ax3.get_xmajorticklabels(), fontsize = 15)\r\n",
    "#ax3.set_yticklabels(ax3,fontsize = 18)\r\n",
    "\r\n",
    "plt.setp(ax1.xaxis.get_majorticklabels(), rotation=70)\r\n",
    "plt.setp(ax2.xaxis.get_majorticklabels(), rotation=70)\r\n",
    "ax3.set(xlabel=None)\r\n",
    "plt.grid(axis='x')\r\n",
    "plt.tight_layout()\r\n",
    "plt.title('Tipo de Objeto')"
   ],
   "outputs": [],
   "metadata": {}
  },
  {
   "cell_type": "code",
   "execution_count": null,
   "source": [
    "cores = Todas['TXT_TIPO_OBJETO'].value_counts()\r\n",
    "cores = pd.DataFrame(cores)\r\n",
    "cores = cores.reset_index()\r\n",
    "cores = cores.T\r\n",
    "cores = cores.rename(columns={0:cores[0][0],1:cores[1][0],2:cores[2][0],3:cores[3][0]})\r\n",
    "cores = cores.iloc[1:]\r\n",
    "cores1 = Todas['TXT_TIPO_OBJETO'].value_counts(normalize=True)\r\n",
    "cores1 = pd.DataFrame(cores1)\r\n",
    "cores1 = cores1.reset_index()\r\n",
    "cores1 = cores1.T\r\n",
    "cores1 = cores1.rename(columns={0:cores1[0][0],1:cores1[1][0],2:cores1[2][0],3:cores1[3][0][0]\r\n",
    "                             })\r\n",
    "#cores1 = cores.iloc[1:]\r\n",
    "cores1\r\n",
    "lista = [cores,cores1]\r\n",
    "cores2 = pd.concat(lista)\r\n",
    "cores2 = cores2.reset_index(drop=True)\r\n",
    "cores2 = cores2.drop([1], axis = 0)\r\n",
    "cores2 = cores2.rename(index={0:'Quantidade', 2:\"%\"})\r\n",
    "cores2['Drogas']['%'] = cores2['D']['%']\r\n",
    "cores2 = cores2.drop(['D'], axis = 1)\r\n",
    "cores2"
   ],
   "outputs": [],
   "metadata": {}
  },
  {
   "cell_type": "code",
   "execution_count": null,
   "source": [
    "resultado['Unidade de Peso'].value_counts()"
   ],
   "outputs": [],
   "metadata": {}
  },
  {
   "cell_type": "code",
   "execution_count": null,
   "source": [
    "x = 0\r\n",
    "while x < len(resultado):\r\n",
    "    if resultado['Unidade de Peso'][x] == 'Miligrama':\r\n",
    "        resultado['Peso Unitário'][x] = resultado['Peso Unitário'][x] / 1000\r\n",
    "        resultado['Unidade de Peso'][x] = 'Grama'\r\n",
    "    if resultado['Unidade de Peso'][x] == 'Quilograma':\r\n",
    "        resultado['Peso Unitário'][x] = resultado['Peso Unitário'][x] * 1000\r\n",
    "        resultado['Unidade de Peso'][x] = 'Grama'\r\n",
    "    if resultado['Unidade de Peso'][x] == 'Decigrama':\r\n",
    "        resultado['Peso Unitário'][x] = resultado['Peso Unitário'][x] / 10\r\n",
    "        resultado['Unidade de Peso'][x] = 'Grama'\r\n",
    "    if resultado['Unidade de Peso'][x] == 'Tonelada':\r\n",
    "        resultado['Peso Unitário'][x] = resultado['Peso Unitário'][x] * 1000000\r\n",
    "        resultado['Unidade de Peso'][x] = 'Grama'\r\n",
    "    else:\r\n",
    "        x = x\r\n",
    "    x += 1"
   ],
   "outputs": [],
   "metadata": {}
  },
  {
   "cell_type": "code",
   "execution_count": null,
   "source": [
    "x = 0\r\n",
    "\r\n",
    "while x < len(resultado):\r\n",
    "    if resultado['Quantidade de Unidade(s)'][x] == '-':\r\n",
    "        resultado['Quantidade de Unidade(s)'][x] = 0\r\n",
    "    x += 1"
   ],
   "outputs": [],
   "metadata": {}
  },
  {
   "cell_type": "code",
   "execution_count": null,
   "source": [
    "resultado['Quantidade de Unidade(s)'] = resultado['Quantidade de Unidade(s)'].astype(float) "
   ],
   "outputs": [],
   "metadata": {}
  },
  {
   "cell_type": "code",
   "execution_count": null,
   "source": [
    "resultado2 = resultado.loc[resultado['Peso Total'] > 0]\r\n",
    "resultado2 = resultado2.reset_index(drop=True)\r\n",
    "resultado2.shape\r\n",
    "# RESULTADO 2 = COM PESO TOTAL, PRONTO #"
   ],
   "outputs": [],
   "metadata": {}
  },
  {
   "cell_type": "code",
   "execution_count": null,
   "source": [
    "semtotal = resultado.loc[resultado['Peso Total'] < 0.001]\r\n",
    "semtotal = semtotal.reset_index(drop=True)\r\n",
    "semtotal.shape"
   ],
   "outputs": [],
   "metadata": {}
  },
  {
   "cell_type": "code",
   "execution_count": null,
   "source": [
    "com_quantidade =  semtotal.loc[semtotal['Quantidade de Unidade(s)'] > 0]\r\n",
    "com_unitario = com_quantidade.loc[com_quantidade['Peso Unitário'] > 0]\r\n",
    "com_unitario.shape"
   ],
   "outputs": [],
   "metadata": {}
  },
  {
   "cell_type": "code",
   "execution_count": null,
   "source": [
    "resultado3 = com_unitario\r\n",
    "resultado3['Peso Total'] = com_unitario['Quantidade de Unidade(s)'] * com_unitario['Peso Unitário']\r\n",
    "# RESULTADO 3 = COM PESO TOTAL, PRONTO #"
   ],
   "outputs": [],
   "metadata": {}
  },
  {
   "cell_type": "code",
   "execution_count": null,
   "source": [
    "resultado3"
   ],
   "outputs": [],
   "metadata": {}
  },
  {
   "cell_type": "code",
   "execution_count": null,
   "source": [
    "sem_unitario = com_quantidade.loc[com_quantidade['Peso Unitário'] < 0.001]\r\n",
    "sem_unitario.shape"
   ],
   "outputs": [],
   "metadata": {}
  },
  {
   "cell_type": "code",
   "execution_count": null,
   "source": [
    "df = semtotal.merge(com_unitario, on='CHAVE_OBJETO', how='outer', indicator = True)"
   ],
   "outputs": [],
   "metadata": {}
  },
  {
   "cell_type": "code",
   "execution_count": null,
   "source": [
    "df.shape"
   ],
   "outputs": [],
   "metadata": {}
  },
  {
   "cell_type": "code",
   "execution_count": null,
   "source": [
    "df = df.loc[df['_merge'] != 'both']\r\n",
    "df.shape"
   ],
   "outputs": [],
   "metadata": {}
  },
  {
   "cell_type": "code",
   "execution_count": null,
   "source": [
    "df.columns"
   ],
   "outputs": [],
   "metadata": {}
  },
  {
   "cell_type": "code",
   "execution_count": null,
   "source": [
    "df = df.rename(columns={'TXT_TIPO_OBJETO_x':'TXT_TIPO_OBJETO', 'Peso Total_x':'Peso Total',\r\n",
    "       'Cor Predominante_x':'Cor Predominante', 'Descrição_x':'Descrição', 'Unidade de Peso_x':'Unidade de Peso',\r\n",
    "       'Tipo de Embalagem_x':'Tipo de Embalagem', 'Peso Unitário_x':'Peso Unitário', 'Quantidade de Unidade(s)_x':'Quantidade de Unidade(s)'})\r\n",
    "df = df[['CHAVE_OBJETO', 'TXT_TIPO_OBJETO', 'Peso Total',\r\n",
    "       'Cor Predominante', 'Descrição', 'Unidade de Peso', 'Tipo de Embalagem',\r\n",
    "       'Peso Unitário', 'Quantidade de Unidade(s)']]"
   ],
   "outputs": [],
   "metadata": {}
  },
  {
   "cell_type": "code",
   "execution_count": null,
   "source": [
    "df = df. reset_index(drop=True)\r\n"
   ],
   "outputs": [],
   "metadata": {}
  },
  {
   "cell_type": "code",
   "execution_count": null,
   "source": [
    "df_maconha = df.loc[df['TXT_TIPO_OBJETO'] == 'Maconha']\r\n",
    "df_maconha = df_maconha.reset_index(drop=True)\r\n",
    "\r\n",
    "df_cocaina = df.loc[df['TXT_TIPO_OBJETO'] == 'Cocaína']\r\n",
    "df_cocaina = df_cocaina.reset_index(drop=True)\r\n",
    "\r\n",
    "df_crack = df.loc[df['TXT_TIPO_OBJETO'] == 'Crack']\r\n",
    "df_crack = df_crack.reset_index(drop=True)\r\n",
    "\r\n",
    "df_drogas = df.loc[df['TXT_TIPO_OBJETO'] == 'Drogas']\r\n",
    "df_drogas = df_drogas.reset_index(drop=True)\r\n",
    "\r\n",
    "print(df_crack.shape)\r\n",
    "print(df_maconha.shape)\r\n",
    "print(df_cocaina.shape)\r\n",
    "print(df_drogas.shape)"
   ],
   "outputs": [],
   "metadata": {}
  },
  {
   "cell_type": "code",
   "execution_count": null,
   "source": [
    "#MACONHA#\r\n",
    "maconha_resultado2 = resultado2.loc[resultado2['TXT_TIPO_OBJETO'] == 'Maconha']\r\n",
    "maconha_resultado2 = maconha_resultado2.reset_index(drop=True)\r\n",
    "maconha_mediana_pU = maconha_resultado2['Peso Unitário'].median()\r\n",
    "print(maconha_mediana_pU)"
   ],
   "outputs": [],
   "metadata": {}
  },
  {
   "cell_type": "code",
   "execution_count": null,
   "source": [
    "#COCAINA#\r\n",
    "maconha_resultado2 = resultado2.loc[resultado2['TXT_TIPO_OBJETO'] == 'Cocaína']\r\n",
    "maconha_resultado2 = maconha_resultado2.reset_index(drop=True)\r\n",
    "cocaina_mediana_pU = maconha_resultado2['Peso Unitário'].median()\r\n",
    "print(cocaina_mediana_pU)"
   ],
   "outputs": [],
   "metadata": {}
  },
  {
   "cell_type": "code",
   "execution_count": null,
   "source": [
    "#CRACK#\r\n",
    "maconha_resultado2 = resultado2.loc[resultado2['TXT_TIPO_OBJETO'] == 'Crack']\r\n",
    "maconha_resultado2 = maconha_resultado2.reset_index(drop=True)\r\n",
    "crack_mediana_pU = maconha_resultado2['Peso Unitário'].median()\r\n",
    "print(crack_mediana_pU)"
   ],
   "outputs": [],
   "metadata": {}
  },
  {
   "cell_type": "code",
   "execution_count": null,
   "source": [
    "#DROGAS#\r\n",
    "maconha_resultado2 = resultado2.loc[resultado2['TXT_TIPO_OBJETO'] == 'Drogas']\r\n",
    "maconha_resultado2 = maconha_resultado2.reset_index(drop=True)\r\n",
    "drogas_mediana_pU = maconha_resultado2['Peso Unitário'].median()\r\n",
    "print(drogas_mediana_pU)"
   ],
   "outputs": [],
   "metadata": {}
  },
  {
   "cell_type": "code",
   "execution_count": null,
   "source": [
    "df1 = df.loc[df['Quantidade de Unidade(s)'] > 0]\r\n",
    "df1 = df1.reset_index(drop=True)\r\n",
    "\r\n",
    "df2 = df.loc[df['Quantidade de Unidade(s)'] < 0.001]\r\n",
    "df2 = df2.reset_index(drop=True)"
   ],
   "outputs": [],
   "metadata": {}
  },
  {
   "cell_type": "code",
   "execution_count": null,
   "source": [
    "df1.shape"
   ],
   "outputs": [],
   "metadata": {}
  },
  {
   "cell_type": "code",
   "execution_count": null,
   "source": [
    "df2.shape"
   ],
   "outputs": [],
   "metadata": {}
  },
  {
   "cell_type": "code",
   "execution_count": null,
   "source": [
    "x = 0\r\n",
    "\r\n",
    "while x < len(df1):\r\n",
    "    if df1['TXT_TIPO_OBJETO'][x] == 'Maconha':\r\n",
    "        df1['Peso Unitário'][x] = maconha_mediana_pU\r\n",
    "    if df1['TXT_TIPO_OBJETO'][x] == 'Cocaína':\r\n",
    "        df1['Peso Unitário'][x] = cocaina_mediana_pU\r\n",
    "    if df1['TXT_TIPO_OBJETO'][x] == 'Crack':\r\n",
    "        df1['Peso Unitário'][x] = crack_mediana_pU\r\n",
    "    if df1['TXT_TIPO_OBJETO'][x] == 'Drogas':\r\n",
    "        df1['Peso Unitário'][x] = drogas_mediana_pU\r\n",
    "    x += 1"
   ],
   "outputs": [],
   "metadata": {}
  },
  {
   "cell_type": "code",
   "execution_count": null,
   "source": [
    "df1['Peso Total'] = df1['Peso Unitário'] * df1['Quantidade de Unidade(s)']\r\n",
    "# df1 com PESO TOTAL, PRONTO#"
   ],
   "outputs": [],
   "metadata": {}
  },
  {
   "cell_type": "code",
   "execution_count": null,
   "source": [
    "x = 0\r\n",
    "\r\n",
    "while x < len(df2):\r\n",
    "    if df2['TXT_TIPO_OBJETO'][x] == 'Maconha':\r\n",
    "        maconha_resultado2 = resultado2.loc[resultado2['TXT_TIPO_OBJETO'] == 'Maconha']\r\n",
    "        maconha_resultado2 = maconha_resultado2.reset_index(drop=True)\r\n",
    "        maconha_mediana_pT = maconha_resultado2['Peso Total'].median()\r\n",
    "        df2['Peso Total'][x] = maconha_mediana_pT\r\n",
    "    if df2['TXT_TIPO_OBJETO'][x] == 'Cocaína':\r\n",
    "        maconha_resultado2 = resultado2.loc[resultado2['TXT_TIPO_OBJETO'] == 'Cocaína']\r\n",
    "        maconha_resultado2 = maconha_resultado2.reset_index(drop=True)\r\n",
    "        maconha_mediana_pT = maconha_resultado2['Peso Total'].median()\r\n",
    "        df2['Peso Total'][x] = maconha_mediana_pT \r\n",
    "    if df2['TXT_TIPO_OBJETO'][x] == 'Crack':\r\n",
    "        maconha_resultado2 = resultado2.loc[resultado2['TXT_TIPO_OBJETO'] == 'Crack']\r\n",
    "        maconha_resultado2 = maconha_resultado2.reset_index(drop=True)\r\n",
    "        maconha_mediana_pT = maconha_resultado2['Peso Total'].median()\r\n",
    "        df2['Peso Total'][x] = maconha_mediana_pT\r\n",
    "    if df2['TXT_TIPO_OBJETO'][x] == 'Drogas':\r\n",
    "        maconha_resultado2 = resultado2.loc[resultado2['TXT_TIPO_OBJETO'] == 'Drogas']\r\n",
    "        maconha_resultado2 = maconha_resultado2.reset_index(drop=True)\r\n",
    "        maconha_mediana_pT = maconha_resultado2['Peso Total'].median()\r\n",
    "        df2['Peso Total'][x] = maconha_mediana_pT\r\n",
    "    x += 1"
   ],
   "outputs": [],
   "metadata": {}
  },
  {
   "cell_type": "code",
   "execution_count": null,
   "source": [
    "# df2, com PESO TOTAL, PRONTO#\r\n",
    "df.head(2)"
   ],
   "outputs": [],
   "metadata": {}
  },
  {
   "cell_type": "code",
   "execution_count": null,
   "source": [
    "lista = [resultado2, resultado3, df1, df2]\r\n",
    "tudo = pd.concat(lista)"
   ],
   "outputs": [],
   "metadata": {}
  },
  {
   "cell_type": "code",
   "execution_count": null,
   "source": [
    "tudo = tudo.reset_index(drop=True)"
   ],
   "outputs": [],
   "metadata": {}
  },
  {
   "cell_type": "code",
   "execution_count": null,
   "source": [
    "tudo['Peso Total'].sum()"
   ],
   "outputs": [],
   "metadata": {}
  },
  {
   "cell_type": "code",
   "execution_count": null,
   "source": [
    "maconha_tudo = tudo.loc[tudo['TXT_TIPO_OBJETO'] == 'Maconha']\r\n",
    "maconha_tudo = maconha_tudo.reset_index(drop=True)\r\n",
    "maconha_tudo = maconha_tudo.loc[maconha_tudo['Peso Total'] <= maconha_tudo['Peso Total'].quantile(0.99)]\r\n",
    "maconha_tudo = maconha_tudo.loc[maconha_tudo['Peso Total'] >= maconha_tudo['Peso Total'].quantile(0.01)]\r\n",
    "maconha_tudo = maconha_tudo.reset_index(drop=True)\r\n",
    "                                \r\n",
    "                                \r\n",
    "cocaina_tudo = tudo.loc[tudo['TXT_TIPO_OBJETO'] == 'Cocaína']\r\n",
    "cocaina_tudo = cocaina_tudo.reset_index(drop=True)\r\n",
    "cocaina_tudo = cocaina_tudo.loc[cocaina_tudo['Peso Total'] <= cocaina_tudo['Peso Total'].quantile(0.99)]\r\n",
    "cocaina_tudo = cocaina_tudo.loc[cocaina_tudo['Peso Total'] >= cocaina_tudo['Peso Total'].quantile(0.01)]\r\n",
    "cocaina_tudo = cocaina_tudo.reset_index(drop=True)\r\n",
    "\r\n",
    "crack_tudo = tudo.loc[tudo['TXT_TIPO_OBJETO'] == 'Crack']\r\n",
    "crack_tudo = crack_tudo.reset_index(drop=True)\r\n",
    "crack_tudo = crack_tudo.loc[crack_tudo['Peso Total'] <= crack_tudo['Peso Total'].quantile(0.99)]\r\n",
    "crack_tudo = crack_tudo.loc[crack_tudo['Peso Total'] >= crack_tudo['Peso Total'].quantile(0.01)]\r\n",
    "crack_tudo = crack_tudo.reset_index(drop=True)\r\n",
    "\r\n",
    "drogas_tudo = tudo.loc[tudo['TXT_TIPO_OBJETO'] == 'Drogas']\r\n",
    "drogas_tudo = drogas_tudo.reset_index(drop=True)\r\n",
    "drogas_tudo = drogas_tudo.loc[drogas_tudo['Peso Total'] <= drogas_tudo['Peso Total'].quantile(0.99)]\r\n",
    "drogas_tudo = drogas_tudo.loc[drogas_tudo['Peso Total'] >= drogas_tudo['Peso Total'].quantile(0.01)]\r\n",
    "drogas_tudo = drogas_tudo.reset_index(drop=True)"
   ],
   "outputs": [],
   "metadata": {}
  },
  {
   "cell_type": "code",
   "execution_count": null,
   "source": [
    "lista = [maconha_tudo, cocaina_tudo, crack_tudo, drogas_tudo]\r\n",
    "final = pd.concat(lista)\r\n",
    "final = final.reset_index(drop=True)"
   ],
   "outputs": [],
   "metadata": {}
  },
  {
   "cell_type": "code",
   "execution_count": null,
   "source": [
    "final"
   ],
   "outputs": [],
   "metadata": {}
  }
 ],
 "metadata": {
  "kernelspec": {
   "name": "python3",
   "display_name": "Python 3.8.10 64-bit ('venv': venv)"
  },
  "language_info": {
   "codemirror_mode": {
    "name": "ipython",
    "version": 3
   },
   "file_extension": ".py",
   "mimetype": "text/x-python",
   "name": "python",
   "nbconvert_exporter": "python",
   "pygments_lexer": "ipython3",
   "version": "3.8.10"
  },
  "interpreter": {
   "hash": "9b9dc834f7e10f1366f4d9e5678a46b36a3e7c6702ac3d269ba7dc2d92aa0498"
  }
 },
 "nbformat": 4,
 "nbformat_minor": 4
}