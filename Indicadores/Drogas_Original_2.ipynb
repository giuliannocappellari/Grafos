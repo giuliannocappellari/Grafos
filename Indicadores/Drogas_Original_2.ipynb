{
 "cells": [
  {
   "cell_type": "code",
   "execution_count": 1,
   "metadata": {},
   "outputs": [],
   "source": [
    "import numpy as np\n",
    "import pandas as pd\n",
    "import matplotlib.pyplot as plt\n",
    "pd.set_option('display.max_rows', 1000)\n",
    "import seaborn as sns"
   ]
  },
  {
   "cell_type": "code",
   "execution_count": 2,
   "metadata": {},
   "outputs": [],
   "source": [
    "#drogas = pd.read_excel('Drogas_com_desc.xlsx')"
   ]
  },
  {
   "cell_type": "code",
   "execution_count": 3,
   "metadata": {},
   "outputs": [],
   "source": [
    "drogas_final = pd.read_csv('Dados/GESEG_SBX_DROGA_EXPORT.csv', encoding = 'latin-1', sep = ';', index_col=0)"
   ]
  },
  {
   "cell_type": "code",
   "execution_count": 4,
   "metadata": {},
   "outputs": [],
   "source": [
    "drogas_final_pivot = drogas_final.pivot(index=\"NRO_INT_OBJETO\", columns=\"ATRIBUTO\", values=\"QUANTIDADE\")"
   ]
  },
  {
   "cell_type": "code",
   "execution_count": 5,
   "metadata": {},
   "outputs": [],
   "source": [
    "dg2_final = drogas_final[['NRO_INT_OBJETO','ANO_OCOR', 'NRO_OCOR','NRO_INT_TIPO_OBJETO','TIPO_OBJETO']].groupby([\"NRO_INT_OBJETO\"]).min()"
   ]
  },
  {
   "cell_type": "code",
   "execution_count": 6,
   "metadata": {},
   "outputs": [],
   "source": [
    "dg2_final_sorted = dg2_final.sort_values(by=['NRO_INT_OBJETO'])\n",
    "drogas_pivot_final_sorted = drogas_final_pivot.sort_values(by=['NRO_INT_OBJETO'])"
   ]
  },
  {
   "cell_type": "code",
   "execution_count": 7,
   "metadata": {},
   "outputs": [],
   "source": [
    "try_1_final = pd.concat([dg2_final_sorted, drogas_pivot_final_sorted],axis=1)"
   ]
  },
  {
   "cell_type": "code",
   "execution_count": 8,
   "metadata": {},
   "outputs": [],
   "source": [
    "resultado = try_1_final.reset_index()"
   ]
  },
  {
   "cell_type": "code",
   "execution_count": 9,
   "metadata": {},
   "outputs": [],
   "source": [
    "#Renomeando Coluans\n",
    "resultado = resultado.rename(columns={\"NRO_INT_OBJETO\": \"CHAVE_OBJETO\", \"TIPO_OBJETO\": \"TXT_TIPO_OBJETO\"})"
   ]
  },
  {
   "cell_type": "code",
   "execution_count": 10,
   "metadata": {},
   "outputs": [],
   "source": [
    "#Error could not convert str to float\n",
    "#resultado['Peso Total'] = resultado['Peso Total'].astype(float)"
   ]
  },
  {
   "cell_type": "code",
   "execution_count": 11,
   "metadata": {},
   "outputs": [],
   "source": [
    "#resultado.to_excel('resultado_DROGAS20201002.xlsx')"
   ]
  },
  {
   "cell_type": "code",
   "execution_count": 12,
   "metadata": {},
   "outputs": [
    {
     "data": {
      "text/plain": [
       "\"resultado['Peso Unitário'] = resultado['Peso Unitário'].replace(',','.', regex=True)\\nresultado['Peso Total'] = resultado['Peso Total'].replace(',','.', regex=True)\\nresultado['Peso Unitário'] = resultado['Peso Unitário'].replace('-',0, regex=True)\\nresultado['Peso Total'] = resultado['Peso Total'].replace('-',0, regex=True)\\nresultado['Peso Unitário'] = resultado['Peso Unitário'].replace('',0, regex=True)\\nresultado['Peso Total'] = resultado['Peso Total'].replace('',0, regex=True)\\n\\nresultado['Peso Unitário'] = resultado['Peso Unitário'].fillna(0)\\nresultado['Peso Total'] = resultado['Peso Total'].fillna(0)\\nresultado['Peso Total']  = resultado['Peso Total'].astype(float)\\nresultado['Peso Unitário']  = resultado['Peso Unitário'].astype(float)\""
      ]
     },
     "execution_count": 12,
     "metadata": {},
     "output_type": "execute_result"
    }
   ],
   "source": [
    "#Error could not convert string to float\n",
    "\"\"\"resultado['Peso Unitário'] = resultado['Peso Unitário'].replace(',','.', regex=True)\n",
    "resultado['Peso Total'] = resultado['Peso Total'].replace(',','.', regex=True)\n",
    "resultado['Peso Unitário'] = resultado['Peso Unitário'].replace('-',0, regex=True)\n",
    "resultado['Peso Total'] = resultado['Peso Total'].replace('-',0, regex=True)\n",
    "resultado['Peso Unitário'] = resultado['Peso Unitário'].replace('',0, regex=True)\n",
    "resultado['Peso Total'] = resultado['Peso Total'].replace('',0, regex=True)\n",
    "\n",
    "resultado['Peso Unitário'] = resultado['Peso Unitário'].fillna(0)\n",
    "resultado['Peso Total'] = resultado['Peso Total'].fillna(0)\n",
    "resultado['Peso Total']  = resultado['Peso Total'].astype(float)\n",
    "resultado['Peso Unitário']  = resultado['Peso Unitário'].astype(float)\"\"\"\n"
   ]
  },
  {
   "cell_type": "code",
   "execution_count": 13,
   "metadata": {},
   "outputs": [],
   "source": [
    "#Mudando o float do padrão brasileiro para o americano\n",
    "#Criando novas colunas de Peso para analise e diferenciação de valores entre nova e antiga\n",
    "\n",
    "resultado['Peso Unitário'] = pd.to_numeric(resultado['Peso Unitário'].str.replace(',','.'), errors='coerce',downcast=\"float\")\n",
    "resultado['Peso Total'] = pd.to_numeric(resultado['Peso Total'].str.replace(',','.'), errors='coerce',downcast=\"float\")\n",
    "\n",
    "#Trocando dados NaN por 0\n",
    "resultado['Peso Unitário'] = resultado['Peso Unitário'].fillna(0)\n",
    "resultado['Peso Total'] = resultado['Peso Total'].fillna(0)\n",
    "\n",
    "\n",
    "#Trocando o tipo de dado para float\n",
    "resultado['Peso Total']  = resultado['Peso Total'].astype(float)\n",
    "resultado['Peso Unitário']  = resultado['Peso Unitário'].astype(float)"
   ]
  },
  {
   "cell_type": "markdown",
   "metadata": {},
   "source": [
    "<h1><center>COR</center></h1>"
   ]
  },
  {
   "cell_type": "code",
   "execution_count": 14,
   "metadata": {},
   "outputs": [
    {
     "data": {
      "text/html": [
       "<div>\n",
       "<style scoped>\n",
       "    .dataframe tbody tr th:only-of-type {\n",
       "        vertical-align: middle;\n",
       "    }\n",
       "\n",
       "    .dataframe tbody tr th {\n",
       "        vertical-align: top;\n",
       "    }\n",
       "\n",
       "    .dataframe thead th {\n",
       "        text-align: right;\n",
       "    }\n",
       "</style>\n",
       "<table border=\"1\" class=\"dataframe\">\n",
       "  <thead>\n",
       "    <tr style=\"text-align: right;\">\n",
       "      <th></th>\n",
       "      <th>Verde</th>\n",
       "      <th>Branco</th>\n",
       "      <th>Amarelo</th>\n",
       "      <th>Marrom</th>\n",
       "      <th>Bege</th>\n",
       "      <th>Incolor</th>\n",
       "      <th>Cinza</th>\n",
       "      <th>Preto</th>\n",
       "      <th>Azul</th>\n",
       "      <th>Prateado</th>\n",
       "      <th>Laranja</th>\n",
       "      <th>Vermelho</th>\n",
       "      <th>Cobreado</th>\n",
       "      <th>13</th>\n",
       "      <th>14</th>\n",
       "      <th>15</th>\n",
       "      <th>16</th>\n",
       "      <th>17</th>\n",
       "    </tr>\n",
       "  </thead>\n",
       "  <tbody>\n",
       "    <tr>\n",
       "      <th>Quantidade</th>\n",
       "      <td>53192</td>\n",
       "      <td>31096</td>\n",
       "      <td>17331</td>\n",
       "      <td>6545</td>\n",
       "      <td>2210</td>\n",
       "      <td>565</td>\n",
       "      <td>543</td>\n",
       "      <td>415</td>\n",
       "      <td>260</td>\n",
       "      <td>224</td>\n",
       "      <td>186</td>\n",
       "      <td>174</td>\n",
       "      <td>161</td>\n",
       "      <td>150</td>\n",
       "      <td>109</td>\n",
       "      <td>34</td>\n",
       "      <td>27</td>\n",
       "      <td>9</td>\n",
       "    </tr>\n",
       "    <tr>\n",
       "      <th>%</th>\n",
       "      <td>0.469765</td>\n",
       "      <td>0.274624</td>\n",
       "      <td>0.153059</td>\n",
       "      <td>0.057802</td>\n",
       "      <td>0.019518</td>\n",
       "      <td>0.00499</td>\n",
       "      <td>0.004796</td>\n",
       "      <td>0.003665</td>\n",
       "      <td>0.002296</td>\n",
       "      <td>0.001978</td>\n",
       "      <td>0.001643</td>\n",
       "      <td>0.001537</td>\n",
       "      <td>0.001422</td>\n",
       "      <td>0.001325</td>\n",
       "      <td>0.000963</td>\n",
       "      <td>0.0003</td>\n",
       "      <td>0.000238</td>\n",
       "      <td>0.000079</td>\n",
       "    </tr>\n",
       "  </tbody>\n",
       "</table>\n",
       "</div>"
      ],
      "text/plain": [
       "               Verde    Branco   Amarelo    Marrom      Bege  Incolor  \\\n",
       "Quantidade     53192     31096     17331      6545      2210      565   \n",
       "%           0.469765  0.274624  0.153059  0.057802  0.019518  0.00499   \n",
       "\n",
       "               Cinza     Preto      Azul  Prateado   Laranja  Vermelho  \\\n",
       "Quantidade       543       415       260       224       186       174   \n",
       "%           0.004796  0.003665  0.002296  0.001978  0.001643  0.001537   \n",
       "\n",
       "            Cobreado        13        14      15        16        17  \n",
       "Quantidade       161       150       109      34        27         9  \n",
       "%           0.001422  0.001325  0.000963  0.0003  0.000238  0.000079  "
      ]
     },
     "execution_count": 14,
     "metadata": {},
     "output_type": "execute_result"
    }
   ],
   "source": [
    "cores = resultado['Cor Predominante'].value_counts()\n",
    "cores = pd.DataFrame(cores)\n",
    "cores = cores.reset_index()\n",
    "cores = cores.T\n",
    "cores = cores.rename(columns={0:cores[0][0],1:cores[1][0],2:cores[2][0],3:cores[3][0],4:cores[4][0]\n",
    "                             ,5:cores[5][0],6:cores[6][0],7:cores[7][0],8:cores[8][0],9:cores[9][0]\n",
    "                             ,10:cores[10][0], 11:cores[11][0],12:cores[12][0]})\n",
    "cores = cores.iloc[1:]\n",
    "cores1 = resultado['Cor Predominante'].value_counts(normalize=True)\n",
    "cores1 = pd.DataFrame(cores1)\n",
    "cores1 = cores1.reset_index()\n",
    "cores1 = cores1.T\n",
    "cores1 = cores1.rename(columns={0:cores1[0][0],1:cores1[1][0],2:cores1[2][0],3:cores1[3][0],4:cores1[4][0]\n",
    "                             ,5:cores1[5][0],6:cores1[6][0],7:cores1[7][0],8:cores1[8][0],9:cores1[9][0]\n",
    "                             ,10:cores1[10][0], 11:cores1[11][0],12:cores1[12][0]})\n",
    "#cores1 = cores.iloc[1:]\n",
    "cores1\n",
    "lista = [cores,cores1]\n",
    "cores2 = pd.concat(lista)\n",
    "cores2 = cores2.reset_index(drop=True)\n",
    "cores2 = cores2.drop([1], axis = 0)\n",
    "cores2 = cores2.rename(index={0:'Quantidade', 2:\"%\"})\n",
    "cores2"
   ]
  },
  {
   "cell_type": "code",
   "execution_count": 15,
   "metadata": {},
   "outputs": [
    {
     "data": {
      "text/plain": [
       "Text(0.5, 1.0, 'Cor Predominante')"
      ]
     },
     "execution_count": 15,
     "metadata": {},
     "output_type": "execute_result"
    },
    {
     "data": {
      "image/png": "[encoded data removed]",
      "text/plain": [
       "<Figure size 864x432 with 1 Axes>"
      ]
     },
     "metadata": {
      "needs_background": "light"
     },
     "output_type": "display_data"
    }
   ],
   "source": [
    "stores_df = resultado\n",
    "\n",
    "f, (ax1) = plt.subplots(1, 1, figsize=(12, 6))\n",
    "#palette ={\"Verde\": \"green\", \"Marrom\": \"brown\", \"Branco\": \"white\", \"Amarelo\": \"yellow\",\"Cinza\":'grey',\"Dourado\":'gold',\"Laranja\":\"orange\",\"Azul\":\"Blue\",\"Vermelho\":\"Red\",'Bege':'beige',\"Preto\":\"black\", \"Incolor\":\"blue\", \"Rosa\":\"pink\", \"Cobreado\":'coper', \"Prateado\":'silver','Salmon':'salmon', \"Roxo\":'black'}\n",
    "\n",
    "sns.countplot(x=\"Cor Predominante\", data=stores_df, ax=ax1)\n",
    "#sns.countplot(x=\"Tipo de Embalagem\", data=stores_df, ax=ax2)\n",
    "#sns.countplot(x=\"TXT_TIPO_OBJETO\", data=stores_df, ax=ax3, palette= palette)\n",
    "palette ={\"Maconha\": \"green\", \"Cocaína\": \"white\", \"Crack\": \"yellow\", \"Drogas\": \"blue\"}\n",
    "plt.setp(ax1.xaxis.get_majorticklabels(), rotation=70)\n",
    "#plt.setp(ax2.xaxis.get_majorticklabels(), rotation=70)\n",
    "ax1.set_ylabel(\"Quantidade\",fontsize=20)\n",
    "ax1.set(xlabel=None)\n",
    "#ax2.set_ylabel(\"Quantidade\",fontsize=20)\n",
    "plt.tight_layout()\n",
    "plt.grid(axis='x')\n",
    "plt.title('Cor Predominante')"
   ]
  },
  {
   "cell_type": "markdown",
   "metadata": {},
   "source": [
    "<h1><center>EMBALAGEM</center></h1>"
   ]
  },
  {
   "cell_type": "code",
   "execution_count": 16,
   "metadata": {},
   "outputs": [
    {
     "data": {
      "text/html": [
       "<div>\n",
       "<style scoped>\n",
       "    .dataframe tbody tr th:only-of-type {\n",
       "        vertical-align: middle;\n",
       "    }\n",
       "\n",
       "    .dataframe tbody tr th {\n",
       "        vertical-align: top;\n",
       "    }\n",
       "\n",
       "    .dataframe thead th {\n",
       "        text-align: right;\n",
       "    }\n",
       "</style>\n",
       "<table border=\"1\" class=\"dataframe\">\n",
       "  <thead>\n",
       "    <tr style=\"text-align: right;\">\n",
       "      <th></th>\n",
       "      <th>Porção(es)</th>\n",
       "      <th>Cigarro(s)</th>\n",
       "      <th>Tijolo(s)</th>\n",
       "      <th>Unidade(s)</th>\n",
       "      <th>Saco(s)</th>\n",
       "      <th>Pacote(s)</th>\n",
       "      <th>Não soube informar</th>\n",
       "      <th>Frasco(s)</th>\n",
       "      <th>Comprimido(s)</th>\n",
       "      <th>Caixa(s)</th>\n",
       "      <th>Ponto(s)</th>\n",
       "      <th>Maço(s)</th>\n",
       "      <th>Lata(s)</th>\n",
       "      <th>Maço(s)</th>\n",
       "      <th>Kit(s)</th>\n",
       "      <th>15</th>\n",
       "      <th>16</th>\n",
       "      <th>17</th>\n",
       "      <th>18</th>\n",
       "    </tr>\n",
       "  </thead>\n",
       "  <tbody>\n",
       "    <tr>\n",
       "      <th>Quantidade</th>\n",
       "      <td>80822</td>\n",
       "      <td>9302</td>\n",
       "      <td>7676</td>\n",
       "      <td>7478</td>\n",
       "      <td>2185</td>\n",
       "      <td>1682</td>\n",
       "      <td>1557</td>\n",
       "      <td>1163</td>\n",
       "      <td>488</td>\n",
       "      <td>359</td>\n",
       "      <td>172</td>\n",
       "      <td>165</td>\n",
       "      <td>66</td>\n",
       "      <td>34</td>\n",
       "      <td>30</td>\n",
       "      <td>25</td>\n",
       "      <td>15</td>\n",
       "      <td>11</td>\n",
       "      <td>1</td>\n",
       "    </tr>\n",
       "    <tr>\n",
       "      <th>%</th>\n",
       "      <td>0.71378</td>\n",
       "      <td>0.082151</td>\n",
       "      <td>0.067791</td>\n",
       "      <td>0.066042</td>\n",
       "      <td>0.019297</td>\n",
       "      <td>0.014855</td>\n",
       "      <td>0.013751</td>\n",
       "      <td>0.010271</td>\n",
       "      <td>0.00431</td>\n",
       "      <td>0.003171</td>\n",
       "      <td>0.001519</td>\n",
       "      <td>0.001457</td>\n",
       "      <td>0.000583</td>\n",
       "      <td>0.0003</td>\n",
       "      <td>0.000265</td>\n",
       "      <td>0.000221</td>\n",
       "      <td>0.000132</td>\n",
       "      <td>0.000097</td>\n",
       "      <td>0.000009</td>\n",
       "    </tr>\n",
       "  </tbody>\n",
       "</table>\n",
       "</div>"
      ],
      "text/plain": [
       "           Porção(es) Cigarro(s) Tijolo(s) Unidade(s)   Saco(s) Pacote(s)  \\\n",
       "Quantidade      80822       9302      7676       7478      2185      1682   \n",
       "%             0.71378   0.082151  0.067791   0.066042  0.019297  0.014855   \n",
       "\n",
       "           Não soube informar Frasco(s) Comprimido(s)  Caixa(s)  Ponto(s)  \\\n",
       "Quantidade               1557      1163           488       359       172   \n",
       "%                    0.013751  0.010271       0.00431  0.003171  0.001519   \n",
       "\n",
       "             Maço(s)   Lata(s) Maço(s)    Kit(s)        15        16  \\\n",
       "Quantidade       165        66      34        30        25        15   \n",
       "%           0.001457  0.000583  0.0003  0.000265  0.000221  0.000132   \n",
       "\n",
       "                  17        18  \n",
       "Quantidade        11         1  \n",
       "%           0.000097  0.000009  "
      ]
     },
     "execution_count": 16,
     "metadata": {},
     "output_type": "execute_result"
    }
   ],
   "source": [
    "cores = resultado['Tipo de Embalagem'].value_counts()\n",
    "cores = pd.DataFrame(cores)\n",
    "cores = cores.reset_index()\n",
    "cores = cores.T\n",
    "cores = cores.rename(columns={0:cores[0][0],1:cores[1][0],2:cores[2][0],3:cores[3][0],4:cores[4][0]\n",
    "                             ,5:cores[5][0],6:cores[6][0],7:cores[7][0],8:cores[8][0],9:cores[9][0]\n",
    "                             ,10:cores[10][0], 11:cores[11][0],12:cores[12][0]})\n",
    "cores = cores.iloc[1:]\n",
    "cores1 = resultado['Tipo de Embalagem'].value_counts(normalize=True)\n",
    "cores1 = pd.DataFrame(cores1)\n",
    "cores1 = cores1.reset_index()\n",
    "cores1 = cores1.T\n",
    "cores1 = cores1.rename(columns={0:cores1[0][0],1:cores1[1][0],2:cores1[2][0],3:cores1[3][0],4:cores1[4][0]\n",
    "                             ,5:cores1[5][0],6:cores1[6][0],7:cores1[7][0],8:cores1[8][0],9:cores1[9][0]\n",
    "                             ,10:cores1[10][0], 11:cores1[11][0],12:cores1[12][0]})\n",
    "#cores1 = cores.iloc[1:]\n",
    "cores1\n",
    "lista = [cores,cores1]\n",
    "cores2 = pd.concat(lista)\n",
    "cores2 = cores2.reset_index(drop=True)\n",
    "cores2 = cores2.drop([1], axis = 0)\n",
    "cores2 = cores2.rename(index={0:'Quantidade', 2:\"%\"})\n",
    "cores2 = cores2.rename(columns={13:'Maço(s)', 14:'Kit(s)'})\n",
    "cores2"
   ]
  },
  {
   "cell_type": "code",
   "execution_count": 17,
   "metadata": {},
   "outputs": [
    {
     "data": {
      "text/plain": [
       "Text(0.5, 1.0, 'Embalagem')"
      ]
     },
     "execution_count": 17,
     "metadata": {},
     "output_type": "execute_result"
    },
    {
     "data": {
      "image/png": "[encoded data removed]",
      "text/plain": [
       "<Figure size 864x432 with 1 Axes>"
      ]
     },
     "metadata": {
      "needs_background": "light"
     },
     "output_type": "display_data"
    }
   ],
   "source": [
    "stores_df = resultado\n",
    "\n",
    "f, (ax2) = plt.subplots(1, 1, figsize=(12, 6))\n",
    "palette ={\"Verde\": \"green\", \"Marrom\": \"brown\", \"Branco\": \"white\", \"Amarelo\": \"yellow\",\"Cinza\":'grey',\"Dourado\":'gold',\"Laranja\":\"orange\",\"Azul\":\"Blue\",\"Vermelho\":\"Red\",'Bege':'beige',\"Preto\":\"black\", \"Incolor\":\"blue\", \"Rosa\":\"pink\"}\n",
    "\n",
    "#sns.countplot(x=\"Cor Predominante\", data=stores_df, ax=ax1, palette = palette)\n",
    "sns.countplot(x=\"Tipo de Embalagem\", data=stores_df, ax=ax2)\n",
    "#sns.countplot(x=\"TXT_TIPO_OBJETO\", data=stores_df, ax=ax3, palette= palette)\n",
    "palette ={\"Maconha\": \"green\", \"Cocaína\": \"white\", \"Crack\": \"yellow\", \"Drogas\": \"blue\"}\n",
    "#plt.setp(ax1.xaxis.get_majorticklabels(), rotation=70)\n",
    "plt.setp(ax2.xaxis.get_majorticklabels(), rotation=70)\n",
    "ax2.set(xlabel=None)\n",
    "#ax1.set_ylabel(\"Quantidade\",fontsize=20)\n",
    "ax2.set_ylabel(\"Quantidade\",fontsize=20)\n",
    "plt.tight_layout()\n",
    "plt.grid(axis='x')\n",
    "plt.title('Embalagem')"
   ]
  },
  {
   "cell_type": "markdown",
   "metadata": {},
   "source": [
    "<h1><center>UNIDADE DE PESO</center></h1>"
   ]
  },
  {
   "cell_type": "code",
   "execution_count": 18,
   "metadata": {},
   "outputs": [
    {
     "data": {
      "text/html": [
       "<div>\n",
       "<style scoped>\n",
       "    .dataframe tbody tr th:only-of-type {\n",
       "        vertical-align: middle;\n",
       "    }\n",
       "\n",
       "    .dataframe tbody tr th {\n",
       "        vertical-align: top;\n",
       "    }\n",
       "\n",
       "    .dataframe thead th {\n",
       "        text-align: right;\n",
       "    }\n",
       "</style>\n",
       "<table border=\"1\" class=\"dataframe\">\n",
       "  <thead>\n",
       "    <tr style=\"text-align: right;\">\n",
       "      <th></th>\n",
       "      <th>Grama</th>\n",
       "      <th>Não soube informar</th>\n",
       "      <th>Quilograma</th>\n",
       "      <th>Miligrama</th>\n",
       "      <th>Decigrama</th>\n",
       "      <th>Tonelada</th>\n",
       "    </tr>\n",
       "  </thead>\n",
       "  <tbody>\n",
       "    <tr>\n",
       "      <th>Quantidade</th>\n",
       "      <td>89308</td>\n",
       "      <td>4720</td>\n",
       "      <td>1474</td>\n",
       "      <td>1200</td>\n",
       "      <td>288</td>\n",
       "      <td>5</td>\n",
       "    </tr>\n",
       "    <tr>\n",
       "      <th>%</th>\n",
       "      <td>0.920748</td>\n",
       "      <td>0.048662</td>\n",
       "      <td>0.015197</td>\n",
       "      <td>0.012372</td>\n",
       "      <td>0.002969</td>\n",
       "      <td>0.000052</td>\n",
       "    </tr>\n",
       "  </tbody>\n",
       "</table>\n",
       "</div>"
      ],
      "text/plain": [
       "               Grama Não soube informar Quilograma Miligrama Decigrama  \\\n",
       "Quantidade     89308               4720       1474      1200       288   \n",
       "%           0.920748           0.048662   0.015197  0.012372  0.002969   \n",
       "\n",
       "            Tonelada  \n",
       "Quantidade         5  \n",
       "%           0.000052  "
      ]
     },
     "execution_count": 18,
     "metadata": {},
     "output_type": "execute_result"
    }
   ],
   "source": [
    "cores = resultado['Unidade de Peso'].value_counts()\n",
    "cores = pd.DataFrame(cores)\n",
    "cores = cores.reset_index()\n",
    "cores = cores.T\n",
    "cores = cores.rename(columns={0:cores[0][0],1:cores[1][0],2:cores[2][0],3:cores[3][0],4:cores[4][0],5:cores[5][0]})\n",
    "cores = cores.iloc[1:]\n",
    "cores1 = resultado['Unidade de Peso'].value_counts(normalize=True)\n",
    "cores1 = pd.DataFrame(cores1)\n",
    "cores1 = cores1.reset_index()\n",
    "cores1 = cores1.T\n",
    "cores1 = cores1.rename(columns={0:cores1[0][0],1:cores1[1][0],2:cores1[2][0],3:cores1[3][0],4:cores1[4][0],5:cores1[5][0]\n",
    "                             })\n",
    "#cores1 = cores.iloc[1:]\n",
    "cores1\n",
    "lista = [cores,cores1]\n",
    "cores2 = pd.concat(lista)\n",
    "cores2 = cores2.reset_index(drop=True)\n",
    "cores2 = cores2.drop([1], axis = 0)\n",
    "cores2 = cores2.rename(index={0:'Quantidade', 2:\"%\"})\n",
    "cores2"
   ]
  },
  {
   "cell_type": "code",
   "execution_count": 19,
   "metadata": {},
   "outputs": [
    {
     "data": {
      "text/plain": [
       "Text(0.5, 1.0, 'Unidade de Peso')"
      ]
     },
     "execution_count": 19,
     "metadata": {},
     "output_type": "execute_result"
    },
    {
     "data": {
      "image/png": "[encoded data removed]",
      "text/plain": [
       "<Figure size 864x432 with 1 Axes>"
      ]
     },
     "metadata": {
      "needs_background": "light"
     },
     "output_type": "display_data"
    }
   ],
   "source": [
    "stores_df = resultado\n",
    "\n",
    "f, (ax2) = plt.subplots(1, 1, figsize=(12, 6))\n",
    "palette ={\"Verde\": \"green\", \"Marrom\": \"brown\", \"Branco\": \"white\", \"Amarelo\": \"yellow\",\"Cinza\":'grey',\"Dourado\":'gold',\"Laranja\":\"orange\",\"Azul\":\"Blue\",\"Vermelho\":\"Red\",'Bege':'beige',\"Preto\":\"black\", \"Incolor\":\"blue\", \"Rosa\":\"pink\"}\n",
    "\n",
    "#sns.countplot(x=\"Cor Predominante\", data=stores_df, ax=ax1, palette = palette)\n",
    "sns.countplot(x=\"Unidade de Peso\", data=stores_df, ax=ax2)\n",
    "#sns.countplot(x=\"TXT_TIPO_OBJETO\", data=stores_df, ax=ax3, palette= palette)\n",
    "palette ={\"Maconha\": \"green\", \"Cocaína\": \"white\", \"Crack\": \"yellow\", \"Drogas\": \"blue\"}\n",
    "#plt.setp(ax1.xaxis.get_majorticklabels(), rotation=70)\n",
    "plt.setp(ax2.xaxis.get_majorticklabels(), rotation=70)\n",
    "ax2.set(xlabel=None)\n",
    "#ax1.set_ylabel(\"Quantidade\",fontsize=20)\n",
    "ax2.set_ylabel(\"Quantidade\",fontsize=20)\n",
    "plt.grid(axis='x')\n",
    "plt.tight_layout()\n",
    "plt.title('Unidade de Peso')"
   ]
  },
  {
   "cell_type": "code",
   "execution_count": 20,
   "metadata": {},
   "outputs": [
    {
     "data": {
      "text/plain": [
       "Porção(es)            2392\n",
       "Cigarro(s)            1143\n",
       "Unidade(s)             465\n",
       "Não soube informar     206\n",
       "Tijolo(s)              204\n",
       "Comprimido(s)           90\n",
       "Frasco(s)               72\n",
       "Saco(s)                 56\n",
       "Pacote(s)               34\n",
       "Ponto(s)                19\n",
       "Lata(s)                 10\n",
       "Caixa(s)                10\n",
       "Garrafa(s)               7\n",
       "Galão(es)                6\n",
       "Maço(s)                  4\n",
       "Lote(s)                  1\n",
       "Kit(s)                   1\n",
       "Name: Tipo de Embalagem, dtype: int64"
      ]
     },
     "execution_count": 20,
     "metadata": {},
     "output_type": "execute_result"
    }
   ],
   "source": [
    "sem_info = resultado.loc[resultado['Unidade de Peso'] == 'Não soube informar']\n",
    "sem_info['Tipo de Embalagem'].value_counts()"
   ]
  },
  {
   "cell_type": "code",
   "execution_count": 21,
   "metadata": {},
   "outputs": [],
   "source": [
    "sem_info = resultado.loc[resultado['Unidade de Peso'] == 'Não soube informar']\n",
    "com_info = resultado.loc[resultado['Unidade de Peso'] != 'Não soube informar']\n",
    "com_info = com_info.reset_index(drop= True)\n",
    "sem_info = sem_info.reset_index(drop=True)\n"
   ]
  },
  {
   "cell_type": "code",
   "execution_count": 22,
   "metadata": {},
   "outputs": [],
   "source": [
    "porcao = com_info.loc[com_info['Tipo de Embalagem'] == 'Porção(es)']\n",
    "porcao = porcao.loc[porcao['Unidade de Peso'] == 'Grama']\n",
    "porcao = porcao.loc[porcao['Peso Unitário'].notna()]\n",
    "porcao = porcao.reset_index(drop=True)\n",
    "x = 0\n",
    "while x < len(porcao):\n",
    "    if porcao['Peso Unitário'][x] == '-':\n",
    "        porcao['Peso Unitário'][x] = 0\n",
    "    x += 1\n",
    "    \n",
    "porcao['Peso Unitário'] = porcao['Peso Unitário'].astype(float) \n"
   ]
  },
  {
   "cell_type": "code",
   "execution_count": 23,
   "metadata": {
    "scrolled": false
   },
   "outputs": [
    {
     "name": "stdout",
     "output_type": "stream",
     "text": [
      "Média\n",
      "24.21855409231139\n",
      "Mediana\n",
      "0.0\n",
      "Quartil\n",
      "0.0\n"
     ]
    }
   ],
   "source": [
    "print('Média')\n",
    "print(porcao['Peso Unitário'].mean())\n",
    "print('Mediana')\n",
    "print(porcao['Peso Unitário'].median())\n",
    "print('Quartil')\n",
    "print(porcao['Peso Unitário'].quantile(0.25))"
   ]
  },
  {
   "cell_type": "code",
   "execution_count": 24,
   "metadata": {},
   "outputs": [
    {
     "name": "stderr",
     "output_type": "stream",
     "text": [
      "C:\\Users\\giu_2\\Anaconda3\\envs\\projeto_drogas\\lib\\site-packages\\pandas\\core\\frame.py:3607: SettingWithCopyWarning: \n",
      "A value is trying to be set on a copy of a slice from a DataFrame.\n",
      "Try using .loc[row_indexer,col_indexer] = value instead\n",
      "\n",
      "See the caveats in the documentation: https://pandas.pydata.org/pandas-docs/stable/user_guide/indexing.html#returning-a-view-versus-a-copy\n",
      "  self._set_item(key, value)\n",
      "C:\\Users\\giu_2\\Anaconda3\\envs\\projeto_drogas\\lib\\site-packages\\pandas\\core\\frame.py:3607: SettingWithCopyWarning: \n",
      "A value is trying to be set on a copy of a slice from a DataFrame.\n",
      "Try using .loc[row_indexer,col_indexer] = value instead\n",
      "\n",
      "See the caveats in the documentation: https://pandas.pydata.org/pandas-docs/stable/user_guide/indexing.html#returning-a-view-versus-a-copy\n",
      "  self._set_item(key, value)\n"
     ]
    }
   ],
   "source": [
    "porcao_sem = sem_info.loc[sem_info['Tipo de Embalagem'] == 'Porção(es)']\n",
    "porcao_sem['Unidade de Peso'] = 'Grama'\n",
    "porcao_sem['Peso Unitário'] = porcao['Peso Unitário'].median()\n"
   ]
  },
  {
   "cell_type": "code",
   "execution_count": 25,
   "metadata": {},
   "outputs": [
    {
     "name": "stdout",
     "output_type": "stream",
     "text": [
      "Média\n",
      "0.7768401831618503\n",
      "Mediana\n",
      "0.07999999821186066\n",
      "Quartil\n",
      "0.0\n"
     ]
    }
   ],
   "source": [
    "cigarro_com = com_info.loc[com_info['Tipo de Embalagem'] == 'Cigarro(s)']\n",
    "cigarro_com = cigarro_com.loc[cigarro_com['Unidade de Peso'] == 'Grama']\n",
    "cigarro_com = cigarro_com.loc[cigarro_com['Peso Unitário'].notna()]\n",
    "cigarro_com = cigarro_com.reset_index(drop=True)\n",
    "cigarro_com['Peso Unitário'] = cigarro_com['Peso Unitário'].astype(float) \n",
    "print('Média')\n",
    "print(cigarro_com['Peso Unitário'].mean())\n",
    "print('Mediana')\n",
    "print(cigarro_com['Peso Unitário'].median())\n",
    "print('Quartil')\n",
    "print(cigarro_com['Peso Unitário'].quantile(0.25))"
   ]
  },
  {
   "cell_type": "code",
   "execution_count": 26,
   "metadata": {},
   "outputs": [
    {
     "name": "stderr",
     "output_type": "stream",
     "text": [
      "C:\\Users\\giu_2\\Anaconda3\\envs\\projeto_drogas\\lib\\site-packages\\pandas\\core\\frame.py:3607: SettingWithCopyWarning: \n",
      "A value is trying to be set on a copy of a slice from a DataFrame.\n",
      "Try using .loc[row_indexer,col_indexer] = value instead\n",
      "\n",
      "See the caveats in the documentation: https://pandas.pydata.org/pandas-docs/stable/user_guide/indexing.html#returning-a-view-versus-a-copy\n",
      "  self._set_item(key, value)\n",
      "C:\\Users\\giu_2\\Anaconda3\\envs\\projeto_drogas\\lib\\site-packages\\pandas\\core\\frame.py:3607: SettingWithCopyWarning: \n",
      "A value is trying to be set on a copy of a slice from a DataFrame.\n",
      "Try using .loc[row_indexer,col_indexer] = value instead\n",
      "\n",
      "See the caveats in the documentation: https://pandas.pydata.org/pandas-docs/stable/user_guide/indexing.html#returning-a-view-versus-a-copy\n",
      "  self._set_item(key, value)\n"
     ]
    }
   ],
   "source": [
    "cigarro_sem = sem_info.loc[sem_info['Tipo de Embalagem'] == 'Cigarro(s)']\n",
    "cigarro_sem['Unidade de Peso'] = 'Grama'\n",
    "cigarro_sem['Peso Unitário'] = cigarro_com['Peso Unitário'].median()"
   ]
  },
  {
   "cell_type": "code",
   "execution_count": 27,
   "metadata": {},
   "outputs": [
    {
     "name": "stdout",
     "output_type": "stream",
     "text": [
      "Média\n",
      "6.995211243912069\n",
      "Mediana\n",
      "0.0\n",
      "Quartil\n",
      "0.0\n"
     ]
    }
   ],
   "source": [
    "unidade_com = com_info.loc[com_info['Tipo de Embalagem'] == 'Unidade(s)']\n",
    "unidade_com = unidade_com.loc[unidade_com['Unidade de Peso'] == 'Grama']\n",
    "unidade_com = unidade_com.loc[unidade_com['Peso Unitário'].notna()]\n",
    "unidade_com = unidade_com.reset_index(drop=True)\n",
    "unidade_com['Peso Unitário'] = unidade_com['Peso Unitário'].astype(float) \n",
    "print('Média')\n",
    "print(unidade_com['Peso Unitário'].mean())\n",
    "print('Mediana')\n",
    "print(unidade_com['Peso Unitário'].median())\n",
    "print('Quartil')\n",
    "print(unidade_com['Peso Unitário'].quantile(0.25))"
   ]
  },
  {
   "cell_type": "code",
   "execution_count": 28,
   "metadata": {},
   "outputs": [
    {
     "name": "stderr",
     "output_type": "stream",
     "text": [
      "C:\\Users\\giu_2\\Anaconda3\\envs\\projeto_drogas\\lib\\site-packages\\pandas\\core\\frame.py:3607: SettingWithCopyWarning: \n",
      "A value is trying to be set on a copy of a slice from a DataFrame.\n",
      "Try using .loc[row_indexer,col_indexer] = value instead\n",
      "\n",
      "See the caveats in the documentation: https://pandas.pydata.org/pandas-docs/stable/user_guide/indexing.html#returning-a-view-versus-a-copy\n",
      "  self._set_item(key, value)\n",
      "C:\\Users\\giu_2\\Anaconda3\\envs\\projeto_drogas\\lib\\site-packages\\pandas\\core\\frame.py:3607: SettingWithCopyWarning: \n",
      "A value is trying to be set on a copy of a slice from a DataFrame.\n",
      "Try using .loc[row_indexer,col_indexer] = value instead\n",
      "\n",
      "See the caveats in the documentation: https://pandas.pydata.org/pandas-docs/stable/user_guide/indexing.html#returning-a-view-versus-a-copy\n",
      "  self._set_item(key, value)\n"
     ]
    }
   ],
   "source": [
    "unidade_sem = sem_info.loc[sem_info['Tipo de Embalagem'] == 'Unidade(s)']\n",
    "unidade_sem['Unidade de Peso'] = 'Grama'\n",
    "unidade_sem['Peso Unitário'] = unidade_com['Peso Unitário'].median()"
   ]
  },
  {
   "cell_type": "code",
   "execution_count": 29,
   "metadata": {},
   "outputs": [
    {
     "name": "stdout",
     "output_type": "stream",
     "text": [
      "Média\n",
      "286.39882319415534\n",
      "Mediana\n",
      "2.0\n",
      "Quartil\n",
      "0.0\n"
     ]
    }
   ],
   "source": [
    "tijolo_com = com_info.loc[com_info['Tipo de Embalagem'] == 'Tijolo(s)']\n",
    "tijolo_com = tijolo_com.loc[tijolo_com['Unidade de Peso'] == 'Grama']\n",
    "tijolo_com = tijolo_com.loc[tijolo_com['Peso Unitário'].notna()]\n",
    "tijolo_com = tijolo_com.reset_index(drop=True)\n",
    "tijolo_com['Peso Unitário'] = tijolo_com['Peso Unitário'].astype(float) \n",
    "print('Média')\n",
    "print(tijolo_com['Peso Unitário'].mean())\n",
    "print('Mediana')\n",
    "print(tijolo_com['Peso Unitário'].median())\n",
    "print('Quartil')\n",
    "print(tijolo_com['Peso Unitário'].quantile(0.25))"
   ]
  },
  {
   "cell_type": "code",
   "execution_count": 30,
   "metadata": {},
   "outputs": [
    {
     "name": "stderr",
     "output_type": "stream",
     "text": [
      "C:\\Users\\giu_2\\Anaconda3\\envs\\projeto_drogas\\lib\\site-packages\\pandas\\core\\frame.py:3607: SettingWithCopyWarning: \n",
      "A value is trying to be set on a copy of a slice from a DataFrame.\n",
      "Try using .loc[row_indexer,col_indexer] = value instead\n",
      "\n",
      "See the caveats in the documentation: https://pandas.pydata.org/pandas-docs/stable/user_guide/indexing.html#returning-a-view-versus-a-copy\n",
      "  self._set_item(key, value)\n",
      "C:\\Users\\giu_2\\Anaconda3\\envs\\projeto_drogas\\lib\\site-packages\\pandas\\core\\frame.py:3607: SettingWithCopyWarning: \n",
      "A value is trying to be set on a copy of a slice from a DataFrame.\n",
      "Try using .loc[row_indexer,col_indexer] = value instead\n",
      "\n",
      "See the caveats in the documentation: https://pandas.pydata.org/pandas-docs/stable/user_guide/indexing.html#returning-a-view-versus-a-copy\n",
      "  self._set_item(key, value)\n"
     ]
    }
   ],
   "source": [
    "tijolo_sem = sem_info.loc[sem_info['Tipo de Embalagem'] == 'Tijolo(s)']\n",
    "tijolo_sem['Unidade de Peso'] = 'Grama'\n",
    "tijolo_sem['Peso Unitário'] = tijolo_com['Peso Unitário'].median()"
   ]
  },
  {
   "cell_type": "code",
   "execution_count": 31,
   "metadata": {},
   "outputs": [
    {
     "name": "stdout",
     "output_type": "stream",
     "text": [
      "Média\n",
      "6.316688453263252\n",
      "Mediana\n",
      "0.0\n",
      "Quartil\n",
      "0.0\n"
     ]
    }
   ],
   "source": [
    "frasco_com = com_info.loc[com_info['Tipo de Embalagem'] == 'Frasco(s)']\n",
    "frasco_com = frasco_com.loc[frasco_com['Unidade de Peso'] == 'Grama']\n",
    "frasco_com = frasco_com.loc[frasco_com['Peso Unitário'].notna()]\n",
    "frasco_com = frasco_com.reset_index(drop=True)\n",
    "frasco_com['Peso Unitário'] = frasco_com['Peso Unitário'].astype(float) \n",
    "print('Média')\n",
    "print(frasco_com['Peso Unitário'].mean())\n",
    "print('Mediana')\n",
    "print(frasco_com['Peso Unitário'].median())\n",
    "print('Quartil')\n",
    "print(frasco_com['Peso Unitário'].quantile(0.25))"
   ]
  },
  {
   "cell_type": "code",
   "execution_count": 32,
   "metadata": {},
   "outputs": [
    {
     "name": "stderr",
     "output_type": "stream",
     "text": [
      "C:\\Users\\giu_2\\Anaconda3\\envs\\projeto_drogas\\lib\\site-packages\\pandas\\core\\frame.py:3607: SettingWithCopyWarning: \n",
      "A value is trying to be set on a copy of a slice from a DataFrame.\n",
      "Try using .loc[row_indexer,col_indexer] = value instead\n",
      "\n",
      "See the caveats in the documentation: https://pandas.pydata.org/pandas-docs/stable/user_guide/indexing.html#returning-a-view-versus-a-copy\n",
      "  self._set_item(key, value)\n",
      "C:\\Users\\giu_2\\Anaconda3\\envs\\projeto_drogas\\lib\\site-packages\\pandas\\core\\frame.py:3607: SettingWithCopyWarning: \n",
      "A value is trying to be set on a copy of a slice from a DataFrame.\n",
      "Try using .loc[row_indexer,col_indexer] = value instead\n",
      "\n",
      "See the caveats in the documentation: https://pandas.pydata.org/pandas-docs/stable/user_guide/indexing.html#returning-a-view-versus-a-copy\n",
      "  self._set_item(key, value)\n"
     ]
    }
   ],
   "source": [
    "frasco_sem = sem_info.loc[sem_info['Tipo de Embalagem'] == 'Frasco(s)']\n",
    "frasco_sem['Unidade de Peso'] = 'Grama'\n",
    "frasco_sem['Peso Unitário'] = frasco_com['Peso Unitário'].median()"
   ]
  },
  {
   "cell_type": "code",
   "execution_count": 33,
   "metadata": {},
   "outputs": [
    {
     "name": "stdout",
     "output_type": "stream",
     "text": [
      "Média\n",
      "185.58288983378975\n",
      "Mediana\n",
      "1.0\n",
      "Quartil\n",
      "0.0\n"
     ]
    }
   ],
   "source": [
    "pacote_com = com_info.loc[com_info['Tipo de Embalagem'] == 'Pacote(s)']\n",
    "pacote_com = pacote_com.loc[pacote_com['Unidade de Peso'] == 'Grama']\n",
    "pacote_com = pacote_com.loc[pacote_com['Peso Unitário'].notna()]\n",
    "pacote_com = pacote_com.reset_index(drop=True)\n",
    "pacote_com['Peso Unitário'] = pacote_com['Peso Unitário'].astype(float) \n",
    "print('Média')\n",
    "print(pacote_com['Peso Unitário'].mean())\n",
    "print('Mediana')\n",
    "print(pacote_com['Peso Unitário'].median())\n",
    "print('Quartil')\n",
    "print(pacote_com['Peso Unitário'].quantile(0.25))"
   ]
  },
  {
   "cell_type": "code",
   "execution_count": 34,
   "metadata": {},
   "outputs": [
    {
     "name": "stderr",
     "output_type": "stream",
     "text": [
      "C:\\Users\\giu_2\\Anaconda3\\envs\\projeto_drogas\\lib\\site-packages\\pandas\\core\\frame.py:3607: SettingWithCopyWarning: \n",
      "A value is trying to be set on a copy of a slice from a DataFrame.\n",
      "Try using .loc[row_indexer,col_indexer] = value instead\n",
      "\n",
      "See the caveats in the documentation: https://pandas.pydata.org/pandas-docs/stable/user_guide/indexing.html#returning-a-view-versus-a-copy\n",
      "  self._set_item(key, value)\n",
      "C:\\Users\\giu_2\\Anaconda3\\envs\\projeto_drogas\\lib\\site-packages\\pandas\\core\\frame.py:3607: SettingWithCopyWarning: \n",
      "A value is trying to be set on a copy of a slice from a DataFrame.\n",
      "Try using .loc[row_indexer,col_indexer] = value instead\n",
      "\n",
      "See the caveats in the documentation: https://pandas.pydata.org/pandas-docs/stable/user_guide/indexing.html#returning-a-view-versus-a-copy\n",
      "  self._set_item(key, value)\n"
     ]
    }
   ],
   "source": [
    "pacote_sem = sem_info.loc[sem_info['Tipo de Embalagem'] == 'Pacote(s)']\n",
    "pacote_sem['Unidade de Peso'] = 'Grama'\n",
    "pacote_sem['Peso Unitário'] = pacote_com['Peso Unitário'].median()"
   ]
  },
  {
   "cell_type": "code",
   "execution_count": 35,
   "metadata": {},
   "outputs": [
    {
     "name": "stdout",
     "output_type": "stream",
     "text": [
      "Média\n",
      "45.011573166273415\n",
      "Mediana\n",
      "0.0\n",
      "Quartil\n",
      "0.0\n"
     ]
    }
   ],
   "source": [
    "saco_com = com_info.loc[com_info['Tipo de Embalagem'] == 'Saco(s)']\n",
    "saco_com = saco_com.loc[saco_com['Unidade de Peso'] == 'Grama']\n",
    "saco_com = saco_com.loc[saco_com['Peso Unitário'].notna()]\n",
    "saco_com = saco_com.reset_index(drop=True)\n",
    "saco_com['Peso Unitário'] = saco_com['Peso Unitário'].astype(float) \n",
    "print('Média')\n",
    "print(saco_com['Peso Unitário'].mean())\n",
    "print('Mediana')\n",
    "print(saco_com['Peso Unitário'].median())\n",
    "print('Quartil')\n",
    "print(saco_com['Peso Unitário'].quantile(0.25))"
   ]
  },
  {
   "cell_type": "code",
   "execution_count": 36,
   "metadata": {},
   "outputs": [
    {
     "name": "stderr",
     "output_type": "stream",
     "text": [
      "C:\\Users\\giu_2\\Anaconda3\\envs\\projeto_drogas\\lib\\site-packages\\pandas\\core\\frame.py:3607: SettingWithCopyWarning: \n",
      "A value is trying to be set on a copy of a slice from a DataFrame.\n",
      "Try using .loc[row_indexer,col_indexer] = value instead\n",
      "\n",
      "See the caveats in the documentation: https://pandas.pydata.org/pandas-docs/stable/user_guide/indexing.html#returning-a-view-versus-a-copy\n",
      "  self._set_item(key, value)\n",
      "C:\\Users\\giu_2\\Anaconda3\\envs\\projeto_drogas\\lib\\site-packages\\pandas\\core\\frame.py:3607: SettingWithCopyWarning: \n",
      "A value is trying to be set on a copy of a slice from a DataFrame.\n",
      "Try using .loc[row_indexer,col_indexer] = value instead\n",
      "\n",
      "See the caveats in the documentation: https://pandas.pydata.org/pandas-docs/stable/user_guide/indexing.html#returning-a-view-versus-a-copy\n",
      "  self._set_item(key, value)\n"
     ]
    }
   ],
   "source": [
    "saco_sem = sem_info.loc[sem_info['Tipo de Embalagem'] == 'Saco(s)']\n",
    "saco_sem['Unidade de Peso'] = 'Grama'\n",
    "saco_sem['Peso Unitário'] = saco_com['Peso Unitário'].median()"
   ]
  },
  {
   "cell_type": "code",
   "execution_count": 37,
   "metadata": {},
   "outputs": [
    {
     "name": "stdout",
     "output_type": "stream",
     "text": [
      "Média\n",
      "0.5791346164456067\n",
      "Mediana\n",
      "0.0\n",
      "Quartil\n",
      "0.0\n"
     ]
    }
   ],
   "source": [
    "ponto_com = com_info.loc[com_info['Tipo de Embalagem'] == 'Ponto(s)']\n",
    "ponto_com = ponto_com.loc[ponto_com['Unidade de Peso'] == 'Grama']\n",
    "ponto_com = ponto_com.loc[ponto_com['Peso Unitário'].notna()]\n",
    "ponto_com = ponto_com.reset_index(drop=True)\n",
    "ponto_com['Peso Unitário'] = ponto_com['Peso Unitário'].astype(float) \n",
    "print('Média')\n",
    "print(ponto_com['Peso Unitário'].mean())\n",
    "print('Mediana')\n",
    "print(ponto_com['Peso Unitário'].median())\n",
    "print('Quartil')\n",
    "print(ponto_com['Peso Unitário'].quantile(0.25))"
   ]
  },
  {
   "cell_type": "code",
   "execution_count": 38,
   "metadata": {},
   "outputs": [
    {
     "name": "stderr",
     "output_type": "stream",
     "text": [
      "C:\\Users\\giu_2\\Anaconda3\\envs\\projeto_drogas\\lib\\site-packages\\pandas\\core\\frame.py:3607: SettingWithCopyWarning: \n",
      "A value is trying to be set on a copy of a slice from a DataFrame.\n",
      "Try using .loc[row_indexer,col_indexer] = value instead\n",
      "\n",
      "See the caveats in the documentation: https://pandas.pydata.org/pandas-docs/stable/user_guide/indexing.html#returning-a-view-versus-a-copy\n",
      "  self._set_item(key, value)\n",
      "C:\\Users\\giu_2\\Anaconda3\\envs\\projeto_drogas\\lib\\site-packages\\pandas\\core\\frame.py:3607: SettingWithCopyWarning: \n",
      "A value is trying to be set on a copy of a slice from a DataFrame.\n",
      "Try using .loc[row_indexer,col_indexer] = value instead\n",
      "\n",
      "See the caveats in the documentation: https://pandas.pydata.org/pandas-docs/stable/user_guide/indexing.html#returning-a-view-versus-a-copy\n",
      "  self._set_item(key, value)\n"
     ]
    }
   ],
   "source": [
    "ponto_sem = sem_info.loc[sem_info['Tipo de Embalagem'] == 'Ponto(s)']\n",
    "ponto_sem['Unidade de Peso'] = 'Grama'\n",
    "ponto_sem['Peso Unitário'] = ponto_com['Peso Unitário'].median()"
   ]
  },
  {
   "cell_type": "code",
   "execution_count": 39,
   "metadata": {},
   "outputs": [],
   "source": [
    "lista = [ponto_sem, saco_sem, tijolo_sem, unidade_sem, cigarro_sem, pacote_sem, frasco_sem, porcao_sem]\n",
    "sem_info2 = pd.concat(lista)"
   ]
  },
  {
   "cell_type": "code",
   "execution_count": 40,
   "metadata": {},
   "outputs": [],
   "source": [
    "lista = [sem_info2, com_info]\n",
    "resultado = pd.concat(lista)\n",
    "resultado = resultado.reset_index(drop=True)\n"
   ]
  },
  {
   "cell_type": "code",
   "execution_count": 41,
   "metadata": {},
   "outputs": [
    {
     "data": {
      "text/plain": [
       "Grama         93693\n",
       "Quilograma     1474\n",
       "Miligrama      1200\n",
       "Decigrama       288\n",
       "Tonelada          5\n",
       "Name: Unidade de Peso, dtype: int64"
      ]
     },
     "execution_count": 41,
     "metadata": {},
     "output_type": "execute_result"
    }
   ],
   "source": [
    "resultado['Unidade de Peso'].value_counts()"
   ]
  },
  {
   "cell_type": "code",
   "execution_count": 42,
   "metadata": {},
   "outputs": [
    {
     "data": {
      "text/html": [
       "<div>\n",
       "<style scoped>\n",
       "    .dataframe tbody tr th:only-of-type {\n",
       "        vertical-align: middle;\n",
       "    }\n",
       "\n",
       "    .dataframe tbody tr th {\n",
       "        vertical-align: top;\n",
       "    }\n",
       "\n",
       "    .dataframe thead th {\n",
       "        text-align: right;\n",
       "    }\n",
       "</style>\n",
       "<table border=\"1\" class=\"dataframe\">\n",
       "  <thead>\n",
       "    <tr style=\"text-align: right;\">\n",
       "      <th></th>\n",
       "      <th>Grama</th>\n",
       "      <th>Quilograma</th>\n",
       "      <th>Miligrama</th>\n",
       "      <th>Decigrama</th>\n",
       "      <th>4</th>\n",
       "    </tr>\n",
       "  </thead>\n",
       "  <tbody>\n",
       "    <tr>\n",
       "      <th>Quantidade</th>\n",
       "      <td>93693</td>\n",
       "      <td>1474</td>\n",
       "      <td>1200</td>\n",
       "      <td>288</td>\n",
       "      <td>5</td>\n",
       "    </tr>\n",
       "    <tr>\n",
       "      <th>%</th>\n",
       "      <td>0.969305</td>\n",
       "      <td>0.015249</td>\n",
       "      <td>0.012415</td>\n",
       "      <td>0.00298</td>\n",
       "      <td>0.000052</td>\n",
       "    </tr>\n",
       "  </tbody>\n",
       "</table>\n",
       "</div>"
      ],
      "text/plain": [
       "               Grama Quilograma Miligrama Decigrama         4\n",
       "Quantidade     93693       1474      1200       288         5\n",
       "%           0.969305   0.015249  0.012415   0.00298  0.000052"
      ]
     },
     "execution_count": 42,
     "metadata": {},
     "output_type": "execute_result"
    }
   ],
   "source": [
    "cores = resultado['Unidade de Peso'].value_counts()\n",
    "cores = pd.DataFrame(cores)\n",
    "cores = cores.reset_index()\n",
    "cores = cores.T\n",
    "cores = cores.rename(columns={0:cores[0][0],1:cores[1][0],2:cores[2][0],3:cores[3][0]})\n",
    "cores = cores.iloc[1:]\n",
    "cores1 = resultado['Unidade de Peso'].value_counts(normalize=True)\n",
    "cores1 = pd.DataFrame(cores1)\n",
    "cores1 = cores1.reset_index()\n",
    "cores1 = cores1.T\n",
    "cores1 = cores1.rename(columns={0:cores1[0][0],1:cores1[1][0],2:cores1[2][0],3:cores1[3][0]\n",
    "                             })\n",
    "#cores1 = cores.iloc[1:]\n",
    "cores1\n",
    "lista = [cores,cores1]\n",
    "cores2 = pd.concat(lista)\n",
    "cores2 = cores2.reset_index(drop=True)\n",
    "cores2 = cores2.drop([1], axis = 0)\n",
    "cores2 = cores2.rename(index={0:'Quantidade', 2:\"%\"})\n",
    "cores2"
   ]
  },
  {
   "cell_type": "code",
   "execution_count": 43,
   "metadata": {},
   "outputs": [
    {
     "data": {
      "text/plain": [
       "Text(0.5, 1.0, 'Unidade de Peso')"
      ]
     },
     "execution_count": 43,
     "metadata": {},
     "output_type": "execute_result"
    },
    {
     "data": {
      "image/png": "[encoded data removed]",
      "text/plain": [
       "<Figure size 864x432 with 1 Axes>"
      ]
     },
     "metadata": {
      "needs_background": "light"
     },
     "output_type": "display_data"
    }
   ],
   "source": [
    "stores_df = resultado\n",
    "\n",
    "f, (ax2) = plt.subplots(1, 1, figsize=(12, 6))\n",
    "palette ={\"Verde\": \"green\", \"Marrom\": \"brown\", \"Branco\": \"white\", \"Amarelo\": \"yellow\",\"Cinza\":'grey',\"Dourado\":'gold',\"Laranja\":\"orange\",\"Azul\":\"Blue\",\"Vermelho\":\"Red\",'Bege':'beige',\"Preto\":\"black\", \"Incolor\":\"blue\", \"Rosa\":\"pink\"}\n",
    "\n",
    "#sns.countplot(x=\"Cor Predominante\", data=stores_df, ax=ax1, palette = palette)\n",
    "sns.countplot(x=\"Unidade de Peso\", data=stores_df, ax=ax2)\n",
    "#sns.countplot(x=\"TXT_TIPO_OBJETO\", data=stores_df, ax=ax3, palette= palette)\n",
    "palette ={\"Maconha\": \"green\", \"Cocaína\": \"white\", \"Crack\": \"yellow\", \"Drogas\": \"blue\"}\n",
    "#plt.setp(ax1.xaxis.get_majorticklabels(), rotation=70)\n",
    "plt.setp(ax2.xaxis.get_majorticklabels(), rotation=70)\n",
    "ax2.set(xlabel=None)\n",
    "#ax1.set_ylabel(\"Quantidade\",fontsize=20)\n",
    "ax2.set_ylabel(\"Quantidade\",fontsize=20)\n",
    "plt.grid(axis='x')\n",
    "plt.tight_layout()\n",
    "plt.title('Unidade de Peso')"
   ]
  },
  {
   "cell_type": "markdown",
   "metadata": {},
   "source": [
    "<h1><center>TIPO DE OBJETO</center></h1>"
   ]
  },
  {
   "cell_type": "code",
   "execution_count": 44,
   "metadata": {},
   "outputs": [
    {
     "data": {
      "text/html": [
       "<div>\n",
       "<style scoped>\n",
       "    .dataframe tbody tr th:only-of-type {\n",
       "        vertical-align: middle;\n",
       "    }\n",
       "\n",
       "    .dataframe tbody tr th {\n",
       "        vertical-align: top;\n",
       "    }\n",
       "\n",
       "    .dataframe thead th {\n",
       "        text-align: right;\n",
       "    }\n",
       "</style>\n",
       "<table border=\"1\" class=\"dataframe\">\n",
       "  <thead>\n",
       "    <tr style=\"text-align: right;\">\n",
       "      <th></th>\n",
       "      <th>Maconha</th>\n",
       "      <th>Drogas</th>\n",
       "      <th>Cocaína</th>\n",
       "      <th>Crack</th>\n",
       "    </tr>\n",
       "  </thead>\n",
       "  <tbody>\n",
       "    <tr>\n",
       "      <th>Quantidade</th>\n",
       "      <td>41040</td>\n",
       "      <td>37350</td>\n",
       "      <td>20042</td>\n",
       "      <td>14464</td>\n",
       "    </tr>\n",
       "    <tr>\n",
       "      <th>%</th>\n",
       "      <td>0.36352</td>\n",
       "      <td>0.330835</td>\n",
       "      <td>0.177526</td>\n",
       "      <td>0.128118</td>\n",
       "    </tr>\n",
       "  </tbody>\n",
       "</table>\n",
       "</div>"
      ],
      "text/plain": [
       "            Maconha    Drogas   Cocaína     Crack\n",
       "Quantidade    41040     37350     20042     14464\n",
       "%           0.36352  0.330835  0.177526  0.128118"
      ]
     },
     "execution_count": 44,
     "metadata": {},
     "output_type": "execute_result"
    }
   ],
   "source": [
    "cores = resultado['TXT_TIPO_OBJETO'].value_counts()\n",
    "cores = pd.DataFrame(cores)\n",
    "cores = cores.reset_index()\n",
    "cores = cores.T\n",
    "cores = cores.rename(columns={0:cores[0][0],1:cores[1][0],2:cores[2][0],3:cores[3][0]})\n",
    "cores = cores.iloc[1:]\n",
    "cores1 = resultado['TXT_TIPO_OBJETO'].value_counts(normalize=True)\n",
    "cores1 = pd.DataFrame(cores1)\n",
    "cores1 = cores1.reset_index()\n",
    "cores1 = cores1.T\n",
    "cores1 = cores1.rename(columns={0:cores1[0][0],1:cores1[1][0],2:cores1[2][0],3:cores1[3][0][0]\n",
    "                             })\n",
    "#cores1 = cores.iloc[1:]\n",
    "cores1\n",
    "lista = [cores,cores1]\n",
    "cores2 = pd.concat(lista)\n",
    "cores2 = cores2.reset_index(drop=True)\n",
    "cores2 = cores2.drop([1], axis = 0)\n",
    "cores2 = cores2.rename(index={0:'Quantidade', 2:\"%\"})\n",
    "cores2['Crack']['%'] = cores2['C']['%']\n",
    "cores2 = cores2.drop(['C'], axis = 1)\n",
    "cores2"
   ]
  },
  {
   "cell_type": "code",
   "execution_count": 45,
   "metadata": {},
   "outputs": [
    {
     "data": {
      "text/plain": [
       "Text(0.5, 1.0, 'Tipo de Objeto')"
      ]
     },
     "execution_count": 45,
     "metadata": {},
     "output_type": "execute_result"
    },
    {
     "data": {
      "image/png": "[encoded data removed]",
      "text/plain": [
       "<Figure size 1008x360 with 1 Axes>"
      ]
     },
     "metadata": {
      "needs_background": "light"
     },
     "output_type": "display_data"
    }
   ],
   "source": [
    "stores_df = resultado\n",
    "\n",
    "palette ={\"Maconha\": \"green\", \"Cocaína\": \"white\", \"Crack\": \"yellow\", \"Drogas\": \"blue\"}\n",
    "f, (ax3) = plt.subplots(1, 1, figsize=(14, 5))\n",
    "sns.set(font_scale=1.5)\n",
    "\n",
    "sns.countplot(x=\"TXT_TIPO_OBJETO\", data=stores_df, ax=ax3, palette= palette, alpha = 0.7, linewidth=2.5, edgecolor=\".0\")\n",
    "ax3.set_facecolor('#ababab')\n",
    "ax3.patch.set_alpha(0.3)\n",
    "ax3.set_xlabel(\"Tipo de Objeto\",fontsize=20)\n",
    "ax3.set_ylabel(\"Quantidade\",fontsize=20)\n",
    "ax3.set_xticklabels(ax3.get_xmajorticklabels(), fontsize = 15)\n",
    "#ax3.set_yticklabels(ax3,fontsize = 18)\n",
    "ax3.set(xlabel=None)\n",
    "plt.setp(ax1.xaxis.get_majorticklabels(), rotation=70)\n",
    "plt.setp(ax2.xaxis.get_majorticklabels(), rotation=70)\n",
    "plt.grid(axis='x')\n",
    "plt.tight_layout()\n",
    "plt.title('Tipo de Objeto')"
   ]
  },
  {
   "cell_type": "code",
   "execution_count": 46,
   "metadata": {},
   "outputs": [
    {
     "data": {
      "text/html": [
       "<div>\n",
       "<style scoped>\n",
       "    .dataframe tbody tr th:only-of-type {\n",
       "        vertical-align: middle;\n",
       "    }\n",
       "\n",
       "    .dataframe tbody tr th {\n",
       "        vertical-align: top;\n",
       "    }\n",
       "\n",
       "    .dataframe thead th {\n",
       "        text-align: right;\n",
       "    }\n",
       "</style>\n",
       "<table border=\"1\" class=\"dataframe\">\n",
       "  <thead>\n",
       "    <tr style=\"text-align: right;\">\n",
       "      <th></th>\n",
       "      <th>CHAVE_OBJETO</th>\n",
       "      <th>ANO_OCOR</th>\n",
       "      <th>NRO_OCOR</th>\n",
       "      <th>NRO_INT_TIPO_OBJETO</th>\n",
       "      <th>TXT_TIPO_OBJETO</th>\n",
       "      <th>Cor Predominante</th>\n",
       "      <th>Descrição</th>\n",
       "      <th>Peso Total</th>\n",
       "      <th>Peso Unitário</th>\n",
       "      <th>Quantidade de Unidade(s)</th>\n",
       "      <th>Tipo de Embalagem</th>\n",
       "      <th>Unidade de Peso</th>\n",
       "    </tr>\n",
       "  </thead>\n",
       "  <tbody>\n",
       "    <tr>\n",
       "      <th>105073</th>\n",
       "      <td>23903646</td>\n",
       "      <td>2021</td>\n",
       "      <td>2191</td>\n",
       "      <td>1025</td>\n",
       "      <td>Drogas</td>\n",
       "      <td>Verde</td>\n",
       "      <td>UMA PEQUENA PORÇÃO DE SUBSTÂNCIA SEMELHANTE A ...</td>\n",
       "      <td>25.0</td>\n",
       "      <td>25.0</td>\n",
       "      <td>1</td>\n",
       "      <td>Porção(es)</td>\n",
       "      <td>Grama</td>\n",
       "    </tr>\n",
       "    <tr>\n",
       "      <th>67209</th>\n",
       "      <td>22833444</td>\n",
       "      <td>2020</td>\n",
       "      <td>9573</td>\n",
       "      <td>1025</td>\n",
       "      <td>Drogas</td>\n",
       "      <td>Bege</td>\n",
       "      <td>03 porções de MDMA pesando, aproximadamente, 2...</td>\n",
       "      <td>290.0</td>\n",
       "      <td>0.0</td>\n",
       "      <td>3</td>\n",
       "      <td>Porção(es)</td>\n",
       "      <td>Grama</td>\n",
       "    </tr>\n",
       "    <tr>\n",
       "      <th>80722</th>\n",
       "      <td>23226002</td>\n",
       "      <td>2020</td>\n",
       "      <td>5818</td>\n",
       "      <td>1025</td>\n",
       "      <td>Drogas</td>\n",
       "      <td>Amarelo</td>\n",
       "      <td>32 PETECAS DE SUBSTÂNCIA SEMELHANTE A CRACK</td>\n",
       "      <td>4.1</td>\n",
       "      <td>0.0</td>\n",
       "      <td>32</td>\n",
       "      <td>Unidade(s)</td>\n",
       "      <td>NaN</td>\n",
       "    </tr>\n",
       "    <tr>\n",
       "      <th>52687</th>\n",
       "      <td>22457179</td>\n",
       "      <td>2020</td>\n",
       "      <td>3531</td>\n",
       "      <td>1025</td>\n",
       "      <td>Drogas</td>\n",
       "      <td>Amarelo</td>\n",
       "      <td>Aproximadamente 5gramas. 5 (cinco) porções ret...</td>\n",
       "      <td>5.0</td>\n",
       "      <td>0.0</td>\n",
       "      <td>28</td>\n",
       "      <td>Porção(es)</td>\n",
       "      <td>NaN</td>\n",
       "    </tr>\n",
       "    <tr>\n",
       "      <th>4755</th>\n",
       "      <td>20051911</td>\n",
       "      <td>2018</td>\n",
       "      <td>7296</td>\n",
       "      <td>1025</td>\n",
       "      <td>Drogas</td>\n",
       "      <td>Branco</td>\n",
       "      <td>29 BUCHAS DE COCAÍNA</td>\n",
       "      <td>0.0</td>\n",
       "      <td>0.0</td>\n",
       "      <td>29</td>\n",
       "      <td>Porção(es)</td>\n",
       "      <td>NaN</td>\n",
       "    </tr>\n",
       "  </tbody>\n",
       "</table>\n",
       "</div>"
      ],
      "text/plain": [
       "        CHAVE_OBJETO  ANO_OCOR  NRO_OCOR  NRO_INT_TIPO_OBJETO TXT_TIPO_OBJETO  \\\n",
       "105073      23903646      2021      2191                 1025          Drogas   \n",
       "67209       22833444      2020      9573                 1025          Drogas   \n",
       "80722       23226002      2020      5818                 1025          Drogas   \n",
       "52687       22457179      2020      3531                 1025          Drogas   \n",
       "4755        20051911      2018      7296                 1025          Drogas   \n",
       "\n",
       "       Cor Predominante                                          Descrição  \\\n",
       "105073            Verde  UMA PEQUENA PORÇÃO DE SUBSTÂNCIA SEMELHANTE A ...   \n",
       "67209              Bege  03 porções de MDMA pesando, aproximadamente, 2...   \n",
       "80722           Amarelo        32 PETECAS DE SUBSTÂNCIA SEMELHANTE A CRACK   \n",
       "52687           Amarelo  Aproximadamente 5gramas. 5 (cinco) porções ret...   \n",
       "4755             Branco                               29 BUCHAS DE COCAÍNA   \n",
       "\n",
       "        Peso Total  Peso Unitário Quantidade de Unidade(s) Tipo de Embalagem  \\\n",
       "105073        25.0           25.0                        1        Porção(es)   \n",
       "67209        290.0            0.0                        3        Porção(es)   \n",
       "80722          4.1            0.0                       32        Unidade(s)   \n",
       "52687          5.0            0.0                       28        Porção(es)   \n",
       "4755           0.0            0.0                       29        Porção(es)   \n",
       "\n",
       "       Unidade de Peso  \n",
       "105073           Grama  \n",
       "67209            Grama  \n",
       "80722              NaN  \n",
       "52687              NaN  \n",
       "4755               NaN  "
      ]
     },
     "execution_count": 46,
     "metadata": {},
     "output_type": "execute_result"
    }
   ],
   "source": [
    "Drogas = resultado.loc[resultado['TXT_TIPO_OBJETO'] == 'Drogas']\n",
    "Drogas.sample(5)"
   ]
  },
  {
   "cell_type": "code",
   "execution_count": 47,
   "metadata": {},
   "outputs": [
    {
     "name": "stderr",
     "output_type": "stream",
     "text": [
      "C:\\Users\\giu_2\\AppData\\Local\\Temp/ipykernel_5784/3197949004.py:17: SettingWithCopyWarning: \n",
      "A value is trying to be set on a copy of a slice from a DataFrame\n",
      "\n",
      "See the caveats in the documentation: https://pandas.pydata.org/pandas-docs/stable/user_guide/indexing.html#returning-a-view-versus-a-copy\n",
      "  Drogas['Descrição'][x] = frase\n"
     ]
    }
   ],
   "source": [
    "import unidecode\n",
    "\n",
    "Drogas = resultado.loc[resultado['TXT_TIPO_OBJETO'] == 'Drogas']\n",
    "Outras = resultado.loc[resultado['TXT_TIPO_OBJETO'] != 'Drogas']\n",
    "Outras = Outras.reset_index(drop= True)\n",
    "DrogasNA = Drogas.loc[Drogas['Descrição'].isnull()]\n",
    "DrogasNA = DrogasNA.reset_index(drop=True)\n",
    "Drogas = Drogas.loc[Drogas['Descrição'].notna()]\n",
    "Drogas = Drogas.reset_index(drop=True)\n",
    "\n",
    "x = 0\n",
    "while x < len(Drogas):\n",
    "    frase = Drogas['Descrição'][x]\n",
    "    frase = frase.replace(',','')\n",
    "    frase = frase.replace('.','')\n",
    "    frase = unidecode.unidecode(frase)\n",
    "    Drogas['Descrição'][x] = frase\n",
    "    x += 1\n",
    "    \n",
    "Drogas['Descrição'] = Drogas['Descrição'].str.lower()\n",
    "\n"
   ]
  },
  {
   "cell_type": "code",
   "execution_count": 48,
   "metadata": {
    "scrolled": false
   },
   "outputs": [
    {
     "name": "stderr",
     "output_type": "stream",
     "text": [
      "C:\\Users\\giu_2\\Anaconda3\\envs\\projeto_drogas\\lib\\site-packages\\pandas\\core\\indexing.py:1732: SettingWithCopyWarning: \n",
      "A value is trying to be set on a copy of a slice from a DataFrame\n",
      "\n",
      "See the caveats in the documentation: https://pandas.pydata.org/pandas-docs/stable/user_guide/indexing.html#returning-a-view-versus-a-copy\n",
      "  self._setitem_single_block(indexer, value, name)\n"
     ]
    },
    {
     "name": "stdout",
     "output_type": "stream",
     "text": [
      "Achei 17746 maconha \n",
      "Achei 8040 cocaina \n",
      "Achei 5797 crack \n",
      "Achei 13 com maconha e cocaina\n",
      "Achei 12 com maconha e crack\n",
      "Achei 38 com cocaina e crack\n"
     ]
    }
   ],
   "source": [
    "\n",
    "Drogas = Drogas.reset_index(drop=True)\n",
    "x = 0\n",
    "m = 0\n",
    "c = 0\n",
    "ck = 0\n",
    "mc = 0\n",
    "mck = 0\n",
    "cck = 0\n",
    "while x < len(Drogas):\n",
    "    if 'maconha' in Drogas.Descrição[x]:\n",
    "        Drogas['TXT_TIPO_OBJETO'].loc[x] = 'Maconha'\n",
    "        m += 1\n",
    "    if 'cannabis' in Drogas.Descrição[x]:\n",
    "        Drogas['TXT_TIPO_OBJETO'].loc[x] = 'Maconha'\n",
    "        m += 1\n",
    "    if 'canabis' in Drogas.Descrição[x]:\n",
    "        Drogas['TXT_TIPO_OBJETO'].loc[x] = 'Maconha'\n",
    "        m += 1\n",
    "        \n",
    "    if 'cocaina' in Drogas.Descrição[x]:\n",
    "        Drogas['TXT_TIPO_OBJETO'].loc[x] = 'Cocaína'\n",
    "        c += 1\n",
    "    if 'crack' in Drogas.Descrição[x]:\n",
    "        Drogas['TXT_TIPO_OBJETO'].loc[x] = 'Crack'\n",
    "        ck += 1\n",
    "    if 'maconha' in Drogas.Descrição[x] and 'cocaina' in Drogas.Descrição[x]:\n",
    "        mc += 1\n",
    "    if 'maconha' in Drogas.Descrição[x] and 'crack' in Drogas.Descrição[x]:\n",
    "        mck += 1\n",
    "    if 'cocaina' in Drogas.Descrição[x] and 'crack' in Drogas.Descrição[x]:\n",
    "        cck += 1\n",
    "    x += 1\n",
    "\n",
    "print('Achei %d maconha ' % m)\n",
    "print('Achei %d cocaina ' % c)\n",
    "print('Achei %d crack ' % ck)\n",
    "print('Achei %d com maconha e cocaina' % mc)\n",
    "print('Achei %d com maconha e crack' % mck)\n",
    "print('Achei %d com cocaina e crack' % cck)"
   ]
  },
  {
   "cell_type": "code",
   "execution_count": 49,
   "metadata": {},
   "outputs": [],
   "source": [
    "listaDrogas = [Drogas, DrogasNA]\n",
    "Drogas = pd.concat(listaDrogas)\n",
    "Drogas = Drogas.reset_index(drop=True)\n",
    "lista = [Drogas, Outras]\n",
    "Todas = pd.concat(lista)\n",
    "Todas = Todas.reset_index(drop=True)"
   ]
  },
  {
   "cell_type": "code",
   "execution_count": 50,
   "metadata": {},
   "outputs": [
    {
     "data": {
      "text/plain": [
       "Text(0.5, 1.0, 'Tipo de Objeto')"
      ]
     },
     "execution_count": 50,
     "metadata": {},
     "output_type": "execute_result"
    },
    {
     "data": {
      "image/png": "[encoded data removed]",
      "text/plain": [
       "<Figure size 1008x360 with 1 Axes>"
      ]
     },
     "metadata": {},
     "output_type": "display_data"
    }
   ],
   "source": [
    "stores_df = Todas\n",
    "\n",
    "palette ={\"Maconha\": \"green\", \"Cocaína\": \"white\", \"Crack\": \"yellow\", \"Drogas\": \"blue\"}\n",
    "f, (ax3) = plt.subplots(1, 1, figsize=(14, 5))\n",
    "sns.set(font_scale=1.5)\n",
    "\n",
    "sns.countplot(x=\"TXT_TIPO_OBJETO\", data=stores_df, ax=ax3, palette= palette, alpha = 0.7, linewidth=2.5, edgecolor=\".0\")\n",
    "ax3.set_facecolor('#ababab')\n",
    "ax3.patch.set_alpha(0.3)\n",
    "ax3.set_xlabel(\"Tipo de Objeto\",fontsize=20)\n",
    "ax3.set_ylabel(\"Quantidade\",fontsize=20)\n",
    "ax3.set_xticklabels(ax3.get_xmajorticklabels(), fontsize = 15)\n",
    "#ax3.set_yticklabels(ax3,fontsize = 18)\n",
    "\n",
    "plt.setp(ax1.xaxis.get_majorticklabels(), rotation=70)\n",
    "plt.setp(ax2.xaxis.get_majorticklabels(), rotation=70)\n",
    "ax3.set(xlabel=None)\n",
    "plt.grid(axis='x')\n",
    "plt.tight_layout()\n",
    "plt.title('Tipo de Objeto')"
   ]
  },
  {
   "cell_type": "code",
   "execution_count": 51,
   "metadata": {},
   "outputs": [
    {
     "data": {
      "text/html": [
       "<div>\n",
       "<style scoped>\n",
       "    .dataframe tbody tr th:only-of-type {\n",
       "        vertical-align: middle;\n",
       "    }\n",
       "\n",
       "    .dataframe tbody tr th {\n",
       "        vertical-align: top;\n",
       "    }\n",
       "\n",
       "    .dataframe thead th {\n",
       "        text-align: right;\n",
       "    }\n",
       "</style>\n",
       "<table border=\"1\" class=\"dataframe\">\n",
       "  <thead>\n",
       "    <tr style=\"text-align: right;\">\n",
       "      <th></th>\n",
       "      <th>Maconha</th>\n",
       "      <th>Cocaína</th>\n",
       "      <th>Crack</th>\n",
       "      <th>Drogas</th>\n",
       "    </tr>\n",
       "  </thead>\n",
       "  <tbody>\n",
       "    <tr>\n",
       "      <th>Quantidade</th>\n",
       "      <td>58686</td>\n",
       "      <td>28044</td>\n",
       "      <td>20261</td>\n",
       "      <td>5905</td>\n",
       "    </tr>\n",
       "    <tr>\n",
       "      <th>%</th>\n",
       "      <td>0.519824</td>\n",
       "      <td>0.248406</td>\n",
       "      <td>0.179466</td>\n",
       "      <td>0.052305</td>\n",
       "    </tr>\n",
       "  </tbody>\n",
       "</table>\n",
       "</div>"
      ],
      "text/plain": [
       "             Maconha   Cocaína     Crack    Drogas\n",
       "Quantidade     58686     28044     20261      5905\n",
       "%           0.519824  0.248406  0.179466  0.052305"
      ]
     },
     "execution_count": 51,
     "metadata": {},
     "output_type": "execute_result"
    }
   ],
   "source": [
    "cores = Todas['TXT_TIPO_OBJETO'].value_counts()\n",
    "cores = pd.DataFrame(cores)\n",
    "cores = cores.reset_index()\n",
    "cores = cores.T\n",
    "cores = cores.rename(columns={0:cores[0][0],1:cores[1][0],2:cores[2][0],3:cores[3][0]})\n",
    "cores = cores.iloc[1:]\n",
    "cores1 = Todas['TXT_TIPO_OBJETO'].value_counts(normalize=True)\n",
    "cores1 = pd.DataFrame(cores1)\n",
    "cores1 = cores1.reset_index()\n",
    "cores1 = cores1.T\n",
    "cores1 = cores1.rename(columns={0:cores1[0][0],1:cores1[1][0],2:cores1[2][0],3:cores1[3][0][0]\n",
    "                             })\n",
    "#cores1 = cores.iloc[1:]\n",
    "cores1\n",
    "lista = [cores,cores1]\n",
    "cores2 = pd.concat(lista)\n",
    "cores2 = cores2.reset_index(drop=True)\n",
    "cores2 = cores2.drop([1], axis = 0)\n",
    "cores2 = cores2.rename(index={0:'Quantidade', 2:\"%\"})\n",
    "cores2['Drogas']['%'] = cores2['D']['%']\n",
    "cores2 = cores2.drop(['D'], axis = 1)\n",
    "cores2"
   ]
  },
  {
   "cell_type": "code",
   "execution_count": 52,
   "metadata": {},
   "outputs": [
    {
     "data": {
      "text/plain": [
       "Grama         93693\n",
       "Quilograma     1474\n",
       "Miligrama      1200\n",
       "Decigrama       288\n",
       "Tonelada          5\n",
       "Name: Unidade de Peso, dtype: int64"
      ]
     },
     "execution_count": 52,
     "metadata": {},
     "output_type": "execute_result"
    }
   ],
   "source": [
    "resultado['Unidade de Peso'].value_counts()"
   ]
  },
  {
   "cell_type": "code",
   "execution_count": 53,
   "metadata": {},
   "outputs": [
    {
     "name": "stderr",
     "output_type": "stream",
     "text": [
      "C:\\Users\\giu_2\\AppData\\Local\\Temp/ipykernel_5784/876263038.py:4: SettingWithCopyWarning: \n",
      "A value is trying to be set on a copy of a slice from a DataFrame\n",
      "\n",
      "See the caveats in the documentation: https://pandas.pydata.org/pandas-docs/stable/user_guide/indexing.html#returning-a-view-versus-a-copy\n",
      "  resultado['Peso Unitário'][x] = resultado['Peso Unitário'][x] / 1000\n",
      "C:\\Users\\giu_2\\AppData\\Local\\Temp/ipykernel_5784/876263038.py:5: SettingWithCopyWarning: \n",
      "A value is trying to be set on a copy of a slice from a DataFrame\n",
      "\n",
      "See the caveats in the documentation: https://pandas.pydata.org/pandas-docs/stable/user_guide/indexing.html#returning-a-view-versus-a-copy\n",
      "  resultado['Unidade de Peso'][x] = 'Grama'\n",
      "C:\\Users\\giu_2\\AppData\\Local\\Temp/ipykernel_5784/876263038.py:7: SettingWithCopyWarning: \n",
      "A value is trying to be set on a copy of a slice from a DataFrame\n",
      "\n",
      "See the caveats in the documentation: https://pandas.pydata.org/pandas-docs/stable/user_guide/indexing.html#returning-a-view-versus-a-copy\n",
      "  resultado['Peso Unitário'][x] = resultado['Peso Unitário'][x] * 1000\n",
      "C:\\Users\\giu_2\\AppData\\Local\\Temp/ipykernel_5784/876263038.py:8: SettingWithCopyWarning: \n",
      "A value is trying to be set on a copy of a slice from a DataFrame\n",
      "\n",
      "See the caveats in the documentation: https://pandas.pydata.org/pandas-docs/stable/user_guide/indexing.html#returning-a-view-versus-a-copy\n",
      "  resultado['Unidade de Peso'][x] = 'Grama'\n",
      "C:\\Users\\giu_2\\AppData\\Local\\Temp/ipykernel_5784/876263038.py:10: SettingWithCopyWarning: \n",
      "A value is trying to be set on a copy of a slice from a DataFrame\n",
      "\n",
      "See the caveats in the documentation: https://pandas.pydata.org/pandas-docs/stable/user_guide/indexing.html#returning-a-view-versus-a-copy\n",
      "  resultado['Peso Unitário'][x] = resultado['Peso Unitário'][x] / 10\n",
      "C:\\Users\\giu_2\\AppData\\Local\\Temp/ipykernel_5784/876263038.py:11: SettingWithCopyWarning: \n",
      "A value is trying to be set on a copy of a slice from a DataFrame\n",
      "\n",
      "See the caveats in the documentation: https://pandas.pydata.org/pandas-docs/stable/user_guide/indexing.html#returning-a-view-versus-a-copy\n",
      "  resultado['Unidade de Peso'][x] = 'Grama'\n",
      "C:\\Users\\giu_2\\AppData\\Local\\Temp/ipykernel_5784/876263038.py:13: SettingWithCopyWarning: \n",
      "A value is trying to be set on a copy of a slice from a DataFrame\n",
      "\n",
      "See the caveats in the documentation: https://pandas.pydata.org/pandas-docs/stable/user_guide/indexing.html#returning-a-view-versus-a-copy\n",
      "  resultado['Peso Unitário'][x] = resultado['Peso Unitário'][x] * 1000000\n",
      "C:\\Users\\giu_2\\AppData\\Local\\Temp/ipykernel_5784/876263038.py:14: SettingWithCopyWarning: \n",
      "A value is trying to be set on a copy of a slice from a DataFrame\n",
      "\n",
      "See the caveats in the documentation: https://pandas.pydata.org/pandas-docs/stable/user_guide/indexing.html#returning-a-view-versus-a-copy\n",
      "  resultado['Unidade de Peso'][x] = 'Grama'\n"
     ]
    }
   ],
   "source": [
    "x = 0\n",
    "while x < len(resultado):\n",
    "    if resultado['Unidade de Peso'][x] == 'Miligrama':\n",
    "        resultado['Peso Unitário'][x] = resultado['Peso Unitário'][x] / 1000\n",
    "        resultado['Unidade de Peso'][x] = 'Grama'\n",
    "    if resultado['Unidade de Peso'][x] == 'Quilograma':\n",
    "        resultado['Peso Unitário'][x] = resultado['Peso Unitário'][x] * 1000\n",
    "        resultado['Unidade de Peso'][x] = 'Grama'\n",
    "    if resultado['Unidade de Peso'][x] == 'Decigrama':\n",
    "        resultado['Peso Unitário'][x] = resultado['Peso Unitário'][x] / 10\n",
    "        resultado['Unidade de Peso'][x] = 'Grama'\n",
    "    if resultado['Unidade de Peso'][x] == 'Tonelada':\n",
    "        resultado['Peso Unitário'][x] = resultado['Peso Unitário'][x] * 1000000\n",
    "        resultado['Unidade de Peso'][x] = 'Grama'\n",
    "    else:\n",
    "        x = x\n",
    "    x += 1"
   ]
  },
  {
   "cell_type": "code",
   "execution_count": 54,
   "metadata": {},
   "outputs": [
    {
     "name": "stderr",
     "output_type": "stream",
     "text": [
      "C:\\Users\\giu_2\\AppData\\Local\\Temp/ipykernel_5784/700781858.py:5: SettingWithCopyWarning: \n",
      "A value is trying to be set on a copy of a slice from a DataFrame\n",
      "\n",
      "See the caveats in the documentation: https://pandas.pydata.org/pandas-docs/stable/user_guide/indexing.html#returning-a-view-versus-a-copy\n",
      "  resultado['Quantidade de Unidade(s)'][x] = 0\n"
     ]
    }
   ],
   "source": [
    "x = 0\n",
    "\n",
    "while x < len(resultado):\n",
    "    if resultado['Quantidade de Unidade(s)'][x] == '-':\n",
    "        resultado['Quantidade de Unidade(s)'][x] = 0\n",
    "    x += 1"
   ]
  },
  {
   "cell_type": "code",
   "execution_count": 55,
   "metadata": {},
   "outputs": [],
   "source": [
    "resultado['Quantidade de Unidade(s)'] = resultado['Quantidade de Unidade(s)'].astype(float) "
   ]
  },
  {
   "cell_type": "code",
   "execution_count": 56,
   "metadata": {},
   "outputs": [
    {
     "data": {
      "text/plain": [
       "(80496, 12)"
      ]
     },
     "execution_count": 56,
     "metadata": {},
     "output_type": "execute_result"
    }
   ],
   "source": [
    "resultado2 = resultado.loc[resultado['Peso Total'] > 0]\n",
    "resultado2 = resultado2.reset_index(drop=True)\n",
    "resultado2.shape\n",
    "# RESULTADO 2 = COM PESO TOTAL, PRONTO #"
   ]
  },
  {
   "cell_type": "code",
   "execution_count": 57,
   "metadata": {},
   "outputs": [
    {
     "data": {
      "text/plain": [
       "(32400, 12)"
      ]
     },
     "execution_count": 57,
     "metadata": {},
     "output_type": "execute_result"
    }
   ],
   "source": [
    "semtotal = resultado.loc[resultado['Peso Total'] < 0.001]\n",
    "semtotal = semtotal.reset_index(drop=True)\n",
    "semtotal.shape"
   ]
  },
  {
   "cell_type": "code",
   "execution_count": 58,
   "metadata": {},
   "outputs": [
    {
     "data": {
      "text/plain": [
       "(5949, 12)"
      ]
     },
     "execution_count": 58,
     "metadata": {},
     "output_type": "execute_result"
    }
   ],
   "source": [
    "com_quantidade =  semtotal.loc[semtotal['Quantidade de Unidade(s)'] > 0]\n",
    "com_unitario = com_quantidade.loc[com_quantidade['Peso Unitário'] > 0]\n",
    "com_unitario.shape"
   ]
  },
  {
   "cell_type": "code",
   "execution_count": 59,
   "metadata": {},
   "outputs": [
    {
     "name": "stderr",
     "output_type": "stream",
     "text": [
      "C:\\Users\\giu_2\\Anaconda3\\envs\\projeto_drogas\\lib\\site-packages\\pandas\\core\\frame.py:3607: SettingWithCopyWarning: \n",
      "A value is trying to be set on a copy of a slice from a DataFrame.\n",
      "Try using .loc[row_indexer,col_indexer] = value instead\n",
      "\n",
      "See the caveats in the documentation: https://pandas.pydata.org/pandas-docs/stable/user_guide/indexing.html#returning-a-view-versus-a-copy\n",
      "  self._set_item(key, value)\n"
     ]
    }
   ],
   "source": [
    "resultado3 = com_unitario\n",
    "resultado3['Peso Total'] = com_unitario['Quantidade de Unidade(s)'] * com_unitario['Peso Unitário']\n",
    "# RESULTADO 3 = COM PESO TOTAL, PRONTO #"
   ]
  },
  {
   "cell_type": "code",
   "execution_count": 60,
   "metadata": {},
   "outputs": [
    {
     "data": {
      "text/html": [
       "<div>\n",
       "<style scoped>\n",
       "    .dataframe tbody tr th:only-of-type {\n",
       "        vertical-align: middle;\n",
       "    }\n",
       "\n",
       "    .dataframe tbody tr th {\n",
       "        vertical-align: top;\n",
       "    }\n",
       "\n",
       "    .dataframe thead th {\n",
       "        text-align: right;\n",
       "    }\n",
       "</style>\n",
       "<table border=\"1\" class=\"dataframe\">\n",
       "  <thead>\n",
       "    <tr style=\"text-align: right;\">\n",
       "      <th></th>\n",
       "      <th>CHAVE_OBJETO</th>\n",
       "      <th>ANO_OCOR</th>\n",
       "      <th>NRO_OCOR</th>\n",
       "      <th>NRO_INT_TIPO_OBJETO</th>\n",
       "      <th>TXT_TIPO_OBJETO</th>\n",
       "      <th>Cor Predominante</th>\n",
       "      <th>Descrição</th>\n",
       "      <th>Peso Total</th>\n",
       "      <th>Peso Unitário</th>\n",
       "      <th>Quantidade de Unidade(s)</th>\n",
       "      <th>Tipo de Embalagem</th>\n",
       "      <th>Unidade de Peso</th>\n",
       "    </tr>\n",
       "  </thead>\n",
       "  <tbody>\n",
       "    <tr>\n",
       "      <th>74</th>\n",
       "      <td>20135718</td>\n",
       "      <td>2018</td>\n",
       "      <td>12068</td>\n",
       "      <td>5</td>\n",
       "      <td>Maconha</td>\n",
       "      <td>Verde</td>\n",
       "      <td>tijolo grande envolto em fita adesiva cor marr...</td>\n",
       "      <td>2.0</td>\n",
       "      <td>2.0</td>\n",
       "      <td>1.0</td>\n",
       "      <td>Tijolo(s)</td>\n",
       "      <td>Grama</td>\n",
       "    </tr>\n",
       "    <tr>\n",
       "      <th>75</th>\n",
       "      <td>20135720</td>\n",
       "      <td>2018</td>\n",
       "      <td>12068</td>\n",
       "      <td>5</td>\n",
       "      <td>Maconha</td>\n",
       "      <td>Verde</td>\n",
       "      <td>dois tijolos pequenos de erva esverdeada (seme...</td>\n",
       "      <td>4.0</td>\n",
       "      <td>2.0</td>\n",
       "      <td>2.0</td>\n",
       "      <td>Tijolo(s)</td>\n",
       "      <td>Grama</td>\n",
       "    </tr>\n",
       "    <tr>\n",
       "      <th>76</th>\n",
       "      <td>20464225</td>\n",
       "      <td>2019</td>\n",
       "      <td>171</td>\n",
       "      <td>5</td>\n",
       "      <td>Maconha</td>\n",
       "      <td>Verde</td>\n",
       "      <td>NaN</td>\n",
       "      <td>2.0</td>\n",
       "      <td>2.0</td>\n",
       "      <td>1.0</td>\n",
       "      <td>Tijolo(s)</td>\n",
       "      <td>Grama</td>\n",
       "    </tr>\n",
       "    <tr>\n",
       "      <th>77</th>\n",
       "      <td>20550868</td>\n",
       "      <td>2019</td>\n",
       "      <td>2105</td>\n",
       "      <td>5</td>\n",
       "      <td>Maconha</td>\n",
       "      <td>Verde</td>\n",
       "      <td>01 (UM) TIJOLINHO DE SUBSTÂNCIA SEMELHANTE À M...</td>\n",
       "      <td>2.0</td>\n",
       "      <td>2.0</td>\n",
       "      <td>1.0</td>\n",
       "      <td>Tijolo(s)</td>\n",
       "      <td>Grama</td>\n",
       "    </tr>\n",
       "    <tr>\n",
       "      <th>78</th>\n",
       "      <td>20638932</td>\n",
       "      <td>2019</td>\n",
       "      <td>2716</td>\n",
       "      <td>1025</td>\n",
       "      <td>Drogas</td>\n",
       "      <td>Verde</td>\n",
       "      <td>NaN</td>\n",
       "      <td>2.0</td>\n",
       "      <td>2.0</td>\n",
       "      <td>1.0</td>\n",
       "      <td>Tijolo(s)</td>\n",
       "      <td>Grama</td>\n",
       "    </tr>\n",
       "    <tr>\n",
       "      <th>...</th>\n",
       "      <td>...</td>\n",
       "      <td>...</td>\n",
       "      <td>...</td>\n",
       "      <td>...</td>\n",
       "      <td>...</td>\n",
       "      <td>...</td>\n",
       "      <td>...</td>\n",
       "      <td>...</td>\n",
       "      <td>...</td>\n",
       "      <td>...</td>\n",
       "      <td>...</td>\n",
       "      <td>...</td>\n",
       "    </tr>\n",
       "    <tr>\n",
       "      <th>32383</th>\n",
       "      <td>24126087</td>\n",
       "      <td>2021</td>\n",
       "      <td>1728</td>\n",
       "      <td>5</td>\n",
       "      <td>Maconha</td>\n",
       "      <td>Verde</td>\n",
       "      <td>NaN</td>\n",
       "      <td>50.0</td>\n",
       "      <td>50.0</td>\n",
       "      <td>1.0</td>\n",
       "      <td>Porção(es)</td>\n",
       "      <td>Grama</td>\n",
       "    </tr>\n",
       "    <tr>\n",
       "      <th>32390</th>\n",
       "      <td>24126219</td>\n",
       "      <td>2021</td>\n",
       "      <td>14943</td>\n",
       "      <td>756</td>\n",
       "      <td>Cocaína</td>\n",
       "      <td>Branco</td>\n",
       "      <td>ENVOLTA EM EMBALAGEM PLÁSTICA</td>\n",
       "      <td>21.0</td>\n",
       "      <td>21.0</td>\n",
       "      <td>1.0</td>\n",
       "      <td>Porção(es)</td>\n",
       "      <td>Grama</td>\n",
       "    </tr>\n",
       "    <tr>\n",
       "      <th>32391</th>\n",
       "      <td>24126221</td>\n",
       "      <td>2021</td>\n",
       "      <td>14943</td>\n",
       "      <td>757</td>\n",
       "      <td>Crack</td>\n",
       "      <td>Amarelo</td>\n",
       "      <td>ENVOLTO EM EMBALAGEM PLÁSTICA</td>\n",
       "      <td>30.0</td>\n",
       "      <td>30.0</td>\n",
       "      <td>1.0</td>\n",
       "      <td>Porção(es)</td>\n",
       "      <td>Grama</td>\n",
       "    </tr>\n",
       "    <tr>\n",
       "      <th>32392</th>\n",
       "      <td>24126223</td>\n",
       "      <td>2021</td>\n",
       "      <td>14943</td>\n",
       "      <td>5</td>\n",
       "      <td>Maconha</td>\n",
       "      <td>Verde</td>\n",
       "      <td>ENVOLTA EM EMBALAGEM PLÁSTICA</td>\n",
       "      <td>5.0</td>\n",
       "      <td>5.0</td>\n",
       "      <td>1.0</td>\n",
       "      <td>Porção(es)</td>\n",
       "      <td>Grama</td>\n",
       "    </tr>\n",
       "    <tr>\n",
       "      <th>32396</th>\n",
       "      <td>24126848</td>\n",
       "      <td>2021</td>\n",
       "      <td>3500</td>\n",
       "      <td>1025</td>\n",
       "      <td>Drogas</td>\n",
       "      <td>Branco</td>\n",
       "      <td>UMA PORÇÃO DE SUBSTÂNCIA BRANCA SEMELHANTE À C...</td>\n",
       "      <td>5.3</td>\n",
       "      <td>5.3</td>\n",
       "      <td>1.0</td>\n",
       "      <td>Porção(es)</td>\n",
       "      <td>Grama</td>\n",
       "    </tr>\n",
       "  </tbody>\n",
       "</table>\n",
       "<p>5949 rows × 12 columns</p>\n",
       "</div>"
      ],
      "text/plain": [
       "       CHAVE_OBJETO  ANO_OCOR  NRO_OCOR  NRO_INT_TIPO_OBJETO TXT_TIPO_OBJETO  \\\n",
       "74         20135718      2018     12068                    5         Maconha   \n",
       "75         20135720      2018     12068                    5         Maconha   \n",
       "76         20464225      2019       171                    5         Maconha   \n",
       "77         20550868      2019      2105                    5         Maconha   \n",
       "78         20638932      2019      2716                 1025          Drogas   \n",
       "...             ...       ...       ...                  ...             ...   \n",
       "32383      24126087      2021      1728                    5         Maconha   \n",
       "32390      24126219      2021     14943                  756         Cocaína   \n",
       "32391      24126221      2021     14943                  757           Crack   \n",
       "32392      24126223      2021     14943                    5         Maconha   \n",
       "32396      24126848      2021      3500                 1025          Drogas   \n",
       "\n",
       "      Cor Predominante                                          Descrição  \\\n",
       "74               Verde  tijolo grande envolto em fita adesiva cor marr...   \n",
       "75               Verde  dois tijolos pequenos de erva esverdeada (seme...   \n",
       "76               Verde                                                NaN   \n",
       "77               Verde  01 (UM) TIJOLINHO DE SUBSTÂNCIA SEMELHANTE À M...   \n",
       "78               Verde                                                NaN   \n",
       "...                ...                                                ...   \n",
       "32383            Verde                                                NaN   \n",
       "32390           Branco                      ENVOLTA EM EMBALAGEM PLÁSTICA   \n",
       "32391          Amarelo                      ENVOLTO EM EMBALAGEM PLÁSTICA   \n",
       "32392            Verde                      ENVOLTA EM EMBALAGEM PLÁSTICA   \n",
       "32396           Branco  UMA PORÇÃO DE SUBSTÂNCIA BRANCA SEMELHANTE À C...   \n",
       "\n",
       "       Peso Total  Peso Unitário  Quantidade de Unidade(s) Tipo de Embalagem  \\\n",
       "74            2.0            2.0                       1.0         Tijolo(s)   \n",
       "75            4.0            2.0                       2.0         Tijolo(s)   \n",
       "76            2.0            2.0                       1.0         Tijolo(s)   \n",
       "77            2.0            2.0                       1.0         Tijolo(s)   \n",
       "78            2.0            2.0                       1.0         Tijolo(s)   \n",
       "...           ...            ...                       ...               ...   \n",
       "32383        50.0           50.0                       1.0        Porção(es)   \n",
       "32390        21.0           21.0                       1.0        Porção(es)   \n",
       "32391        30.0           30.0                       1.0        Porção(es)   \n",
       "32392         5.0            5.0                       1.0        Porção(es)   \n",
       "32396         5.3            5.3                       1.0        Porção(es)   \n",
       "\n",
       "      Unidade de Peso  \n",
       "74              Grama  \n",
       "75              Grama  \n",
       "76              Grama  \n",
       "77              Grama  \n",
       "78              Grama  \n",
       "...               ...  \n",
       "32383           Grama  \n",
       "32390           Grama  \n",
       "32391           Grama  \n",
       "32392           Grama  \n",
       "32396           Grama  \n",
       "\n",
       "[5949 rows x 12 columns]"
      ]
     },
     "execution_count": 60,
     "metadata": {},
     "output_type": "execute_result"
    }
   ],
   "source": [
    "resultado3"
   ]
  },
  {
   "cell_type": "code",
   "execution_count": 61,
   "metadata": {},
   "outputs": [
    {
     "data": {
      "text/plain": [
       "(26365, 12)"
      ]
     },
     "execution_count": 61,
     "metadata": {},
     "output_type": "execute_result"
    }
   ],
   "source": [
    "sem_unitario = com_quantidade.loc[com_quantidade['Peso Unitário'] < 0.001]\n",
    "sem_unitario.shape"
   ]
  },
  {
   "cell_type": "code",
   "execution_count": 62,
   "metadata": {},
   "outputs": [],
   "source": [
    "df = semtotal.merge(com_unitario, on='CHAVE_OBJETO', how='outer', indicator = True)"
   ]
  },
  {
   "cell_type": "code",
   "execution_count": 63,
   "metadata": {},
   "outputs": [
    {
     "data": {
      "text/plain": [
       "(32400, 24)"
      ]
     },
     "execution_count": 63,
     "metadata": {},
     "output_type": "execute_result"
    }
   ],
   "source": [
    "df.shape"
   ]
  },
  {
   "cell_type": "code",
   "execution_count": 64,
   "metadata": {},
   "outputs": [
    {
     "data": {
      "text/plain": [
       "(26451, 24)"
      ]
     },
     "execution_count": 64,
     "metadata": {},
     "output_type": "execute_result"
    }
   ],
   "source": [
    "df = df.loc[df['_merge'] != 'both']\n",
    "df.shape"
   ]
  },
  {
   "cell_type": "code",
   "execution_count": 65,
   "metadata": {},
   "outputs": [
    {
     "data": {
      "text/plain": [
       "Index(['CHAVE_OBJETO', 'ANO_OCOR_x', 'NRO_OCOR_x', 'NRO_INT_TIPO_OBJETO_x',\n",
       "       'TXT_TIPO_OBJETO_x', 'Cor Predominante_x', 'Descrição_x',\n",
       "       'Peso Total_x', 'Peso Unitário_x', 'Quantidade de Unidade(s)_x',\n",
       "       'Tipo de Embalagem_x', 'Unidade de Peso_x', 'ANO_OCOR_y', 'NRO_OCOR_y',\n",
       "       'NRO_INT_TIPO_OBJETO_y', 'TXT_TIPO_OBJETO_y', 'Cor Predominante_y',\n",
       "       'Descrição_y', 'Peso Total_y', 'Peso Unitário_y',\n",
       "       'Quantidade de Unidade(s)_y', 'Tipo de Embalagem_y',\n",
       "       'Unidade de Peso_y', '_merge'],\n",
       "      dtype='object')"
      ]
     },
     "execution_count": 65,
     "metadata": {},
     "output_type": "execute_result"
    }
   ],
   "source": [
    "df.columns"
   ]
  },
  {
   "cell_type": "code",
   "execution_count": 66,
   "metadata": {},
   "outputs": [],
   "source": [
    "df = df.rename(columns={'TXT_TIPO_OBJETO_x':'TXT_TIPO_OBJETO', 'Peso Total_x':'Peso Total',\n",
    "       'Cor Predominante_x':'Cor Predominante', 'Descrição_x':'Descrição', 'Unidade de Peso_x':'Unidade de Peso',\n",
    "       'Tipo de Embalagem_x':'Tipo de Embalagem', 'Peso Unitário_x':'Peso Unitário', 'Quantidade de Unidade(s)_x':'Quantidade de Unidade(s)'})\n",
    "df = df[['CHAVE_OBJETO', 'TXT_TIPO_OBJETO', 'Peso Total',\n",
    "       'Cor Predominante', 'Descrição', 'Unidade de Peso', 'Tipo de Embalagem',\n",
    "       'Peso Unitário', 'Quantidade de Unidade(s)']]"
   ]
  },
  {
   "cell_type": "code",
   "execution_count": 67,
   "metadata": {},
   "outputs": [],
   "source": [
    "df = df. reset_index(drop=True)\n"
   ]
  },
  {
   "cell_type": "code",
   "execution_count": 68,
   "metadata": {},
   "outputs": [
    {
     "name": "stdout",
     "output_type": "stream",
     "text": [
      "(2797, 9)\n",
      "(8979, 9)\n",
      "(3744, 9)\n",
      "(10931, 9)\n"
     ]
    }
   ],
   "source": [
    "df_maconha = df.loc[df['TXT_TIPO_OBJETO'] == 'Maconha']\n",
    "df_maconha = df_maconha.reset_index(drop=True)\n",
    "\n",
    "df_cocaina = df.loc[df['TXT_TIPO_OBJETO'] == 'Cocaína']\n",
    "df_cocaina = df_cocaina.reset_index(drop=True)\n",
    "\n",
    "df_crack = df.loc[df['TXT_TIPO_OBJETO'] == 'Crack']\n",
    "df_crack = df_crack.reset_index(drop=True)\n",
    "\n",
    "df_drogas = df.loc[df['TXT_TIPO_OBJETO'] == 'Drogas']\n",
    "df_drogas = df_drogas.reset_index(drop=True)\n",
    "\n",
    "print(df_crack.shape)\n",
    "print(df_maconha.shape)\n",
    "print(df_cocaina.shape)\n",
    "print(df_drogas.shape)"
   ]
  },
  {
   "cell_type": "code",
   "execution_count": 69,
   "metadata": {},
   "outputs": [
    {
     "name": "stdout",
     "output_type": "stream",
     "text": [
      "0.0\n"
     ]
    }
   ],
   "source": [
    "#MACONHA#\n",
    "maconha_resultado2 = resultado2.loc[resultado2['TXT_TIPO_OBJETO'] == 'Maconha']\n",
    "maconha_resultado2 = maconha_resultado2.reset_index(drop=True)\n",
    "maconha_mediana_pU = maconha_resultado2['Peso Unitário'].median()\n",
    "print(maconha_mediana_pU)"
   ]
  },
  {
   "cell_type": "code",
   "execution_count": 70,
   "metadata": {},
   "outputs": [
    {
     "name": "stdout",
     "output_type": "stream",
     "text": [
      "0.0\n"
     ]
    }
   ],
   "source": [
    "#COCAINA#\n",
    "maconha_resultado2 = resultado2.loc[resultado2['TXT_TIPO_OBJETO'] == 'Cocaína']\n",
    "maconha_resultado2 = maconha_resultado2.reset_index(drop=True)\n",
    "cocaina_mediana_pU = maconha_resultado2['Peso Unitário'].median()\n",
    "print(cocaina_mediana_pU)"
   ]
  },
  {
   "cell_type": "code",
   "execution_count": 71,
   "metadata": {},
   "outputs": [
    {
     "name": "stdout",
     "output_type": "stream",
     "text": [
      "0.0\n"
     ]
    }
   ],
   "source": [
    "#CRACK#\n",
    "maconha_resultado2 = resultado2.loc[resultado2['TXT_TIPO_OBJETO'] == 'Crack']\n",
    "maconha_resultado2 = maconha_resultado2.reset_index(drop=True)\n",
    "crack_mediana_pU = maconha_resultado2['Peso Unitário'].median()\n",
    "print(crack_mediana_pU)"
   ]
  },
  {
   "cell_type": "code",
   "execution_count": 72,
   "metadata": {},
   "outputs": [
    {
     "name": "stdout",
     "output_type": "stream",
     "text": [
      "0.0\n"
     ]
    }
   ],
   "source": [
    "#DROGAS#\n",
    "maconha_resultado2 = resultado2.loc[resultado2['TXT_TIPO_OBJETO'] == 'Drogas']\n",
    "maconha_resultado2 = maconha_resultado2.reset_index(drop=True)\n",
    "drogas_mediana_pU = maconha_resultado2['Peso Unitário'].median()\n",
    "print(drogas_mediana_pU)"
   ]
  },
  {
   "cell_type": "code",
   "execution_count": 73,
   "metadata": {},
   "outputs": [],
   "source": [
    "df1 = df.loc[df['Quantidade de Unidade(s)'] > 0]\n",
    "df1 = df1.reset_index(drop=True)\n",
    "\n",
    "df2 = df.loc[df['Quantidade de Unidade(s)'] < 0.001]\n",
    "df2 = df2.reset_index(drop=True)"
   ]
  },
  {
   "cell_type": "code",
   "execution_count": 74,
   "metadata": {},
   "outputs": [
    {
     "data": {
      "text/plain": [
       "(26321, 9)"
      ]
     },
     "execution_count": 74,
     "metadata": {},
     "output_type": "execute_result"
    }
   ],
   "source": [
    "df1.shape"
   ]
  },
  {
   "cell_type": "code",
   "execution_count": 75,
   "metadata": {},
   "outputs": [
    {
     "data": {
      "text/plain": [
       "(130, 9)"
      ]
     },
     "execution_count": 75,
     "metadata": {},
     "output_type": "execute_result"
    }
   ],
   "source": [
    "df2.shape"
   ]
  },
  {
   "cell_type": "code",
   "execution_count": 76,
   "metadata": {},
   "outputs": [
    {
     "name": "stderr",
     "output_type": "stream",
     "text": [
      "C:\\Users\\giu_2\\AppData\\Local\\Temp/ipykernel_5784/325618361.py:11: SettingWithCopyWarning: \n",
      "A value is trying to be set on a copy of a slice from a DataFrame\n",
      "\n",
      "See the caveats in the documentation: https://pandas.pydata.org/pandas-docs/stable/user_guide/indexing.html#returning-a-view-versus-a-copy\n",
      "  df1['Peso Unitário'][x] = drogas_mediana_pU\n",
      "C:\\Users\\giu_2\\AppData\\Local\\Temp/ipykernel_5784/325618361.py:7: SettingWithCopyWarning: \n",
      "A value is trying to be set on a copy of a slice from a DataFrame\n",
      "\n",
      "See the caveats in the documentation: https://pandas.pydata.org/pandas-docs/stable/user_guide/indexing.html#returning-a-view-versus-a-copy\n",
      "  df1['Peso Unitário'][x] = cocaina_mediana_pU\n",
      "C:\\Users\\giu_2\\AppData\\Local\\Temp/ipykernel_5784/325618361.py:5: SettingWithCopyWarning: \n",
      "A value is trying to be set on a copy of a slice from a DataFrame\n",
      "\n",
      "See the caveats in the documentation: https://pandas.pydata.org/pandas-docs/stable/user_guide/indexing.html#returning-a-view-versus-a-copy\n",
      "  df1['Peso Unitário'][x] = maconha_mediana_pU\n",
      "C:\\Users\\giu_2\\AppData\\Local\\Temp/ipykernel_5784/325618361.py:9: SettingWithCopyWarning: \n",
      "A value is trying to be set on a copy of a slice from a DataFrame\n",
      "\n",
      "See the caveats in the documentation: https://pandas.pydata.org/pandas-docs/stable/user_guide/indexing.html#returning-a-view-versus-a-copy\n",
      "  df1['Peso Unitário'][x] = crack_mediana_pU\n"
     ]
    }
   ],
   "source": [
    "x = 0\n",
    "\n",
    "while x < len(df1):\n",
    "    if df1['TXT_TIPO_OBJETO'][x] == 'Maconha':\n",
    "        df1['Peso Unitário'][x] = maconha_mediana_pU\n",
    "    if df1['TXT_TIPO_OBJETO'][x] == 'Cocaína':\n",
    "        df1['Peso Unitário'][x] = cocaina_mediana_pU\n",
    "    if df1['TXT_TIPO_OBJETO'][x] == 'Crack':\n",
    "        df1['Peso Unitário'][x] = crack_mediana_pU\n",
    "    if df1['TXT_TIPO_OBJETO'][x] == 'Drogas':\n",
    "        df1['Peso Unitário'][x] = drogas_mediana_pU\n",
    "    x += 1"
   ]
  },
  {
   "cell_type": "code",
   "execution_count": 77,
   "metadata": {},
   "outputs": [],
   "source": [
    "df1['Peso Total'] = df1['Peso Unitário'] * df1['Quantidade de Unidade(s)']\n",
    "# df1 com PESO TOTAL, PRONTO#"
   ]
  },
  {
   "cell_type": "code",
   "execution_count": 78,
   "metadata": {},
   "outputs": [
    {
     "name": "stderr",
     "output_type": "stream",
     "text": [
      "C:\\Users\\giu_2\\AppData\\Local\\Temp/ipykernel_5784/312657073.py:13: SettingWithCopyWarning: \n",
      "A value is trying to be set on a copy of a slice from a DataFrame\n",
      "\n",
      "See the caveats in the documentation: https://pandas.pydata.org/pandas-docs/stable/user_guide/indexing.html#returning-a-view-versus-a-copy\n",
      "  df2['Peso Total'][x] = maconha_mediana_pT\n",
      "C:\\Users\\giu_2\\AppData\\Local\\Temp/ipykernel_5784/312657073.py:23: SettingWithCopyWarning: \n",
      "A value is trying to be set on a copy of a slice from a DataFrame\n",
      "\n",
      "See the caveats in the documentation: https://pandas.pydata.org/pandas-docs/stable/user_guide/indexing.html#returning-a-view-versus-a-copy\n",
      "  df2['Peso Total'][x] = maconha_mediana_pT\n",
      "C:\\Users\\giu_2\\AppData\\Local\\Temp/ipykernel_5784/312657073.py:23: SettingWithCopyWarning: \n",
      "A value is trying to be set on a copy of a slice from a DataFrame\n",
      "\n",
      "See the caveats in the documentation: https://pandas.pydata.org/pandas-docs/stable/user_guide/indexing.html#returning-a-view-versus-a-copy\n",
      "  df2['Peso Total'][x] = maconha_mediana_pT\n",
      "C:\\Users\\giu_2\\AppData\\Local\\Temp/ipykernel_5784/312657073.py:18: SettingWithCopyWarning: \n",
      "A value is trying to be set on a copy of a slice from a DataFrame\n",
      "\n",
      "See the caveats in the documentation: https://pandas.pydata.org/pandas-docs/stable/user_guide/indexing.html#returning-a-view-versus-a-copy\n",
      "  df2['Peso Total'][x] = maconha_mediana_pT\n",
      "C:\\Users\\giu_2\\AppData\\Local\\Temp/ipykernel_5784/312657073.py:23: SettingWithCopyWarning: \n",
      "A value is trying to be set on a copy of a slice from a DataFrame\n",
      "\n",
      "See the caveats in the documentation: https://pandas.pydata.org/pandas-docs/stable/user_guide/indexing.html#returning-a-view-versus-a-copy\n",
      "  df2['Peso Total'][x] = maconha_mediana_pT\n",
      "C:\\Users\\giu_2\\AppData\\Local\\Temp/ipykernel_5784/312657073.py:8: SettingWithCopyWarning: \n",
      "A value is trying to be set on a copy of a slice from a DataFrame\n",
      "\n",
      "See the caveats in the documentation: https://pandas.pydata.org/pandas-docs/stable/user_guide/indexing.html#returning-a-view-versus-a-copy\n",
      "  df2['Peso Total'][x] = maconha_mediana_pT\n",
      "C:\\Users\\giu_2\\AppData\\Local\\Temp/ipykernel_5784/312657073.py:23: SettingWithCopyWarning: \n",
      "A value is trying to be set on a copy of a slice from a DataFrame\n",
      "\n",
      "See the caveats in the documentation: https://pandas.pydata.org/pandas-docs/stable/user_guide/indexing.html#returning-a-view-versus-a-copy\n",
      "  df2['Peso Total'][x] = maconha_mediana_pT\n",
      "C:\\Users\\giu_2\\AppData\\Local\\Temp/ipykernel_5784/312657073.py:23: SettingWithCopyWarning: \n",
      "A value is trying to be set on a copy of a slice from a DataFrame\n",
      "\n",
      "See the caveats in the documentation: https://pandas.pydata.org/pandas-docs/stable/user_guide/indexing.html#returning-a-view-versus-a-copy\n",
      "  df2['Peso Total'][x] = maconha_mediana_pT\n",
      "C:\\Users\\giu_2\\AppData\\Local\\Temp/ipykernel_5784/312657073.py:23: SettingWithCopyWarning: \n",
      "A value is trying to be set on a copy of a slice from a DataFrame\n",
      "\n",
      "See the caveats in the documentation: https://pandas.pydata.org/pandas-docs/stable/user_guide/indexing.html#returning-a-view-versus-a-copy\n",
      "  df2['Peso Total'][x] = maconha_mediana_pT\n",
      "C:\\Users\\giu_2\\AppData\\Local\\Temp/ipykernel_5784/312657073.py:13: SettingWithCopyWarning: \n",
      "A value is trying to be set on a copy of a slice from a DataFrame\n",
      "\n",
      "See the caveats in the documentation: https://pandas.pydata.org/pandas-docs/stable/user_guide/indexing.html#returning-a-view-versus-a-copy\n",
      "  df2['Peso Total'][x] = maconha_mediana_pT\n",
      "C:\\Users\\giu_2\\AppData\\Local\\Temp/ipykernel_5784/312657073.py:13: SettingWithCopyWarning: \n",
      "A value is trying to be set on a copy of a slice from a DataFrame\n",
      "\n",
      "See the caveats in the documentation: https://pandas.pydata.org/pandas-docs/stable/user_guide/indexing.html#returning-a-view-versus-a-copy\n",
      "  df2['Peso Total'][x] = maconha_mediana_pT\n",
      "C:\\Users\\giu_2\\AppData\\Local\\Temp/ipykernel_5784/312657073.py:13: SettingWithCopyWarning: \n",
      "A value is trying to be set on a copy of a slice from a DataFrame\n",
      "\n",
      "See the caveats in the documentation: https://pandas.pydata.org/pandas-docs/stable/user_guide/indexing.html#returning-a-view-versus-a-copy\n",
      "  df2['Peso Total'][x] = maconha_mediana_pT\n",
      "C:\\Users\\giu_2\\AppData\\Local\\Temp/ipykernel_5784/312657073.py:13: SettingWithCopyWarning: \n",
      "A value is trying to be set on a copy of a slice from a DataFrame\n",
      "\n",
      "See the caveats in the documentation: https://pandas.pydata.org/pandas-docs/stable/user_guide/indexing.html#returning-a-view-versus-a-copy\n",
      "  df2['Peso Total'][x] = maconha_mediana_pT\n",
      "C:\\Users\\giu_2\\AppData\\Local\\Temp/ipykernel_5784/312657073.py:23: SettingWithCopyWarning: \n",
      "A value is trying to be set on a copy of a slice from a DataFrame\n",
      "\n",
      "See the caveats in the documentation: https://pandas.pydata.org/pandas-docs/stable/user_guide/indexing.html#returning-a-view-versus-a-copy\n",
      "  df2['Peso Total'][x] = maconha_mediana_pT\n",
      "C:\\Users\\giu_2\\AppData\\Local\\Temp/ipykernel_5784/312657073.py:8: SettingWithCopyWarning: \n",
      "A value is trying to be set on a copy of a slice from a DataFrame\n",
      "\n",
      "See the caveats in the documentation: https://pandas.pydata.org/pandas-docs/stable/user_guide/indexing.html#returning-a-view-versus-a-copy\n",
      "  df2['Peso Total'][x] = maconha_mediana_pT\n",
      "C:\\Users\\giu_2\\AppData\\Local\\Temp/ipykernel_5784/312657073.py:8: SettingWithCopyWarning: \n",
      "A value is trying to be set on a copy of a slice from a DataFrame\n",
      "\n",
      "See the caveats in the documentation: https://pandas.pydata.org/pandas-docs/stable/user_guide/indexing.html#returning-a-view-versus-a-copy\n",
      "  df2['Peso Total'][x] = maconha_mediana_pT\n",
      "C:\\Users\\giu_2\\AppData\\Local\\Temp/ipykernel_5784/312657073.py:23: SettingWithCopyWarning: \n",
      "A value is trying to be set on a copy of a slice from a DataFrame\n",
      "\n",
      "See the caveats in the documentation: https://pandas.pydata.org/pandas-docs/stable/user_guide/indexing.html#returning-a-view-versus-a-copy\n",
      "  df2['Peso Total'][x] = maconha_mediana_pT\n",
      "C:\\Users\\giu_2\\AppData\\Local\\Temp/ipykernel_5784/312657073.py:18: SettingWithCopyWarning: \n",
      "A value is trying to be set on a copy of a slice from a DataFrame\n",
      "\n",
      "See the caveats in the documentation: https://pandas.pydata.org/pandas-docs/stable/user_guide/indexing.html#returning-a-view-versus-a-copy\n",
      "  df2['Peso Total'][x] = maconha_mediana_pT\n",
      "C:\\Users\\giu_2\\AppData\\Local\\Temp/ipykernel_5784/312657073.py:18: SettingWithCopyWarning: \n",
      "A value is trying to be set on a copy of a slice from a DataFrame\n",
      "\n",
      "See the caveats in the documentation: https://pandas.pydata.org/pandas-docs/stable/user_guide/indexing.html#returning-a-view-versus-a-copy\n",
      "  df2['Peso Total'][x] = maconha_mediana_pT\n",
      "C:\\Users\\giu_2\\AppData\\Local\\Temp/ipykernel_5784/312657073.py:13: SettingWithCopyWarning: \n",
      "A value is trying to be set on a copy of a slice from a DataFrame\n",
      "\n",
      "See the caveats in the documentation: https://pandas.pydata.org/pandas-docs/stable/user_guide/indexing.html#returning-a-view-versus-a-copy\n",
      "  df2['Peso Total'][x] = maconha_mediana_pT\n",
      "C:\\Users\\giu_2\\AppData\\Local\\Temp/ipykernel_5784/312657073.py:23: SettingWithCopyWarning: \n",
      "A value is trying to be set on a copy of a slice from a DataFrame\n",
      "\n",
      "See the caveats in the documentation: https://pandas.pydata.org/pandas-docs/stable/user_guide/indexing.html#returning-a-view-versus-a-copy\n",
      "  df2['Peso Total'][x] = maconha_mediana_pT\n",
      "C:\\Users\\giu_2\\AppData\\Local\\Temp/ipykernel_5784/312657073.py:18: SettingWithCopyWarning: \n",
      "A value is trying to be set on a copy of a slice from a DataFrame\n",
      "\n",
      "See the caveats in the documentation: https://pandas.pydata.org/pandas-docs/stable/user_guide/indexing.html#returning-a-view-versus-a-copy\n",
      "  df2['Peso Total'][x] = maconha_mediana_pT\n",
      "C:\\Users\\giu_2\\AppData\\Local\\Temp/ipykernel_5784/312657073.py:23: SettingWithCopyWarning: \n",
      "A value is trying to be set on a copy of a slice from a DataFrame\n",
      "\n",
      "See the caveats in the documentation: https://pandas.pydata.org/pandas-docs/stable/user_guide/indexing.html#returning-a-view-versus-a-copy\n",
      "  df2['Peso Total'][x] = maconha_mediana_pT\n",
      "C:\\Users\\giu_2\\AppData\\Local\\Temp/ipykernel_5784/312657073.py:23: SettingWithCopyWarning: \n",
      "A value is trying to be set on a copy of a slice from a DataFrame\n",
      "\n",
      "See the caveats in the documentation: https://pandas.pydata.org/pandas-docs/stable/user_guide/indexing.html#returning-a-view-versus-a-copy\n",
      "  df2['Peso Total'][x] = maconha_mediana_pT\n",
      "C:\\Users\\giu_2\\AppData\\Local\\Temp/ipykernel_5784/312657073.py:23: SettingWithCopyWarning: \n",
      "A value is trying to be set on a copy of a slice from a DataFrame\n",
      "\n",
      "See the caveats in the documentation: https://pandas.pydata.org/pandas-docs/stable/user_guide/indexing.html#returning-a-view-versus-a-copy\n",
      "  df2['Peso Total'][x] = maconha_mediana_pT\n",
      "C:\\Users\\giu_2\\AppData\\Local\\Temp/ipykernel_5784/312657073.py:23: SettingWithCopyWarning: \n",
      "A value is trying to be set on a copy of a slice from a DataFrame\n",
      "\n",
      "See the caveats in the documentation: https://pandas.pydata.org/pandas-docs/stable/user_guide/indexing.html#returning-a-view-versus-a-copy\n",
      "  df2['Peso Total'][x] = maconha_mediana_pT\n",
      "C:\\Users\\giu_2\\AppData\\Local\\Temp/ipykernel_5784/312657073.py:23: SettingWithCopyWarning: \n",
      "A value is trying to be set on a copy of a slice from a DataFrame\n",
      "\n",
      "See the caveats in the documentation: https://pandas.pydata.org/pandas-docs/stable/user_guide/indexing.html#returning-a-view-versus-a-copy\n",
      "  df2['Peso Total'][x] = maconha_mediana_pT\n",
      "C:\\Users\\giu_2\\AppData\\Local\\Temp/ipykernel_5784/312657073.py:23: SettingWithCopyWarning: \n",
      "A value is trying to be set on a copy of a slice from a DataFrame\n",
      "\n",
      "See the caveats in the documentation: https://pandas.pydata.org/pandas-docs/stable/user_guide/indexing.html#returning-a-view-versus-a-copy\n",
      "  df2['Peso Total'][x] = maconha_mediana_pT\n",
      "C:\\Users\\giu_2\\AppData\\Local\\Temp/ipykernel_5784/312657073.py:23: SettingWithCopyWarning: \n",
      "A value is trying to be set on a copy of a slice from a DataFrame\n",
      "\n",
      "See the caveats in the documentation: https://pandas.pydata.org/pandas-docs/stable/user_guide/indexing.html#returning-a-view-versus-a-copy\n",
      "  df2['Peso Total'][x] = maconha_mediana_pT\n",
      "C:\\Users\\giu_2\\AppData\\Local\\Temp/ipykernel_5784/312657073.py:23: SettingWithCopyWarning: \n",
      "A value is trying to be set on a copy of a slice from a DataFrame\n",
      "\n",
      "See the caveats in the documentation: https://pandas.pydata.org/pandas-docs/stable/user_guide/indexing.html#returning-a-view-versus-a-copy\n",
      "  df2['Peso Total'][x] = maconha_mediana_pT\n",
      "C:\\Users\\giu_2\\AppData\\Local\\Temp/ipykernel_5784/312657073.py:13: SettingWithCopyWarning: \n",
      "A value is trying to be set on a copy of a slice from a DataFrame\n",
      "\n",
      "See the caveats in the documentation: https://pandas.pydata.org/pandas-docs/stable/user_guide/indexing.html#returning-a-view-versus-a-copy\n",
      "  df2['Peso Total'][x] = maconha_mediana_pT\n",
      "C:\\Users\\giu_2\\AppData\\Local\\Temp/ipykernel_5784/312657073.py:13: SettingWithCopyWarning: \n",
      "A value is trying to be set on a copy of a slice from a DataFrame\n",
      "\n",
      "See the caveats in the documentation: https://pandas.pydata.org/pandas-docs/stable/user_guide/indexing.html#returning-a-view-versus-a-copy\n",
      "  df2['Peso Total'][x] = maconha_mediana_pT\n",
      "C:\\Users\\giu_2\\AppData\\Local\\Temp/ipykernel_5784/312657073.py:23: SettingWithCopyWarning: \n",
      "A value is trying to be set on a copy of a slice from a DataFrame\n",
      "\n",
      "See the caveats in the documentation: https://pandas.pydata.org/pandas-docs/stable/user_guide/indexing.html#returning-a-view-versus-a-copy\n",
      "  df2['Peso Total'][x] = maconha_mediana_pT\n",
      "C:\\Users\\giu_2\\AppData\\Local\\Temp/ipykernel_5784/312657073.py:8: SettingWithCopyWarning: \n",
      "A value is trying to be set on a copy of a slice from a DataFrame\n",
      "\n",
      "See the caveats in the documentation: https://pandas.pydata.org/pandas-docs/stable/user_guide/indexing.html#returning-a-view-versus-a-copy\n",
      "  df2['Peso Total'][x] = maconha_mediana_pT\n"
     ]
    },
    {
     "name": "stderr",
     "output_type": "stream",
     "text": [
      "C:\\Users\\giu_2\\AppData\\Local\\Temp/ipykernel_5784/312657073.py:13: SettingWithCopyWarning: \n",
      "A value is trying to be set on a copy of a slice from a DataFrame\n",
      "\n",
      "See the caveats in the documentation: https://pandas.pydata.org/pandas-docs/stable/user_guide/indexing.html#returning-a-view-versus-a-copy\n",
      "  df2['Peso Total'][x] = maconha_mediana_pT\n",
      "C:\\Users\\giu_2\\AppData\\Local\\Temp/ipykernel_5784/312657073.py:8: SettingWithCopyWarning: \n",
      "A value is trying to be set on a copy of a slice from a DataFrame\n",
      "\n",
      "See the caveats in the documentation: https://pandas.pydata.org/pandas-docs/stable/user_guide/indexing.html#returning-a-view-versus-a-copy\n",
      "  df2['Peso Total'][x] = maconha_mediana_pT\n",
      "C:\\Users\\giu_2\\AppData\\Local\\Temp/ipykernel_5784/312657073.py:23: SettingWithCopyWarning: \n",
      "A value is trying to be set on a copy of a slice from a DataFrame\n",
      "\n",
      "See the caveats in the documentation: https://pandas.pydata.org/pandas-docs/stable/user_guide/indexing.html#returning-a-view-versus-a-copy\n",
      "  df2['Peso Total'][x] = maconha_mediana_pT\n",
      "C:\\Users\\giu_2\\AppData\\Local\\Temp/ipykernel_5784/312657073.py:23: SettingWithCopyWarning: \n",
      "A value is trying to be set on a copy of a slice from a DataFrame\n",
      "\n",
      "See the caveats in the documentation: https://pandas.pydata.org/pandas-docs/stable/user_guide/indexing.html#returning-a-view-versus-a-copy\n",
      "  df2['Peso Total'][x] = maconha_mediana_pT\n",
      "C:\\Users\\giu_2\\AppData\\Local\\Temp/ipykernel_5784/312657073.py:23: SettingWithCopyWarning: \n",
      "A value is trying to be set on a copy of a slice from a DataFrame\n",
      "\n",
      "See the caveats in the documentation: https://pandas.pydata.org/pandas-docs/stable/user_guide/indexing.html#returning-a-view-versus-a-copy\n",
      "  df2['Peso Total'][x] = maconha_mediana_pT\n",
      "C:\\Users\\giu_2\\AppData\\Local\\Temp/ipykernel_5784/312657073.py:23: SettingWithCopyWarning: \n",
      "A value is trying to be set on a copy of a slice from a DataFrame\n",
      "\n",
      "See the caveats in the documentation: https://pandas.pydata.org/pandas-docs/stable/user_guide/indexing.html#returning-a-view-versus-a-copy\n",
      "  df2['Peso Total'][x] = maconha_mediana_pT\n",
      "C:\\Users\\giu_2\\AppData\\Local\\Temp/ipykernel_5784/312657073.py:23: SettingWithCopyWarning: \n",
      "A value is trying to be set on a copy of a slice from a DataFrame\n",
      "\n",
      "See the caveats in the documentation: https://pandas.pydata.org/pandas-docs/stable/user_guide/indexing.html#returning-a-view-versus-a-copy\n",
      "  df2['Peso Total'][x] = maconha_mediana_pT\n",
      "C:\\Users\\giu_2\\AppData\\Local\\Temp/ipykernel_5784/312657073.py:18: SettingWithCopyWarning: \n",
      "A value is trying to be set on a copy of a slice from a DataFrame\n",
      "\n",
      "See the caveats in the documentation: https://pandas.pydata.org/pandas-docs/stable/user_guide/indexing.html#returning-a-view-versus-a-copy\n",
      "  df2['Peso Total'][x] = maconha_mediana_pT\n",
      "C:\\Users\\giu_2\\AppData\\Local\\Temp/ipykernel_5784/312657073.py:23: SettingWithCopyWarning: \n",
      "A value is trying to be set on a copy of a slice from a DataFrame\n",
      "\n",
      "See the caveats in the documentation: https://pandas.pydata.org/pandas-docs/stable/user_guide/indexing.html#returning-a-view-versus-a-copy\n",
      "  df2['Peso Total'][x] = maconha_mediana_pT\n",
      "C:\\Users\\giu_2\\AppData\\Local\\Temp/ipykernel_5784/312657073.py:8: SettingWithCopyWarning: \n",
      "A value is trying to be set on a copy of a slice from a DataFrame\n",
      "\n",
      "See the caveats in the documentation: https://pandas.pydata.org/pandas-docs/stable/user_guide/indexing.html#returning-a-view-versus-a-copy\n",
      "  df2['Peso Total'][x] = maconha_mediana_pT\n",
      "C:\\Users\\giu_2\\AppData\\Local\\Temp/ipykernel_5784/312657073.py:8: SettingWithCopyWarning: \n",
      "A value is trying to be set on a copy of a slice from a DataFrame\n",
      "\n",
      "See the caveats in the documentation: https://pandas.pydata.org/pandas-docs/stable/user_guide/indexing.html#returning-a-view-versus-a-copy\n",
      "  df2['Peso Total'][x] = maconha_mediana_pT\n",
      "C:\\Users\\giu_2\\AppData\\Local\\Temp/ipykernel_5784/312657073.py:8: SettingWithCopyWarning: \n",
      "A value is trying to be set on a copy of a slice from a DataFrame\n",
      "\n",
      "See the caveats in the documentation: https://pandas.pydata.org/pandas-docs/stable/user_guide/indexing.html#returning-a-view-versus-a-copy\n",
      "  df2['Peso Total'][x] = maconha_mediana_pT\n",
      "C:\\Users\\giu_2\\AppData\\Local\\Temp/ipykernel_5784/312657073.py:13: SettingWithCopyWarning: \n",
      "A value is trying to be set on a copy of a slice from a DataFrame\n",
      "\n",
      "See the caveats in the documentation: https://pandas.pydata.org/pandas-docs/stable/user_guide/indexing.html#returning-a-view-versus-a-copy\n",
      "  df2['Peso Total'][x] = maconha_mediana_pT\n",
      "C:\\Users\\giu_2\\AppData\\Local\\Temp/ipykernel_5784/312657073.py:13: SettingWithCopyWarning: \n",
      "A value is trying to be set on a copy of a slice from a DataFrame\n",
      "\n",
      "See the caveats in the documentation: https://pandas.pydata.org/pandas-docs/stable/user_guide/indexing.html#returning-a-view-versus-a-copy\n",
      "  df2['Peso Total'][x] = maconha_mediana_pT\n",
      "C:\\Users\\giu_2\\AppData\\Local\\Temp/ipykernel_5784/312657073.py:8: SettingWithCopyWarning: \n",
      "A value is trying to be set on a copy of a slice from a DataFrame\n",
      "\n",
      "See the caveats in the documentation: https://pandas.pydata.org/pandas-docs/stable/user_guide/indexing.html#returning-a-view-versus-a-copy\n",
      "  df2['Peso Total'][x] = maconha_mediana_pT\n",
      "C:\\Users\\giu_2\\AppData\\Local\\Temp/ipykernel_5784/312657073.py:18: SettingWithCopyWarning: \n",
      "A value is trying to be set on a copy of a slice from a DataFrame\n",
      "\n",
      "See the caveats in the documentation: https://pandas.pydata.org/pandas-docs/stable/user_guide/indexing.html#returning-a-view-versus-a-copy\n",
      "  df2['Peso Total'][x] = maconha_mediana_pT\n",
      "C:\\Users\\giu_2\\AppData\\Local\\Temp/ipykernel_5784/312657073.py:8: SettingWithCopyWarning: \n",
      "A value is trying to be set on a copy of a slice from a DataFrame\n",
      "\n",
      "See the caveats in the documentation: https://pandas.pydata.org/pandas-docs/stable/user_guide/indexing.html#returning-a-view-versus-a-copy\n",
      "  df2['Peso Total'][x] = maconha_mediana_pT\n",
      "C:\\Users\\giu_2\\AppData\\Local\\Temp/ipykernel_5784/312657073.py:8: SettingWithCopyWarning: \n",
      "A value is trying to be set on a copy of a slice from a DataFrame\n",
      "\n",
      "See the caveats in the documentation: https://pandas.pydata.org/pandas-docs/stable/user_guide/indexing.html#returning-a-view-versus-a-copy\n",
      "  df2['Peso Total'][x] = maconha_mediana_pT\n",
      "C:\\Users\\giu_2\\AppData\\Local\\Temp/ipykernel_5784/312657073.py:8: SettingWithCopyWarning: \n",
      "A value is trying to be set on a copy of a slice from a DataFrame\n",
      "\n",
      "See the caveats in the documentation: https://pandas.pydata.org/pandas-docs/stable/user_guide/indexing.html#returning-a-view-versus-a-copy\n",
      "  df2['Peso Total'][x] = maconha_mediana_pT\n",
      "C:\\Users\\giu_2\\AppData\\Local\\Temp/ipykernel_5784/312657073.py:18: SettingWithCopyWarning: \n",
      "A value is trying to be set on a copy of a slice from a DataFrame\n",
      "\n",
      "See the caveats in the documentation: https://pandas.pydata.org/pandas-docs/stable/user_guide/indexing.html#returning-a-view-versus-a-copy\n",
      "  df2['Peso Total'][x] = maconha_mediana_pT\n",
      "C:\\Users\\giu_2\\AppData\\Local\\Temp/ipykernel_5784/312657073.py:23: SettingWithCopyWarning: \n",
      "A value is trying to be set on a copy of a slice from a DataFrame\n",
      "\n",
      "See the caveats in the documentation: https://pandas.pydata.org/pandas-docs/stable/user_guide/indexing.html#returning-a-view-versus-a-copy\n",
      "  df2['Peso Total'][x] = maconha_mediana_pT\n",
      "C:\\Users\\giu_2\\AppData\\Local\\Temp/ipykernel_5784/312657073.py:8: SettingWithCopyWarning: \n",
      "A value is trying to be set on a copy of a slice from a DataFrame\n",
      "\n",
      "See the caveats in the documentation: https://pandas.pydata.org/pandas-docs/stable/user_guide/indexing.html#returning-a-view-versus-a-copy\n",
      "  df2['Peso Total'][x] = maconha_mediana_pT\n",
      "C:\\Users\\giu_2\\AppData\\Local\\Temp/ipykernel_5784/312657073.py:23: SettingWithCopyWarning: \n",
      "A value is trying to be set on a copy of a slice from a DataFrame\n",
      "\n",
      "See the caveats in the documentation: https://pandas.pydata.org/pandas-docs/stable/user_guide/indexing.html#returning-a-view-versus-a-copy\n",
      "  df2['Peso Total'][x] = maconha_mediana_pT\n",
      "C:\\Users\\giu_2\\AppData\\Local\\Temp/ipykernel_5784/312657073.py:23: SettingWithCopyWarning: \n",
      "A value is trying to be set on a copy of a slice from a DataFrame\n",
      "\n",
      "See the caveats in the documentation: https://pandas.pydata.org/pandas-docs/stable/user_guide/indexing.html#returning-a-view-versus-a-copy\n",
      "  df2['Peso Total'][x] = maconha_mediana_pT\n",
      "C:\\Users\\giu_2\\AppData\\Local\\Temp/ipykernel_5784/312657073.py:13: SettingWithCopyWarning: \n",
      "A value is trying to be set on a copy of a slice from a DataFrame\n",
      "\n",
      "See the caveats in the documentation: https://pandas.pydata.org/pandas-docs/stable/user_guide/indexing.html#returning-a-view-versus-a-copy\n",
      "  df2['Peso Total'][x] = maconha_mediana_pT\n",
      "C:\\Users\\giu_2\\AppData\\Local\\Temp/ipykernel_5784/312657073.py:13: SettingWithCopyWarning: \n",
      "A value is trying to be set on a copy of a slice from a DataFrame\n",
      "\n",
      "See the caveats in the documentation: https://pandas.pydata.org/pandas-docs/stable/user_guide/indexing.html#returning-a-view-versus-a-copy\n",
      "  df2['Peso Total'][x] = maconha_mediana_pT\n",
      "C:\\Users\\giu_2\\AppData\\Local\\Temp/ipykernel_5784/312657073.py:8: SettingWithCopyWarning: \n",
      "A value is trying to be set on a copy of a slice from a DataFrame\n",
      "\n",
      "See the caveats in the documentation: https://pandas.pydata.org/pandas-docs/stable/user_guide/indexing.html#returning-a-view-versus-a-copy\n",
      "  df2['Peso Total'][x] = maconha_mediana_pT\n"
     ]
    },
    {
     "name": "stderr",
     "output_type": "stream",
     "text": [
      "C:\\Users\\giu_2\\AppData\\Local\\Temp/ipykernel_5784/312657073.py:8: SettingWithCopyWarning: \n",
      "A value is trying to be set on a copy of a slice from a DataFrame\n",
      "\n",
      "See the caveats in the documentation: https://pandas.pydata.org/pandas-docs/stable/user_guide/indexing.html#returning-a-view-versus-a-copy\n",
      "  df2['Peso Total'][x] = maconha_mediana_pT\n",
      "C:\\Users\\giu_2\\AppData\\Local\\Temp/ipykernel_5784/312657073.py:23: SettingWithCopyWarning: \n",
      "A value is trying to be set on a copy of a slice from a DataFrame\n",
      "\n",
      "See the caveats in the documentation: https://pandas.pydata.org/pandas-docs/stable/user_guide/indexing.html#returning-a-view-versus-a-copy\n",
      "  df2['Peso Total'][x] = maconha_mediana_pT\n",
      "C:\\Users\\giu_2\\AppData\\Local\\Temp/ipykernel_5784/312657073.py:23: SettingWithCopyWarning: \n",
      "A value is trying to be set on a copy of a slice from a DataFrame\n",
      "\n",
      "See the caveats in the documentation: https://pandas.pydata.org/pandas-docs/stable/user_guide/indexing.html#returning-a-view-versus-a-copy\n",
      "  df2['Peso Total'][x] = maconha_mediana_pT\n",
      "C:\\Users\\giu_2\\AppData\\Local\\Temp/ipykernel_5784/312657073.py:23: SettingWithCopyWarning: \n",
      "A value is trying to be set on a copy of a slice from a DataFrame\n",
      "\n",
      "See the caveats in the documentation: https://pandas.pydata.org/pandas-docs/stable/user_guide/indexing.html#returning-a-view-versus-a-copy\n",
      "  df2['Peso Total'][x] = maconha_mediana_pT\n",
      "C:\\Users\\giu_2\\AppData\\Local\\Temp/ipykernel_5784/312657073.py:13: SettingWithCopyWarning: \n",
      "A value is trying to be set on a copy of a slice from a DataFrame\n",
      "\n",
      "See the caveats in the documentation: https://pandas.pydata.org/pandas-docs/stable/user_guide/indexing.html#returning-a-view-versus-a-copy\n",
      "  df2['Peso Total'][x] = maconha_mediana_pT\n",
      "C:\\Users\\giu_2\\AppData\\Local\\Temp/ipykernel_5784/312657073.py:23: SettingWithCopyWarning: \n",
      "A value is trying to be set on a copy of a slice from a DataFrame\n",
      "\n",
      "See the caveats in the documentation: https://pandas.pydata.org/pandas-docs/stable/user_guide/indexing.html#returning-a-view-versus-a-copy\n",
      "  df2['Peso Total'][x] = maconha_mediana_pT\n",
      "C:\\Users\\giu_2\\AppData\\Local\\Temp/ipykernel_5784/312657073.py:23: SettingWithCopyWarning: \n",
      "A value is trying to be set on a copy of a slice from a DataFrame\n",
      "\n",
      "See the caveats in the documentation: https://pandas.pydata.org/pandas-docs/stable/user_guide/indexing.html#returning-a-view-versus-a-copy\n",
      "  df2['Peso Total'][x] = maconha_mediana_pT\n",
      "C:\\Users\\giu_2\\AppData\\Local\\Temp/ipykernel_5784/312657073.py:23: SettingWithCopyWarning: \n",
      "A value is trying to be set on a copy of a slice from a DataFrame\n",
      "\n",
      "See the caveats in the documentation: https://pandas.pydata.org/pandas-docs/stable/user_guide/indexing.html#returning-a-view-versus-a-copy\n",
      "  df2['Peso Total'][x] = maconha_mediana_pT\n",
      "C:\\Users\\giu_2\\AppData\\Local\\Temp/ipykernel_5784/312657073.py:8: SettingWithCopyWarning: \n",
      "A value is trying to be set on a copy of a slice from a DataFrame\n",
      "\n",
      "See the caveats in the documentation: https://pandas.pydata.org/pandas-docs/stable/user_guide/indexing.html#returning-a-view-versus-a-copy\n",
      "  df2['Peso Total'][x] = maconha_mediana_pT\n",
      "C:\\Users\\giu_2\\AppData\\Local\\Temp/ipykernel_5784/312657073.py:23: SettingWithCopyWarning: \n",
      "A value is trying to be set on a copy of a slice from a DataFrame\n",
      "\n",
      "See the caveats in the documentation: https://pandas.pydata.org/pandas-docs/stable/user_guide/indexing.html#returning-a-view-versus-a-copy\n",
      "  df2['Peso Total'][x] = maconha_mediana_pT\n",
      "C:\\Users\\giu_2\\AppData\\Local\\Temp/ipykernel_5784/312657073.py:8: SettingWithCopyWarning: \n",
      "A value is trying to be set on a copy of a slice from a DataFrame\n",
      "\n",
      "See the caveats in the documentation: https://pandas.pydata.org/pandas-docs/stable/user_guide/indexing.html#returning-a-view-versus-a-copy\n",
      "  df2['Peso Total'][x] = maconha_mediana_pT\n",
      "C:\\Users\\giu_2\\AppData\\Local\\Temp/ipykernel_5784/312657073.py:18: SettingWithCopyWarning: \n",
      "A value is trying to be set on a copy of a slice from a DataFrame\n",
      "\n",
      "See the caveats in the documentation: https://pandas.pydata.org/pandas-docs/stable/user_guide/indexing.html#returning-a-view-versus-a-copy\n",
      "  df2['Peso Total'][x] = maconha_mediana_pT\n",
      "C:\\Users\\giu_2\\AppData\\Local\\Temp/ipykernel_5784/312657073.py:23: SettingWithCopyWarning: \n",
      "A value is trying to be set on a copy of a slice from a DataFrame\n",
      "\n",
      "See the caveats in the documentation: https://pandas.pydata.org/pandas-docs/stable/user_guide/indexing.html#returning-a-view-versus-a-copy\n",
      "  df2['Peso Total'][x] = maconha_mediana_pT\n",
      "C:\\Users\\giu_2\\AppData\\Local\\Temp/ipykernel_5784/312657073.py:23: SettingWithCopyWarning: \n",
      "A value is trying to be set on a copy of a slice from a DataFrame\n",
      "\n",
      "See the caveats in the documentation: https://pandas.pydata.org/pandas-docs/stable/user_guide/indexing.html#returning-a-view-versus-a-copy\n",
      "  df2['Peso Total'][x] = maconha_mediana_pT\n",
      "C:\\Users\\giu_2\\AppData\\Local\\Temp/ipykernel_5784/312657073.py:23: SettingWithCopyWarning: \n",
      "A value is trying to be set on a copy of a slice from a DataFrame\n",
      "\n",
      "See the caveats in the documentation: https://pandas.pydata.org/pandas-docs/stable/user_guide/indexing.html#returning-a-view-versus-a-copy\n",
      "  df2['Peso Total'][x] = maconha_mediana_pT\n",
      "C:\\Users\\giu_2\\AppData\\Local\\Temp/ipykernel_5784/312657073.py:8: SettingWithCopyWarning: \n",
      "A value is trying to be set on a copy of a slice from a DataFrame\n",
      "\n",
      "See the caveats in the documentation: https://pandas.pydata.org/pandas-docs/stable/user_guide/indexing.html#returning-a-view-versus-a-copy\n",
      "  df2['Peso Total'][x] = maconha_mediana_pT\n",
      "C:\\Users\\giu_2\\AppData\\Local\\Temp/ipykernel_5784/312657073.py:23: SettingWithCopyWarning: \n",
      "A value is trying to be set on a copy of a slice from a DataFrame\n",
      "\n",
      "See the caveats in the documentation: https://pandas.pydata.org/pandas-docs/stable/user_guide/indexing.html#returning-a-view-versus-a-copy\n",
      "  df2['Peso Total'][x] = maconha_mediana_pT\n",
      "C:\\Users\\giu_2\\AppData\\Local\\Temp/ipykernel_5784/312657073.py:23: SettingWithCopyWarning: \n",
      "A value is trying to be set on a copy of a slice from a DataFrame\n",
      "\n",
      "See the caveats in the documentation: https://pandas.pydata.org/pandas-docs/stable/user_guide/indexing.html#returning-a-view-versus-a-copy\n",
      "  df2['Peso Total'][x] = maconha_mediana_pT\n",
      "C:\\Users\\giu_2\\AppData\\Local\\Temp/ipykernel_5784/312657073.py:8: SettingWithCopyWarning: \n",
      "A value is trying to be set on a copy of a slice from a DataFrame\n",
      "\n",
      "See the caveats in the documentation: https://pandas.pydata.org/pandas-docs/stable/user_guide/indexing.html#returning-a-view-versus-a-copy\n",
      "  df2['Peso Total'][x] = maconha_mediana_pT\n",
      "C:\\Users\\giu_2\\AppData\\Local\\Temp/ipykernel_5784/312657073.py:8: SettingWithCopyWarning: \n",
      "A value is trying to be set on a copy of a slice from a DataFrame\n",
      "\n",
      "See the caveats in the documentation: https://pandas.pydata.org/pandas-docs/stable/user_guide/indexing.html#returning-a-view-versus-a-copy\n",
      "  df2['Peso Total'][x] = maconha_mediana_pT\n",
      "C:\\Users\\giu_2\\AppData\\Local\\Temp/ipykernel_5784/312657073.py:8: SettingWithCopyWarning: \n",
      "A value is trying to be set on a copy of a slice from a DataFrame\n",
      "\n",
      "See the caveats in the documentation: https://pandas.pydata.org/pandas-docs/stable/user_guide/indexing.html#returning-a-view-versus-a-copy\n",
      "  df2['Peso Total'][x] = maconha_mediana_pT\n",
      "C:\\Users\\giu_2\\AppData\\Local\\Temp/ipykernel_5784/312657073.py:8: SettingWithCopyWarning: \n",
      "A value is trying to be set on a copy of a slice from a DataFrame\n",
      "\n",
      "See the caveats in the documentation: https://pandas.pydata.org/pandas-docs/stable/user_guide/indexing.html#returning-a-view-versus-a-copy\n",
      "  df2['Peso Total'][x] = maconha_mediana_pT\n",
      "C:\\Users\\giu_2\\AppData\\Local\\Temp/ipykernel_5784/312657073.py:8: SettingWithCopyWarning: \n",
      "A value is trying to be set on a copy of a slice from a DataFrame\n",
      "\n",
      "See the caveats in the documentation: https://pandas.pydata.org/pandas-docs/stable/user_guide/indexing.html#returning-a-view-versus-a-copy\n",
      "  df2['Peso Total'][x] = maconha_mediana_pT\n",
      "C:\\Users\\giu_2\\AppData\\Local\\Temp/ipykernel_5784/312657073.py:23: SettingWithCopyWarning: \n",
      "A value is trying to be set on a copy of a slice from a DataFrame\n",
      "\n",
      "See the caveats in the documentation: https://pandas.pydata.org/pandas-docs/stable/user_guide/indexing.html#returning-a-view-versus-a-copy\n",
      "  df2['Peso Total'][x] = maconha_mediana_pT\n",
      "C:\\Users\\giu_2\\AppData\\Local\\Temp/ipykernel_5784/312657073.py:8: SettingWithCopyWarning: \n",
      "A value is trying to be set on a copy of a slice from a DataFrame\n",
      "\n",
      "See the caveats in the documentation: https://pandas.pydata.org/pandas-docs/stable/user_guide/indexing.html#returning-a-view-versus-a-copy\n",
      "  df2['Peso Total'][x] = maconha_mediana_pT\n",
      "C:\\Users\\giu_2\\AppData\\Local\\Temp/ipykernel_5784/312657073.py:23: SettingWithCopyWarning: \n",
      "A value is trying to be set on a copy of a slice from a DataFrame\n",
      "\n",
      "See the caveats in the documentation: https://pandas.pydata.org/pandas-docs/stable/user_guide/indexing.html#returning-a-view-versus-a-copy\n",
      "  df2['Peso Total'][x] = maconha_mediana_pT\n",
      "C:\\Users\\giu_2\\AppData\\Local\\Temp/ipykernel_5784/312657073.py:23: SettingWithCopyWarning: \n",
      "A value is trying to be set on a copy of a slice from a DataFrame\n",
      "\n",
      "See the caveats in the documentation: https://pandas.pydata.org/pandas-docs/stable/user_guide/indexing.html#returning-a-view-versus-a-copy\n",
      "  df2['Peso Total'][x] = maconha_mediana_pT\n",
      "C:\\Users\\giu_2\\AppData\\Local\\Temp/ipykernel_5784/312657073.py:23: SettingWithCopyWarning: \n",
      "A value is trying to be set on a copy of a slice from a DataFrame\n",
      "\n",
      "See the caveats in the documentation: https://pandas.pydata.org/pandas-docs/stable/user_guide/indexing.html#returning-a-view-versus-a-copy\n",
      "  df2['Peso Total'][x] = maconha_mediana_pT\n",
      "C:\\Users\\giu_2\\AppData\\Local\\Temp/ipykernel_5784/312657073.py:8: SettingWithCopyWarning: \n",
      "A value is trying to be set on a copy of a slice from a DataFrame\n",
      "\n",
      "See the caveats in the documentation: https://pandas.pydata.org/pandas-docs/stable/user_guide/indexing.html#returning-a-view-versus-a-copy\n",
      "  df2['Peso Total'][x] = maconha_mediana_pT\n",
      "C:\\Users\\giu_2\\AppData\\Local\\Temp/ipykernel_5784/312657073.py:13: SettingWithCopyWarning: \n",
      "A value is trying to be set on a copy of a slice from a DataFrame\n",
      "\n",
      "See the caveats in the documentation: https://pandas.pydata.org/pandas-docs/stable/user_guide/indexing.html#returning-a-view-versus-a-copy\n",
      "  df2['Peso Total'][x] = maconha_mediana_pT\n",
      "C:\\Users\\giu_2\\AppData\\Local\\Temp/ipykernel_5784/312657073.py:18: SettingWithCopyWarning: \n",
      "A value is trying to be set on a copy of a slice from a DataFrame\n",
      "\n",
      "See the caveats in the documentation: https://pandas.pydata.org/pandas-docs/stable/user_guide/indexing.html#returning-a-view-versus-a-copy\n",
      "  df2['Peso Total'][x] = maconha_mediana_pT\n",
      "C:\\Users\\giu_2\\AppData\\Local\\Temp/ipykernel_5784/312657073.py:8: SettingWithCopyWarning: \n",
      "A value is trying to be set on a copy of a slice from a DataFrame\n",
      "\n",
      "See the caveats in the documentation: https://pandas.pydata.org/pandas-docs/stable/user_guide/indexing.html#returning-a-view-versus-a-copy\n",
      "  df2['Peso Total'][x] = maconha_mediana_pT\n",
      "C:\\Users\\giu_2\\AppData\\Local\\Temp/ipykernel_5784/312657073.py:8: SettingWithCopyWarning: \n",
      "A value is trying to be set on a copy of a slice from a DataFrame\n",
      "\n",
      "See the caveats in the documentation: https://pandas.pydata.org/pandas-docs/stable/user_guide/indexing.html#returning-a-view-versus-a-copy\n",
      "  df2['Peso Total'][x] = maconha_mediana_pT\n"
     ]
    },
    {
     "name": "stderr",
     "output_type": "stream",
     "text": [
      "C:\\Users\\giu_2\\AppData\\Local\\Temp/ipykernel_5784/312657073.py:8: SettingWithCopyWarning: \n",
      "A value is trying to be set on a copy of a slice from a DataFrame\n",
      "\n",
      "See the caveats in the documentation: https://pandas.pydata.org/pandas-docs/stable/user_guide/indexing.html#returning-a-view-versus-a-copy\n",
      "  df2['Peso Total'][x] = maconha_mediana_pT\n",
      "C:\\Users\\giu_2\\AppData\\Local\\Temp/ipykernel_5784/312657073.py:8: SettingWithCopyWarning: \n",
      "A value is trying to be set on a copy of a slice from a DataFrame\n",
      "\n",
      "See the caveats in the documentation: https://pandas.pydata.org/pandas-docs/stable/user_guide/indexing.html#returning-a-view-versus-a-copy\n",
      "  df2['Peso Total'][x] = maconha_mediana_pT\n",
      "C:\\Users\\giu_2\\AppData\\Local\\Temp/ipykernel_5784/312657073.py:8: SettingWithCopyWarning: \n",
      "A value is trying to be set on a copy of a slice from a DataFrame\n",
      "\n",
      "See the caveats in the documentation: https://pandas.pydata.org/pandas-docs/stable/user_guide/indexing.html#returning-a-view-versus-a-copy\n",
      "  df2['Peso Total'][x] = maconha_mediana_pT\n",
      "C:\\Users\\giu_2\\AppData\\Local\\Temp/ipykernel_5784/312657073.py:8: SettingWithCopyWarning: \n",
      "A value is trying to be set on a copy of a slice from a DataFrame\n",
      "\n",
      "See the caveats in the documentation: https://pandas.pydata.org/pandas-docs/stable/user_guide/indexing.html#returning-a-view-versus-a-copy\n",
      "  df2['Peso Total'][x] = maconha_mediana_pT\n",
      "C:\\Users\\giu_2\\AppData\\Local\\Temp/ipykernel_5784/312657073.py:13: SettingWithCopyWarning: \n",
      "A value is trying to be set on a copy of a slice from a DataFrame\n",
      "\n",
      "See the caveats in the documentation: https://pandas.pydata.org/pandas-docs/stable/user_guide/indexing.html#returning-a-view-versus-a-copy\n",
      "  df2['Peso Total'][x] = maconha_mediana_pT\n",
      "C:\\Users\\giu_2\\AppData\\Local\\Temp/ipykernel_5784/312657073.py:18: SettingWithCopyWarning: \n",
      "A value is trying to be set on a copy of a slice from a DataFrame\n",
      "\n",
      "See the caveats in the documentation: https://pandas.pydata.org/pandas-docs/stable/user_guide/indexing.html#returning-a-view-versus-a-copy\n",
      "  df2['Peso Total'][x] = maconha_mediana_pT\n",
      "C:\\Users\\giu_2\\AppData\\Local\\Temp/ipykernel_5784/312657073.py:23: SettingWithCopyWarning: \n",
      "A value is trying to be set on a copy of a slice from a DataFrame\n",
      "\n",
      "See the caveats in the documentation: https://pandas.pydata.org/pandas-docs/stable/user_guide/indexing.html#returning-a-view-versus-a-copy\n",
      "  df2['Peso Total'][x] = maconha_mediana_pT\n",
      "C:\\Users\\giu_2\\AppData\\Local\\Temp/ipykernel_5784/312657073.py:23: SettingWithCopyWarning: \n",
      "A value is trying to be set on a copy of a slice from a DataFrame\n",
      "\n",
      "See the caveats in the documentation: https://pandas.pydata.org/pandas-docs/stable/user_guide/indexing.html#returning-a-view-versus-a-copy\n",
      "  df2['Peso Total'][x] = maconha_mediana_pT\n",
      "C:\\Users\\giu_2\\AppData\\Local\\Temp/ipykernel_5784/312657073.py:23: SettingWithCopyWarning: \n",
      "A value is trying to be set on a copy of a slice from a DataFrame\n",
      "\n",
      "See the caveats in the documentation: https://pandas.pydata.org/pandas-docs/stable/user_guide/indexing.html#returning-a-view-versus-a-copy\n",
      "  df2['Peso Total'][x] = maconha_mediana_pT\n",
      "C:\\Users\\giu_2\\AppData\\Local\\Temp/ipykernel_5784/312657073.py:8: SettingWithCopyWarning: \n",
      "A value is trying to be set on a copy of a slice from a DataFrame\n",
      "\n",
      "See the caveats in the documentation: https://pandas.pydata.org/pandas-docs/stable/user_guide/indexing.html#returning-a-view-versus-a-copy\n",
      "  df2['Peso Total'][x] = maconha_mediana_pT\n",
      "C:\\Users\\giu_2\\AppData\\Local\\Temp/ipykernel_5784/312657073.py:8: SettingWithCopyWarning: \n",
      "A value is trying to be set on a copy of a slice from a DataFrame\n",
      "\n",
      "See the caveats in the documentation: https://pandas.pydata.org/pandas-docs/stable/user_guide/indexing.html#returning-a-view-versus-a-copy\n",
      "  df2['Peso Total'][x] = maconha_mediana_pT\n",
      "C:\\Users\\giu_2\\AppData\\Local\\Temp/ipykernel_5784/312657073.py:18: SettingWithCopyWarning: \n",
      "A value is trying to be set on a copy of a slice from a DataFrame\n",
      "\n",
      "See the caveats in the documentation: https://pandas.pydata.org/pandas-docs/stable/user_guide/indexing.html#returning-a-view-versus-a-copy\n",
      "  df2['Peso Total'][x] = maconha_mediana_pT\n",
      "C:\\Users\\giu_2\\AppData\\Local\\Temp/ipykernel_5784/312657073.py:13: SettingWithCopyWarning: \n",
      "A value is trying to be set on a copy of a slice from a DataFrame\n",
      "\n",
      "See the caveats in the documentation: https://pandas.pydata.org/pandas-docs/stable/user_guide/indexing.html#returning-a-view-versus-a-copy\n",
      "  df2['Peso Total'][x] = maconha_mediana_pT\n",
      "C:\\Users\\giu_2\\AppData\\Local\\Temp/ipykernel_5784/312657073.py:13: SettingWithCopyWarning: \n",
      "A value is trying to be set on a copy of a slice from a DataFrame\n",
      "\n",
      "See the caveats in the documentation: https://pandas.pydata.org/pandas-docs/stable/user_guide/indexing.html#returning-a-view-versus-a-copy\n",
      "  df2['Peso Total'][x] = maconha_mediana_pT\n",
      "C:\\Users\\giu_2\\AppData\\Local\\Temp/ipykernel_5784/312657073.py:23: SettingWithCopyWarning: \n",
      "A value is trying to be set on a copy of a slice from a DataFrame\n",
      "\n",
      "See the caveats in the documentation: https://pandas.pydata.org/pandas-docs/stable/user_guide/indexing.html#returning-a-view-versus-a-copy\n",
      "  df2['Peso Total'][x] = maconha_mediana_pT\n",
      "C:\\Users\\giu_2\\AppData\\Local\\Temp/ipykernel_5784/312657073.py:23: SettingWithCopyWarning: \n",
      "A value is trying to be set on a copy of a slice from a DataFrame\n",
      "\n",
      "See the caveats in the documentation: https://pandas.pydata.org/pandas-docs/stable/user_guide/indexing.html#returning-a-view-versus-a-copy\n",
      "  df2['Peso Total'][x] = maconha_mediana_pT\n",
      "C:\\Users\\giu_2\\AppData\\Local\\Temp/ipykernel_5784/312657073.py:23: SettingWithCopyWarning: \n",
      "A value is trying to be set on a copy of a slice from a DataFrame\n",
      "\n",
      "See the caveats in the documentation: https://pandas.pydata.org/pandas-docs/stable/user_guide/indexing.html#returning-a-view-versus-a-copy\n",
      "  df2['Peso Total'][x] = maconha_mediana_pT\n",
      "C:\\Users\\giu_2\\AppData\\Local\\Temp/ipykernel_5784/312657073.py:18: SettingWithCopyWarning: \n",
      "A value is trying to be set on a copy of a slice from a DataFrame\n",
      "\n",
      "See the caveats in the documentation: https://pandas.pydata.org/pandas-docs/stable/user_guide/indexing.html#returning-a-view-versus-a-copy\n",
      "  df2['Peso Total'][x] = maconha_mediana_pT\n",
      "C:\\Users\\giu_2\\AppData\\Local\\Temp/ipykernel_5784/312657073.py:8: SettingWithCopyWarning: \n",
      "A value is trying to be set on a copy of a slice from a DataFrame\n",
      "\n",
      "See the caveats in the documentation: https://pandas.pydata.org/pandas-docs/stable/user_guide/indexing.html#returning-a-view-versus-a-copy\n",
      "  df2['Peso Total'][x] = maconha_mediana_pT\n",
      "C:\\Users\\giu_2\\AppData\\Local\\Temp/ipykernel_5784/312657073.py:8: SettingWithCopyWarning: \n",
      "A value is trying to be set on a copy of a slice from a DataFrame\n",
      "\n",
      "See the caveats in the documentation: https://pandas.pydata.org/pandas-docs/stable/user_guide/indexing.html#returning-a-view-versus-a-copy\n",
      "  df2['Peso Total'][x] = maconha_mediana_pT\n",
      "C:\\Users\\giu_2\\AppData\\Local\\Temp/ipykernel_5784/312657073.py:23: SettingWithCopyWarning: \n",
      "A value is trying to be set on a copy of a slice from a DataFrame\n",
      "\n",
      "See the caveats in the documentation: https://pandas.pydata.org/pandas-docs/stable/user_guide/indexing.html#returning-a-view-versus-a-copy\n",
      "  df2['Peso Total'][x] = maconha_mediana_pT\n",
      "C:\\Users\\giu_2\\AppData\\Local\\Temp/ipykernel_5784/312657073.py:18: SettingWithCopyWarning: \n",
      "A value is trying to be set on a copy of a slice from a DataFrame\n",
      "\n",
      "See the caveats in the documentation: https://pandas.pydata.org/pandas-docs/stable/user_guide/indexing.html#returning-a-view-versus-a-copy\n",
      "  df2['Peso Total'][x] = maconha_mediana_pT\n",
      "C:\\Users\\giu_2\\AppData\\Local\\Temp/ipykernel_5784/312657073.py:13: SettingWithCopyWarning: \n",
      "A value is trying to be set on a copy of a slice from a DataFrame\n",
      "\n",
      "See the caveats in the documentation: https://pandas.pydata.org/pandas-docs/stable/user_guide/indexing.html#returning-a-view-versus-a-copy\n",
      "  df2['Peso Total'][x] = maconha_mediana_pT\n",
      "C:\\Users\\giu_2\\AppData\\Local\\Temp/ipykernel_5784/312657073.py:8: SettingWithCopyWarning: \n",
      "A value is trying to be set on a copy of a slice from a DataFrame\n",
      "\n",
      "See the caveats in the documentation: https://pandas.pydata.org/pandas-docs/stable/user_guide/indexing.html#returning-a-view-versus-a-copy\n",
      "  df2['Peso Total'][x] = maconha_mediana_pT\n",
      "C:\\Users\\giu_2\\AppData\\Local\\Temp/ipykernel_5784/312657073.py:8: SettingWithCopyWarning: \n",
      "A value is trying to be set on a copy of a slice from a DataFrame\n",
      "\n",
      "See the caveats in the documentation: https://pandas.pydata.org/pandas-docs/stable/user_guide/indexing.html#returning-a-view-versus-a-copy\n",
      "  df2['Peso Total'][x] = maconha_mediana_pT\n",
      "C:\\Users\\giu_2\\AppData\\Local\\Temp/ipykernel_5784/312657073.py:18: SettingWithCopyWarning: \n",
      "A value is trying to be set on a copy of a slice from a DataFrame\n",
      "\n",
      "See the caveats in the documentation: https://pandas.pydata.org/pandas-docs/stable/user_guide/indexing.html#returning-a-view-versus-a-copy\n",
      "  df2['Peso Total'][x] = maconha_mediana_pT\n",
      "C:\\Users\\giu_2\\AppData\\Local\\Temp/ipykernel_5784/312657073.py:8: SettingWithCopyWarning: \n",
      "A value is trying to be set on a copy of a slice from a DataFrame\n",
      "\n",
      "See the caveats in the documentation: https://pandas.pydata.org/pandas-docs/stable/user_guide/indexing.html#returning-a-view-versus-a-copy\n",
      "  df2['Peso Total'][x] = maconha_mediana_pT\n",
      "C:\\Users\\giu_2\\AppData\\Local\\Temp/ipykernel_5784/312657073.py:13: SettingWithCopyWarning: \n",
      "A value is trying to be set on a copy of a slice from a DataFrame\n",
      "\n",
      "See the caveats in the documentation: https://pandas.pydata.org/pandas-docs/stable/user_guide/indexing.html#returning-a-view-versus-a-copy\n",
      "  df2['Peso Total'][x] = maconha_mediana_pT\n",
      "C:\\Users\\giu_2\\AppData\\Local\\Temp/ipykernel_5784/312657073.py:13: SettingWithCopyWarning: \n",
      "A value is trying to be set on a copy of a slice from a DataFrame\n",
      "\n",
      "See the caveats in the documentation: https://pandas.pydata.org/pandas-docs/stable/user_guide/indexing.html#returning-a-view-versus-a-copy\n",
      "  df2['Peso Total'][x] = maconha_mediana_pT\n",
      "C:\\Users\\giu_2\\AppData\\Local\\Temp/ipykernel_5784/312657073.py:18: SettingWithCopyWarning: \n",
      "A value is trying to be set on a copy of a slice from a DataFrame\n",
      "\n",
      "See the caveats in the documentation: https://pandas.pydata.org/pandas-docs/stable/user_guide/indexing.html#returning-a-view-versus-a-copy\n",
      "  df2['Peso Total'][x] = maconha_mediana_pT\n",
      "C:\\Users\\giu_2\\AppData\\Local\\Temp/ipykernel_5784/312657073.py:8: SettingWithCopyWarning: \n",
      "A value is trying to be set on a copy of a slice from a DataFrame\n",
      "\n",
      "See the caveats in the documentation: https://pandas.pydata.org/pandas-docs/stable/user_guide/indexing.html#returning-a-view-versus-a-copy\n",
      "  df2['Peso Total'][x] = maconha_mediana_pT\n",
      "C:\\Users\\giu_2\\AppData\\Local\\Temp/ipykernel_5784/312657073.py:13: SettingWithCopyWarning: \n",
      "A value is trying to be set on a copy of a slice from a DataFrame\n",
      "\n",
      "See the caveats in the documentation: https://pandas.pydata.org/pandas-docs/stable/user_guide/indexing.html#returning-a-view-versus-a-copy\n",
      "  df2['Peso Total'][x] = maconha_mediana_pT\n"
     ]
    },
    {
     "name": "stderr",
     "output_type": "stream",
     "text": [
      "C:\\Users\\giu_2\\AppData\\Local\\Temp/ipykernel_5784/312657073.py:8: SettingWithCopyWarning: \n",
      "A value is trying to be set on a copy of a slice from a DataFrame\n",
      "\n",
      "See the caveats in the documentation: https://pandas.pydata.org/pandas-docs/stable/user_guide/indexing.html#returning-a-view-versus-a-copy\n",
      "  df2['Peso Total'][x] = maconha_mediana_pT\n",
      "C:\\Users\\giu_2\\AppData\\Local\\Temp/ipykernel_5784/312657073.py:23: SettingWithCopyWarning: \n",
      "A value is trying to be set on a copy of a slice from a DataFrame\n",
      "\n",
      "See the caveats in the documentation: https://pandas.pydata.org/pandas-docs/stable/user_guide/indexing.html#returning-a-view-versus-a-copy\n",
      "  df2['Peso Total'][x] = maconha_mediana_pT\n",
      "C:\\Users\\giu_2\\AppData\\Local\\Temp/ipykernel_5784/312657073.py:23: SettingWithCopyWarning: \n",
      "A value is trying to be set on a copy of a slice from a DataFrame\n",
      "\n",
      "See the caveats in the documentation: https://pandas.pydata.org/pandas-docs/stable/user_guide/indexing.html#returning-a-view-versus-a-copy\n",
      "  df2['Peso Total'][x] = maconha_mediana_pT\n",
      "C:\\Users\\giu_2\\AppData\\Local\\Temp/ipykernel_5784/312657073.py:23: SettingWithCopyWarning: \n",
      "A value is trying to be set on a copy of a slice from a DataFrame\n",
      "\n",
      "See the caveats in the documentation: https://pandas.pydata.org/pandas-docs/stable/user_guide/indexing.html#returning-a-view-versus-a-copy\n",
      "  df2['Peso Total'][x] = maconha_mediana_pT\n"
     ]
    }
   ],
   "source": [
    "x = 0\n",
    "\n",
    "while x < len(df2):\n",
    "    if df2['TXT_TIPO_OBJETO'][x] == 'Maconha':\n",
    "        maconha_resultado2 = resultado2.loc[resultado2['TXT_TIPO_OBJETO'] == 'Maconha']\n",
    "        maconha_resultado2 = maconha_resultado2.reset_index(drop=True)\n",
    "        maconha_mediana_pT = maconha_resultado2['Peso Total'].median()\n",
    "        df2['Peso Total'][x] = maconha_mediana_pT\n",
    "    if df2['TXT_TIPO_OBJETO'][x] == 'Cocaína':\n",
    "        maconha_resultado2 = resultado2.loc[resultado2['TXT_TIPO_OBJETO'] == 'Cocaína']\n",
    "        maconha_resultado2 = maconha_resultado2.reset_index(drop=True)\n",
    "        maconha_mediana_pT = maconha_resultado2['Peso Total'].median()\n",
    "        df2['Peso Total'][x] = maconha_mediana_pT \n",
    "    if df2['TXT_TIPO_OBJETO'][x] == 'Crack':\n",
    "        maconha_resultado2 = resultado2.loc[resultado2['TXT_TIPO_OBJETO'] == 'Crack']\n",
    "        maconha_resultado2 = maconha_resultado2.reset_index(drop=True)\n",
    "        maconha_mediana_pT = maconha_resultado2['Peso Total'].median()\n",
    "        df2['Peso Total'][x] = maconha_mediana_pT\n",
    "    if df2['TXT_TIPO_OBJETO'][x] == 'Drogas':\n",
    "        maconha_resultado2 = resultado2.loc[resultado2['TXT_TIPO_OBJETO'] == 'Drogas']\n",
    "        maconha_resultado2 = maconha_resultado2.reset_index(drop=True)\n",
    "        maconha_mediana_pT = maconha_resultado2['Peso Total'].median()\n",
    "        df2['Peso Total'][x] = maconha_mediana_pT\n",
    "    x += 1"
   ]
  },
  {
   "cell_type": "code",
   "execution_count": 79,
   "metadata": {},
   "outputs": [
    {
     "data": {
      "text/html": [
       "<div>\n",
       "<style scoped>\n",
       "    .dataframe tbody tr th:only-of-type {\n",
       "        vertical-align: middle;\n",
       "    }\n",
       "\n",
       "    .dataframe tbody tr th {\n",
       "        vertical-align: top;\n",
       "    }\n",
       "\n",
       "    .dataframe thead th {\n",
       "        text-align: right;\n",
       "    }\n",
       "</style>\n",
       "<table border=\"1\" class=\"dataframe\">\n",
       "  <thead>\n",
       "    <tr style=\"text-align: right;\">\n",
       "      <th></th>\n",
       "      <th>CHAVE_OBJETO</th>\n",
       "      <th>TXT_TIPO_OBJETO</th>\n",
       "      <th>Peso Total</th>\n",
       "      <th>Cor Predominante</th>\n",
       "      <th>Descrição</th>\n",
       "      <th>Unidade de Peso</th>\n",
       "      <th>Tipo de Embalagem</th>\n",
       "      <th>Peso Unitário</th>\n",
       "      <th>Quantidade de Unidade(s)</th>\n",
       "    </tr>\n",
       "  </thead>\n",
       "  <tbody>\n",
       "    <tr>\n",
       "      <th>0</th>\n",
       "      <td>20205371</td>\n",
       "      <td>Drogas</td>\n",
       "      <td>0.0</td>\n",
       "      <td>Amarelo</td>\n",
       "      <td>dezesseis pontos de extase</td>\n",
       "      <td>Grama</td>\n",
       "      <td>Ponto(s)</td>\n",
       "      <td>0.0</td>\n",
       "      <td>16.0</td>\n",
       "    </tr>\n",
       "    <tr>\n",
       "      <th>1</th>\n",
       "      <td>20428729</td>\n",
       "      <td>Drogas</td>\n",
       "      <td>0.0</td>\n",
       "      <td>Branco</td>\n",
       "      <td>4 PONTOS DE LSD, COM DESENHO DE UM BONECO E UM...</td>\n",
       "      <td>Grama</td>\n",
       "      <td>Ponto(s)</td>\n",
       "      <td>0.0</td>\n",
       "      <td>4.0</td>\n",
       "    </tr>\n",
       "  </tbody>\n",
       "</table>\n",
       "</div>"
      ],
      "text/plain": [
       "   CHAVE_OBJETO TXT_TIPO_OBJETO  Peso Total Cor Predominante  \\\n",
       "0      20205371          Drogas         0.0          Amarelo   \n",
       "1      20428729          Drogas         0.0           Branco   \n",
       "\n",
       "                                           Descrição Unidade de Peso  \\\n",
       "0                         dezesseis pontos de extase           Grama   \n",
       "1  4 PONTOS DE LSD, COM DESENHO DE UM BONECO E UM...           Grama   \n",
       "\n",
       "  Tipo de Embalagem  Peso Unitário  Quantidade de Unidade(s)  \n",
       "0          Ponto(s)            0.0                      16.0  \n",
       "1          Ponto(s)            0.0                       4.0  "
      ]
     },
     "execution_count": 79,
     "metadata": {},
     "output_type": "execute_result"
    }
   ],
   "source": [
    "# df2, com PESO TOTAL, PRONTO#\n",
    "df.head(2)"
   ]
  },
  {
   "cell_type": "code",
   "execution_count": 80,
   "metadata": {},
   "outputs": [],
   "source": [
    "#resultado2.to_excel('testeDESCRICAO.xlsx')"
   ]
  },
  {
   "cell_type": "code",
   "execution_count": 81,
   "metadata": {},
   "outputs": [],
   "source": [
    "lista = [resultado2, resultado3, df1, df2]\n",
    "tudo = pd.concat(lista)"
   ]
  },
  {
   "cell_type": "code",
   "execution_count": 82,
   "metadata": {},
   "outputs": [],
   "source": [
    "tudo = tudo.reset_index(drop=True)"
   ]
  },
  {
   "cell_type": "code",
   "execution_count": 83,
   "metadata": {},
   "outputs": [
    {
     "data": {
      "text/plain": [
       "2888194837.3367834"
      ]
     },
     "execution_count": 83,
     "metadata": {},
     "output_type": "execute_result"
    }
   ],
   "source": [
    "tudo['Peso Total'].sum()"
   ]
  },
  {
   "cell_type": "code",
   "execution_count": 84,
   "metadata": {},
   "outputs": [],
   "source": [
    "maconha_tudo = tudo.loc[tudo['TXT_TIPO_OBJETO'] == 'Maconha']\n",
    "maconha_tudo = maconha_tudo.reset_index(drop=True)\n",
    "maconha_tudo = maconha_tudo.loc[maconha_tudo['Peso Total'] <= maconha_tudo['Peso Total'].quantile(0.99)]\n",
    "maconha_tudo = maconha_tudo.loc[maconha_tudo['Peso Total'] >= maconha_tudo['Peso Total'].quantile(0.01)]\n",
    "maconha_tudo = maconha_tudo.reset_index(drop=True)\n",
    "                                \n",
    "                                \n",
    "cocaina_tudo = tudo.loc[tudo['TXT_TIPO_OBJETO'] == 'Cocaína']\n",
    "cocaina_tudo = cocaina_tudo.reset_index(drop=True)\n",
    "cocaina_tudo = cocaina_tudo.loc[cocaina_tudo['Peso Total'] <= cocaina_tudo['Peso Total'].quantile(0.99)]\n",
    "cocaina_tudo = cocaina_tudo.loc[cocaina_tudo['Peso Total'] >= cocaina_tudo['Peso Total'].quantile(0.01)]\n",
    "cocaina_tudo = cocaina_tudo.reset_index(drop=True)\n",
    "\n",
    "crack_tudo = tudo.loc[tudo['TXT_TIPO_OBJETO'] == 'Crack']\n",
    "crack_tudo = crack_tudo.reset_index(drop=True)\n",
    "crack_tudo = crack_tudo.loc[crack_tudo['Peso Total'] <= crack_tudo['Peso Total'].quantile(0.99)]\n",
    "crack_tudo = crack_tudo.loc[crack_tudo['Peso Total'] >= crack_tudo['Peso Total'].quantile(0.01)]\n",
    "crack_tudo = crack_tudo.reset_index(drop=True)\n",
    "\n",
    "drogas_tudo = tudo.loc[tudo['TXT_TIPO_OBJETO'] == 'Drogas']\n",
    "drogas_tudo = drogas_tudo.reset_index(drop=True)\n",
    "drogas_tudo = drogas_tudo.loc[drogas_tudo['Peso Total'] <= drogas_tudo['Peso Total'].quantile(0.99)]\n",
    "drogas_tudo = drogas_tudo.loc[drogas_tudo['Peso Total'] >= drogas_tudo['Peso Total'].quantile(0.01)]\n",
    "drogas_tudo = drogas_tudo.reset_index(drop=True)"
   ]
  },
  {
   "cell_type": "code",
   "execution_count": 85,
   "metadata": {},
   "outputs": [],
   "source": [
    "lista = [maconha_tudo, cocaina_tudo, crack_tudo, drogas_tudo]\n",
    "final = pd.concat(lista)\n",
    "final = final.reset_index(drop=True)"
   ]
  },
  {
   "cell_type": "code",
   "execution_count": 86,
   "metadata": {},
   "outputs": [
    {
     "data": {
      "text/html": [
       "<div>\n",
       "<style scoped>\n",
       "    .dataframe tbody tr th:only-of-type {\n",
       "        vertical-align: middle;\n",
       "    }\n",
       "\n",
       "    .dataframe tbody tr th {\n",
       "        vertical-align: top;\n",
       "    }\n",
       "\n",
       "    .dataframe thead th {\n",
       "        text-align: right;\n",
       "    }\n",
       "</style>\n",
       "<table border=\"1\" class=\"dataframe\">\n",
       "  <thead>\n",
       "    <tr style=\"text-align: right;\">\n",
       "      <th></th>\n",
       "      <th>CHAVE_OBJETO</th>\n",
       "      <th>ANO_OCOR</th>\n",
       "      <th>NRO_OCOR</th>\n",
       "      <th>NRO_INT_TIPO_OBJETO</th>\n",
       "      <th>TXT_TIPO_OBJETO</th>\n",
       "      <th>Cor Predominante</th>\n",
       "      <th>Descrição</th>\n",
       "      <th>Peso Total</th>\n",
       "      <th>Peso Unitário</th>\n",
       "      <th>Quantidade de Unidade(s)</th>\n",
       "      <th>Tipo de Embalagem</th>\n",
       "      <th>Unidade de Peso</th>\n",
       "    </tr>\n",
       "  </thead>\n",
       "  <tbody>\n",
       "    <tr>\n",
       "      <th>0</th>\n",
       "      <td>22854828</td>\n",
       "      <td>2020.0</td>\n",
       "      <td>12689.0</td>\n",
       "      <td>5.0</td>\n",
       "      <td>Maconha</td>\n",
       "      <td>Verde</td>\n",
       "      <td>60KG 899 GRAMAS APROXIMADAMENTE DE MACONHA</td>\n",
       "      <td>60.889999</td>\n",
       "      <td>2.00</td>\n",
       "      <td>59.0</td>\n",
       "      <td>Tijolo(s)</td>\n",
       "      <td>Grama</td>\n",
       "    </tr>\n",
       "    <tr>\n",
       "      <th>1</th>\n",
       "      <td>23347094</td>\n",
       "      <td>2021.0</td>\n",
       "      <td>256.0</td>\n",
       "      <td>5.0</td>\n",
       "      <td>Maconha</td>\n",
       "      <td>Verde</td>\n",
       "      <td>UM VASO COM VÁRIOS PÉS DE MACONHA</td>\n",
       "      <td>1.000000</td>\n",
       "      <td>0.00</td>\n",
       "      <td>1.0</td>\n",
       "      <td>Unidade(s)</td>\n",
       "      <td>Grama</td>\n",
       "    </tr>\n",
       "    <tr>\n",
       "      <th>2</th>\n",
       "      <td>19617791</td>\n",
       "      <td>2018.0</td>\n",
       "      <td>5616.0</td>\n",
       "      <td>5.0</td>\n",
       "      <td>Maconha</td>\n",
       "      <td>Verde</td>\n",
       "      <td>NaN</td>\n",
       "      <td>0.200000</td>\n",
       "      <td>0.08</td>\n",
       "      <td>1.0</td>\n",
       "      <td>Cigarro(s)</td>\n",
       "      <td>Grama</td>\n",
       "    </tr>\n",
       "    <tr>\n",
       "      <th>3</th>\n",
       "      <td>21056276</td>\n",
       "      <td>2019.0</td>\n",
       "      <td>5040.0</td>\n",
       "      <td>5.0</td>\n",
       "      <td>Maconha</td>\n",
       "      <td>Verde</td>\n",
       "      <td>Bitucas de Vegetal Seco Everdeado - Cigarro Ar...</td>\n",
       "      <td>0.400000</td>\n",
       "      <td>0.08</td>\n",
       "      <td>2.0</td>\n",
       "      <td>Cigarro(s)</td>\n",
       "      <td>Grama</td>\n",
       "    </tr>\n",
       "    <tr>\n",
       "      <th>4</th>\n",
       "      <td>21157903</td>\n",
       "      <td>2019.0</td>\n",
       "      <td>1127.0</td>\n",
       "      <td>5.0</td>\n",
       "      <td>Maconha</td>\n",
       "      <td>Verde</td>\n",
       "      <td>UM CIGARRO ARTESANAL DE SUBSTÂNCIA CONHECIDA P...</td>\n",
       "      <td>0.010000</td>\n",
       "      <td>0.08</td>\n",
       "      <td>1.0</td>\n",
       "      <td>Cigarro(s)</td>\n",
       "      <td>Grama</td>\n",
       "    </tr>\n",
       "    <tr>\n",
       "      <th>...</th>\n",
       "      <td>...</td>\n",
       "      <td>...</td>\n",
       "      <td>...</td>\n",
       "      <td>...</td>\n",
       "      <td>...</td>\n",
       "      <td>...</td>\n",
       "      <td>...</td>\n",
       "      <td>...</td>\n",
       "      <td>...</td>\n",
       "      <td>...</td>\n",
       "      <td>...</td>\n",
       "      <td>...</td>\n",
       "    </tr>\n",
       "    <tr>\n",
       "      <th>111764</th>\n",
       "      <td>23560467</td>\n",
       "      <td>NaN</td>\n",
       "      <td>NaN</td>\n",
       "      <td>NaN</td>\n",
       "      <td>Drogas</td>\n",
       "      <td>Verde</td>\n",
       "      <td>folhas de maconha</td>\n",
       "      <td>5.000000</td>\n",
       "      <td>0.00</td>\n",
       "      <td>0.0</td>\n",
       "      <td>Não soube informar</td>\n",
       "      <td>Grama</td>\n",
       "    </tr>\n",
       "    <tr>\n",
       "      <th>111765</th>\n",
       "      <td>23745762</td>\n",
       "      <td>NaN</td>\n",
       "      <td>NaN</td>\n",
       "      <td>NaN</td>\n",
       "      <td>Drogas</td>\n",
       "      <td>Branco</td>\n",
       "      <td>uma pequena porção de po branco reagente a coc...</td>\n",
       "      <td>5.000000</td>\n",
       "      <td>0.00</td>\n",
       "      <td>0.0</td>\n",
       "      <td>Porção(es)</td>\n",
       "      <td>Grama</td>\n",
       "    </tr>\n",
       "    <tr>\n",
       "      <th>111766</th>\n",
       "      <td>24076773</td>\n",
       "      <td>NaN</td>\n",
       "      <td>NaN</td>\n",
       "      <td>NaN</td>\n",
       "      <td>Drogas</td>\n",
       "      <td>Branco</td>\n",
       "      <td>VÁRIAS PORÇÕES DE SUBSTÂNCIA BRANCA COM CARACT...</td>\n",
       "      <td>5.000000</td>\n",
       "      <td>0.00</td>\n",
       "      <td>0.0</td>\n",
       "      <td>Porção(es)</td>\n",
       "      <td>Grama</td>\n",
       "    </tr>\n",
       "    <tr>\n",
       "      <th>111767</th>\n",
       "      <td>24076797</td>\n",
       "      <td>NaN</td>\n",
       "      <td>NaN</td>\n",
       "      <td>NaN</td>\n",
       "      <td>Drogas</td>\n",
       "      <td>Verde</td>\n",
       "      <td>VÁRIAS PORÇÕES DE SUBSTÂNCIA ESVERDEADA COM CA...</td>\n",
       "      <td>5.000000</td>\n",
       "      <td>0.00</td>\n",
       "      <td>0.0</td>\n",
       "      <td>Porção(es)</td>\n",
       "      <td>Grama</td>\n",
       "    </tr>\n",
       "    <tr>\n",
       "      <th>111768</th>\n",
       "      <td>24078803</td>\n",
       "      <td>NaN</td>\n",
       "      <td>NaN</td>\n",
       "      <td>NaN</td>\n",
       "      <td>Drogas</td>\n",
       "      <td>Verde</td>\n",
       "      <td>UM GRAMA DE SUBSTÂNCIA VERDE SEMELHANTE À MACO...</td>\n",
       "      <td>5.000000</td>\n",
       "      <td>0.00</td>\n",
       "      <td>0.0</td>\n",
       "      <td>Porção(es)</td>\n",
       "      <td>Grama</td>\n",
       "    </tr>\n",
       "  </tbody>\n",
       "</table>\n",
       "<p>111769 rows × 12 columns</p>\n",
       "</div>"
      ],
      "text/plain": [
       "        CHAVE_OBJETO  ANO_OCOR  NRO_OCOR  NRO_INT_TIPO_OBJETO TXT_TIPO_OBJETO  \\\n",
       "0           22854828    2020.0   12689.0                  5.0         Maconha   \n",
       "1           23347094    2021.0     256.0                  5.0         Maconha   \n",
       "2           19617791    2018.0    5616.0                  5.0         Maconha   \n",
       "3           21056276    2019.0    5040.0                  5.0         Maconha   \n",
       "4           21157903    2019.0    1127.0                  5.0         Maconha   \n",
       "...              ...       ...       ...                  ...             ...   \n",
       "111764      23560467       NaN       NaN                  NaN          Drogas   \n",
       "111765      23745762       NaN       NaN                  NaN          Drogas   \n",
       "111766      24076773       NaN       NaN                  NaN          Drogas   \n",
       "111767      24076797       NaN       NaN                  NaN          Drogas   \n",
       "111768      24078803       NaN       NaN                  NaN          Drogas   \n",
       "\n",
       "       Cor Predominante                                          Descrição  \\\n",
       "0                 Verde        60KG 899 GRAMAS APROXIMADAMENTE DE MACONHA    \n",
       "1                 Verde                  UM VASO COM VÁRIOS PÉS DE MACONHA   \n",
       "2                 Verde                                                NaN   \n",
       "3                 Verde  Bitucas de Vegetal Seco Everdeado - Cigarro Ar...   \n",
       "4                 Verde  UM CIGARRO ARTESANAL DE SUBSTÂNCIA CONHECIDA P...   \n",
       "...                 ...                                                ...   \n",
       "111764            Verde                                  folhas de maconha   \n",
       "111765           Branco  uma pequena porção de po branco reagente a coc...   \n",
       "111766           Branco  VÁRIAS PORÇÕES DE SUBSTÂNCIA BRANCA COM CARACT...   \n",
       "111767            Verde  VÁRIAS PORÇÕES DE SUBSTÂNCIA ESVERDEADA COM CA...   \n",
       "111768            Verde  UM GRAMA DE SUBSTÂNCIA VERDE SEMELHANTE À MACO...   \n",
       "\n",
       "        Peso Total  Peso Unitário  Quantidade de Unidade(s)  \\\n",
       "0        60.889999           2.00                      59.0   \n",
       "1         1.000000           0.00                       1.0   \n",
       "2         0.200000           0.08                       1.0   \n",
       "3         0.400000           0.08                       2.0   \n",
       "4         0.010000           0.08                       1.0   \n",
       "...            ...            ...                       ...   \n",
       "111764    5.000000           0.00                       0.0   \n",
       "111765    5.000000           0.00                       0.0   \n",
       "111766    5.000000           0.00                       0.0   \n",
       "111767    5.000000           0.00                       0.0   \n",
       "111768    5.000000           0.00                       0.0   \n",
       "\n",
       "         Tipo de Embalagem Unidade de Peso  \n",
       "0                Tijolo(s)           Grama  \n",
       "1               Unidade(s)           Grama  \n",
       "2               Cigarro(s)           Grama  \n",
       "3               Cigarro(s)           Grama  \n",
       "4               Cigarro(s)           Grama  \n",
       "...                    ...             ...  \n",
       "111764  Não soube informar           Grama  \n",
       "111765          Porção(es)           Grama  \n",
       "111766          Porção(es)           Grama  \n",
       "111767          Porção(es)           Grama  \n",
       "111768          Porção(es)           Grama  \n",
       "\n",
       "[111769 rows x 12 columns]"
      ]
     },
     "execution_count": 86,
     "metadata": {},
     "output_type": "execute_result"
    }
   ],
   "source": [
    "final"
   ]
  },
  {
   "cell_type": "code",
   "execution_count": 87,
   "metadata": {},
   "outputs": [
    {
     "ename": "FileNotFoundError",
     "evalue": "[Errno 2] No such file or directory: 'Ocorr_2018_2020.csv'",
     "output_type": "error",
     "traceback": [
      "\u001b[1;31m---------------------------------------------------------------------------\u001b[0m",
      "\u001b[1;31mFileNotFoundError\u001b[0m                         Traceback (most recent call last)",
      "\u001b[1;32m~\\AppData\\Local\\Temp/ipykernel_5784/2989783799.py\u001b[0m in \u001b[0;36m<module>\u001b[1;34m\u001b[0m\n\u001b[1;32m----> 1\u001b[1;33m \u001b[0mdados\u001b[0m \u001b[1;33m=\u001b[0m \u001b[0mpd\u001b[0m\u001b[1;33m.\u001b[0m\u001b[0mread_csv\u001b[0m\u001b[1;33m(\u001b[0m\u001b[1;34m'Ocorr_2018_2020.csv'\u001b[0m\u001b[1;33m,\u001b[0m \u001b[0mencoding\u001b[0m \u001b[1;33m=\u001b[0m \u001b[1;34m'latin-1'\u001b[0m\u001b[1;33m,\u001b[0m \u001b[0msep\u001b[0m \u001b[1;33m=\u001b[0m \u001b[1;34m\";\"\u001b[0m\u001b[1;33m)\u001b[0m\u001b[1;33m\u001b[0m\u001b[1;33m\u001b[0m\u001b[0m\n\u001b[0m\u001b[0;32m      2\u001b[0m \u001b[0mdados_restante\u001b[0m \u001b[1;33m=\u001b[0m \u001b[0mpd\u001b[0m\u001b[1;33m.\u001b[0m\u001b[0mread_excel\u001b[0m\u001b[1;33m(\u001b[0m\u001b[1;34m'ocorrencias_restantes.xlsx'\u001b[0m\u001b[1;33m)\u001b[0m\u001b[1;33m\u001b[0m\u001b[1;33m\u001b[0m\u001b[0m\n",
      "\u001b[1;32m~\\Anaconda3\\envs\\projeto_drogas\\lib\\site-packages\\pandas\\util\\_decorators.py\u001b[0m in \u001b[0;36mwrapper\u001b[1;34m(*args, **kwargs)\u001b[0m\n\u001b[0;32m    309\u001b[0m                     \u001b[0mstacklevel\u001b[0m\u001b[1;33m=\u001b[0m\u001b[0mstacklevel\u001b[0m\u001b[1;33m,\u001b[0m\u001b[1;33m\u001b[0m\u001b[1;33m\u001b[0m\u001b[0m\n\u001b[0;32m    310\u001b[0m                 )\n\u001b[1;32m--> 311\u001b[1;33m             \u001b[1;32mreturn\u001b[0m \u001b[0mfunc\u001b[0m\u001b[1;33m(\u001b[0m\u001b[1;33m*\u001b[0m\u001b[0margs\u001b[0m\u001b[1;33m,\u001b[0m \u001b[1;33m**\u001b[0m\u001b[0mkwargs\u001b[0m\u001b[1;33m)\u001b[0m\u001b[1;33m\u001b[0m\u001b[1;33m\u001b[0m\u001b[0m\n\u001b[0m\u001b[0;32m    312\u001b[0m \u001b[1;33m\u001b[0m\u001b[0m\n\u001b[0;32m    313\u001b[0m         \u001b[1;32mreturn\u001b[0m \u001b[0mwrapper\u001b[0m\u001b[1;33m\u001b[0m\u001b[1;33m\u001b[0m\u001b[0m\n",
      "\u001b[1;32m~\\Anaconda3\\envs\\projeto_drogas\\lib\\site-packages\\pandas\\io\\parsers\\readers.py\u001b[0m in \u001b[0;36mread_csv\u001b[1;34m(filepath_or_buffer, sep, delimiter, header, names, index_col, usecols, squeeze, prefix, mangle_dupe_cols, dtype, engine, converters, true_values, false_values, skipinitialspace, skiprows, skipfooter, nrows, na_values, keep_default_na, na_filter, verbose, skip_blank_lines, parse_dates, infer_datetime_format, keep_date_col, date_parser, dayfirst, cache_dates, iterator, chunksize, compression, thousands, decimal, lineterminator, quotechar, quoting, doublequote, escapechar, comment, encoding, encoding_errors, dialect, error_bad_lines, warn_bad_lines, on_bad_lines, delim_whitespace, low_memory, memory_map, float_precision, storage_options)\u001b[0m\n\u001b[0;32m    584\u001b[0m     \u001b[0mkwds\u001b[0m\u001b[1;33m.\u001b[0m\u001b[0mupdate\u001b[0m\u001b[1;33m(\u001b[0m\u001b[0mkwds_defaults\u001b[0m\u001b[1;33m)\u001b[0m\u001b[1;33m\u001b[0m\u001b[1;33m\u001b[0m\u001b[0m\n\u001b[0;32m    585\u001b[0m \u001b[1;33m\u001b[0m\u001b[0m\n\u001b[1;32m--> 586\u001b[1;33m     \u001b[1;32mreturn\u001b[0m \u001b[0m_read\u001b[0m\u001b[1;33m(\u001b[0m\u001b[0mfilepath_or_buffer\u001b[0m\u001b[1;33m,\u001b[0m \u001b[0mkwds\u001b[0m\u001b[1;33m)\u001b[0m\u001b[1;33m\u001b[0m\u001b[1;33m\u001b[0m\u001b[0m\n\u001b[0m\u001b[0;32m    587\u001b[0m \u001b[1;33m\u001b[0m\u001b[0m\n\u001b[0;32m    588\u001b[0m \u001b[1;33m\u001b[0m\u001b[0m\n",
      "\u001b[1;32m~\\Anaconda3\\envs\\projeto_drogas\\lib\\site-packages\\pandas\\io\\parsers\\readers.py\u001b[0m in \u001b[0;36m_read\u001b[1;34m(filepath_or_buffer, kwds)\u001b[0m\n\u001b[0;32m    480\u001b[0m \u001b[1;33m\u001b[0m\u001b[0m\n\u001b[0;32m    481\u001b[0m     \u001b[1;31m# Create the parser.\u001b[0m\u001b[1;33m\u001b[0m\u001b[1;33m\u001b[0m\u001b[1;33m\u001b[0m\u001b[0m\n\u001b[1;32m--> 482\u001b[1;33m     \u001b[0mparser\u001b[0m \u001b[1;33m=\u001b[0m \u001b[0mTextFileReader\u001b[0m\u001b[1;33m(\u001b[0m\u001b[0mfilepath_or_buffer\u001b[0m\u001b[1;33m,\u001b[0m \u001b[1;33m**\u001b[0m\u001b[0mkwds\u001b[0m\u001b[1;33m)\u001b[0m\u001b[1;33m\u001b[0m\u001b[1;33m\u001b[0m\u001b[0m\n\u001b[0m\u001b[0;32m    483\u001b[0m \u001b[1;33m\u001b[0m\u001b[0m\n\u001b[0;32m    484\u001b[0m     \u001b[1;32mif\u001b[0m \u001b[0mchunksize\u001b[0m \u001b[1;32mor\u001b[0m \u001b[0miterator\u001b[0m\u001b[1;33m:\u001b[0m\u001b[1;33m\u001b[0m\u001b[1;33m\u001b[0m\u001b[0m\n",
      "\u001b[1;32m~\\Anaconda3\\envs\\projeto_drogas\\lib\\site-packages\\pandas\\io\\parsers\\readers.py\u001b[0m in \u001b[0;36m__init__\u001b[1;34m(self, f, engine, **kwds)\u001b[0m\n\u001b[0;32m    809\u001b[0m             \u001b[0mself\u001b[0m\u001b[1;33m.\u001b[0m\u001b[0moptions\u001b[0m\u001b[1;33m[\u001b[0m\u001b[1;34m\"has_index_names\"\u001b[0m\u001b[1;33m]\u001b[0m \u001b[1;33m=\u001b[0m \u001b[0mkwds\u001b[0m\u001b[1;33m[\u001b[0m\u001b[1;34m\"has_index_names\"\u001b[0m\u001b[1;33m]\u001b[0m\u001b[1;33m\u001b[0m\u001b[1;33m\u001b[0m\u001b[0m\n\u001b[0;32m    810\u001b[0m \u001b[1;33m\u001b[0m\u001b[0m\n\u001b[1;32m--> 811\u001b[1;33m         \u001b[0mself\u001b[0m\u001b[1;33m.\u001b[0m\u001b[0m_engine\u001b[0m \u001b[1;33m=\u001b[0m \u001b[0mself\u001b[0m\u001b[1;33m.\u001b[0m\u001b[0m_make_engine\u001b[0m\u001b[1;33m(\u001b[0m\u001b[0mself\u001b[0m\u001b[1;33m.\u001b[0m\u001b[0mengine\u001b[0m\u001b[1;33m)\u001b[0m\u001b[1;33m\u001b[0m\u001b[1;33m\u001b[0m\u001b[0m\n\u001b[0m\u001b[0;32m    812\u001b[0m \u001b[1;33m\u001b[0m\u001b[0m\n\u001b[0;32m    813\u001b[0m     \u001b[1;32mdef\u001b[0m \u001b[0mclose\u001b[0m\u001b[1;33m(\u001b[0m\u001b[0mself\u001b[0m\u001b[1;33m)\u001b[0m\u001b[1;33m:\u001b[0m\u001b[1;33m\u001b[0m\u001b[1;33m\u001b[0m\u001b[0m\n",
      "\u001b[1;32m~\\Anaconda3\\envs\\projeto_drogas\\lib\\site-packages\\pandas\\io\\parsers\\readers.py\u001b[0m in \u001b[0;36m_make_engine\u001b[1;34m(self, engine)\u001b[0m\n\u001b[0;32m   1038\u001b[0m             )\n\u001b[0;32m   1039\u001b[0m         \u001b[1;31m# error: Too many arguments for \"ParserBase\"\u001b[0m\u001b[1;33m\u001b[0m\u001b[1;33m\u001b[0m\u001b[1;33m\u001b[0m\u001b[0m\n\u001b[1;32m-> 1040\u001b[1;33m         \u001b[1;32mreturn\u001b[0m \u001b[0mmapping\u001b[0m\u001b[1;33m[\u001b[0m\u001b[0mengine\u001b[0m\u001b[1;33m]\u001b[0m\u001b[1;33m(\u001b[0m\u001b[0mself\u001b[0m\u001b[1;33m.\u001b[0m\u001b[0mf\u001b[0m\u001b[1;33m,\u001b[0m \u001b[1;33m**\u001b[0m\u001b[0mself\u001b[0m\u001b[1;33m.\u001b[0m\u001b[0moptions\u001b[0m\u001b[1;33m)\u001b[0m  \u001b[1;31m# type: ignore[call-arg]\u001b[0m\u001b[1;33m\u001b[0m\u001b[1;33m\u001b[0m\u001b[0m\n\u001b[0m\u001b[0;32m   1041\u001b[0m \u001b[1;33m\u001b[0m\u001b[0m\n\u001b[0;32m   1042\u001b[0m     \u001b[1;32mdef\u001b[0m \u001b[0m_failover_to_python\u001b[0m\u001b[1;33m(\u001b[0m\u001b[0mself\u001b[0m\u001b[1;33m)\u001b[0m\u001b[1;33m:\u001b[0m\u001b[1;33m\u001b[0m\u001b[1;33m\u001b[0m\u001b[0m\n",
      "\u001b[1;32m~\\Anaconda3\\envs\\projeto_drogas\\lib\\site-packages\\pandas\\io\\parsers\\c_parser_wrapper.py\u001b[0m in \u001b[0;36m__init__\u001b[1;34m(self, src, **kwds)\u001b[0m\n\u001b[0;32m     49\u001b[0m \u001b[1;33m\u001b[0m\u001b[0m\n\u001b[0;32m     50\u001b[0m         \u001b[1;31m# open handles\u001b[0m\u001b[1;33m\u001b[0m\u001b[1;33m\u001b[0m\u001b[1;33m\u001b[0m\u001b[0m\n\u001b[1;32m---> 51\u001b[1;33m         \u001b[0mself\u001b[0m\u001b[1;33m.\u001b[0m\u001b[0m_open_handles\u001b[0m\u001b[1;33m(\u001b[0m\u001b[0msrc\u001b[0m\u001b[1;33m,\u001b[0m \u001b[0mkwds\u001b[0m\u001b[1;33m)\u001b[0m\u001b[1;33m\u001b[0m\u001b[1;33m\u001b[0m\u001b[0m\n\u001b[0m\u001b[0;32m     52\u001b[0m         \u001b[1;32massert\u001b[0m \u001b[0mself\u001b[0m\u001b[1;33m.\u001b[0m\u001b[0mhandles\u001b[0m \u001b[1;32mis\u001b[0m \u001b[1;32mnot\u001b[0m \u001b[1;32mNone\u001b[0m\u001b[1;33m\u001b[0m\u001b[1;33m\u001b[0m\u001b[0m\n\u001b[0;32m     53\u001b[0m \u001b[1;33m\u001b[0m\u001b[0m\n",
      "\u001b[1;32m~\\Anaconda3\\envs\\projeto_drogas\\lib\\site-packages\\pandas\\io\\parsers\\base_parser.py\u001b[0m in \u001b[0;36m_open_handles\u001b[1;34m(self, src, kwds)\u001b[0m\n\u001b[0;32m    220\u001b[0m         \u001b[0mLet\u001b[0m \u001b[0mthe\u001b[0m \u001b[0mreaders\u001b[0m \u001b[0mopen\u001b[0m \u001b[0mIOHandles\u001b[0m \u001b[0mafter\u001b[0m \u001b[0mthey\u001b[0m \u001b[0mare\u001b[0m \u001b[0mdone\u001b[0m \u001b[1;32mwith\u001b[0m \u001b[0mtheir\u001b[0m \u001b[0mpotential\u001b[0m \u001b[0mraises\u001b[0m\u001b[1;33m.\u001b[0m\u001b[1;33m\u001b[0m\u001b[1;33m\u001b[0m\u001b[0m\n\u001b[0;32m    221\u001b[0m         \"\"\"\n\u001b[1;32m--> 222\u001b[1;33m         self.handles = get_handle(\n\u001b[0m\u001b[0;32m    223\u001b[0m             \u001b[0msrc\u001b[0m\u001b[1;33m,\u001b[0m\u001b[1;33m\u001b[0m\u001b[1;33m\u001b[0m\u001b[0m\n\u001b[0;32m    224\u001b[0m             \u001b[1;34m\"r\"\u001b[0m\u001b[1;33m,\u001b[0m\u001b[1;33m\u001b[0m\u001b[1;33m\u001b[0m\u001b[0m\n",
      "\u001b[1;32m~\\Anaconda3\\envs\\projeto_drogas\\lib\\site-packages\\pandas\\io\\common.py\u001b[0m in \u001b[0;36mget_handle\u001b[1;34m(path_or_buf, mode, encoding, compression, memory_map, is_text, errors, storage_options)\u001b[0m\n\u001b[0;32m    699\u001b[0m         \u001b[1;32mif\u001b[0m \u001b[0mioargs\u001b[0m\u001b[1;33m.\u001b[0m\u001b[0mencoding\u001b[0m \u001b[1;32mand\u001b[0m \u001b[1;34m\"b\"\u001b[0m \u001b[1;32mnot\u001b[0m \u001b[1;32min\u001b[0m \u001b[0mioargs\u001b[0m\u001b[1;33m.\u001b[0m\u001b[0mmode\u001b[0m\u001b[1;33m:\u001b[0m\u001b[1;33m\u001b[0m\u001b[1;33m\u001b[0m\u001b[0m\n\u001b[0;32m    700\u001b[0m             \u001b[1;31m# Encoding\u001b[0m\u001b[1;33m\u001b[0m\u001b[1;33m\u001b[0m\u001b[1;33m\u001b[0m\u001b[0m\n\u001b[1;32m--> 701\u001b[1;33m             handle = open(\n\u001b[0m\u001b[0;32m    702\u001b[0m                 \u001b[0mhandle\u001b[0m\u001b[1;33m,\u001b[0m\u001b[1;33m\u001b[0m\u001b[1;33m\u001b[0m\u001b[0m\n\u001b[0;32m    703\u001b[0m                 \u001b[0mioargs\u001b[0m\u001b[1;33m.\u001b[0m\u001b[0mmode\u001b[0m\u001b[1;33m,\u001b[0m\u001b[1;33m\u001b[0m\u001b[1;33m\u001b[0m\u001b[0m\n",
      "\u001b[1;31mFileNotFoundError\u001b[0m: [Errno 2] No such file or directory: 'Ocorr_2018_2020.csv'"
     ]
    }
   ],
   "source": [
    "dados = pd.read_csv('Ocorr_2018_2020.csv', encoding = 'latin-1', sep = \";\")\n",
    "dados_restante = pd.read_excel('ocorrencias_restantes.xlsx')"
   ]
  },
  {
   "cell_type": "code",
   "execution_count": null,
   "metadata": {},
   "outputs": [],
   "source": [
    "dados.columns"
   ]
  },
  {
   "cell_type": "code",
   "execution_count": null,
   "metadata": {},
   "outputs": [],
   "source": [
    "dados_restante = dados_restante[['Nro Ocor', 'Ano Registro', 'Orgão Registro', 'Orgão Carga',\n",
    "       'Data Registro', 'Hora Registro', 'Data Fato', 'Hora Fato',\n",
    "       'Dia da Semana', 'Codigo Fato', 'Descr Fato', 'Grupo Fato SSP',\n",
    "       'Grupo Fato RS SEGURO', 'Tipo Fato', 'Flagrante', 'Município',\n",
    "       'Nro Interno Ocorrência', 'Latitude', 'Longitude', 'Qtde Ocorrências',\n",
    "       'Qtde Vitimas Mortas']]"
   ]
  },
  {
   "cell_type": "code",
   "execution_count": null,
   "metadata": {},
   "outputs": [],
   "source": [
    "lista = [dados, dados_restante]\n",
    "dados = pd.concat(lista)\n",
    "dados = dados.reset_index(drop=True)"
   ]
  },
  {
   "cell_type": "code",
   "execution_count": null,
   "metadata": {},
   "outputs": [],
   "source": [
    "dados['Nro Ocor'] = dados['Nro Ocor'].astype(int)"
   ]
  },
  {
   "cell_type": "code",
   "execution_count": null,
   "metadata": {},
   "outputs": [],
   "source": [
    "dados.columns"
   ]
  },
  {
   "cell_type": "code",
   "execution_count": null,
   "metadata": {},
   "outputs": [],
   "source": [
    "#dados = dados[dados['Nro Ocor'].isin(final['NUMERO'])]\n",
    "#dados = dados.reset_index(drop=True)"
   ]
  },
  {
   "cell_type": "code",
   "execution_count": null,
   "metadata": {},
   "outputs": [],
   "source": [
    "dados = dados[['Nro Ocor', 'Ano Registro', 'Orgão Registro', 'Orgão Carga', 'Data Registro', 'Data Fato', 'Hora Registro', 'Hora Fato', 'Dia da Semana','Descr Fato', 'Tipo Fato','Flagrante','Município','Latitude', 'Longitude']]"
   ]
  },
  {
   "cell_type": "code",
   "execution_count": null,
   "metadata": {},
   "outputs": [],
   "source": [
    "final = final.rename(columns={'NUMERO':'Nro Ocor', 'ANO':'Ano Registro', 'ÓRGÃO':'Orgão Registro'})"
   ]
  },
  {
   "cell_type": "code",
   "execution_count": null,
   "metadata": {},
   "outputs": [],
   "source": [
    "final['Orgão Registro'] =final['Orgão Registro'].astype(int)\n",
    "final['Ano Registro'] = final['Ano Registro'].astype(int)\n",
    "dados['Orgão Registro'] =dados['Orgão Registro'].astype(int)\n",
    "dados['Ano Registro'] = dados['Ano Registro'].astype(int)"
   ]
  },
  {
   "cell_type": "code",
   "execution_count": null,
   "metadata": {},
   "outputs": [],
   "source": [
    "final.shape"
   ]
  },
  {
   "cell_type": "code",
   "execution_count": null,
   "metadata": {},
   "outputs": [],
   "source": [
    "dados.shape"
   ]
  },
  {
   "cell_type": "code",
   "execution_count": null,
   "metadata": {},
   "outputs": [],
   "source": [
    "dois = pd.merge(final, dados, how='left', left_on=['Ano Registro','Orgão Registro','Nro Ocor'], right_on=['Ano Registro','Orgão Registro', 'Nro Ocor'])"
   ]
  },
  {
   "cell_type": "code",
   "execution_count": null,
   "metadata": {},
   "outputs": [],
   "source": [
    "dois.shape"
   ]
  },
  {
   "cell_type": "code",
   "execution_count": null,
   "metadata": {},
   "outputs": [],
   "source": [
    "dois"
   ]
  },
  {
   "cell_type": "code",
   "execution_count": null,
   "metadata": {},
   "outputs": [],
   "source": [
    "semdata = dois.loc[dois['Data Fato'].isnull()]"
   ]
  },
  {
   "cell_type": "code",
   "execution_count": null,
   "metadata": {},
   "outputs": [],
   "source": [
    "semdata = semdata.reset_index(drop=True)"
   ]
  },
  {
   "cell_type": "code",
   "execution_count": null,
   "metadata": {},
   "outputs": [],
   "source": [
    "semdata.to_excel('Drogas_semData.xlsx')"
   ]
  },
  {
   "cell_type": "code",
   "execution_count": null,
   "metadata": {},
   "outputs": [],
   "source": [
    "dois['Peso Total'].sum()"
   ]
  },
  {
   "cell_type": "code",
   "execution_count": null,
   "metadata": {},
   "outputs": [],
   "source": [
    "res = dois.dropna(subset=['Data Fato'])\n",
    "res.shape"
   ]
  },
  {
   "cell_type": "code",
   "execution_count": null,
   "metadata": {},
   "outputs": [],
   "source": [
    "res = res.reset_index(drop = True)"
   ]
  },
  {
   "cell_type": "code",
   "execution_count": null,
   "metadata": {},
   "outputs": [],
   "source": [
    "res['Data Fato'] = pd.to_datetime(res['Data Fato'])"
   ]
  },
  {
   "cell_type": "code",
   "execution_count": null,
   "metadata": {},
   "outputs": [],
   "source": [
    "res.to_csv('drogas_final.csv')"
   ]
  },
  {
   "cell_type": "code",
   "execution_count": null,
   "metadata": {},
   "outputs": [],
   "source": [
    "res.to_excel('drogas_final.xlsx')"
   ]
  },
  {
   "cell_type": "code",
   "execution_count": null,
   "metadata": {},
   "outputs": [],
   "source": []
  },
  {
   "cell_type": "code",
   "execution_count": null,
   "metadata": {},
   "outputs": [],
   "source": [
    "############### CORTES TEMPORAIS ###################\n",
    "dados = res"
   ]
  },
  {
   "cell_type": "code",
   "execution_count": null,
   "metadata": {},
   "outputs": [],
   "source": [
    "# CORTE DO PERÍODO # \n",
    "corteI = pd.Timestamp(year=2018, month=8, day=31, hour=0)\n",
    "corteF = pd.Timestamp(year=2020, month=9, day=1, hour=0)\n",
    "dados = dados.loc[dados['Data Fato'] > corteI]\n",
    "dados = dados.loc[dados['Data Fato'] < corteF]\n",
    "dados['CRIME'] = dados['Peso Total']"
   ]
  },
  {
   "cell_type": "code",
   "execution_count": null,
   "metadata": {},
   "outputs": [],
   "source": [
    "dados.shape"
   ]
  },
  {
   "cell_type": "code",
   "execution_count": null,
   "metadata": {},
   "outputs": [],
   "source": [
    "CVLI = dados\n",
    "CVLI = CVLI.loc[CVLI['TXT_TIPO_OBJETO'] == \"Crack\"]\n",
    "CVLI = CVLI.reset_index(drop=True)"
   ]
  },
  {
   "cell_type": "code",
   "execution_count": null,
   "metadata": {},
   "outputs": [],
   "source": [
    "# CORTES SET/2018 ATÉ AGO/2019 #\n",
    "corte_setI = pd.Timestamp(year=2018, month=8, day=31, hour=0)\n",
    "corte_setF = pd.Timestamp(year=2018, month=10, day=1, hour=0)\n",
    "CVLI_set = CVLI.loc[CVLI['Data Fato'] > corte_setI]\n",
    "CVLI_set = CVLI_set.loc[CVLI_set['Data Fato'] < corte_setF]\n",
    "CVLI_set18 = CVLI_set.reset_index(drop=True)\n",
    "\n",
    "corte_I = pd.Timestamp(year=2018, month=9, day=30, hour=0)\n",
    "corte_F = pd.Timestamp(year=2018, month=11, day=1, hour=0)\n",
    "CVLI_out = CVLI.loc[CVLI['Data Fato'] > corte_I]\n",
    "CVLI_out = CVLI_out.loc[CVLI_out['Data Fato'] < corte_F]\n",
    "CVLI_out18 = CVLI_out.reset_index(drop=True)\n",
    "\n",
    "corte_I = pd.Timestamp(year=2018, month=10, day=31, hour=0)\n",
    "corte_F = pd.Timestamp(year=2018, month=12, day=1, hour=0)\n",
    "CVLI_nov = CVLI.loc[CVLI['Data Fato'] > corte_I]\n",
    "CVLI_nov = CVLI_nov.loc[CVLI_nov['Data Fato'] < corte_F]\n",
    "CVLI_nov18 = CVLI_nov.reset_index(drop=True)\n",
    "\n",
    "corte_I = pd.Timestamp(year=2018, month=11, day=30, hour=0)\n",
    "corte_F = pd.Timestamp(year=2019, month=1, day=1, hour=0)\n",
    "CVLI_dez = CVLI.loc[CVLI['Data Fato'] > corte_I]\n",
    "CVLI_dez = CVLI_dez.loc[CVLI_dez['Data Fato'] < corte_F]\n",
    "CVLI_dez18 = CVLI_dez.reset_index(drop=True)\n",
    "\n",
    "corte_I = pd.Timestamp(year=2018, month=12, day=31, hour=0)\n",
    "corte_F = pd.Timestamp(year=2019, month=2, day=1, hour=0)\n",
    "CVLI_jan = CVLI.loc[CVLI['Data Fato'] > corte_I]\n",
    "CVLI_jan = CVLI_jan.loc[CVLI_jan['Data Fato'] < corte_F]\n",
    "CVLI_jan19 = CVLI_jan.reset_index(drop=True)\n",
    "\n",
    "corte_I = pd.Timestamp(year=2019, month=1, day=31, hour=0)\n",
    "corte_F = pd.Timestamp(year=2019, month=3, day=1, hour=0)\n",
    "CVLI_fev = CVLI.loc[CVLI['Data Fato'] > corte_I]\n",
    "CVLI_fev = CVLI_fev.loc[CVLI_fev['Data Fato'] < corte_F]\n",
    "CVLI_fev19 = CVLI_fev.reset_index(drop=True)\n",
    "\n",
    "corte_I = pd.Timestamp(year=2019, month=2, day=28, hour=0)\n",
    "corte_F = pd.Timestamp(year=2019, month=4, day=1, hour=0)\n",
    "CVLI_mar = CVLI.loc[CVLI['Data Fato'] > corte_I]\n",
    "CVLI_mar = CVLI_mar.loc[CVLI_mar['Data Fato'] < corte_F]\n",
    "CVLI_mar19 = CVLI_mar.reset_index(drop=True)\n",
    "\n",
    "corte_I = pd.Timestamp(year=2019, month=3, day=31, hour=0)\n",
    "corte_F = pd.Timestamp(year=2019, month=5, day=1, hour=0)\n",
    "CVLI_abr = CVLI.loc[CVLI['Data Fato'] > corte_I]\n",
    "CVLI_abr = CVLI_abr.loc[CVLI_abr['Data Fato'] < corte_F]\n",
    "CVLI_abr19 = CVLI_abr.reset_index(drop=True)\n",
    "\n",
    "corte_I = pd.Timestamp(year=2019, month=4, day=30, hour=0)\n",
    "corte_F = pd.Timestamp(year=2019, month=6, day=1, hour=0)\n",
    "CVLI_mai = CVLI.loc[CVLI['Data Fato'] > corte_I]\n",
    "CVLI_mai = CVLI_mai.loc[CVLI_mai['Data Fato'] < corte_F]\n",
    "CVLI_mai19 = CVLI_mai.reset_index(drop=True)\n",
    "\n",
    "\n",
    "corte_I = pd.Timestamp(year=2019, month=5, day=30, hour=0)\n",
    "corte_F = pd.Timestamp(year=2019, month=7, day=1, hour=0)\n",
    "CVLI_jun = CVLI.loc[CVLI['Data Fato'] > corte_I]\n",
    "CVLI_jun = CVLI_jun.loc[CVLI_jun['Data Fato'] < corte_F]\n",
    "CVLI_jun19 = CVLI_jun.reset_index(drop=True)\n",
    "\n",
    "\n",
    "corte_I = pd.Timestamp(year=2019, month=6, day=30, hour=0)\n",
    "corte_F = pd.Timestamp(year=2019, month=8, day=1, hour=0)\n",
    "CVLI_jul = CVLI.loc[CVLI['Data Fato'] > corte_I]\n",
    "CVLI_jul = CVLI_jul.loc[CVLI_jul['Data Fato'] < corte_F]\n",
    "CVLI_jul19 = CVLI_jul.reset_index(drop=True)\n",
    "\n",
    "\n",
    "corte_I = pd.Timestamp(year=2019, month=7, day=31, hour=0)\n",
    "corte_F = pd.Timestamp(year=2019, month=9, day=1, hour=0)\n",
    "CVLI_ago = CVLI.loc[CVLI['Data Fato'] > corte_I]\n",
    "CVLI_ago = CVLI_ago.loc[CVLI_ago['Data Fato'] < corte_F]\n",
    "CVLI_ago19 = CVLI_ago.reset_index(drop=True)\n",
    "\n",
    "\n",
    "# CORTES SET/2019 ATÉ AGO/2020 #\n",
    "corte_setI = pd.Timestamp(year=2019, month=8, day=31, hour=0)\n",
    "corte_setF = pd.Timestamp(year=2019, month=10, day=1, hour=0)\n",
    "CVLI_set = CVLI.loc[CVLI['Data Fato'] > corte_setI]\n",
    "CVLI_set = CVLI_set.loc[CVLI_set['Data Fato'] < corte_setF]\n",
    "CVLI_set19 = CVLI_set.reset_index(drop=True)\n",
    "\n",
    "corte_I = pd.Timestamp(year=2019, month=9, day=30, hour=0)\n",
    "corte_F = pd.Timestamp(year=2019, month=11, day=1, hour=0)\n",
    "CVLI_out = CVLI.loc[CVLI['Data Fato'] > corte_I]\n",
    "CVLI_out = CVLI_out.loc[CVLI_out['Data Fato'] < corte_F]\n",
    "CVLI_out19 = CVLI_out.reset_index(drop=True)\n",
    "\n",
    "corte_I = pd.Timestamp(year=2019, month=10, day=31, hour=0)\n",
    "corte_F = pd.Timestamp(year=2019, month=12, day=1, hour=0)\n",
    "CVLI_nov = CVLI.loc[CVLI['Data Fato'] > corte_I]\n",
    "CVLI_nov = CVLI_nov.loc[CVLI_nov['Data Fato'] < corte_F]\n",
    "CVLI_nov19 = CVLI_nov.reset_index(drop=True)\n",
    "\n",
    "corte_I = pd.Timestamp(year=2019, month=11, day=30, hour=0)\n",
    "corte_F = pd.Timestamp(year=2020, month=1, day=1, hour=0)\n",
    "CVLI_dez = CVLI.loc[CVLI['Data Fato'] > corte_I]\n",
    "CVLI_dez = CVLI_dez.loc[CVLI_dez['Data Fato'] < corte_F]\n",
    "CVLI_dez19 = CVLI_dez.reset_index(drop=True)\n",
    "\n",
    "corte_I = pd.Timestamp(year=2019, month=12, day=31, hour=0)\n",
    "corte_F = pd.Timestamp(year=2020, month=2, day=1, hour=0)\n",
    "CVLI_jan = CVLI.loc[CVLI['Data Fato'] > corte_I]\n",
    "CVLI_jan = CVLI_jan.loc[CVLI_jan['Data Fato'] < corte_F]\n",
    "CVLI_jan20 = CVLI_jan.reset_index(drop=True)\n",
    "\n",
    "corte_I = pd.Timestamp(year=2020, month=1, day=31, hour=0)\n",
    "corte_F = pd.Timestamp(year=2020, month=3, day=1, hour=0)\n",
    "CVLI_fev = CVLI.loc[CVLI['Data Fato'] > corte_I]\n",
    "CVLI_fev = CVLI_fev.loc[CVLI_fev['Data Fato'] < corte_F]\n",
    "CVLI_fev20 = CVLI_fev.reset_index(drop=True)\n",
    "\n",
    "corte_I = pd.Timestamp(year=2020, month=2, day=29, hour=0)\n",
    "corte_F = pd.Timestamp(year=2020, month=4, day=1, hour=0)\n",
    "CVLI_mar = CVLI.loc[CVLI['Data Fato'] > corte_I]\n",
    "CVLI_mar = CVLI_mar.loc[CVLI_mar['Data Fato'] < corte_F]\n",
    "CVLI_mar20 = CVLI_mar.reset_index(drop=True)\n",
    "\n",
    "corte_I = pd.Timestamp(year=2020, month=3, day=31, hour=0)\n",
    "corte_F = pd.Timestamp(year=2020, month=5, day=1, hour=0)\n",
    "CVLI_abr = CVLI.loc[CVLI['Data Fato'] > corte_I]\n",
    "CVLI_abr = CVLI_abr.loc[CVLI_abr['Data Fato'] < corte_F]\n",
    "CVLI_abr20 = CVLI_abr.reset_index(drop=True)\n",
    "\n",
    "corte_I = pd.Timestamp(year=2020, month=4, day=30, hour=0)\n",
    "corte_F = pd.Timestamp(year=2020, month=6, day=1, hour=0)\n",
    "CVLI_mai = CVLI.loc[CVLI['Data Fato'] > corte_I]\n",
    "CVLI_mai = CVLI_mai.loc[CVLI_mai['Data Fato'] < corte_F]\n",
    "CVLI_mai20 = CVLI_mai.reset_index(drop=True)\n",
    "\n",
    "\n",
    "corte_I = pd.Timestamp(year=2020, month=5, day=30, hour=0)\n",
    "corte_F = pd.Timestamp(year=2020, month=7, day=1, hour=0)\n",
    "CVLI_jun = CVLI.loc[CVLI['Data Fato'] > corte_I]\n",
    "CVLI_jun = CVLI_jun.loc[CVLI_jun['Data Fato'] < corte_F]\n",
    "CVLI_jun20 = CVLI_jun.reset_index(drop=True)\n",
    "\n",
    "\n",
    "corte_I = pd.Timestamp(year=2020, month=6, day=30, hour=0)\n",
    "corte_F = pd.Timestamp(year=2020, month=8, day=1, hour=0)\n",
    "CVLI_jul = CVLI.loc[CVLI['Data Fato'] > corte_I]\n",
    "CVLI_jul = CVLI_jul.loc[CVLI_jul['Data Fato'] < corte_F]\n",
    "CVLI_jul20 = CVLI_jul.reset_index(drop=True)\n",
    "\n",
    "\n",
    "corte_I = pd.Timestamp(year=2020, month=7, day=31, hour=0)\n",
    "corte_F = pd.Timestamp(year=2020, month=9, day=1, hour=0)\n",
    "CVLI_ago = CVLI.loc[CVLI['Data Fato'] > corte_I]\n",
    "CVLI_ago = CVLI_ago.loc[CVLI_ago['Data Fato'] < corte_F]\n",
    "CVLI_ago20 = CVLI_ago.reset_index(drop=True)\n",
    "\n",
    "\n",
    "CVLI_set2 = CVLI_set18.groupby(by='Município').sum()\n",
    "CVLI_set2 = CVLI_set2.reset_index()\n",
    "CVLI_set2 = CVLI_set2[['Município','CRIME']]\n",
    "CVLI_set18 = CVLI_set2.reset_index(drop=True)\n",
    "\n",
    "CVLI_out2 = CVLI_out18.groupby(by='Município').sum()\n",
    "CVLI_out2 = CVLI_out2.reset_index()\n",
    "CVLI_out2 = CVLI_out2[['Município','CRIME']]\n",
    "CVLI_out18 = CVLI_out2.reset_index(drop=True)\n",
    "\n",
    "CVLI_nov2 = CVLI_nov18.groupby(by='Município').sum()\n",
    "CVLI_nov2 = CVLI_nov2.reset_index()\n",
    "CVLI_nov2 = CVLI_nov2[['Município','CRIME']]\n",
    "CVLI_nov18 = CVLI_nov2.reset_index(drop=True)\n",
    "\n",
    "CVLI_dez2 = CVLI_dez18.groupby(by='Município').sum()\n",
    "CVLI_dez2 = CVLI_dez2.reset_index()\n",
    "CVLI_dez2 = CVLI_dez2[['Município','CRIME']]\n",
    "CVLI_dez18 = CVLI_dez2.reset_index(drop=True)\n",
    "\n",
    "CVLI_jan2 = CVLI_jan19.groupby(by='Município').sum()\n",
    "CVLI_jan2 = CVLI_jan2.reset_index()\n",
    "CVLI_jan2 = CVLI_jan2[['Município','CRIME']]\n",
    "CVLI_jan19 = CVLI_jan2.reset_index(drop=True)\n",
    "\n",
    "CVLI_fev2 = CVLI_fev19.groupby(by='Município').sum()\n",
    "CVLI_fev2 = CVLI_fev2.reset_index()\n",
    "CVLI_fev2 = CVLI_fev2[['Município','CRIME']]\n",
    "CVLI_fev19 = CVLI_fev2.reset_index(drop=True)\n",
    "\n",
    "CVLI_mar2 = CVLI_mar19.groupby(by='Município').sum()\n",
    "CVLI_mar2 = CVLI_mar2.reset_index()\n",
    "CVLI_mar2 = CVLI_mar2[['Município','CRIME']]\n",
    "CVLI_mar19 = CVLI_mar2.reset_index(drop=True)\n",
    "\n",
    "CVLI_abr2 = CVLI_abr19.groupby(by='Município').sum()\n",
    "CVLI_abr2 = CVLI_abr2.reset_index()\n",
    "CVLI_abr2 = CVLI_abr2[['Município','CRIME']]\n",
    "CVLI_abr19 = CVLI_abr2.reset_index(drop=True)\n",
    "\n",
    "CVLI_mai2 = CVLI_mai19.groupby(by='Município').sum()\n",
    "CVLI_mai2 = CVLI_mai2.reset_index()\n",
    "CVLI_mai2 = CVLI_mai2[['Município','CRIME']]\n",
    "CVLI_mai19 = CVLI_mai2.reset_index(drop=True)\n",
    "\n",
    "CVLI_jun2 = CVLI_jun19.groupby(by='Município').sum()\n",
    "CVLI_jun2 = CVLI_jun2.reset_index()\n",
    "CVLI_jun2 = CVLI_jun2[['Município','CRIME']]\n",
    "CVLI_jun19 = CVLI_jun2.reset_index(drop=True)\n",
    "\n",
    "CVLI_jul2 = CVLI_jul19.groupby(by='Município').sum()\n",
    "CVLI_jul2 = CVLI_jul2.reset_index()\n",
    "CVLI_jul2 = CVLI_jul2[['Município','CRIME']]\n",
    "CVLI_jul19 = CVLI_jul2.reset_index(drop=True)\n",
    "\n",
    "CVLI_ago2 = CVLI_ago19.groupby(by='Município').sum()\n",
    "CVLI_ago2 = CVLI_ago2.reset_index()\n",
    "CVLI_ago2 = CVLI_ago2[['Município','CRIME']]\n",
    "CVLI_ago19 = CVLI_ago2.reset_index(drop=True)\n",
    "\n",
    "CVLI_set2 = CVLI_set19.groupby(by='Município').sum()\n",
    "CVLI_set2 = CVLI_set2.reset_index()\n",
    "CVLI_set2 = CVLI_set2[['Município','CRIME']]\n",
    "CVLI_set19 = CVLI_set2.reset_index(drop=True)\n",
    "\n",
    "CVLI_out2 = CVLI_out19.groupby(by='Município').sum()\n",
    "CVLI_out2 = CVLI_out2.reset_index()\n",
    "CVLI_out2 = CVLI_out2[['Município','CRIME']]\n",
    "CVLI_out19 = CVLI_out2.reset_index(drop=True)\n",
    "\n",
    "CVLI_nov2 = CVLI_nov19.groupby(by='Município').sum()\n",
    "CVLI_nov2 = CVLI_nov2.reset_index()\n",
    "CVLI_nov2 = CVLI_nov2[['Município','CRIME']]\n",
    "CVLI_nov19 = CVLI_nov2.reset_index(drop=True)\n",
    "\n",
    "CVLI_dez2 = CVLI_dez19.groupby(by='Município').sum()\n",
    "CVLI_dez2 = CVLI_dez2.reset_index()\n",
    "CVLI_dez2 = CVLI_dez2[['Município','CRIME']]\n",
    "CVLI_dez19 = CVLI_dez2.reset_index(drop=True)\n",
    "\n",
    "CVLI_jan2 = CVLI_jan20.groupby(by='Município').sum()\n",
    "CVLI_jan2 = CVLI_jan2.reset_index()\n",
    "CVLI_jan2 = CVLI_jan2[['Município','CRIME']]\n",
    "CVLI_jan20 = CVLI_jan2.reset_index(drop=True)\n",
    "\n",
    "CVLI_fev2 = CVLI_fev20.groupby(by='Município').sum()\n",
    "CVLI_fev2 = CVLI_fev2.reset_index()\n",
    "CVLI_fev2 = CVLI_fev2[['Município','CRIME']]\n",
    "CVLI_fev20 = CVLI_fev2.reset_index(drop=True)\n",
    "\n",
    "CVLI_mar2 = CVLI_mar20.groupby(by='Município').sum()\n",
    "CVLI_mar2 = CVLI_mar2.reset_index()\n",
    "CVLI_mar2 = CVLI_mar2[['Município','CRIME']]\n",
    "CVLI_mar20 = CVLI_mar2.reset_index(drop=True)\n",
    "\n",
    "CVLI_abr2 = CVLI_abr20.groupby(by='Município').sum()\n",
    "CVLI_abr2 = CVLI_abr2.reset_index()\n",
    "CVLI_abr2 = CVLI_abr2[['Município','CRIME']]\n",
    "CVLI_abr20 = CVLI_abr2.reset_index(drop=True)\n",
    "\n",
    "CVLI_mai2 = CVLI_mai20.groupby(by='Município').sum()\n",
    "CVLI_mai2 = CVLI_mai2.reset_index()\n",
    "CVLI_mai2 = CVLI_mai2[['Município','CRIME']]\n",
    "CVLI_mai20 = CVLI_mai2.reset_index(drop=True)\n",
    "\n",
    "CVLI_jun2 = CVLI_jun20.groupby(by='Município').sum()\n",
    "CVLI_jun2 = CVLI_jun2.reset_index()\n",
    "CVLI_jun2 = CVLI_jun2[['Município','CRIME']]\n",
    "CVLI_jun20 = CVLI_jun2.reset_index(drop=True)\n",
    "\n",
    "CVLI_jul2 = CVLI_jul20.groupby(by='Município').sum()\n",
    "CVLI_jul2 = CVLI_jul2.reset_index()\n",
    "CVLI_jul2 = CVLI_jul2[['Município','CRIME']]\n",
    "CVLI_jul20 = CVLI_jul2.reset_index(drop=True)\n",
    "\n",
    "CVLI_ago2 = CVLI_ago20.groupby(by='Município').sum()\n",
    "CVLI_ago2 = CVLI_ago2.reset_index()\n",
    "CVLI_ago2 = CVLI_ago2[['Município','CRIME']]\n",
    "CVLI_ago20 = CVLI_ago2.reset_index(drop=True)\n",
    "\n",
    "# CIDADES RS SEGURO #\n",
    "cidades = pd.read_excel('cidades.xlsx')\n",
    "\n",
    "resultado = pd.merge(cidades, CVLI_set18, how=\"left\", on='Município')\n",
    "resultado = resultado.rename(columns={'CRIME':'Setembro-18'})\n",
    "\n",
    "resultado = pd.merge(resultado, CVLI_out18, how=\"left\", on='Município')\n",
    "resultado = resultado.rename(columns={'CRIME':'Outubro-18'})\n",
    "\n",
    "resultado = pd.merge(resultado, CVLI_nov18, how=\"left\", on='Município')\n",
    "resultado = resultado.rename(columns={'CRIME':'Novembro-18'})\n",
    "\n",
    "resultado = pd.merge(resultado, CVLI_dez18, how=\"left\", on='Município')\n",
    "resultado = resultado.rename(columns={'CRIME':'Dezembro-18'})\n",
    "\n",
    "resultado = pd.merge(resultado, CVLI_jan19, how=\"left\", on='Município')\n",
    "resultado = resultado.rename(columns={'CRIME':'Janeiro-19'})\n",
    "\n",
    "resultado = pd.merge(resultado, CVLI_fev19, how=\"left\", on='Município')\n",
    "resultado = resultado.rename(columns={'CRIME':'Fevereiro-19'})\n",
    "\n",
    "resultado = pd.merge(resultado, CVLI_mar19, how=\"left\", on='Município')\n",
    "resultado = resultado.rename(columns={'CRIME':'Março-19'})\n",
    "\n",
    "resultado = pd.merge(resultado, CVLI_abr19, how=\"left\", on='Município')\n",
    "resultado = resultado.rename(columns={'CRIME':'Abril-19'})\n",
    "\n",
    "resultado = pd.merge(resultado, CVLI_mai19, how=\"left\", on='Município')\n",
    "resultado = resultado.rename(columns={'CRIME':'Maio-19'})\n",
    "\n",
    "resultado = pd.merge(resultado, CVLI_jun19, how=\"left\", on='Município')\n",
    "resultado = resultado.rename(columns={'CRIME':'Junho-19'})\n",
    "\n",
    "resultado = pd.merge(resultado, CVLI_jul19, how=\"left\", on='Município')\n",
    "resultado = resultado.rename(columns={'CRIME':'Julho-19'})\n",
    "\n",
    "resultado = pd.merge(resultado, CVLI_ago19, how=\"left\", on='Município')\n",
    "resultado = resultado.rename(columns={'CRIME':'Agosto-19'})\n",
    "\n",
    "resultado = pd.merge(resultado, CVLI_set19, how=\"left\", on='Município')\n",
    "resultado = resultado.rename(columns={'CRIME':'Setembro-19'})\n",
    "\n",
    "resultado = pd.merge(resultado, CVLI_out19, how=\"left\", on='Município')\n",
    "resultado = resultado.rename(columns={'CRIME':'Outubro-19'})\n",
    "\n",
    "resultado = pd.merge(resultado, CVLI_nov19, how=\"left\", on='Município')\n",
    "resultado = resultado.rename(columns={'CRIME':'Novembro-19'})\n",
    "\n",
    "resultado = pd.merge(resultado, CVLI_dez19, how=\"left\", on='Município')\n",
    "resultado = resultado.rename(columns={'CRIME':'Dezembro-19'})\n",
    "\n",
    "resultado = pd.merge(resultado, CVLI_jan20, how=\"left\", on='Município')\n",
    "resultado = resultado.rename(columns={'CRIME':'Janeiro-20'})\n",
    "\n",
    "resultado = pd.merge(resultado, CVLI_fev20, how=\"left\", on='Município')\n",
    "resultado = resultado.rename(columns={'CRIME':'Fevereiro-20'})\n",
    "\n",
    "resultado = pd.merge(resultado, CVLI_mar20, how=\"left\", on='Município')\n",
    "resultado = resultado.rename(columns={'CRIME':'Março-20'})\n",
    "\n",
    "resultado = pd.merge(resultado, CVLI_abr20, how=\"left\", on='Município')\n",
    "resultado = resultado.rename(columns={'CRIME':'Abril-20'})\n",
    "\n",
    "resultado = pd.merge(resultado, CVLI_mai20, how=\"left\", on='Município')\n",
    "resultado = resultado.rename(columns={'CRIME':'Maio-20'})\n",
    "\n",
    "resultado = pd.merge(resultado, CVLI_jun20, how=\"left\", on='Município')\n",
    "resultado = resultado.rename(columns={'CRIME':'Junho-20'})\n",
    "\n",
    "resultado = pd.merge(resultado, CVLI_jul20, how=\"left\", on='Município')\n",
    "resultado = resultado.rename(columns={'CRIME':'Julho-20'})\n",
    "\n",
    "resultado = pd.merge(resultado, CVLI_ago20, how=\"left\", on='Município')\n",
    "resultado = resultado.rename(columns={'CRIME':'Agosto-20'})\n",
    "\n",
    "resultado_drogas_todas = resultado.fillna(0)\n",
    "\n"
   ]
  },
  {
   "cell_type": "code",
   "execution_count": null,
   "metadata": {},
   "outputs": [],
   "source": [
    "resultado_drogas_todas.to_excel('resultado_drogas_Crack.xlsx')"
   ]
  },
  {
   "cell_type": "code",
   "execution_count": null,
   "metadata": {},
   "outputs": [],
   "source": [
    "resultado_drogas_todas"
   ]
  },
  {
   "cell_type": "code",
   "execution_count": null,
   "metadata": {},
   "outputs": [],
   "source": [
    "### ESTADO ####"
   ]
  },
  {
   "cell_type": "code",
   "execution_count": null,
   "metadata": {},
   "outputs": [],
   "source": [
    "CVLI = dados\n",
    "CVLI = CVLI.loc[CVLI['TXT_TIPO_OBJETO'] == \"Crack\"]\n",
    "CVLI = CVLI.reset_index(drop=True)"
   ]
  },
  {
   "cell_type": "code",
   "execution_count": null,
   "metadata": {},
   "outputs": [],
   "source": [
    "# CORTES SET/2018 ATÉ AGO/2019 #\n",
    "corte_setI = pd.Timestamp(year=2018, month=8, day=31, hour=0)\n",
    "corte_setF = pd.Timestamp(year=2018, month=10, day=1, hour=0)\n",
    "CVLI_set = CVLI.loc[CVLI['Data Fato'] > corte_setI]\n",
    "CVLI_set = CVLI_set.loc[CVLI_set['Data Fato'] < corte_setF]\n",
    "CVLI_set18 = CVLI_set.reset_index(drop=True)\n",
    "\n",
    "corte_I = pd.Timestamp(year=2018, month=9, day=30, hour=0)\n",
    "corte_F = pd.Timestamp(year=2018, month=11, day=1, hour=0)\n",
    "CVLI_out = CVLI.loc[CVLI['Data Fato'] > corte_I]\n",
    "CVLI_out = CVLI_out.loc[CVLI_out['Data Fato'] < corte_F]\n",
    "CVLI_out18 = CVLI_out.reset_index(drop=True)\n",
    "\n",
    "corte_I = pd.Timestamp(year=2018, month=10, day=31, hour=0)\n",
    "corte_F = pd.Timestamp(year=2018, month=12, day=1, hour=0)\n",
    "CVLI_nov = CVLI.loc[CVLI['Data Fato'] > corte_I]\n",
    "CVLI_nov = CVLI_nov.loc[CVLI_nov['Data Fato'] < corte_F]\n",
    "CVLI_nov18 = CVLI_nov.reset_index(drop=True)\n",
    "\n",
    "corte_I = pd.Timestamp(year=2018, month=11, day=30, hour=0)\n",
    "corte_F = pd.Timestamp(year=2019, month=1, day=1, hour=0)\n",
    "CVLI_dez = CVLI.loc[CVLI['Data Fato'] > corte_I]\n",
    "CVLI_dez = CVLI_dez.loc[CVLI_dez['Data Fato'] < corte_F]\n",
    "CVLI_dez18 = CVLI_dez.reset_index(drop=True)\n",
    "\n",
    "corte_I = pd.Timestamp(year=2018, month=12, day=31, hour=0)\n",
    "corte_F = pd.Timestamp(year=2019, month=2, day=1, hour=0)\n",
    "CVLI_jan = CVLI.loc[CVLI['Data Fato'] > corte_I]\n",
    "CVLI_jan = CVLI_jan.loc[CVLI_jan['Data Fato'] < corte_F]\n",
    "CVLI_jan19 = CVLI_jan.reset_index(drop=True)\n",
    "\n",
    "corte_I = pd.Timestamp(year=2019, month=1, day=31, hour=0)\n",
    "corte_F = pd.Timestamp(year=2019, month=3, day=1, hour=0)\n",
    "CVLI_fev = CVLI.loc[CVLI['Data Fato'] > corte_I]\n",
    "CVLI_fev = CVLI_fev.loc[CVLI_fev['Data Fato'] < corte_F]\n",
    "CVLI_fev19 = CVLI_fev.reset_index(drop=True)\n",
    "\n",
    "corte_I = pd.Timestamp(year=2019, month=2, day=28, hour=0)\n",
    "corte_F = pd.Timestamp(year=2019, month=4, day=1, hour=0)\n",
    "CVLI_mar = CVLI.loc[CVLI['Data Fato'] > corte_I]\n",
    "CVLI_mar = CVLI_mar.loc[CVLI_mar['Data Fato'] < corte_F]\n",
    "CVLI_mar19 = CVLI_mar.reset_index(drop=True)\n",
    "\n",
    "corte_I = pd.Timestamp(year=2019, month=3, day=31, hour=0)\n",
    "corte_F = pd.Timestamp(year=2019, month=5, day=1, hour=0)\n",
    "CVLI_abr = CVLI.loc[CVLI['Data Fato'] > corte_I]\n",
    "CVLI_abr = CVLI_abr.loc[CVLI_abr['Data Fato'] < corte_F]\n",
    "CVLI_abr19 = CVLI_abr.reset_index(drop=True)\n",
    "\n",
    "corte_I = pd.Timestamp(year=2019, month=4, day=30, hour=0)\n",
    "corte_F = pd.Timestamp(year=2019, month=6, day=1, hour=0)\n",
    "CVLI_mai = CVLI.loc[CVLI['Data Fato'] > corte_I]\n",
    "CVLI_mai = CVLI_mai.loc[CVLI_mai['Data Fato'] < corte_F]\n",
    "CVLI_mai19 = CVLI_mai.reset_index(drop=True)\n",
    "\n",
    "\n",
    "corte_I = pd.Timestamp(year=2019, month=5, day=30, hour=0)\n",
    "corte_F = pd.Timestamp(year=2019, month=7, day=1, hour=0)\n",
    "CVLI_jun = CVLI.loc[CVLI['Data Fato'] > corte_I]\n",
    "CVLI_jun = CVLI_jun.loc[CVLI_jun['Data Fato'] < corte_F]\n",
    "CVLI_jun19 = CVLI_jun.reset_index(drop=True)\n",
    "\n",
    "\n",
    "corte_I = pd.Timestamp(year=2019, month=6, day=30, hour=0)\n",
    "corte_F = pd.Timestamp(year=2019, month=8, day=1, hour=0)\n",
    "CVLI_jul = CVLI.loc[CVLI['Data Fato'] > corte_I]\n",
    "CVLI_jul = CVLI_jul.loc[CVLI_jul['Data Fato'] < corte_F]\n",
    "CVLI_jul19 = CVLI_jul.reset_index(drop=True)\n",
    "\n",
    "\n",
    "corte_I = pd.Timestamp(year=2019, month=7, day=31, hour=0)\n",
    "corte_F = pd.Timestamp(year=2019, month=9, day=1, hour=0)\n",
    "CVLI_ago = CVLI.loc[CVLI['Data Fato'] > corte_I]\n",
    "CVLI_ago = CVLI_ago.loc[CVLI_ago['Data Fato'] < corte_F]\n",
    "CVLI_ago19 = CVLI_ago.reset_index(drop=True)\n",
    "\n",
    "\n",
    "# CORTES SET/2019 ATÉ AGO/2020 #\n",
    "corte_setI = pd.Timestamp(year=2019, month=8, day=31, hour=0)\n",
    "corte_setF = pd.Timestamp(year=2019, month=10, day=1, hour=0)\n",
    "CVLI_set = CVLI.loc[CVLI['Data Fato'] > corte_setI]\n",
    "CVLI_set = CVLI_set.loc[CVLI_set['Data Fato'] < corte_setF]\n",
    "CVLI_set19 = CVLI_set.reset_index(drop=True)\n",
    "\n",
    "corte_I = pd.Timestamp(year=2019, month=9, day=30, hour=0)\n",
    "corte_F = pd.Timestamp(year=2019, month=11, day=1, hour=0)\n",
    "CVLI_out = CVLI.loc[CVLI['Data Fato'] > corte_I]\n",
    "CVLI_out = CVLI_out.loc[CVLI_out['Data Fato'] < corte_F]\n",
    "CVLI_out19 = CVLI_out.reset_index(drop=True)\n",
    "\n",
    "corte_I = pd.Timestamp(year=2019, month=10, day=31, hour=0)\n",
    "corte_F = pd.Timestamp(year=2019, month=12, day=1, hour=0)\n",
    "CVLI_nov = CVLI.loc[CVLI['Data Fato'] > corte_I]\n",
    "CVLI_nov = CVLI_nov.loc[CVLI_nov['Data Fato'] < corte_F]\n",
    "CVLI_nov19 = CVLI_nov.reset_index(drop=True)\n",
    "\n",
    "corte_I = pd.Timestamp(year=2019, month=11, day=30, hour=0)\n",
    "corte_F = pd.Timestamp(year=2020, month=1, day=1, hour=0)\n",
    "CVLI_dez = CVLI.loc[CVLI['Data Fato'] > corte_I]\n",
    "CVLI_dez = CVLI_dez.loc[CVLI_dez['Data Fato'] < corte_F]\n",
    "CVLI_dez19 = CVLI_dez.reset_index(drop=True)\n",
    "\n",
    "corte_I = pd.Timestamp(year=2019, month=12, day=31, hour=0)\n",
    "corte_F = pd.Timestamp(year=2020, month=2, day=1, hour=0)\n",
    "CVLI_jan = CVLI.loc[CVLI['Data Fato'] > corte_I]\n",
    "CVLI_jan = CVLI_jan.loc[CVLI_jan['Data Fato'] < corte_F]\n",
    "CVLI_jan20 = CVLI_jan.reset_index(drop=True)\n",
    "\n",
    "corte_I = pd.Timestamp(year=2020, month=1, day=31, hour=0)\n",
    "corte_F = pd.Timestamp(year=2020, month=3, day=1, hour=0)\n",
    "CVLI_fev = CVLI.loc[CVLI['Data Fato'] > corte_I]\n",
    "CVLI_fev = CVLI_fev.loc[CVLI_fev['Data Fato'] < corte_F]\n",
    "CVLI_fev20 = CVLI_fev.reset_index(drop=True)\n",
    "\n",
    "corte_I = pd.Timestamp(year=2020, month=2, day=29, hour=0)\n",
    "corte_F = pd.Timestamp(year=2020, month=4, day=1, hour=0)\n",
    "CVLI_mar = CVLI.loc[CVLI['Data Fato'] > corte_I]\n",
    "CVLI_mar = CVLI_mar.loc[CVLI_mar['Data Fato'] < corte_F]\n",
    "CVLI_mar20 = CVLI_mar.reset_index(drop=True)\n",
    "\n",
    "corte_I = pd.Timestamp(year=2020, month=3, day=31, hour=0)\n",
    "corte_F = pd.Timestamp(year=2020, month=5, day=1, hour=0)\n",
    "CVLI_abr = CVLI.loc[CVLI['Data Fato'] > corte_I]\n",
    "CVLI_abr = CVLI_abr.loc[CVLI_abr['Data Fato'] < corte_F]\n",
    "CVLI_abr20 = CVLI_abr.reset_index(drop=True)\n",
    "\n",
    "corte_I = pd.Timestamp(year=2020, month=4, day=30, hour=0)\n",
    "corte_F = pd.Timestamp(year=2020, month=6, day=1, hour=0)\n",
    "CVLI_mai = CVLI.loc[CVLI['Data Fato'] > corte_I]\n",
    "CVLI_mai = CVLI_mai.loc[CVLI_mai['Data Fato'] < corte_F]\n",
    "CVLI_mai20 = CVLI_mai.reset_index(drop=True)\n",
    "\n",
    "\n",
    "corte_I = pd.Timestamp(year=2020, month=5, day=30, hour=0)\n",
    "corte_F = pd.Timestamp(year=2020, month=7, day=1, hour=0)\n",
    "CVLI_jun = CVLI.loc[CVLI['Data Fato'] > corte_I]\n",
    "CVLI_jun = CVLI_jun.loc[CVLI_jun['Data Fato'] < corte_F]\n",
    "CVLI_jun20 = CVLI_jun.reset_index(drop=True)\n",
    "\n",
    "\n",
    "corte_I = pd.Timestamp(year=2020, month=6, day=30, hour=0)\n",
    "corte_F = pd.Timestamp(year=2020, month=8, day=1, hour=0)\n",
    "CVLI_jul = CVLI.loc[CVLI['Data Fato'] > corte_I]\n",
    "CVLI_jul = CVLI_jul.loc[CVLI_jul['Data Fato'] < corte_F]\n",
    "CVLI_jul20 = CVLI_jul.reset_index(drop=True)\n",
    "\n",
    "\n",
    "corte_I = pd.Timestamp(year=2020, month=7, day=31, hour=0)\n",
    "corte_F = pd.Timestamp(year=2020, month=9, day=1, hour=0)\n",
    "CVLI_ago = CVLI.loc[CVLI['Data Fato'] > corte_I]\n",
    "CVLI_ago = CVLI_ago.loc[CVLI_ago['Data Fato'] < corte_F]\n",
    "CVLI_ago20 = CVLI_ago.reset_index(drop=True)\n",
    "\n",
    "ESTADO = pd.DataFrame(np.zeros((1,1)))\n",
    "\n",
    "ESTADO['Set-18'] = ''\n",
    "ESTADO['Set-18'][0] = CVLI_set18.CRIME.sum()\n",
    "ESTADO['Out-18'] = ''\n",
    "ESTADO['Out-18'][0] = CVLI_out18.CRIME.sum()\n",
    "ESTADO['Nov-18'] = ''\n",
    "ESTADO['Nov-18'][0] = CVLI_nov18.CRIME.sum()\n",
    "ESTADO['Dez-18'] = ''\n",
    "ESTADO['Dez-18'][0] = CVLI_dez18.CRIME.sum()\n",
    "ESTADO['Jan-19'] = ''\n",
    "ESTADO['Jan-19'][0] = CVLI_jan19.CRIME.sum()\n",
    "ESTADO['Fev-19'] = ''\n",
    "ESTADO['Fev-19'][0] = CVLI_fev19.CRIME.sum()\n",
    "ESTADO['Mar-19'] = ''\n",
    "ESTADO['Mar-19'][0] = CVLI_mar19.CRIME.sum()\n",
    "ESTADO['Abr-19'] = ''\n",
    "ESTADO['Abr-19'][0] = CVLI_abr19.CRIME.sum()\n",
    "ESTADO['Mai-19'] = ''\n",
    "ESTADO['Mai-19'][0] = CVLI_mai19.CRIME.sum()\n",
    "ESTADO['Jun-19'] = ''\n",
    "ESTADO['Jun-19'][0] = CVLI_jun19.CRIME.sum()\n",
    "ESTADO['Jul-19'] = ''\n",
    "ESTADO['Jul-19'][0] = CVLI_jul19.CRIME.sum()\n",
    "ESTADO['Ago-19'] = ''\n",
    "ESTADO['Ago-19'][0] = CVLI_ago19.CRIME.sum()\n",
    "ESTADO['Set-19'] = ''\n",
    "ESTADO['Set-19'][0] = CVLI_set19.CRIME.sum()\n",
    "ESTADO['Out-19'] = ''\n",
    "ESTADO['Out-19'][0] = CVLI_out19.CRIME.sum()\n",
    "ESTADO['Nov-19'] = ''\n",
    "ESTADO['Nov-19'][0] = CVLI_nov19.CRIME.sum()\n",
    "ESTADO['Dez-19'] = ''\n",
    "ESTADO['Dez-19'][0] = CVLI_dez19.CRIME.sum()\n",
    "ESTADO['Jan-20'] = ''\n",
    "ESTADO['Jan-20'][0] = CVLI_jan20.CRIME.sum()\n",
    "ESTADO['Fev-20'] = ''\n",
    "ESTADO['Fev-20'][0] = CVLI_fev20.CRIME.sum()\n",
    "ESTADO['Mar-20'] = ''\n",
    "ESTADO['Mar-20'][0] = CVLI_mar20.CRIME.sum()\n",
    "ESTADO['Abr-20'] = ''\n",
    "ESTADO['Abr-20'][0] = CVLI_abr20.CRIME.sum()\n",
    "ESTADO['Mai-20'] = ''\n",
    "ESTADO['Mai-20'][0] = CVLI_mai20.CRIME.sum()\n",
    "ESTADO['Jun-20'] = ''\n",
    "ESTADO['Jun-20'][0] = CVLI_jun20.CRIME.sum()\n",
    "ESTADO['Jul-20'] = ''\n",
    "ESTADO['Jul-20'][0] = CVLI_jul20.CRIME.sum()\n",
    "ESTADO['Ago-20'] = ''\n",
    "ESTADO['Ago-20'][0] = CVLI_ago20.CRIME.sum()\n",
    "\n",
    "ESTADO = ESTADO.drop([0], axis = 1)\n",
    "\n"
   ]
  },
  {
   "cell_type": "code",
   "execution_count": null,
   "metadata": {},
   "outputs": [],
   "source": [
    "ESTADO.to_excel('resultado_ESTADO_todasCrack.xlsx')"
   ]
  },
  {
   "cell_type": "code",
   "execution_count": null,
   "metadata": {},
   "outputs": [],
   "source": [
    "ESTADO"
   ]
  },
  {
   "cell_type": "code",
   "execution_count": null,
   "metadata": {},
   "outputs": [],
   "source": []
  }
 ],
 "metadata": {
  "kernelspec": {
   "display_name": "Python 3 (ipykernel)",
   "language": "python",
   "name": "python3"
  },
  "language_info": {
   "codemirror_mode": {
    "name": "ipython",
    "version": 3
   },
   "file_extension": ".py",
   "mimetype": "text/x-python",
   "name": "python",
   "nbconvert_exporter": "python",
   "pygments_lexer": "ipython3",
   "version": "3.9.6"
  }
 },
 "nbformat": 4,
 "nbformat_minor": 4
}
