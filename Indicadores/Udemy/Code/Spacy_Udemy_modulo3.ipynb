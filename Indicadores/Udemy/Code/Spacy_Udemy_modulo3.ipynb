{
 "cells": [
  {
   "cell_type": "code",
   "execution_count": 1,
   "id": "0405ac6c",
   "metadata": {},
   "outputs": [],
   "source": [
    "import pandas as pd\n",
    "import string\n",
    "#Spacy trabalha por trás dos panos com redes neurais convolucionais\n",
    "import spacy\n",
    "import random\n",
    "import seaborn as sns\n",
    "import numpy as np\n",
    "import matplotlib.pyplot as plt\n",
    "import matplotlib\n",
    "%matplotlib inline"
   ]
  },
  {
   "cell_type": "markdown",
   "id": "e3c9e820",
   "metadata": {},
   "source": [
    "### Etapa 2: Carregamento da base de dados"
   ]
  },
  {
   "cell_type": "code",
   "execution_count": 2,
   "id": "63d86d74",
   "metadata": {},
   "outputs": [],
   "source": [
    "base_dados = pd.read_csv('../Data/base_treinamento.txt', encoding = 'utf-8')"
   ]
  },
  {
   "cell_type": "code",
   "execution_count": 3,
   "id": "0cee183b",
   "metadata": {},
   "outputs": [
    {
     "data": {
      "text/plain": [
       "(196, 2)"
      ]
     },
     "execution_count": 3,
     "metadata": {},
     "output_type": "execute_result"
    }
   ],
   "source": [
    "base_dados.shape"
   ]
  },
  {
   "cell_type": "code",
   "execution_count": 4,
   "id": "bc8ac0c1",
   "metadata": {},
   "outputs": [
    {
     "data": {
      "text/html": [
       "<div>\n",
       "<style scoped>\n",
       "    .dataframe tbody tr th:only-of-type {\n",
       "        vertical-align: middle;\n",
       "    }\n",
       "\n",
       "    .dataframe tbody tr th {\n",
       "        vertical-align: top;\n",
       "    }\n",
       "\n",
       "    .dataframe thead th {\n",
       "        text-align: right;\n",
       "    }\n",
       "</style>\n",
       "<table border=\"1\" class=\"dataframe\">\n",
       "  <thead>\n",
       "    <tr style=\"text-align: right;\">\n",
       "      <th></th>\n",
       "      <th>texto</th>\n",
       "      <th>emocao</th>\n",
       "    </tr>\n",
       "  </thead>\n",
       "  <tbody>\n",
       "    <tr>\n",
       "      <th>0</th>\n",
       "      <td>este trabalho é agradável</td>\n",
       "      <td>alegria</td>\n",
       "    </tr>\n",
       "    <tr>\n",
       "      <th>1</th>\n",
       "      <td>gosto de ficar no seu aconchego</td>\n",
       "      <td>alegria</td>\n",
       "    </tr>\n",
       "    <tr>\n",
       "      <th>2</th>\n",
       "      <td>fiz a adesão ao curso hoje</td>\n",
       "      <td>alegria</td>\n",
       "    </tr>\n",
       "    <tr>\n",
       "      <th>3</th>\n",
       "      <td>eu sou admirada por muitos</td>\n",
       "      <td>alegria</td>\n",
       "    </tr>\n",
       "    <tr>\n",
       "      <th>4</th>\n",
       "      <td>adoro como você</td>\n",
       "      <td>alegria</td>\n",
       "    </tr>\n",
       "  </tbody>\n",
       "</table>\n",
       "</div>"
      ],
      "text/plain": [
       "                             texto   emocao\n",
       "0        este trabalho é agradável  alegria\n",
       "1  gosto de ficar no seu aconchego  alegria\n",
       "2       fiz a adesão ao curso hoje  alegria\n",
       "3       eu sou admirada por muitos  alegria\n",
       "4                  adoro como você  alegria"
      ]
     },
     "execution_count": 4,
     "metadata": {},
     "output_type": "execute_result"
    }
   ],
   "source": [
    "base_dados.head()"
   ]
  },
  {
   "cell_type": "code",
   "execution_count": 5,
   "id": "23d902f9",
   "metadata": {},
   "outputs": [
    {
     "data": {
      "text/html": [
       "<div>\n",
       "<style scoped>\n",
       "    .dataframe tbody tr th:only-of-type {\n",
       "        vertical-align: middle;\n",
       "    }\n",
       "\n",
       "    .dataframe tbody tr th {\n",
       "        vertical-align: top;\n",
       "    }\n",
       "\n",
       "    .dataframe thead th {\n",
       "        text-align: right;\n",
       "    }\n",
       "</style>\n",
       "<table border=\"1\" class=\"dataframe\">\n",
       "  <thead>\n",
       "    <tr style=\"text-align: right;\">\n",
       "      <th></th>\n",
       "      <th>texto</th>\n",
       "      <th>emocao</th>\n",
       "    </tr>\n",
       "  </thead>\n",
       "  <tbody>\n",
       "    <tr>\n",
       "      <th>191</th>\n",
       "      <td>estou chocado e amedrontado com este assassina...</td>\n",
       "      <td>medo</td>\n",
       "    </tr>\n",
       "    <tr>\n",
       "      <th>192</th>\n",
       "      <td>é preciso afugenta com ímpeto este medo do inf...</td>\n",
       "      <td>medo</td>\n",
       "    </tr>\n",
       "    <tr>\n",
       "      <th>193</th>\n",
       "      <td>políticos usam suas forças para afugentar e am...</td>\n",
       "      <td>medo</td>\n",
       "    </tr>\n",
       "    <tr>\n",
       "      <th>194</th>\n",
       "      <td>o objetivo disso e apenas me amedrontar mais</td>\n",
       "      <td>medo</td>\n",
       "    </tr>\n",
       "    <tr>\n",
       "      <th>195</th>\n",
       "      <td>isso me apavora</td>\n",
       "      <td>medo</td>\n",
       "    </tr>\n",
       "  </tbody>\n",
       "</table>\n",
       "</div>"
      ],
      "text/plain": [
       "                                                 texto emocao\n",
       "191  estou chocado e amedrontado com este assassina...   medo\n",
       "192  é preciso afugenta com ímpeto este medo do inf...   medo\n",
       "193  políticos usam suas forças para afugentar e am...   medo\n",
       "194       o objetivo disso e apenas me amedrontar mais   medo\n",
       "195                                    isso me apavora   medo"
      ]
     },
     "execution_count": 5,
     "metadata": {},
     "output_type": "execute_result"
    }
   ],
   "source": [
    "base_dados.tail()"
   ]
  },
  {
   "cell_type": "markdown",
   "id": "b7b34db9",
   "metadata": {},
   "source": [
    "### Função Pré processamento"
   ]
  },
  {
   "cell_type": "code",
   "execution_count": 6,
   "id": "9b6daaeb",
   "metadata": {},
   "outputs": [
    {
     "data": {
      "text/plain": [
       "'!\"#$%&\\'()*+,-./:;<=>?@[\\\\]^_`{|}~'"
      ]
     },
     "execution_count": 6,
     "metadata": {},
     "output_type": "execute_result"
    }
   ],
   "source": [
    "pontuacoes = string.punctuation\n",
    "pontuacoes"
   ]
  },
  {
   "cell_type": "code",
   "execution_count": 7,
   "id": "182f1842",
   "metadata": {},
   "outputs": [],
   "source": [
    "from spacy.lang.pt.stop_words import STOP_WORDS\n",
    "stop_words = STOP_WORDS"
   ]
  },
  {
   "cell_type": "code",
   "execution_count": 8,
   "id": "a9b00f83",
   "metadata": {},
   "outputs": [
    {
     "data": {
      "text/plain": [
       "416"
      ]
     },
     "execution_count": 8,
     "metadata": {},
     "output_type": "execute_result"
    }
   ],
   "source": [
    "len(stop_words)"
   ]
  },
  {
   "cell_type": "code",
   "execution_count": 9,
   "id": "49531f7a",
   "metadata": {},
   "outputs": [],
   "source": [
    "pln = spacy.load('pt_core_news_lg')"
   ]
  },
  {
   "cell_type": "code",
   "execution_count": 10,
   "id": "1affc244",
   "metadata": {},
   "outputs": [],
   "source": [
    "def preprocessamento(texto):\n",
    "  texto = texto.lower()\n",
    "  documento = pln(texto)\n",
    "  \n",
    "  lista = []\n",
    "  for token in documento:\n",
    "    #lista.append(token.text)\n",
    "    lista.append(token.lemma_)\n",
    "\n",
    "  lista = [palavra for palavra in lista if palavra not in stop_words and palavra not in pontuacoes]\n",
    "  lista = ' '.join([str(elemento) for elemento in lista if not elemento.isdigit()])\n",
    "\n",
    "  return lista"
   ]
  },
  {
   "cell_type": "code",
   "execution_count": 11,
   "id": "32f00438",
   "metadata": {},
   "outputs": [
    {
     "data": {
      "text/plain": [
       "'aprender processamento linguagem natural cursar curitiba'"
      ]
     },
     "execution_count": 11,
     "metadata": {},
     "output_type": "execute_result"
    }
   ],
   "source": [
    "teste = preprocessamento('Estou aPrendendo 1 10 23 processamento de linguagem natural, Curso em Curitiba')\n",
    "teste"
   ]
  },
  {
   "cell_type": "markdown",
   "id": "93c714d0",
   "metadata": {},
   "source": [
    "### Pré-Processamento: Limpeza"
   ]
  },
  {
   "cell_type": "code",
   "execution_count": 12,
   "id": "8481ee51",
   "metadata": {},
   "outputs": [
    {
     "data": {
      "text/html": [
       "<div>\n",
       "<style scoped>\n",
       "    .dataframe tbody tr th:only-of-type {\n",
       "        vertical-align: middle;\n",
       "    }\n",
       "\n",
       "    .dataframe tbody tr th {\n",
       "        vertical-align: top;\n",
       "    }\n",
       "\n",
       "    .dataframe thead th {\n",
       "        text-align: right;\n",
       "    }\n",
       "</style>\n",
       "<table border=\"1\" class=\"dataframe\">\n",
       "  <thead>\n",
       "    <tr style=\"text-align: right;\">\n",
       "      <th></th>\n",
       "      <th>texto</th>\n",
       "      <th>emocao</th>\n",
       "    </tr>\n",
       "  </thead>\n",
       "  <tbody>\n",
       "    <tr>\n",
       "      <th>0</th>\n",
       "      <td>este trabalho é agradável</td>\n",
       "      <td>alegria</td>\n",
       "    </tr>\n",
       "    <tr>\n",
       "      <th>1</th>\n",
       "      <td>gosto de ficar no seu aconchego</td>\n",
       "      <td>alegria</td>\n",
       "    </tr>\n",
       "    <tr>\n",
       "      <th>2</th>\n",
       "      <td>fiz a adesão ao curso hoje</td>\n",
       "      <td>alegria</td>\n",
       "    </tr>\n",
       "    <tr>\n",
       "      <th>3</th>\n",
       "      <td>eu sou admirada por muitos</td>\n",
       "      <td>alegria</td>\n",
       "    </tr>\n",
       "    <tr>\n",
       "      <th>4</th>\n",
       "      <td>adoro como você</td>\n",
       "      <td>alegria</td>\n",
       "    </tr>\n",
       "    <tr>\n",
       "      <th>5</th>\n",
       "      <td>adoro seu cabelo macio</td>\n",
       "      <td>alegria</td>\n",
       "    </tr>\n",
       "    <tr>\n",
       "      <th>6</th>\n",
       "      <td>adoro a cor dos seus olhos</td>\n",
       "      <td>alegria</td>\n",
       "    </tr>\n",
       "    <tr>\n",
       "      <th>7</th>\n",
       "      <td>somo tão amáveis um com o outro</td>\n",
       "      <td>alegria</td>\n",
       "    </tr>\n",
       "    <tr>\n",
       "      <th>8</th>\n",
       "      <td>sinto uma grande afeição por ele</td>\n",
       "      <td>alegria</td>\n",
       "    </tr>\n",
       "    <tr>\n",
       "      <th>9</th>\n",
       "      <td>quero agradar meus filhos</td>\n",
       "      <td>alegria</td>\n",
       "    </tr>\n",
       "  </tbody>\n",
       "</table>\n",
       "</div>"
      ],
      "text/plain": [
       "                              texto   emocao\n",
       "0         este trabalho é agradável  alegria\n",
       "1   gosto de ficar no seu aconchego  alegria\n",
       "2        fiz a adesão ao curso hoje  alegria\n",
       "3        eu sou admirada por muitos  alegria\n",
       "4                   adoro como você  alegria\n",
       "5            adoro seu cabelo macio  alegria\n",
       "6        adoro a cor dos seus olhos  alegria\n",
       "7   somo tão amáveis um com o outro  alegria\n",
       "8  sinto uma grande afeição por ele  alegria\n",
       "9         quero agradar meus filhos  alegria"
      ]
     },
     "execution_count": 12,
     "metadata": {},
     "output_type": "execute_result"
    }
   ],
   "source": [
    "base_dados.head(10)"
   ]
  },
  {
   "cell_type": "code",
   "execution_count": 13,
   "id": "a50a32f9",
   "metadata": {},
   "outputs": [],
   "source": [
    "base_dados['texto'] = base_dados['texto'].apply(preprocessamento)"
   ]
  },
  {
   "cell_type": "code",
   "execution_count": 14,
   "id": "0f46f39d",
   "metadata": {},
   "outputs": [
    {
     "data": {
      "text/html": [
       "<div>\n",
       "<style scoped>\n",
       "    .dataframe tbody tr th:only-of-type {\n",
       "        vertical-align: middle;\n",
       "    }\n",
       "\n",
       "    .dataframe tbody tr th {\n",
       "        vertical-align: top;\n",
       "    }\n",
       "\n",
       "    .dataframe thead th {\n",
       "        text-align: right;\n",
       "    }\n",
       "</style>\n",
       "<table border=\"1\" class=\"dataframe\">\n",
       "  <thead>\n",
       "    <tr style=\"text-align: right;\">\n",
       "      <th></th>\n",
       "      <th>texto</th>\n",
       "      <th>emocao</th>\n",
       "    </tr>\n",
       "  </thead>\n",
       "  <tbody>\n",
       "    <tr>\n",
       "      <th>0</th>\n",
       "      <td>trabalhar agradável</td>\n",
       "      <td>alegria</td>\n",
       "    </tr>\n",
       "    <tr>\n",
       "      <th>1</th>\n",
       "      <td>gostar ficar aconchegar</td>\n",
       "      <td>alegria</td>\n",
       "    </tr>\n",
       "    <tr>\n",
       "      <th>2</th>\n",
       "      <td>adesão cursar hoje</td>\n",
       "      <td>alegria</td>\n",
       "    </tr>\n",
       "    <tr>\n",
       "      <th>3</th>\n",
       "      <td>admirar</td>\n",
       "      <td>alegria</td>\n",
       "    </tr>\n",
       "    <tr>\n",
       "      <th>4</th>\n",
       "      <td>adorar comer</td>\n",
       "      <td>alegria</td>\n",
       "    </tr>\n",
       "    <tr>\n",
       "      <th>5</th>\n",
       "      <td>adorar cabelar maciar</td>\n",
       "      <td>alegria</td>\n",
       "    </tr>\n",
       "    <tr>\n",
       "      <th>6</th>\n",
       "      <td>adorar cor olho</td>\n",
       "      <td>alegria</td>\n",
       "    </tr>\n",
       "    <tr>\n",
       "      <th>7</th>\n",
       "      <td>somar amável outro</td>\n",
       "      <td>alegria</td>\n",
       "    </tr>\n",
       "    <tr>\n",
       "      <th>8</th>\n",
       "      <td>sentir umar afeição</td>\n",
       "      <td>alegria</td>\n",
       "    </tr>\n",
       "    <tr>\n",
       "      <th>9</th>\n",
       "      <td>querer agradar filho</td>\n",
       "      <td>alegria</td>\n",
       "    </tr>\n",
       "  </tbody>\n",
       "</table>\n",
       "</div>"
      ],
      "text/plain": [
       "                     texto   emocao\n",
       "0      trabalhar agradável  alegria\n",
       "1  gostar ficar aconchegar  alegria\n",
       "2       adesão cursar hoje  alegria\n",
       "3                  admirar  alegria\n",
       "4             adorar comer  alegria\n",
       "5    adorar cabelar maciar  alegria\n",
       "6          adorar cor olho  alegria\n",
       "7       somar amável outro  alegria\n",
       "8      sentir umar afeição  alegria\n",
       "9     querer agradar filho  alegria"
      ]
     },
     "execution_count": 14,
     "metadata": {},
     "output_type": "execute_result"
    }
   ],
   "source": [
    "base_dados.head(10)"
   ]
  },
  {
   "cell_type": "markdown",
   "id": "7127627e",
   "metadata": {},
   "source": [
    "### Tratamento da classe"
   ]
  },
  {
   "cell_type": "code",
   "execution_count": 15,
   "id": "458a9b96",
   "metadata": {},
   "outputs": [],
   "source": [
    "#Lista com uma string e um dicionário\n",
    "exemplo_base_dados = [[\"este trabalho é agradável\", {\"ALEGRIA\": True, \"MEDO\": False}],\n",
    "                      [\"este lugar continua assustador\", {\"ALEGRIA\": False, \"MEDO\": True}]]"
   ]
  },
  {
   "cell_type": "code",
   "execution_count": 16,
   "id": "8108b04f",
   "metadata": {},
   "outputs": [
    {
     "data": {
      "text/plain": [
       "list"
      ]
     },
     "execution_count": 16,
     "metadata": {},
     "output_type": "execute_result"
    }
   ],
   "source": [
    "type(exemplo_base_dados)"
   ]
  },
  {
   "cell_type": "code",
   "execution_count": 17,
   "id": "293975bb",
   "metadata": {},
   "outputs": [
    {
     "data": {
      "text/plain": [
       "['este trabalho é agradável', {'ALEGRIA': True, 'MEDO': False}]"
      ]
     },
     "execution_count": 17,
     "metadata": {},
     "output_type": "execute_result"
    }
   ],
   "source": [
    "exemplo_base_dados[0]"
   ]
  },
  {
   "cell_type": "code",
   "execution_count": 18,
   "id": "ce76c75b",
   "metadata": {},
   "outputs": [
    {
     "data": {
      "text/plain": [
       "'este trabalho é agradável'"
      ]
     },
     "execution_count": 18,
     "metadata": {},
     "output_type": "execute_result"
    }
   ],
   "source": [
    "exemplo_base_dados[0][0]"
   ]
  },
  {
   "cell_type": "code",
   "execution_count": 19,
   "id": "d98f3917",
   "metadata": {},
   "outputs": [
    {
     "data": {
      "text/plain": [
       "{'ALEGRIA': True, 'MEDO': False}"
      ]
     },
     "execution_count": 19,
     "metadata": {},
     "output_type": "execute_result"
    }
   ],
   "source": [
    "exemplo_base_dados[0][1]"
   ]
  },
  {
   "cell_type": "code",
   "execution_count": 20,
   "id": "a40b4568",
   "metadata": {},
   "outputs": [
    {
     "data": {
      "text/plain": [
       "dict"
      ]
     },
     "execution_count": 20,
     "metadata": {},
     "output_type": "execute_result"
    }
   ],
   "source": [
    "type(exemplo_base_dados[0][1])"
   ]
  },
  {
   "cell_type": "code",
   "execution_count": 21,
   "id": "1a785329",
   "metadata": {},
   "outputs": [],
   "source": [
    "#Criando uma lista vazia\n",
    "base_dados_final = []\n",
    "#Para cada texto na coluna de base_dados texto...\n",
    "#para cada emocao na coluna de base_dados emocao...\n",
    "# se a emocao for alegria, criamos um dicionario..\n",
    "# com Alegria sendo true, e medo false.\n",
    "#  já se a emoção for medo\n",
    "#  alegria é false, e medo recebe true\n",
    "#   Por final joga-se essa lista de string + dicionário\n",
    "#   em uma lista chamada de base_dados_final\n",
    "for texto, emocao in zip(base_dados['texto'], base_dados['emocao']):\n",
    "  #print(texto, emocao)\n",
    "  if emocao == 'alegria':\n",
    "    dic = ({'ALEGRIA': True, 'MEDO': False})\n",
    "  elif emocao == 'medo':\n",
    "    dic = ({'ALEGRIA': False, 'MEDO': True})\n",
    "\n",
    "  base_dados_final.append([texto, dic.copy()])"
   ]
  },
  {
   "cell_type": "code",
   "execution_count": 22,
   "id": "3d2c3482",
   "metadata": {},
   "outputs": [
    {
     "data": {
      "text/plain": [
       "196"
      ]
     },
     "execution_count": 22,
     "metadata": {},
     "output_type": "execute_result"
    }
   ],
   "source": [
    "len(base_dados_final)"
   ]
  },
  {
   "cell_type": "code",
   "execution_count": 23,
   "id": "c03dcc2c",
   "metadata": {},
   "outputs": [
    {
     "data": {
      "text/plain": [
       "['trabalhar agradável', {'ALEGRIA': True, 'MEDO': False}]"
      ]
     },
     "execution_count": 23,
     "metadata": {},
     "output_type": "execute_result"
    }
   ],
   "source": [
    "base_dados_final[0]"
   ]
  },
  {
   "cell_type": "code",
   "execution_count": 24,
   "id": "58a000b0",
   "metadata": {},
   "outputs": [
    {
     "data": {
      "text/plain": [
       "'trabalhar agradável'"
      ]
     },
     "execution_count": 24,
     "metadata": {},
     "output_type": "execute_result"
    }
   ],
   "source": [
    "base_dados_final[0][0]"
   ]
  },
  {
   "cell_type": "code",
   "execution_count": 25,
   "id": "5492541e",
   "metadata": {},
   "outputs": [
    {
     "data": {
      "text/plain": [
       "{'ALEGRIA': True, 'MEDO': False}"
      ]
     },
     "execution_count": 25,
     "metadata": {},
     "output_type": "execute_result"
    }
   ],
   "source": [
    "base_dados_final[0][1]"
   ]
  },
  {
   "cell_type": "code",
   "execution_count": 26,
   "id": "f46355b1",
   "metadata": {},
   "outputs": [
    {
     "data": {
      "text/plain": [
       "dict"
      ]
     },
     "execution_count": 26,
     "metadata": {},
     "output_type": "execute_result"
    }
   ],
   "source": [
    "type(base_dados_final[0][1])"
   ]
  },
  {
   "cell_type": "code",
   "execution_count": 27,
   "id": "7fec2eb7",
   "metadata": {},
   "outputs": [
    {
     "data": {
      "text/plain": [
       "[['trabalhar agradável', {'ALEGRIA': True, 'MEDO': False}],\n",
       " ['gostar ficar aconchegar', {'ALEGRIA': True, 'MEDO': False}],\n",
       " ['adesão cursar hoje', {'ALEGRIA': True, 'MEDO': False}],\n",
       " ['admirar', {'ALEGRIA': True, 'MEDO': False}],\n",
       " ['adorar comer', {'ALEGRIA': True, 'MEDO': False}],\n",
       " ['adorar cabelar maciar', {'ALEGRIA': True, 'MEDO': False}],\n",
       " ['adorar cor olho', {'ALEGRIA': True, 'MEDO': False}],\n",
       " ['somar amável outro', {'ALEGRIA': True, 'MEDO': False}],\n",
       " ['sentir umar afeição', {'ALEGRIA': True, 'MEDO': False}],\n",
       " ['querer agradar filho', {'ALEGRIA': True, 'MEDO': False}],\n",
       " ['sentir completamente amar', {'ALEGRIA': True, 'MEDO': False}],\n",
       " ['amar', {'ALEGRIA': True, 'MEDO': False}],\n",
       " ['alívio', {'ALEGRIA': True, 'MEDO': False}],\n",
       " ['dor amenizar finalmente', {'ALEGRIA': True, 'MEDO': False}],\n",
       " ['achar apaixonar', {'ALEGRIA': True, 'MEDO': False}],\n",
       " ['amar maravilhoso', {'ALEGRIA': True, 'MEDO': False}],\n",
       " ['sentir animar', {'ALEGRIA': True, 'MEDO': False}],\n",
       " ['sentir hoje', {'ALEGRIA': True, 'MEDO': False}],\n",
       " ['comer luar belo', {'ALEGRIA': True, 'MEDO': False}],\n",
       " ['dia bonito', {'ALEGRIA': True, 'MEDO': False}],\n",
       " ['comer afortunar', {'ALEGRIA': True, 'MEDO': False}],\n",
       " ['maravilhar mundo', {'ALEGRIA': True, 'MEDO': False}],\n",
       " ['receber caro hoje colega', {'ALEGRIA': True, 'MEDO': False}],\n",
       " ['sentir reconfortar hoje', {'ALEGRIA': True, 'MEDO': False}],\n",
       " ['amigo', {'ALEGRIA': True, 'MEDO': False}],\n",
       " ['contentar resultar teste', {'ALEGRIA': True, 'MEDO': False}],\n",
       " ['pintura brilhante', {'ALEGRIA': True, 'MEDO': False}],\n",
       " ['água abundância', {'ALEGRIA': True, 'MEDO': False}],\n",
       " ['roupar delicado', {'ALEGRIA': True, 'MEDO': False}],\n",
       " ['comediante', {'ALEGRIA': True, 'MEDO': False}],\n",
       " ['bondade suar', {'ALEGRIA': True, 'MEDO': False}],\n",
       " ['amor lindar', {'ALEGRIA': True, 'MEDO': False}],\n",
       " ['amizade durar parir', {'ALEGRIA': True, 'MEDO': False}],\n",
       " ['eufórico notícia', {'ALEGRIA': True, 'MEDO': False}],\n",
       " ['realmente fiel mim', {'ALEGRIA': True, 'MEDO': False}],\n",
       " ['umar festa parir comemorar aniversário', {'ALEGRIA': True, 'MEDO': False}],\n",
       " ['graça deus enxergar certar', {'ALEGRIA': True, 'MEDO': False}],\n",
       " ['melhor escolher', {'ALEGRIA': True, 'MEDO': False}],\n",
       " ['incrível belo', {'ALEGRIA': True, 'MEDO': False}],\n",
       " ['engraçar explicar', {'ALEGRIA': True, 'MEDO': False}],\n",
       " ['emocionante', {'ALEGRIA': True, 'MEDO': False}],\n",
       " ['cativar pelar olhar', {'ALEGRIA': True, 'MEDO': False}],\n",
       " ['loucamente apaixonar', {'ALEGRIA': True, 'MEDO': False}],\n",
       " ['dúvida', {'ALEGRIA': True, 'MEDO': False}],\n",
       " ['rodear pelar abraçar', {'ALEGRIA': True, 'MEDO': False}],\n",
       " ['estrelo pelar caminhar', {'ALEGRIA': True, 'MEDO': False}],\n",
       " ['sentir sol', {'ALEGRIA': True, 'MEDO': False}],\n",
       " ['sorrir orelhar orelhar', {'ALEGRIA': True, 'MEDO': False}],\n",
       " ['valer peno', {'ALEGRIA': True, 'MEDO': False}],\n",
       " ['finalmente colocar amor', {'ALEGRIA': True, 'MEDO': False}],\n",
       " ['nó dançar noite adentrar', {'ALEGRIA': True, 'MEDO': False}],\n",
       " ['amor brilhante', {'ALEGRIA': True, 'MEDO': False}],\n",
       " ['tocar coração durante caminhar', {'ALEGRIA': True, 'MEDO': False}],\n",
       " ['suar amigo companheiro', {'ALEGRIA': True, 'MEDO': False}],\n",
       " ['trazer voltar vidar', {'ALEGRIA': True, 'MEDO': False}],\n",
       " ['comer sonhar doce', {'ALEGRIA': True, 'MEDO': False}],\n",
       " ['adorar doce frutar', {'ALEGRIA': True, 'MEDO': False}],\n",
       " ['suco favorito', {'ALEGRIA': True, 'MEDO': False}],\n",
       " ['agradecido pelar ajudar', {'ALEGRIA': True, 'MEDO': False}],\n",
       " ['enorme prazer equipar', {'ALEGRIA': True, 'MEDO': False}],\n",
       " ['trabalhar equipar melhor', {'ALEGRIA': True, 'MEDO': False}],\n",
       " ['sentir flutuar ar', {'ALEGRIA': True, 'MEDO': False}],\n",
       " ['brisa agradável hoje', {'ALEGRIA': True, 'MEDO': False}],\n",
       " ['ótimo compatível', {'ALEGRIA': True, 'MEDO': False}],\n",
       " ['compatível outro', {'ALEGRIA': True, 'MEDO': False}],\n",
       " ['órgão compatível paciente', {'ALEGRIA': True, 'MEDO': False}],\n",
       " ['contentar aceito faculdade', {'ALEGRIA': True, 'MEDO': False}],\n",
       " ['aprovar exame', {'ALEGRIA': True, 'MEDO': False}],\n",
       " ['beneficiar pelar empresar', {'ALEGRIA': True, 'MEDO': False}],\n",
       " ['cativante', {'ALEGRIA': True, 'MEDO': False}],\n",
       " ['contentar apoiar', {'ALEGRIA': True, 'MEDO': False}],\n",
       " ['comer confortável', {'ALEGRIA': True, 'MEDO': False}],\n",
       " ['quentar frio', {'ALEGRIA': True, 'MEDO': False}],\n",
       " ['elogiar', {'ALEGRIA': True, 'MEDO': False}],\n",
       " ['chamar parir comemorar', {'ALEGRIA': True, 'MEDO': False}],\n",
       " ['desejável suar presença apresentação', {'ALEGRIA': True, 'MEDO': False}],\n",
       " ['grato', {'ALEGRIA': True, 'MEDO': False}],\n",
       " ['dedicar naquilo', {'ALEGRIA': True, 'MEDO': False}],\n",
       " ['completamente apaixonar', {'ALEGRIA': True, 'MEDO': False}],\n",
       " ['agitar noite', {'ALEGRIA': True, 'MEDO': False}],\n",
       " ['significar parir mim', {'ALEGRIA': True, 'MEDO': False}],\n",
       " ['agir preconceito julgamento', {'ALEGRIA': True, 'MEDO': False}],\n",
       " ['finalmente completar coleção maravilhoso',\n",
       "  {'ALEGRIA': True, 'MEDO': False}],\n",
       " ['suar rei', {'ALEGRIA': True, 'MEDO': False}],\n",
       " ['satisfatoriamente anunciar vencedor jogo',\n",
       "  {'ALEGRIA': True, 'MEDO': False}],\n",
       " ['atrair facilmente', {'ALEGRIA': True, 'MEDO': False}],\n",
       " ['rapaz extremamente atraente', {'ALEGRIA': True, 'MEDO': False}],\n",
       " ['sinto-me vivo', {'ALEGRIA': True, 'MEDO': False}],\n",
       " ['sinto-me paz', {'ALEGRIA': True, 'MEDO': False}],\n",
       " ['lucrar', {'ALEGRIA': True, 'MEDO': False}],\n",
       " ['ordem', {'ALEGRIA': True, 'MEDO': False}],\n",
       " ['arrumar empregar junto', {'ALEGRIA': True, 'MEDO': False}],\n",
       " ['arrumação terminar alívio', {'ALEGRIA': True, 'MEDO': False}],\n",
       " ['câncer benigno', {'ALEGRIA': True, 'MEDO': False}],\n",
       " ['amor abundante', {'ALEGRIA': True, 'MEDO': False}],\n",
       " ['caridoso natal', {'ALEGRIA': True, 'MEDO': False}],\n",
       " ['charme irar atrair', {'ALEGRIA': True, 'MEDO': False}],\n",
       " ['comer charmoso querer', {'ALEGRIA': True, 'MEDO': False}],\n",
       " ['querido amigo', {'ALEGRIA': True, 'MEDO': False}],\n",
       " ['cuidadoso sentimento', {'ALEGRIA': True, 'MEDO': False}],\n",
       " ['comover tamanho caridade', {'ALEGRIA': True, 'MEDO': False}],\n",
       " ['chá quentar reconfortante', {'ALEGRIA': True, 'MEDO': False}],\n",
       " ['alegria', {'ALEGRIA': True, 'MEDO': False}],\n",
       " ['aplaudir vencedor', {'ALEGRIA': True, 'MEDO': False}],\n",
       " ['palmar parir aniversariante', {'ALEGRIA': True, 'MEDO': False}],\n",
       " ['desejar', {'ALEGRIA': True, 'MEDO': False}],\n",
       " ['horar apreciar vinho', {'ALEGRIA': True, 'MEDO': False}],\n",
       " ['apreciar suar presença escola', {'ALEGRIA': True, 'MEDO': False}],\n",
       " ['ansiar trabalho', {'ALEGRIA': True, 'MEDO': False}],\n",
       " ['maravilhoso jogar amistoso', {'ALEGRIA': True, 'MEDO': False}],\n",
       " ['ótimo menimos apaziguar', {'ALEGRIA': True, 'MEDO': False}],\n",
       " ['concretizar finalmente sonhar', {'ALEGRIA': True, 'MEDO': False}],\n",
       " ['implorar matar', {'ALEGRIA': False, 'MEDO': True}],\n",
       " ['perigoso', {'ALEGRIA': False, 'MEDO': True}],\n",
       " ['segurar', {'ALEGRIA': False, 'MEDO': True}],\n",
       " ['correr pra', {'ALEGRIA': False, 'MEDO': True}],\n",
       " ['socorrer querer roubar doce', {'ALEGRIA': False, 'MEDO': True}],\n",
       " ['caro perseguir', {'ALEGRIA': False, 'MEDO': True}],\n",
       " ['entrar perigoso', {'ALEGRIA': False, 'MEDO': True}],\n",
       " ['continuar assustador', {'ALEGRIA': False, 'MEDO': True}],\n",
       " ['selva animar perigoso', {'ALEGRIA': False, 'MEDO': True}],\n",
       " ['avançar cautela', {'ALEGRIA': False, 'MEDO': True}],\n",
       " ['silencioso cuidar', {'ALEGRIA': False, 'MEDO': True}],\n",
       " ['deixe-me viver', {'ALEGRIA': False, 'MEDO': True}],\n",
       " ['ficar mesada tirar noto', {'ALEGRIA': False, 'MEDO': True}],\n",
       " ['parecer olho vigiar', {'ALEGRIA': False, 'MEDO': True}],\n",
       " ['sentença juiz negativo', {'ALEGRIA': False, 'MEDO': True}],\n",
       " ['missão arriscar', {'ALEGRIA': False, 'MEDO': True}],\n",
       " ['salvem-se', {'ALEGRIA': False, 'MEDO': True}],\n",
       " ['planar descobrir', {'ALEGRIA': False, 'MEDO': True}],\n",
       " ['culpar jurar', {'ALEGRIA': False, 'MEDO': True}],\n",
       " ['tomar cuidar lobisomem', {'ALEGRIA': False, 'MEDO': True}],\n",
       " ['achar descobrir verdade', {'ALEGRIA': False, 'MEDO': True}],\n",
       " ['deus desaparecer', {'ALEGRIA': False, 'MEDO': True}],\n",
       " ['tomar daqui', {'ALEGRIA': False, 'MEDO': True}],\n",
       " ['manter segredar descobrir ferrar', {'ALEGRIA': False, 'MEDO': True}],\n",
       " ['soltar inocentar', {'ALEGRIA': False, 'MEDO': True}],\n",
       " ['ouvir passo mim', {'ALEGRIA': False, 'MEDO': True}],\n",
       " ['pedir socorrer', {'ALEGRIA': False, 'MEDO': True}],\n",
       " ['cuidar curvo estrar', {'ALEGRIA': False, 'MEDO': True}],\n",
       " ['parecer perigoso', {'ALEGRIA': False, 'MEDO': True}],\n",
       " ['tremer medo', {'ALEGRIA': False, 'MEDO': True}],\n",
       " ['socorrer cair', {'ALEGRIA': False, 'MEDO': True}],\n",
       " ['florestar negro perigoso', {'ALEGRIA': False, 'MEDO': True}],\n",
       " ['ouvir passo direção', {'ALEGRIA': False, 'MEDO': True}],\n",
       " ['achar arriscar', {'ALEGRIA': False, 'MEDO': True}],\n",
       " ['voltar perigoso', {'ALEGRIA': False, 'MEDO': True}],\n",
       " ['fugir acabar morto', {'ALEGRIA': False, 'MEDO': True}],\n",
       " ['recear livrar situação', {'ALEGRIA': False, 'MEDO': True}],\n",
       " ['socorrer armar', {'ALEGRIA': False, 'MEDO': True}],\n",
       " ['eis cuidar bater postar', {'ALEGRIA': False, 'MEDO': True}],\n",
       " ['socorrer nó afundar', {'ALEGRIA': False, 'MEDO': True}],\n",
       " ['sério cuidar armar', {'ALEGRIA': False, 'MEDO': True}],\n",
       " ['tubarão atacar', {'ALEGRIA': False, 'MEDO': True}],\n",
       " ['sentir arrepio ficar escuro', {'ALEGRIA': False, 'MEDO': True}],\n",
       " ['calmo dinheiro', {'ALEGRIA': False, 'MEDO': True}],\n",
       " ['achar enganar', {'ALEGRIA': False, 'MEDO': True}],\n",
       " ['ligeiro fugir depressa', {'ALEGRIA': False, 'MEDO': True}],\n",
       " ['crocodilo selvagem vir parir', {'ALEGRIA': False, 'MEDO': True}],\n",
       " ['ficar achar', {'ALEGRIA': False, 'MEDO': True}],\n",
       " ['fugir tigre parecer faminto', {'ALEGRIA': False, 'MEDO': True}],\n",
       " ['sair precisar milagre', {'ALEGRIA': False, 'MEDO': True}],\n",
       " ['tirar mim socorrer', {'ALEGRIA': False, 'MEDO': True}],\n",
       " ['nadar afogar', {'ALEGRIA': False, 'MEDO': True}],\n",
       " ['segurar', {'ALEGRIA': False, 'MEDO': True}],\n",
       " ['apanhar pai boletim', {'ALEGRIA': False, 'MEDO': True}],\n",
       " ['conseguir sair daqui', {'ALEGRIA': False, 'MEDO': True}],\n",
       " ['sair tardar assaltar', {'ALEGRIA': False, 'MEDO': True}],\n",
       " ['deixar', {'ALEGRIA': False, 'MEDO': True}],\n",
       " ['esperar largar', {'ALEGRIA': False, 'MEDO': True}],\n",
       " ['pelar suar segurança', {'ALEGRIA': False, 'MEDO': True}],\n",
       " ['entregar dinheiro matar', {'ALEGRIA': False, 'MEDO': True}],\n",
       " ['levar dinheiro', {'ALEGRIA': False, 'MEDO': True}],\n",
       " ['dirigir rápido', {'ALEGRIA': False, 'MEDO': True}],\n",
       " ['descobrir prender', {'ALEGRIA': False, 'MEDO': True}],\n",
       " ['esperar nenhum', {'ALEGRIA': False, 'MEDO': True}],\n",
       " ['afogar ajudar sair água', {'ALEGRIA': False, 'MEDO': True}],\n",
       " ['salvar', {'ALEGRIA': False, 'MEDO': True}],\n",
       " ['querer pensar acontecer', {'ALEGRIA': False, 'MEDO': True}],\n",
       " ['cidade umar desgraçar outro', {'ALEGRIA': False, 'MEDO': True}],\n",
       " ['alguém ligar assustar', {'ALEGRIA': False, 'MEDO': True}],\n",
       " ['remedio matar', {'ALEGRIA': False, 'MEDO': True}],\n",
       " ['confiar nele cautela', {'ALEGRIA': False, 'MEDO': True}],\n",
       " ['cautela', {'ALEGRIA': False, 'MEDO': True}],\n",
       " ['descobrir deus', {'ALEGRIA': False, 'MEDO': True}],\n",
       " ['recear', {'ALEGRIA': False, 'MEDO': True}],\n",
       " ['noite perigoso', {'ALEGRIA': False, 'MEDO': True}],\n",
       " ['estremecer casar', {'ALEGRIA': False, 'MEDO': True}],\n",
       " ['olhar criatura mover monstruosamente', {'ALEGRIA': False, 'MEDO': True}],\n",
       " ['aguentar suspense', {'ALEGRIA': False, 'MEDO': True}],\n",
       " ['afugentar cão', {'ALEGRIA': False, 'MEDO': True}],\n",
       " ['chocar amedrontar assassinato brutal', {'ALEGRIA': False, 'MEDO': True}],\n",
       " ['precisar afugentar ímpeto medo infernar', {'ALEGRIA': False, 'MEDO': True}],\n",
       " ['político suar forçar parir afugentar amedrontar',\n",
       "  {'ALEGRIA': False, 'MEDO': True}],\n",
       " ['objetivo amedrontar', {'ALEGRIA': False, 'MEDO': True}],\n",
       " ['apavorar', {'ALEGRIA': False, 'MEDO': True}]]"
      ]
     },
     "execution_count": 27,
     "metadata": {},
     "output_type": "execute_result"
    }
   ],
   "source": [
    "base_dados_final"
   ]
  },
  {
   "cell_type": "markdown",
   "id": "3530ad83",
   "metadata": {},
   "source": [
    "### Criando o classificador "
   ]
  },
  {
   "cell_type": "code",
   "execution_count": 64,
   "id": "79b602d9",
   "metadata": {},
   "outputs": [],
   "source": [
    "#Cria um modelo em branco usando pt\n",
    "modelo = spacy.blank('pt')\n",
    "#Falando o que será trabalhado na base de dados\n",
    "#textcat = constante, categorização de textos\n",
    "\n",
    "#nlp.add_pipe(\"textcat\")\n",
    "#@Language.component\n",
    "categorias = modelo.add_pipe(\"textcat\")\n",
    "\n",
    "#adicionando os y\n",
    "categorias.add_label(\"ALEGRIA\")\n",
    "categorias.add_label(\"MEDO\")\n",
    "\n",
    "#Adicionando o pipe na variavel categorias\n",
    "#nlp.add_pipe(categorias)\n",
    "\n",
    "#lista vazia que será o histórico do modelo\n",
    "historico = []"
   ]
  },
  {
   "cell_type": "code",
   "execution_count": 65,
   "id": "aa8eb6df",
   "metadata": {},
   "outputs": [
    {
     "data": {
      "text/plain": [
       "{'textcat': ['ALEGRIA', 'MEDO']}"
      ]
     },
     "execution_count": 65,
     "metadata": {},
     "output_type": "execute_result"
    }
   ],
   "source": [
    "modelo.pipe_labels"
   ]
  },
  {
   "cell_type": "markdown",
   "id": "b311302e",
   "metadata": {},
   "source": [
    "### Treinamento"
   ]
  },
  {
   "cell_type": "markdown",
   "id": "134016f6",
   "metadata": {},
   "source": [
    "- Ajuste dos pesos, para que eles se ajustem aos dados;\n",
    "- Número de épocas que vamos executar;"
   ]
  },
  {
   "cell_type": "code",
   "execution_count": 30,
   "id": "98e7a8c4",
   "metadata": {},
   "outputs": [],
   "source": [
    "from spacy.training.example import Example"
   ]
  },
  {
   "cell_type": "code",
   "execution_count": 31,
   "id": "65814902",
   "metadata": {
    "collapsed": true
   },
   "outputs": [
    {
     "ename": "ValueError",
     "evalue": "[E989] `nlp.update()` was called with two positional arguments. This may be due to a backwards-incompatible change to the format of the training data in spaCy 3.0 onwards. The 'update' function should now be called with a batch of Example objects, instead of `(text, annotation)` tuples. ",
     "output_type": "error",
     "traceback": [
      "\u001b[1;31m---------------------------------------------------------------------------\u001b[0m",
      "\u001b[1;31mValueError\u001b[0m                                Traceback (most recent call last)",
      "\u001b[1;32m~\\AppData\\Local\\Temp/ipykernel_8300/651275795.py\u001b[0m in \u001b[0;36m<module>\u001b[1;34m\u001b[0m\n\u001b[0;32m      7\u001b[0m         \u001b[0mtextos\u001b[0m \u001b[1;33m=\u001b[0m \u001b[1;33m[\u001b[0m\u001b[0mmodelo\u001b[0m\u001b[1;33m(\u001b[0m\u001b[0mtexto\u001b[0m\u001b[1;33m)\u001b[0m \u001b[1;32mfor\u001b[0m \u001b[0mtexto\u001b[0m\u001b[1;33m,\u001b[0m \u001b[0mentities\u001b[0m \u001b[1;32min\u001b[0m \u001b[0mbatch\u001b[0m\u001b[1;33m]\u001b[0m\u001b[1;33m\u001b[0m\u001b[1;33m\u001b[0m\u001b[0m\n\u001b[0;32m      8\u001b[0m         \u001b[0mannotations\u001b[0m \u001b[1;33m=\u001b[0m \u001b[1;33m[\u001b[0m\u001b[1;33m{\u001b[0m\u001b[1;34m'cats'\u001b[0m\u001b[1;33m:\u001b[0m \u001b[0mentities\u001b[0m\u001b[1;33m}\u001b[0m \u001b[1;32mfor\u001b[0m \u001b[0mtexto\u001b[0m\u001b[1;33m,\u001b[0m \u001b[0mentities\u001b[0m \u001b[1;32min\u001b[0m \u001b[0mbatch\u001b[0m\u001b[1;33m]\u001b[0m\u001b[1;33m\u001b[0m\u001b[1;33m\u001b[0m\u001b[0m\n\u001b[1;32m----> 9\u001b[1;33m         \u001b[0mmodelo\u001b[0m\u001b[1;33m.\u001b[0m\u001b[0mupdate\u001b[0m\u001b[1;33m(\u001b[0m\u001b[0mtextos\u001b[0m\u001b[1;33m,\u001b[0m \u001b[0mannotations\u001b[0m\u001b[1;33m,\u001b[0m \u001b[0mlosses\u001b[0m\u001b[1;33m=\u001b[0m\u001b[0mlosses\u001b[0m\u001b[1;33m)\u001b[0m\u001b[1;33m\u001b[0m\u001b[1;33m\u001b[0m\u001b[0m\n\u001b[0m\u001b[0;32m     10\u001b[0m     \u001b[1;32mif\u001b[0m \u001b[0mepoca\u001b[0m \u001b[1;33m%\u001b[0m \u001b[1;36m100\u001b[0m \u001b[1;33m==\u001b[0m \u001b[1;36m0\u001b[0m\u001b[1;33m:\u001b[0m\u001b[1;33m\u001b[0m\u001b[1;33m\u001b[0m\u001b[0m\n\u001b[0;32m     11\u001b[0m         \u001b[0mprint\u001b[0m\u001b[1;33m(\u001b[0m\u001b[0mlosses\u001b[0m\u001b[1;33m)\u001b[0m\u001b[1;33m\u001b[0m\u001b[1;33m\u001b[0m\u001b[0m\n",
      "\u001b[1;32m~\\Anaconda3\\envs\\machine_learning\\lib\\site-packages\\spacy\\language.py\u001b[0m in \u001b[0;36mupdate\u001b[1;34m(self, examples, _, drop, sgd, losses, component_cfg, exclude, annotates)\u001b[0m\n\u001b[0;32m   1100\u001b[0m         \"\"\"\n\u001b[0;32m   1101\u001b[0m         \u001b[1;32mif\u001b[0m \u001b[0m_\u001b[0m \u001b[1;32mis\u001b[0m \u001b[1;32mnot\u001b[0m \u001b[1;32mNone\u001b[0m\u001b[1;33m:\u001b[0m\u001b[1;33m\u001b[0m\u001b[1;33m\u001b[0m\u001b[0m\n\u001b[1;32m-> 1102\u001b[1;33m             \u001b[1;32mraise\u001b[0m \u001b[0mValueError\u001b[0m\u001b[1;33m(\u001b[0m\u001b[0mErrors\u001b[0m\u001b[1;33m.\u001b[0m\u001b[0mE989\u001b[0m\u001b[1;33m)\u001b[0m\u001b[1;33m\u001b[0m\u001b[1;33m\u001b[0m\u001b[0m\n\u001b[0m\u001b[0;32m   1103\u001b[0m         \u001b[1;32mif\u001b[0m \u001b[0mlosses\u001b[0m \u001b[1;32mis\u001b[0m \u001b[1;32mNone\u001b[0m\u001b[1;33m:\u001b[0m\u001b[1;33m\u001b[0m\u001b[1;33m\u001b[0m\u001b[0m\n\u001b[0;32m   1104\u001b[0m             \u001b[0mlosses\u001b[0m \u001b[1;33m=\u001b[0m \u001b[1;33m{\u001b[0m\u001b[1;33m}\u001b[0m\u001b[1;33m\u001b[0m\u001b[1;33m\u001b[0m\u001b[0m\n",
      "\u001b[1;31mValueError\u001b[0m: [E989] `nlp.update()` was called with two positional arguments. This may be due to a backwards-incompatible change to the format of the training data in spaCy 3.0 onwards. The 'update' function should now be called with a batch of Example objects, instead of `(text, annotation)` tuples. "
     ]
    }
   ],
   "source": [
    "modelo.begin_training()\n",
    "\n",
    "for epoca in range(1000):\n",
    "    random.shuffle(base_dados_final)\n",
    "    losses = {}\n",
    "    for batch in spacy.util.minibatch(base_dados_final, 30):\n",
    "        textos = [modelo(texto) for texto, entities in batch]\n",
    "        annotations = [{'cats': entities} for texto, entities in batch]\n",
    "        modelo.update(textos, annotations, losses=losses)\n",
    "    if epoca % 100 == 0:\n",
    "        print(losses)\n",
    "        historico.append(losses)"
   ]
  },
  {
   "cell_type": "code",
   "execution_count": 66,
   "id": "8d6f8e97",
   "metadata": {},
   "outputs": [
    {
     "ename": "KeyError",
     "evalue": "\"[E983] Invalid key for 'token_annotation': textcat. Available keys: {'sent_starts', 'DEP', 'MORPH', 'SPACY', 'tags', 'pos', 'SENT_START', 'lemmas', 'heads', 'ORTH', 'HEAD', 'spaces', 'deps', 'LEMMA', 'TAG', 'morphs', 'POS', 'words'}\"",
     "output_type": "error",
     "traceback": [
      "\u001b[1;31m---------------------------------------------------------------------------\u001b[0m",
      "\u001b[1;31mKeyError\u001b[0m                                  Traceback (most recent call last)",
      "\u001b[1;32m~\\AppData\\Local\\Temp/ipykernel_8300/3626427358.py\u001b[0m in \u001b[0;36m<module>\u001b[1;34m\u001b[0m\n\u001b[0;32m      4\u001b[0m     \u001b[1;32mfor\u001b[0m \u001b[0mraw_text\u001b[0m\u001b[1;33m,\u001b[0m \u001b[0mcats\u001b[0m \u001b[1;32min\u001b[0m \u001b[0mbase_dados_final\u001b[0m\u001b[1;33m:\u001b[0m\u001b[1;33m\u001b[0m\u001b[1;33m\u001b[0m\u001b[0m\n\u001b[0;32m      5\u001b[0m         \u001b[0mdoc\u001b[0m \u001b[1;33m=\u001b[0m \u001b[0mmodelo\u001b[0m\u001b[1;33m.\u001b[0m\u001b[0mmake_doc\u001b[0m\u001b[1;33m(\u001b[0m\u001b[0mraw_text\u001b[0m\u001b[1;33m)\u001b[0m\u001b[1;33m\u001b[0m\u001b[1;33m\u001b[0m\u001b[0m\n\u001b[1;32m----> 6\u001b[1;33m         \u001b[0mexample\u001b[0m \u001b[1;33m=\u001b[0m \u001b[0mExample\u001b[0m\u001b[1;33m.\u001b[0m\u001b[0mfrom_dict\u001b[0m\u001b[1;33m(\u001b[0m\u001b[0mdoc\u001b[0m\u001b[1;33m,\u001b[0m\u001b[1;33m{\u001b[0m\u001b[1;34m\"textcat\"\u001b[0m\u001b[1;33m:\u001b[0m \u001b[0mcats\u001b[0m\u001b[1;33m}\u001b[0m\u001b[1;33m)\u001b[0m\u001b[1;33m\u001b[0m\u001b[1;33m\u001b[0m\u001b[0m\n\u001b[0m\u001b[0;32m      7\u001b[0m         \u001b[0mmodelo\u001b[0m\u001b[1;33m.\u001b[0m\u001b[0mupdate\u001b[0m\u001b[1;33m(\u001b[0m\u001b[1;33m[\u001b[0m\u001b[0mexample\u001b[0m\u001b[1;33m]\u001b[0m\u001b[1;33m,\u001b[0m \u001b[0msgd\u001b[0m\u001b[1;33m=\u001b[0m\u001b[0moptimizer\u001b[0m\u001b[1;33m)\u001b[0m\u001b[1;33m\u001b[0m\u001b[1;33m\u001b[0m\u001b[0m\n",
      "\u001b[1;32m~\\Anaconda3\\envs\\machine_learning\\lib\\site-packages\\spacy\\training\\example.pyx\u001b[0m in \u001b[0;36mspacy.training.example.Example.from_dict\u001b[1;34m()\u001b[0m\n",
      "\u001b[1;32m~\\Anaconda3\\envs\\machine_learning\\lib\\site-packages\\spacy\\training\\example.pyx\u001b[0m in \u001b[0;36mspacy.training.example._fix_legacy_dict_data\u001b[1;34m()\u001b[0m\n",
      "\u001b[1;31mKeyError\u001b[0m: \"[E983] Invalid key for 'token_annotation': textcat. Available keys: {'sent_starts', 'DEP', 'MORPH', 'SPACY', 'tags', 'pos', 'SENT_START', 'lemmas', 'heads', 'ORTH', 'HEAD', 'spaces', 'deps', 'LEMMA', 'TAG', 'morphs', 'POS', 'words'}\""
     ]
    }
   ],
   "source": [
    "optimizer = modelo.initialize()\n",
    "for epoca in range(1000):\n",
    "    random.shuffle(base_dados_final)\n",
    "    for raw_text, cats in base_dados_final:\n",
    "        doc = modelo.make_doc(raw_text)\n",
    "        example = Example.from_dict(doc,{\"textcat\": cats})\n",
    "        modelo.update([example], sgd=optimizer)"
   ]
  },
  {
   "cell_type": "code",
   "execution_count": 60,
   "id": "6841e5a3",
   "metadata": {},
   "outputs": [
    {
     "data": {
      "text/plain": [
       "{}"
      ]
     },
     "execution_count": 60,
     "metadata": {},
     "output_type": "execute_result"
    }
   ],
   "source": [
    "text = \"Facebook released React in 2014\"\n",
    "annotations = {\"entities\": [\"U-ORG\",'O','U-TECHNOLOGY','O','U-DATE']}\n",
    "example = Example.from_dict(nlp.make_doc(text),annotations)\n",
    "nlp.update([example])"
   ]
  },
  {
   "cell_type": "code",
   "execution_count": 43,
   "id": "0791b175",
   "metadata": {
    "collapsed": true
   },
   "outputs": [
    {
     "data": {
      "text/plain": [
       "[['trabalhar agradável', {'ALEGRIA': True, 'MEDO': False}],\n",
       " ['perigoso', {'ALEGRIA': False, 'MEDO': True}],\n",
       " ['comer sonhar doce', {'ALEGRIA': True, 'MEDO': False}],\n",
       " ['implorar matar', {'ALEGRIA': False, 'MEDO': True}],\n",
       " ['achar descobrir verdade', {'ALEGRIA': False, 'MEDO': True}],\n",
       " ['descobrir deus', {'ALEGRIA': False, 'MEDO': True}],\n",
       " ['sentir hoje', {'ALEGRIA': True, 'MEDO': False}],\n",
       " ['ótimo compatível', {'ALEGRIA': True, 'MEDO': False}],\n",
       " ['estremecer casar', {'ALEGRIA': False, 'MEDO': True}],\n",
       " ['gostar ficar aconchegar', {'ALEGRIA': True, 'MEDO': False}],\n",
       " ['chamar parir comemorar', {'ALEGRIA': True, 'MEDO': False}],\n",
       " ['cativante', {'ALEGRIA': True, 'MEDO': False}],\n",
       " ['ordem', {'ALEGRIA': True, 'MEDO': False}],\n",
       " ['afugentar cão', {'ALEGRIA': False, 'MEDO': True}],\n",
       " ['soltar inocentar', {'ALEGRIA': False, 'MEDO': True}],\n",
       " ['parecer perigoso', {'ALEGRIA': False, 'MEDO': True}],\n",
       " ['pelar suar segurança', {'ALEGRIA': False, 'MEDO': True}],\n",
       " ['amar maravilhoso', {'ALEGRIA': True, 'MEDO': False}],\n",
       " ['horar apreciar vinho', {'ALEGRIA': True, 'MEDO': False}],\n",
       " ['silencioso cuidar', {'ALEGRIA': False, 'MEDO': True}],\n",
       " ['ligeiro fugir depressa', {'ALEGRIA': False, 'MEDO': True}],\n",
       " ['umar festa parir comemorar aniversário', {'ALEGRIA': True, 'MEDO': False}],\n",
       " ['desejável suar presença apresentação', {'ALEGRIA': True, 'MEDO': False}],\n",
       " ['roupar delicado', {'ALEGRIA': True, 'MEDO': False}],\n",
       " ['ficar achar', {'ALEGRIA': False, 'MEDO': True}],\n",
       " ['grato', {'ALEGRIA': True, 'MEDO': False}],\n",
       " ['adorar cabelar maciar', {'ALEGRIA': True, 'MEDO': False}],\n",
       " ['câncer benigno', {'ALEGRIA': True, 'MEDO': False}],\n",
       " ['socorrer querer roubar doce', {'ALEGRIA': False, 'MEDO': True}],\n",
       " ['segurar', {'ALEGRIA': False, 'MEDO': True}],\n",
       " ['loucamente apaixonar', {'ALEGRIA': True, 'MEDO': False}],\n",
       " ['aprovar exame', {'ALEGRIA': True, 'MEDO': False}],\n",
       " ['amor lindar', {'ALEGRIA': True, 'MEDO': False}],\n",
       " ['correr pra', {'ALEGRIA': False, 'MEDO': True}],\n",
       " ['olhar criatura mover monstruosamente', {'ALEGRIA': False, 'MEDO': True}],\n",
       " ['amizade durar parir', {'ALEGRIA': True, 'MEDO': False}],\n",
       " ['estrelo pelar caminhar', {'ALEGRIA': True, 'MEDO': False}],\n",
       " ['socorrer cair', {'ALEGRIA': False, 'MEDO': True}],\n",
       " ['trabalhar equipar melhor', {'ALEGRIA': True, 'MEDO': False}],\n",
       " ['pedir socorrer', {'ALEGRIA': False, 'MEDO': True}],\n",
       " ['tocar coração durante caminhar', {'ALEGRIA': True, 'MEDO': False}],\n",
       " ['avançar cautela', {'ALEGRIA': False, 'MEDO': True}],\n",
       " ['suar rei', {'ALEGRIA': True, 'MEDO': False}],\n",
       " ['deus desaparecer', {'ALEGRIA': False, 'MEDO': True}],\n",
       " ['político suar forçar parir afugentar amedrontar',\n",
       "  {'ALEGRIA': False, 'MEDO': True}],\n",
       " ['dúvida', {'ALEGRIA': True, 'MEDO': False}],\n",
       " ['salvem-se', {'ALEGRIA': False, 'MEDO': True}],\n",
       " ['tremer medo', {'ALEGRIA': False, 'MEDO': True}],\n",
       " ['agitar noite', {'ALEGRIA': True, 'MEDO': False}],\n",
       " ['deixar', {'ALEGRIA': False, 'MEDO': True}],\n",
       " ['aplaudir vencedor', {'ALEGRIA': True, 'MEDO': False}],\n",
       " ['achar arriscar', {'ALEGRIA': False, 'MEDO': True}],\n",
       " ['apanhar pai boletim', {'ALEGRIA': False, 'MEDO': True}],\n",
       " ['segurar', {'ALEGRIA': False, 'MEDO': True}],\n",
       " ['adesão cursar hoje', {'ALEGRIA': True, 'MEDO': False}],\n",
       " ['precisar afugentar ímpeto medo infernar', {'ALEGRIA': False, 'MEDO': True}],\n",
       " ['querer agradar filho', {'ALEGRIA': True, 'MEDO': False}],\n",
       " ['ótimo menimos apaziguar', {'ALEGRIA': True, 'MEDO': False}],\n",
       " ['cuidar curvo estrar', {'ALEGRIA': False, 'MEDO': True}],\n",
       " ['sentença juiz negativo', {'ALEGRIA': False, 'MEDO': True}],\n",
       " ['elogiar', {'ALEGRIA': True, 'MEDO': False}],\n",
       " ['cuidadoso sentimento', {'ALEGRIA': True, 'MEDO': False}],\n",
       " ['objetivo amedrontar', {'ALEGRIA': False, 'MEDO': True}],\n",
       " ['comer confortável', {'ALEGRIA': True, 'MEDO': False}],\n",
       " ['apavorar', {'ALEGRIA': False, 'MEDO': True}],\n",
       " ['missão arriscar', {'ALEGRIA': False, 'MEDO': True}],\n",
       " ['crocodilo selvagem vir parir', {'ALEGRIA': False, 'MEDO': True}],\n",
       " ['tubarão atacar', {'ALEGRIA': False, 'MEDO': True}],\n",
       " ['levar dinheiro', {'ALEGRIA': False, 'MEDO': True}],\n",
       " ['realmente fiel mim', {'ALEGRIA': True, 'MEDO': False}],\n",
       " ['sentir reconfortar hoje', {'ALEGRIA': True, 'MEDO': False}],\n",
       " ['culpar jurar', {'ALEGRIA': False, 'MEDO': True}],\n",
       " ['aguentar suspense', {'ALEGRIA': False, 'MEDO': True}],\n",
       " ['afogar ajudar sair água', {'ALEGRIA': False, 'MEDO': True}],\n",
       " ['florestar negro perigoso', {'ALEGRIA': False, 'MEDO': True}],\n",
       " ['sentir completamente amar', {'ALEGRIA': True, 'MEDO': False}],\n",
       " ['contentar apoiar', {'ALEGRIA': True, 'MEDO': False}],\n",
       " ['palmar parir aniversariante', {'ALEGRIA': True, 'MEDO': False}],\n",
       " ['agir preconceito julgamento', {'ALEGRIA': True, 'MEDO': False}],\n",
       " ['salvar', {'ALEGRIA': False, 'MEDO': True}],\n",
       " ['maravilhar mundo', {'ALEGRIA': True, 'MEDO': False}],\n",
       " ['sentir sol', {'ALEGRIA': True, 'MEDO': False}],\n",
       " ['enorme prazer equipar', {'ALEGRIA': True, 'MEDO': False}],\n",
       " ['nó dançar noite adentrar', {'ALEGRIA': True, 'MEDO': False}],\n",
       " ['tirar mim socorrer', {'ALEGRIA': False, 'MEDO': True}],\n",
       " ['cautela', {'ALEGRIA': False, 'MEDO': True}],\n",
       " ['sorrir orelhar orelhar', {'ALEGRIA': True, 'MEDO': False}],\n",
       " ['comediante', {'ALEGRIA': True, 'MEDO': False}],\n",
       " ['cativar pelar olhar', {'ALEGRIA': True, 'MEDO': False}],\n",
       " ['comer luar belo', {'ALEGRIA': True, 'MEDO': False}],\n",
       " ['sentir arrepio ficar escuro', {'ALEGRIA': False, 'MEDO': True}],\n",
       " ['tomar cuidar lobisomem', {'ALEGRIA': False, 'MEDO': True}],\n",
       " ['atrair facilmente', {'ALEGRIA': True, 'MEDO': False}],\n",
       " ['cidade umar desgraçar outro', {'ALEGRIA': False, 'MEDO': True}],\n",
       " ['receber caro hoje colega', {'ALEGRIA': True, 'MEDO': False}],\n",
       " ['dedicar naquilo', {'ALEGRIA': True, 'MEDO': False}],\n",
       " ['sair precisar milagre', {'ALEGRIA': False, 'MEDO': True}],\n",
       " ['eufórico notícia', {'ALEGRIA': True, 'MEDO': False}],\n",
       " ['sair tardar assaltar', {'ALEGRIA': False, 'MEDO': True}],\n",
       " ['apreciar suar presença escola', {'ALEGRIA': True, 'MEDO': False}],\n",
       " ['amar', {'ALEGRIA': True, 'MEDO': False}],\n",
       " ['sinto-me vivo', {'ALEGRIA': True, 'MEDO': False}],\n",
       " ['comer charmoso querer', {'ALEGRIA': True, 'MEDO': False}],\n",
       " ['pintura brilhante', {'ALEGRIA': True, 'MEDO': False}],\n",
       " ['descobrir prender', {'ALEGRIA': False, 'MEDO': True}],\n",
       " ['sentir animar', {'ALEGRIA': True, 'MEDO': False}],\n",
       " ['trazer voltar vidar', {'ALEGRIA': True, 'MEDO': False}],\n",
       " ['conseguir sair daqui', {'ALEGRIA': False, 'MEDO': True}],\n",
       " ['suco favorito', {'ALEGRIA': True, 'MEDO': False}],\n",
       " ['deixe-me viver', {'ALEGRIA': False, 'MEDO': True}],\n",
       " ['arrumar empregar junto', {'ALEGRIA': True, 'MEDO': False}],\n",
       " ['maravilhoso jogar amistoso', {'ALEGRIA': True, 'MEDO': False}],\n",
       " ['chocar amedrontar assassinato brutal', {'ALEGRIA': False, 'MEDO': True}],\n",
       " ['finalmente completar coleção maravilhoso',\n",
       "  {'ALEGRIA': True, 'MEDO': False}],\n",
       " ['rapaz extremamente atraente', {'ALEGRIA': True, 'MEDO': False}],\n",
       " ['arrumação terminar alívio', {'ALEGRIA': True, 'MEDO': False}],\n",
       " ['finalmente colocar amor', {'ALEGRIA': True, 'MEDO': False}],\n",
       " ['ouvir passo direção', {'ALEGRIA': False, 'MEDO': True}],\n",
       " ['nadar afogar', {'ALEGRIA': False, 'MEDO': True}],\n",
       " ['querer pensar acontecer', {'ALEGRIA': False, 'MEDO': True}],\n",
       " ['lucrar', {'ALEGRIA': True, 'MEDO': False}],\n",
       " ['eis cuidar bater postar', {'ALEGRIA': False, 'MEDO': True}],\n",
       " ['suar amigo companheiro', {'ALEGRIA': True, 'MEDO': False}],\n",
       " ['caro perseguir', {'ALEGRIA': False, 'MEDO': True}],\n",
       " ['dirigir rápido', {'ALEGRIA': False, 'MEDO': True}],\n",
       " ['achar enganar', {'ALEGRIA': False, 'MEDO': True}],\n",
       " ['achar apaixonar', {'ALEGRIA': True, 'MEDO': False}],\n",
       " ['valer peno', {'ALEGRIA': True, 'MEDO': False}],\n",
       " ['planar descobrir', {'ALEGRIA': False, 'MEDO': True}],\n",
       " ['charme irar atrair', {'ALEGRIA': True, 'MEDO': False}],\n",
       " ['amigo', {'ALEGRIA': True, 'MEDO': False}],\n",
       " ['somar amável outro', {'ALEGRIA': True, 'MEDO': False}],\n",
       " ['tomar daqui', {'ALEGRIA': False, 'MEDO': True}],\n",
       " ['entrar perigoso', {'ALEGRIA': False, 'MEDO': True}],\n",
       " ['adorar cor olho', {'ALEGRIA': True, 'MEDO': False}],\n",
       " ['água abundância', {'ALEGRIA': True, 'MEDO': False}],\n",
       " ['calmo dinheiro', {'ALEGRIA': False, 'MEDO': True}],\n",
       " ['contentar resultar teste', {'ALEGRIA': True, 'MEDO': False}],\n",
       " ['sentir umar afeição', {'ALEGRIA': True, 'MEDO': False}],\n",
       " ['continuar assustador', {'ALEGRIA': False, 'MEDO': True}],\n",
       " ['chá quentar reconfortante', {'ALEGRIA': True, 'MEDO': False}],\n",
       " ['fugir acabar morto', {'ALEGRIA': False, 'MEDO': True}],\n",
       " ['alegria', {'ALEGRIA': True, 'MEDO': False}],\n",
       " ['dia bonito', {'ALEGRIA': True, 'MEDO': False}],\n",
       " ['rodear pelar abraçar', {'ALEGRIA': True, 'MEDO': False}],\n",
       " ['comover tamanho caridade', {'ALEGRIA': True, 'MEDO': False}],\n",
       " ['quentar frio', {'ALEGRIA': True, 'MEDO': False}],\n",
       " ['ansiar trabalho', {'ALEGRIA': True, 'MEDO': False}],\n",
       " ['órgão compatível paciente', {'ALEGRIA': True, 'MEDO': False}],\n",
       " ['adorar doce frutar', {'ALEGRIA': True, 'MEDO': False}],\n",
       " ['engraçar explicar', {'ALEGRIA': True, 'MEDO': False}],\n",
       " ['parecer olho vigiar', {'ALEGRIA': False, 'MEDO': True}],\n",
       " ['entregar dinheiro matar', {'ALEGRIA': False, 'MEDO': True}],\n",
       " ['adorar comer', {'ALEGRIA': True, 'MEDO': False}],\n",
       " ['querido amigo', {'ALEGRIA': True, 'MEDO': False}],\n",
       " ['selva animar perigoso', {'ALEGRIA': False, 'MEDO': True}],\n",
       " ['amor brilhante', {'ALEGRIA': True, 'MEDO': False}],\n",
       " ['comer afortunar', {'ALEGRIA': True, 'MEDO': False}],\n",
       " ['brisa agradável hoje', {'ALEGRIA': True, 'MEDO': False}],\n",
       " ['significar parir mim', {'ALEGRIA': True, 'MEDO': False}],\n",
       " ['ficar mesada tirar noto', {'ALEGRIA': False, 'MEDO': True}],\n",
       " ['concretizar finalmente sonhar', {'ALEGRIA': True, 'MEDO': False}],\n",
       " ['completamente apaixonar', {'ALEGRIA': True, 'MEDO': False}],\n",
       " ['melhor escolher', {'ALEGRIA': True, 'MEDO': False}],\n",
       " ['bondade suar', {'ALEGRIA': True, 'MEDO': False}],\n",
       " ['alívio', {'ALEGRIA': True, 'MEDO': False}],\n",
       " ['amor abundante', {'ALEGRIA': True, 'MEDO': False}],\n",
       " ['socorrer armar', {'ALEGRIA': False, 'MEDO': True}],\n",
       " ['sério cuidar armar', {'ALEGRIA': False, 'MEDO': True}],\n",
       " ['socorrer nó afundar', {'ALEGRIA': False, 'MEDO': True}],\n",
       " ['admirar', {'ALEGRIA': True, 'MEDO': False}],\n",
       " ['alguém ligar assustar', {'ALEGRIA': False, 'MEDO': True}],\n",
       " ['voltar perigoso', {'ALEGRIA': False, 'MEDO': True}],\n",
       " ['recear', {'ALEGRIA': False, 'MEDO': True}],\n",
       " ['dor amenizar finalmente', {'ALEGRIA': True, 'MEDO': False}],\n",
       " ['remedio matar', {'ALEGRIA': False, 'MEDO': True}],\n",
       " ['recear livrar situação', {'ALEGRIA': False, 'MEDO': True}],\n",
       " ['esperar nenhum', {'ALEGRIA': False, 'MEDO': True}],\n",
       " ['esperar largar', {'ALEGRIA': False, 'MEDO': True}],\n",
       " ['desejar', {'ALEGRIA': True, 'MEDO': False}],\n",
       " ['agradecido pelar ajudar', {'ALEGRIA': True, 'MEDO': False}],\n",
       " ['emocionante', {'ALEGRIA': True, 'MEDO': False}],\n",
       " ['fugir tigre parecer faminto', {'ALEGRIA': False, 'MEDO': True}],\n",
       " ['graça deus enxergar certar', {'ALEGRIA': True, 'MEDO': False}],\n",
       " ['ouvir passo mim', {'ALEGRIA': False, 'MEDO': True}],\n",
       " ['compatível outro', {'ALEGRIA': True, 'MEDO': False}],\n",
       " ['contentar aceito faculdade', {'ALEGRIA': True, 'MEDO': False}],\n",
       " ['satisfatoriamente anunciar vencedor jogo',\n",
       "  {'ALEGRIA': True, 'MEDO': False}],\n",
       " ['sentir flutuar ar', {'ALEGRIA': True, 'MEDO': False}],\n",
       " ['confiar nele cautela', {'ALEGRIA': False, 'MEDO': True}],\n",
       " ['noite perigoso', {'ALEGRIA': False, 'MEDO': True}],\n",
       " ['caridoso natal', {'ALEGRIA': True, 'MEDO': False}],\n",
       " ['manter segredar descobrir ferrar', {'ALEGRIA': False, 'MEDO': True}],\n",
       " ['incrível belo', {'ALEGRIA': True, 'MEDO': False}],\n",
       " ['sinto-me paz', {'ALEGRIA': True, 'MEDO': False}],\n",
       " ['beneficiar pelar empresar', {'ALEGRIA': True, 'MEDO': False}]]"
      ]
     },
     "execution_count": 43,
     "metadata": {},
     "output_type": "execute_result"
    }
   ],
   "source": [
    "base_dados_final"
   ]
  },
  {
   "cell_type": "code",
   "execution_count": 46,
   "id": "70942e44",
   "metadata": {
    "collapsed": true
   },
   "outputs": [
    {
     "ename": "KeyError",
     "evalue": "\"[E983] Invalid key for 'token_annotation': ALEGRIA. Available keys: {'sent_starts', 'DEP', 'MORPH', 'SPACY', 'tags', 'pos', 'SENT_START', 'lemmas', 'heads', 'ORTH', 'HEAD', 'spaces', 'deps', 'LEMMA', 'TAG', 'morphs', 'POS', 'words'}\"",
     "output_type": "error",
     "traceback": [
      "\u001b[1;31m---------------------------------------------------------------------------\u001b[0m",
      "\u001b[1;31mKeyError\u001b[0m                                  Traceback (most recent call last)",
      "\u001b[1;32m~\\AppData\\Local\\Temp/ipykernel_8300/1378063607.py\u001b[0m in \u001b[0;36m<module>\u001b[1;34m\u001b[0m\n\u001b[0;32m      1\u001b[0m \u001b[0mexamples\u001b[0m \u001b[1;33m=\u001b[0m \u001b[1;33m[\u001b[0m\u001b[1;33m]\u001b[0m\u001b[1;33m\u001b[0m\u001b[1;33m\u001b[0m\u001b[0m\n\u001b[0;32m      2\u001b[0m \u001b[1;32mfor\u001b[0m \u001b[0mtext\u001b[0m\u001b[1;33m,\u001b[0m \u001b[0mannots\u001b[0m \u001b[1;32min\u001b[0m \u001b[0mbase_dados_final\u001b[0m\u001b[1;33m:\u001b[0m\u001b[1;33m\u001b[0m\u001b[1;33m\u001b[0m\u001b[0m\n\u001b[1;32m----> 3\u001b[1;33m     \u001b[0mexamples\u001b[0m\u001b[1;33m.\u001b[0m\u001b[0mappend\u001b[0m\u001b[1;33m(\u001b[0m\u001b[0mExample\u001b[0m\u001b[1;33m.\u001b[0m\u001b[0mfrom_dict\u001b[0m\u001b[1;33m(\u001b[0m\u001b[0mmodelo\u001b[0m\u001b[1;33m.\u001b[0m\u001b[0mmake_doc\u001b[0m\u001b[1;33m(\u001b[0m\u001b[0mtext\u001b[0m\u001b[1;33m)\u001b[0m\u001b[1;33m,\u001b[0m \u001b[0mannots\u001b[0m\u001b[1;33m)\u001b[0m\u001b[1;33m)\u001b[0m\u001b[1;33m\u001b[0m\u001b[1;33m\u001b[0m\u001b[0m\n\u001b[0m\u001b[0;32m      4\u001b[0m     \u001b[0mmodelo\u001b[0m\u001b[1;33m.\u001b[0m\u001b[0minitialize\u001b[0m\u001b[1;33m(\u001b[0m\u001b[1;32mlambda\u001b[0m\u001b[1;33m:\u001b[0m \u001b[0mexamples\u001b[0m\u001b[1;33m)\u001b[0m\u001b[1;33m\u001b[0m\u001b[1;33m\u001b[0m\u001b[0m\n\u001b[0;32m      5\u001b[0m     \u001b[1;32mfor\u001b[0m \u001b[0mi\u001b[0m \u001b[1;32min\u001b[0m \u001b[0mrange\u001b[0m\u001b[1;33m(\u001b[0m\u001b[1;36m20\u001b[0m\u001b[1;33m)\u001b[0m\u001b[1;33m:\u001b[0m\u001b[1;33m\u001b[0m\u001b[1;33m\u001b[0m\u001b[0m\n",
      "\u001b[1;32m~\\Anaconda3\\envs\\machine_learning\\lib\\site-packages\\spacy\\training\\example.pyx\u001b[0m in \u001b[0;36mspacy.training.example.Example.from_dict\u001b[1;34m()\u001b[0m\n",
      "\u001b[1;32m~\\Anaconda3\\envs\\machine_learning\\lib\\site-packages\\spacy\\training\\example.pyx\u001b[0m in \u001b[0;36mspacy.training.example._fix_legacy_dict_data\u001b[1;34m()\u001b[0m\n",
      "\u001b[1;31mKeyError\u001b[0m: \"[E983] Invalid key for 'token_annotation': ALEGRIA. Available keys: {'sent_starts', 'DEP', 'MORPH', 'SPACY', 'tags', 'pos', 'SENT_START', 'lemmas', 'heads', 'ORTH', 'HEAD', 'spaces', 'deps', 'LEMMA', 'TAG', 'morphs', 'POS', 'words'}\""
     ]
    }
   ],
   "source": [
    "examples = []\n",
    "for text, annots in base_dados_final:\n",
    "    examples.append(Example.from_dict(modelo.make_doc(text), annots))\n",
    "    modelo.initialize(lambda: examples)\n",
    "    for i in range(20):\n",
    "        random.shuffle(examples)\n",
    "        for batch in spacy.util.minibatch(examples, size=8):\n",
    "            modelo.update(batch)"
   ]
  },
  {
   "cell_type": "code",
   "execution_count": 57,
   "id": "5ec3d643",
   "metadata": {
    "collapsed": true
   },
   "outputs": [
    {
     "ename": "ValueError",
     "evalue": "too many values to unpack (expected 2)",
     "output_type": "error",
     "traceback": [
      "\u001b[1;31m---------------------------------------------------------------------------\u001b[0m",
      "\u001b[1;31mValueError\u001b[0m                                Traceback (most recent call last)",
      "\u001b[1;32m~\\AppData\\Local\\Temp/ipykernel_8300/627197738.py\u001b[0m in \u001b[0;36m<module>\u001b[1;34m\u001b[0m\n\u001b[0;32m      1\u001b[0m \u001b[0mexamples\u001b[0m \u001b[1;33m=\u001b[0m \u001b[1;33m[\u001b[0m\u001b[1;33m]\u001b[0m\u001b[1;33m\u001b[0m\u001b[1;33m\u001b[0m\u001b[0m\n\u001b[1;32m----> 2\u001b[1;33m \u001b[1;32mfor\u001b[0m \u001b[0mtext\u001b[0m\u001b[1;33m,\u001b[0m \u001b[0mannots\u001b[0m \u001b[1;32min\u001b[0m \u001b[0mtreino\u001b[0m\u001b[1;33m:\u001b[0m\u001b[1;33m\u001b[0m\u001b[1;33m\u001b[0m\u001b[0m\n\u001b[0m\u001b[0;32m      3\u001b[0m     \u001b[0mexamples\u001b[0m\u001b[1;33m.\u001b[0m\u001b[0mappend\u001b[0m\u001b[1;33m(\u001b[0m\u001b[0mExample\u001b[0m\u001b[1;33m.\u001b[0m\u001b[0mfrom_dict\u001b[0m\u001b[1;33m(\u001b[0m\u001b[0mmodelo\u001b[0m\u001b[1;33m.\u001b[0m\u001b[0mmake_doc\u001b[0m\u001b[1;33m(\u001b[0m\u001b[0mtext\u001b[0m\u001b[1;33m)\u001b[0m\u001b[1;33m,\u001b[0m \u001b[0mannots\u001b[0m\u001b[1;33m)\u001b[0m\u001b[1;33m)\u001b[0m\u001b[1;33m\u001b[0m\u001b[1;33m\u001b[0m\u001b[0m\n\u001b[0;32m      4\u001b[0m     \u001b[0mmodelo\u001b[0m\u001b[1;33m.\u001b[0m\u001b[0minitialize\u001b[0m\u001b[1;33m(\u001b[0m\u001b[1;32mlambda\u001b[0m\u001b[1;33m:\u001b[0m \u001b[0mexamples\u001b[0m\u001b[1;33m)\u001b[0m\u001b[1;33m\u001b[0m\u001b[1;33m\u001b[0m\u001b[0m\n\u001b[0;32m      5\u001b[0m     \u001b[1;32mfor\u001b[0m \u001b[0mi\u001b[0m \u001b[1;32min\u001b[0m \u001b[0mrange\u001b[0m\u001b[1;33m(\u001b[0m\u001b[1;36m20\u001b[0m\u001b[1;33m)\u001b[0m\u001b[1;33m:\u001b[0m\u001b[1;33m\u001b[0m\u001b[1;33m\u001b[0m\u001b[0m\n",
      "\u001b[1;31mValueError\u001b[0m: too many values to unpack (expected 2)"
     ]
    }
   ],
   "source": [
    "examples = []\n",
    "for text, annots in treino:\n",
    "    examples.append(Example.from_dict(modelo.make_doc(text), annots))\n",
    "    modelo.initialize(lambda: examples)\n",
    "    for i in range(20):\n",
    "        random.shuffle(examples)\n",
    "        for batch in spacy.util.minibatch(examples, size=8):\n",
    "            modelo.update(batch)"
   ]
  },
  {
   "cell_type": "code",
   "execution_count": null,
   "id": "957835c6",
   "metadata": {},
   "outputs": [],
   "source": []
  }
 ],
 "metadata": {
  "kernelspec": {
   "display_name": "machine_learning",
   "language": "python",
   "name": "machine_learning"
  },
  "language_info": {
   "codemirror_mode": {
    "name": "ipython",
    "version": 3
   },
   "file_extension": ".py",
   "mimetype": "text/x-python",
   "name": "python",
   "nbconvert_exporter": "python",
   "pygments_lexer": "ipython3",
   "version": "3.9.7"
  }
 },
 "nbformat": 4,
 "nbformat_minor": 5
}
