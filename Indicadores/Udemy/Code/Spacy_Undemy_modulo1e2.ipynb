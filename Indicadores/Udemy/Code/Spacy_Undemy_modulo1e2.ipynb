{
 "cells": [
  {
   "cell_type": "code",
   "execution_count": 1,
   "id": "e793ab46",
   "metadata": {},
   "outputs": [
    {
     "data": {
      "text/plain": [
       "'3.1.2'"
      ]
     },
     "execution_count": 1,
     "metadata": {},
     "output_type": "execute_result"
    }
   ],
   "source": [
    "import spacy\n",
    "spacy.__version__"
   ]
  },
  {
   "cell_type": "code",
   "execution_count": 2,
   "id": "3132a8a3",
   "metadata": {},
   "outputs": [
    {
     "data": {
      "text/plain": [
       "<spacy.lang.pt.Portuguese at 0x1c1b194baf0>"
      ]
     },
     "execution_count": 2,
     "metadata": {},
     "output_type": "execute_result"
    }
   ],
   "source": [
    "#Objeto que fará o precessamento da pln nos dados...\n",
    "# a partir da pipeline spacy em portugues pt_core_news_sm\n",
    "pln = spacy.load('pt_core_news_sm')\n",
    "pln"
   ]
  },
  {
   "cell_type": "code",
   "execution_count": 3,
   "id": "8cf08487",
   "metadata": {},
   "outputs": [
    {
     "data": {
      "text/plain": [
       "\"\\ndef manda_pra_doc(descricao):\\n    documento = pln(descricao)\\n\\ndf[nova coluna] = df[['descrição']].apply(manda_pra_doc, axis=1)\\n\""
      ]
     },
     "execution_count": 3,
     "metadata": {},
     "output_type": "execute_result"
    }
   ],
   "source": [
    "\"\"\"\n",
    "def manda_pra_doc(descricao):\n",
    "    documento = pln(descricao)\n",
    "\n",
    "df[nova coluna] = df[['descrição']].apply(manda_pra_doc, axis=1)\n",
    "\"\"\""
   ]
  },
  {
   "cell_type": "code",
   "execution_count": 4,
   "id": "0fd8ee36",
   "metadata": {},
   "outputs": [],
   "source": [
    "#Texto a ser feito um processamento em portugues\n",
    "documento = pln('Estou aprendendo processamento de linguagem natural, curso em Curitiba')"
   ]
  },
  {
   "cell_type": "code",
   "execution_count": 5,
   "id": "66e87b97",
   "metadata": {},
   "outputs": [
    {
     "name": "stdout",
     "output_type": "stream",
     "text": [
      "Estou AUX\n",
      "aprendendo VERB\n",
      "processamento NOUN\n",
      "de ADP\n",
      "linguagem NOUN\n",
      "natural ADJ\n",
      ", PUNCT\n",
      "curso NOUN\n",
      "em ADP\n",
      "Curitiba PROPN\n"
     ]
    },
    {
     "data": {
      "text/plain": [
       "'auxiliary'"
      ]
     },
     "execution_count": 5,
     "metadata": {},
     "output_type": "execute_result"
    }
   ],
   "source": [
    "for token in documento:\n",
    "    print(token.text, token.pos_)\n",
    "\n",
    "#Explicando o que significa o pos_ \"AUX\"\n",
    "spacy.explain(\"AUX\")"
   ]
  },
  {
   "cell_type": "markdown",
   "id": "51db1243",
   "metadata": {},
   "source": [
    "# Legenda\n",
    "##### \n",
    "#### -> lemma: raiz da palavra\n",
    "#### -> pos: parte da fala\n",
    "#### -> tag: informações morfológicas, como se o verbo está no passado\n",
    "#### -> dep: dependência sintática\n",
    "#### -> shape: formato (maiúsculo, minúsculo, dígitos)\n",
    "#### -> alpha: se é alfabético\n",
    "#### -> stop: se é stopword\n",
    "#### -> morph: análise morfológica"
   ]
  },
  {
   "cell_type": "code",
   "execution_count": 6,
   "id": "84514566",
   "metadata": {},
   "outputs": [
    {
     "name": "stdout",
     "output_type": "stream",
     "text": [
      "Estou Estou AUX AUX aux Xxxxx True True Mood=Ind|Number=Sing|Person=1|Tense=Pres|VerbForm=Fin\n",
      "aprendendo aprender VERB VERB ROOT xxxx True False VerbForm=Ger\n",
      "processamento processamento NOUN NOUN obj xxxx True False Gender=Masc|Number=Sing\n",
      "de de ADP ADP case xx True True \n",
      "linguagem linguagem NOUN NOUN nmod xxxx True False Gender=Fem|Number=Sing\n",
      "natural natural ADJ ADJ amod xxxx True False Gender=Fem|Number=Sing\n",
      ", , PUNCT PUNCT punct , False False \n",
      "curso cursar NOUN NOUN conj xxxx True False Gender=Masc|Number=Sing\n",
      "em em ADP ADP case xx True True \n",
      "Curitiba Curitiba PROPN PROPN nmod Xxxxx True False Gender=Masc|Number=Sing\n"
     ]
    }
   ],
   "source": [
    "for token in documento:\n",
    "    print(token.text, token.lemma_, token.pos_, token.tag_, token.dep_, \n",
    "          token.shape_, token.is_alpha, token.is_stop, token.morph)"
   ]
  },
  {
   "cell_type": "code",
   "execution_count": 7,
   "id": "0c37cde9",
   "metadata": {},
   "outputs": [
    {
     "name": "stdout",
     "output_type": "stream",
     "text": [
      "Curitiba\n"
     ]
    }
   ],
   "source": [
    "#Buscando palavras que são nomes próprios\n",
    "for token in documento:\n",
    "    if token.pos_ == 'PROPN':\n",
    "        print(token.text)"
   ]
  },
  {
   "cell_type": "markdown",
   "id": "fa5bc767",
   "metadata": {},
   "source": [
    "# Lema"
   ]
  },
  {
   "cell_type": "markdown",
   "id": "07b726a1",
   "metadata": {},
   "source": [
    "### -> Lematização: \"Lema\" de uma palavra de acordo com seu significado no dicionário - palavra base (análise vocabular e morfológica)\n",
    "### -> Stemização: Extrair o radical das palavras"
   ]
  },
  {
   "cell_type": "code",
   "execution_count": 8,
   "id": "b17590ef",
   "metadata": {},
   "outputs": [
    {
     "name": "stdout",
     "output_type": "stream",
     "text": [
      "Estou Estou\n",
      "aprendendo aprender\n",
      "processamento processamento\n",
      "de de\n",
      "linguagem linguagem\n",
      "natural natural\n",
      ", ,\n",
      "curso cursar\n",
      "em em\n",
      "Curitiba Curitiba\n"
     ]
    }
   ],
   "source": [
    "#Extraindo a raiz da palavra\n",
    "for token in documento:\n",
    "    print(token.text, token.lemma_)"
   ]
  },
  {
   "cell_type": "code",
   "execution_count": 9,
   "id": "57d215d6",
   "metadata": {},
   "outputs": [
    {
     "data": {
      "text/plain": [
       "['encontrar',\n",
       " 'encontrar',\n",
       " 'encontrar',\n",
       " 'encontrar',\n",
       " 'cursar',\n",
       " 'cursar',\n",
       " 'cursar']"
      ]
     },
     "execution_count": 9,
     "metadata": {},
     "output_type": "execute_result"
    }
   ],
   "source": [
    "#Mostrando a palavra base das palavras em diferentes classes gramáticais\n",
    "doc = pln('encontrei encontraram encontrarão encontrariam cursando curso cursei')\n",
    "[token.lemma_ for token in doc]"
   ]
  },
  {
   "cell_type": "code",
   "execution_count": 10,
   "id": "372ae067",
   "metadata": {},
   "outputs": [
    {
     "data": {
      "text/plain": [
       "['coisa']"
      ]
     },
     "execution_count": 10,
     "metadata": {},
     "output_type": "execute_result"
    }
   ],
   "source": [
    "#RETIRANDO DO PLURAL\n",
    "doc_exemplo = pln('coisas')\n",
    "[token.lemma_ for token in doc_exemplo]"
   ]
  },
  {
   "cell_type": "markdown",
   "id": "2482bb04",
   "metadata": {},
   "source": [
    "# NLTK x spaCy"
   ]
  },
  {
   "cell_type": "code",
   "execution_count": 11,
   "id": "16689bab",
   "metadata": {},
   "outputs": [
    {
     "data": {
      "text/plain": [
       "'aprend'"
      ]
     },
     "execution_count": 11,
     "metadata": {},
     "output_type": "execute_result"
    }
   ],
   "source": [
    "#Extrai a raíz da palavra\n",
    "import nltk\n",
    "\n",
    "stemmer = nltk.stem.RSLPStemmer()\n",
    "stemmer.stem('aprendendo')"
   ]
  },
  {
   "cell_type": "code",
   "execution_count": 12,
   "id": "ac8a2f51",
   "metadata": {},
   "outputs": [
    {
     "name": "stdout",
     "output_type": "stream",
     "text": [
      "Estou Estou est\n",
      "aprendendo aprender aprend\n",
      "processamento processamento process\n",
      "de de de\n",
      "linguagem linguagem lingu\n",
      "natural natural natur\n",
      ", , ,\n",
      "curso cursar curs\n",
      "em em em\n",
      "Curitiba Curitiba curitib\n"
     ]
    }
   ],
   "source": [
    "for token in documento:\n",
    "    print(token.text, token.lemma_, stemmer.stem(token.text))"
   ]
  },
  {
   "cell_type": "markdown",
   "id": "6019a3c4",
   "metadata": {},
   "source": [
    "# Entidades"
   ]
  },
  {
   "cell_type": "markdown",
   "id": "e0e7247e",
   "metadata": {},
   "source": [
    "### -> NER (Named-Entity Recognition)\n",
    "### -> Encontrar e classificar entidades no texto, dependendo da base de dados que foi utilizada para o treinamento (pessoa, localização, empresa, numéricos)\n",
    "### -> Usado em chatbots para saber o assunto falado\n",
    "### -> Siglas: https://spacy.io/api/annotation#named-entities"
   ]
  },
  {
   "cell_type": "code",
   "execution_count": 13,
   "id": "1df7afa0",
   "metadata": {},
   "outputs": [],
   "source": [
    "texto = 'A IBM é uma empresa dos Estados Unidos voltada para a área de informática. Sua sede no Brasil fica em São Paulo e a receita em 2018 foi de aproximadamente 320 bilhões de reais'"
   ]
  },
  {
   "cell_type": "code",
   "execution_count": 14,
   "id": "79e47e47",
   "metadata": {},
   "outputs": [],
   "source": [
    "documento = pln(texto)"
   ]
  },
  {
   "cell_type": "code",
   "execution_count": 15,
   "id": "0dfc5e4f",
   "metadata": {},
   "outputs": [
    {
     "name": "stdout",
     "output_type": "stream",
     "text": [
      "IBM ORG\n",
      "Estados Unidos LOC\n",
      "Brasil LOC\n",
      "São Paulo LOC\n"
     ]
    }
   ],
   "source": [
    "for entidade in documento.ents:\n",
    "    print(entidade.text, entidade.label_)"
   ]
  },
  {
   "cell_type": "code",
   "execution_count": 16,
   "id": "64447b7f",
   "metadata": {},
   "outputs": [
    {
     "data": {
      "text/html": [
       "<span class=\"tex2jax_ignore\"><div class=\"entities\" style=\"line-height: 2.5; direction: ltr\">A \n",
       "<mark class=\"entity\" style=\"background: #7aecec; padding: 0.45em 0.6em; margin: 0 0.25em; line-height: 1; border-radius: 0.35em;\">\n",
       "    IBM\n",
       "    <span style=\"font-size: 0.8em; font-weight: bold; line-height: 1; border-radius: 0.35em; vertical-align: middle; margin-left: 0.5rem\">ORG</span>\n",
       "</mark>\n",
       " é uma empresa dos \n",
       "<mark class=\"entity\" style=\"background: #ff9561; padding: 0.45em 0.6em; margin: 0 0.25em; line-height: 1; border-radius: 0.35em;\">\n",
       "    Estados Unidos\n",
       "    <span style=\"font-size: 0.8em; font-weight: bold; line-height: 1; border-radius: 0.35em; vertical-align: middle; margin-left: 0.5rem\">LOC</span>\n",
       "</mark>\n",
       " voltada para a área de informática. Sua sede no \n",
       "<mark class=\"entity\" style=\"background: #ff9561; padding: 0.45em 0.6em; margin: 0 0.25em; line-height: 1; border-radius: 0.35em;\">\n",
       "    Brasil\n",
       "    <span style=\"font-size: 0.8em; font-weight: bold; line-height: 1; border-radius: 0.35em; vertical-align: middle; margin-left: 0.5rem\">LOC</span>\n",
       "</mark>\n",
       " fica em \n",
       "<mark class=\"entity\" style=\"background: #ff9561; padding: 0.45em 0.6em; margin: 0 0.25em; line-height: 1; border-radius: 0.35em;\">\n",
       "    São Paulo\n",
       "    <span style=\"font-size: 0.8em; font-weight: bold; line-height: 1; border-radius: 0.35em; vertical-align: middle; margin-left: 0.5rem\">LOC</span>\n",
       "</mark>\n",
       " e a receita em 2018 foi de aproximadamente 320 bilhões de reais</div></span>"
      ],
      "text/plain": [
       "<IPython.core.display.HTML object>"
      ]
     },
     "metadata": {},
     "output_type": "display_data"
    }
   ],
   "source": [
    "from spacy import displacy\n",
    "displacy.render(documento, style = 'ent', jupyter = True)"
   ]
  },
  {
   "cell_type": "code",
   "execution_count": 17,
   "id": "7776f125",
   "metadata": {},
   "outputs": [],
   "source": [
    "texto = 'Bill Gates nasceu em Seattle em 28/10/1955 e foi o criador da Microsoft'"
   ]
  },
  {
   "cell_type": "code",
   "execution_count": 18,
   "id": "dc4dd871",
   "metadata": {},
   "outputs": [
    {
     "name": "stdout",
     "output_type": "stream",
     "text": [
      "Bill Gates PER\n",
      "Seattle LOC\n",
      "Microsoft ORG\n"
     ]
    }
   ],
   "source": [
    "documento = pln(texto)\n",
    "for entidade in documento.ents:\n",
    "    print(entidade.text, entidade.label_)"
   ]
  },
  {
   "cell_type": "code",
   "execution_count": 19,
   "id": "75614208",
   "metadata": {},
   "outputs": [
    {
     "data": {
      "text/html": [
       "<span class=\"tex2jax_ignore\"><div class=\"entities\" style=\"line-height: 2.5; direction: ltr\">\n",
       "<mark class=\"entity\" style=\"background: #ddd; padding: 0.45em 0.6em; margin: 0 0.25em; line-height: 1; border-radius: 0.35em;\">\n",
       "    Bill Gates\n",
       "    <span style=\"font-size: 0.8em; font-weight: bold; line-height: 1; border-radius: 0.35em; vertical-align: middle; margin-left: 0.5rem\">PER</span>\n",
       "</mark>\n",
       " nasceu em \n",
       "<mark class=\"entity\" style=\"background: #ff9561; padding: 0.45em 0.6em; margin: 0 0.25em; line-height: 1; border-radius: 0.35em;\">\n",
       "    Seattle\n",
       "    <span style=\"font-size: 0.8em; font-weight: bold; line-height: 1; border-radius: 0.35em; vertical-align: middle; margin-left: 0.5rem\">LOC</span>\n",
       "</mark>\n",
       " em 28/10/1955 e foi o criador da \n",
       "<mark class=\"entity\" style=\"background: #7aecec; padding: 0.45em 0.6em; margin: 0 0.25em; line-height: 1; border-radius: 0.35em;\">\n",
       "    Microsoft\n",
       "    <span style=\"font-size: 0.8em; font-weight: bold; line-height: 1; border-radius: 0.35em; vertical-align: middle; margin-left: 0.5rem\">ORG</span>\n",
       "</mark>\n",
       "</div></span>"
      ],
      "text/plain": [
       "<IPython.core.display.HTML object>"
      ]
     },
     "metadata": {},
     "output_type": "display_data"
    }
   ],
   "source": [
    "displacy.render(documento, style = 'ent', jupyter = True)"
   ]
  },
  {
   "cell_type": "code",
   "execution_count": 20,
   "id": "da0f418b",
   "metadata": {},
   "outputs": [
    {
     "name": "stdout",
     "output_type": "stream",
     "text": [
      "Bill Gates\n"
     ]
    }
   ],
   "source": [
    "for entidade in documento.ents:\n",
    "    if entidade.label_ == 'PER':\n",
    "        print(entidade.text)"
   ]
  },
  {
   "cell_type": "code",
   "execution_count": 21,
   "id": "04466a8f",
   "metadata": {},
   "outputs": [
    {
     "name": "stdout",
     "output_type": "stream",
     "text": [
      "Maria PER\n"
     ]
    }
   ],
   "source": [
    "texto = 'Maria comprou crack'\n",
    "documento = pln(texto)\n",
    "for entidade in documento.ents:\n",
    "    print(entidade.text, entidade.label_)"
   ]
  },
  {
   "cell_type": "markdown",
   "id": "b07627fa",
   "metadata": {},
   "source": [
    "## Etapa 5: Stopwords"
   ]
  },
  {
   "cell_type": "markdown",
   "id": "458699ff",
   "metadata": {},
   "source": [
    "-> Palavras que aparecem com muita frequência e que não apresentam muito significado (e, a, de, da, etc)"
   ]
  },
  {
   "cell_type": "code",
   "execution_count": 22,
   "id": "a055428b",
   "metadata": {},
   "outputs": [],
   "source": [
    "from spacy.lang.pt.stop_words import STOP_WORDS"
   ]
  },
  {
   "cell_type": "code",
   "execution_count": 23,
   "id": "3c7e2d44",
   "metadata": {},
   "outputs": [
    {
     "name": "stdout",
     "output_type": "stream",
     "text": [
      "{'aos', 'nuns', 'quieta', 'foram', 'tão', 'qualquer', 'exemplo', 'aquilo', 'diz', 'naquela', 'vocês', 'à', 'bom', 'números', 'estava', 'próxima', 'ele', 'me', 'sua', 'meses', 'nenhuma', 'cada', 'estará', 'ser', 'alguns', 'grande', 'além', 'maiorias', 'doze', 'seis', 'pouco', 'num', 'conhecido', 'possivelmente', 'ainda', 'fazia', 'do', 'pelos', 'mil', 'parte', 'vossa', 'número', 'pois', 'máximo', 'devem', 'se', 'estou', 'nos', 'primeira', 'segundo', 'quinto', 'têm', 'vezes', 'aqui', 'vários', 'estivestes', 'tempo', 'quinze', 'das', 'sexto', 'dentro', 'dos', 'todo', 'inclusive', 'todas', 'podia', 'tal', 'mais', 'sétimo', 'grandes', 'nesta', 'veja', 'tem', 'ao', 'fez', 'estas', 'teus', 'zero', 'relação', 'vens', 'algumas', 'cento', 'possível', 'fim', 'estive', 'bem', 'em', 'maioria', 'esta', 'qual', 'elas', 'querem', 'a', 'essas', 'lado', 'fazer', 'cima', 'custa', 'sexta', 'estivemos', 'vão', 'quieto', 'forma', 'deste', 'fostes', 'nada', 'questão', 'desde', 'disso', 'favor', 'estes', 'lá', 'uma', 'vossas', 'sob', 'dão', 'fomos', 'nesse', 'porém', 'podem', 'nessa', 'põe', 'mas', 'final', 'parece', 'tanta', 'tente', 'dezanove', 'essa', 'isso', 'obrigada', 'pela', 'estado', 'contra', 'ou', 'momento', 'baixo', 'vez', 'com', 'vinda', 'vem', 'desse', 'eventual', 'pouca', 'breve', 'estiveram', 'tanto', 'então', 'ir', 'quarta', 'sete', 'quê', 'quero', 'último', 'pontos', 'tais', 'fora', 'ligado', 'neste', 'apontar', 'fazemos', 'todos', 'ver', 'teve', 'dizer', 'tiveste', 'dezoito', 'fazeis', 'tens', 'mês', 'dizem', 'próximo', 'cá', 'tentei', 'terceiro', 'muito', 'nosso', 'porquê', 'apenas', 'conhecida', 'pôde', 'portanto', 'ontem', 'às', 'sobre', 'seu', 'nível', 'fui', 'nós', 'já', 'você', 'e', 'posição', 'sistema', 'somente', 'eu', 'ela', 'numa', 'lhe', 'daquela', 'sempre', 'nove', 'enquanto', 'catorze', 'sétima', 'vós', 'era', 'boa', 'estás', 'está', 'menor', 'nova', 'no', 'aquele', 'antes', 'demais', 'treze', 'cujo', 'são', 'através', 'inicio', 'seria', 'nossos', 'é', 'seus', 'quatro', 'fará', 'vossos', 'tive', 'for', 'esse', 'tendes', 'quarto', 'aqueles', 'dezassete', 'irá', 'tarde', 'teu', 'minha', 'longe', 'esteve', 'porque', 'tipo', 'meu', 'tenho', 'põem', 'obrigado', 'fazes', 'os', 'perto', 'debaixo', 'isto', 'faço', 'oitavo', 'oito', 'terceira', 'usar', 'nem', 'de', 'nas', 'certamente', 'corrente', 'geral', 'outros', 'vais', 'vos', 'nossas', 'esses', 'deverá', 'também', 'o', 'onde', 'usa', 'faz', 'entre', 'novos', 'um', 'por', 'onze', 'meio', 'grupo', 'vindo', 'tivemos', 'só', 'estão', 'acerca', 'da', 'quais', 'segunda', 'nunca', 'cinco', 'tu', 'caminho', 'saber', 'temos', 'vosso', 'maior', 'tivestes', 'falta', 'talvez', 'como', 'toda', 'vai', 'aquelas', 'suas', 'minhas', 'até', 'algo', 'adeus', 'diante', 'lugar', 'não', 'naquele', 'sim', 'logo', 'desta', 'ter', 'apoio', 'três', 'poder', 'nossa', 'dezasseis', 'tua', 'porquanto', 'após', 'puderam', 'ali', 'dá', 'tentar', 'pelo', 'partir', 'vêm', 'uns', 'iniciar', 'que', 'próprio', 'ambas', 'assim', 'posso', 'atrás', 'quando', 'dar', 'tuas', 'pode', 'bastante', 'sois', 'mal', 'tentaram', 'certeza', 'novo', 'somos', 'aí', 'tudo', 'quer', 'embora', 'muitos', 'te', 'comprido', 'para', 'poderá', 'sou', 'sei', 'estar', 'sem', 'oitava', 'as', 'foi', 'ora', 'contudo', 'vinte', 'dessa', 'quem', 'direita', 'outra', 'umas', 'depois', 'apoia', 'área', 'agora', 'daquele', 'valor', 'comprida', 'ponto', 'menos', 'foste', 'povo', 'sabe', 'local', 'aquela', 'quinta', 'pelas', 'conselho', 'cedo', 'des', 'na', 'duas', 'primeiro', 'quanto', 'dez', 'deve', 'mesmo', 'coisa', 'meus', 'tiveram', 'ademais', 'ambos', 'cuja', 'és', 'outras', 'novas', 'dois', 'eles', 'este', 'estiveste', 'fazem', 'pegar'}\n"
     ]
    }
   ],
   "source": [
    "print(STOP_WORDS)"
   ]
  },
  {
   "cell_type": "code",
   "execution_count": 24,
   "id": "38f0dfd4",
   "metadata": {},
   "outputs": [
    {
     "data": {
      "text/plain": [
       "416"
      ]
     },
     "execution_count": 24,
     "metadata": {},
     "output_type": "execute_result"
    }
   ],
   "source": [
    "len(STOP_WORDS)"
   ]
  },
  {
   "cell_type": "code",
   "execution_count": 25,
   "id": "a0c1e283",
   "metadata": {},
   "outputs": [
    {
     "data": {
      "text/plain": [
       "True"
      ]
     },
     "execution_count": 25,
     "metadata": {},
     "output_type": "execute_result"
    }
   ],
   "source": [
    "#Verificando se é stopword\n",
    "pln.vocab['ir'].is_stop"
   ]
  },
  {
   "cell_type": "code",
   "execution_count": 26,
   "id": "dc92d6f9",
   "metadata": {},
   "outputs": [
    {
     "name": "stdout",
     "output_type": "stream",
     "text": [
      "aprendendo\n",
      "processamento\n",
      "linguagem\n",
      "natural\n",
      ",\n",
      "curso\n",
      "Curitiba\n"
     ]
    }
   ],
   "source": [
    "#texto sem stopwords\n",
    "documento = pln('Estou aprendendo processamento de linguagem natural, curso em Curitiba')\n",
    "for token in documento:\n",
    "    if not pln.vocab[token.text].is_stop:\n",
    "        print(token.text)"
   ]
  },
  {
   "cell_type": "markdown",
   "id": "80b9198c",
   "metadata": {},
   "source": [
    "## Etapa 6: Parsing de dependências\n",
    " \n",
    "- Relação pai-filho entre as palavras"
   ]
  },
  {
   "cell_type": "markdown",
   "id": "3569c14a",
   "metadata": {},
   "source": [
    "### Exemplo1"
   ]
  },
  {
   "cell_type": "code",
   "execution_count": 27,
   "id": "d0c8ffe0",
   "metadata": {},
   "outputs": [],
   "source": [
    "documento = pln('reserve uma passagem saindo de Guarulhos e chegando em Curitiba')"
   ]
  },
  {
   "cell_type": "code",
   "execution_count": 28,
   "id": "459df6d7",
   "metadata": {},
   "outputs": [
    {
     "data": {
      "text/plain": [
       "(Guarulhos, Curitiba)"
      ]
     },
     "execution_count": 28,
     "metadata": {},
     "output_type": "execute_result"
    }
   ],
   "source": [
    "#Setando palavras que queremos\n",
    "origem = documento[5]\n",
    "destino = documento[9]\n",
    "origem, destino"
   ]
  },
  {
   "cell_type": "code",
   "execution_count": 29,
   "id": "461d79bb",
   "metadata": {},
   "outputs": [
    {
     "data": {
      "text/plain": [
       "[saindo, passagem, reserve]"
      ]
     },
     "execution_count": 29,
     "metadata": {},
     "output_type": "execute_result"
    }
   ],
   "source": [
    "#Salvando as palavras anteriores a Guarulhos\n",
    "list(origem.ancestors)"
   ]
  },
  {
   "cell_type": "code",
   "execution_count": 30,
   "id": "ce63aadc",
   "metadata": {},
   "outputs": [
    {
     "data": {
      "text/plain": [
       "[chegando, saindo, passagem, reserve]"
      ]
     },
     "execution_count": 30,
     "metadata": {},
     "output_type": "execute_result"
    }
   ],
   "source": [
    "##Salvando as palavras anteriores a Curitiba\n",
    "list(destino.ancestors)"
   ]
  },
  {
   "cell_type": "code",
   "execution_count": 31,
   "id": "a5501b3e",
   "metadata": {},
   "outputs": [
    {
     "data": {
      "text/plain": [
       "True"
      ]
     },
     "execution_count": 31,
     "metadata": {},
     "output_type": "execute_result"
    }
   ],
   "source": [
    "documento[0].is_ancestor(documento[2])"
   ]
  },
  {
   "cell_type": "markdown",
   "id": "7e644eec",
   "metadata": {},
   "source": [
    "### Exemplo2"
   ]
  },
  {
   "cell_type": "code",
   "execution_count": 32,
   "id": "f7245ffe",
   "metadata": {},
   "outputs": [],
   "source": [
    "documento = pln('Reserva de uma mesa para o restaurante e de um táxi para o hotel')"
   ]
  },
  {
   "cell_type": "code",
   "execution_count": 33,
   "id": "4b2984b7",
   "metadata": {},
   "outputs": [],
   "source": [
    "#Setando o que fazer\n",
    "tarefas = documento[3], documento[10]\n",
    "locais = documento[6], documento[13]"
   ]
  },
  {
   "cell_type": "code",
   "execution_count": 34,
   "id": "8cc90e25",
   "metadata": {},
   "outputs": [
    {
     "data": {
      "text/plain": [
       "((mesa, táxi), (restaurante, hotel))"
      ]
     },
     "execution_count": 34,
     "metadata": {},
     "output_type": "execute_result"
    }
   ],
   "source": [
    "#tuplas do que fazer e para onde ir\n",
    "tarefas, locais"
   ]
  },
  {
   "cell_type": "code",
   "execution_count": 35,
   "id": "10ad0c3f",
   "metadata": {},
   "outputs": [
    {
     "name": "stdout",
     "output_type": "stream",
     "text": [
      "local:  restaurante\n",
      "mesa\n",
      "Reserva\n",
      "local:  hotel\n",
      "táxi\n",
      "mesa\n",
      "Reserva\n"
     ]
    }
   ],
   "source": [
    "for local in locais:\n",
    "    print('local: ', local)\n",
    "    #Vai ir no local e depois vai buscar no ancestral do local\n",
    "    for objeto in local.ancestors:\n",
    "        print(objeto)"
   ]
  },
  {
   "cell_type": "code",
   "execution_count": 36,
   "id": "e9e646b2",
   "metadata": {},
   "outputs": [
    {
     "name": "stdout",
     "output_type": "stream",
     "text": [
      "Reserva de mesa é para o restaurante\n",
      "Reserva de táxi é para o hotel\n"
     ]
    }
   ],
   "source": [
    "#Percorrendo o local\n",
    "for local in locais:\n",
    "    #Percorrendo os ancestrais na frase do local\n",
    "    for objeto in local.ancestors:\n",
    "        #Se os vaores estiverem na lista de tarefas definidos na penultima celula:\n",
    "        #print\n",
    "        if objeto in tarefas:\n",
    "            print(f\"Reserva de {objeto} é para o {local}\")\n",
    "            break"
   ]
  },
  {
   "cell_type": "code",
   "execution_count": 37,
   "id": "4b30d9f5",
   "metadata": {},
   "outputs": [
    {
     "data": {
      "text/plain": [
       "[para, o]"
      ]
     },
     "execution_count": 37,
     "metadata": {},
     "output_type": "execute_result"
    }
   ],
   "source": [
    "#Filhos seria o que vem a direita\n",
    "list(documento[6].children)"
   ]
  },
  {
   "cell_type": "markdown",
   "id": "ab0f95e9",
   "metadata": {},
   "source": [
    "### Exemplo 3"
   ]
  },
  {
   "cell_type": "code",
   "execution_count": 38,
   "id": "d9305ae1",
   "metadata": {},
   "outputs": [],
   "source": [
    "#Importando a visualização do spacy\n",
    "from spacy import displacy"
   ]
  },
  {
   "cell_type": "code",
   "execution_count": 39,
   "id": "5571b1f1",
   "metadata": {},
   "outputs": [],
   "source": [
    "documento = pln('Reserva de uma mesa para o restaurante e de um táxi para o hotel')"
   ]
  },
  {
   "cell_type": "code",
   "execution_count": 40,
   "id": "161dbf95",
   "metadata": {},
   "outputs": [
    {
     "data": {
      "text/html": [
       "<span class=\"tex2jax_ignore\"><svg xmlns=\"http://www.w3.org/2000/svg\" xmlns:xlink=\"http://www.w3.org/1999/xlink\" xml:lang=\"pt\" id=\"6bdc66ebce8044aa91e4cc1b476c18c2-0\" class=\"displacy\" width=\"1310\" height=\"317.0\" direction=\"ltr\" style=\"max-width: none; height: 317.0px; color: #000000; background: #ffffff; font-family: Arial; direction: ltr\">\n",
       "<text class=\"displacy-token\" fill=\"currentColor\" text-anchor=\"middle\" y=\"227.0\">\n",
       "    <tspan class=\"displacy-word\" fill=\"currentColor\" x=\"50\">Reserva</tspan>\n",
       "    <tspan class=\"displacy-tag\" dy=\"2em\" fill=\"currentColor\" x=\"50\">PROPN</tspan>\n",
       "</text>\n",
       "\n",
       "<text class=\"displacy-token\" fill=\"currentColor\" text-anchor=\"middle\" y=\"227.0\">\n",
       "    <tspan class=\"displacy-word\" fill=\"currentColor\" x=\"140\">de</tspan>\n",
       "    <tspan class=\"displacy-tag\" dy=\"2em\" fill=\"currentColor\" x=\"140\">ADP</tspan>\n",
       "</text>\n",
       "\n",
       "<text class=\"displacy-token\" fill=\"currentColor\" text-anchor=\"middle\" y=\"227.0\">\n",
       "    <tspan class=\"displacy-word\" fill=\"currentColor\" x=\"230\">uma</tspan>\n",
       "    <tspan class=\"displacy-tag\" dy=\"2em\" fill=\"currentColor\" x=\"230\">DET</tspan>\n",
       "</text>\n",
       "\n",
       "<text class=\"displacy-token\" fill=\"currentColor\" text-anchor=\"middle\" y=\"227.0\">\n",
       "    <tspan class=\"displacy-word\" fill=\"currentColor\" x=\"320\">mesa</tspan>\n",
       "    <tspan class=\"displacy-tag\" dy=\"2em\" fill=\"currentColor\" x=\"320\">NOUN</tspan>\n",
       "</text>\n",
       "\n",
       "<text class=\"displacy-token\" fill=\"currentColor\" text-anchor=\"middle\" y=\"227.0\">\n",
       "    <tspan class=\"displacy-word\" fill=\"currentColor\" x=\"410\">para</tspan>\n",
       "    <tspan class=\"displacy-tag\" dy=\"2em\" fill=\"currentColor\" x=\"410\">ADP</tspan>\n",
       "</text>\n",
       "\n",
       "<text class=\"displacy-token\" fill=\"currentColor\" text-anchor=\"middle\" y=\"227.0\">\n",
       "    <tspan class=\"displacy-word\" fill=\"currentColor\" x=\"500\">o</tspan>\n",
       "    <tspan class=\"displacy-tag\" dy=\"2em\" fill=\"currentColor\" x=\"500\">DET</tspan>\n",
       "</text>\n",
       "\n",
       "<text class=\"displacy-token\" fill=\"currentColor\" text-anchor=\"middle\" y=\"227.0\">\n",
       "    <tspan class=\"displacy-word\" fill=\"currentColor\" x=\"590\">restaurante</tspan>\n",
       "    <tspan class=\"displacy-tag\" dy=\"2em\" fill=\"currentColor\" x=\"590\">NOUN</tspan>\n",
       "</text>\n",
       "\n",
       "<text class=\"displacy-token\" fill=\"currentColor\" text-anchor=\"middle\" y=\"227.0\">\n",
       "    <tspan class=\"displacy-word\" fill=\"currentColor\" x=\"680\">e</tspan>\n",
       "    <tspan class=\"displacy-tag\" dy=\"2em\" fill=\"currentColor\" x=\"680\">CCONJ</tspan>\n",
       "</text>\n",
       "\n",
       "<text class=\"displacy-token\" fill=\"currentColor\" text-anchor=\"middle\" y=\"227.0\">\n",
       "    <tspan class=\"displacy-word\" fill=\"currentColor\" x=\"770\">de</tspan>\n",
       "    <tspan class=\"displacy-tag\" dy=\"2em\" fill=\"currentColor\" x=\"770\">ADP</tspan>\n",
       "</text>\n",
       "\n",
       "<text class=\"displacy-token\" fill=\"currentColor\" text-anchor=\"middle\" y=\"227.0\">\n",
       "    <tspan class=\"displacy-word\" fill=\"currentColor\" x=\"860\">um</tspan>\n",
       "    <tspan class=\"displacy-tag\" dy=\"2em\" fill=\"currentColor\" x=\"860\">DET</tspan>\n",
       "</text>\n",
       "\n",
       "<text class=\"displacy-token\" fill=\"currentColor\" text-anchor=\"middle\" y=\"227.0\">\n",
       "    <tspan class=\"displacy-word\" fill=\"currentColor\" x=\"950\">táxi</tspan>\n",
       "    <tspan class=\"displacy-tag\" dy=\"2em\" fill=\"currentColor\" x=\"950\">NOUN</tspan>\n",
       "</text>\n",
       "\n",
       "<text class=\"displacy-token\" fill=\"currentColor\" text-anchor=\"middle\" y=\"227.0\">\n",
       "    <tspan class=\"displacy-word\" fill=\"currentColor\" x=\"1040\">para</tspan>\n",
       "    <tspan class=\"displacy-tag\" dy=\"2em\" fill=\"currentColor\" x=\"1040\">ADP</tspan>\n",
       "</text>\n",
       "\n",
       "<text class=\"displacy-token\" fill=\"currentColor\" text-anchor=\"middle\" y=\"227.0\">\n",
       "    <tspan class=\"displacy-word\" fill=\"currentColor\" x=\"1130\">o</tspan>\n",
       "    <tspan class=\"displacy-tag\" dy=\"2em\" fill=\"currentColor\" x=\"1130\">DET</tspan>\n",
       "</text>\n",
       "\n",
       "<text class=\"displacy-token\" fill=\"currentColor\" text-anchor=\"middle\" y=\"227.0\">\n",
       "    <tspan class=\"displacy-word\" fill=\"currentColor\" x=\"1220\">hotel</tspan>\n",
       "    <tspan class=\"displacy-tag\" dy=\"2em\" fill=\"currentColor\" x=\"1220\">NOUN</tspan>\n",
       "</text>\n",
       "\n",
       "<g class=\"displacy-arrow\">\n",
       "    <path class=\"displacy-arc\" id=\"arrow-6bdc66ebce8044aa91e4cc1b476c18c2-0-0\" stroke-width=\"2px\" d=\"M160,182.0 C160,92.0 310.0,92.0 310.0,182.0\" fill=\"none\" stroke=\"currentColor\"/>\n",
       "    <text dy=\"1.25em\" style=\"font-size: 0.8em; letter-spacing: 1px\">\n",
       "        <textPath xlink:href=\"#arrow-6bdc66ebce8044aa91e4cc1b476c18c2-0-0\" class=\"displacy-label\" startOffset=\"50%\" side=\"left\" fill=\"currentColor\" text-anchor=\"middle\">case</textPath>\n",
       "    </text>\n",
       "    <path class=\"displacy-arrowhead\" d=\"M160,184.0 L152,172.0 168,172.0\" fill=\"currentColor\"/>\n",
       "</g>\n",
       "\n",
       "<g class=\"displacy-arrow\">\n",
       "    <path class=\"displacy-arc\" id=\"arrow-6bdc66ebce8044aa91e4cc1b476c18c2-0-1\" stroke-width=\"2px\" d=\"M250,182.0 C250,137.0 305.0,137.0 305.0,182.0\" fill=\"none\" stroke=\"currentColor\"/>\n",
       "    <text dy=\"1.25em\" style=\"font-size: 0.8em; letter-spacing: 1px\">\n",
       "        <textPath xlink:href=\"#arrow-6bdc66ebce8044aa91e4cc1b476c18c2-0-1\" class=\"displacy-label\" startOffset=\"50%\" side=\"left\" fill=\"currentColor\" text-anchor=\"middle\">det</textPath>\n",
       "    </text>\n",
       "    <path class=\"displacy-arrowhead\" d=\"M250,184.0 L242,172.0 258,172.0\" fill=\"currentColor\"/>\n",
       "</g>\n",
       "\n",
       "<g class=\"displacy-arrow\">\n",
       "    <path class=\"displacy-arc\" id=\"arrow-6bdc66ebce8044aa91e4cc1b476c18c2-0-2\" stroke-width=\"2px\" d=\"M70,182.0 C70,47.0 315.0,47.0 315.0,182.0\" fill=\"none\" stroke=\"currentColor\"/>\n",
       "    <text dy=\"1.25em\" style=\"font-size: 0.8em; letter-spacing: 1px\">\n",
       "        <textPath xlink:href=\"#arrow-6bdc66ebce8044aa91e4cc1b476c18c2-0-2\" class=\"displacy-label\" startOffset=\"50%\" side=\"left\" fill=\"currentColor\" text-anchor=\"middle\">nmod</textPath>\n",
       "    </text>\n",
       "    <path class=\"displacy-arrowhead\" d=\"M315.0,184.0 L323.0,172.0 307.0,172.0\" fill=\"currentColor\"/>\n",
       "</g>\n",
       "\n",
       "<g class=\"displacy-arrow\">\n",
       "    <path class=\"displacy-arc\" id=\"arrow-6bdc66ebce8044aa91e4cc1b476c18c2-0-3\" stroke-width=\"2px\" d=\"M430,182.0 C430,92.0 580.0,92.0 580.0,182.0\" fill=\"none\" stroke=\"currentColor\"/>\n",
       "    <text dy=\"1.25em\" style=\"font-size: 0.8em; letter-spacing: 1px\">\n",
       "        <textPath xlink:href=\"#arrow-6bdc66ebce8044aa91e4cc1b476c18c2-0-3\" class=\"displacy-label\" startOffset=\"50%\" side=\"left\" fill=\"currentColor\" text-anchor=\"middle\">case</textPath>\n",
       "    </text>\n",
       "    <path class=\"displacy-arrowhead\" d=\"M430,184.0 L422,172.0 438,172.0\" fill=\"currentColor\"/>\n",
       "</g>\n",
       "\n",
       "<g class=\"displacy-arrow\">\n",
       "    <path class=\"displacy-arc\" id=\"arrow-6bdc66ebce8044aa91e4cc1b476c18c2-0-4\" stroke-width=\"2px\" d=\"M520,182.0 C520,137.0 575.0,137.0 575.0,182.0\" fill=\"none\" stroke=\"currentColor\"/>\n",
       "    <text dy=\"1.25em\" style=\"font-size: 0.8em; letter-spacing: 1px\">\n",
       "        <textPath xlink:href=\"#arrow-6bdc66ebce8044aa91e4cc1b476c18c2-0-4\" class=\"displacy-label\" startOffset=\"50%\" side=\"left\" fill=\"currentColor\" text-anchor=\"middle\">det</textPath>\n",
       "    </text>\n",
       "    <path class=\"displacy-arrowhead\" d=\"M520,184.0 L512,172.0 528,172.0\" fill=\"currentColor\"/>\n",
       "</g>\n",
       "\n",
       "<g class=\"displacy-arrow\">\n",
       "    <path class=\"displacy-arc\" id=\"arrow-6bdc66ebce8044aa91e4cc1b476c18c2-0-5\" stroke-width=\"2px\" d=\"M340,182.0 C340,47.0 585.0,47.0 585.0,182.0\" fill=\"none\" stroke=\"currentColor\"/>\n",
       "    <text dy=\"1.25em\" style=\"font-size: 0.8em; letter-spacing: 1px\">\n",
       "        <textPath xlink:href=\"#arrow-6bdc66ebce8044aa91e4cc1b476c18c2-0-5\" class=\"displacy-label\" startOffset=\"50%\" side=\"left\" fill=\"currentColor\" text-anchor=\"middle\">nmod</textPath>\n",
       "    </text>\n",
       "    <path class=\"displacy-arrowhead\" d=\"M585.0,184.0 L593.0,172.0 577.0,172.0\" fill=\"currentColor\"/>\n",
       "</g>\n",
       "\n",
       "<g class=\"displacy-arrow\">\n",
       "    <path class=\"displacy-arc\" id=\"arrow-6bdc66ebce8044aa91e4cc1b476c18c2-0-6\" stroke-width=\"2px\" d=\"M700,182.0 C700,47.0 945.0,47.0 945.0,182.0\" fill=\"none\" stroke=\"currentColor\"/>\n",
       "    <text dy=\"1.25em\" style=\"font-size: 0.8em; letter-spacing: 1px\">\n",
       "        <textPath xlink:href=\"#arrow-6bdc66ebce8044aa91e4cc1b476c18c2-0-6\" class=\"displacy-label\" startOffset=\"50%\" side=\"left\" fill=\"currentColor\" text-anchor=\"middle\">cc</textPath>\n",
       "    </text>\n",
       "    <path class=\"displacy-arrowhead\" d=\"M700,184.0 L692,172.0 708,172.0\" fill=\"currentColor\"/>\n",
       "</g>\n",
       "\n",
       "<g class=\"displacy-arrow\">\n",
       "    <path class=\"displacy-arc\" id=\"arrow-6bdc66ebce8044aa91e4cc1b476c18c2-0-7\" stroke-width=\"2px\" d=\"M790,182.0 C790,92.0 940.0,92.0 940.0,182.0\" fill=\"none\" stroke=\"currentColor\"/>\n",
       "    <text dy=\"1.25em\" style=\"font-size: 0.8em; letter-spacing: 1px\">\n",
       "        <textPath xlink:href=\"#arrow-6bdc66ebce8044aa91e4cc1b476c18c2-0-7\" class=\"displacy-label\" startOffset=\"50%\" side=\"left\" fill=\"currentColor\" text-anchor=\"middle\">case</textPath>\n",
       "    </text>\n",
       "    <path class=\"displacy-arrowhead\" d=\"M790,184.0 L782,172.0 798,172.0\" fill=\"currentColor\"/>\n",
       "</g>\n",
       "\n",
       "<g class=\"displacy-arrow\">\n",
       "    <path class=\"displacy-arc\" id=\"arrow-6bdc66ebce8044aa91e4cc1b476c18c2-0-8\" stroke-width=\"2px\" d=\"M880,182.0 C880,137.0 935.0,137.0 935.0,182.0\" fill=\"none\" stroke=\"currentColor\"/>\n",
       "    <text dy=\"1.25em\" style=\"font-size: 0.8em; letter-spacing: 1px\">\n",
       "        <textPath xlink:href=\"#arrow-6bdc66ebce8044aa91e4cc1b476c18c2-0-8\" class=\"displacy-label\" startOffset=\"50%\" side=\"left\" fill=\"currentColor\" text-anchor=\"middle\">det</textPath>\n",
       "    </text>\n",
       "    <path class=\"displacy-arrowhead\" d=\"M880,184.0 L872,172.0 888,172.0\" fill=\"currentColor\"/>\n",
       "</g>\n",
       "\n",
       "<g class=\"displacy-arrow\">\n",
       "    <path class=\"displacy-arc\" id=\"arrow-6bdc66ebce8044aa91e4cc1b476c18c2-0-9\" stroke-width=\"2px\" d=\"M340,182.0 C340,2.0 950.0,2.0 950.0,182.0\" fill=\"none\" stroke=\"currentColor\"/>\n",
       "    <text dy=\"1.25em\" style=\"font-size: 0.8em; letter-spacing: 1px\">\n",
       "        <textPath xlink:href=\"#arrow-6bdc66ebce8044aa91e4cc1b476c18c2-0-9\" class=\"displacy-label\" startOffset=\"50%\" side=\"left\" fill=\"currentColor\" text-anchor=\"middle\">conj</textPath>\n",
       "    </text>\n",
       "    <path class=\"displacy-arrowhead\" d=\"M950.0,184.0 L958.0,172.0 942.0,172.0\" fill=\"currentColor\"/>\n",
       "</g>\n",
       "\n",
       "<g class=\"displacy-arrow\">\n",
       "    <path class=\"displacy-arc\" id=\"arrow-6bdc66ebce8044aa91e4cc1b476c18c2-0-10\" stroke-width=\"2px\" d=\"M1060,182.0 C1060,92.0 1210.0,92.0 1210.0,182.0\" fill=\"none\" stroke=\"currentColor\"/>\n",
       "    <text dy=\"1.25em\" style=\"font-size: 0.8em; letter-spacing: 1px\">\n",
       "        <textPath xlink:href=\"#arrow-6bdc66ebce8044aa91e4cc1b476c18c2-0-10\" class=\"displacy-label\" startOffset=\"50%\" side=\"left\" fill=\"currentColor\" text-anchor=\"middle\">case</textPath>\n",
       "    </text>\n",
       "    <path class=\"displacy-arrowhead\" d=\"M1060,184.0 L1052,172.0 1068,172.0\" fill=\"currentColor\"/>\n",
       "</g>\n",
       "\n",
       "<g class=\"displacy-arrow\">\n",
       "    <path class=\"displacy-arc\" id=\"arrow-6bdc66ebce8044aa91e4cc1b476c18c2-0-11\" stroke-width=\"2px\" d=\"M1150,182.0 C1150,137.0 1205.0,137.0 1205.0,182.0\" fill=\"none\" stroke=\"currentColor\"/>\n",
       "    <text dy=\"1.25em\" style=\"font-size: 0.8em; letter-spacing: 1px\">\n",
       "        <textPath xlink:href=\"#arrow-6bdc66ebce8044aa91e4cc1b476c18c2-0-11\" class=\"displacy-label\" startOffset=\"50%\" side=\"left\" fill=\"currentColor\" text-anchor=\"middle\">det</textPath>\n",
       "    </text>\n",
       "    <path class=\"displacy-arrowhead\" d=\"M1150,184.0 L1142,172.0 1158,172.0\" fill=\"currentColor\"/>\n",
       "</g>\n",
       "\n",
       "<g class=\"displacy-arrow\">\n",
       "    <path class=\"displacy-arc\" id=\"arrow-6bdc66ebce8044aa91e4cc1b476c18c2-0-12\" stroke-width=\"2px\" d=\"M970,182.0 C970,47.0 1215.0,47.0 1215.0,182.0\" fill=\"none\" stroke=\"currentColor\"/>\n",
       "    <text dy=\"1.25em\" style=\"font-size: 0.8em; letter-spacing: 1px\">\n",
       "        <textPath xlink:href=\"#arrow-6bdc66ebce8044aa91e4cc1b476c18c2-0-12\" class=\"displacy-label\" startOffset=\"50%\" side=\"left\" fill=\"currentColor\" text-anchor=\"middle\">nmod</textPath>\n",
       "    </text>\n",
       "    <path class=\"displacy-arrowhead\" d=\"M1215.0,184.0 L1223.0,172.0 1207.0,172.0\" fill=\"currentColor\"/>\n",
       "</g>\n",
       "</svg></span>"
      ],
      "text/plain": [
       "<IPython.core.display.HTML object>"
      ]
     },
     "metadata": {},
     "output_type": "display_data"
    }
   ],
   "source": [
    "#displacy.serve(documento, style='dep') -> Código para Spider or pycharm\n",
    "displacy.render(documento, style='dep', options={'distance': 90})"
   ]
  },
  {
   "cell_type": "code",
   "execution_count": 41,
   "id": "fa40647f",
   "metadata": {},
   "outputs": [
    {
     "data": {
      "text/plain": [
       "[Reserva]"
      ]
     },
     "execution_count": 41,
     "metadata": {},
     "output_type": "execute_result"
    }
   ],
   "source": [
    "#Buscando o que fazer na palavra mesa\n",
    "#Quem aponta para mesa\n",
    "list(documento[3].ancestors)"
   ]
  },
  {
   "cell_type": "code",
   "execution_count": 42,
   "id": "f463b541",
   "metadata": {},
   "outputs": [
    {
     "data": {
      "text/plain": [
       "[de, uma, restaurante, táxi]"
      ]
     },
     "execution_count": 42,
     "metadata": {},
     "output_type": "execute_result"
    }
   ],
   "source": [
    "#A quem mesa aponta\n",
    "#Do que fazer\n",
    "list(documento[3].children)"
   ]
  },
  {
   "cell_type": "markdown",
   "id": "1c3cb124",
   "metadata": {},
   "source": [
    "### Exemplo 4"
   ]
  },
  {
   "cell_type": "code",
   "execution_count": 43,
   "id": "7b802a3d",
   "metadata": {},
   "outputs": [
    {
     "data": {
      "text/plain": [
       "((Curitiba, Guarulhos), (visitar, ficar))"
      ]
     },
     "execution_count": 43,
     "metadata": {},
     "output_type": "execute_result"
    }
   ],
   "source": [
    "#Identificar qual cidade vamos ficar e visitar\n",
    "documento = pln('Que locais podemos visitar em Curitiba e para ficar em Guarulhos?')\n",
    "lugares = documento[5], documento[10]\n",
    "acoes = documento[3], documento[8]\n",
    "lugares, acoes"
   ]
  },
  {
   "cell_type": "code",
   "execution_count": 44,
   "id": "290ecef8",
   "metadata": {},
   "outputs": [
    {
     "name": "stdout",
     "output_type": "stream",
     "text": [
      "Curitiba para visitar\n",
      "Guarulhos para ficar\n"
     ]
    }
   ],
   "source": [
    "#Local + ação\n",
    "for local in lugares:\n",
    "    for acao in local.ancestors:\n",
    "        if acao in acoes:\n",
    "            print(\"{} para {}\".format(local, acao))\n",
    "            break"
   ]
  },
  {
   "cell_type": "code",
   "execution_count": 45,
   "id": "3beb11f2",
   "metadata": {},
   "outputs": [
    {
     "data": {
      "text/html": [
       "<span class=\"tex2jax_ignore\"><svg xmlns=\"http://www.w3.org/2000/svg\" xmlns:xlink=\"http://www.w3.org/1999/xlink\" xml:lang=\"pt\" id=\"5d6b077f1a004cff8784201177fe4602-0\" class=\"displacy\" width=\"1040\" height=\"272.0\" direction=\"ltr\" style=\"max-width: none; height: 272.0px; color: #000000; background: #ffffff; font-family: Arial; direction: ltr\">\n",
       "<text class=\"displacy-token\" fill=\"currentColor\" text-anchor=\"middle\" y=\"182.0\">\n",
       "    <tspan class=\"displacy-word\" fill=\"currentColor\" x=\"50\">Que</tspan>\n",
       "    <tspan class=\"displacy-tag\" dy=\"2em\" fill=\"currentColor\" x=\"50\">DET</tspan>\n",
       "</text>\n",
       "\n",
       "<text class=\"displacy-token\" fill=\"currentColor\" text-anchor=\"middle\" y=\"182.0\">\n",
       "    <tspan class=\"displacy-word\" fill=\"currentColor\" x=\"140\">locais</tspan>\n",
       "    <tspan class=\"displacy-tag\" dy=\"2em\" fill=\"currentColor\" x=\"140\">NOUN</tspan>\n",
       "</text>\n",
       "\n",
       "<text class=\"displacy-token\" fill=\"currentColor\" text-anchor=\"middle\" y=\"182.0\">\n",
       "    <tspan class=\"displacy-word\" fill=\"currentColor\" x=\"230\">podemos</tspan>\n",
       "    <tspan class=\"displacy-tag\" dy=\"2em\" fill=\"currentColor\" x=\"230\">VERB</tspan>\n",
       "</text>\n",
       "\n",
       "<text class=\"displacy-token\" fill=\"currentColor\" text-anchor=\"middle\" y=\"182.0\">\n",
       "    <tspan class=\"displacy-word\" fill=\"currentColor\" x=\"320\">visitar</tspan>\n",
       "    <tspan class=\"displacy-tag\" dy=\"2em\" fill=\"currentColor\" x=\"320\">VERB</tspan>\n",
       "</text>\n",
       "\n",
       "<text class=\"displacy-token\" fill=\"currentColor\" text-anchor=\"middle\" y=\"182.0\">\n",
       "    <tspan class=\"displacy-word\" fill=\"currentColor\" x=\"410\">em</tspan>\n",
       "    <tspan class=\"displacy-tag\" dy=\"2em\" fill=\"currentColor\" x=\"410\">ADP</tspan>\n",
       "</text>\n",
       "\n",
       "<text class=\"displacy-token\" fill=\"currentColor\" text-anchor=\"middle\" y=\"182.0\">\n",
       "    <tspan class=\"displacy-word\" fill=\"currentColor\" x=\"500\">Curitiba</tspan>\n",
       "    <tspan class=\"displacy-tag\" dy=\"2em\" fill=\"currentColor\" x=\"500\">PROPN</tspan>\n",
       "</text>\n",
       "\n",
       "<text class=\"displacy-token\" fill=\"currentColor\" text-anchor=\"middle\" y=\"182.0\">\n",
       "    <tspan class=\"displacy-word\" fill=\"currentColor\" x=\"590\">e</tspan>\n",
       "    <tspan class=\"displacy-tag\" dy=\"2em\" fill=\"currentColor\" x=\"590\">CCONJ</tspan>\n",
       "</text>\n",
       "\n",
       "<text class=\"displacy-token\" fill=\"currentColor\" text-anchor=\"middle\" y=\"182.0\">\n",
       "    <tspan class=\"displacy-word\" fill=\"currentColor\" x=\"680\">para</tspan>\n",
       "    <tspan class=\"displacy-tag\" dy=\"2em\" fill=\"currentColor\" x=\"680\">SCONJ</tspan>\n",
       "</text>\n",
       "\n",
       "<text class=\"displacy-token\" fill=\"currentColor\" text-anchor=\"middle\" y=\"182.0\">\n",
       "    <tspan class=\"displacy-word\" fill=\"currentColor\" x=\"770\">ficar</tspan>\n",
       "    <tspan class=\"displacy-tag\" dy=\"2em\" fill=\"currentColor\" x=\"770\">VERB</tspan>\n",
       "</text>\n",
       "\n",
       "<text class=\"displacy-token\" fill=\"currentColor\" text-anchor=\"middle\" y=\"182.0\">\n",
       "    <tspan class=\"displacy-word\" fill=\"currentColor\" x=\"860\">em</tspan>\n",
       "    <tspan class=\"displacy-tag\" dy=\"2em\" fill=\"currentColor\" x=\"860\">ADP</tspan>\n",
       "</text>\n",
       "\n",
       "<text class=\"displacy-token\" fill=\"currentColor\" text-anchor=\"middle\" y=\"182.0\">\n",
       "    <tspan class=\"displacy-word\" fill=\"currentColor\" x=\"950\">Guarulhos?</tspan>\n",
       "    <tspan class=\"displacy-tag\" dy=\"2em\" fill=\"currentColor\" x=\"950\">PROPN</tspan>\n",
       "</text>\n",
       "\n",
       "<g class=\"displacy-arrow\">\n",
       "    <path class=\"displacy-arc\" id=\"arrow-5d6b077f1a004cff8784201177fe4602-0-0\" stroke-width=\"2px\" d=\"M70,137.0 C70,92.0 130.0,92.0 130.0,137.0\" fill=\"none\" stroke=\"currentColor\"/>\n",
       "    <text dy=\"1.25em\" style=\"font-size: 0.8em; letter-spacing: 1px\">\n",
       "        <textPath xlink:href=\"#arrow-5d6b077f1a004cff8784201177fe4602-0-0\" class=\"displacy-label\" startOffset=\"50%\" side=\"left\" fill=\"currentColor\" text-anchor=\"middle\">det</textPath>\n",
       "    </text>\n",
       "    <path class=\"displacy-arrowhead\" d=\"M70,139.0 L62,127.0 78,127.0\" fill=\"currentColor\"/>\n",
       "</g>\n",
       "\n",
       "<g class=\"displacy-arrow\">\n",
       "    <path class=\"displacy-arc\" id=\"arrow-5d6b077f1a004cff8784201177fe4602-0-1\" stroke-width=\"2px\" d=\"M160,137.0 C160,47.0 315.0,47.0 315.0,137.0\" fill=\"none\" stroke=\"currentColor\"/>\n",
       "    <text dy=\"1.25em\" style=\"font-size: 0.8em; letter-spacing: 1px\">\n",
       "        <textPath xlink:href=\"#arrow-5d6b077f1a004cff8784201177fe4602-0-1\" class=\"displacy-label\" startOffset=\"50%\" side=\"left\" fill=\"currentColor\" text-anchor=\"middle\">nsubj</textPath>\n",
       "    </text>\n",
       "    <path class=\"displacy-arrowhead\" d=\"M160,139.0 L152,127.0 168,127.0\" fill=\"currentColor\"/>\n",
       "</g>\n",
       "\n",
       "<g class=\"displacy-arrow\">\n",
       "    <path class=\"displacy-arc\" id=\"arrow-5d6b077f1a004cff8784201177fe4602-0-2\" stroke-width=\"2px\" d=\"M250,137.0 C250,92.0 310.0,92.0 310.0,137.0\" fill=\"none\" stroke=\"currentColor\"/>\n",
       "    <text dy=\"1.25em\" style=\"font-size: 0.8em; letter-spacing: 1px\">\n",
       "        <textPath xlink:href=\"#arrow-5d6b077f1a004cff8784201177fe4602-0-2\" class=\"displacy-label\" startOffset=\"50%\" side=\"left\" fill=\"currentColor\" text-anchor=\"middle\">xcomp</textPath>\n",
       "    </text>\n",
       "    <path class=\"displacy-arrowhead\" d=\"M310.0,139.0 L318.0,127.0 302.0,127.0\" fill=\"currentColor\"/>\n",
       "</g>\n",
       "\n",
       "<g class=\"displacy-arrow\">\n",
       "    <path class=\"displacy-arc\" id=\"arrow-5d6b077f1a004cff8784201177fe4602-0-3\" stroke-width=\"2px\" d=\"M430,137.0 C430,92.0 490.0,92.0 490.0,137.0\" fill=\"none\" stroke=\"currentColor\"/>\n",
       "    <text dy=\"1.25em\" style=\"font-size: 0.8em; letter-spacing: 1px\">\n",
       "        <textPath xlink:href=\"#arrow-5d6b077f1a004cff8784201177fe4602-0-3\" class=\"displacy-label\" startOffset=\"50%\" side=\"left\" fill=\"currentColor\" text-anchor=\"middle\">case</textPath>\n",
       "    </text>\n",
       "    <path class=\"displacy-arrowhead\" d=\"M430,139.0 L422,127.0 438,127.0\" fill=\"currentColor\"/>\n",
       "</g>\n",
       "\n",
       "<g class=\"displacy-arrow\">\n",
       "    <path class=\"displacy-arc\" id=\"arrow-5d6b077f1a004cff8784201177fe4602-0-4\" stroke-width=\"2px\" d=\"M340,137.0 C340,47.0 495.0,47.0 495.0,137.0\" fill=\"none\" stroke=\"currentColor\"/>\n",
       "    <text dy=\"1.25em\" style=\"font-size: 0.8em; letter-spacing: 1px\">\n",
       "        <textPath xlink:href=\"#arrow-5d6b077f1a004cff8784201177fe4602-0-4\" class=\"displacy-label\" startOffset=\"50%\" side=\"left\" fill=\"currentColor\" text-anchor=\"middle\">obl</textPath>\n",
       "    </text>\n",
       "    <path class=\"displacy-arrowhead\" d=\"M495.0,139.0 L503.0,127.0 487.0,127.0\" fill=\"currentColor\"/>\n",
       "</g>\n",
       "\n",
       "<g class=\"displacy-arrow\">\n",
       "    <path class=\"displacy-arc\" id=\"arrow-5d6b077f1a004cff8784201177fe4602-0-5\" stroke-width=\"2px\" d=\"M610,137.0 C610,47.0 765.0,47.0 765.0,137.0\" fill=\"none\" stroke=\"currentColor\"/>\n",
       "    <text dy=\"1.25em\" style=\"font-size: 0.8em; letter-spacing: 1px\">\n",
       "        <textPath xlink:href=\"#arrow-5d6b077f1a004cff8784201177fe4602-0-5\" class=\"displacy-label\" startOffset=\"50%\" side=\"left\" fill=\"currentColor\" text-anchor=\"middle\">cc</textPath>\n",
       "    </text>\n",
       "    <path class=\"displacy-arrowhead\" d=\"M610,139.0 L602,127.0 618,127.0\" fill=\"currentColor\"/>\n",
       "</g>\n",
       "\n",
       "<g class=\"displacy-arrow\">\n",
       "    <path class=\"displacy-arc\" id=\"arrow-5d6b077f1a004cff8784201177fe4602-0-6\" stroke-width=\"2px\" d=\"M700,137.0 C700,92.0 760.0,92.0 760.0,137.0\" fill=\"none\" stroke=\"currentColor\"/>\n",
       "    <text dy=\"1.25em\" style=\"font-size: 0.8em; letter-spacing: 1px\">\n",
       "        <textPath xlink:href=\"#arrow-5d6b077f1a004cff8784201177fe4602-0-6\" class=\"displacy-label\" startOffset=\"50%\" side=\"left\" fill=\"currentColor\" text-anchor=\"middle\">mark</textPath>\n",
       "    </text>\n",
       "    <path class=\"displacy-arrowhead\" d=\"M700,139.0 L692,127.0 708,127.0\" fill=\"currentColor\"/>\n",
       "</g>\n",
       "\n",
       "<g class=\"displacy-arrow\">\n",
       "    <path class=\"displacy-arc\" id=\"arrow-5d6b077f1a004cff8784201177fe4602-0-7\" stroke-width=\"2px\" d=\"M340,137.0 C340,2.0 770.0,2.0 770.0,137.0\" fill=\"none\" stroke=\"currentColor\"/>\n",
       "    <text dy=\"1.25em\" style=\"font-size: 0.8em; letter-spacing: 1px\">\n",
       "        <textPath xlink:href=\"#arrow-5d6b077f1a004cff8784201177fe4602-0-7\" class=\"displacy-label\" startOffset=\"50%\" side=\"left\" fill=\"currentColor\" text-anchor=\"middle\">conj</textPath>\n",
       "    </text>\n",
       "    <path class=\"displacy-arrowhead\" d=\"M770.0,139.0 L778.0,127.0 762.0,127.0\" fill=\"currentColor\"/>\n",
       "</g>\n",
       "\n",
       "<g class=\"displacy-arrow\">\n",
       "    <path class=\"displacy-arc\" id=\"arrow-5d6b077f1a004cff8784201177fe4602-0-8\" stroke-width=\"2px\" d=\"M880,137.0 C880,92.0 940.0,92.0 940.0,137.0\" fill=\"none\" stroke=\"currentColor\"/>\n",
       "    <text dy=\"1.25em\" style=\"font-size: 0.8em; letter-spacing: 1px\">\n",
       "        <textPath xlink:href=\"#arrow-5d6b077f1a004cff8784201177fe4602-0-8\" class=\"displacy-label\" startOffset=\"50%\" side=\"left\" fill=\"currentColor\" text-anchor=\"middle\">case</textPath>\n",
       "    </text>\n",
       "    <path class=\"displacy-arrowhead\" d=\"M880,139.0 L872,127.0 888,127.0\" fill=\"currentColor\"/>\n",
       "</g>\n",
       "\n",
       "<g class=\"displacy-arrow\">\n",
       "    <path class=\"displacy-arc\" id=\"arrow-5d6b077f1a004cff8784201177fe4602-0-9\" stroke-width=\"2px\" d=\"M790,137.0 C790,47.0 945.0,47.0 945.0,137.0\" fill=\"none\" stroke=\"currentColor\"/>\n",
       "    <text dy=\"1.25em\" style=\"font-size: 0.8em; letter-spacing: 1px\">\n",
       "        <textPath xlink:href=\"#arrow-5d6b077f1a004cff8784201177fe4602-0-9\" class=\"displacy-label\" startOffset=\"50%\" side=\"left\" fill=\"currentColor\" text-anchor=\"middle\">obl</textPath>\n",
       "    </text>\n",
       "    <path class=\"displacy-arrowhead\" d=\"M945.0,139.0 L953.0,127.0 937.0,127.0\" fill=\"currentColor\"/>\n",
       "</g>\n",
       "</svg></span>"
      ],
      "text/plain": [
       "<IPython.core.display.HTML object>"
      ]
     },
     "metadata": {},
     "output_type": "display_data"
    }
   ],
   "source": [
    "#Plotando o gráfico das dependencias entre as palavras\n",
    "displacy.render(documento, style='dep', jupyter=True, options={'distance': 90})"
   ]
  },
  {
   "cell_type": "code",
   "execution_count": 46,
   "id": "a6c9aa25",
   "metadata": {},
   "outputs": [
    {
     "name": "stdout",
     "output_type": "stream",
     "text": [
      "Curitiba para visitar\n",
      "Guarulhos para ficar\n"
     ]
    }
   ],
   "source": [
    "documento = pln('Que locais podemos visitar em Curitiba e para ficar em Guarulhos?')\n",
    "lugares = []\n",
    "acoes = []\n",
    "for token in documento:\n",
    "    if token.pos_ == \"PROPN\":\n",
    "        lugares.append(token)\n",
    "    elif token.pos_ == \"VERB\":\n",
    "        acoes.append(token)\n",
    "    else:\n",
    "        pass\n",
    "    \n",
    "for local in lugares:\n",
    "        for acao in local.ancestors:\n",
    "            if acao in acoes:\n",
    "                print(f\"{local} para {acao}\")\n",
    "                #O break é necessário para parar a análise na lista\n",
    "                break"
   ]
  },
  {
   "cell_type": "code",
   "execution_count": 47,
   "id": "50bbbe2d",
   "metadata": {},
   "outputs": [
    {
     "name": "stdout",
     "output_type": "stream",
     "text": [
      "Curitiba para visitar\n",
      "Curitiba para podemos\n",
      "Guarulhos para ficar\n",
      "Guarulhos para visitar\n",
      "Guarulhos para podemos\n"
     ]
    }
   ],
   "source": [
    "documento = pln('Que locais podemos visitar em Curitiba e para ficar em Guarulhos?')\n",
    "lugares = []\n",
    "acoes = []\n",
    "for token in documento:\n",
    "    if token.pos_ == \"PROPN\":\n",
    "        lugares.append(token)\n",
    "    elif token.pos_ == \"VERB\":\n",
    "        acoes.append(token)\n",
    "    else:\n",
    "        pass\n",
    "    \n",
    "for local in lugares:\n",
    "        for acao in local.ancestors:\n",
    "            if acao in acoes:\n",
    "                print(f\"{local} para {acao}\")\n",
    "                #O break é necessário para parar a análise na lista\n",
    "                #Sem o break\n",
    "                #break"
   ]
  },
  {
   "cell_type": "markdown",
   "id": "3c5a760a",
   "metadata": {},
   "source": [
    "### Etapa 7: Semelhanças entre palavras e frases"
   ]
  },
  {
   "cell_type": "markdown",
   "id": "766908a1",
   "metadata": {},
   "source": [
    "- Verificar se duas palavras são semelhantes ou logicamente relacionadas\n",
    "- Usa o algoritmo GloVe (Global Vectors for Word Representation)\n",
    "- Artigo original: https://nlp.stanford.edu/pubs/glove.pdf"
   ]
  },
  {
   "cell_type": "code",
   "execution_count": 48,
   "id": "c8c4e29e",
   "metadata": {},
   "outputs": [
    {
     "data": {
      "text/plain": [
       "<spacy.lang.pt.Portuguese at 0x1c1c6598670>"
      ]
     },
     "execution_count": 48,
     "metadata": {},
     "output_type": "execute_result"
    }
   ],
   "source": [
    "pln = spacy.load('pt_core_news_lg')\n",
    "pln"
   ]
  },
  {
   "cell_type": "markdown",
   "id": "9568a554",
   "metadata": {},
   "source": [
    "#### Exemplo 1"
   ]
  },
  {
   "cell_type": "code",
   "execution_count": 49,
   "id": "e27fa4b2",
   "metadata": {},
   "outputs": [],
   "source": [
    "p1 = pln(\"olá\")\n",
    "p2 = pln(\"oi\")\n",
    "p3 = pln(\"ou\")"
   ]
  },
  {
   "cell_type": "code",
   "execution_count": 50,
   "id": "8f924b0b",
   "metadata": {},
   "outputs": [
    {
     "data": {
      "text/plain": [
       "0.8078887901849083"
      ]
     },
     "execution_count": 50,
     "metadata": {},
     "output_type": "execute_result"
    }
   ],
   "source": [
    "p1.similarity(p2)"
   ]
  },
  {
   "cell_type": "code",
   "execution_count": 51,
   "id": "4337b4f9",
   "metadata": {},
   "outputs": [
    {
     "data": {
      "text/plain": [
       "0.8078887901849083"
      ]
     },
     "execution_count": 51,
     "metadata": {},
     "output_type": "execute_result"
    }
   ],
   "source": [
    "p2.similarity(p1)"
   ]
  },
  {
   "cell_type": "code",
   "execution_count": 52,
   "id": "a836cb31",
   "metadata": {},
   "outputs": [
    {
     "data": {
      "text/plain": [
       "-0.04316642149643528"
      ]
     },
     "execution_count": 52,
     "metadata": {},
     "output_type": "execute_result"
    }
   ],
   "source": [
    "p1.similarity(p3)"
   ]
  },
  {
   "cell_type": "code",
   "execution_count": 53,
   "id": "2bcf4f80",
   "metadata": {},
   "outputs": [
    {
     "data": {
      "text/plain": [
       "-0.04030130906070436"
      ]
     },
     "execution_count": 53,
     "metadata": {},
     "output_type": "execute_result"
    }
   ],
   "source": [
    "p2.similarity(p3)"
   ]
  },
  {
   "cell_type": "code",
   "execution_count": 54,
   "id": "332093a3",
   "metadata": {},
   "outputs": [],
   "source": [
    "texto1 = pln('Quando será lançado o novo filme?')\n",
    "texto2 = pln('O novo filme será lançado mês que vem')\n",
    "texto3 = pln('Qual a cor do carro?')"
   ]
  },
  {
   "cell_type": "code",
   "execution_count": 55,
   "id": "22369b2a",
   "metadata": {},
   "outputs": [
    {
     "data": {
      "text/plain": [
       "0.7609563453554925"
      ]
     },
     "execution_count": 55,
     "metadata": {},
     "output_type": "execute_result"
    }
   ],
   "source": [
    "texto1.similarity(texto2)"
   ]
  },
  {
   "cell_type": "code",
   "execution_count": 56,
   "id": "77133271",
   "metadata": {},
   "outputs": [
    {
     "data": {
      "text/plain": [
       "0.45435413659957075"
      ]
     },
     "execution_count": 56,
     "metadata": {},
     "output_type": "execute_result"
    }
   ],
   "source": [
    "texto1.similarity(texto3)"
   ]
  },
  {
   "cell_type": "markdown",
   "id": "1bdce9e6",
   "metadata": {},
   "source": [
    "#### Exemplo 2"
   ]
  },
  {
   "cell_type": "code",
   "execution_count": 57,
   "id": "81ade3ce",
   "metadata": {},
   "outputs": [],
   "source": [
    "texto = pln('gato cachorro cavalo pessoa')"
   ]
  },
  {
   "cell_type": "code",
   "execution_count": 58,
   "id": "e98054cc",
   "metadata": {},
   "outputs": [
    {
     "name": "stdout",
     "output_type": "stream",
     "text": [
      "gato é 100 similar a gato\n",
      "gato é 83 similar a cachorro\n",
      "gato é 51 similar a cavalo\n",
      "gato é 23 similar a pessoa\n",
      "cachorro é 83 similar a gato\n",
      "cachorro é 100 similar a cachorro\n",
      "cachorro é 55 similar a cavalo\n",
      "cachorro é 29 similar a pessoa\n",
      "cavalo é 51 similar a gato\n",
      "cavalo é 55 similar a cachorro\n",
      "cavalo é 100 similar a cavalo\n",
      "cavalo é 13 similar a pessoa\n",
      "pessoa é 23 similar a gato\n",
      "pessoa é 29 similar a cachorro\n",
      "pessoa é 13 similar a cavalo\n",
      "pessoa é 100 similar a pessoa\n"
     ]
    }
   ],
   "source": [
    "#Verificando a similaridade de cada palavra dentro de um texto\n",
    "#util se a palavra estiver repetida\n",
    "for texto1 in texto:\n",
    "  #print('----', texto1)\n",
    "  for texto2 in texto:\n",
    "    #print(texto2)\n",
    "    similaridade = int(texto1.similarity(texto2) * 100)\n",
    "    print(\"{} é {} similar a {}\".format(texto1, similaridade, texto2))"
   ]
  },
  {
   "cell_type": "markdown",
   "id": "e544331a",
   "metadata": {},
   "source": [
    "### Etapa 8: Tokenização"
   ]
  },
  {
   "cell_type": "code",
   "execution_count": 59,
   "id": "c38f9898",
   "metadata": {},
   "outputs": [],
   "source": [
    "documento = pln('Estou aprendendo processamento de linguagem natural, curso em Curitiba')"
   ]
  },
  {
   "cell_type": "code",
   "execution_count": 60,
   "id": "3b048451",
   "metadata": {},
   "outputs": [
    {
     "name": "stdout",
     "output_type": "stream",
     "text": [
      "Estou\n",
      "aprendendo\n",
      "processamento\n",
      "de\n",
      "linguagem\n",
      "natural\n",
      ",\n",
      "curso\n",
      "em\n",
      "Curitiba\n"
     ]
    }
   ],
   "source": [
    "#Separando a separação correta\n",
    "for token in documento:\n",
    "    print(token)"
   ]
  },
  {
   "cell_type": "code",
   "execution_count": 61,
   "id": "180e7c9c",
   "metadata": {},
   "outputs": [
    {
     "data": {
      "text/plain": [
       "['Estou',\n",
       " 'aprendendo',\n",
       " 'processamento',\n",
       " 'de',\n",
       " 'linguagem',\n",
       " 'natural,',\n",
       " 'curso',\n",
       " 'em',\n",
       " 'Curitiba']"
      ]
     },
     "execution_count": 61,
     "metadata": {},
     "output_type": "execute_result"
    }
   ],
   "source": [
    "#\n",
    "documento1 = 'Estou aprendendo processamento de linguagem natural, curso em Curitiba'\n",
    "documento1.split(' ')"
   ]
  },
  {
   "cell_type": "code",
   "execution_count": null,
   "id": "b21456fa",
   "metadata": {},
   "outputs": [],
   "source": []
  }
 ],
 "metadata": {
  "kernelspec": {
   "display_name": "machine_learning",
   "language": "python",
   "name": "machine_learning"
  },
  "language_info": {
   "codemirror_mode": {
    "name": "ipython",
    "version": 3
   },
   "file_extension": ".py",
   "mimetype": "text/x-python",
   "name": "python",
   "nbconvert_exporter": "python",
   "pygments_lexer": "ipython3",
   "version": "3.9.6"
  }
 },
 "nbformat": 4,
 "nbformat_minor": 5
}
