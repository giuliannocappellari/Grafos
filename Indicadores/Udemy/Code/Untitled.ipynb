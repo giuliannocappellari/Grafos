{
 "cells": [
  {
   "cell_type": "code",
   "execution_count": 1,
   "id": "6f046e75",
   "metadata": {},
   "outputs": [],
   "source": [
    "import pandas as pd\n",
    "import string\n",
    "#Spacy trabalha por trás dos panos com redes neurais convolucionais\n",
    "import spacy\n",
    "import random\n",
    "import seaborn as sns\n",
    "import numpy as np\n",
    "import matplotlib.pyplot as plt\n",
    "import matplotlib\n",
    "%matplotlib inline"
   ]
  },
  {
   "cell_type": "code",
   "execution_count": 2,
   "id": "7b7fb3af",
   "metadata": {},
   "outputs": [],
   "source": [
    "base_dados = pd.read_csv('../Data/base_treinamento.txt', encoding = 'utf-8')"
   ]
  },
  {
   "cell_type": "code",
   "execution_count": null,
   "id": "eb3a2250",
   "metadata": {},
   "outputs": [],
   "source": [
    "sns.countplot(data=base_dados, x = \"emocao\")"
   ]
  },
  {
   "cell_type": "code",
   "execution_count": null,
   "id": "0cb30a21",
   "metadata": {},
   "outputs": [],
   "source": []
  }
 ],
 "metadata": {
  "kernelspec": {
   "display_name": "machine_learning",
   "language": "python",
   "name": "machine_learning"
  },
  "language_info": {
   "codemirror_mode": {
    "name": "ipython",
    "version": 3
   },
   "file_extension": ".py",
   "mimetype": "text/x-python",
   "name": "python",
   "nbconvert_exporter": "python",
   "pygments_lexer": "ipython3",
   "version": "3.9.6"
  }
 },
 "nbformat": 4,
 "nbformat_minor": 5
}
