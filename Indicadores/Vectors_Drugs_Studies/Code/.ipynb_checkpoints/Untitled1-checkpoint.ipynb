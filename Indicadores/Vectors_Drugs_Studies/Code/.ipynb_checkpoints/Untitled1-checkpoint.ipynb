{
 "cells": [
  {
   "cell_type": "code",
   "execution_count": 15,
   "id": "da6029ec",
   "metadata": {},
   "outputs": [],
   "source": [
    "import requests\n",
    "from bs4 import BeautifulSoup\n",
    "from selenium import webdriver \n",
    "import selenium"
   ]
  },
  {
   "cell_type": "markdown",
   "id": "56ee7a55",
   "metadata": {},
   "source": [
    "### Crack"
   ]
  },
  {
   "cell_type": "code",
   "execution_count": 25,
   "id": "978b9ee5",
   "metadata": {},
   "outputs": [],
   "source": [
    "driver = webdriver.Chrome(executable_path = r'C:\\Users\\giu_2\\Desktop\\Data_Sciense\\Config\\chromedriver.exe')\n",
    "driver.get(url=\"https://pt.wikipedia.org/wiki/Crack\")\n",
    "\n",
    "crack = []\n",
    "for i in range(1, 39):\n",
    "    div = f'html/body/div/div/div[1]/div[2]/main/div[2]/div[3]/div[1]/p[{i}]'\n",
    "    element = driver.find_element_by_xpath(div)\n",
    "    crack.append(element.text)"
   ]
  },
  {
   "cell_type": "code",
   "execution_count": 26,
   "id": "324f90a7",
   "metadata": {
    "collapsed": true
   },
   "outputs": [
    {
     "data": {
      "text/plain": [
       "[\"Crack [pronúncia: kɹæk ] (do inglês crack: 'ruído seco, estalo'; também referido como pedra de crack)[1] é a cocaína solidificada em cristais.[2] O nome deriva do ruído peculiar que se produz quando o cloridrato de cocaína é aquecido.[3]\",\n",
       " 'O surgimento do crack foi a solução encontrada para o problema do preparo da \"pasta base\" (composto sólido e pastoso denominado coloquialmente como \"sulfato de cocaína\", que contém 40% a 85% de cocaína)[4] para consumo. Os traficantes, então, passaram a vender doses bem pequenas de crack por um preço tão baixo quanto três dólares estadunidenses.[5]',\n",
       " 'Nas formas mais puras, as pedras de crack aparecem como cristais brancos, com bordas irregulares,[6] com uma densidade ligeiramente maior do que a da parafina, semelhante a um plástico duro e quebradiço.[6] Formas mais puras de crack afundam na água ou derretem nas bordas quando perto de uma chama (o crack vaporiza a 90 °C, 194 °F).[7]',\n",
       " 'O crack resulta da conversão do cloridrato de cocaína em base livre (que contém 5% a 40% de cocaína) ao ser misturado com bicarbonato de sódio e água.[8] É a forma de cocaína mais viciante e também a segunda droga mais viciante do mundo, perdendo apenas para a heroína.[9] As pedras de crack oferecem uma curta, mas intensa euforia aos fumantes.[6][10]',\n",
       " 'O crack costuma ser vendido já em forma de pedra,[11] mas não é incomum que alguns usuários \"cozinhem\" sua própria cocaína em pó para sintetizar o crack. O processe de síntese é frequentemente feito com bicarbonato de sódio (bicarbonato de sódio), água e uma colher. Após ser misturado e aquecido, o bicarbonato reage com o cloridrato da cocaína em forma de pó numa reação reversível entre ácido e base, formando ácido carbônico (H2CO3) e cocaína em forma de base livre. O aquecimento acelera a degradação do ácido carbônico em dióxido de carbono (CO2) e água (H2O). A perda de CO2 impede que o produto da reação seja transformado novamente em cloridrato de cocaína. Nesse processo, a cocaína em base livre se separa como uma camada oleosa e passa a flutuar na solução aquosa, ponto em que o óleo é coletado rapidamente, geralmente com o auxílio de um alfinete ou outros objetos pontiagudos e finos. Isso puxa o óleo para cima e permite que o ar realize a secagem do óleo, ponto em que a droga se transforma em extrato sólido, o crack.[7]',\n",
       " 'O bicarbonato de sódio (NaHCO3) é a base mais comumente usada para a preparação do crack, mas outras bases fracas podem substituí-la.[12][13] A reação química ao usar bicarbonato de sódio para a síntese do crack é:',\n",
       " 'Com bicarbonato de amônio:',\n",
       " 'Com carbonato de amônio:',\n",
       " 'Para o consumo inalatório da droga, são utilizados cachimbos elaborados pelos próprios usuários, geralmente de alumínio e compartilhados entre o grupo de uso. Também tem sido comum o consumo de cigarros comuns ou de maconha com fragmentos de pedras de crack.[14] A forma injetável de cocaína não teve sucesso e foi quase extinta no Brasil, tendo sido substituída pelo crack, que provoca efeito semelhante e tão potente quanto o da cocaína injetada.[15]',\n",
       " 'O crack também pode ser injetado por via intravenosa, produzindo com efeitos semelhantes ao da cocaína em pó quando injetava. No entanto, enquanto a cocaína em pó se dissolve em água, o crack só pode ser dissolvido em solução ácida, como o suco de limão (que contém ácido cítrico) ou o vinagre (que contém ácido acético). Esse processo reverte a conversão da cocaína em pó em crack.[16] Agências de saúde pública e redução de danos podem distribuir pacotes de ácido cítrico ou ácido ascórbico (vitamina C) para esse fim.[17]',\n",
       " 'Os efeitos iniciais do crack são mais rápidos e intensos do que os de outras drogas injetáveis.[5] A duração dos efeitos do crack é muito curta, em média cinco minutos, enquanto a cocaína, depois de injetada ou usada por via intranasal, provoca efeitos com duração em torno de 20 a 45 minutos.[14] Os efeitos causados pelo crack são:[18][19][20]',\n",
       " 'Grandes quantidades podem induzir tremores, vertigens, espasmos musculares, paranoia ou, com doses repetidas, uma reação tóxica muito semelhante à da intoxicação por anfetaminas.[18][21] O uso regular do crack pode provocar alucinações e causar comportamentos violentos, episódios paranoicos e mesmo impulsos suicidas.[22]',\n",
       " 'O uso de drogas estimulantes (principalmente anfetaminas e cocaína) pode levar à \"parasitose delirante\" ou síndrome de Ekbom: a crença equivocada de que se está infestado de parasitas.[23] Essas ilusões também estão associados a febre alta ou abstinência do álcool, muitas vezes, juntamente com alucinações visuais sobre insetos. Pessoas que vivem essas alucinações podem arranhar-se, causando danos cutâneos graves e sangramento.[23]',\n",
       " 'Grandes quantidades (várias centenas de miligramas ou mais) intensificam o efeito do crack para o usuário, mas também podem levar a um comportamento bizarro, errático e violento. Alguns usuários de crack relataram sentimentos de agitação, irritabilidade e ansiedade. Em casos raros, pode ocorrer morte súbita no primeiro uso do crack ou, de forma inesperada, depois. As mortes relacionadas ao crack são, muitas vezes, resultantes de parada cardíaca ou convulsões seguidas de parada respiratória.',\n",
       " 'Pode-se desenvolver uma tolerância considerável ao uso do crack. Os viciados procuram atingir o mesmo prazer de sua primeira experiência, e alguns aumentam a frequência das doses para intensificar e prolongar os efeitos eufóricos. Embora a tolerância a altas doses possa ocorrer, os usuários poderão também tornar-se mais sensíveis (sensibilização) aos efeitos anestésicos e convulsivante do crack, sem aumentar a dose tomada. O aumento de sensibilidade pode explicar algumas mortes que ocorrem após doses aparentemente baixas de crack.[18]',\n",
       " 'O primeiro relato de acidente vascular cerebral induzido por cocaína data de 1977. Com o desenvolvimento e disseminação do crack na década de 1980,[24] houve um aumento significativo no número de relatos de casos descritos como acidentes vasculares cerebrais isquêmicos e hemorrágicos associados ao uso de cocaína,[14] porém não há aumento de fatores de risco de AVC associado ao uso de cocaína.[25] O consumo de crack fumado, usando-se latas de alumínio como cachimbo, tem levado a estudos em busca de evidências do aumento do alumínio sérico em usuários de crack, considerando-se que a ingestão de alumínio está associada a dano neurológico.[26]',\n",
       " 'A abstinência dura cerca de dez semanas. Nos quatro primeiros dias o paciente se sente cansado e desestimulado, come muito e sofre alterações de humor. Segundo o psiquiatra Valdir Ribeiro Campos, \"existe grande tendência de o dependente voltar a usar a droga, caso a abstinência não seja tratada corretamente. Sem a medicação, os sintomas continuam e, comumente, levam a um quadro de depressão, alterações no padrão de sono e desestímulo\", que pode levar à anedonia.[27] Mas os sintomas paranóides transitórios são os principais componentes do quadro de abstinência do crack. Esse quadro caracteriza a chamada fissura (do inglês: craving). A fissura é frequentemente referida como uma necessidade imprescindível para o corpo, indispensável à vida e descrita como uma vontade \"pior que a fome\". A abstinência causa grande sofrimento físico e psíquico; o indivíduo é tomado por grande ansiedade e psicose sobre as maneiras de obter a droga, não consegue ficar parado: \"o corpo dói, a mente dói, o coração gela, a boca do estômago trava\". O objetivo da procura obcecada por crack não é somente obter prazer, mas também aliviar esse grande mal-estar. Os contornos obsessivos da \"fissura\" pelo crack tiram do indivíduo a sua capacidade de escolha e o seu discernimento, embora ele seja consciente da sua degradação física e moral. Devido às semelhanças sintomáticas entre a dependência e o transtorno obsessivo-compulsivo, ambos dividem etiologia similar.[28]',\n",
       " 'Embora as mortes durante o processo de desintoxicação sejam frequentes, não há relação comprovada entre a morte de usuários de crack e a abstinência da droga, diferentemente do que ocorre no caso de dependentes de álcool e de heroína. Segundo os especialistas, essas mortes seriam causadas pela associação da dependência química com inanição ou outras doenças.[29]',\n",
       " 'Na décima semana, esses sintomas começam a desaparecer, e o organismo começa a se recuperar.',\n",
       " 'Atualmente várias abordagens de tratamento para dependência de cocaína e crack no Brasil vêm sendo discutidas, e há muitas controvérsias sobre qual abordagem teria demonstrado maior efetividade, segundo a literatura científica. Há um consenso de que a dependência de crack exige um tratamento difícil e complexo, por ser uma doença crônica e grave que deverá ser acompanhada por longo tempo.[30] Não existe um único tratamento para eliminar a dependência do crack:[31] o dependente precisa ser atendido nas diversas áreas afetadas, tais como social, familiar, física, mental, questões legais, qualidade de vida e trabalho de estratégias de prevenção de recaída.',\n",
       " 'Devido aos baixos índices de motivação do dependente e, consequentemente, pouca aderência do paciente ao tratamento, a família e a rede social de apoio exercem um papel de fundamental importância durante o processo de intervenção terapêutica. Contudo, a maioria dos estudos de revisão sobre famílias de dependentes químicos confirma que o universo familiar dessa população é frequentemente disfuncional.[32] Outra dificuldade no tratamento da dependência do crack é a ausência de uma medicação específica que reduza o desejo pelos efeitos da substância.[33] Inúmeros ensaios clínicos já foram realizados com antidepressivos tricíclicos (imipramina), inibidores seletivos de recaptação de serotonina (ISRS) (fluoxetina, sertralina e paroxetina), anticonvulsivantes e estabilizadores de humor (carbamazepina, gabapentina, lamotrigina, lítio), antipsicóticos e agentes aversivos (dissulfiram). Contudo, os resultados não mostraram qualquer sucesso.[34]',\n",
       " 'As chances de recuperação dessa doença, que muitos especialistas chamam de \"doença adquirida\",[carece de fontes] são das mais baixas que se conhece dentre todas as formas de dependência de drogas. A submissão voluntária ao tratamento por parte do dependente é difícil, haja vista que a fissura, isto é, a vontade de voltar a usar a droga, é grande demais. Além disso, a maioria das famílias de usuários não tem condições de custear tratamentos em clínicas particulares ou de conseguir vagas em clínicas terapêuticas assistenciais. Além disso, nem sempre as clínicas são idôneas.[35] Nas comunidades terapêuticas, as internações acontecem voluntariamente. Estão regulamentadas pela Resolução nº 101/2001 da Vigilância Sanitária, mas várias das que funcionam atualmente estão fora das normas.',\n",
       " 'É comum o dependente iniciar, mas abandonar o tratamento.[36]',\n",
       " 'A imprensa também tem mostrado as dificuldades sofridas por parentes de dependentes do crack para tratá-los.[37] Casos extremos, de famílias que não conseguem ajuda no sistema público de saúde, são cada vez mais comuns.[38]',\n",
       " 'A melhor forma de tratamento desses pacientes ainda parece ser objeto de discussão entre especialistas. Muitos psiquiatras e autoridades posicionam-se a favor da internação compulsória em casos graves e emergenciais, cobrando revisão da legislação brasileira, que restringe severamente a internação compulsória de dependentes químicos,[39] e o aumento de vagas em clínicas públicas que oferecem esse tipo de internação.[40] Contra a internação involuntária, há argumentos de que é muito baixa a eficácia do tratamento sem que haja o desejo da pessoa de se tratar. Por outro lado, admiti-la como foco de uma política de tratamento dos usuários de crack poderia abrir espaço para a violação de direitos humanos, como ressaltou Pedro Abramovay, em entrevista na Revista Cult, 165, ano 15, fevereiro 2012: \"Não dá para não pensar na metáfora de Machado de Assis - a internação compulsória pode levar todos à Casa Verde [hospício criado por Simão Bacamarte em \\'O Alienista\\'].\"',\n",
       " 'Desde 21 de janeiro de 2013, entrou em vigor o programa de internação compulsória de dependentes de drogas, do governo do Estado de São Paulo.',\n",
       " 'Poucas cidades brasileiras possuem o Centro de Atenção Psicossocial a Álcool e Drogas (CAPS AD). Essa modalidade de CAPS foi criada pela portaria ministerial 336, de 10 de fevereiro de 2002. Possui atendimento ambulatorial e hospital-dia com equipes interdisciplinares cuja função é criar uma rede de atenção aos usuários de álcool e outras drogas.[41][42]',\n",
       " 'Outra estratégia de intervenção voltada à abordagem do usuário de crack são os chamados \"Consultórios de Rua\".[2]',\n",
       " 'A recuperação não é impossível, mas depende de muitos fatores, como o apoio familiar, da comunidade, a existência de rede de saúde adequada e, de modo especial, a persistência da pessoa (vontade de mudar). Além disso, quanto antes procurada a ajuda, mais provável o sucesso no tratamento. Segundo o médico psiquiatra Marcelo Ribeiro de Araújo, \"Faz-se necessário a constituição de equipe interdisciplinar experiente e capacitada, capaz de lhes oferecer um atendimento intensivo e adequado às particularidades de cada um deles, contemplando suas reais necessidades de cuidados médicos gerais, de apoio psicológico e familiar, bem como de reinserção social\".[43]',\n",
       " 'Diferentemente do que se poderia imaginar, porém, não são as complicações de saúde pelo uso crônico da droga, mas sim os homicídios, que constituem a primeira causa de morte entre os usuários, resultantes de brigas em geral, ações policiais e punições de traficantes pelo não-pagamento de dívidas contraídas nesse comércio. Outra causa importante são as doenças sexualmente transmissíveis, como a síndrome da imunodeficiência adquirida por exemplo, por conta do comportamento promíscuo que a droga gera. O modo de vida do usuário, enfim, o expõe à vitimização, muitas vezes e infelizmente levando-o a um fim trágico.',\n",
       " 'Estudos indicam que a porcentagem de usuários de crack que são vítimas de morte violenta é significativamente elevada.[44] O pesquisador Marcelo Ribeiro de Araújo acompanhou 131 dependentes de crack internados em clínicas de reabilitação e concluiu que usuários de crack correm risco de morte oito vezes maior que a população em geral. Cerca de 18,5 por cento dos pacientes morreram após cinco anos. Destes, cerca de 60 por cento morreram assassinados, 10 por cento morreram de overdose e 30 por cento em decorrência de síndrome da imunodeficiência adquirida.[carece de fontes]',\n",
       " 'O crack apareceu nos Estados Unidos primeiramente em bairros pobres do centro das cidades de New York, Los Angeles e Miami, entre 1984 e 1985.[45][46] No Brasil, o crack passou a ser conhecido nos anos de 1990.[47]',\n",
       " 'As informações sobre a chegada do crack ao Brasil vêm da imprensa leiga ou de órgãos policiais. A primeira apreensão da substância no município de São Paulo registrada nos arquivos da Divisão de Investigação sobre Entorpecentes (DISE) aconteceu em 1990.[48][49] Algumas evidências apontam para o surgimento da substância em bairros da Zona Leste da cidade, alcançando depois, a região central, nas imediações da Estação da Luz, área que ficou conhecida como Cracolândia.[50]',\n",
       " 'Pesquisas recentes têm mostrado aumento no uso do crack, e um estudo com moradores de rua mostrou que 52,2% deles tinham consumido crack nos últimos seis meses. Em Toronto, 78,8% dos entrevistados relataram ter fumado crack nos últimos seis meses (15).[51]',\n",
       " 'Um estudo brasileiro de 2011, examinou a taxa de mortalidade, os indicadores de mortalidade e as causas de mortes entre 131 pacientes brasileiros dependentes de crack/cocaína que procuraram tratamento durante meados dos anos 1990 no Brasil, o perfil predominante do usuário foi: homem, jovem com menos de 30 anos, solteiro, de baixa classe socioeconômica, baixo nível de escolaridade, sem vínculos empregatícios formais e em geral isolado socialmente.[52]',\n",
       " 'Em 19 de setembro de 2013, o governo federal do Brasil apresentou os resultados das pesquisas \"Estimativa do número de usuários de crack e/ou similares nas capitais do país\" e \"Perfil dos usuários de crack e/ou similares no Brasil\", que fazem parte do programa nacional de prevenção e pesquisa \"Crack, é possível vencer\", lançado em 2011.[53]',\n",
       " 'Em janeiro de 2014, no âmbito de um programa social da prefeitura da cidade de São Paulo, dependentes do crack começaram a trabalhar como garis, recebendo uma remuneração de 15 reais por dia. O programa não obrigava ninguém a abandonar as drogas, e a adesão era voluntária. Os dependentes também passavam a residir em hotéis.[54]',\n",
       " 'Apesar de seu uso ainda não ter sido estudado em laboratório quanto a isso, o alucinógeno ibogaína[55] vem sendo usado com sucesso no Brasil e tem demonstrado ser eficiente para tratar a dependência de usuários de drogas como o crack.[56][57]']"
      ]
     },
     "execution_count": 26,
     "metadata": {},
     "output_type": "execute_result"
    }
   ],
   "source": [
    "crack"
   ]
  },
  {
   "cell_type": "code",
   "execution_count": 5,
   "id": "8ee1bea4",
   "metadata": {},
   "outputs": [],
   "source": [
    "#Divs crack\n",
    "\"\"\"#Texto principal\n",
    "/html/body/div/div/div[1]/div[2]/main/div[2]/div[3]/div[1]/p[1]\n",
    "/html/body/div/div/div[1]/div[2]/main/div[2]/div[3]/div[1]/p[2]\n",
    "\n",
    "#Texto 2 prop quim\n",
    "/html/body/div/div/div[1]/div[2]/main/div[2]/div[3]/div[1]/p[3]\n",
    "/html/body/div/div/div[1]/div[2]/main/div[2]/div[3]/div[1]/p[4]\n",
    "\n",
    "\n",
    "/html/body/div/div/div[1]/div[2]/main/div[2]/div[3]/div[1]/p[38]\"\"\""
   ]
  },
  {
   "cell_type": "markdown",
   "id": "dbbbe4a6",
   "metadata": {},
   "source": [
    "### Heroína"
   ]
  },
  {
   "cell_type": "code",
   "execution_count": null,
   "id": "4ab5d098",
   "metadata": {},
   "outputs": [],
   "source": [
    "#Padrão de div\n",
    "\n",
    "#/html/body/div[1]/div/div[1]/div[2]/main/div[2]/div[3]/div[1]/p[1]\n",
    "#/html/body/div[1]/div/div[1]/div[2]/main/div[2]/div[3]/div[1]/p[2]\n",
    "#/html/body/div[1]/div/div[1]/div[2]/main/div[2]/div[3]/div[1]/p[4]\n",
    "\n",
    "#/html/body/div[1]/div/div[1]/div[2]/main/div[2]/div[3]/div[1]/p[5]\n",
    "\n",
    "#/html/body/div[1]/div/div[1]/div[2]/main/div[2]/div[3]/div[1]/p[7]\n",
    "\n",
    "#/html/body/div[1]/div/div[1]/div[2]/main/div[2]/div[3]/div[1]/p[16]\n",
    "\n",
    "#/html/body/div[1]/div/div[1]/div[2]/main/div[2]/div[3]/div[1]/p[56]"
   ]
  },
  {
   "cell_type": "code",
   "execution_count": 27,
   "id": "a8f0e8b4",
   "metadata": {},
   "outputs": [],
   "source": [
    "driver = webdriver.Chrome(executable_path = r'C:\\Users\\giu_2\\Desktop\\Data_Sciense\\Config\\chromedriver.exe')\n",
    "driver.get(url=\"https://pt.wikipedia.org/wiki/Hero%C3%ADna\")\n",
    "\n",
    "heroina = []\n",
    "for i in range(1, 57):\n",
    "    div = f'/html/body/div[1]/div/div[1]/div[2]/main/div[2]/div[3]/div[1]/p[{i}]'\n",
    "    element = driver.find_element_by_xpath(div)\n",
    "    heroina.append(element.text)"
   ]
  },
  {
   "cell_type": "code",
   "execution_count": 28,
   "id": "a219aa6a",
   "metadata": {},
   "outputs": [
    {
     "data": {
      "text/plain": [
       "['Heroína ou diamorfina[5] é um opioide frequentemente utilizado como droga recreativa devido ao seu efeito eufórico.[6] Em medicina, é usada em vários países como analgésico ou em terapia de substituição opiácea.[7][8][9] A heroína é geralmente injetada numa veia, embora possa também ser fumada ou inalada.[6][10][11] Os efeitos são de início rápido e duram algumas horas.[6]',\n",
       " 'Os efeitos secundários mais comuns são elevada dependência psicológica, hipoventilação, boca seca e euforia.[10] Entre outros possíveis efeitos secundários estão abcessos, infeção das válvulas cardíacas, infeções do sangue, obstipação e pneumonia.[10] Nos casos de consumo prolongado, os sintomas de abstinência têm início poucas horas após o último consumo.[10] Quando injetada numa veia, o efeito da heroína é duas a três vezes superior ao de uma dose equivalente de morfina.[6] Geralmente é vendida na forma de um pó branco ou castanho.[10]',\n",
       " 'O tratamento da dependência de heroína consiste em terapia comportamental e medicação.[10] Os medicamentos mais comuns são buprenorfina, metadona e naltrexona.[10] Uma overdose de heroína pode ser tratada com nalaxona.[10] Estima-se que em 2015 houvesse em todo o mundo 17 milhões de consumidores de opiáceos como a heroína.[12] No mesmo ano, os opioides foram a causa de 122 000 mortes.[13] O número total de consumidores de opiáceos aumentou entre 1998 e 2007, tendo a partir dessa data mantido-se relativamente estável.[12] Nos Estados Unidos, cerca de 1,6% da população já consumiu heroína pelo menos uma vez na vida.[10] Nos casos em que a causa da morte é uma droga, essa droga é geralmente um opioide.[12]',\n",
       " 'A heroína foi sintetizada pela primeira vez pelo químico britânico Charles Alder Wright em 1874. A substância é produzida a partir da morfina, um produto natural derivado da papoila do ópio.[14] O comércio internacional é regulamentado pela Convenção Única sobre Estupefacientes.[15] Na maior parte dos países é ilegal produzir, possuir ou comercializar heroína sem autorização.[16] Em 2015, 66% do ópio em todo o mundo era produzido no Afeganistão.[12] A heroína é geralmente comercializada de forma ilegal e misturada com outras substâncias, como açúcar ou estricnina.[6]',\n",
       " 'Foi sintetizada pelo químico inglês Charles Romley Alder Wright, em 1874, a partir da morfina, uma substância natural, extraída do ópio (o látex contido nas cápsulas da papoula). Em 21 de agosto de 1897, foi introduzida no mercado de medicamentos pelo químico Felix Hoffmann, da Bayer.[17] Internacionalmente, a heroína é controlada conforme as tabelas I e IV da Convenção Única sobre Entorpecentes.[18] Geralmente, é ilegal a produção, posse ou venda de heroína, sem uma licença prévia.[19] Frequentemente, a heroína vendida ilegalmente é misturada a outras substâncias, tais como açúcar ou estricnina.[6]',\n",
       " 'Em 2015, o Afeganistão foi responsável por mais de 90% do ópio produzido no mundo.[20]',\n",
       " 'Seu nome provavelmente provém do alemão heroisch e indica a sensação observada pelos usuários durante estudos iniciais. Foi usada para tratamento de viciados em morfina e como sedativo da tosse em crianças de 1898 a 1910, quando foi descoberto que a heroína convertia-se em morfina no fígado, ironicamente sendo até mais viciante que a morfina.[21]',\n",
       " 'O seu nome comercial foi cedido pela Alemanha aos Aliados em 1918 como parte das indenizações de guerra. A heroína foi proibida nos países ocidentais no início do século XX devido à grave dependência física que provoca.',\n",
       " 'A injeção é preferida no abuso recreativo, devido ao efeito de prazer súbito (denominado \"orgasmo abdominal\"). A inalação tem ganhado terreno, numa modalidade denominada \"chasing the dragon\", com origens orientais, onde a disponibilidade de seringas e agulhas é menor.',\n",
       " 'Também pode ser ingerida, absorvida pela pele ou fumada. O consumo com cocaína (\"speedballs\" ou \"moonrocks\") tem se generalizado.',\n",
       " 'A heroína é mais lipofílica do que os outros opioides, devido à adição do grupo acetila, o que leva à sua absorção muito mais rápida pelo cérebro. A rapidez de efeito é importante para os toxicodependentes, porque proporciona maiores concentrações inicialmente, traduzindo-se em prazer intenso após a injeção (\"chute\", \"rush\"). No cérebro ela é imediatamente convertida em morfina e em formas menos acetiladas por enzimas celulares.',\n",
       " 'Metabolizada no figado. Ultrapassa a barreira hemato-encefálica e a placenta: os filhos de consumidoras apresentam dependência profunda e aumento da probabilidade de malformações.',\n",
       " 'A heroína é permitida em alguns países (no Reino Unido por exemplo), sob apertada vigilância, como analgésico de uso hospitalar. Para os demais usos é proibida.',\n",
       " 'É bem absorvida no trato gastrointestinal, nos pulmões, mucosa nasal e por injeção intramuscular ou subcutânea.',\n",
       " 'A diacetilmorfina sofre uma rápida hidrólise e é convertida em 6-mono acetilmorfina que depois é hidrolisada em morfina. A lipossolubilidade (capacidade de penetrar uma membrana biológica) da diacetilmorfina e da 6-mono acetilmorfina é maior que a da morfina e devido a isto, sua capacidade de entrar no cérebro é maior.[22]',\n",
       " 'Os receptores opioides são classificados nos tipo δ (Delta) μ (mu ou mi), κ (Kappa) existem em neurônios de algumas zonas do cérebro, medula espinal e nos sistemas neuronais do intestino. A heroína ativa (agonista farmacológico) todos os receptores opioides, mas os seus efeitos são largamente devidos à ativação do subtipo mi, efetivo na ação analgésica.[23]',\n",
       " 'O mecanismo prazer e bem-estar produzido pelo consumo da heroína não está completamente esclarecido, mas sabe-se que, como o das outras drogas recreativas, é devido à interferência nas vias dopaminérgicas (vias que utilizam o neurotransmissor dopamina) meso-límbicas-meso-corticais. As vias dopaminérgicas que relacionam o sistema límbico (região das emoções e aprendizagem) e o córtex (região dos mecanismos conscientes) são importantes na produção de prazer. Normalmente, elas só são ativadas de forma limitada em circunstâncias específicas, ligadas à recompensa da aprendizagem e dos comportamentos bem sucedidos relacionados à obtenção de recursos, conhecimentos ou ligações sociais ou sexuais importantes para o sucesso do indivíduo.',\n",
       " 'No consumo de droga, estas vias são modificadas e pervertidas (\"highjacked\") e passam a responder de forma positiva apenas ao distúrbio bioquímico cerebral criado pela própria droga. Grande parte da motivação do indivíduo passa assim para a obtenção e consumo da droga, e os interesses sociais, familiares, ambição profissional, aprendizagem e outros factores, não diretamente importantes para a sua obtenção, são com o consumo crescente cada vez mais desleixados, sem que muitas vezes o indivíduo tome decisões conscientes nesse sentido.',\n",
       " 'Grande parte da heroína é eliminada na urina como morfina (livre e conjugada).[22] 90% da droga é eliminada nas primeiras 24 horas.[24]',\n",
       " 'Enquanto depressor do sistema nervoso central, ela potencia os efeitos de outros depressores, aumentando o risco de overdose.',\n",
       " 'Seu consumo concomitante com álcool, benzodiazepinas (e.g. Valium), cocaína ou anfetaminas, barbitúricos, antiepilépticos e antipsicóticos aumenta muito o risco de overdose e morte.',\n",
       " 'A heroína é extremamente difícil de controlar e não são raras as overdoses acidentais por consumidores.',\n",
       " 'A heroína tem efeito similar aos outros opioides. Logo após o uso, a pessoa fica num estado sonolento, fora da realidade. Os batimentos cardíacos e respiração diminuem, sintoma muito comum no uso de opiáceos, sendo inclusive a causa de morte por overdose, insuficiência respiratória. As primeiras sensações são de conforto.',\n",
       " 'A pessoa dependente de heroína também pode ter problemas sociais e familiares. Ela torna-se apática, desanimada, perdendo o interesse por sua vida profissional e familiar.',\n",
       " 'Nas primeiras experiências com opiáceos e opioides existem relatos de experiências que podem ser consideradas disfóricas e que se caracterizam, majoritariamente, por vômitos e mal estar, incapacidade de sentir prazer ou dor, o que faz com que algumas pessoas não voltem a usar opiáceos novamente. Contudo essas possíveis más experiências dão lugar a experiências de euforia intensa à medida que o corpo e mente se habituam aos opiáceos.',\n",
       " 'Tendência para aumentar a quantidade de heroína autoadministrada, com o fim de conseguir os mesmos efeitos que antes eram conseguidos com doses menores, o que conduz a uma manifesta dependência. Passadas várias horas da última dose, o viciado necessita de uma nova dose para evitar a síndrome de abstinência provocada pela falta dela. Desenvolve tolerância em relação aos efeitos de euforia, de depressão respiratória, analgesia, sedação, vômitos e alterações hormonais. Não há desenvolvimento para a miose nem para a obstipação. Estes efeitos, junto com a diminuição da libido, a insônia e a transpiração, são os sintomas dos consumidores crônicos. Há alguma imunossupressão com maior risco de infecções, principalmente aquelas introduzidas pelas agulhas partilhadas (SIDA/AIDS, Hepatite B) ou por bactérias através da pele quebrada pela agulha. A síndrome de privação pode levar à cegueira, dores, epilepsia, enfarte do miocárdio ou AVC potencialmente fatais. A longo prazo leva sempre a lesões cerebrais extensas, claramente visíveis macroscópica e microscopicamente em autópsia.',\n",
       " 'Bastam apenas 3 dias de consumo continuado desta substância para que, na sua ausência, se comecem a sentir os efeitos da ressaca, que quer dizer que o organismo em 3 dias apenas se habitua de tal forma à presença desta substância que quando se deixa de a administrar o organismo entra num estado de desequilíbrio tal, que o indivíduo vê-se obrigado a procurar de forma frenética satisfazer os pedidos do seu organismo, aumentando sempre a dose consumida. A ressaca traduz-se em primeiro lugar por corrimento lacrimal e nasal, seguida de má disposição a nível estomacal e intestinal, suores frios e afrontamentos, dores de rins lancinantes, e na fase final de ausência de consumo, espasmos musculares e câimbras generalizadas.',\n",
       " 'Existe tolerância cruzada entre todos os agonistas opioides, fato que se aproveita para os tratamentos de desintoxicação e desabituação.',\n",
       " 'Muitas opções existem para o tratamento do vício em heroína, que incluem administração medicamentosa e abordagem terapêutica.',\n",
       " 'Os tratamentos com fármacos agonistas baseiam-se na substituição da heroína por opioides de ação prolongada como a metadona, o LAA (levo-alfa-acetilmetadol) ou a buprenorfina e a diminuição da dosagem moderadamente e ao longo do tempo.',\n",
       " 'A metadona é um fármaco agonista opioide que, em comparação à heroína é bem absorvida oralmente e de forma lenta e tem uma duração de ação muito superior evitando os ciclos rápidos de intoxicação/quadro de abstinência associados à dependência de heroína. Esta substância funciona assim como um substituto com menos efeitos nefastos que a heroína embora provoque maior dependência que esta. Dado ser um opioide de ação prolongada produz sintomas que são menos severos do que os da heroína mas que são mais prolongados no tempo (e que levam muitas vezes a recaídas, não pela intensidade da dor, mas pela sua duração).',\n",
       " 'O tratamento por metadona objectiva:',\n",
       " 'No entanto, há um objectivo que estes tratamentos por substituição não conseguem atingir: o do efeito psicológico da rebeldia, do risco, da adrenalina associada ao consumo ilícito de drogas.',\n",
       " 'Estudos recentes parecem por em causa a eficácia deste tipo de tratamentos e parecem por em evidência que a metadona tem maiores riscos de morte (correspondentes a uma taxa de mortalidade mais elevada) do que a heroína e vieram trazer dúvidas à utilização deste opiáceo de substituição.',\n",
       " 'Outro tratamento por substituição que tem sido utilizado envolve buprenorfina que é um agonista parcial opioide. Esta sua natureza faz com que os sintomas do quadro de abstinência sejam menores do que os dos verdadeiros agonistas como a metadona e provoca também uma menor dependência física. Como resultado, a sua utilização é mais segura e traz menos riscos de abuso do que a metadona sendo, no entanto, eficaz no bloqueio da euforia e da síndrome de abstinência produzidos por outros opioides.',\n",
       " 'O tratamento com agonistas α2-adrenérgicos, tais como a clonidina, a lofexidina ou a guanfacina, tem como objetivo a inibição da atividade noradrenérgica ao nível da região cerebral conhecida como locus ceruleus que aumenta de forma marcada quando ocorre um quadro de privação de opiáceos.',\n",
       " 'Esses fármacos diminuem, embora interagindo com outros receptores, a síndrome de abstinência. A lofexidina produz uma hipotensão menor que a clonidina quando utilizada.',\n",
       " 'Antagonismos opioides, como a naloxona e a naltrexona (de ação mais prolongada), são moléculas que bloqueiam os efeitos da heroína e de qualquer outro opioide, impedindo a sua conexão a receptores opioides, dado que têm alta afinidade para estes receptores, mas a conexão ligando-receptor não causa a ativação destes. São, por isso, muito utilizados em tratamento de overdose de heroína, em conjugação com outras terapias, pois reduzem a duração do quadro de privação. Mas, apesar de diminuírem a duração do quadro de privação, os antagonistas opioides parecem também aumentar a intensidade destes mesmos sintomas.',\n",
       " 'Desaconselha-se o uso destes antagonistas, que têm fortes efeitos secundários, podendo levar o paciente à morte. Estão documentados dezenas de casos de mortes provocadas direta e indiretamente por estes antagonistas. Portanto, é preferível o uso da metadona, como recurso terapêutico.',\n",
       " 'A utilização de benzodiazepinas, fármacos ansiolíticos, que se destinam a controlar a ansiedade, serve de forma geral para sustentar outras formas de tratamento.',\n",
       " 'A sua utilização deve-se ao fato da ansiedade ser provavelmente a componente clinicamente mais importante do quadro de privação de opiáceos, o pior tolerado e o fato mais frequentemente envolvido em recaídas. Embora acompanhe a privação de opiáceos, deriva de mecanismos diversos de natureza psíquica, advindo assim a necessidade de associação de benzodiazepinas a outras terapias.',\n",
       " 'No entanto, a sua utilização deve ser cuidadosa dado serem também causadoras de dependência e, muitas vezes, indivíduos dependentes de heroína estão também dependentes de benzodiazepinas.',\n",
       " 'Normalmente os toxicodependentes tomam este tipo de substâncias para aumentar os efeitos da própria heroína, por isso, por vezes, poderá não ser o tratamento mais indicado. Para os toxicodependentes que demonstrem verdadeira vontade de suspender os consumos de heroína existe um medicamento chamado \"Subo xone\" que substitui com grande eficácia a heroína e tem efeitos terapêuticos semelhantes às benzodiazepinas tal como o \"Se renal\".',\n",
       " 'Estes tratamentos baseiam-se na desintoxicação de doentes dependentes de heroína usando antagonistas opioides enquanto os doentes se encontram sob o efeito de sedativos ou anestesia geral sendo um método rápido e, portanto, designado de desintoxicação ultrarrápida de opioides (URDO).',\n",
       " 'Tem várias potenciais vantagens que passam pela:',\n",
       " 'Este método tem, no entanto, fortes contraindicações, pois traz graves efeitos secundários, como uma ocorrência pronunciada de vômitos intensos.',\n",
       " 'A heroína chegou ao Brasil por volta da década de 80. Como é relatado no livro \"Só Por Hoje e Para Sempre - Diário do Recomeço\", biografia póstuma do cantor Renato Russo, em que ele conta que experimentou a droga em uma passagem pelo Rio de Janeiro, quando lhe foi oferecida por um amigo da Zona Sul. Outro relato memorável é do ex-traficante João Guilherme Estrella dono da história que inspirou o filme \"Meu Nome Não É Johnny\", ele contou em entrevista, \"Já vi sim pessoas usando aqui (no Brasil), mas eu sabia que se entrasse nessa não teria oportunidade de sair. Isso se deve parte ao Christiane F, todo adolescente dos anos 80 e 90 tinha visto o filme, e todo mundo dizia \\'Não, não, heroína não\\'.\"',\n",
       " 'A heroína começou a ter força considerável no Brasil no começo dos anos 2000. O primeiro lugar em que a droga foi disseminada foi a cidade de São Paulo, dessa vez para estudantes de classe alta. Em fevereiro de 2003, foi feita a primeira apreensão da droga, perto de um colégio de alto padrão da Capital Paulista. Três adolescentes foram apreendidos. A reportagem foi capa do Jornal \"Folha de S.Paulo\".[25]',\n",
       " 'A droga começou a ser vendida em bairros de Classe A, como o Itaim Bibi entre 2005 e 2006, no mesmo ano o plano dos traficantes era espalhar a droga para cidades do interior como Campinas e Sorocaba. Isso foi revelado em uma escuta mostrada pela TV Gazeta.',\n",
       " 'Em 2008 foram feitas pequenas apreensões de heroína em Belo Horizonte, Rio de Janeiro, São Paulo e Porto Alegre que somados ultrapassaram a marca de 40 gramas.',\n",
       " 'Em 2015 uma reportagem do Jornal Nacional mostrou que a droga estava sendo vendida na região da Cracolândia por valores que iam de R$ 30,00 a R$ 100,00 a dose.[26]',\n",
       " 'Segundo o delegado Getúlio Bezerra \"A heroína vai invadir o mercado\". Em 2000, nenhum grama da droga foi apreendido no Brasil, segundo a PF. No ano passado, contudo, foram 27 quilos. E apenas nos primeiros três meses a polícia recolheu 11 quilos. \"Estamos falando da próxima epidemia de drogas nesse País, se não tomarmos cuidado, a heroína vai ser o novo Crack\".[27]',\n",
       " 'Em outubro de 2016, houve uma nova apreensão da droga em São Paulo. Em reportagem de \"O Estado de São Paulo\", um dos contratados do jornal conseguiu comprar uma dose de heroína por R$ 50,00 na madrugada paulista.[28]',\n",
       " 'Calcula-se que 0,5% dos adolescentes consomem esta droga no Brasil, em números isso se aproxima de 10 mil jovens, mas esta percentagem varia para região[carece de fontes]. Ultimamente, após muitos anos de predomínio da cocaína, o consumo de heroína tornou-se \"moda\"[carece de fontes], muitas vezes em associação com a própria cocaína, uma associação particularmente danosa.',\n",
       " 'No interior do Brasil também já houve pequenas apreensões de heroína. Entre as cidades citadas na lista da Polícia Civil estão Campinas (15 gramas, no ano de 2007), Londrina (10 gramas, no ano de 2011), Osasco (8 gramas, no ano de 2005), Juiz de Fora (6,5 gramas, no ano de 2013) e Angra dos Reis (3,5 gramas, no ano de 2011).',\n",
       " 'Na maioria dos países do mundo é ilegal produzir, armazenar ou vender diacetilmorfina.[29] O Afeganistão é responsável por 86% (2004) do ópio usado na produção de heroína. Outros grandes produtores são o Paquistão e a região do Triângulo Dourado (Birmânia, Tailândia, Vietname, Laos e a província de Yunnan, na China). Ultimamente os traficantes latino-americanos de cocaína têm investido no cultivo do ópio, e começa a haver produções significativas na Colômbia e no México, que já detêm a maior parte do mercado dos EUA. A colheita de 2003 terá rendido aos seus cultivadores cerca de 2,8 bilhões de dólares americanos. É desconhecido, no entanto, o valor global dos rendimentos gerados nos vários níveis da cadeia produtiva da heroína, onde se incluem transporte, transformação laboratorial em heroína e distribuição. Também é desconhecido o total dos gastos dos países no tratamento dos toxicodependentes, bem como em ações de repressão ao tráfico da droga.']"
      ]
     },
     "execution_count": 28,
     "metadata": {},
     "output_type": "execute_result"
    }
   ],
   "source": [
    "heroina"
   ]
  },
  {
   "cell_type": "code",
   "execution_count": null,
   "id": "82308717",
   "metadata": {},
   "outputs": [],
   "source": []
  }
 ],
 "metadata": {
  "kernelspec": {
   "display_name": "machine_learning",
   "language": "python",
   "name": "machine_learning"
  },
  "language_info": {
   "codemirror_mode": {
    "name": "ipython",
    "version": 3
   },
   "file_extension": ".py",
   "mimetype": "text/x-python",
   "name": "python",
   "nbconvert_exporter": "python",
   "pygments_lexer": "ipython3",
   "version": "3.9.7"
  }
 },
 "nbformat": 4,
 "nbformat_minor": 5
}
