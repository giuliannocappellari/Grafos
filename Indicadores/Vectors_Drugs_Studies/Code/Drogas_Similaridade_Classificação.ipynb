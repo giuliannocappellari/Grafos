{
 "cells": [
  {
   "cell_type": "code",
   "execution_count": 55,
   "source": [
    "import pandas as pd\r\n",
    "import spacy\r\n",
    "from time import time\r\n",
    "from gensim.models import Word2Vec\r\n",
    "import logging\r\n",
    "import numpy as np\r\n",
    "from gensim.models import KeyedVectors\r\n",
    "from sklearn.linear_model import LogisticRegression\r\n",
    "from sklearn.metrics import classification_report\r\n",
    "from sklearn.feature_extraction.text import TfidfVectorizer\r\n",
    "from sklearn.model_selection import train_test_split\r\n",
    "from nltk import ngrams"
   ],
   "outputs": [],
   "metadata": {}
  },
  {
   "cell_type": "markdown",
   "source": [
    "# Arrumando nosso DataSet de drogas"
   ],
   "metadata": {}
  },
  {
   "cell_type": "code",
   "execution_count": 56,
   "source": [
    "#Pegando o dataset de drogas\r\n",
    "dados_treino = pd.read_csv(\"../Data/resultado_drogas.csv\", encoding=\"latin-1\", sep=\";\", dtype=\"unicode\")\r\n",
    "dados_treino.tail()"
   ],
   "outputs": [
    {
     "output_type": "execute_result",
     "data": {
      "text/html": [
       "<div>\n",
       "<style scoped>\n",
       "    .dataframe tbody tr th:only-of-type {\n",
       "        vertical-align: middle;\n",
       "    }\n",
       "\n",
       "    .dataframe tbody tr th {\n",
       "        vertical-align: top;\n",
       "    }\n",
       "\n",
       "    .dataframe thead th {\n",
       "        text-align: right;\n",
       "    }\n",
       "</style>\n",
       "<table border=\"1\" class=\"dataframe\">\n",
       "  <thead>\n",
       "    <tr style=\"text-align: right;\">\n",
       "      <th></th>\n",
       "      <th>CHAVE_OBJETO</th>\n",
       "      <th>ANO_OCOR</th>\n",
       "      <th>NRO_OCOR</th>\n",
       "      <th>NRO_INT_TIPO_OBJETO</th>\n",
       "      <th>TXT_TIPO_OBJETO</th>\n",
       "      <th>Cor Predominante</th>\n",
       "      <th>Descrição</th>\n",
       "      <th>Peso Total</th>\n",
       "      <th>Peso Unitário</th>\n",
       "      <th>Quantidade de Unidade(s)</th>\n",
       "      <th>Tipo de Embalagem</th>\n",
       "      <th>Unidade de Peso</th>\n",
       "      <th>DESC_PADRAO</th>\n",
       "      <th>RECLASSIFICAÇÃO</th>\n",
       "    </tr>\n",
       "  </thead>\n",
       "  <tbody>\n",
       "    <tr>\n",
       "      <th>113226</th>\n",
       "      <td>24126969</td>\n",
       "      <td>2021</td>\n",
       "      <td>2148</td>\n",
       "      <td>5</td>\n",
       "      <td>Maconha</td>\n",
       "      <td>Verde</td>\n",
       "      <td>NaN</td>\n",
       "      <td>415,00</td>\n",
       "      <td>NaN</td>\n",
       "      <td>1</td>\n",
       "      <td>Porção(es)</td>\n",
       "      <td>Grama</td>\n",
       "      <td>NaN</td>\n",
       "      <td>Maconha</td>\n",
       "    </tr>\n",
       "    <tr>\n",
       "      <th>113227</th>\n",
       "      <td>24126972</td>\n",
       "      <td>2021</td>\n",
       "      <td>2148</td>\n",
       "      <td>5</td>\n",
       "      <td>Maconha</td>\n",
       "      <td>Verde</td>\n",
       "      <td>NaN</td>\n",
       "      <td>5,00</td>\n",
       "      <td>NaN</td>\n",
       "      <td>1</td>\n",
       "      <td>Porção(es)</td>\n",
       "      <td>Grama</td>\n",
       "      <td>NaN</td>\n",
       "      <td>Maconha</td>\n",
       "    </tr>\n",
       "    <tr>\n",
       "      <th>113228</th>\n",
       "      <td>24126984</td>\n",
       "      <td>2021</td>\n",
       "      <td>8335</td>\n",
       "      <td>756</td>\n",
       "      <td>Cocaína</td>\n",
       "      <td>Branco</td>\n",
       "      <td>aproximadamente 23 gramas de pinos de cocaína</td>\n",
       "      <td>NaN</td>\n",
       "      <td>NaN</td>\n",
       "      <td>36</td>\n",
       "      <td>Unidade(s)</td>\n",
       "      <td>Grama</td>\n",
       "      <td>aproximadamente 23 gramas de pinos de cocaina</td>\n",
       "      <td>Cocaína</td>\n",
       "    </tr>\n",
       "    <tr>\n",
       "      <th>113229</th>\n",
       "      <td>24127010</td>\n",
       "      <td>2021</td>\n",
       "      <td>14951</td>\n",
       "      <td>5</td>\n",
       "      <td>Maconha</td>\n",
       "      <td>Verde</td>\n",
       "      <td>Um tijolo de erva verde semelhante a maconha p...</td>\n",
       "      <td>642,00</td>\n",
       "      <td>NaN</td>\n",
       "      <td>1</td>\n",
       "      <td>Tijolo(s)</td>\n",
       "      <td>Grama</td>\n",
       "      <td>um tijolo de erva verde semelhante a maconha p...</td>\n",
       "      <td>Maconha</td>\n",
       "    </tr>\n",
       "    <tr>\n",
       "      <th>113230</th>\n",
       "      <td>24127011</td>\n",
       "      <td>2021</td>\n",
       "      <td>14951</td>\n",
       "      <td>5</td>\n",
       "      <td>Maconha</td>\n",
       "      <td>Verde</td>\n",
       "      <td>Um tijolo de erva verde semelhante a maconha p...</td>\n",
       "      <td>1058,00</td>\n",
       "      <td>NaN</td>\n",
       "      <td>1</td>\n",
       "      <td>Tijolo(s)</td>\n",
       "      <td>Grama</td>\n",
       "      <td>um tijolo de erva verde semelhante a maconha p...</td>\n",
       "      <td>Maconha</td>\n",
       "    </tr>\n",
       "  </tbody>\n",
       "</table>\n",
       "</div>"
      ],
      "text/plain": [
       "       CHAVE_OBJETO ANO_OCOR NRO_OCOR NRO_INT_TIPO_OBJETO TXT_TIPO_OBJETO  \\\n",
       "113226     24126969     2021     2148                   5         Maconha   \n",
       "113227     24126972     2021     2148                   5         Maconha   \n",
       "113228     24126984     2021     8335                 756         Cocaína   \n",
       "113229     24127010     2021    14951                   5         Maconha   \n",
       "113230     24127011     2021    14951                   5         Maconha   \n",
       "\n",
       "       Cor Predominante                                          Descrição  \\\n",
       "113226            Verde                                                NaN   \n",
       "113227            Verde                                                NaN   \n",
       "113228           Branco      aproximadamente 23 gramas de pinos de cocaína   \n",
       "113229            Verde  Um tijolo de erva verde semelhante a maconha p...   \n",
       "113230            Verde  Um tijolo de erva verde semelhante a maconha p...   \n",
       "\n",
       "       Peso Total Peso Unitário Quantidade de Unidade(s) Tipo de Embalagem  \\\n",
       "113226     415,00           NaN                        1        Porção(es)   \n",
       "113227       5,00           NaN                        1        Porção(es)   \n",
       "113228        NaN           NaN                       36        Unidade(s)   \n",
       "113229     642,00           NaN                        1         Tijolo(s)   \n",
       "113230    1058,00           NaN                        1         Tijolo(s)   \n",
       "\n",
       "       Unidade de Peso                                        DESC_PADRAO  \\\n",
       "113226           Grama                                                NaN   \n",
       "113227           Grama                                                NaN   \n",
       "113228           Grama      aproximadamente 23 gramas de pinos de cocaina   \n",
       "113229           Grama  um tijolo de erva verde semelhante a maconha p...   \n",
       "113230           Grama  um tijolo de erva verde semelhante a maconha p...   \n",
       "\n",
       "       RECLASSIFICAÇÃO  \n",
       "113226         Maconha  \n",
       "113227         Maconha  \n",
       "113228         Cocaína  \n",
       "113229         Maconha  \n",
       "113230         Maconha  "
      ]
     },
     "metadata": {},
     "execution_count": 56
    }
   ],
   "metadata": {}
  },
  {
   "cell_type": "code",
   "execution_count": 57,
   "source": [
    "# Criando objeto spacy \r\n",
    "nlp = spacy.load(\"pt_core_news_lg\")"
   ],
   "outputs": [],
   "metadata": {}
  },
  {
   "cell_type": "code",
   "execution_count": 58,
   "source": [
    "# Função transforma o texto recebido em um objeto nlp para que possamos usar os pipes da spacy para \r\n",
    "# trata-lo, tirando as palavras classificadas como Stop Words.\r\n",
    "# As demais palavras são guardadas na lista 'token_validos'\r\n",
    "def trata_textos(doc):\r\n",
    "    tokens_validos = []\r\n",
    "    for token in doc:\r\n",
    "        valido = not token.is_stop and token.is_alpha\r\n",
    "        if valido:\r\n",
    "            tokens_validos.append(token.text)\r\n",
    "            \r\n",
    "    if len(tokens_validos) > 2:\r\n",
    "        return \" \".join(tokens_validos) # Cada token é retornado com um espaço entre eles"
   ],
   "outputs": [],
   "metadata": {}
  },
  {
   "cell_type": "code",
   "execution_count": 59,
   "source": [
    "textos_para_tratamento = (str(descricoes).lower() for descricoes in dados_treino[\"Descrição\"]) # Generator Expression\r\n",
    "textos_para_tratamento"
   ],
   "outputs": [
    {
     "output_type": "execute_result",
     "data": {
      "text/plain": [
       "<generator object <genexpr> at 0x000001F187FF5CF0>"
      ]
     },
     "metadata": {},
     "execution_count": 59
    }
   ],
   "metadata": {}
  },
  {
   "cell_type": "code",
   "execution_count": 60,
   "source": [
    "# 'texto_tratados' recebe o retorno da função trata_textos que por sua vez recebe um objeto nlp \r\n",
    "# que vem da comprehension list 'textos_para_tratamento'\r\n",
    "# Também estamos verificando o tempo que leva para executar a função 'time'\r\n",
    "tempo_inicial = time()\r\n",
    "textos_tratados = [trata_textos(doc) for doc in nlp.pipe(textos_para_tratamento,\r\n",
    "                                                         batch_size = 120000,\r\n",
    "                                                         n_process = -1)]\r\n",
    "\r\n",
    "tempo_final = time() - tempo_inicial\r\n",
    "\r\n",
    "print(tempo_final/60)"
   ],
   "outputs": [
    {
     "output_type": "stream",
     "name": "stdout",
     "text": [
      "9.441034909089407\n"
     ]
    }
   ],
   "metadata": {}
  },
  {
   "cell_type": "code",
   "execution_count": 61,
   "source": [
    "descricoes_tratadas = pd.DataFrame({\"descricao\": textos_tratados,\r\n",
    "                                    \"classificacao\":dados_treino.RECLASSIFICAÇÃO})\r\n",
    "descricoes_tratadas.tail()"
   ],
   "outputs": [
    {
     "output_type": "execute_result",
     "data": {
      "text/html": [
       "<div>\n",
       "<style scoped>\n",
       "    .dataframe tbody tr th:only-of-type {\n",
       "        vertical-align: middle;\n",
       "    }\n",
       "\n",
       "    .dataframe tbody tr th {\n",
       "        vertical-align: top;\n",
       "    }\n",
       "\n",
       "    .dataframe thead th {\n",
       "        text-align: right;\n",
       "    }\n",
       "</style>\n",
       "<table border=\"1\" class=\"dataframe\">\n",
       "  <thead>\n",
       "    <tr style=\"text-align: right;\">\n",
       "      <th></th>\n",
       "      <th>descricao</th>\n",
       "      <th>classificacao</th>\n",
       "    </tr>\n",
       "  </thead>\n",
       "  <tbody>\n",
       "    <tr>\n",
       "      <th>113226</th>\n",
       "      <td>None</td>\n",
       "      <td>Maconha</td>\n",
       "    </tr>\n",
       "    <tr>\n",
       "      <th>113227</th>\n",
       "      <td>None</td>\n",
       "      <td>Maconha</td>\n",
       "    </tr>\n",
       "    <tr>\n",
       "      <th>113228</th>\n",
       "      <td>aproximadamente gramas pinos cocaína</td>\n",
       "      <td>Cocaína</td>\n",
       "    </tr>\n",
       "    <tr>\n",
       "      <th>113229</th>\n",
       "      <td>tijolo erva verde semelhante maconha pesanto a...</td>\n",
       "      <td>Maconha</td>\n",
       "    </tr>\n",
       "    <tr>\n",
       "      <th>113230</th>\n",
       "      <td>tijolo erva verde semelhante maconha pesando a...</td>\n",
       "      <td>Maconha</td>\n",
       "    </tr>\n",
       "  </tbody>\n",
       "</table>\n",
       "</div>"
      ],
      "text/plain": [
       "                                                descricao classificacao\n",
       "113226                                               None       Maconha\n",
       "113227                                               None       Maconha\n",
       "113228               aproximadamente gramas pinos cocaína       Cocaína\n",
       "113229  tijolo erva verde semelhante maconha pesanto a...       Maconha\n",
       "113230  tijolo erva verde semelhante maconha pesando a...       Maconha"
      ]
     },
     "metadata": {},
     "execution_count": 61
    }
   ],
   "metadata": {}
  },
  {
   "cell_type": "code",
   "execution_count": 62,
   "source": [
    "#Retirando do DataFrame as linhas nulas e as duplicadas\r\n",
    "# Tamanho antes\r\n",
    "print(len(descricoes_tratadas))\r\n",
    "\r\n",
    "descricoes_tratadas = descricoes_tratadas.dropna().drop_duplicates()\r\n",
    "# Tamanho depois\r\n",
    "print(len(descricoes_tratadas))"
   ],
   "outputs": [
    {
     "output_type": "stream",
     "name": "stdout",
     "text": [
      "113231\n",
      "51697\n"
     ]
    }
   ],
   "metadata": {}
  },
  {
   "cell_type": "code",
   "execution_count": 63,
   "source": [
    "descricoes_tratadas.to_csv(\"../Data/df_procergs.csv\", encoding=\"latin-1\", sep=\";\",index=False)\r\n"
   ],
   "outputs": [],
   "metadata": {}
  },
  {
   "cell_type": "markdown",
   "source": [
    "# Construindo o vocabulário"
   ],
   "metadata": {}
  },
  {
   "cell_type": "code",
   "execution_count": 64,
   "source": [
    "# Para construir o nosso vocabulário, precisamos de uma lista de lista de tokens para\r\n",
    "# usar no Word2Vec\r\n",
    "lista_lista_tokens = [desc.split(' ') for desc in descricoes_tratadas.descricao]"
   ],
   "outputs": [],
   "metadata": {}
  },
  {
   "cell_type": "code",
   "execution_count": 65,
   "source": [
    "#sg = 0 --> Modelo cbow (Recebe contexto, prevê palavra)\r\n",
    "#sg = 1 --> Modelo SkipGram (Recebe palavra, prevê contexto)\r\n",
    "#window = quantas palavras ele leva em consideração antes e quantas depois\r\n",
    "#vector_size = dimenões do vetor\r\n",
    "#min_count = mínimo de vezes que uma palavra deve aparecer para ser considerada\r\n",
    "#alpha = valor que determina qual a taxa de aprendendizado e a de redução da função de custo\r\n",
    "#min_alpha = valor mínimo da distancia que a função de custo deve decair\r\n",
    "\r\n",
    "# Logging mostra o progresso na tela\r\n",
    "logging.basicConfig(format=\"%(asctime)s : - %(message)s\", level = logging.INFO)\r\n",
    "\r\n",
    "w2v_modelo = Word2Vec(sg = 0,\r\n",
    "                      window = 5,\r\n",
    "                      vector_size = 300,\r\n",
    "                      min_count = 0,\r\n",
    "                      alpha = 0.03,\r\n",
    "                      min_alpha = 0.007)\r\n",
    "\r\n",
    "w2v_modelo.build_vocab(lista_lista_tokens, progress_per = 5000)"
   ],
   "outputs": [
    {
     "output_type": "stream",
     "name": "stderr",
     "text": [
      "2021-10-04 16:18:10,862 : - Word2Vec lifecycle event {'params': 'Word2Vec(vocab=0, vector_size=300, alpha=0.03)', 'datetime': '2021-10-04T16:18:10.859892', 'gensim': '4.1.2', 'python': '3.9.7 | packaged by conda-forge | (default, Sep  2 2021, 17:55:20) [MSC v.1916 64 bit (AMD64)]', 'platform': 'Windows-10-10.0.19042-SP0', 'event': 'created'}\n",
      "2021-10-04 16:18:10,901 : - collecting all words and their counts\n",
      "2021-10-04 16:18:10,903 : - PROGRESS: at sentence #0, processed 0 words, keeping 0 word types\n",
      "2021-10-04 16:18:10,917 : - PROGRESS: at sentence #5000, processed 29277 words, keeping 1822 word types\n",
      "2021-10-04 16:18:10,933 : - PROGRESS: at sentence #10000, processed 60106 words, keeping 2813 word types\n",
      "2021-10-04 16:18:10,946 : - PROGRESS: at sentence #15000, processed 92131 words, keeping 3740 word types\n",
      "2021-10-04 16:18:10,961 : - PROGRESS: at sentence #20000, processed 125251 words, keeping 4473 word types\n",
      "2021-10-04 16:18:10,975 : - PROGRESS: at sentence #25000, processed 155383 words, keeping 5153 word types\n",
      "2021-10-04 16:18:10,983 : - PROGRESS: at sentence #30000, processed 187627 words, keeping 5778 word types\n",
      "2021-10-04 16:18:10,992 : - PROGRESS: at sentence #35000, processed 221871 words, keeping 6326 word types\n",
      "2021-10-04 16:18:11,000 : - PROGRESS: at sentence #40000, processed 255340 words, keeping 6892 word types\n",
      "2021-10-04 16:18:11,010 : - PROGRESS: at sentence #45000, processed 288245 words, keeping 7382 word types\n",
      "2021-10-04 16:18:11,019 : - PROGRESS: at sentence #50000, processed 321233 words, keeping 7844 word types\n",
      "2021-10-04 16:18:11,028 : - collected 8018 word types from a corpus of 332305 raw words and 51697 sentences\n",
      "2021-10-04 16:18:11,036 : - Creating a fresh vocabulary\n",
      "2021-10-04 16:18:11,073 : - Word2Vec lifecycle event {'msg': 'effective_min_count=0 retains 8018 unique words (100.0%% of original 8018, drops 0)', 'datetime': '2021-10-04T16:18:11.073949', 'gensim': '4.1.2', 'python': '3.9.7 | packaged by conda-forge | (default, Sep  2 2021, 17:55:20) [MSC v.1916 64 bit (AMD64)]', 'platform': 'Windows-10-10.0.19042-SP0', 'event': 'prepare_vocab'}\n",
      "2021-10-04 16:18:11,074 : - Word2Vec lifecycle event {'msg': 'effective_min_count=0 leaves 332305 word corpus (100.0%% of original 332305, drops 0)', 'datetime': '2021-10-04T16:18:11.074946', 'gensim': '4.1.2', 'python': '3.9.7 | packaged by conda-forge | (default, Sep  2 2021, 17:55:20) [MSC v.1916 64 bit (AMD64)]', 'platform': 'Windows-10-10.0.19042-SP0', 'event': 'prepare_vocab'}\n",
      "2021-10-04 16:18:11,137 : - deleting the raw counts dictionary of 8018 items\n",
      "2021-10-04 16:18:11,139 : - sample=0.001 downsamples 55 most-common words\n",
      "2021-10-04 16:18:11,140 : - Word2Vec lifecycle event {'msg': 'downsampling leaves estimated 169119.31130469026 word corpus (50.9%% of prior 332305)', 'datetime': '2021-10-04T16:18:11.140940', 'gensim': '4.1.2', 'python': '3.9.7 | packaged by conda-forge | (default, Sep  2 2021, 17:55:20) [MSC v.1916 64 bit (AMD64)]', 'platform': 'Windows-10-10.0.19042-SP0', 'event': 'prepare_vocab'}\n",
      "2021-10-04 16:18:11,237 : - estimated required memory for 8018 words and 300 dimensions: 23252200 bytes\n",
      "2021-10-04 16:18:11,237 : - resetting layer weights\n",
      "2021-10-04 16:18:11,260 : - Word2Vec lifecycle event {'update': False, 'trim_rule': 'None', 'datetime': '2021-10-04T16:18:11.260817', 'gensim': '4.1.2', 'python': '3.9.7 | packaged by conda-forge | (default, Sep  2 2021, 17:55:20) [MSC v.1916 64 bit (AMD64)]', 'platform': 'Windows-10-10.0.19042-SP0', 'event': 'build_vocab'}\n"
     ]
    }
   ],
   "metadata": {}
  },
  {
   "cell_type": "code",
   "execution_count": 66,
   "source": [
    "# Contando o número de linhas do corpus criado no vocabulário\r\n",
    "w2v_modelo.corpus_count"
   ],
   "outputs": [
    {
     "output_type": "execute_result",
     "data": {
      "text/plain": [
       "51697"
      ]
     },
     "metadata": {},
     "execution_count": 66
    }
   ],
   "metadata": {}
  },
  {
   "cell_type": "markdown",
   "source": [
    "# Treinamento do modelo Word2Vec"
   ],
   "metadata": {}
  },
  {
   "cell_type": "code",
   "execution_count": 67,
   "source": [
    "# 1o parâmetro: sentenças que queremos passar\r\n",
    "# 2o parâmetro: total de amostras\r\n",
    "# 3o parâmetro: épocas do nosso treinamento\r\n",
    "# OBS: A cada época, o modelo calcula o loss (curva de aprendizado) e atualiza\r\n",
    "# o modelo n vezes (neste caso, 30)\r\n",
    "\r\n",
    "w2v_modelo.train(lista_lista_tokens, \r\n",
    "                 total_examples=w2v_modelo.corpus_count,\r\n",
    "                 epochs=30)"
   ],
   "outputs": [
    {
     "output_type": "stream",
     "name": "stderr",
     "text": [
      "2021-10-04 16:18:11,341 : - Word2Vec lifecycle event {'msg': 'training model with 3 workers on 8018 vocabulary and 300 features, using sg=0 hs=0 sample=0.001 negative=5 window=5 shrink_windows=True', 'datetime': '2021-10-04T16:18:11.341261', 'gensim': '4.1.2', 'python': '3.9.7 | packaged by conda-forge | (default, Sep  2 2021, 17:55:20) [MSC v.1916 64 bit (AMD64)]', 'platform': 'Windows-10-10.0.19042-SP0', 'event': 'train'}\n",
      "2021-10-04 16:18:11,891 : - worker thread finished; awaiting finish of 2 more threads\n",
      "2021-10-04 16:18:11,892 : - worker thread finished; awaiting finish of 1 more threads\n",
      "2021-10-04 16:18:11,896 : - worker thread finished; awaiting finish of 0 more threads\n",
      "2021-10-04 16:18:11,897 : - EPOCH - 1 : training on 332305 raw words (169125 effective words) took 0.5s, 356808 effective words/s\n",
      "2021-10-04 16:18:12,377 : - worker thread finished; awaiting finish of 2 more threads\n",
      "2021-10-04 16:18:12,380 : - worker thread finished; awaiting finish of 1 more threads\n",
      "2021-10-04 16:18:12,383 : - worker thread finished; awaiting finish of 0 more threads\n",
      "2021-10-04 16:18:12,384 : - EPOCH - 2 : training on 332305 raw words (169159 effective words) took 0.5s, 359560 effective words/s\n",
      "2021-10-04 16:18:12,864 : - worker thread finished; awaiting finish of 2 more threads\n",
      "2021-10-04 16:18:12,866 : - worker thread finished; awaiting finish of 1 more threads\n",
      "2021-10-04 16:18:12,880 : - worker thread finished; awaiting finish of 0 more threads\n",
      "2021-10-04 16:18:12,880 : - EPOCH - 3 : training on 332305 raw words (169003 effective words) took 0.5s, 350252 effective words/s\n",
      "2021-10-04 16:18:13,349 : - worker thread finished; awaiting finish of 2 more threads\n",
      "2021-10-04 16:18:13,359 : - worker thread finished; awaiting finish of 1 more threads\n",
      "2021-10-04 16:18:13,367 : - worker thread finished; awaiting finish of 0 more threads\n",
      "2021-10-04 16:18:13,368 : - EPOCH - 4 : training on 332305 raw words (169025 effective words) took 0.5s, 356776 effective words/s\n",
      "2021-10-04 16:18:13,893 : - worker thread finished; awaiting finish of 2 more threads\n",
      "2021-10-04 16:18:13,894 : - worker thread finished; awaiting finish of 1 more threads\n",
      "2021-10-04 16:18:13,911 : - worker thread finished; awaiting finish of 0 more threads\n",
      "2021-10-04 16:18:13,911 : - EPOCH - 5 : training on 332305 raw words (169196 effective words) took 0.5s, 334107 effective words/s\n",
      "2021-10-04 16:18:14,402 : - worker thread finished; awaiting finish of 2 more threads\n",
      "2021-10-04 16:18:14,402 : - worker thread finished; awaiting finish of 1 more threads\n",
      "2021-10-04 16:18:14,410 : - worker thread finished; awaiting finish of 0 more threads\n",
      "2021-10-04 16:18:14,412 : - EPOCH - 6 : training on 332305 raw words (168981 effective words) took 0.5s, 350672 effective words/s\n",
      "2021-10-04 16:18:14,895 : - worker thread finished; awaiting finish of 2 more threads\n",
      "2021-10-04 16:18:14,895 : - worker thread finished; awaiting finish of 1 more threads\n",
      "2021-10-04 16:18:14,903 : - worker thread finished; awaiting finish of 0 more threads\n",
      "2021-10-04 16:18:14,903 : - EPOCH - 7 : training on 332305 raw words (169194 effective words) took 0.5s, 354635 effective words/s\n",
      "2021-10-04 16:18:15,355 : - worker thread finished; awaiting finish of 2 more threads\n",
      "2021-10-04 16:18:15,357 : - worker thread finished; awaiting finish of 1 more threads\n",
      "2021-10-04 16:18:15,365 : - worker thread finished; awaiting finish of 0 more threads\n",
      "2021-10-04 16:18:15,365 : - EPOCH - 8 : training on 332305 raw words (169067 effective words) took 0.5s, 370906 effective words/s\n",
      "2021-10-04 16:18:15,786 : - worker thread finished; awaiting finish of 2 more threads\n",
      "2021-10-04 16:18:15,791 : - worker thread finished; awaiting finish of 1 more threads\n",
      "2021-10-04 16:18:15,796 : - worker thread finished; awaiting finish of 0 more threads\n",
      "2021-10-04 16:18:15,796 : - EPOCH - 9 : training on 332305 raw words (168781 effective words) took 0.4s, 405818 effective words/s\n",
      "2021-10-04 16:18:16,203 : - worker thread finished; awaiting finish of 2 more threads\n",
      "2021-10-04 16:18:16,220 : - worker thread finished; awaiting finish of 1 more threads\n",
      "2021-10-04 16:18:16,225 : - worker thread finished; awaiting finish of 0 more threads\n",
      "2021-10-04 16:18:16,225 : - EPOCH - 10 : training on 332305 raw words (168848 effective words) took 0.4s, 406005 effective words/s\n",
      "2021-10-04 16:18:16,642 : - worker thread finished; awaiting finish of 2 more threads\n",
      "2021-10-04 16:18:16,643 : - worker thread finished; awaiting finish of 1 more threads\n",
      "2021-10-04 16:18:16,656 : - worker thread finished; awaiting finish of 0 more threads\n",
      "2021-10-04 16:18:16,656 : - EPOCH - 11 : training on 332305 raw words (169045 effective words) took 0.4s, 403963 effective words/s\n",
      "2021-10-04 16:18:17,068 : - worker thread finished; awaiting finish of 2 more threads\n",
      "2021-10-04 16:18:17,087 : - worker thread finished; awaiting finish of 1 more threads\n",
      "2021-10-04 16:18:17,092 : - worker thread finished; awaiting finish of 0 more threads\n",
      "2021-10-04 16:18:17,092 : - EPOCH - 12 : training on 332305 raw words (169334 effective words) took 0.4s, 403841 effective words/s\n",
      "2021-10-04 16:18:17,519 : - worker thread finished; awaiting finish of 2 more threads\n",
      "2021-10-04 16:18:17,526 : - worker thread finished; awaiting finish of 1 more threads\n",
      "2021-10-04 16:18:17,529 : - worker thread finished; awaiting finish of 0 more threads\n",
      "2021-10-04 16:18:17,530 : - EPOCH - 13 : training on 332305 raw words (169597 effective words) took 0.4s, 398442 effective words/s\n",
      "2021-10-04 16:18:17,946 : - worker thread finished; awaiting finish of 2 more threads\n",
      "2021-10-04 16:18:17,953 : - worker thread finished; awaiting finish of 1 more threads\n",
      "2021-10-04 16:18:17,964 : - worker thread finished; awaiting finish of 0 more threads\n",
      "2021-10-04 16:18:17,965 : - EPOCH - 14 : training on 332305 raw words (169408 effective words) took 0.4s, 399692 effective words/s\n",
      "2021-10-04 16:18:18,395 : - worker thread finished; awaiting finish of 2 more threads\n",
      "2021-10-04 16:18:18,399 : - worker thread finished; awaiting finish of 1 more threads\n",
      "2021-10-04 16:18:18,404 : - worker thread finished; awaiting finish of 0 more threads\n",
      "2021-10-04 16:18:18,404 : - EPOCH - 15 : training on 332305 raw words (169038 effective words) took 0.4s, 397858 effective words/s\n",
      "2021-10-04 16:18:18,823 : - worker thread finished; awaiting finish of 2 more threads\n",
      "2021-10-04 16:18:18,826 : - worker thread finished; awaiting finish of 1 more threads\n",
      "2021-10-04 16:18:18,836 : - worker thread finished; awaiting finish of 0 more threads\n",
      "2021-10-04 16:18:18,837 : - EPOCH - 16 : training on 332305 raw words (169088 effective words) took 0.4s, 400258 effective words/s\n",
      "2021-10-04 16:18:19,257 : - worker thread finished; awaiting finish of 2 more threads\n",
      "2021-10-04 16:18:19,259 : - worker thread finished; awaiting finish of 1 more threads\n",
      "2021-10-04 16:18:19,278 : - worker thread finished; awaiting finish of 0 more threads\n",
      "2021-10-04 16:18:19,279 : - EPOCH - 17 : training on 332305 raw words (169113 effective words) took 0.4s, 396001 effective words/s\n",
      "2021-10-04 16:18:19,693 : - worker thread finished; awaiting finish of 2 more threads\n",
      "2021-10-04 16:18:19,705 : - worker thread finished; awaiting finish of 1 more threads\n",
      "2021-10-04 16:18:19,705 : - worker thread finished; awaiting finish of 0 more threads\n",
      "2021-10-04 16:18:19,706 : - EPOCH - 18 : training on 332305 raw words (168695 effective words) took 0.4s, 407932 effective words/s\n",
      "2021-10-04 16:18:20,115 : - worker thread finished; awaiting finish of 2 more threads\n",
      "2021-10-04 16:18:20,132 : - worker thread finished; awaiting finish of 1 more threads\n",
      "2021-10-04 16:18:20,135 : - worker thread finished; awaiting finish of 0 more threads\n",
      "2021-10-04 16:18:20,136 : - EPOCH - 19 : training on 332305 raw words (169210 effective words) took 0.4s, 406128 effective words/s\n",
      "2021-10-04 16:18:20,541 : - worker thread finished; awaiting finish of 2 more threads\n",
      "2021-10-04 16:18:20,549 : - worker thread finished; awaiting finish of 1 more threads\n",
      "2021-10-04 16:18:20,568 : - worker thread finished; awaiting finish of 0 more threads\n",
      "2021-10-04 16:18:20,568 : - EPOCH - 20 : training on 332305 raw words (168980 effective words) took 0.4s, 404007 effective words/s\n",
      "2021-10-04 16:18:20,979 : - worker thread finished; awaiting finish of 2 more threads\n",
      "2021-10-04 16:18:20,983 : - worker thread finished; awaiting finish of 1 more threads\n",
      "2021-10-04 16:18:20,993 : - worker thread finished; awaiting finish of 0 more threads\n",
      "2021-10-04 16:18:20,994 : - EPOCH - 21 : training on 332305 raw words (169212 effective words) took 0.4s, 409881 effective words/s\n",
      "2021-10-04 16:18:21,414 : - worker thread finished; awaiting finish of 2 more threads\n",
      "2021-10-04 16:18:21,416 : - worker thread finished; awaiting finish of 1 more threads\n",
      "2021-10-04 16:18:21,421 : - worker thread finished; awaiting finish of 0 more threads\n",
      "2021-10-04 16:18:21,421 : - EPOCH - 22 : training on 332305 raw words (168777 effective words) took 0.4s, 405788 effective words/s\n",
      "2021-10-04 16:18:21,839 : - worker thread finished; awaiting finish of 2 more threads\n",
      "2021-10-04 16:18:21,840 : - worker thread finished; awaiting finish of 1 more threads\n",
      "2021-10-04 16:18:21,856 : - worker thread finished; awaiting finish of 0 more threads\n",
      "2021-10-04 16:18:21,857 : - EPOCH - 23 : training on 332305 raw words (169263 effective words) took 0.4s, 401049 effective words/s\n",
      "2021-10-04 16:18:22,279 : - worker thread finished; awaiting finish of 2 more threads\n",
      "2021-10-04 16:18:22,291 : - worker thread finished; awaiting finish of 1 more threads\n",
      "2021-10-04 16:18:22,297 : - worker thread finished; awaiting finish of 0 more threads\n",
      "2021-10-04 16:18:22,298 : - EPOCH - 24 : training on 332305 raw words (169123 effective words) took 0.4s, 392900 effective words/s\n",
      "2021-10-04 16:18:22,711 : - worker thread finished; awaiting finish of 2 more threads\n",
      "2021-10-04 16:18:22,722 : - worker thread finished; awaiting finish of 1 more threads\n",
      "2021-10-04 16:18:22,734 : - worker thread finished; awaiting finish of 0 more threads\n",
      "2021-10-04 16:18:22,734 : - EPOCH - 25 : training on 332305 raw words (169361 effective words) took 0.4s, 399942 effective words/s\n",
      "2021-10-04 16:18:23,145 : - worker thread finished; awaiting finish of 2 more threads\n",
      "2021-10-04 16:18:23,158 : - worker thread finished; awaiting finish of 1 more threads\n",
      "2021-10-04 16:18:23,161 : - worker thread finished; awaiting finish of 0 more threads\n",
      "2021-10-04 16:18:23,162 : - EPOCH - 26 : training on 332305 raw words (168597 effective words) took 0.4s, 406336 effective words/s\n",
      "2021-10-04 16:18:23,576 : - worker thread finished; awaiting finish of 2 more threads\n",
      "2021-10-04 16:18:23,582 : - worker thread finished; awaiting finish of 1 more threads\n",
      "2021-10-04 16:18:23,600 : - worker thread finished; awaiting finish of 0 more threads\n",
      "2021-10-04 16:18:23,601 : - EPOCH - 27 : training on 332305 raw words (169086 effective words) took 0.4s, 402833 effective words/s\n",
      "2021-10-04 16:18:24,022 : - worker thread finished; awaiting finish of 2 more threads\n",
      "2021-10-04 16:18:24,039 : - worker thread finished; awaiting finish of 1 more threads\n",
      "2021-10-04 16:18:24,042 : - worker thread finished; awaiting finish of 0 more threads\n",
      "2021-10-04 16:18:24,043 : - EPOCH - 28 : training on 332305 raw words (168850 effective words) took 0.4s, 393929 effective words/s\n",
      "2021-10-04 16:18:24,465 : - worker thread finished; awaiting finish of 2 more threads\n",
      "2021-10-04 16:18:24,466 : - worker thread finished; awaiting finish of 1 more threads\n",
      "2021-10-04 16:18:24,477 : - worker thread finished; awaiting finish of 0 more threads\n",
      "2021-10-04 16:18:24,478 : - EPOCH - 29 : training on 332305 raw words (169189 effective words) took 0.4s, 403379 effective words/s\n",
      "2021-10-04 16:18:24,894 : - worker thread finished; awaiting finish of 2 more threads\n",
      "2021-10-04 16:18:24,908 : - worker thread finished; awaiting finish of 1 more threads\n",
      "2021-10-04 16:18:24,910 : - worker thread finished; awaiting finish of 0 more threads\n",
      "2021-10-04 16:18:24,911 : - EPOCH - 30 : training on 332305 raw words (169432 effective words) took 0.4s, 406330 effective words/s\n",
      "2021-10-04 16:18:24,912 : - Word2Vec lifecycle event {'msg': 'training on 9969150 raw words (5072777 effective words) took 13.6s, 373860 effective words/s', 'datetime': '2021-10-04T16:18:24.912619', 'gensim': '4.1.2', 'python': '3.9.7 | packaged by conda-forge | (default, Sep  2 2021, 17:55:20) [MSC v.1916 64 bit (AMD64)]', 'platform': 'Windows-10-10.0.19042-SP0', 'event': 'train'}\n"
     ]
    },
    {
     "output_type": "execute_result",
     "data": {
      "text/plain": [
       "(5072777, 9969150)"
      ]
     },
     "metadata": {},
     "execution_count": 67
    }
   ],
   "metadata": {}
  },
  {
   "cell_type": "markdown",
   "source": [
    "# Testando o métodod 'most_similar'"
   ],
   "metadata": {}
  },
  {
   "cell_type": "code",
   "execution_count": 68,
   "source": [
    "w2v_modelo.wv.most_similar(\"cocaina\")"
   ],
   "outputs": [
    {
     "output_type": "execute_result",
     "data": {
      "text/plain": [
       "[('cocaína', 0.7142294049263),\n",
       " ('cocaíana', 0.4394259750843048),\n",
       " ('cocaínaa', 0.40420371294021606),\n",
       " ('cocaíca', 0.3886478841304779),\n",
       " ('cacaína', 0.3858521580696106),\n",
       " ('cacaina', 0.37731990218162537),\n",
       " ('côr', 0.37397757172584534),\n",
       " ('cocainaa', 0.3711448013782501),\n",
       " ('eppenford', 0.36748018860816956),\n",
       " ('po', 0.3665960729122162)]"
      ]
     },
     "metadata": {},
     "execution_count": 68
    }
   ],
   "metadata": {}
  },
  {
   "cell_type": "code",
   "execution_count": 69,
   "source": [
    "w2v_modelo.wv.most_similar(\"maconha\")"
   ],
   "outputs": [
    {
     "output_type": "execute_result",
     "data": {
      "text/plain": [
       "[('macoha', 0.4754354655742645),\n",
       " ('prensada', 0.4708314538002014),\n",
       " ('maconhanha', 0.45339810848236084),\n",
       " ('maconhaha', 0.44962409138679504),\n",
       " ('cannabis', 0.4407317638397217),\n",
       " ('artesanais', 0.4379664957523346),\n",
       " ('macona', 0.41701069474220276),\n",
       " ('erva', 0.41121476888656616),\n",
       " ('seca', 0.408692866563797),\n",
       " ('castanho', 0.40836042165756226)]"
      ]
     },
     "metadata": {},
     "execution_count": 69
    }
   ],
   "metadata": {}
  },
  {
   "cell_type": "code",
   "execution_count": 70,
   "source": [
    "w2v_modelo.wv.most_similar(\"crack\")"
   ],
   "outputs": [
    {
     "output_type": "execute_result",
     "data": {
      "text/plain": [
       "[('crak', 0.651922345161438),\n",
       " ('carck', 0.3957770764827728),\n",
       " ('rosário', 0.3905513882637024),\n",
       " ('craque', 0.3871470093727112),\n",
       " ('várias', 0.35703083872795105),\n",
       " ('crck', 0.3518581688404083),\n",
       " ('sólida', 0.34381231665611267),\n",
       " ('pepesando', 0.34373044967651367),\n",
       " ('cracka', 0.33842140436172485),\n",
       " ('alumínio', 0.3345668911933899)]"
      ]
     },
     "metadata": {},
     "execution_count": 70
    }
   ],
   "metadata": {}
  },
  {
   "cell_type": "markdown",
   "source": [
    "# Salvando o modelo"
   ],
   "metadata": {}
  },
  {
   "cell_type": "code",
   "execution_count": 71,
   "source": [
    "#w2v_modelo_sg.wv.save_word2vec_format('../Models/modelo_sg_drogas.txt', binary=False)\r\n",
    "#w2v_modelo.wv.save_word2vec_format('../Models/modelo_w2v_drogas.txt', binary=False)"
   ],
   "outputs": [],
   "metadata": {}
  },
  {
   "cell_type": "markdown",
   "source": [
    "# Desabiltando certos pipes fazem o modelo rodar mais rápido"
   ],
   "metadata": {}
  },
  {
   "cell_type": "code",
   "execution_count": 72,
   "source": [
    "#parser é um pipe analisador de dependência sintática da spacy, ou seja, atribui em cada palavra um label que descreve sua função na frase\r\n",
    "#ner é um pipe de reconhecimento de entidades da spacy, permitindo que cada palavra tenha um label como \"PER\" (pessoa) ou \"LOC\" (localização), etc\r\n",
    "#tagger é um pipe da spacy identificador de classe gramatical da língua carregada no load (neste caso, português)\r\n",
    "#textcat é um pipe da spacy que é um categorizador de texto. Ele prevê categorias em um documento inteiro.\r\n",
    "nlp = spacy.load('pt_core_news_lg', disable=['parser','ner','tagger','textcat'])\r\n",
    "\r\n",
    "def trata_textos_rapida(texto):\r\n",
    "    doc = nlp(texto)\r\n",
    "    tokens_validos = []\r\n",
    "    for token in doc:\r\n",
    "        e_valido = not token.is_stop and token.is_alpha\r\n",
    "        if e_valido:\r\n",
    "            tokens_validos.append(token.text.lower())\r\n",
    "\r\n",
    "    return tokens_validos\r\n",
    "\r\n",
    "texto = \"42 gramas de maconha apreendidos\"\r\n",
    "tokens = trata_textos_rapida(texto)\r\n",
    "print(tokens)"
   ],
   "outputs": [
    {
     "output_type": "stream",
     "name": "stdout",
     "text": [
      "['gramas', 'maconha', 'apreendidos']\n"
     ]
    }
   ],
   "metadata": {}
  },
  {
   "cell_type": "markdown",
   "source": [
    "# Carregando nosso modelo Word2Vec"
   ],
   "metadata": {}
  },
  {
   "cell_type": "code",
   "execution_count": 73,
   "source": [
    "w2v_modelo_cbow = KeyedVectors.load_word2vec_format('../Models/modelo_w2v_drogas.txt')"
   ],
   "outputs": [
    {
     "output_type": "stream",
     "name": "stderr",
     "text": [
      "2021-10-04 16:18:34,189 : - loading projection weights from ../Models/modelo_w2v_drogas.txt\n",
      "2021-10-04 16:18:35,706 : - KeyedVectors lifecycle event {'msg': 'loaded (8018, 300) matrix of type float32 from ../Models/modelo_w2v_drogas.txt', 'binary': False, 'encoding': 'utf8', 'datetime': '2021-10-04T16:18:35.706957', 'gensim': '4.1.2', 'python': '3.9.7 | packaged by conda-forge | (default, Sep  2 2021, 17:55:20) [MSC v.1916 64 bit (AMD64)]', 'platform': 'Windows-10-10.0.19042-SP0', 'event': 'load_word2vec_format'}\n"
     ]
    }
   ],
   "metadata": {}
  },
  {
   "cell_type": "markdown",
   "source": [
    "# Vetorizando as palavras para o nosso modelo"
   ],
   "metadata": {}
  },
  {
   "cell_type": "code",
   "execution_count": 74,
   "source": [
    "# 'vetor_resultante' é a quantidade de dimensões que o vetor tem (no caso, 300)\r\n",
    "def combinacao_de_vetores_por_soma(palavras, modelo):\r\n",
    "\r\n",
    "    # Como tokens é o exemplo \"42 gramas de maconha apreendidos\"\r\n",
    "    # São 300 dimensões para uma única linha\r\n",
    "    vetor_resultante = np.zeros((1, 300))\r\n",
    "    # Para cada token das palavras\r\n",
    "    for p in palavras:    \r\n",
    "        try: # Pegamos o vetor deste token e somamos\r\n",
    "             # no 'vetor_resultante'\r\n",
    "            vetor_resultante += modelo.get_vector(p)\r\n",
    "\r\n",
    "        except KeyError:\r\n",
    "           pass\r\n",
    "\r\n",
    "    return vetor_resultante\r\n",
    "\r\n",
    "\r\n",
    "vetor_texto = combinacao_de_vetores_por_soma(tokens, w2v_modelo_cbow)\r\n",
    "print(vetor_texto.shape)\r\n",
    "print(vetor_texto)"
   ],
   "outputs": [
    {
     "output_type": "stream",
     "name": "stdout",
     "text": [
      "(1, 300)\n",
      "[[ 0.1286815  -1.90977759  0.13999526  1.59192276 -0.75647955 -0.01888183\n",
      "   0.09412077 -0.1529047  -0.17223457  0.0638263  -0.10664336 -0.7182117\n",
      "  -0.54101728 -0.59995277 -0.22309858  0.45804346 -0.06492934 -0.66322355\n",
      "  -0.02955554  0.446263    1.27539738  1.01556657 -1.0327418   0.23260039\n",
      "   1.17448529 -1.13782222  1.96738273  0.17222127  0.85432186 -0.08431077\n",
      "   0.36445507  1.25217181  0.28909496 -0.81386827 -0.44321911 -0.87905075\n",
      "   0.85559136 -1.61212209 -0.21839337 -0.31124746 -0.12727931 -0.31963331\n",
      "   1.21662232  0.37635526  0.59015531  0.92955929 -1.36795782  0.10052644\n",
      "   0.21649069 -0.64006384  0.45780528  0.59258001  0.2170861   0.45159146\n",
      "  -0.76111618 -0.24482659  0.12455752 -0.57386573 -0.77144793  0.06450007\n",
      "   0.4309913   0.28348443  0.09103077 -2.0773297  -0.12554504 -0.07390217\n",
      "  -0.80918305 -0.30200598  0.28753987 -0.44278804  1.19332951 -1.11024354\n",
      "  -0.89336275 -0.75083446  0.70570676 -0.1603111  -0.12427431  0.53098689\n",
      "  -0.00523202 -0.04001921  1.53179658  0.98274198  1.02344102 -0.0893755\n",
      "   0.49384157  1.17892528  0.49644221  0.10014033 -1.35747977 -0.36565283\n",
      "   0.18547968 -0.87704973 -1.06421638 -0.03534937  0.23823948 -0.15316529\n",
      "  -1.00457332 -1.460352    1.62361151  0.33465984 -0.9391941   0.46791957\n",
      "   0.27947739 -0.17703247 -0.33902771  0.25677018 -1.10421205 -0.72112393\n",
      "  -0.25890754 -1.37035705 -0.91763827  0.45648165 -0.76407857  0.57376771\n",
      "  -0.91309426  0.51284205  1.03675111  0.58418345 -0.55105168  0.67738623\n",
      "  -0.17243102 -0.57882518  0.20062612 -1.14558452  0.06592008  1.14261402\n",
      "   0.08320199  1.4050096   0.63669258  1.14897728 -0.06970644 -0.40596208\n",
      "  -0.38905437 -0.19163066 -0.30931828  0.39347317 -0.11241939  0.43826278\n",
      "  -1.12516728  0.0780295   0.63122599 -1.10198248 -1.41418535  0.33675203\n",
      "  -0.49358217 -0.81626987 -0.19963858 -0.35333733 -0.35575703  0.34634131\n",
      "  -0.41739265 -0.89712636 -0.31059322 -0.79640286 -0.4588262   0.35253701\n",
      "  -0.30237782  0.41167472 -0.30102274  0.30136237  0.29564117 -0.37601603\n",
      "   0.32081807  0.38931298 -1.13124996 -0.36807436 -0.08822601  0.19047988\n",
      "  -0.32583105  0.21307376 -0.44521067 -0.09601012 -0.19173792  0.78989882\n",
      "   0.72514266  0.75813082 -0.24059806  1.89262687  0.17366767 -0.74977149\n",
      "  -0.86970451  0.03881905  1.30022031 -0.57178722  1.30104756  0.38651859\n",
      "   0.27567565  0.04495284  0.56541792  0.10710132 -0.95232785 -1.24879126\n",
      "   0.66832642 -1.56951758 -0.75350329  0.43712023 -0.75859177  0.09667397\n",
      "  -0.80083781 -0.79843007 -0.53267813 -0.25010836  0.3682771  -0.80760525\n",
      "  -0.74881119 -0.01508083  1.03421147  0.89758893 -0.63781327 -0.31916447\n",
      "  -1.26346129  1.09787251  0.82613775  0.54655623 -0.33603667  1.14440021\n",
      "  -1.12347417  1.30118523  0.08994759 -0.32040821 -0.00802359 -1.1678865\n",
      "   0.29913963  0.00869605  0.20706081 -0.3811001  -0.46420905  0.4597325\n",
      "  -0.68020302  0.1657238   1.06860761 -1.49956079 -0.66158136  0.41750655\n",
      "  -0.31084902 -0.63233131 -0.992461    1.43394765 -0.51164179  0.79990879\n",
      "  -0.05151647  0.18239968 -1.80866326  0.43205619  1.87691537 -0.49625817\n",
      "  -2.39457548  0.43619748 -2.04470912 -0.28639594  0.87221763  0.37545972\n",
      "   0.02713589 -0.14721932 -0.39281236 -0.79033007  0.81692478 -0.37587163\n",
      "  -1.48558483 -1.94702697  0.28066012 -0.92818211  0.07793648 -0.93072009\n",
      "  -0.73500178 -0.08413803  0.65660992  1.53514537  1.02990533 -0.30030927\n",
      "  -0.40061995 -0.13729325  0.77381523  0.60420857 -0.1107205   2.17249588\n",
      "  -0.35050061 -0.10432958 -0.26426267 -0.43219329  0.89932406 -0.82586701\n",
      "  -0.28149061 -0.25478441  0.6422634   0.44653499 -0.62718185 -0.99660838\n",
      "  -0.33510256  0.31902596  0.10156576 -0.46355671 -0.14023772 -0.36687241\n",
      "   0.64850703  0.64383753  0.44632487 -0.3725622   0.84239043 -1.26229899]]\n"
     ]
    }
   ],
   "metadata": {}
  },
  {
   "cell_type": "code",
   "execution_count": 75,
   "source": [
    "def matriz_vetores(textos, modelo):\r\n",
    "    #Numero de linhas da matriz depende do numero de linhas que serão vetorizadas\r\n",
    "    x = len(textos)\r\n",
    "    #Numero de dimensões\r\n",
    "    y = 300\r\n",
    "    matriz = np.zeros((x,y))\r\n",
    "\r\n",
    "    #Vetorizarando o texto\r\n",
    "    for i in range(x):\r\n",
    "        palavras = trata_textos_rapida(str(textos.iloc[i])) # i representa o index no dataset, ou seja, para cada descrição neste index\r\n",
    "        matriz[i] = combinacao_de_vetores_por_soma(palavras, modelo)\r\n",
    "\r\n",
    "    return matriz\r\n"
   ],
   "outputs": [],
   "metadata": {}
  },
  {
   "cell_type": "code",
   "execution_count": 76,
   "source": [
    "descricoes_tratadas"
   ],
   "outputs": [
    {
     "output_type": "execute_result",
     "data": {
      "text/html": [
       "<div>\n",
       "<style scoped>\n",
       "    .dataframe tbody tr th:only-of-type {\n",
       "        vertical-align: middle;\n",
       "    }\n",
       "\n",
       "    .dataframe tbody tr th {\n",
       "        vertical-align: top;\n",
       "    }\n",
       "\n",
       "    .dataframe thead th {\n",
       "        text-align: right;\n",
       "    }\n",
       "</style>\n",
       "<table border=\"1\" class=\"dataframe\">\n",
       "  <thead>\n",
       "    <tr style=\"text-align: right;\">\n",
       "      <th></th>\n",
       "      <th>descricao</th>\n",
       "      <th>classificacao</th>\n",
       "    </tr>\n",
       "  </thead>\n",
       "  <tbody>\n",
       "    <tr>\n",
       "      <th>50</th>\n",
       "      <td>pequena porção erva cor esverdeada semelhante ...</td>\n",
       "      <td>Maconha</td>\n",
       "    </tr>\n",
       "    <tr>\n",
       "      <th>51</th>\n",
       "      <td>substancia semelhanta crack</td>\n",
       "      <td>Crack</td>\n",
       "    </tr>\n",
       "    <tr>\n",
       "      <th>52</th>\n",
       "      <td>substancia semelhante cocaina</td>\n",
       "      <td>Cocaína</td>\n",
       "    </tr>\n",
       "    <tr>\n",
       "      <th>55</th>\n",
       "      <td>aprox gramas embalagem pinos</td>\n",
       "      <td>Drogas</td>\n",
       "    </tr>\n",
       "    <tr>\n",
       "      <th>57</th>\n",
       "      <td>pote contendo pequena quantidade substancia es...</td>\n",
       "      <td>Drogas</td>\n",
       "    </tr>\n",
       "    <tr>\n",
       "      <th>...</th>\n",
       "      <td>...</td>\n",
       "      <td>...</td>\n",
       "    </tr>\n",
       "    <tr>\n",
       "      <th>113218</th>\n",
       "      <td>porção substância características maconha invó...</td>\n",
       "      <td>Maconha</td>\n",
       "    </tr>\n",
       "    <tr>\n",
       "      <th>113219</th>\n",
       "      <td>porção substância características maconha invó...</td>\n",
       "      <td>Maconha</td>\n",
       "    </tr>\n",
       "    <tr>\n",
       "      <th>113222</th>\n",
       "      <td>pequenas pedras crack pedra mesma substância p...</td>\n",
       "      <td>Crack</td>\n",
       "    </tr>\n",
       "    <tr>\n",
       "      <th>113228</th>\n",
       "      <td>aproximadamente gramas pinos cocaína</td>\n",
       "      <td>Cocaína</td>\n",
       "    </tr>\n",
       "    <tr>\n",
       "      <th>113229</th>\n",
       "      <td>tijolo erva verde semelhante maconha pesanto a...</td>\n",
       "      <td>Maconha</td>\n",
       "    </tr>\n",
       "  </tbody>\n",
       "</table>\n",
       "<p>51697 rows × 2 columns</p>\n",
       "</div>"
      ],
      "text/plain": [
       "                                                descricao classificacao\n",
       "50      pequena porção erva cor esverdeada semelhante ...       Maconha\n",
       "51                            substancia semelhanta crack         Crack\n",
       "52                          substancia semelhante cocaina       Cocaína\n",
       "55                           aprox gramas embalagem pinos        Drogas\n",
       "57      pote contendo pequena quantidade substancia es...        Drogas\n",
       "...                                                   ...           ...\n",
       "113218  porção substância características maconha invó...       Maconha\n",
       "113219  porção substância características maconha invó...       Maconha\n",
       "113222  pequenas pedras crack pedra mesma substância p...         Crack\n",
       "113228               aproximadamente gramas pinos cocaína       Cocaína\n",
       "113229  tijolo erva verde semelhante maconha pesanto a...       Maconha\n",
       "\n",
       "[51697 rows x 2 columns]"
      ]
     },
     "metadata": {},
     "execution_count": 76
    }
   ],
   "metadata": {}
  },
  {
   "cell_type": "code",
   "execution_count": 77,
   "source": [
    "tamanho_treino = len(descricoes_tratadas) * 0.8 # 80% das descrições\r\n",
    "tamanho_teste = len(descricoes_tratadas) * 0.2 # 20% das descrições\r\n",
    "\r\n",
    "matriz_vetores_treino_cbow = matriz_vetores(descricoes_tratadas.descricao.head(int(tamanho_treino)), w2v_modelo_cbow)\r\n",
    "matriz_vetores_teste_cbow = matriz_vetores(descricoes_tratadas.descricao.tail(int(tamanho_teste)), w2v_modelo_cbow)\r\n",
    "print(matriz_vetores_treino_cbow.shape)\r\n",
    "print(matriz_vetores_teste_cbow.shape)"
   ],
   "outputs": [
    {
     "output_type": "stream",
     "name": "stdout",
     "text": [
      "(41357, 300)\n",
      "(10339, 300)\n"
     ]
    }
   ],
   "metadata": {}
  },
  {
   "cell_type": "markdown",
   "source": [
    "# Utilizando a técnica TF-IDF"
   ],
   "metadata": {}
  },
  {
   "cell_type": "code",
   "execution_count": 78,
   "source": [
    "def classificador(modelo, x_treino, y_treino, x_teste, y_teste):\r\n",
    "\r\n",
    "\r\n",
    "    # Usando modelo de Regressão Logística\r\n",
    "    RL = LogisticRegression(max_iter  = 800)\r\n",
    "    RL.fit(x_treino, y_treino)\r\n",
    "    \r\n",
    "    categorias = RL.predict(x_teste)\r\n",
    "    resultados = classification_report(y_teste, categorias)\r\n",
    "    \r\n",
    "    print(resultados)\r\n",
    "    return RL"
   ],
   "outputs": [],
   "metadata": {}
  },
  {
   "cell_type": "code",
   "execution_count": 79,
   "source": [
    "# 'max_features' é o número de vezes que a palavra apareceu para ser considerada (frequência dela)\r\n",
    "frases =['Assisti um filme ótimo', 'Assisti um  filme péssimo']\r\n",
    "\r\n",
    "tfidf = TfidfVectorizer(lowercase=False, max_features=50)\r\n",
    "\r\n",
    "caracteristicas = tfidf.fit_transform(frases)\r\n",
    "pd.DataFrame(\r\n",
    "        caracteristicas.todense(),\r\n",
    "        columns =  tfidf.get_feature_names()\r\n",
    ")"
   ],
   "outputs": [
    {
     "output_type": "execute_result",
     "data": {
      "text/html": [
       "<div>\n",
       "<style scoped>\n",
       "    .dataframe tbody tr th:only-of-type {\n",
       "        vertical-align: middle;\n",
       "    }\n",
       "\n",
       "    .dataframe tbody tr th {\n",
       "        vertical-align: top;\n",
       "    }\n",
       "\n",
       "    .dataframe thead th {\n",
       "        text-align: right;\n",
       "    }\n",
       "</style>\n",
       "<table border=\"1\" class=\"dataframe\">\n",
       "  <thead>\n",
       "    <tr style=\"text-align: right;\">\n",
       "      <th></th>\n",
       "      <th>Assisti</th>\n",
       "      <th>filme</th>\n",
       "      <th>péssimo</th>\n",
       "      <th>um</th>\n",
       "      <th>ótimo</th>\n",
       "    </tr>\n",
       "  </thead>\n",
       "  <tbody>\n",
       "    <tr>\n",
       "      <th>0</th>\n",
       "      <td>0.448321</td>\n",
       "      <td>0.448321</td>\n",
       "      <td>0.000000</td>\n",
       "      <td>0.448321</td>\n",
       "      <td>0.630099</td>\n",
       "    </tr>\n",
       "    <tr>\n",
       "      <th>1</th>\n",
       "      <td>0.448321</td>\n",
       "      <td>0.448321</td>\n",
       "      <td>0.630099</td>\n",
       "      <td>0.448321</td>\n",
       "      <td>0.000000</td>\n",
       "    </tr>\n",
       "  </tbody>\n",
       "</table>\n",
       "</div>"
      ],
      "text/plain": [
       "    Assisti     filme   péssimo        um     ótimo\n",
       "0  0.448321  0.448321  0.000000  0.448321  0.630099\n",
       "1  0.448321  0.448321  0.630099  0.448321  0.000000"
      ]
     },
     "metadata": {},
     "execution_count": 79
    }
   ],
   "metadata": {}
  },
  {
   "cell_type": "code",
   "execution_count": 80,
   "source": [
    "# Tirando linhas duplicadas e nulas\r\n",
    "dados_treino_not_na = descricoes_tratadas.dropna()\r\n",
    "dados_treino_drop_dup = dados_treino_not_na.drop_duplicates()\r\n",
    "dados_treino_drop_dup.shape"
   ],
   "outputs": [
    {
     "output_type": "execute_result",
     "data": {
      "text/plain": [
       "(51697, 2)"
      ]
     },
     "metadata": {},
     "execution_count": 80
    }
   ],
   "metadata": {}
  },
  {
   "cell_type": "code",
   "execution_count": 81,
   "source": [
    "dados_treino_drop_dup"
   ],
   "outputs": [
    {
     "output_type": "execute_result",
     "data": {
      "text/html": [
       "<div>\n",
       "<style scoped>\n",
       "    .dataframe tbody tr th:only-of-type {\n",
       "        vertical-align: middle;\n",
       "    }\n",
       "\n",
       "    .dataframe tbody tr th {\n",
       "        vertical-align: top;\n",
       "    }\n",
       "\n",
       "    .dataframe thead th {\n",
       "        text-align: right;\n",
       "    }\n",
       "</style>\n",
       "<table border=\"1\" class=\"dataframe\">\n",
       "  <thead>\n",
       "    <tr style=\"text-align: right;\">\n",
       "      <th></th>\n",
       "      <th>descricao</th>\n",
       "      <th>classificacao</th>\n",
       "    </tr>\n",
       "  </thead>\n",
       "  <tbody>\n",
       "    <tr>\n",
       "      <th>50</th>\n",
       "      <td>pequena porção erva cor esverdeada semelhante ...</td>\n",
       "      <td>Maconha</td>\n",
       "    </tr>\n",
       "    <tr>\n",
       "      <th>51</th>\n",
       "      <td>substancia semelhanta crack</td>\n",
       "      <td>Crack</td>\n",
       "    </tr>\n",
       "    <tr>\n",
       "      <th>52</th>\n",
       "      <td>substancia semelhante cocaina</td>\n",
       "      <td>Cocaína</td>\n",
       "    </tr>\n",
       "    <tr>\n",
       "      <th>55</th>\n",
       "      <td>aprox gramas embalagem pinos</td>\n",
       "      <td>Drogas</td>\n",
       "    </tr>\n",
       "    <tr>\n",
       "      <th>57</th>\n",
       "      <td>pote contendo pequena quantidade substancia es...</td>\n",
       "      <td>Drogas</td>\n",
       "    </tr>\n",
       "    <tr>\n",
       "      <th>...</th>\n",
       "      <td>...</td>\n",
       "      <td>...</td>\n",
       "    </tr>\n",
       "    <tr>\n",
       "      <th>113218</th>\n",
       "      <td>porção substância características maconha invó...</td>\n",
       "      <td>Maconha</td>\n",
       "    </tr>\n",
       "    <tr>\n",
       "      <th>113219</th>\n",
       "      <td>porção substância características maconha invó...</td>\n",
       "      <td>Maconha</td>\n",
       "    </tr>\n",
       "    <tr>\n",
       "      <th>113222</th>\n",
       "      <td>pequenas pedras crack pedra mesma substância p...</td>\n",
       "      <td>Crack</td>\n",
       "    </tr>\n",
       "    <tr>\n",
       "      <th>113228</th>\n",
       "      <td>aproximadamente gramas pinos cocaína</td>\n",
       "      <td>Cocaína</td>\n",
       "    </tr>\n",
       "    <tr>\n",
       "      <th>113229</th>\n",
       "      <td>tijolo erva verde semelhante maconha pesanto a...</td>\n",
       "      <td>Maconha</td>\n",
       "    </tr>\n",
       "  </tbody>\n",
       "</table>\n",
       "<p>51697 rows × 2 columns</p>\n",
       "</div>"
      ],
      "text/plain": [
       "                                                descricao classificacao\n",
       "50      pequena porção erva cor esverdeada semelhante ...       Maconha\n",
       "51                            substancia semelhanta crack         Crack\n",
       "52                          substancia semelhante cocaina       Cocaína\n",
       "55                           aprox gramas embalagem pinos        Drogas\n",
       "57      pote contendo pequena quantidade substancia es...        Drogas\n",
       "...                                                   ...           ...\n",
       "113218  porção substância características maconha invó...       Maconha\n",
       "113219  porção substância características maconha invó...       Maconha\n",
       "113222  pequenas pedras crack pedra mesma substância p...         Crack\n",
       "113228               aproximadamente gramas pinos cocaína       Cocaína\n",
       "113229  tijolo erva verde semelhante maconha pesanto a...       Maconha\n",
       "\n",
       "[51697 rows x 2 columns]"
      ]
     },
     "metadata": {},
     "execution_count": 81
    }
   ],
   "metadata": {}
  },
  {
   "cell_type": "code",
   "execution_count": 82,
   "source": [
    "dados_treino_drop_dup"
   ],
   "outputs": [
    {
     "output_type": "execute_result",
     "data": {
      "text/html": [
       "<div>\n",
       "<style scoped>\n",
       "    .dataframe tbody tr th:only-of-type {\n",
       "        vertical-align: middle;\n",
       "    }\n",
       "\n",
       "    .dataframe tbody tr th {\n",
       "        vertical-align: top;\n",
       "    }\n",
       "\n",
       "    .dataframe thead th {\n",
       "        text-align: right;\n",
       "    }\n",
       "</style>\n",
       "<table border=\"1\" class=\"dataframe\">\n",
       "  <thead>\n",
       "    <tr style=\"text-align: right;\">\n",
       "      <th></th>\n",
       "      <th>descricao</th>\n",
       "      <th>classificacao</th>\n",
       "    </tr>\n",
       "  </thead>\n",
       "  <tbody>\n",
       "    <tr>\n",
       "      <th>50</th>\n",
       "      <td>pequena porção erva cor esverdeada semelhante ...</td>\n",
       "      <td>Maconha</td>\n",
       "    </tr>\n",
       "    <tr>\n",
       "      <th>51</th>\n",
       "      <td>substancia semelhanta crack</td>\n",
       "      <td>Crack</td>\n",
       "    </tr>\n",
       "    <tr>\n",
       "      <th>52</th>\n",
       "      <td>substancia semelhante cocaina</td>\n",
       "      <td>Cocaína</td>\n",
       "    </tr>\n",
       "    <tr>\n",
       "      <th>55</th>\n",
       "      <td>aprox gramas embalagem pinos</td>\n",
       "      <td>Drogas</td>\n",
       "    </tr>\n",
       "    <tr>\n",
       "      <th>57</th>\n",
       "      <td>pote contendo pequena quantidade substancia es...</td>\n",
       "      <td>Drogas</td>\n",
       "    </tr>\n",
       "    <tr>\n",
       "      <th>...</th>\n",
       "      <td>...</td>\n",
       "      <td>...</td>\n",
       "    </tr>\n",
       "    <tr>\n",
       "      <th>113218</th>\n",
       "      <td>porção substância características maconha invó...</td>\n",
       "      <td>Maconha</td>\n",
       "    </tr>\n",
       "    <tr>\n",
       "      <th>113219</th>\n",
       "      <td>porção substância características maconha invó...</td>\n",
       "      <td>Maconha</td>\n",
       "    </tr>\n",
       "    <tr>\n",
       "      <th>113222</th>\n",
       "      <td>pequenas pedras crack pedra mesma substância p...</td>\n",
       "      <td>Crack</td>\n",
       "    </tr>\n",
       "    <tr>\n",
       "      <th>113228</th>\n",
       "      <td>aproximadamente gramas pinos cocaína</td>\n",
       "      <td>Cocaína</td>\n",
       "    </tr>\n",
       "    <tr>\n",
       "      <th>113229</th>\n",
       "      <td>tijolo erva verde semelhante maconha pesanto a...</td>\n",
       "      <td>Maconha</td>\n",
       "    </tr>\n",
       "  </tbody>\n",
       "</table>\n",
       "<p>51697 rows × 2 columns</p>\n",
       "</div>"
      ],
      "text/plain": [
       "                                                descricao classificacao\n",
       "50      pequena porção erva cor esverdeada semelhante ...       Maconha\n",
       "51                            substancia semelhanta crack         Crack\n",
       "52                          substancia semelhante cocaina       Cocaína\n",
       "55                           aprox gramas embalagem pinos        Drogas\n",
       "57      pote contendo pequena quantidade substancia es...        Drogas\n",
       "...                                                   ...           ...\n",
       "113218  porção substância características maconha invó...       Maconha\n",
       "113219  porção substância características maconha invó...       Maconha\n",
       "113222  pequenas pedras crack pedra mesma substância p...         Crack\n",
       "113228               aproximadamente gramas pinos cocaína       Cocaína\n",
       "113229  tijolo erva verde semelhante maconha pesanto a...       Maconha\n",
       "\n",
       "[51697 rows x 2 columns]"
      ]
     },
     "metadata": {},
     "execution_count": 82
    }
   ],
   "metadata": {}
  },
  {
   "cell_type": "markdown",
   "source": [
    "### Instanciando modelo de RL sem os n-grams"
   ],
   "metadata": {}
  },
  {
   "cell_type": "code",
   "execution_count": 83,
   "source": [
    "regressaao_logistica1 = LogisticRegression(max_iter=100000)\r\n",
    "\r\n",
    "vetor_tf_idf_bruto =  tfidf.fit_transform(dados_treino_drop_dup.descricao)\r\n",
    "treino, teste, classe_treino, classe_teste = train_test_split(vetor_tf_idf_bruto, # x\r\n",
    "                                                               dados_treino_drop_dup.classificacao, # y\r\n",
    "                                                               random_state=42)\r\n",
    "\r\n",
    "\r\n",
    "regressaao_logistica1.fit(treino,classe_treino)\r\n",
    "acuraria_vetor_tf_idf_bruto = regressaao_logistica1.score(teste, classe_teste)\r\n",
    "print(acuraria_vetor_tf_idf_bruto)"
   ],
   "outputs": [
    {
     "output_type": "stream",
     "name": "stdout",
     "text": [
      "0.9318375241779497\n"
     ]
    }
   ],
   "metadata": {}
  },
  {
   "cell_type": "markdown",
   "source": [
    "### Instanciando modelo RL utilizando TF-IDF com n-grams"
   ],
   "metadata": {}
  },
  {
   "cell_type": "code",
   "execution_count": 84,
   "source": [
    "                                                     #bi-gram\r\n",
    "tfidf = TfidfVectorizer(lowercase=False, ngram_range  = (1,2))\r\n",
    "\r\n",
    "vetor_tfidf = tfidf.fit_transform(dados_treino_drop_dup.descricao)\r\n",
    "treino, teste, classe_treino, classe_teste = train_test_split(vetor_tfidf, \r\n",
    "                                                               dados_treino_drop_dup.classificacao,\r\n",
    "                                                               random_state=42)\r\n",
    "\r\n",
    "regressaao_logistica2 = LogisticRegression(max_iter=100000)\r\n",
    "\r\n",
    "\r\n",
    "regressaao_logistica2.fit(treino, classe_treino)\r\n",
    "acuraria_vetor_tf_idf_ngrams = regressaao_logistica2.score(teste, classe_teste)\r\n",
    "print(acuraria_vetor_tf_idf_ngrams)"
   ],
   "outputs": [
    {
     "output_type": "stream",
     "name": "stdout",
     "text": [
      "0.942514506769826\n"
     ]
    }
   ],
   "metadata": {}
  },
  {
   "cell_type": "code",
   "execution_count": 85,
   "source": [
    "#coef_[2] -> Drogas\r\n",
    "pesos = pd.DataFrame(\r\n",
    "    regressaao_logistica2.coef_[2].T,\r\n",
    "    index =  tfidf.get_feature_names(),\r\n",
    ")\r\n",
    "\r\n",
    "pesos.nlargest(10,0)"
   ],
   "outputs": [
    {
     "output_type": "execute_result",
     "data": {
      "text/html": [
       "<div>\n",
       "<style scoped>\n",
       "    .dataframe tbody tr th:only-of-type {\n",
       "        vertical-align: middle;\n",
       "    }\n",
       "\n",
       "    .dataframe tbody tr th {\n",
       "        vertical-align: top;\n",
       "    }\n",
       "\n",
       "    .dataframe thead th {\n",
       "        text-align: right;\n",
       "    }\n",
       "</style>\n",
       "<table border=\"1\" class=\"dataframe\">\n",
       "  <thead>\n",
       "    <tr style=\"text-align: right;\">\n",
       "      <th></th>\n",
       "      <th>0</th>\n",
       "    </tr>\n",
       "  </thead>\n",
       "  <tbody>\n",
       "    <tr>\n",
       "      <th>comprimidos</th>\n",
       "      <td>5.132208</td>\n",
       "    </tr>\n",
       "    <tr>\n",
       "      <th>vinculado</th>\n",
       "      <td>4.873380</td>\n",
       "    </tr>\n",
       "    <tr>\n",
       "      <th>ecstasy</th>\n",
       "      <td>4.146195</td>\n",
       "    </tr>\n",
       "    <tr>\n",
       "      <th>lsd</th>\n",
       "      <td>3.030774</td>\n",
       "    </tr>\n",
       "    <tr>\n",
       "      <th>frasco</th>\n",
       "      <td>2.964612</td>\n",
       "    </tr>\n",
       "    <tr>\n",
       "      <th>frascos</th>\n",
       "      <td>2.951568</td>\n",
       "    </tr>\n",
       "    <tr>\n",
       "      <th>mdma</th>\n",
       "      <td>2.502555</td>\n",
       "    </tr>\n",
       "    <tr>\n",
       "      <th>comprimido</th>\n",
       "      <td>2.398119</td>\n",
       "    </tr>\n",
       "    <tr>\n",
       "      <th>cod</th>\n",
       "      <td>2.180347</td>\n",
       "    </tr>\n",
       "    <tr>\n",
       "      <th>haxixe</th>\n",
       "      <td>2.069378</td>\n",
       "    </tr>\n",
       "  </tbody>\n",
       "</table>\n",
       "</div>"
      ],
      "text/plain": [
       "                    0\n",
       "comprimidos  5.132208\n",
       "vinculado    4.873380\n",
       "ecstasy      4.146195\n",
       "lsd          3.030774\n",
       "frasco       2.964612\n",
       "frascos      2.951568\n",
       "mdma         2.502555\n",
       "comprimido   2.398119\n",
       "cod          2.180347\n",
       "haxixe       2.069378"
      ]
     },
     "metadata": {},
     "execution_count": 85
    }
   ],
   "metadata": {}
  },
  {
   "cell_type": "code",
   "execution_count": 86,
   "source": [
    "#coef_[0] -> Cocaína\r\n",
    "pesos = pd.DataFrame(\r\n",
    "    regressaao_logistica2.coef_[0].T,\r\n",
    "    index =  tfidf.get_feature_names(),\r\n",
    ")\r\n",
    "\r\n",
    "pesos.nlargest(10,0)"
   ],
   "outputs": [
    {
     "output_type": "execute_result",
     "data": {
      "text/html": [
       "<div>\n",
       "<style scoped>\n",
       "    .dataframe tbody tr th:only-of-type {\n",
       "        vertical-align: middle;\n",
       "    }\n",
       "\n",
       "    .dataframe tbody tr th {\n",
       "        vertical-align: top;\n",
       "    }\n",
       "\n",
       "    .dataframe thead th {\n",
       "        text-align: right;\n",
       "    }\n",
       "</style>\n",
       "<table border=\"1\" class=\"dataframe\">\n",
       "  <thead>\n",
       "    <tr style=\"text-align: right;\">\n",
       "      <th></th>\n",
       "      <th>0</th>\n",
       "    </tr>\n",
       "  </thead>\n",
       "  <tbody>\n",
       "    <tr>\n",
       "      <th>cocaína</th>\n",
       "      <td>18.295910</td>\n",
       "    </tr>\n",
       "    <tr>\n",
       "      <th>cocaina</th>\n",
       "      <td>13.682737</td>\n",
       "    </tr>\n",
       "    <tr>\n",
       "      <th>pinos</th>\n",
       "      <td>5.497896</td>\n",
       "    </tr>\n",
       "    <tr>\n",
       "      <th>cocaína pesando</th>\n",
       "      <td>3.765937</td>\n",
       "    </tr>\n",
       "    <tr>\n",
       "      <th>cocaina pesando</th>\n",
       "      <td>3.370358</td>\n",
       "    </tr>\n",
       "    <tr>\n",
       "      <th>semelhante cocaína</th>\n",
       "      <td>3.366675</td>\n",
       "    </tr>\n",
       "    <tr>\n",
       "      <th>pó</th>\n",
       "      <td>3.126336</td>\n",
       "    </tr>\n",
       "    <tr>\n",
       "      <th>buchas</th>\n",
       "      <td>2.845291</td>\n",
       "    </tr>\n",
       "    <tr>\n",
       "      <th>pino</th>\n",
       "      <td>2.606420</td>\n",
       "    </tr>\n",
       "    <tr>\n",
       "      <th>características cocaína</th>\n",
       "      <td>2.297428</td>\n",
       "    </tr>\n",
       "  </tbody>\n",
       "</table>\n",
       "</div>"
      ],
      "text/plain": [
       "                                 0\n",
       "cocaína                  18.295910\n",
       "cocaina                  13.682737\n",
       "pinos                     5.497896\n",
       "cocaína pesando           3.765937\n",
       "cocaina pesando           3.370358\n",
       "semelhante cocaína        3.366675\n",
       "pó                        3.126336\n",
       "buchas                    2.845291\n",
       "pino                      2.606420\n",
       "características cocaína   2.297428"
      ]
     },
     "metadata": {},
     "execution_count": 86
    }
   ],
   "metadata": {}
  },
  {
   "cell_type": "code",
   "execution_count": 87,
   "source": [
    "#coef_[1] -> Crack\r\n",
    "pesos = pd.DataFrame(\r\n",
    "    regressaao_logistica2.coef_[1].T,\r\n",
    "    index =  tfidf.get_feature_names(),\r\n",
    ")\r\n",
    "\r\n",
    "pesos.nlargest(10,0)"
   ],
   "outputs": [
    {
     "output_type": "execute_result",
     "data": {
      "text/html": [
       "<div>\n",
       "<style scoped>\n",
       "    .dataframe tbody tr th:only-of-type {\n",
       "        vertical-align: middle;\n",
       "    }\n",
       "\n",
       "    .dataframe tbody tr th {\n",
       "        vertical-align: top;\n",
       "    }\n",
       "\n",
       "    .dataframe thead th {\n",
       "        text-align: right;\n",
       "    }\n",
       "</style>\n",
       "<table border=\"1\" class=\"dataframe\">\n",
       "  <thead>\n",
       "    <tr style=\"text-align: right;\">\n",
       "      <th></th>\n",
       "      <th>0</th>\n",
       "    </tr>\n",
       "  </thead>\n",
       "  <tbody>\n",
       "    <tr>\n",
       "      <th>crack</th>\n",
       "      <td>20.817663</td>\n",
       "    </tr>\n",
       "    <tr>\n",
       "      <th>pedras</th>\n",
       "      <td>6.984995</td>\n",
       "    </tr>\n",
       "    <tr>\n",
       "      <th>pedrinhas</th>\n",
       "      <td>4.455940</td>\n",
       "    </tr>\n",
       "    <tr>\n",
       "      <th>pedra</th>\n",
       "      <td>4.077910</td>\n",
       "    </tr>\n",
       "    <tr>\n",
       "      <th>crak</th>\n",
       "      <td>4.074462</td>\n",
       "    </tr>\n",
       "    <tr>\n",
       "      <th>crack pesando</th>\n",
       "      <td>4.033724</td>\n",
       "    </tr>\n",
       "    <tr>\n",
       "      <th>semelhante crack</th>\n",
       "      <td>3.755415</td>\n",
       "    </tr>\n",
       "    <tr>\n",
       "      <th>amarelada</th>\n",
       "      <td>2.561995</td>\n",
       "    </tr>\n",
       "    <tr>\n",
       "      <th>características crack</th>\n",
       "      <td>2.022532</td>\n",
       "    </tr>\n",
       "    <tr>\n",
       "      <th>crack peso</th>\n",
       "      <td>1.960310</td>\n",
       "    </tr>\n",
       "  </tbody>\n",
       "</table>\n",
       "</div>"
      ],
      "text/plain": [
       "                               0\n",
       "crack                  20.817663\n",
       "pedras                  6.984995\n",
       "pedrinhas               4.455940\n",
       "pedra                   4.077910\n",
       "crak                    4.074462\n",
       "crack pesando           4.033724\n",
       "semelhante crack        3.755415\n",
       "amarelada               2.561995\n",
       "características crack   2.022532\n",
       "crack peso              1.960310"
      ]
     },
     "metadata": {},
     "execution_count": 87
    }
   ],
   "metadata": {}
  },
  {
   "cell_type": "code",
   "execution_count": 88,
   "source": [
    "#coef_[3] -> Maconha\r\n",
    "pesos = pd.DataFrame(\r\n",
    "    regressaao_logistica2.coef_[3].T,\r\n",
    "    index =  tfidf.get_feature_names(),\r\n",
    ")\r\n",
    "\r\n",
    "pesos.nlargest(10,0)"
   ],
   "outputs": [
    {
     "output_type": "execute_result",
     "data": {
      "text/html": [
       "<div>\n",
       "<style scoped>\n",
       "    .dataframe tbody tr th:only-of-type {\n",
       "        vertical-align: middle;\n",
       "    }\n",
       "\n",
       "    .dataframe tbody tr th {\n",
       "        vertical-align: top;\n",
       "    }\n",
       "\n",
       "    .dataframe thead th {\n",
       "        text-align: right;\n",
       "    }\n",
       "</style>\n",
       "<table border=\"1\" class=\"dataframe\">\n",
       "  <thead>\n",
       "    <tr style=\"text-align: right;\">\n",
       "      <th></th>\n",
       "      <th>0</th>\n",
       "    </tr>\n",
       "  </thead>\n",
       "  <tbody>\n",
       "    <tr>\n",
       "      <th>maconha</th>\n",
       "      <td>23.274256</td>\n",
       "    </tr>\n",
       "    <tr>\n",
       "      <th>semelhante maconha</th>\n",
       "      <td>4.528759</td>\n",
       "    </tr>\n",
       "    <tr>\n",
       "      <th>maconha pesando</th>\n",
       "      <td>4.431737</td>\n",
       "    </tr>\n",
       "    <tr>\n",
       "      <th>cigarro</th>\n",
       "      <td>3.479635</td>\n",
       "    </tr>\n",
       "    <tr>\n",
       "      <th>sativa</th>\n",
       "      <td>2.657055</td>\n",
       "    </tr>\n",
       "    <tr>\n",
       "      <th>cannabis</th>\n",
       "      <td>2.472395</td>\n",
       "    </tr>\n",
       "    <tr>\n",
       "      <th>esverdeada</th>\n",
       "      <td>2.441893</td>\n",
       "    </tr>\n",
       "    <tr>\n",
       "      <th>gramas maconha</th>\n",
       "      <td>2.378084</td>\n",
       "    </tr>\n",
       "    <tr>\n",
       "      <th>erva</th>\n",
       "      <td>2.364988</td>\n",
       "    </tr>\n",
       "    <tr>\n",
       "      <th>tijolos</th>\n",
       "      <td>2.286584</td>\n",
       "    </tr>\n",
       "  </tbody>\n",
       "</table>\n",
       "</div>"
      ],
      "text/plain": [
       "                            0\n",
       "maconha             23.274256\n",
       "semelhante maconha   4.528759\n",
       "maconha pesando      4.431737\n",
       "cigarro              3.479635\n",
       "sativa               2.657055\n",
       "cannabis             2.472395\n",
       "esverdeada           2.441893\n",
       "gramas maconha       2.378084\n",
       "erva                 2.364988\n",
       "tijolos              2.286584"
      ]
     },
     "metadata": {},
     "execution_count": 88
    }
   ],
   "metadata": {}
  },
  {
   "cell_type": "code",
   "execution_count": 89,
   "source": [
    "# coef_[3] -> Maconha ou seja, os menores coeficientes para maconha.\r\n",
    "pesos = pd.DataFrame(\r\n",
    "    regressaao_logistica2.coef_[3].T,\r\n",
    "    index =  tfidf.get_feature_names(),\r\n",
    ")\r\n",
    "\r\n",
    "pesos.nsmallest(10,0)"
   ],
   "outputs": [
    {
     "output_type": "execute_result",
     "data": {
      "text/html": [
       "<div>\n",
       "<style scoped>\n",
       "    .dataframe tbody tr th:only-of-type {\n",
       "        vertical-align: middle;\n",
       "    }\n",
       "\n",
       "    .dataframe tbody tr th {\n",
       "        vertical-align: top;\n",
       "    }\n",
       "\n",
       "    .dataframe thead th {\n",
       "        text-align: right;\n",
       "    }\n",
       "</style>\n",
       "<table border=\"1\" class=\"dataframe\">\n",
       "  <thead>\n",
       "    <tr style=\"text-align: right;\">\n",
       "      <th></th>\n",
       "      <th>0</th>\n",
       "    </tr>\n",
       "  </thead>\n",
       "  <tbody>\n",
       "    <tr>\n",
       "      <th>crack</th>\n",
       "      <td>-8.206391</td>\n",
       "    </tr>\n",
       "    <tr>\n",
       "      <th>cocaína</th>\n",
       "      <td>-7.804743</td>\n",
       "    </tr>\n",
       "    <tr>\n",
       "      <th>cocaina</th>\n",
       "      <td>-5.807259</td>\n",
       "    </tr>\n",
       "    <tr>\n",
       "      <th>pedras</th>\n",
       "      <td>-4.423848</td>\n",
       "    </tr>\n",
       "    <tr>\n",
       "      <th>pinos</th>\n",
       "      <td>-4.203907</td>\n",
       "    </tr>\n",
       "    <tr>\n",
       "      <th>pó</th>\n",
       "      <td>-3.117448</td>\n",
       "    </tr>\n",
       "    <tr>\n",
       "      <th>pedra</th>\n",
       "      <td>-3.064535</td>\n",
       "    </tr>\n",
       "    <tr>\n",
       "      <th>pedrinhas</th>\n",
       "      <td>-2.662215</td>\n",
       "    </tr>\n",
       "    <tr>\n",
       "      <th>comprimidos</th>\n",
       "      <td>-2.538912</td>\n",
       "    </tr>\n",
       "    <tr>\n",
       "      <th>branca</th>\n",
       "      <td>-2.190868</td>\n",
       "    </tr>\n",
       "  </tbody>\n",
       "</table>\n",
       "</div>"
      ],
      "text/plain": [
       "                    0\n",
       "crack       -8.206391\n",
       "cocaína     -7.804743\n",
       "cocaina     -5.807259\n",
       "pedras      -4.423848\n",
       "pinos       -4.203907\n",
       "pó          -3.117448\n",
       "pedra       -3.064535\n",
       "pedrinhas   -2.662215\n",
       "comprimidos -2.538912\n",
       "branca      -2.190868"
      ]
     },
     "metadata": {},
     "execution_count": 89
    }
   ],
   "metadata": {}
  },
  {
   "cell_type": "code",
   "execution_count": 90,
   "source": [
    "# coef_[2] -> Drogas ou seja, os menores coeficientes para drogas.\r\n",
    "pesos = pd.DataFrame(\r\n",
    "    regressaao_logistica2.coef_[2].T,\r\n",
    "    index =  tfidf.get_feature_names(),\r\n",
    ")\r\n",
    "\r\n",
    "pesos.nsmallest(10,0)"
   ],
   "outputs": [
    {
     "output_type": "execute_result",
     "data": {
      "text/html": [
       "<div>\n",
       "<style scoped>\n",
       "    .dataframe tbody tr th:only-of-type {\n",
       "        vertical-align: middle;\n",
       "    }\n",
       "\n",
       "    .dataframe tbody tr th {\n",
       "        vertical-align: top;\n",
       "    }\n",
       "\n",
       "    .dataframe thead th {\n",
       "        text-align: right;\n",
       "    }\n",
       "</style>\n",
       "<table border=\"1\" class=\"dataframe\">\n",
       "  <thead>\n",
       "    <tr style=\"text-align: right;\">\n",
       "      <th></th>\n",
       "      <th>0</th>\n",
       "    </tr>\n",
       "  </thead>\n",
       "  <tbody>\n",
       "    <tr>\n",
       "      <th>maconha</th>\n",
       "      <td>-9.621552</td>\n",
       "    </tr>\n",
       "    <tr>\n",
       "      <th>cocaína</th>\n",
       "      <td>-6.567467</td>\n",
       "    </tr>\n",
       "    <tr>\n",
       "      <th>crack</th>\n",
       "      <td>-6.460063</td>\n",
       "    </tr>\n",
       "    <tr>\n",
       "      <th>cocaina</th>\n",
       "      <td>-5.012867</td>\n",
       "    </tr>\n",
       "    <tr>\n",
       "      <th>semelhante maconha</th>\n",
       "      <td>-2.452086</td>\n",
       "    </tr>\n",
       "    <tr>\n",
       "      <th>maconha pesando</th>\n",
       "      <td>-2.163029</td>\n",
       "    </tr>\n",
       "    <tr>\n",
       "      <th>perícia</th>\n",
       "      <td>-1.886364</td>\n",
       "    </tr>\n",
       "    <tr>\n",
       "      <th>odor</th>\n",
       "      <td>-1.418984</td>\n",
       "    </tr>\n",
       "    <tr>\n",
       "      <th>crack pesando</th>\n",
       "      <td>-1.417142</td>\n",
       "    </tr>\n",
       "    <tr>\n",
       "      <th>cocaína pesando</th>\n",
       "      <td>-1.415791</td>\n",
       "    </tr>\n",
       "  </tbody>\n",
       "</table>\n",
       "</div>"
      ],
      "text/plain": [
       "                           0\n",
       "maconha            -9.621552\n",
       "cocaína            -6.567467\n",
       "crack              -6.460063\n",
       "cocaina            -5.012867\n",
       "semelhante maconha -2.452086\n",
       "maconha pesando    -2.163029\n",
       "perícia            -1.886364\n",
       "odor               -1.418984\n",
       "crack pesando      -1.417142\n",
       "cocaína pesando    -1.415791"
      ]
     },
     "metadata": {},
     "execution_count": 90
    }
   ],
   "metadata": {}
  },
  {
   "cell_type": "code",
   "execution_count": 91,
   "source": [
    "# coef_[1] -> Crack ou seja, os menores coeficientes para crack.\r\n",
    "pesos = pd.DataFrame(\r\n",
    "    regressaao_logistica2.coef_[1].T,\r\n",
    "    index =  tfidf.get_feature_names(),\r\n",
    ")\r\n",
    "\r\n",
    "pesos.nsmallest(10,0)"
   ],
   "outputs": [
    {
     "output_type": "execute_result",
     "data": {
      "text/html": [
       "<div>\n",
       "<style scoped>\n",
       "    .dataframe tbody tr th:only-of-type {\n",
       "        vertical-align: middle;\n",
       "    }\n",
       "\n",
       "    .dataframe tbody tr th {\n",
       "        vertical-align: top;\n",
       "    }\n",
       "\n",
       "    .dataframe thead th {\n",
       "        text-align: right;\n",
       "    }\n",
       "</style>\n",
       "<table border=\"1\" class=\"dataframe\">\n",
       "  <thead>\n",
       "    <tr style=\"text-align: right;\">\n",
       "      <th></th>\n",
       "      <th>0</th>\n",
       "    </tr>\n",
       "  </thead>\n",
       "  <tbody>\n",
       "    <tr>\n",
       "      <th>maconha</th>\n",
       "      <td>-6.752495</td>\n",
       "    </tr>\n",
       "    <tr>\n",
       "      <th>cocaína</th>\n",
       "      <td>-3.923700</td>\n",
       "    </tr>\n",
       "    <tr>\n",
       "      <th>cocaina</th>\n",
       "      <td>-2.862611</td>\n",
       "    </tr>\n",
       "    <tr>\n",
       "      <th>cigarro</th>\n",
       "      <td>-1.876182</td>\n",
       "    </tr>\n",
       "    <tr>\n",
       "      <th>pinos</th>\n",
       "      <td>-1.864810</td>\n",
       "    </tr>\n",
       "    <tr>\n",
       "      <th>maconha pesando</th>\n",
       "      <td>-1.859262</td>\n",
       "    </tr>\n",
       "    <tr>\n",
       "      <th>esverdeada</th>\n",
       "      <td>-1.855194</td>\n",
       "    </tr>\n",
       "    <tr>\n",
       "      <th>pó</th>\n",
       "      <td>-1.784946</td>\n",
       "    </tr>\n",
       "    <tr>\n",
       "      <th>erva</th>\n",
       "      <td>-1.741176</td>\n",
       "    </tr>\n",
       "    <tr>\n",
       "      <th>semelhante maconha</th>\n",
       "      <td>-1.461552</td>\n",
       "    </tr>\n",
       "  </tbody>\n",
       "</table>\n",
       "</div>"
      ],
      "text/plain": [
       "                           0\n",
       "maconha            -6.752495\n",
       "cocaína            -3.923700\n",
       "cocaina            -2.862611\n",
       "cigarro            -1.876182\n",
       "pinos              -1.864810\n",
       "maconha pesando    -1.859262\n",
       "esverdeada         -1.855194\n",
       "pó                 -1.784946\n",
       "erva               -1.741176\n",
       "semelhante maconha -1.461552"
      ]
     },
     "metadata": {},
     "execution_count": 91
    }
   ],
   "metadata": {}
  },
  {
   "cell_type": "code",
   "execution_count": 92,
   "source": [
    "# coef_[0] -> Ccaína, ou seja, os menores coeficientes para cocaína.\r\n",
    "pesos = pd.DataFrame(\r\n",
    "    regressaao_logistica2.coef_[0].T,\r\n",
    "    index =  tfidf.get_feature_names(),\r\n",
    ")\r\n",
    "\r\n",
    "pesos.nsmallest(10,0)"
   ],
   "outputs": [
    {
     "output_type": "execute_result",
     "data": {
      "text/html": [
       "<div>\n",
       "<style scoped>\n",
       "    .dataframe tbody tr th:only-of-type {\n",
       "        vertical-align: middle;\n",
       "    }\n",
       "\n",
       "    .dataframe tbody tr th {\n",
       "        vertical-align: top;\n",
       "    }\n",
       "\n",
       "    .dataframe thead th {\n",
       "        text-align: right;\n",
       "    }\n",
       "</style>\n",
       "<table border=\"1\" class=\"dataframe\">\n",
       "  <thead>\n",
       "    <tr style=\"text-align: right;\">\n",
       "      <th></th>\n",
       "      <th>0</th>\n",
       "    </tr>\n",
       "  </thead>\n",
       "  <tbody>\n",
       "    <tr>\n",
       "      <th>maconha</th>\n",
       "      <td>-6.900210</td>\n",
       "    </tr>\n",
       "    <tr>\n",
       "      <th>crack</th>\n",
       "      <td>-6.151209</td>\n",
       "    </tr>\n",
       "    <tr>\n",
       "      <th>erva</th>\n",
       "      <td>-2.509346</td>\n",
       "    </tr>\n",
       "    <tr>\n",
       "      <th>esverdeada</th>\n",
       "      <td>-2.503634</td>\n",
       "    </tr>\n",
       "    <tr>\n",
       "      <th>cigarro</th>\n",
       "      <td>-2.367941</td>\n",
       "    </tr>\n",
       "    <tr>\n",
       "      <th>pedras</th>\n",
       "      <td>-2.325840</td>\n",
       "    </tr>\n",
       "    <tr>\n",
       "      <th>papel</th>\n",
       "      <td>-1.594520</td>\n",
       "    </tr>\n",
       "    <tr>\n",
       "      <th>pedrinhas</th>\n",
       "      <td>-1.520630</td>\n",
       "    </tr>\n",
       "    <tr>\n",
       "      <th>vinculado</th>\n",
       "      <td>-1.495969</td>\n",
       "    </tr>\n",
       "    <tr>\n",
       "      <th>cigarros</th>\n",
       "      <td>-1.468609</td>\n",
       "    </tr>\n",
       "  </tbody>\n",
       "</table>\n",
       "</div>"
      ],
      "text/plain": [
       "                   0\n",
       "maconha    -6.900210\n",
       "crack      -6.151209\n",
       "erva       -2.509346\n",
       "esverdeada -2.503634\n",
       "cigarro    -2.367941\n",
       "pedras     -2.325840\n",
       "papel      -1.594520\n",
       "pedrinhas  -1.520630\n",
       "vinculado  -1.495969\n",
       "cigarros   -1.468609"
      ]
     },
     "metadata": {},
     "execution_count": 92
    }
   ],
   "metadata": {}
  },
  {
   "cell_type": "markdown",
   "source": [
    "# Teste de frases para o modelo"
   ],
   "metadata": {}
  },
  {
   "cell_type": "code",
   "execution_count": 147,
   "source": [
    "vetor_tfidf_teste_maconha = tfidf.transform(['Uma porção de maconha', '40g de erva verde em uma bolsa'])\r\n",
    "vetor_tfidf_teste_cocaina = tfidf.transform(['7 pinos com aprox. 20g', 'Saquinhos de pó achados em uma loja'])\r\n",
    "vetor_tfidf_teste_crack = tfidf.transform(['2 pedras de tom amarelado', '6 unidades de crac.'])\r\n",
    "vetor_tfidf_teste_drogas = tfidf.transform(['Bolsa apreendida com lsd', 'mdma'])"
   ],
   "outputs": [],
   "metadata": {}
  },
  {
   "cell_type": "code",
   "execution_count": 112,
   "source": [
    "regressaao_logistica2.predict(vetor_tfidf_teste_maconha)"
   ],
   "outputs": [
    {
     "output_type": "execute_result",
     "data": {
      "text/plain": [
       "array(['Maconha', 'Maconha'], dtype=object)"
      ]
     },
     "metadata": {},
     "execution_count": 112
    }
   ],
   "metadata": {}
  },
  {
   "cell_type": "code",
   "execution_count": 149,
   "source": [
    "regressaao_logistica2.predict(vetor_tfidf_teste_cocaina)"
   ],
   "outputs": [
    {
     "output_type": "execute_result",
     "data": {
      "text/plain": [
       "array(['Cocaína', 'Cocaína'], dtype=object)"
      ]
     },
     "metadata": {},
     "execution_count": 149
    }
   ],
   "metadata": {}
  },
  {
   "cell_type": "code",
   "execution_count": 148,
   "source": [
    "regressaao_logistica2.predict(vetor_tfidf_teste_crack)"
   ],
   "outputs": [
    {
     "output_type": "execute_result",
     "data": {
      "text/plain": [
       "array(['Crack', 'Crack'], dtype=object)"
      ]
     },
     "metadata": {},
     "execution_count": 148
    }
   ],
   "metadata": {}
  },
  {
   "cell_type": "code",
   "execution_count": 150,
   "source": [
    "regressaao_logistica2.predict(vetor_tfidf_teste_drogas)"
   ],
   "outputs": [
    {
     "output_type": "execute_result",
     "data": {
      "text/plain": [
       "array(['Drogas', 'Drogas'], dtype=object)"
      ]
     },
     "metadata": {},
     "execution_count": 150
    }
   ],
   "metadata": {}
  }
 ],
 "metadata": {
  "kernelspec": {
   "name": "python3",
   "display_name": "Python 3.9.7 64-bit (conda)"
  },
  "language_info": {
   "codemirror_mode": {
    "name": "ipython",
    "version": 3
   },
   "file_extension": ".py",
   "mimetype": "text/x-python",
   "name": "python",
   "nbconvert_exporter": "python",
   "pygments_lexer": "ipython3",
   "version": "3.9.7"
  },
  "interpreter": {
   "hash": "dab78f4d59ba6f70e46f434a1f395101b23afc19c4943827caa347c4a296b34f"
  }
 },
 "nbformat": 4,
 "nbformat_minor": 5
}