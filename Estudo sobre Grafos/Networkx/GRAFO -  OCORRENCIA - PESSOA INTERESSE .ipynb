{
 "cells": [
  {
   "cell_type": "markdown",
   "metadata": {},
   "source": [
    "### Tipo de grafo selecionado: Grafo não direcionado\n",
    "### Cálculo do Grau de Centralidade (Degree Centrality)\n",
    "### Cálculo Centralidade do Autovetor / Valor (Eigenvector)\n",
    "### Betweenness\n",
    "### Closeness"
   ]
  },
  {
   "cell_type": "code",
   "execution_count": 4,
   "metadata": {},
   "outputs": [],
   "source": [
    "import networkx as nx\n",
    "import ibm_db\n",
    "import ibm_db_dbi\n",
    "import pandas as pd\n",
    "from pyvis.network import Network\n",
    "import time"
   ]
  },
  {
   "cell_type": "markdown",
   "metadata": {},
   "source": [
    "### Função cria_grafo"
   ]
  },
  {
   "cell_type": "code",
   "execution_count": 1,
   "metadata": {},
   "outputs": [],
   "source": [
    "def cria_grafo(user,pwd):\n",
    "    \n",
    "    db = ibm_db.connect(\"DATABASE=BIGSQL;HOSTNAME=bigsql.pro.intra.rs.gov.br;PORT=32051;PROTOCOL=TCPIP;UID=\"+user+\";PWD=\"+pwd+\";\", \"\", \"\")\n",
    "    conn = ibm_db_dbi.Connection(db) \n",
    "    \n",
    "    # Selecionando ocorrência e pessoas de interesse\n",
    "    query = \"\"\" SELECT\n",
    "                    oc.NRO_INT_OCORRENCIA,\n",
    "                    poc.NRO_INT_PESSOA_INTERESSE, \n",
    "                    tp.TXT_DESCRICAO VINCULO\n",
    "                FROM\n",
    "                    GESEG_TARGET.GESEG_VER_OCORRENCIA oc\n",
    "                    INNER JOIN GESEG_TARGET.GESEG_DIM_GRUPO_FATO ft ON oc.NRO_INT_FATO = ft.NRO_INT_FATO\n",
    "                    INNER JOIN GESEG_TARGET.GESEG_VER_PARTICIPANTE_OCORRENCIA poc ON oc.NRO_INT_OCORRENCIA = poc.NRO_INT_OCORRENCIA\n",
    "                    INNER JOIN GESEG_TARGET.GESEG_DIM_TIPO_PARTICIPACAO tp ON poc.NRO_INT_TIPO_PARTICIPACAO = tp.NRO_INT_TIPO_PARTICIPACAO -- Coloquei para descobrir participação pessoa de interesse\n",
    "                WHERE\n",
    "                    ft.NRO_INT_FATO IN (201003,201013,201012,201009,201015,201025,201006,202567,202540,202545,202536,202549,202561,202565,202553,202557,201004,201005)\n",
    "                    AND YEAR(DATA_FATO) IN (2016,2017)\n",
    "                    AND poc.NRO_INT_TIPO_PARTICIPACAO IN (4,7,8,13,14)\n",
    "                GROUP BY oc.NRO_INT_OCORRENCIA, poc.NRO_INT_PESSOA_INTERESSE,tp.TXT_DESCRICAO;\"\"\"\n",
    "    \n",
    "    df = pd.read_sql_query(query, conn)\n",
    "    # title é utilizado para aparecer o tipo de vínculo quando o mouse passar pela aresta\n",
    "    df['title'] = df['VINCULO']\n",
    "    \n",
    "    #informando quais colunas da tabela serão o source, target e demais atributos;\n",
    "    D = nx.from_pandas_edgelist(df, source = 'NRO_INT_OCORRENCIA', target = 'NRO_INT_PESSOA_INTERESSE', edge_attr= True, create_using=nx.Graph())\n",
    "    \n",
    "    # definindo o atributo 'tipo_no' para todos os nós\n",
    "    for n in D.nodes:\n",
    "        D.nodes[n].setdefault('TIPO_NO', 'sem_descricao')\n",
    "        \n",
    "    # NÓ OCORRÊNCIA\n",
    "    #buscando os atributos do vértice \n",
    "    query = \"\"\"SELECT\n",
    "                    oc.NRO_INT_OCORRENCIA,\n",
    "                    ft.DESC_FATO Fato,\n",
    "                    DATA_REGISTRO,\n",
    "                    HORA_REGISTRO,\n",
    "                    DATA_FATO,\n",
    "                    HORA_FATO,\n",
    "                    count(*) envolvimentos,\n",
    "                    count(DISTINCT poc.NRO_INT_PESSOA_INTERESSE) pessoas_envolvidas\n",
    "                FROM\n",
    "                    GESEG_TARGET.GESEG_VER_OCORRENCIA oc\n",
    "                    INNER JOIN GESEG_TARGET.GESEG_DIM_GRUPO_FATO ft ON oc.NRO_INT_FATO = ft.NRO_INT_FATO\n",
    "                    INNER JOIN GESEG_TARGET.GESEG_VER_PARTICIPANTE_OCORRENCIA poc ON oc.NRO_INT_OCORRENCIA = poc.NRO_INT_OCORRENCIA\n",
    "                WHERE\n",
    "                    ft.NRO_INT_FATO IN (201003,201013,201012,201009,201015,201025,201006,202567,202540,202545,202536,202549,202561,202565,202553,202557,201004,201005)\n",
    "                    AND YEAR(DATA_FATO) IN (2016,2017)\n",
    "                    AND poc.NRO_INT_TIPO_PARTICIPACAO IN (4,7,8,13,14)\n",
    "                GROUP BY oc.NRO_INT_OCORRENCIA, DATA_REGISTRO, DATA_FATO, ft.DESC_FATO, HORA_FATO, HORA_REGISTRO;\"\"\"\n",
    "\n",
    "    #TRANSFERINDO DADOS PARA TABELA\n",
    "    df_node_ocor = pd.read_sql_query(query, conn)\n",
    "    \n",
    "    #Criando shape e cor diferente para os nós ocorrência\n",
    "    df_node_ocor['TIPO_NO'] = 'ocorrencia'\n",
    "    df_node_ocor['NUMERO'] = df_node_ocor['NRO_INT_OCORRENCIA']\n",
    "    df_node_ocor['shape'] = 'triangle'\n",
    "    df_node_ocor['color'] = 'orange'\n",
    "    df_node_ocor['label'] = ' '\n",
    "    df_node_ocor['title'] = 'Ocorrência: ' + df_node_ocor['NRO_INT_OCORRENCIA'].astype(str) + '\\n Fato: ' + df_node_ocor['FATO']\n",
    "\n",
    "    #formatando o atributo Data\n",
    "    df_node_ocor['DATA_FATO'] = pd.to_datetime(df_node_ocor['DATA_FATO'])\n",
    "    df_node_ocor['DATA_FATO'] = df_node_ocor['DATA_FATO'].dt.strftime('%Y-%m-%d')\n",
    "    df_node_ocor['DATA_REGISTRO'] = pd.to_datetime(df_node_ocor['DATA_REGISTRO'])\n",
    "    df_node_ocor['DATA_REGISTRO'] = df_node_ocor['DATA_REGISTRO'].dt.strftime('%Y-%m-%d')\n",
    "    \n",
    "    #transformando a tabela em um dicionário para atribuir os dados aos vértices 'ocorrencia'\n",
    "    node_ocorr_atrib = df_node_ocor.set_index(\"NRO_INT_OCORRENCIA\").T.to_dict()\n",
    "    # atributo \n",
    "    nx.set_node_attributes(D, node_ocorr_atrib)\n",
    "    \n",
    "    #NÓ PESSOA DE INTERESSE\n",
    "    # atributos do nó\n",
    "    query = \"\"\"SELECT\n",
    "                    DISTINCT pi.NRO_INT_PESSOA_INTERESSE,\n",
    "                    pi.NOME\n",
    "                FROM\n",
    "                    GESEG_TARGET.GESEG_VER_PESSOA_INTERESSE pi\n",
    "                WHERE\n",
    "                    NRO_INT_PESSOA_INTERESSE IN (\n",
    "                    SELECT \n",
    "                        poc.NRO_INT_PESSOA_INTERESSE\n",
    "                    FROM\n",
    "                        GESEG_TARGET.GESEG_VER_OCORRENCIA oc\n",
    "                        INNER JOIN GESEG_TARGET.GESEG_DIM_GRUPO_FATO ft ON oc.NRO_INT_FATO = ft.NRO_INT_FATO\n",
    "                        INNER JOIN GESEG_TARGET.GESEG_VER_PARTICIPANTE_OCORRENCIA poc ON oc.NRO_INT_OCORRENCIA = poc.NRO_INT_OCORRENCIA\n",
    "                    WHERE ft.NRO_INT_FATO IN (201003,201013,201012,201009,201015,201025,201006,202567,202540,202545,202536,202549,202561,202565,202553,202557,201004,201005)\n",
    "                        AND YEAR(DATA_FATO) IN (2016,2017)\n",
    "                        AND poc.NRO_INT_TIPO_PARTICIPACAO IN (4,7,8,13,14)\n",
    "                    );\"\"\"\n",
    "    \n",
    "    #TRANSFERINDO DADOS PARA TABELA\n",
    "    df_node_pi = pd.read_sql_query(query, conn)\n",
    "    \n",
    "    #Retirando o label dos nós\n",
    "    df_node_pi['TIPO_NO'] = 'pessoa'\n",
    "    df_node_pi['label'] = ' '\n",
    "    df_node_pi['title'] = df_node_pi['NOME']\n",
    "    df_node_pi['NUMERO'] = df_node_pi['NRO_INT_PESSOA_INTERESSE']\n",
    "    \n",
    "    #transformando a tabela em um dicionário para atribuir os dados aos vértices 'pesso interesse'\n",
    "    node_ocorr_atrib2 = df_node_pi.set_index(\"NRO_INT_PESSOA_INTERESSE\").T.to_dict()\n",
    "    # definindo atributos\n",
    "    nx.set_node_attributes(D, node_ocorr_atrib2)\n",
    "            \n",
    "    conn.close()\n",
    "    return D;"
   ]
  },
  {
   "cell_type": "code",
   "execution_count": 2,
   "metadata": {},
   "outputs": [],
   "source": [
    "# plotar o grafo\n",
    "def plot_g_pyviz(G, name='out.html', height='300px', width='100%',notebook=True, directed=False):\n",
    "    g = G.copy() # some attributes added to nodes\n",
    "    net = Network(notebook=notebook, directed=directed, height=height, width=width)\n",
    "    opts = '''\n",
    "        var options = {\n",
    "          \"physics\": {\n",
    "            \"forceAtlas2Based\": {\n",
    "              \"gravitationalConstant\": -100,\n",
    "              \"centralGravity\": 0.11,\n",
    "              \"springLength\": 100,\n",
    "              \"springConstant\": 0.09,\n",
    "              \"avoidOverlap\": 1\n",
    "            },\n",
    "            \"minVelocity\": 0.75,\n",
    "            \"solver\": \"forceAtlas2Based\",\n",
    "            \"timestep\": 0.22\n",
    "          }\n",
    "        }\n",
    "    '''\n",
    "\n",
    "    net.set_options(opts)\n",
    "    # uncomment this to play with layout\n",
    "    # net.show_buttons(filter_=['physics'])\n",
    "    net.from_nx(g)\n",
    "    return net.show(name)"
   ]
  },
  {
   "cell_type": "markdown",
   "metadata": {},
   "source": [
    "### Criando grafo"
   ]
  },
  {
   "cell_type": "code",
   "execution_count": 5,
   "metadata": {},
   "outputs": [
    {
     "name": "stdout",
     "output_type": "stream",
     "text": [
      "Tempo de execução criação de grafo: 12.988897323608398 segundos\n"
     ]
    }
   ],
   "source": [
    "# CRIANDO GRAFO\n",
    "\n",
    "#COLOCAR CREDENCIAIS para acessar o banco\n",
    "user = \"XXXXXXXXX\"\n",
    "pwd = \"XXXXXXXXX\"\n",
    "\n",
    "t1 = time.time()\n",
    "# chamando função\n",
    "G = cria_grafo(user, pwd)\n",
    "tempoExec = time.time() - t1\n",
    "print(\"Tempo de execução criação de grafo: {} segundos\".format(tempoExec))"
   ]
  },
  {
   "cell_type": "code",
   "execution_count": 6,
   "metadata": {},
   "outputs": [
    {
     "name": "stdout",
     "output_type": "stream",
     "text": [
      "['4025CAD23B7ED014F4A421D5866337C7']\n"
     ]
    }
   ],
   "source": [
    "# verificando se todos os nós estão com o 'tipo' definido\n",
    "teste = (n for n in G if G.nodes[n]['TIPO_NO']== 'sem_descricao')\n",
    "print(sorted(teste))"
   ]
  },
  {
   "cell_type": "code",
   "execution_count": 11,
   "metadata": {},
   "outputs": [
    {
     "data": {
      "text/html": [
       "\n",
       "        <iframe\n",
       "            width=\"100%\"\n",
       "            height=\"300px\"\n",
       "            src=\"OUT1grafo_nd.html\"\n",
       "            frameborder=\"0\"\n",
       "            allowfullscreen\n",
       "        ></iframe>\n",
       "        "
      ],
      "text/plain": [
       "<IPython.lib.display.IFrame at 0x1e89a76ec88>"
      ]
     },
     "execution_count": 11,
     "metadata": {},
     "output_type": "execute_result"
    }
   ],
   "source": [
    "# Testando \n",
    "T2= nx.generators.ego_graph(G, 31025120, radius=1, center = True, undirected = True)\n",
    "\n",
    "# plotar o grafo\n",
    "plot_g_pyviz(T2,name='OUT1grafo_nd.html' ,notebook = True, directed = False)"
   ]
  },
  {
   "cell_type": "code",
   "execution_count": 19,
   "metadata": {},
   "outputs": [
    {
     "name": "stdout",
     "output_type": "stream",
     "text": [
      "número de vértices:  18367\n",
      "número de arestas:  12756\n"
     ]
    }
   ],
   "source": [
    "print('número de vértices: ',G.number_of_nodes())\n",
    "print('número de arestas: ',G.number_of_edges())"
   ]
  },
  {
   "cell_type": "code",
   "execution_count": 15,
   "metadata": {},
   "outputs": [
    {
     "name": "stdout",
     "output_type": "stream",
     "text": [
      "Número de comunidades encontradas:  6348\n"
     ]
    }
   ],
   "source": [
    "# Comunidades\n",
    "\n",
    "import community\n",
    "\n",
    "partition = community.best_partition(G)\n",
    "values = [partition.get(node) for node in G.nodes()]\n",
    "print(\"Número de comunidades encontradas: \", len(set(values)))"
   ]
  },
  {
   "cell_type": "code",
   "execution_count": 16,
   "metadata": {},
   "outputs": [
    {
     "name": "stdout",
     "output_type": "stream",
     "text": [
      "Grau médio dos nós: 1.39\n"
     ]
    }
   ],
   "source": [
    "import numpy as np\n",
    "\n",
    "deg = nx.degree(G)\n",
    "deg_seq = [d for n,d in deg]\n",
    "\n",
    "nos = G.number_of_nodes()\n",
    "grau_med = sum(deg_seq)/ nos\n",
    "\n",
    "print(\"Grau médio dos nós: {:04.2f}\".format(grau_med))"
   ]
  },
  {
   "cell_type": "markdown",
   "metadata": {},
   "source": [
    "Abaixo do parâmetro de Molloy-Reed; a rede não possui um componente gigante."
   ]
  },
  {
   "cell_type": "code",
   "execution_count": 17,
   "metadata": {},
   "outputs": [
    {
     "name": "stdout",
     "output_type": "stream",
     "text": [
      "Densidade do grafo: 0.0001\n"
     ]
    }
   ],
   "source": [
    "# Densidade: o quão esparsa é a rede; nível de conectividade\n",
    "dens = nx.density(G)\n",
    "print(\"Densidade do grafo: {:04.4f}\".format(dens))"
   ]
  },
  {
   "cell_type": "code",
   "execution_count": 18,
   "metadata": {},
   "outputs": [
    {
     "name": "stdout",
     "output_type": "stream",
     "text": [
      "Eficiência do grafo: 0.0004\n"
     ]
    }
   ],
   "source": [
    "# Eficiência da rede: se as conexões estão contribuindo para a redução do tamanho dos caminhos da rede\n",
    "efic = nx.global_efficiency(G)\n",
    "print(\"Eficiência do grafo: {:04.4f}\" .format(efic))"
   ]
  },
  {
   "cell_type": "code",
   "execution_count": 20,
   "metadata": {},
   "outputs": [
    {
     "name": "stdout",
     "output_type": "stream",
     "text": [
      "Coeficiente de aglomeração médio: 0.0000\n"
     ]
    }
   ],
   "source": [
    "# Coeficiente de aglomeração: coesão do grupo a que o nó pertence. Quanto mais os vizinhos do nó se conhecerem,\n",
    "#maior é o coeficiente de aglomeração, mais coeso é o grupo.\n",
    "md_ca = nx.average_clustering(G)\n",
    "print(\"Coeficiente de aglomeração médio: {:04.4f}\".format(md_ca))\n"
   ]
  },
  {
   "cell_type": "markdown",
   "metadata": {},
   "source": [
    "Conforme o artigo: \"Redes de cauda pesada apresentam muitos indivíduos fracamente relacionados e alguns poucos indivíduos-chave (também chamados de alvos-chaves) que são muito relacionados (também chamados de hubs).\""
   ]
  },
  {
   "cell_type": "markdown",
   "metadata": {},
   "source": [
    "## Algoritmos de Centralidade"
   ]
  },
  {
   "cell_type": "markdown",
   "metadata": {},
   "source": [
    "### Grau de centralidade \n",
    "É uma medida do número de links diretos para outros nós na rede. É uma medida local, pois seu valor é calculado com base no número de links que um nó tem com os outros nós diretamente adjacentes a ele. Atores em redes sociais com um alto grau de centralidade servem como hubs e como principais canais de informação. Nas redes sociais, por exemplo, a distribuição de graus de nós segue uma distribuição de leis de potência, o que significa que muito poucos nós têm um número extremamente grande de conexões. Naturalmente, esses nós de alto grau têm mais impacto na rede do que outros nós e, portanto, são considerados mais importantes."
   ]
  },
  {
   "cell_type": "code",
   "execution_count": 22,
   "metadata": {},
   "outputs": [
    {
     "name": "stdout",
     "output_type": "stream",
     "text": [
      "Tempo de execução: 0.013 segundos\n",
      " \n"
     ]
    }
   ],
   "source": [
    "# grau de centralidade\n",
    "t1 = time.time()\n",
    "dg = nx.degree_centrality(G)\n",
    "tempoExec = time.time() - t1\n",
    "\n",
    "print(\"Tempo de execução: {} segundos\".format(\"%.3f\" %tempoExec))\n",
    "print(' ')"
   ]
  },
  {
   "cell_type": "code",
   "execution_count": 23,
   "metadata": {},
   "outputs": [
    {
     "data": {
      "text/html": [
       "<div>\n",
       "<style scoped>\n",
       "    .dataframe tbody tr th:only-of-type {\n",
       "        vertical-align: middle;\n",
       "    }\n",
       "\n",
       "    .dataframe tbody tr th {\n",
       "        vertical-align: top;\n",
       "    }\n",
       "\n",
       "    .dataframe thead th {\n",
       "        text-align: right;\n",
       "    }\n",
       "</style>\n",
       "<table border=\"1\" class=\"dataframe\">\n",
       "  <thead>\n",
       "    <tr style=\"text-align: right;\">\n",
       "      <th></th>\n",
       "      <th>Nome</th>\n",
       "      <th>Grau de Centralidade</th>\n",
       "      <th>Posição</th>\n",
       "    </tr>\n",
       "    <tr>\n",
       "      <th>Num_Pessoa_Interesse</th>\n",
       "      <th></th>\n",
       "      <th></th>\n",
       "      <th></th>\n",
       "    </tr>\n",
       "  </thead>\n",
       "  <tbody>\n",
       "    <tr>\n",
       "      <th>FCCE57960B6D4FB3A366E2E2C79B65E8</th>\n",
       "      <td>JOSE DALVANI NUNES RODRIGUES</td>\n",
       "      <td>0.0030</td>\n",
       "      <td>1</td>\n",
       "    </tr>\n",
       "    <tr>\n",
       "      <th>1495C1291F438A12CBE7284F2383F2F1</th>\n",
       "      <td>MAGNO BERLIM DA SILVA CARDOSO</td>\n",
       "      <td>0.0014</td>\n",
       "      <td>2</td>\n",
       "    </tr>\n",
       "    <tr>\n",
       "      <th>A78C1C54C25E3060E8928CDE8116786F</th>\n",
       "      <td>DOUGLAS GONCALVES ROMANO DOS SANTOS</td>\n",
       "      <td>0.0013</td>\n",
       "      <td>3</td>\n",
       "    </tr>\n",
       "    <tr>\n",
       "      <th>9B7F3C93D1827BD878FD59888217D131</th>\n",
       "      <td>JEFERSON OLIVEIRA ALMEIDA</td>\n",
       "      <td>0.0011</td>\n",
       "      <td>4</td>\n",
       "    </tr>\n",
       "    <tr>\n",
       "      <th>71B94064FD47CA2D303503957F0205F2</th>\n",
       "      <td>DENISON RICARDO MONTEIRO DOS SANTOS</td>\n",
       "      <td>0.0011</td>\n",
       "      <td>5</td>\n",
       "    </tr>\n",
       "    <tr>\n",
       "      <th>447D0A2A26480DD396229DD865B7D903</th>\n",
       "      <td>ALEXANDRE DA SILVA SOUZA</td>\n",
       "      <td>0.0009</td>\n",
       "      <td>6</td>\n",
       "    </tr>\n",
       "    <tr>\n",
       "      <th>EAB801B9A077838A4444AD8A69D2B6C5</th>\n",
       "      <td>DOUGLAS MACHADO GOMES</td>\n",
       "      <td>0.0009</td>\n",
       "      <td>7</td>\n",
       "    </tr>\n",
       "    <tr>\n",
       "      <th>AC6D8A4288508D5ED1DD7D37AB133CC0</th>\n",
       "      <td>MARCELO ASSIS DOS SANTOS</td>\n",
       "      <td>0.0009</td>\n",
       "      <td>8</td>\n",
       "    </tr>\n",
       "    <tr>\n",
       "      <th>F0D4A6433AF58E5855BA79DD43BDD832</th>\n",
       "      <td>ERICK VINICIUS DA SILVA MATTOS</td>\n",
       "      <td>0.0009</td>\n",
       "      <td>9</td>\n",
       "    </tr>\n",
       "    <tr>\n",
       "      <th>76E93116575CD38FC73B37F6BC241ECB</th>\n",
       "      <td>JULIANO DA SILVA FRAGA</td>\n",
       "      <td>0.0008</td>\n",
       "      <td>12</td>\n",
       "    </tr>\n",
       "  </tbody>\n",
       "</table>\n",
       "</div>"
      ],
      "text/plain": [
       "                                                                 Nome  \\\n",
       "Num_Pessoa_Interesse                                                    \n",
       "FCCE57960B6D4FB3A366E2E2C79B65E8         JOSE DALVANI NUNES RODRIGUES   \n",
       "1495C1291F438A12CBE7284F2383F2F1        MAGNO BERLIM DA SILVA CARDOSO   \n",
       "A78C1C54C25E3060E8928CDE8116786F  DOUGLAS GONCALVES ROMANO DOS SANTOS   \n",
       "9B7F3C93D1827BD878FD59888217D131            JEFERSON OLIVEIRA ALMEIDA   \n",
       "71B94064FD47CA2D303503957F0205F2  DENISON RICARDO MONTEIRO DOS SANTOS   \n",
       "447D0A2A26480DD396229DD865B7D903             ALEXANDRE DA SILVA SOUZA   \n",
       "EAB801B9A077838A4444AD8A69D2B6C5                DOUGLAS MACHADO GOMES   \n",
       "AC6D8A4288508D5ED1DD7D37AB133CC0             MARCELO ASSIS DOS SANTOS   \n",
       "F0D4A6433AF58E5855BA79DD43BDD832       ERICK VINICIUS DA SILVA MATTOS   \n",
       "76E93116575CD38FC73B37F6BC241ECB               JULIANO DA SILVA FRAGA   \n",
       "\n",
       "                                  Grau de Centralidade  Posição  \n",
       "Num_Pessoa_Interesse                                             \n",
       "FCCE57960B6D4FB3A366E2E2C79B65E8                0.0030        1  \n",
       "1495C1291F438A12CBE7284F2383F2F1                0.0014        2  \n",
       "A78C1C54C25E3060E8928CDE8116786F                0.0013        3  \n",
       "9B7F3C93D1827BD878FD59888217D131                0.0011        4  \n",
       "71B94064FD47CA2D303503957F0205F2                0.0011        5  \n",
       "447D0A2A26480DD396229DD865B7D903                0.0009        6  \n",
       "EAB801B9A077838A4444AD8A69D2B6C5                0.0009        7  \n",
       "AC6D8A4288508D5ED1DD7D37AB133CC0                0.0009        8  \n",
       "F0D4A6433AF58E5855BA79DD43BDD832                0.0009        9  \n",
       "76E93116575CD38FC73B37F6BC241ECB                0.0008       12  "
      ]
     },
     "execution_count": 23,
     "metadata": {},
     "output_type": "execute_result"
    }
   ],
   "source": [
    "# Tabela\n",
    "d = dict(G.nodes(data=\"title\", default=1))\n",
    "id_nome = pd.DataFrame(list(d.items()),columns=['Num_Pessoa_Interesse', 'title'])\n",
    "id_nome.set_index('Num_Pessoa_Interesse',inplace=True)\n",
    "\n",
    "aux_dg = pd.DataFrame(list(dg.items()), columns=['Num_Pessoa_Interesse', 'Grau de Centralidade'])\n",
    "aux_dg.set_index('Num_Pessoa_Interesse',inplace=True)\n",
    "\n",
    "rankings_dg = pd.concat([id_nome, aux_dg], axis=1)\n",
    "rankings_dg.columns = ['Nome','Grau de Centralidade'] \n",
    "rankings_dg.sort_values('Grau de Centralidade', ascending = False, inplace = True)\n",
    "\n",
    "N = 18367\n",
    "rankings_dg['Posição'] = range(1, N + 1)\n",
    "\n",
    "dg_filt = rankings_dg[rankings_dg[\"Nome\"].str.contains('Ocorrência:')==False]\n",
    "dg_filt.head(10).round(4)"
   ]
  },
  {
   "cell_type": "markdown",
   "metadata": {},
   "source": [
    "### Algoritmo Eigenvector (Centralidade do autovetor)\n",
    "A medida de Centralidade do autovetor descreve a centralidade de um nó em relação à estrutura global da rede. Ela atribui pontuações relativas a todos os nós na rede com base no conceito de que as conexões para nós com alta pontuação contribuem mais do que as conexões para nós com baixa pontuação.\n",
    "Ela mede a extensão em que um nó é conectado a nós bem conectados.\n",
    "Nós com alta pontuação são considerados influentes por estarem conectados a nós importantes. Enquanto permanecem em grande parte nas sombras, eles podem explorar o poder dado por conhecer nós bem conectados."
   ]
  },
  {
   "cell_type": "code",
   "execution_count": 24,
   "metadata": {},
   "outputs": [
    {
     "name": "stdout",
     "output_type": "stream",
     "text": [
      "Tempo de execução: 0.309 segundos\n",
      " \n"
     ]
    }
   ],
   "source": [
    "t1 = time.time()\n",
    "# centralidade do autovetor\n",
    "ec = nx.eigenvector_centrality_numpy(G) # função mais rápida; não precisa converter\n",
    "tempoExec = time.time() - t1\n",
    "\n",
    "print(\"Tempo de execução: {} segundos\".format(\"%.3f\" %tempoExec))\n",
    "print(' ')"
   ]
  },
  {
   "cell_type": "code",
   "execution_count": 25,
   "metadata": {},
   "outputs": [
    {
     "data": {
      "text/html": [
       "<div>\n",
       "<style scoped>\n",
       "    .dataframe tbody tr th:only-of-type {\n",
       "        vertical-align: middle;\n",
       "    }\n",
       "\n",
       "    .dataframe tbody tr th {\n",
       "        vertical-align: top;\n",
       "    }\n",
       "\n",
       "    .dataframe thead th {\n",
       "        text-align: right;\n",
       "    }\n",
       "</style>\n",
       "<table border=\"1\" class=\"dataframe\">\n",
       "  <thead>\n",
       "    <tr style=\"text-align: right;\">\n",
       "      <th></th>\n",
       "      <th>Nome</th>\n",
       "      <th>Eigenvector</th>\n",
       "      <th>Posição</th>\n",
       "    </tr>\n",
       "    <tr>\n",
       "      <th>Num_Pessoa_Interesse</th>\n",
       "      <th></th>\n",
       "      <th></th>\n",
       "      <th></th>\n",
       "    </tr>\n",
       "  </thead>\n",
       "  <tbody>\n",
       "    <tr>\n",
       "      <th>FCCE57960B6D4FB3A366E2E2C79B65E8</th>\n",
       "      <td>JOSE DALVANI NUNES RODRIGUES</td>\n",
       "      <td>0.4165</td>\n",
       "      <td>1</td>\n",
       "    </tr>\n",
       "    <tr>\n",
       "      <th>1495C1291F438A12CBE7284F2383F2F1</th>\n",
       "      <td>MAGNO BERLIM DA SILVA CARDOSO</td>\n",
       "      <td>0.2677</td>\n",
       "      <td>2</td>\n",
       "    </tr>\n",
       "    <tr>\n",
       "      <th>A78C1C54C25E3060E8928CDE8116786F</th>\n",
       "      <td>DOUGLAS GONCALVES ROMANO DOS SANTOS</td>\n",
       "      <td>0.2410</td>\n",
       "      <td>3</td>\n",
       "    </tr>\n",
       "    <tr>\n",
       "      <th>71B94064FD47CA2D303503957F0205F2</th>\n",
       "      <td>DENISON RICARDO MONTEIRO DOS SANTOS</td>\n",
       "      <td>0.2364</td>\n",
       "      <td>4</td>\n",
       "    </tr>\n",
       "    <tr>\n",
       "      <th>9B7F3C93D1827BD878FD59888217D131</th>\n",
       "      <td>JEFERSON OLIVEIRA ALMEIDA</td>\n",
       "      <td>0.1898</td>\n",
       "      <td>6</td>\n",
       "    </tr>\n",
       "    <tr>\n",
       "      <th>76E93116575CD38FC73B37F6BC241ECB</th>\n",
       "      <td>JULIANO DA SILVA FRAGA</td>\n",
       "      <td>0.1739</td>\n",
       "      <td>9</td>\n",
       "    </tr>\n",
       "    <tr>\n",
       "      <th>05E01F13B8497FA74AE3241F37741A9B</th>\n",
       "      <td>PAULO RICARDO DA ROSA SANTOS</td>\n",
       "      <td>0.1364</td>\n",
       "      <td>16</td>\n",
       "    </tr>\n",
       "    <tr>\n",
       "      <th>C348D60507F5D21F955EE964FCCCEBA0</th>\n",
       "      <td>DOUGLAS LOHAN RODRIGUES DA SILVA</td>\n",
       "      <td>0.1329</td>\n",
       "      <td>17</td>\n",
       "    </tr>\n",
       "    <tr>\n",
       "      <th>6E7C0DA4D145EE7CE950C0B16F2A2DB6</th>\n",
       "      <td>WILLIAM OTAVIO OLIVEIRA DA SILVA</td>\n",
       "      <td>0.0838</td>\n",
       "      <td>28</td>\n",
       "    </tr>\n",
       "    <tr>\n",
       "      <th>3BA283B02EA6605433C8BB86221868F1</th>\n",
       "      <td>REGINALDO FLORENCIO DA SILVA</td>\n",
       "      <td>0.0616</td>\n",
       "      <td>42</td>\n",
       "    </tr>\n",
       "  </tbody>\n",
       "</table>\n",
       "</div>"
      ],
      "text/plain": [
       "                                                                 Nome  \\\n",
       "Num_Pessoa_Interesse                                                    \n",
       "FCCE57960B6D4FB3A366E2E2C79B65E8         JOSE DALVANI NUNES RODRIGUES   \n",
       "1495C1291F438A12CBE7284F2383F2F1        MAGNO BERLIM DA SILVA CARDOSO   \n",
       "A78C1C54C25E3060E8928CDE8116786F  DOUGLAS GONCALVES ROMANO DOS SANTOS   \n",
       "71B94064FD47CA2D303503957F0205F2  DENISON RICARDO MONTEIRO DOS SANTOS   \n",
       "9B7F3C93D1827BD878FD59888217D131            JEFERSON OLIVEIRA ALMEIDA   \n",
       "76E93116575CD38FC73B37F6BC241ECB               JULIANO DA SILVA FRAGA   \n",
       "05E01F13B8497FA74AE3241F37741A9B         PAULO RICARDO DA ROSA SANTOS   \n",
       "C348D60507F5D21F955EE964FCCCEBA0     DOUGLAS LOHAN RODRIGUES DA SILVA   \n",
       "6E7C0DA4D145EE7CE950C0B16F2A2DB6     WILLIAM OTAVIO OLIVEIRA DA SILVA   \n",
       "3BA283B02EA6605433C8BB86221868F1         REGINALDO FLORENCIO DA SILVA   \n",
       "\n",
       "                                  Eigenvector  Posição  \n",
       "Num_Pessoa_Interesse                                    \n",
       "FCCE57960B6D4FB3A366E2E2C79B65E8       0.4165        1  \n",
       "1495C1291F438A12CBE7284F2383F2F1       0.2677        2  \n",
       "A78C1C54C25E3060E8928CDE8116786F       0.2410        3  \n",
       "71B94064FD47CA2D303503957F0205F2       0.2364        4  \n",
       "9B7F3C93D1827BD878FD59888217D131       0.1898        6  \n",
       "76E93116575CD38FC73B37F6BC241ECB       0.1739        9  \n",
       "05E01F13B8497FA74AE3241F37741A9B       0.1364       16  \n",
       "C348D60507F5D21F955EE964FCCCEBA0       0.1329       17  \n",
       "6E7C0DA4D145EE7CE950C0B16F2A2DB6       0.0838       28  \n",
       "3BA283B02EA6605433C8BB86221868F1       0.0616       42  "
      ]
     },
     "execution_count": 25,
     "metadata": {},
     "output_type": "execute_result"
    }
   ],
   "source": [
    "# Tabela\n",
    "aux_ec = pd.DataFrame(list(ec.items()), columns=['Num_Pessoa_Interesse', 'Eigenvector'])\n",
    "aux_ec.set_index('Num_Pessoa_Interesse',inplace=True)\n",
    "\n",
    "rankings_ec = pd.concat([id_nome, aux_ec], axis=1)\n",
    "rankings_ec.columns = ['Nome','Eigenvector'] \n",
    "rankings_ec.sort_values('Eigenvector', ascending = False, inplace = True)\n",
    "\n",
    "N = 18367\n",
    "rankings_ec['Posição'] = range(1, N + 1)\n",
    "\n",
    "ec_filt = rankings_ec[rankings_ec[\"Nome\"].str.contains('Ocorrência:')==False]\n",
    "ec_filt.head(10).round(4)"
   ]
  },
  {
   "cell_type": "markdown",
   "metadata": {},
   "source": [
    "### Algoritmo Betweenness (Centralidade de Interdependência)\n",
    "Mede o número de caminhos mais curtos em que o nó se encontra. A Centralidade de Interdependência pode ser descrita como quão\n",
    "importante um nó é, como um link entre diferentes redes. Nós com alta centralidade de interdependência controlam o fluxo de informação porque eles formam pontes críticas entre outros nós ou grupos de nós.\n",
    "A Centralidade de Interdependência mostra quais nós são prováveis caminhos de informação e pode ser usado para determinar como um grafo irá separar os nós. Da mesma forma, é uma maneira de identificar aqueles que atuam como pontes (também chamadas de chaves de limite) entre dois ou mais segmentos de grafos que, de outra forma, não seriam capazes de se comunicar\n",
    "entre si. Essa medida toca na importância que um ator pode ganhar estando no meio das comunicações sociais de uma rede e em que medida, em uma sociedade, ele é necessário como elo na cadeia de contatos."
   ]
  },
  {
   "cell_type": "code",
   "execution_count": 28,
   "metadata": {},
   "outputs": [
    {
     "name": "stdout",
     "output_type": "stream",
     "text": [
      "Tempo de execução: 243.301 segundos\n",
      " \n"
     ]
    }
   ],
   "source": [
    "t1 = time.time()\n",
    "bc = nx.betweenness_centrality(G)\n",
    "tempoExec = time.time() - t1\n",
    "\n",
    "print(\"Tempo de execução: {} segundos\".format(\"%.3f\" %tempoExec))\n",
    "print(' ')"
   ]
  },
  {
   "cell_type": "code",
   "execution_count": 29,
   "metadata": {},
   "outputs": [
    {
     "data": {
      "text/html": [
       "<div>\n",
       "<style scoped>\n",
       "    .dataframe tbody tr th:only-of-type {\n",
       "        vertical-align: middle;\n",
       "    }\n",
       "\n",
       "    .dataframe tbody tr th {\n",
       "        vertical-align: top;\n",
       "    }\n",
       "\n",
       "    .dataframe thead th {\n",
       "        text-align: right;\n",
       "    }\n",
       "</style>\n",
       "<table border=\"1\" class=\"dataframe\">\n",
       "  <thead>\n",
       "    <tr style=\"text-align: right;\">\n",
       "      <th></th>\n",
       "      <th>Nome</th>\n",
       "      <th>Betweenness</th>\n",
       "      <th>Posição</th>\n",
       "    </tr>\n",
       "    <tr>\n",
       "      <th>Num_Pessoa_Interesse</th>\n",
       "      <th></th>\n",
       "      <th></th>\n",
       "      <th></th>\n",
       "    </tr>\n",
       "  </thead>\n",
       "  <tbody>\n",
       "    <tr>\n",
       "      <th>FCCE57960B6D4FB3A366E2E2C79B65E8</th>\n",
       "      <td>JOSE DALVANI NUNES RODRIGUES</td>\n",
       "      <td>0.0016</td>\n",
       "      <td>1</td>\n",
       "    </tr>\n",
       "    <tr>\n",
       "      <th>0765A653C03AC699E2322F5280FE2CBD</th>\n",
       "      <td>WAGNER REIS DA SILVA</td>\n",
       "      <td>0.0011</td>\n",
       "      <td>2</td>\n",
       "    </tr>\n",
       "    <tr>\n",
       "      <th>B6C15C650538E504594A9CC68070241B</th>\n",
       "      <td>MAXIMILIANO DA SILVA PACHECO</td>\n",
       "      <td>0.0011</td>\n",
       "      <td>3</td>\n",
       "    </tr>\n",
       "    <tr>\n",
       "      <th>9B7F3C93D1827BD878FD59888217D131</th>\n",
       "      <td>JEFERSON OLIVEIRA ALMEIDA</td>\n",
       "      <td>0.0009</td>\n",
       "      <td>4</td>\n",
       "    </tr>\n",
       "    <tr>\n",
       "      <th>938287B54D1F92232CB490C5890533E3</th>\n",
       "      <td>MARCOS DA SILVA OLIVEIRA</td>\n",
       "      <td>0.0007</td>\n",
       "      <td>6</td>\n",
       "    </tr>\n",
       "    <tr>\n",
       "      <th>F55E3058C48FB0ACD18812B5B230578F</th>\n",
       "      <td>ROMAR GONCALVES GOMES</td>\n",
       "      <td>0.0006</td>\n",
       "      <td>8</td>\n",
       "    </tr>\n",
       "    <tr>\n",
       "      <th>1D17711922B088BB40A63B849474B6C4</th>\n",
       "      <td>BRUNO FERNANDO SANHUDO TEIXEIRA</td>\n",
       "      <td>0.0006</td>\n",
       "      <td>13</td>\n",
       "    </tr>\n",
       "    <tr>\n",
       "      <th>81925BF90874257538F1C626C6F362D3</th>\n",
       "      <td>EDINILSON SILVA DOS SANTOS</td>\n",
       "      <td>0.0005</td>\n",
       "      <td>14</td>\n",
       "    </tr>\n",
       "    <tr>\n",
       "      <th>CEF4943F31B8251BA8555093E8AEF4BA</th>\n",
       "      <td>CASSIANO PIRES DA SILVA</td>\n",
       "      <td>0.0004</td>\n",
       "      <td>16</td>\n",
       "    </tr>\n",
       "    <tr>\n",
       "      <th>5DB9E9B2776FD23CACC2494E72633538</th>\n",
       "      <td>JOELCIO ABREU BORGES</td>\n",
       "      <td>0.0003</td>\n",
       "      <td>20</td>\n",
       "    </tr>\n",
       "  </tbody>\n",
       "</table>\n",
       "</div>"
      ],
      "text/plain": [
       "                                                             Nome  \\\n",
       "Num_Pessoa_Interesse                                                \n",
       "FCCE57960B6D4FB3A366E2E2C79B65E8     JOSE DALVANI NUNES RODRIGUES   \n",
       "0765A653C03AC699E2322F5280FE2CBD             WAGNER REIS DA SILVA   \n",
       "B6C15C650538E504594A9CC68070241B     MAXIMILIANO DA SILVA PACHECO   \n",
       "9B7F3C93D1827BD878FD59888217D131        JEFERSON OLIVEIRA ALMEIDA   \n",
       "938287B54D1F92232CB490C5890533E3         MARCOS DA SILVA OLIVEIRA   \n",
       "F55E3058C48FB0ACD18812B5B230578F            ROMAR GONCALVES GOMES   \n",
       "1D17711922B088BB40A63B849474B6C4  BRUNO FERNANDO SANHUDO TEIXEIRA   \n",
       "81925BF90874257538F1C626C6F362D3       EDINILSON SILVA DOS SANTOS   \n",
       "CEF4943F31B8251BA8555093E8AEF4BA          CASSIANO PIRES DA SILVA   \n",
       "5DB9E9B2776FD23CACC2494E72633538             JOELCIO ABREU BORGES   \n",
       "\n",
       "                                  Betweenness  Posição  \n",
       "Num_Pessoa_Interesse                                    \n",
       "FCCE57960B6D4FB3A366E2E2C79B65E8       0.0016        1  \n",
       "0765A653C03AC699E2322F5280FE2CBD       0.0011        2  \n",
       "B6C15C650538E504594A9CC68070241B       0.0011        3  \n",
       "9B7F3C93D1827BD878FD59888217D131       0.0009        4  \n",
       "938287B54D1F92232CB490C5890533E3       0.0007        6  \n",
       "F55E3058C48FB0ACD18812B5B230578F       0.0006        8  \n",
       "1D17711922B088BB40A63B849474B6C4       0.0006       13  \n",
       "81925BF90874257538F1C626C6F362D3       0.0005       14  \n",
       "CEF4943F31B8251BA8555093E8AEF4BA       0.0004       16  \n",
       "5DB9E9B2776FD23CACC2494E72633538       0.0003       20  "
      ]
     },
     "execution_count": 29,
     "metadata": {},
     "output_type": "execute_result"
    }
   ],
   "source": [
    "# Tabela\n",
    "aux_bc = pd.DataFrame(list(bc.items()), columns=['Num_Pessoa_Interesse', 'Betweenness'])\n",
    "aux_bc.set_index('Num_Pessoa_Interesse',inplace=True)\n",
    "\n",
    "rankings_bc = pd.concat([id_nome, aux_bc], axis=1)\n",
    "rankings_bc.columns = ['Nome','Betweenness'] \n",
    "rankings_bc.sort_values('Betweenness', ascending = False, inplace = True)\n",
    "\n",
    "N = 18367\n",
    "rankings_bc['Posição'] = range(1, N + 1)\n",
    "\n",
    "bc_filt = rankings_bc[rankings_bc[\"Nome\"].str.contains('Ocorrência:')==False]\n",
    "bc_filt.head(10).round(4)"
   ]
  },
  {
   "cell_type": "markdown",
   "metadata": {},
   "source": [
    "### Algoritmo Closeness (Centralidade de Proximidade)\n",
    "\n",
    "Esta medida de centralidade tenta expressar a importância de um vértice pelo fato dele estar próximo a muitos outros vértices. Esse vértice pode ser importante se estiver relativamente próximo do conjunto restante dos demais vértices na rede.\n",
    "A centralidade de proximidade é importante para entender a disseminação de informações em redes, de modo que a distância entre um nó em particular e outros tenha um efeito sobre como esse nó pode receber ou enviar informações para outros nós.\n",
    "Nas redes de informação, a proximidade revela quanto tempo leva para que um pouco de informação flua de um nó para outro na rede. Nós de alta pontuação geralmente têm caminhos mais curtos para o restante dos\n",
    "nós na rede."
   ]
  },
  {
   "cell_type": "code",
   "execution_count": 26,
   "metadata": {},
   "outputs": [
    {
     "name": "stdout",
     "output_type": "stream",
     "text": [
      "Tempo de execução: 3.828 segundos\n",
      " \n"
     ]
    }
   ],
   "source": [
    "t1 = time.time()\n",
    "cc = nx.closeness_centrality(G)\n",
    "tempoExec = time.time() - t1\n",
    "\n",
    "print(\"Tempo de execução: {} segundos\".format(\"%.3f\" %tempoExec))\n",
    "print(' ')"
   ]
  },
  {
   "cell_type": "code",
   "execution_count": 27,
   "metadata": {},
   "outputs": [
    {
     "data": {
      "text/html": [
       "<div>\n",
       "<style scoped>\n",
       "    .dataframe tbody tr th:only-of-type {\n",
       "        vertical-align: middle;\n",
       "    }\n",
       "\n",
       "    .dataframe tbody tr th {\n",
       "        vertical-align: top;\n",
       "    }\n",
       "\n",
       "    .dataframe thead th {\n",
       "        text-align: right;\n",
       "    }\n",
       "</style>\n",
       "<table border=\"1\" class=\"dataframe\">\n",
       "  <thead>\n",
       "    <tr style=\"text-align: right;\">\n",
       "      <th></th>\n",
       "      <th>Nome</th>\n",
       "      <th>Closeness</th>\n",
       "      <th>Posição</th>\n",
       "    </tr>\n",
       "    <tr>\n",
       "      <th>Num_Pessoa_Interesse</th>\n",
       "      <th></th>\n",
       "      <th></th>\n",
       "      <th></th>\n",
       "    </tr>\n",
       "  </thead>\n",
       "  <tbody>\n",
       "    <tr>\n",
       "      <th>FCCE57960B6D4FB3A366E2E2C79B65E8</th>\n",
       "      <td>JOSE DALVANI NUNES RODRIGUES</td>\n",
       "      <td>0.0076</td>\n",
       "      <td>1</td>\n",
       "    </tr>\n",
       "    <tr>\n",
       "      <th>9B7F3C93D1827BD878FD59888217D131</th>\n",
       "      <td>JEFERSON OLIVEIRA ALMEIDA</td>\n",
       "      <td>0.0069</td>\n",
       "      <td>17</td>\n",
       "    </tr>\n",
       "    <tr>\n",
       "      <th>04E6920BCE6144A8BCCC663F6E15B1CA</th>\n",
       "      <td>LUIS ROBERTO DA SILVA SILVA</td>\n",
       "      <td>0.0069</td>\n",
       "      <td>18</td>\n",
       "    </tr>\n",
       "    <tr>\n",
       "      <th>0765A653C03AC699E2322F5280FE2CBD</th>\n",
       "      <td>WAGNER REIS DA SILVA</td>\n",
       "      <td>0.0068</td>\n",
       "      <td>19</td>\n",
       "    </tr>\n",
       "    <tr>\n",
       "      <th>1495C1291F438A12CBE7284F2383F2F1</th>\n",
       "      <td>MAGNO BERLIM DA SILVA CARDOSO</td>\n",
       "      <td>0.0067</td>\n",
       "      <td>22</td>\n",
       "    </tr>\n",
       "    <tr>\n",
       "      <th>A78C1C54C25E3060E8928CDE8116786F</th>\n",
       "      <td>DOUGLAS GONCALVES ROMANO DOS SANTOS</td>\n",
       "      <td>0.0067</td>\n",
       "      <td>42</td>\n",
       "    </tr>\n",
       "    <tr>\n",
       "      <th>71B94064FD47CA2D303503957F0205F2</th>\n",
       "      <td>DENISON RICARDO MONTEIRO DOS SANTOS</td>\n",
       "      <td>0.0066</td>\n",
       "      <td>63</td>\n",
       "    </tr>\n",
       "    <tr>\n",
       "      <th>76E93116575CD38FC73B37F6BC241ECB</th>\n",
       "      <td>JULIANO DA SILVA FRAGA</td>\n",
       "      <td>0.0066</td>\n",
       "      <td>64</td>\n",
       "    </tr>\n",
       "    <tr>\n",
       "      <th>AC6D8A4288508D5ED1DD7D37AB133CC0</th>\n",
       "      <td>MARCELO ASSIS DOS SANTOS</td>\n",
       "      <td>0.0066</td>\n",
       "      <td>65</td>\n",
       "    </tr>\n",
       "    <tr>\n",
       "      <th>6E7C0DA4D145EE7CE950C0B16F2A2DB6</th>\n",
       "      <td>WILLIAM OTAVIO OLIVEIRA DA SILVA</td>\n",
       "      <td>0.0066</td>\n",
       "      <td>66</td>\n",
       "    </tr>\n",
       "  </tbody>\n",
       "</table>\n",
       "</div>"
      ],
      "text/plain": [
       "                                                                 Nome  \\\n",
       "Num_Pessoa_Interesse                                                    \n",
       "FCCE57960B6D4FB3A366E2E2C79B65E8         JOSE DALVANI NUNES RODRIGUES   \n",
       "9B7F3C93D1827BD878FD59888217D131            JEFERSON OLIVEIRA ALMEIDA   \n",
       "04E6920BCE6144A8BCCC663F6E15B1CA          LUIS ROBERTO DA SILVA SILVA   \n",
       "0765A653C03AC699E2322F5280FE2CBD                 WAGNER REIS DA SILVA   \n",
       "1495C1291F438A12CBE7284F2383F2F1        MAGNO BERLIM DA SILVA CARDOSO   \n",
       "A78C1C54C25E3060E8928CDE8116786F  DOUGLAS GONCALVES ROMANO DOS SANTOS   \n",
       "71B94064FD47CA2D303503957F0205F2  DENISON RICARDO MONTEIRO DOS SANTOS   \n",
       "76E93116575CD38FC73B37F6BC241ECB               JULIANO DA SILVA FRAGA   \n",
       "AC6D8A4288508D5ED1DD7D37AB133CC0             MARCELO ASSIS DOS SANTOS   \n",
       "6E7C0DA4D145EE7CE950C0B16F2A2DB6     WILLIAM OTAVIO OLIVEIRA DA SILVA   \n",
       "\n",
       "                                  Closeness  Posição  \n",
       "Num_Pessoa_Interesse                                  \n",
       "FCCE57960B6D4FB3A366E2E2C79B65E8     0.0076        1  \n",
       "9B7F3C93D1827BD878FD59888217D131     0.0069       17  \n",
       "04E6920BCE6144A8BCCC663F6E15B1CA     0.0069       18  \n",
       "0765A653C03AC699E2322F5280FE2CBD     0.0068       19  \n",
       "1495C1291F438A12CBE7284F2383F2F1     0.0067       22  \n",
       "A78C1C54C25E3060E8928CDE8116786F     0.0067       42  \n",
       "71B94064FD47CA2D303503957F0205F2     0.0066       63  \n",
       "76E93116575CD38FC73B37F6BC241ECB     0.0066       64  \n",
       "AC6D8A4288508D5ED1DD7D37AB133CC0     0.0066       65  \n",
       "6E7C0DA4D145EE7CE950C0B16F2A2DB6     0.0066       66  "
      ]
     },
     "execution_count": 27,
     "metadata": {},
     "output_type": "execute_result"
    }
   ],
   "source": [
    "# Tabela\n",
    "aux_cc = pd.DataFrame(list(cc.items()), columns=['Num_Pessoa_Interesse', 'Closeness'])\n",
    "aux_cc.set_index('Num_Pessoa_Interesse',inplace=True)\n",
    "\n",
    "rankings_cc = pd.concat([id_nome, aux_cc], axis=1)\n",
    "rankings_cc.columns = ['Nome','Closeness'] \n",
    "rankings_cc.sort_values('Closeness', ascending = False, inplace = True)\n",
    "\n",
    "N = 18367\n",
    "rankings_cc['Posição'] = range(1, N + 1)\n",
    "\n",
    "cc_filt = rankings_cc[rankings_cc[\"Nome\"].str.contains('Ocorrência:')==False]\n",
    "cc_filt.head(10).round(4)"
   ]
  },
  {
   "cell_type": "code",
   "execution_count": null,
   "metadata": {},
   "outputs": [],
   "source": [
    "#V.clear()"
   ]
  },
  {
   "cell_type": "code",
   "execution_count": null,
   "metadata": {},
   "outputs": [],
   "source": []
  }
 ],
 "metadata": {
  "kernelspec": {
   "display_name": "Python 3",
   "language": "python",
   "name": "python3"
  },
  "language_info": {
   "codemirror_mode": {
    "name": "ipython",
    "version": 3
   },
   "file_extension": ".py",
   "mimetype": "text/x-python",
   "name": "python",
   "nbconvert_exporter": "python",
   "pygments_lexer": "ipython3",
   "version": "3.7.0"
  }
 },
 "nbformat": 4,
 "nbformat_minor": 2
}
