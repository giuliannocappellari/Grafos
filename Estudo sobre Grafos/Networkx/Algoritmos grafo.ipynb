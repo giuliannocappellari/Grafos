{
 "cells": [
  {
   "cell_type": "code",
   "execution_count": 1,
   "metadata": {},
   "outputs": [],
   "source": [
    "import networkx as nx\n",
    "import matplotlib.pyplot as plt\n",
    "from pyvis.network import Network\n",
    "import pandas as pd"
   ]
  },
  {
   "cell_type": "code",
   "execution_count": 32,
   "metadata": {},
   "outputs": [],
   "source": [
    "# Atenção na hora de escolher o tipo de grafo, pois alguns algoritmos podem não funcionar\n",
    "# nx.DiGraph()  Cria um grafo direcional vazio\n",
    "# nx.MultiGraph(), nx.MultiDiGraph() múltiplas arestas entre pares de vértices\n",
    "# Graph.to_undirected() alterando um grafo direcionado para não direcionado\n",
    "G = nx.Graph() #grafo não direcionado"
   ]
  },
  {
   "cell_type": "code",
   "execution_count": 33,
   "metadata": {},
   "outputs": [],
   "source": [
    "# Coloca os vértices e arestas em uma lista\n",
    "# forma explícita e grafo ponderado\n",
    "vertices=['Viviane', 'Eloi', 'Jade', 'Eduardo','Camila','Maiara','Maria']\n",
    "arestas=[('Viviane','Eloi',{'weight': 4}),('Viviane','Jade',{'weight': 5}),('Viviane','Camila',{'weight': 5}),\n",
    "         ('Eloi','Jade',{'weight': 5}),('Eloi','Camila',{'weight': 3}),('Eloi','Eduardo',{'weight': 2}),\n",
    "         ('Camila','Jade',{'weight': 3}),('Camila','Maiara',{'weight': 2}),\n",
    "         ('Maria','Viviane',{'weight': 5}),('Maria','Camila',{'weight': 4}),('Maria','Jade',{'weight': 4})\n",
    "        ]\n",
    "\n",
    "\n",
    "# Coloca os vértices e arestas no grafo usando as listas\n",
    "G.add_nodes_from(vertices)\n",
    "G.add_edges_from(arestas)"
   ]
  },
  {
   "cell_type": "code",
   "execution_count": 48,
   "metadata": {},
   "outputs": [
    {
     "data": {
      "text/html": [
       "\n",
       "        <iframe\n",
       "            width=\"900px\"\n",
       "            height=\"300px\"\n",
       "            src=\"g.html\"\n",
       "            frameborder=\"0\"\n",
       "            allowfullscreen\n",
       "        ></iframe>\n",
       "        "
      ],
      "text/plain": [
       "<IPython.lib.display.IFrame at 0xf7af1b0>"
      ]
     },
     "execution_count": 48,
     "metadata": {},
     "output_type": "execute_result"
    }
   ],
   "source": [
    "nt = Network(\"300px\", \"900px\", notebook = True)\n",
    "nt.from_nx(G)\n",
    "nt.show(\"g.html\")"
   ]
  },
  {
   "cell_type": "code",
   "execution_count": 35,
   "metadata": {},
   "outputs": [
    {
     "data": {
      "text/plain": [
       "7"
      ]
     },
     "execution_count": 35,
     "metadata": {},
     "output_type": "execute_result"
    }
   ],
   "source": [
    "# número de vértices\n",
    "G.number_of_nodes()"
   ]
  },
  {
   "cell_type": "code",
   "execution_count": 36,
   "metadata": {},
   "outputs": [
    {
     "data": {
      "text/plain": [
       "11"
      ]
     },
     "execution_count": 36,
     "metadata": {},
     "output_type": "execute_result"
    }
   ],
   "source": [
    "# número de arestas\n",
    "G.number_of_edges()"
   ]
  },
  {
   "cell_type": "code",
   "execution_count": 49,
   "metadata": {},
   "outputs": [
    {
     "data": {
      "text/plain": [
       "['Viviane', 'Eloi', 'Jade', 'Eduardo', 'Camila', 'Maiara', 'Maria']"
      ]
     },
     "execution_count": 49,
     "metadata": {},
     "output_type": "execute_result"
    }
   ],
   "source": [
    "# listar os vértices\n",
    "list(G.nodes)"
   ]
  },
  {
   "cell_type": "code",
   "execution_count": 38,
   "metadata": {},
   "outputs": [
    {
     "data": {
      "text/plain": [
       "[('Viviane', 'Eloi'),\n",
       " ('Viviane', 'Jade'),\n",
       " ('Viviane', 'Camila'),\n",
       " ('Viviane', 'Maria'),\n",
       " ('Eloi', 'Jade'),\n",
       " ('Eloi', 'Camila'),\n",
       " ('Eloi', 'Eduardo'),\n",
       " ('Jade', 'Camila'),\n",
       " ('Jade', 'Maria'),\n",
       " ('Camila', 'Maiara'),\n",
       " ('Camila', 'Maria')]"
      ]
     },
     "execution_count": 38,
     "metadata": {},
     "output_type": "execute_result"
    }
   ],
   "source": [
    "# listar as arestas\n",
    "list(G.edges)"
   ]
  },
  {
   "cell_type": "code",
   "execution_count": 39,
   "metadata": {},
   "outputs": [
    {
     "data": {
      "text/plain": [
       "['Viviane', 'Eloi', 'Camila', 'Maria']"
      ]
     },
     "execution_count": 39,
     "metadata": {},
     "output_type": "execute_result"
    }
   ],
   "source": [
    "#Listar quais vértices estão ligados com um vértice específico\n",
    "#list(G.adj['Viviane']) \n",
    "list(G.neighbors('Jade'))\n"
   ]
  },
  {
   "cell_type": "code",
   "execution_count": 40,
   "metadata": {},
   "outputs": [
    {
     "data": {
      "text/plain": [
       "4"
      ]
     },
     "execution_count": 40,
     "metadata": {},
     "output_type": "execute_result"
    }
   ],
   "source": [
    "# Grau de um vértice é o número de 'vizinhos' que ele possui\n",
    "G.degree['Jade']"
   ]
  },
  {
   "cell_type": "markdown",
   "metadata": {},
   "source": [
    "## Menor caminho para chegar de um vértice a outro"
   ]
  },
  {
   "cell_type": "code",
   "execution_count": 42,
   "metadata": {},
   "outputs": [
    {
     "name": "stdout",
     "output_type": "stream",
     "text": [
      "Caminho de custo mínimo:  ['Jade', 'Camila', 'Maiara']\n"
     ]
    }
   ],
   "source": [
    "# Descobre o caminho de custo mínimo (ccm) do vértice '1' até '2' \n",
    "ccm = nx.dijkstra_path(G,source = 'Jade', target = 'Maiara')\n",
    "\n",
    "# Mostra a sequência de vértices do caminho mínimo\n",
    "print('Caminho de custo mínimo: ',ccm)"
   ]
  },
  {
   "cell_type": "code",
   "execution_count": 43,
   "metadata": {},
   "outputs": [
    {
     "data": {
      "image/png": "[encoded data removed]",
      "text/plain": [
       "<Figure size 864x576 with 1 Axes>"
      ]
     },
     "metadata": {},
     "output_type": "display_data"
    }
   ],
   "source": [
    "# Separa as arestas que fazem parte do menor caminho e guarda em arestas_vermelhas\n",
    "arestas_vermelhas = list(zip(ccm,ccm[1:]))\n",
    "\n",
    "# Marca os vértices que estão no CCM para serem pintados de azul e os outros de cinza\n",
    "cor_vertices = ['grey' if not node in ccm else 'blue' for node in G.nodes()]\n",
    "\n",
    "# Marca as arestas que estão no CCM para serem pintados de vermelho e as outras de prata\n",
    "cor_arestas = ['silver' if not edge in arestas_vermelhas else 'red' for edge in G.edges()]\n",
    "\n",
    "# plot da figura\n",
    "plt.figure(1, figsize=(12, 8))\n",
    "\n",
    "#Algoritmo de layout\n",
    "pos=nx.fruchterman_reingold_layout(G)\n",
    "\n",
    "#retira as bordas\n",
    "plt.axis('off')\n",
    "\n",
    "nx.draw_networkx(G, pos,node_color= cor_vertices, node_size=1000)\n",
    "nx.draw_networkx_edges(G, pos,edge_color= cor_arestas)\n",
    "\n",
    "plt.show()"
   ]
  },
  {
   "cell_type": "markdown",
   "metadata": {},
   "source": [
    "## Qual vértice está mais conectado?"
   ]
  },
  {
   "cell_type": "code",
   "execution_count": 32,
   "metadata": {},
   "outputs": [
    {
     "name": "stdout",
     "output_type": "stream",
     "text": [
      "Viviane 0.6666666666666666\n",
      "Eloi 0.6666666666666666\n",
      "Jade 0.6666666666666666\n",
      "Eduardo 0.16666666666666666\n",
      "Camila 0.8333333333333333\n",
      "Maiara 0.16666666666666666\n",
      "Maria 0.5\n"
     ]
    }
   ],
   "source": [
    "# centralidade de grau mede o número de arestas anexadas a um vértice\n",
    "for node in G.nodes():\n",
    "    print(node, nx.degree_centrality(G)[node])"
   ]
  },
  {
   "cell_type": "code",
   "execution_count": 11,
   "metadata": {},
   "outputs": [
    {
     "name": "stdout",
     "output_type": "stream",
     "text": [
      "Viviane 0.16666666666666666\n",
      "Eloi 0.2222222222222222\n",
      "Jade 0.6666666666666666\n",
      "Eduardo 0.25\n",
      "Camila 0.5\n",
      "Maiara 0.38095238095238093\n",
      "Maria 0.0\n"
     ]
    }
   ],
   "source": [
    "# centralidade de proximidade mede a distância média de um nó a qualquer outro nó\n",
    "# Quanto mais central for um nó, mais próximo estará de todos os outros nós\n",
    "for node in G.nodes():\n",
    "    print(node, nx.closeness_centrality(G, node))"
   ]
  },
  {
   "cell_type": "code",
   "execution_count": 12,
   "metadata": {},
   "outputs": [
    {
     "name": "stdout",
     "output_type": "stream",
     "text": [
      "Viviane 0.06666666666666667\n",
      "Eloi 0.06666666666666667\n",
      "Jade 0.0\n",
      "Eduardo 0.0\n",
      "Camila 0.1\n",
      "Maiara 0.0\n",
      "Maria 0.0\n"
     ]
    }
   ],
   "source": [
    "# Centralidade de intermediação : mede o número de caminhos mais curtos em que o nó se encontra\n",
    "# Essa centralidade costuma ser usada para determinar o fluxo de informações no gráfico\n",
    "# Quanto maior o número, mais informações fluem por ele\n",
    "for node in G.nodes(): \n",
    "    print(node, nx.betweenness_centrality(G)[node])"
   ]
  },
  {
   "cell_type": "code",
   "execution_count": 23,
   "metadata": {},
   "outputs": [
    {
     "data": {
      "image/png": "[encoded data removed]",
      "text/plain": [
       "<Figure size 864x576 with 1 Axes>"
      ]
     },
     "metadata": {},
     "output_type": "display_data"
    }
   ],
   "source": [
    "cent = nx.betweenness_centrality(G)\n",
    "plt.figure(1, figsize=(12, 8))\n",
    "plt.axis('off')\n",
    "nx.draw_networkx(G, node_size=[v * 15000 for v in cent.values()], edge_color='silver')"
   ]
  }
 ],
 "metadata": {
  "kernelspec": {
   "display_name": "Python 3",
   "language": "python",
   "name": "python3"
  },
  "language_info": {
   "codemirror_mode": {
    "name": "ipython",
    "version": 3
   },
   "file_extension": ".py",
   "mimetype": "text/x-python",
   "name": "python",
   "nbconvert_exporter": "python",
   "pygments_lexer": "ipython3",
   "version": "3.7.4"
  }
 },
 "nbformat": 4,
 "nbformat_minor": 4
}
