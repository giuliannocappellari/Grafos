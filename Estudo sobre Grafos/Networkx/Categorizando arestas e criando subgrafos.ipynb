{
 "cells": [
  {
   "cell_type": "code",
   "execution_count": 1,
   "metadata": {},
   "outputs": [],
   "source": [
    "import networkx as nx\n",
    "import pandas as pd\n",
    "from pyvis.network import Network\n",
    "import ibm_db\n",
    "import ibm_db_dbi"
   ]
  },
  {
   "cell_type": "code",
   "execution_count": 2,
   "metadata": {},
   "outputs": [],
   "source": [
    "#conectando ao BigSql\n",
    "#COLOCAR CREDENCIAIS\n",
    "db = ibm_db.connect(\"DATABASE=BIGSQL;HOSTNAME=bigsql.pro.intra.rs.gov.br;PORT=32051;PROTOCOL=TCPIP;UID=XXXXX;PWD=XXXXX;\", \"\", \"\")\n",
    "conn = ibm_db_dbi.Connection(db)   "
   ]
  },
  {
   "cell_type": "code",
   "execution_count": 3,
   "metadata": {},
   "outputs": [
    {
     "data": {
      "text/html": [
       "<div>\n",
       "<style scoped>\n",
       "    .dataframe tbody tr th:only-of-type {\n",
       "        vertical-align: middle;\n",
       "    }\n",
       "\n",
       "    .dataframe tbody tr th {\n",
       "        vertical-align: top;\n",
       "    }\n",
       "\n",
       "    .dataframe thead th {\n",
       "        text-align: right;\n",
       "    }\n",
       "</style>\n",
       "<table border=\"1\" class=\"dataframe\">\n",
       "  <thead>\n",
       "    <tr style=\"text-align: right;\">\n",
       "      <th></th>\n",
       "      <th>src</th>\n",
       "      <th>tgt</th>\n",
       "      <th>rel</th>\n",
       "      <th>weight</th>\n",
       "      <th>edge_key</th>\n",
       "    </tr>\n",
       "  </thead>\n",
       "  <tbody>\n",
       "    <tr>\n",
       "      <th>0</th>\n",
       "      <td>3</td>\n",
       "      <td>4</td>\n",
       "      <td>irmã</td>\n",
       "      <td>3</td>\n",
       "      <td>F</td>\n",
       "    </tr>\n",
       "    <tr>\n",
       "      <th>1</th>\n",
       "      <td>5</td>\n",
       "      <td>4</td>\n",
       "      <td>co-autores</td>\n",
       "      <td>4</td>\n",
       "      <td>C</td>\n",
       "    </tr>\n",
       "    <tr>\n",
       "      <th>2</th>\n",
       "      <td>5</td>\n",
       "      <td>4</td>\n",
       "      <td>co-autores</td>\n",
       "      <td>4</td>\n",
       "      <td>C</td>\n",
       "    </tr>\n",
       "    <tr>\n",
       "      <th>3</th>\n",
       "      <td>6</td>\n",
       "      <td>7</td>\n",
       "      <td>co-autores</td>\n",
       "      <td>2</td>\n",
       "      <td>C</td>\n",
       "    </tr>\n",
       "    <tr>\n",
       "      <th>4</th>\n",
       "      <td>7</td>\n",
       "      <td>6</td>\n",
       "      <td>co-autores</td>\n",
       "      <td>2</td>\n",
       "      <td>C</td>\n",
       "    </tr>\n",
       "  </tbody>\n",
       "</table>\n",
       "</div>"
      ],
      "text/plain": [
       "   src  tgt         rel  weight edge_key\n",
       "0    3    4        irmã       3        F\n",
       "1    5    4  co-autores       4        C\n",
       "2    5    4  co-autores       4        C\n",
       "3    6    7  co-autores       2        C\n",
       "4    7    6  co-autores       2        C"
      ]
     },
     "execution_count": 3,
     "metadata": {},
     "output_type": "execute_result"
    }
   ],
   "source": [
    "# buscando os dados das arestas / quem se relaciona com quem\n",
    "query = \"select * from PROCERGS_MILENA_VILLAR.RELACIONAMENTO2;\"\n",
    "df = pd.read_sql_query(query, conn)\n",
    "# alterando os nomes das colunas para letras minúsculas\n",
    "df.rename(str.lower, axis='columns', inplace = True)\n",
    "df.head()"
   ]
  },
  {
   "cell_type": "code",
   "execution_count": 4,
   "metadata": {},
   "outputs": [],
   "source": [
    "#informando quais colunas da tabela serão o source, target e demais atributos;\n",
    "#create_using específica qual é o tipo do grafo\n",
    "# edge_key diferencia / categoriza o tipo de relação\n",
    "M = nx.from_pandas_edgelist(df, source = 'src', target = 'tgt', edge_key='edge_key', edge_attr=['rel','weight'], create_using=nx.MultiDiGraph())"
   ]
  },
  {
   "cell_type": "code",
   "execution_count": 5,
   "metadata": {},
   "outputs": [
    {
     "data": {
      "text/plain": [
       "True"
      ]
     },
     "execution_count": 5,
     "metadata": {},
     "output_type": "execute_result"
    }
   ],
   "source": [
    "# verificando se o grafo é ponderado\n",
    "nx.is_weighted(M)"
   ]
  },
  {
   "cell_type": "code",
   "execution_count": 6,
   "metadata": {},
   "outputs": [
    {
     "data": {
      "text/plain": [
       "[(1, 2, 'C', {'rel': 'co-autores', 'weight': 4}),\n",
       " (1, 3, 'F', {'rel': 'mãe', 'weight': 5}),\n",
       " (1, 4, 'F', {'rel': 'mãe', 'weight': 5}),\n",
       " (1, 10, 'F', {'rel': 'irmão', 'weight': 3}),\n",
       " (1, 16, 'F', {'rel': 'irmã', 'weight': 3})]"
      ]
     },
     "execution_count": 6,
     "metadata": {},
     "output_type": "execute_result"
    }
   ],
   "source": [
    "# verificando se importou os edges corretamente\n",
    "sorted(M.edges(data = True, keys = True))[:5]"
   ]
  },
  {
   "cell_type": "code",
   "execution_count": 7,
   "metadata": {
    "scrolled": true
   },
   "outputs": [
    {
     "data": {
      "text/html": [
       "\n",
       "        <iframe\n",
       "            width=\"900px\"\n",
       "            height=\"400px\"\n",
       "            src=\"m.html\"\n",
       "            frameborder=\"0\"\n",
       "            allowfullscreen\n",
       "        ></iframe>\n",
       "        "
      ],
      "text/plain": [
       "<IPython.lib.display.IFrame at 0x13025250>"
      ]
     },
     "execution_count": 7,
     "metadata": {},
     "output_type": "execute_result"
    }
   ],
   "source": [
    "# plotar o grafo\n",
    "nt = Network(\"400px\", \"900px\", notebook = True, directed = False)\n",
    "nt.from_nx(M)\n",
    "nt.show(\"m.html\")"
   ]
  },
  {
   "cell_type": "code",
   "execution_count": 7,
   "metadata": {},
   "outputs": [],
   "source": [
    "#buscando os labels dos nós(vértices)\n",
    "query = \"select * from PROCERGS_MILENA_VILLAR.ATRIBUTOS;\"\n",
    "df_node = pd.read_sql_query(query, conn)"
   ]
  },
  {
   "cell_type": "code",
   "execution_count": 8,
   "metadata": {},
   "outputs": [
    {
     "data": {
      "text/html": [
       "<div>\n",
       "<style scoped>\n",
       "    .dataframe tbody tr th:only-of-type {\n",
       "        vertical-align: middle;\n",
       "    }\n",
       "\n",
       "    .dataframe tbody tr th {\n",
       "        vertical-align: top;\n",
       "    }\n",
       "\n",
       "    .dataframe thead th {\n",
       "        text-align: right;\n",
       "    }\n",
       "</style>\n",
       "<table border=\"1\" class=\"dataframe\">\n",
       "  <thead>\n",
       "    <tr style=\"text-align: right;\">\n",
       "      <th></th>\n",
       "      <th>ID</th>\n",
       "      <th>NOME</th>\n",
       "      <th>SZ</th>\n",
       "      <th>GP</th>\n",
       "      <th>LAT</th>\n",
       "      <th>LONGT</th>\n",
       "      <th>P_ARMA</th>\n",
       "      <th>TIPO_ARMA</th>\n",
       "      <th>TIPO_CRIME</th>\n",
       "      <th>NUM_VITIMAS</th>\n",
       "    </tr>\n",
       "  </thead>\n",
       "  <tbody>\n",
       "    <tr>\n",
       "      <th>0</th>\n",
       "      <td>1</td>\n",
       "      <td>Vivianne</td>\n",
       "      <td>15</td>\n",
       "      <td>1</td>\n",
       "      <td>-29.881725</td>\n",
       "      <td>-51.164042</td>\n",
       "      <td>SIM</td>\n",
       "      <td>2</td>\n",
       "      <td>ASSALTO</td>\n",
       "      <td>5</td>\n",
       "    </tr>\n",
       "    <tr>\n",
       "      <th>1</th>\n",
       "      <td>3</td>\n",
       "      <td>Jade</td>\n",
       "      <td>5</td>\n",
       "      <td>1</td>\n",
       "      <td>-29.881725</td>\n",
       "      <td>-51.164042</td>\n",
       "      <td>NÃO</td>\n",
       "      <td>0</td>\n",
       "      <td>NÃO</td>\n",
       "      <td>0</td>\n",
       "    </tr>\n",
       "    <tr>\n",
       "      <th>2</th>\n",
       "      <td>5</td>\n",
       "      <td>Eduardo</td>\n",
       "      <td>5</td>\n",
       "      <td>2</td>\n",
       "      <td>-29.894814</td>\n",
       "      <td>-51.159835</td>\n",
       "      <td>SIM</td>\n",
       "      <td>2</td>\n",
       "      <td>ASSALTO</td>\n",
       "      <td>3</td>\n",
       "    </tr>\n",
       "    <tr>\n",
       "      <th>3</th>\n",
       "      <td>6</td>\n",
       "      <td>Ricardo</td>\n",
       "      <td>5</td>\n",
       "      <td>3</td>\n",
       "      <td>-29.916482</td>\n",
       "      <td>-51.146204</td>\n",
       "      <td>SIM</td>\n",
       "      <td>1</td>\n",
       "      <td>TRAF DROG</td>\n",
       "      <td>0</td>\n",
       "    </tr>\n",
       "    <tr>\n",
       "      <th>4</th>\n",
       "      <td>7</td>\n",
       "      <td>Inês</td>\n",
       "      <td>15</td>\n",
       "      <td>3</td>\n",
       "      <td>-29.916482</td>\n",
       "      <td>-51.146204</td>\n",
       "      <td>NÃO</td>\n",
       "      <td>0</td>\n",
       "      <td>NÃO</td>\n",
       "      <td>0</td>\n",
       "    </tr>\n",
       "  </tbody>\n",
       "</table>\n",
       "</div>"
      ],
      "text/plain": [
       "   ID      NOME  SZ  GP        LAT      LONGT P_ARMA TIPO_ARMA TIPO_CRIME  \\\n",
       "0   1  Vivianne  15   1 -29.881725 -51.164042    SIM         2    ASSALTO   \n",
       "1   3      Jade   5   1 -29.881725 -51.164042    NÃO         0        NÃO   \n",
       "2   5   Eduardo   5   2 -29.894814 -51.159835    SIM         2    ASSALTO   \n",
       "3   6   Ricardo   5   3 -29.916482 -51.146204    SIM         1  TRAF DROG   \n",
       "4   7      Inês  15   3 -29.916482 -51.146204    NÃO         0        NÃO   \n",
       "\n",
       "   NUM_VITIMAS  \n",
       "0            5  \n",
       "1            0  \n",
       "2            3  \n",
       "3            0  \n",
       "4            0  "
      ]
     },
     "execution_count": 8,
     "metadata": {},
     "output_type": "execute_result"
    }
   ],
   "source": [
    "df_node.head()"
   ]
  },
  {
   "cell_type": "code",
   "execution_count": 9,
   "metadata": {},
   "outputs": [],
   "source": [
    "#transformando a tabela em um dicionário para atribuir labels aos IDs dos nós\n",
    "nodelabel = df_node.set_index(\"ID\").T.to_dict('records')[0]\n",
    "# atribuindo o atributo label\n",
    "nx.set_node_attributes(M, nodelabel, 'title')\n",
    "#M.nodes(data=True)"
   ]
  },
  {
   "cell_type": "code",
   "execution_count": 10,
   "metadata": {},
   "outputs": [],
   "source": [
    "#buscando os tamanhos dos nós(vértices)\n",
    "query = \"select ID,SZ from PROCERGS_MILENA_VILLAR.ATRIBUTOS;\"\n",
    "a = pd.read_sql_query(query, conn)"
   ]
  },
  {
   "cell_type": "code",
   "execution_count": 11,
   "metadata": {},
   "outputs": [],
   "source": [
    "#transformando a tabela em um dicionário para atribuir os tamanhos aos IDs dos nós\n",
    "nodeatrib = a.set_index(\"ID\").T.to_dict('records')[0]\n",
    "# atribuindo o atributo label\n",
    "nx.set_node_attributes(M, nodeatrib, 'size')\n",
    "#M.nodes(data=True)"
   ]
  },
  {
   "cell_type": "code",
   "execution_count": 12,
   "metadata": {},
   "outputs": [],
   "source": [
    "#buscando os grupos dos nós(vértices)\n",
    "query = \"select ID,GP from PROCERGS_MILENA_VILLAR.ATRIBUTOS;\"\n",
    "g = pd.read_sql_query(query, conn)"
   ]
  },
  {
   "cell_type": "code",
   "execution_count": 13,
   "metadata": {},
   "outputs": [],
   "source": [
    "#transformando a tabela em um dicionário para atribuir os grupos aos IDs dos nós\n",
    "nodeatrib = g.set_index(\"ID\").T.to_dict('records')[0]\n",
    "# atribuindo o atributo label\n",
    "nx.set_node_attributes(M, nodeatrib, 'group')\n",
    "#M.nodes(data=True)"
   ]
  },
  {
   "cell_type": "code",
   "execution_count": 14,
   "metadata": {},
   "outputs": [],
   "source": [
    "#buscando o atributo coordenadas dos nós(vértices)\n",
    "query = \"select * from PROCERGS_MILENA_VILLAR.COORDENADAS;\"\n",
    "at_node = pd.read_sql_query(query, conn)\n",
    "#at_node.head()"
   ]
  },
  {
   "cell_type": "code",
   "execution_count": 15,
   "metadata": {},
   "outputs": [],
   "source": [
    "#transformando a tabela em um dicionário\n",
    "c = at_node.set_index(\"ID\").T.to_dict('list')\n",
    "#adicionando o atributo coordenada\n",
    "nx.set_node_attributes(M, c, 'pos')\n",
    "#M.nodes(data=True)"
   ]
  },
  {
   "cell_type": "code",
   "execution_count": 25,
   "metadata": {},
   "outputs": [],
   "source": [
    "#buscando TIPO DE CRIME, NUM. VÍTIMAS dos nós(vértices)\n",
    "query = \"select ID,P_ARMA,TIPO_ARMA,TIPO_CRIME,NUM_VITIMAS from PROCERGS_MILENA_VILLAR.ATRIBUTOS;\"\n",
    "g = pd.read_sql_query(query, conn)"
   ]
  },
  {
   "cell_type": "code",
   "execution_count": 26,
   "metadata": {},
   "outputs": [],
   "source": [
    "#transformando a tabela em um dicionário para atribuir aos IDs dos nós\n",
    "nodeatrib = g.set_index(\"ID\").T.to_dict()\n",
    "# atribuindo o atributo \n",
    "nx.set_node_attributes(M, nodeatrib)\n",
    "#M.nodes(data=True)"
   ]
  },
  {
   "cell_type": "code",
   "execution_count": 27,
   "metadata": {},
   "outputs": [
    {
     "data": {
      "text/html": [
       "\n",
       "        <iframe\n",
       "            width=\"900px\"\n",
       "            height=\"400px\"\n",
       "            src=\"mg.html\"\n",
       "            frameborder=\"0\"\n",
       "            allowfullscreen\n",
       "        ></iframe>\n",
       "        "
      ],
      "text/plain": [
       "<IPython.lib.display.IFrame at 0xda1dc90>"
      ]
     },
     "execution_count": 27,
     "metadata": {},
     "output_type": "execute_result"
    }
   ],
   "source": [
    "# plotar o grafo\n",
    "nt = Network(\"400px\", \"900px\", notebook = True)\n",
    "nt.toggle_hide_edges_on_drag(False) # esconde as arestas quando clica com o mouse\n",
    "#nt.barnes_hut() #tipo de layout\n",
    "# nt.show_buttons(filter_=['physics'])\n",
    "nt.from_nx(M)\n",
    "nt.show(\"mg.html\")"
   ]
  },
  {
   "cell_type": "markdown",
   "metadata": {},
   "source": [
    "## Criando Subgrafos para categorizar as arestas"
   ]
  },
  {
   "cell_type": "code",
   "execution_count": 28,
   "metadata": {},
   "outputs": [
    {
     "name": "stdout",
     "output_type": "stream",
     "text": [
      "[(1, 2, 'C'), (2, 1, 'C'), (3, 12, 'C'), (3, 13, 'C'), (4, 8, 'C'), (4, 9, 'C'), (4, 12, 'C'), (4, 13, 'C'), (5, 4, 'C'), (6, 7, 'C'), (7, 6, 'C'), (8, 4, 'C'), (9, 4, 'C'), (10, 11, 'C'), (11, 10, 'C'), (12, 3, 'C'), (12, 4, 'C'), (13, 3, 'C'), (13, 4, 'C'), (14, 15, 'C'), (15, 14, 'C'), (17, 18, 'C'), (18, 17, 'C'), (19, 4, 'C'), (19, 20, 'C'), (20, 4, 'C')]\n"
     ]
    }
   ],
   "source": [
    "# filtrando somente as arestas com chave igual 'C' (relacionamento criminoso)\n",
    "co_autores = [(u, v, k) for u, v, k in M.edges if k == 'C']\n",
    "print(sorted(co_autores))"
   ]
  },
  {
   "cell_type": "code",
   "execution_count": 29,
   "metadata": {},
   "outputs": [
    {
     "data": {
      "text/plain": [
       "[(3, 13, 'C', {'rel': 'co-autores', 'weight': 1}),\n",
       " (3, 12, 'C', {'rel': 'co-autores', 'weight': 1}),\n",
       " (4, 8, 'C', {'rel': 'co-autores', 'weight': 3}),\n",
       " (4, 9, 'C', {'rel': 'co-autores', 'weight': 3}),\n",
       " (4, 13, 'C', {'rel': 'co-autores', 'weight': 1})]"
      ]
     },
     "execution_count": 29,
     "metadata": {},
     "output_type": "execute_result"
    }
   ],
   "source": [
    "# criando um subgrafo somente com os relacionamentos entre co-autores\n",
    "C = nx.MultiDiGraph.edge_subgraph(M,co_autores)\n",
    "#Verificando se criou o subgrafo\n",
    "list(C.edges(data = True, keys = True))[:5]"
   ]
  },
  {
   "cell_type": "code",
   "execution_count": 19,
   "metadata": {},
   "outputs": [
    {
     "data": {
      "text/html": [
       "\n",
       "        <iframe\n",
       "            width=\"900px\"\n",
       "            height=\"400px\"\n",
       "            src=\"c.html\"\n",
       "            frameborder=\"0\"\n",
       "            allowfullscreen\n",
       "        ></iframe>\n",
       "        "
      ],
      "text/plain": [
       "<IPython.lib.display.IFrame at 0x10f8ebb0>"
      ]
     },
     "execution_count": 19,
     "metadata": {},
     "output_type": "execute_result"
    }
   ],
   "source": [
    "nt = Network(\"400px\", \"900px\", notebook = True)\n",
    "nt.from_nx(C)\n",
    "nt.show(\"c.html\")"
   ]
  },
  {
   "cell_type": "code",
   "execution_count": 20,
   "metadata": {
    "scrolled": true
   },
   "outputs": [
    {
     "data": {
      "text/plain": [
       "19"
      ]
     },
     "execution_count": 20,
     "metadata": {},
     "output_type": "execute_result"
    }
   ],
   "source": [
    "#número total de nós\n",
    "C.number_of_nodes()"
   ]
  },
  {
   "cell_type": "code",
   "execution_count": 21,
   "metadata": {},
   "outputs": [
    {
     "data": {
      "text/plain": [
       "26"
      ]
     },
     "execution_count": 21,
     "metadata": {},
     "output_type": "execute_result"
    }
   ],
   "source": [
    "# número total de arestas\n",
    "C.number_of_edges()"
   ]
  },
  {
   "cell_type": "code",
   "execution_count": 30,
   "metadata": {},
   "outputs": [
    {
     "name": "stdout",
     "output_type": "stream",
     "text": [
      "{4, 5}\n"
     ]
    }
   ],
   "source": [
    "# consultando atributo por edge e node\n",
    "# buscando nós que possuem o relacionamento 'co-autores' e estão no grupo '2'\n",
    "q = set(n for u,v,d in C.edges(data=True)\n",
    "               if d['rel']=='co-autores'\n",
    "               for n in (u, v)\n",
    "               if C.nodes[n]['group'] == 2)\n",
    "print(q)"
   ]
  },
  {
   "cell_type": "code",
   "execution_count": 32,
   "metadata": {},
   "outputs": [
    {
     "name": "stdout",
     "output_type": "stream",
     "text": [
      "[10]\n"
     ]
    }
   ],
   "source": [
    "#Consultando atributo do node\n",
    "grupo = (n for n in C if int(C.nodes[n]['NUM_VITIMAS']) >= 6)\n",
    "print(list(grupo))"
   ]
  },
  {
   "cell_type": "code",
   "execution_count": 33,
   "metadata": {},
   "outputs": [],
   "source": [
    "# Adicionando um atributo em uma determinada aresta do subgrafo C\n",
    "C.edges[3,13,'C']['cidade_atuacao'] = 'CANOAS'\n"
   ]
  },
  {
   "cell_type": "code",
   "execution_count": 34,
   "metadata": {},
   "outputs": [
    {
     "data": {
      "text/plain": [
       "[(3, 13, 'C', {'rel': 'co-autores', 'weight': 1, 'cidade_atuacao': 'CANOAS'}),\n",
       " (3, 12, 'C', {'rel': 'co-autores', 'weight': 1}),\n",
       " (4, 8, 'C', {'rel': 'co-autores', 'weight': 3}),\n",
       " (4, 9, 'C', {'rel': 'co-autores', 'weight': 3}),\n",
       " (4, 13, 'C', {'rel': 'co-autores', 'weight': 1})]"
      ]
     },
     "execution_count": 34,
     "metadata": {},
     "output_type": "execute_result"
    }
   ],
   "source": [
    "# verificando se realmente acrescentou atributo ao subgrafo C\n",
    "list(C.edges(data = True, keys = True))[:5]"
   ]
  },
  {
   "cell_type": "code",
   "execution_count": 35,
   "metadata": {},
   "outputs": [
    {
     "data": {
      "text/plain": [
       "[(3, 4, 'F', {'rel': 'irmã', 'weight': 3}),\n",
       " (3, 13, 'C', {'rel': 'co-autores', 'weight': 1, 'cidade_atuacao': 'CANOAS'}),\n",
       " (3, 12, 'C', {'rel': 'co-autores', 'weight': 1}),\n",
       " (4, 3, 'F', {'rel': 'irmã', 'weight': 3}),\n",
       " (4, 8, 'C', {'rel': 'co-autores', 'weight': 3})]"
      ]
     },
     "execution_count": 35,
     "metadata": {},
     "output_type": "execute_result"
    }
   ],
   "source": [
    "# verificando se alterou também no grafo principal M\n",
    "list(M.edges(data = True, keys = True))[:5]"
   ]
  },
  {
   "cell_type": "markdown",
   "metadata": {},
   "source": [
    "### Descobrindo relação entre os nós"
   ]
  },
  {
   "cell_type": "code",
   "execution_count": 37,
   "metadata": {},
   "outputs": [
    {
     "data": {
      "text/plain": [
       "False"
      ]
     },
     "execution_count": 37,
     "metadata": {},
     "output_type": "execute_result"
    }
   ],
   "source": [
    "# Verificando se existe uma aresta entre dois nós\n",
    "C.has_edge(3,9)"
   ]
  },
  {
   "cell_type": "code",
   "execution_count": 39,
   "metadata": {},
   "outputs": [
    {
     "name": "stdout",
     "output_type": "stream",
     "text": [
      "Caminho de custo mínimo:  [3, 13, 4, 9]\n",
      "Tamanho do caminho:  5\n"
     ]
    }
   ],
   "source": [
    "# Descobre o caminho de custo mínimo (ccm) do vértice 3 até 9 // o peso das arestas é considerado\n",
    "try:\n",
    "    ccm = nx.dijkstra_path(C,source = 3, target = 9, weight = 'weight') \n",
    "    tam = nx.dijkstra_path_length(C,source = 3, target = 9, weight = 'weight')\n",
    "    print('Caminho de custo mínimo: ', ccm)\n",
    "    print('Tamanho do caminho: ', tam) # soma dos pesos das arestas\n",
    "except nx.NetworkXNoPath:\n",
    "    print(\"Caminho não encontrado\") "
   ]
  },
  {
   "cell_type": "code",
   "execution_count": 46,
   "metadata": {},
   "outputs": [
    {
     "name": "stdout",
     "output_type": "stream",
     "text": [
      "[3, 13, 4, 9]\n",
      "[3, 12, 4, 9]\n"
     ]
    }
   ],
   "source": [
    "# listando todo os caminhos mais curtos // // o peso das arestas é considerado\n",
    "try:\n",
    "    for path in nx.all_shortest_paths(C, source= 3, target = 9, weight = 'weight', method= 'dijkstra'):\n",
    "        print(path)\n",
    "except nx.NetworkXNoPath:\n",
    "    print(\"Caminho não encontrado\") "
   ]
  },
  {
   "cell_type": "code",
   "execution_count": 41,
   "metadata": {},
   "outputs": [
    {
     "data": {
      "text/plain": [
       "(5, [3, 13, 4, 9])"
      ]
     },
     "execution_count": 41,
     "metadata": {},
     "output_type": "execute_result"
    }
   ],
   "source": [
    "# Informa o tamanho e o caminho mais curto\n",
    "tam, cam = nx.single_source_dijkstra(C, source= 3, target= 9, cutoff= None, weight='weight')\n",
    "tam, cam"
   ]
  }
 ],
 "metadata": {
  "kernelspec": {
   "display_name": "Python 3",
   "language": "python",
   "name": "python3"
  },
  "language_info": {
   "codemirror_mode": {
    "name": "ipython",
    "version": 3
   },
   "file_extension": ".py",
   "mimetype": "text/x-python",
   "name": "python",
   "nbconvert_exporter": "python",
   "pygments_lexer": "ipython3",
   "version": "3.7.4"
  }
 },
 "nbformat": 4,
 "nbformat_minor": 4
}
