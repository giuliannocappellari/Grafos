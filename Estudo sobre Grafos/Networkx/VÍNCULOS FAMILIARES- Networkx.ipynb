{
 "cells": [
  {
   "cell_type": "code",
   "execution_count": 1,
   "metadata": {},
   "outputs": [],
   "source": [
    "import networkx as nx\n",
    "import ibm_db\n",
    "import ibm_db_dbi\n",
    "import pandas as pd\n",
    "from pyvis.network import Network"
   ]
  },
  {
   "cell_type": "code",
   "execution_count": 2,
   "metadata": {},
   "outputs": [],
   "source": [
    "#conectando ao BigSql\n",
    "#COLOCAR CREDENCIAIS para acessar o banco\n",
    "user = \"XXXX\"\n",
    "pwd = \"XXXXX\"\n",
    "db = ibm_db.connect(\"DATABASE=BIGSQL;HOSTNAME=bigsql.pro.intra.rs.gov.br;PORT=32051;PROTOCOL=TCPIP;UID=\"+user+\";PWD=\"+pwd+\";\", \"\", \"\")\n",
    "conn = ibm_db_dbi.Connection(db) "
   ]
  },
  {
   "cell_type": "code",
   "execution_count": 3,
   "metadata": {},
   "outputs": [],
   "source": [
    "# id_pi -> número pessoa de interesse\n",
    "def criando_grafo(id_pi):\n",
    "    query = \"\"\"  SELECT \n",
    "                    pi1.NRO_INT_PESSOA_INTERESSE pessoa1,\n",
    "                    pi2.NRO_INT_PESSOA_INTERESSE pessoa2,\n",
    "                    gp.TXT_DESCRICAO Grau\n",
    "            FROM \n",
    "                  GESEG_TARGET.GESEG_REL_VINCULO_PESSOAL rp\n",
    "                  INNER JOIN GESEG_TARGET.GESEG_VER_PESSOA_INTERESSE pi1 ON rp.NRO_INT_PESSOA_INTERESSE = pi1.NRO_INT_PESSOA_INTERESSE\n",
    "                  INNER JOIN GESEG_TARGET.GESEG_VER_PESSOA_INTERESSE pi2 ON rp.NRO_INT_PESSOA_INTERESSE_RELACAO = pi2.NRO_INT_PESSOA_INTERESSE\n",
    "                  INNER JOIN GESEG_TARGET.GESEG_DIM_GRAU_VINCULO_PESSOAL gp ON gp.NRO_INT_GRAU_VINCULO_PESSOAL = rp.NRO_INT_GRAU_VINCULO_PESSOAL   \n",
    "                  --WHERE pi1.NOME LIKE '%BEJAR'\n",
    "            WHERE pi1.NRO_INT_PESSOA_INTERESSE = \"\"\"+id_pi+\"\"\";\"\"\"\n",
    "    \n",
    "    df = pd.read_sql_query(query, conn)\n",
    "    # alterando os nomes das colunas para letras minúsculas\n",
    "    df.rename(str.lower, axis='columns', inplace = True)\n",
    "    #informando quais colunas da tabela serão o source, target e demais atributos;\n",
    "    D = nx.from_pandas_edgelist(df, source = 'pessoa1', target = 'pessoa2', edge_attr=['grau'], create_using=nx.DiGraph())\n",
    "\n",
    "    # buscando nomes para atribuir aos nós\n",
    "    query = \"\"\"  SELECT \n",
    "                    pi1.NRO_INT_PESSOA_INTERESSE pessoa1,\n",
    "                    pi1.nome nome_source,\n",
    "                    pi2.NRO_INT_PESSOA_INTERESSE pessoa2,\n",
    "                    pi2.NOME nome_target\n",
    "            FROM \n",
    "                  GESEG_TARGET.GESEG_REL_VINCULO_PESSOAL rp\n",
    "                  INNER JOIN GESEG_TARGET.GESEG_VER_PESSOA_INTERESSE pi1 ON rp.NRO_INT_PESSOA_INTERESSE = pi1.NRO_INT_PESSOA_INTERESSE\n",
    "                  INNER JOIN GESEG_TARGET.GESEG_VER_PESSOA_INTERESSE pi2 ON rp.NRO_INT_PESSOA_INTERESSE_RELACAO = pi2.NRO_INT_PESSOA_INTERESSE\n",
    "                  INNER JOIN GESEG_TARGET.GESEG_DIM_GRAU_VINCULO_PESSOAL gp ON gp.NRO_INT_GRAU_VINCULO_PESSOAL = rp.NRO_INT_GRAU_VINCULO_PESSOAL   \n",
    "                  --WHERE pi1.NOME LIKE '%BEJAR'\n",
    "            WHERE pi1.NRO_INT_PESSOA_INTERESSE =\"\"\"+id_pi+\"\"\";\"\"\"\n",
    "    \n",
    "    #TRANSFERINDO DADOS PARA TABELA\n",
    "    df_node = pd.read_sql_query(query, conn)\n",
    "    df_node.rename(str.lower, axis='columns', inplace = True)\n",
    "    \n",
    "    df_nomes1 = df_node[['pessoa1','nome_source']]\n",
    "    df_nomes1 = df_nomes1.drop_duplicates()\n",
    "    df_nomes1.rename(columns={'pessoa1': 'id','nome_source': 'nome'}, inplace = True)\n",
    "\n",
    "    df_nomes2 = df_node.loc[:,'pessoa2':'nome_target'].copy()\n",
    "    df_nomes2.rename(columns={'pessoa2': 'id','nome_target': 'nome'}, inplace = True)\n",
    "    \n",
    "    df_nomes3 = df_nomes1.append(df_nomes2)\n",
    "    df_nomes3['label'] = df_nomes3['nome']\n",
    "    df_nomes3['title'] = df_nomes3['id']\n",
    "    \n",
    "    #transformando a tabela em um dicionário para atribuir os dados dos vértices 'ocorrencia'\n",
    "    node_ocorr_atb = df_nomes3.set_index(\"id\").T.to_dict()\n",
    "    # atributo \n",
    "    nx.set_node_attributes(D, node_ocorr_atb)\n",
    "    \n",
    "    return D;"
   ]
  },
  {
   "cell_type": "code",
   "execution_count": 4,
   "metadata": {},
   "outputs": [
    {
     "data": {
      "text/html": [
       "\n",
       "        <iframe\n",
       "            width=\"100%\"\n",
       "            height=\"750px\"\n",
       "            src=\"g.html\"\n",
       "            frameborder=\"0\"\n",
       "            allowfullscreen\n",
       "        ></iframe>\n",
       "        "
      ],
      "text/plain": [
       "<IPython.lib.display.IFrame at 0x1fff4593d68>"
      ]
     },
     "execution_count": 4,
     "metadata": {},
     "output_type": "execute_result"
    }
   ],
   "source": [
    "# Criando grafo 'Rodrigo'\n",
    "id_pi = \"\"\"'2D074B8B5A9C75450D9E1E8D2AF50F59'\"\"\"\n",
    "G = criando_grafo(id_pi)\n",
    "# plotar o grafo\n",
    "nt = Network(height='750px', width='100%', notebook = True, directed = False)\n",
    "nt.from_nx(G)\n",
    "nt.show(\"g.html\")"
   ]
  },
  {
   "cell_type": "code",
   "execution_count": 5,
   "metadata": {},
   "outputs": [
    {
     "data": {
      "text/html": [
       "\n",
       "        <iframe\n",
       "            width=\"100%\"\n",
       "            height=\"750px\"\n",
       "            src=\"m.html\"\n",
       "            frameborder=\"0\"\n",
       "            allowfullscreen\n",
       "        ></iframe>\n",
       "        "
      ],
      "text/plain": [
       "<IPython.lib.display.IFrame at 0x1fff45934a8>"
      ]
     },
     "execution_count": 5,
     "metadata": {},
     "output_type": "execute_result"
    }
   ],
   "source": [
    "# Criando grafo 'Maria de Lourdes'\n",
    "id_pi = \"\"\"'3F8515C0DA2FD112919A153903EE691C'\"\"\"\n",
    "M = criando_grafo(id_pi)\n",
    "# plotar o grafo\n",
    "nt = Network(height='750px', width='100%', notebook = True, directed = False)\n",
    "nt.from_nx(M)\n",
    "nt.show(\"m.html\")"
   ]
  },
  {
   "cell_type": "code",
   "execution_count": 6,
   "metadata": {},
   "outputs": [
    {
     "data": {
      "text/html": [
       "\n",
       "        <iframe\n",
       "            width=\"100%\"\n",
       "            height=\"750px\"\n",
       "            src=\"u.html\"\n",
       "            frameborder=\"0\"\n",
       "            allowfullscreen\n",
       "        ></iframe>\n",
       "        "
      ],
      "text/plain": [
       "<IPython.lib.display.IFrame at 0x1fff4593b70>"
      ]
     },
     "execution_count": 6,
     "metadata": {},
     "output_type": "execute_result"
    }
   ],
   "source": [
    "# Unindo os grafos\n",
    "U= nx.compose(G, M)\n",
    "# plotar o grafo completo\n",
    "nt = Network(height='750px', width='100%', notebook = True, directed = False)\n",
    "nt.from_nx(U)\n",
    "nt.show(\"u.html\")"
   ]
  },
  {
   "cell_type": "code",
   "execution_count": 7,
   "metadata": {},
   "outputs": [
    {
     "data": {
      "text/html": [
       "\n",
       "        <iframe\n",
       "            width=\"100%\"\n",
       "            height=\"750px\"\n",
       "            src=\"r.html\"\n",
       "            frameborder=\"0\"\n",
       "            allowfullscreen\n",
       "        ></iframe>\n",
       "        "
      ],
      "text/plain": [
       "<IPython.lib.display.IFrame at 0x1fff4604f28>"
      ]
     },
     "execution_count": 7,
     "metadata": {},
     "output_type": "execute_result"
    }
   ],
   "source": [
    "# Criando grafo 'Rafael'\n",
    "id_pi = \"\"\"'30253C0CFBD96A5FC1A7D9D5EAB82A9F'\"\"\"\n",
    "R = criando_grafo(id_pi)\n",
    "# plotar o grafo\n",
    "nt = Network(height='750px', width='100%', notebook = True, directed = False)\n",
    "nt.from_nx(R)\n",
    "nt.show(\"r.html\")"
   ]
  },
  {
   "cell_type": "code",
   "execution_count": 8,
   "metadata": {},
   "outputs": [
    {
     "data": {
      "text/html": [
       "\n",
       "        <iframe\n",
       "            width=\"100%\"\n",
       "            height=\"750px\"\n",
       "            src=\"u2.html\"\n",
       "            frameborder=\"0\"\n",
       "            allowfullscreen\n",
       "        ></iframe>\n",
       "        "
      ],
      "text/plain": [
       "<IPython.lib.display.IFrame at 0x1fff45e1940>"
      ]
     },
     "execution_count": 8,
     "metadata": {},
     "output_type": "execute_result"
    }
   ],
   "source": [
    "# Unindo os grafos\n",
    "U2= nx.compose(U, R)\n",
    "# plotar o grafo\n",
    "nt = Network(height='750px', width='100%', notebook = True, directed = False)\n",
    "nt.from_nx(U2)\n",
    "nt.show(\"u2.html\")"
   ]
  },
  {
   "cell_type": "code",
   "execution_count": 9,
   "metadata": {},
   "outputs": [
    {
     "data": {
      "text/html": [
       "\n",
       "        <iframe\n",
       "            width=\"100%\"\n",
       "            height=\"750px\"\n",
       "            src=\"x.html\"\n",
       "            frameborder=\"0\"\n",
       "            allowfullscreen\n",
       "        ></iframe>\n",
       "        "
      ],
      "text/plain": [
       "<IPython.lib.display.IFrame at 0x1fff4604978>"
      ]
     },
     "execution_count": 9,
     "metadata": {},
     "output_type": "execute_result"
    }
   ],
   "source": [
    "# Criando grafo 'Diego'\n",
    "id_pi = \"\"\"'A11F0D6AD28B9C703662BA9C211B1630'\"\"\"\n",
    "X = criando_grafo(id_pi)\n",
    "# plotar o grafo\n",
    "nt = Network(height='750px', width='100%', notebook = True, directed = False)\n",
    "nt.from_nx(X)\n",
    "nt.show(\"x.html\")"
   ]
  },
  {
   "cell_type": "code",
   "execution_count": 10,
   "metadata": {},
   "outputs": [],
   "source": [
    "# Unindo os grafos\n",
    "U3= nx.compose(U2, X)"
   ]
  },
  {
   "cell_type": "code",
   "execution_count": 11,
   "metadata": {},
   "outputs": [
    {
     "data": {
      "text/html": [
       "\n",
       "        <iframe\n",
       "            width=\"100%\"\n",
       "            height=\"750px\"\n",
       "            src=\"u3.html\"\n",
       "            frameborder=\"0\"\n",
       "            allowfullscreen\n",
       "        ></iframe>\n",
       "        "
      ],
      "text/plain": [
       "<IPython.lib.display.IFrame at 0x1fff35e81d0>"
      ]
     },
     "execution_count": 11,
     "metadata": {},
     "output_type": "execute_result"
    }
   ],
   "source": [
    "# plotar o grafo\n",
    "nt = Network(height='750px', width='100%', notebook = True, directed = False)\n",
    "nt.from_nx(U3)\n",
    "nt.show(\"u3.html\")"
   ]
  },
  {
   "cell_type": "code",
   "execution_count": 12,
   "metadata": {},
   "outputs": [
    {
     "data": {
      "text/html": [
       "\n",
       "        <iframe\n",
       "            width=\"100%\"\n",
       "            height=\"750px\"\n",
       "            src=\"y.html\"\n",
       "            frameborder=\"0\"\n",
       "            allowfullscreen\n",
       "        ></iframe>\n",
       "        "
      ],
      "text/plain": [
       "<IPython.lib.display.IFrame at 0x1fff46089b0>"
      ]
     },
     "execution_count": 12,
     "metadata": {},
     "output_type": "execute_result"
    }
   ],
   "source": [
    "# Criando grafo 'Marcos'\n",
    "id_pi = \"\"\"'7AF7AF93CC5D80373B325B03417A520B'\"\"\"\n",
    "Y = criando_grafo(id_pi)\n",
    "# plotar o grafo\n",
    "nt = Network(height='750px', width='100%', notebook = True, directed = False)\n",
    "nt.from_nx(Y)\n",
    "nt.show(\"y.html\")"
   ]
  },
  {
   "cell_type": "code",
   "execution_count": 13,
   "metadata": {},
   "outputs": [
    {
     "data": {
      "text/html": [
       "\n",
       "        <iframe\n",
       "            width=\"100%\"\n",
       "            height=\"750px\"\n",
       "            src=\"u4.html\"\n",
       "            frameborder=\"0\"\n",
       "            allowfullscreen\n",
       "        ></iframe>\n",
       "        "
      ],
      "text/plain": [
       "<IPython.lib.display.IFrame at 0x1fff4608f28>"
      ]
     },
     "execution_count": 13,
     "metadata": {},
     "output_type": "execute_result"
    }
   ],
   "source": [
    "# Unindo os grafos\n",
    "U4= nx.compose(U3, Y)\n",
    "# plotar o grafo\n",
    "nt = Network(height='750px', width='100%', notebook = True, directed = False)\n",
    "nt.show_buttons(filter_=['physics'])\n",
    "nt.from_nx(U4)\n",
    "nt.show(\"u4.html\")"
   ]
  },
  {
   "cell_type": "code",
   "execution_count": 14,
   "metadata": {},
   "outputs": [],
   "source": [
    "#Criando Grafo 'Ernesto'\n",
    "id_pi = \"\"\"'23882729F94FFFBDDF84C03B71A2455C'\"\"\"\n",
    "N = criando_grafo(id_pi)\n",
    "# Unindo os grafos\n",
    "U5= nx.compose(U4, N)"
   ]
  },
  {
   "cell_type": "code",
   "execution_count": 15,
   "metadata": {},
   "outputs": [],
   "source": [
    "#Criando Grafo 'Elisabeth'\n",
    "id_pi = \"\"\"'DBAF112D1B531F9777A4068C0E4314AF'\"\"\"\n",
    "S = criando_grafo(id_pi)\n",
    "# Unindo os grafos\n",
    "U6= nx.compose(U5, S)"
   ]
  },
  {
   "cell_type": "code",
   "execution_count": 16,
   "metadata": {},
   "outputs": [],
   "source": [
    "#Criando Grafo 'Roberto'\n",
    "id_pi = \"\"\"'1BB355F3641E2B3452F0686A90D12693'\"\"\"\n",
    "T = criando_grafo(id_pi)\n",
    "# Unindo os grafos\n",
    "U7= nx.compose(U6, T)"
   ]
  },
  {
   "cell_type": "code",
   "execution_count": 17,
   "metadata": {},
   "outputs": [
    {
     "data": {
      "text/html": [
       "\n",
       "        <iframe\n",
       "            width=\"100%\"\n",
       "            height=\"750px\"\n",
       "            src=\"u7.html\"\n",
       "            frameborder=\"0\"\n",
       "            allowfullscreen\n",
       "        ></iframe>\n",
       "        "
      ],
      "text/plain": [
       "<IPython.lib.display.IFrame at 0x1fff46049e8>"
      ]
     },
     "execution_count": 17,
     "metadata": {},
     "output_type": "execute_result"
    }
   ],
   "source": [
    "# plotar o grafo\n",
    "nt = Network(height='750px', width='100%', notebook = True, directed = False)\n",
    "nt.show_buttons(filter_=['physics'])\n",
    "nt.from_nx(U7)\n",
    "nt.show(\"u7.html\")"
   ]
  },
  {
   "cell_type": "markdown",
   "metadata": {},
   "source": [
    "### Particões"
   ]
  },
  {
   "cell_type": "code",
   "execution_count": 57,
   "metadata": {},
   "outputs": [],
   "source": [
    "from community import community_louvain\n",
    "import matplotlib.cm as cm\n",
    "import matplotlib.pyplot as plt"
   ]
  },
  {
   "cell_type": "code",
   "execution_count": 60,
   "metadata": {},
   "outputs": [
    {
     "name": "stdout",
     "output_type": "stream",
     "text": [
      "{'2D074B8B5A9C75450D9E1E8D2AF50F59': 0, '3F8515C0DA2FD112919A153903EE691C': 0, '11813F51695CD30C92D05791F5995BF0': 0, 'DBAF112D1B531F9777A4068C0E4314AF': 1, 'CBEA14EF288319E0C3D62055BAEC0FD0': 0, '30253C0CFBD96A5FC1A7D9D5EAB82A9F': 0, '2513A38636588A83F4E2074F0DBA4324': 0, 'D111260B5769F46B3F514D6278B6753D': 0, 'A11F0D6AD28B9C703662BA9C211B1630': 0, '23882729F94FFFBDDF84C03B71A2455C': 1, '1BB355F3641E2B3452F0686A90D12693': 1, '7AF7AF93CC5D80373B325B03417A520B': 1, '0776CBBA405673950F40651D605CE0F6': 1, '9D9F092E63B8D321DBF22DCA0CC88158': 1, '7F743034AEDB95D6011CAAB9EEDBB03D': 1, 'DD1478CE87B43137E9D32A8DF74DC719': 1}\n"
     ]
    }
   ],
   "source": [
    "U8 = nx.to_undirected(U7)\n",
    "partition = community_louvain.best_partition(U8)\n",
    "print(partition)\n"
   ]
  },
  {
   "cell_type": "code",
   "execution_count": 61,
   "metadata": {},
   "outputs": [
    {
     "data": {
      "image/png": "[encoded data removed]",
      "text/plain": [
       "<Figure size 432x288 with 1 Axes>"
      ]
     },
     "metadata": {
      "needs_background": "light"
     },
     "output_type": "display_data"
    }
   ],
   "source": [
    "pos = nx.spring_layout(U8)\n",
    "cmap = cm.get_cmap('viridis', max(partition.values()) + 1)\n",
    "nx.draw_networkx_nodes(U8, pos, partition.keys(), node_size=40, \n",
    "                        cmap=cmap, node_color=list(partition.values()))\n",
    "nx.draw_networkx_edges(U8, pos, alpha=0.5)\n",
    "plt.show()"
   ]
  },
  {
   "cell_type": "code",
   "execution_count": 65,
   "metadata": {},
   "outputs": [
    {
     "data": {
      "text/plain": [
       "True"
      ]
     },
     "execution_count": 65,
     "metadata": {},
     "output_type": "execute_result"
    }
   ],
   "source": [
    "conn.close()"
   ]
  }
 ],
 "metadata": {
  "kernelspec": {
   "display_name": "Python 3",
   "language": "python",
   "name": "python3"
  },
  "language_info": {
   "codemirror_mode": {
    "name": "ipython",
    "version": 3
   },
   "file_extension": ".py",
   "mimetype": "text/x-python",
   "name": "python",
   "nbconvert_exporter": "python",
   "pygments_lexer": "ipython3",
   "version": "3.7.0"
  }
 },
 "nbformat": 4,
 "nbformat_minor": 2
}
