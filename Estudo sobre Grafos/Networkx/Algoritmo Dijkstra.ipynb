{
 "cells": [
  {
   "cell_type": "markdown",
   "metadata": {},
   "source": [
    "# Caminhos entre dois vértices\n",
    "\n",
    "https://networkx.org/documentation/stable/reference/algorithms/simple_paths.html?highlight=path#module-networkx.algorithms.simple_paths\n",
    "\n",
    "https://networkx.org/documentation/stable/reference/algorithms/shortest_paths.html?highlight=path"
   ]
  },
  {
   "cell_type": "code",
   "execution_count": 1,
   "metadata": {},
   "outputs": [],
   "source": [
    "import networkx as nx\n",
    "import pandas as pd\n",
    "from pyvis.network import Network\n",
    "#import sqlalchemy\n",
    "import ibm_db\n",
    "import ibm_db_dbi"
   ]
  },
  {
   "cell_type": "code",
   "execution_count": 2,
   "metadata": {},
   "outputs": [],
   "source": [
    "#conactando ao BigSql\n",
    "#colocar credenciais\n",
    "db = ibm_db.connect(\"DATABASE=BIGSQL;HOSTNAME=bigsql.pro.intra.rs.gov.br;PORT=32051;PROTOCOL=TCPIP;UID=XXXXXX;PWD=XXXXXXX;\", \"\", \"\")\n",
    "conn = ibm_db_dbi.Connection(db)   \n",
    "#cur = conn.cursor()"
   ]
  },
  {
   "cell_type": "code",
   "execution_count": 3,
   "metadata": {},
   "outputs": [],
   "source": [
    "# buscando os dados \n",
    "query = \"select SRC,TGT,REL,WEIGHT from PROCERGS_MILENA_VILLAR.RELACIONAMENTO;\"\n",
    "df = pd.read_sql_query(query, conn)\n",
    "g = nx.from_pandas_edgelist(df, 'SRC', 'TGT', edge_attr=True)\n"
   ]
  },
  {
   "cell_type": "code",
   "execution_count": 4,
   "metadata": {},
   "outputs": [],
   "source": [
    "# criando o grafo não direcionado\n",
    "G = nx.Graph(g)"
   ]
  },
  {
   "cell_type": "code",
   "execution_count": 5,
   "metadata": {},
   "outputs": [
    {
     "data": {
      "text/plain": [
       "EdgeDataView([(1, 2, {'REL': 'marido', 'WEIGHT': 4}), (1, 3, {'REL': 'mãe', 'WEIGHT': 5}), (1, 4, {'REL': 'mãe', 'WEIGHT': 5}), (1, 16, {'REL': 'irmã', 'WEIGHT': 3}), (1, 14, {'REL': 'mãe', 'WEIGHT': 5}), (1, 15, {'REL': 'pai', 'WEIGHT': 5}), (1, 11, {'REL': 'cunhada', 'WEIGHT': 1}), (1, 10, {'REL': 'irmão', 'WEIGHT': 3}), (1, 5, {'REL': 'sogra', 'WEIGHT': 1})])"
      ]
     },
     "execution_count": 5,
     "metadata": {},
     "output_type": "execute_result"
    }
   ],
   "source": [
    "#verificando os atributos das arestas\n",
    "G.edges(1,data=True)"
   ]
  },
  {
   "cell_type": "code",
   "execution_count": 6,
   "metadata": {
    "scrolled": true
   },
   "outputs": [
    {
     "data": {
      "text/html": [
       "\n",
       "        <iframe\n",
       "            width=\"900px\"\n",
       "            height=\"400px\"\n",
       "            src=\"grafo.html\"\n",
       "            frameborder=\"0\"\n",
       "            allowfullscreen\n",
       "        ></iframe>\n",
       "        "
      ],
      "text/plain": [
       "<IPython.lib.display.IFrame at 0xe148d90>"
      ]
     },
     "execution_count": 6,
     "metadata": {},
     "output_type": "execute_result"
    }
   ],
   "source": [
    "# plotar o grafo\n",
    "nt = Network(\"400px\", \"900px\", notebook = True)\n",
    "nt.from_nx(G)\n",
    "nt.show(\"grafo.html\")"
   ]
  },
  {
   "cell_type": "code",
   "execution_count": 7,
   "metadata": {},
   "outputs": [],
   "source": [
    "#buscando os labels dos nós(vértices)\n",
    "query = \"select * from PROCERGS_MILENA_VILLAR.PESSOAS;\"\n",
    "df_node = pd.read_sql_query(query, conn)"
   ]
  },
  {
   "cell_type": "code",
   "execution_count": 8,
   "metadata": {},
   "outputs": [
    {
     "data": {
      "text/plain": [
       "NodeDataView({2: {'size': 10, 'title': 'Eloi'}, 1: {'size': 10, 'title': 'Vivianne'}, 3: {'size': 10, 'title': 'Jade'}, 4: {'size': 10, 'title': 'Camila'}, 10: {'size': 10, 'title': 'Fabio'}, 16: {'size': 10, 'title': 'Virginia'}, 11: {'size': 10, 'title': 'Elis'}, 12: {'size': 10, 'title': 'Felipe'}, 13: {'size': 10, 'title': 'Brenda'}, 15: {'size': 10, 'title': 'Ney'}, 14: {'size': 10, 'title': 'Maria'}, 17: {'size': 10, 'title': 'Joaquim'}, 18: {'size': 10, 'title': 'Marisa'}, 7: {'size': 10, 'title': 'Inês'}, 19: {'size': 10, 'title': 'Maiara'}, 20: {'size': 10, 'title': 'Ligia'}, 8: {'size': 10, 'title': 'Barbara'}, 6: {'size': 10, 'title': 'Ricardo'}, 5: {'size': 10, 'title': 'Eduardo'}, 9: {'size': 10, 'title': 'Carolina'}})"
      ]
     },
     "execution_count": 8,
     "metadata": {},
     "output_type": "execute_result"
    }
   ],
   "source": [
    "#transformando a tabela em um dicionário para atribuir labels aos IDs dos nós\n",
    "nodelabel = df_node.set_index(\"ID\").T.to_dict('records')[0]\n",
    "# atribuindo o atributo label\n",
    "nx.set_node_attributes(G, nodelabel, 'title')\n",
    "G.nodes(data=True)"
   ]
  },
  {
   "cell_type": "code",
   "execution_count": 9,
   "metadata": {},
   "outputs": [
    {
     "data": {
      "text/plain": [
       "{3: {'size': 10, 'title': 'Jade'}}"
      ]
     },
     "execution_count": 9,
     "metadata": {},
     "output_type": "execute_result"
    }
   ],
   "source": [
    "#Descobrindo o ID do node Jade\n",
    "dict(filter(lambda x: x[0] if x[1]['title'] == 'Jade' else False, G.nodes(data=True)))"
   ]
  },
  {
   "cell_type": "code",
   "execution_count": 10,
   "metadata": {},
   "outputs": [
    {
     "data": {
      "text/plain": [
       "{18: {'size': 10, 'title': 'Marisa'}}"
      ]
     },
     "execution_count": 10,
     "metadata": {},
     "output_type": "execute_result"
    }
   ],
   "source": [
    "#Descobrindo o ID do node Marisa\n",
    "dict(filter(lambda x: x[0] if x[1]['title'] == 'Marisa' else False, G.nodes(data=True)))"
   ]
  },
  {
   "cell_type": "code",
   "execution_count": 11,
   "metadata": {},
   "outputs": [
    {
     "name": "stdout",
     "output_type": "stream",
     "text": [
      "False\n"
     ]
    }
   ],
   "source": [
    "# Jade e Marisa são amigas?\n",
    "print(G.has_edge(3,18))"
   ]
  },
  {
   "cell_type": "code",
   "execution_count": 12,
   "metadata": {},
   "outputs": [
    {
     "data": {
      "text/plain": [
       "False"
      ]
     },
     "execution_count": 12,
     "metadata": {},
     "output_type": "execute_result"
    }
   ],
   "source": [
    "#outra opção\n",
    "def nodes_connected(u, v):\n",
    "    return u in G.neighbors(v)\n",
    "\n",
    "nodes_connected(3,18)"
   ]
  },
  {
   "cell_type": "code",
   "execution_count": 13,
   "metadata": {},
   "outputs": [
    {
     "data": {
      "text/plain": [
       "True"
      ]
     },
     "execution_count": 13,
     "metadata": {},
     "output_type": "execute_result"
    }
   ],
   "source": [
    "#Existe um caminho entre os vértices?\n",
    "nx.has_path(G,3,18)"
   ]
  },
  {
   "cell_type": "markdown",
   "metadata": {},
   "source": [
    "## Algoritmo Dijkstra\n",
    "Soluciona o problema do caminho mais curto em grafos com arestas de peso não negativo.\n",
    "O algoritmo que serve para resolver o mesmo problema em um grafo com pesos negativos é o algoritmo de Bellman-Ford,\n",
    "que possui maior tempo de execução que o Dijkstra.\n",
    "\n",
    "https://www.youtube.com/watch?v=ovkITlgyJ2s\n",
    "\n",
    "https://www.youtube.com/watch?v=aJ_2c9NVCIc"
   ]
  },
  {
   "cell_type": "code",
   "execution_count": 14,
   "metadata": {},
   "outputs": [
    {
     "name": "stdout",
     "output_type": "stream",
     "text": [
      "Caminho de custo mínimo:  [3, 5, 6, 18]\n",
      "Tamanho do caminho:  3\n"
     ]
    }
   ],
   "source": [
    "# Descobre o caminho de custo mínimo (ccm) do vértice Jade até Marisa // o peso das arestas é considerado\n",
    "ccm = nx.dijkstra_path(G,source = 3, target = 18, weight = 'WEIGHT') \n",
    "tam = nx.dijkstra_path_length(G,source = 3, target = 18, weight = 'WEIGHT')\n",
    "print('Caminho de custo mínimo: ', ccm)\n",
    "print('Tamanho do caminho: ', tam) # soma dos pesos das arestas"
   ]
  },
  {
   "cell_type": "code",
   "execution_count": 15,
   "metadata": {},
   "outputs": [
    {
     "name": "stdout",
     "output_type": "stream",
     "text": [
      "Caminho de custo mínimo:  [3, 5, 6, 18]\n",
      "Tamanho do caminho:  3\n"
     ]
    }
   ],
   "source": [
    "#outra forma\n",
    "#O caminho mais curto\n",
    "ccm = nx.shortest_path(G, 3, 18, weight = 'WEIGHT', method= 'dijkstra') # method= 'bellman-ford' (para pesos/valores negativos), 'dijkstra'\n",
    "# tamanho do caminho\n",
    "tam =nx.shortest_path_length(G, 3, 18, weight = 'WEIGHT', method= 'dijkstra') # method= 'bellman-ford', 'dijkstra'\n",
    "print('Caminho de custo mínimo: ', ccm)\n",
    "print('Tamanho do caminho: ', tam)"
   ]
  },
  {
   "cell_type": "code",
   "execution_count": 16,
   "metadata": {},
   "outputs": [
    {
     "name": "stdout",
     "output_type": "stream",
     "text": [
      "[3, 4, 8, 18]\n",
      "[3, 4, 9, 18]\n",
      "[3, 4, 6, 18]\n",
      "[3, 4, 7, 18]\n",
      "[3, 5, 8, 18]\n",
      "[3, 5, 6, 18]\n",
      "[3, 5, 9, 18]\n"
     ]
    }
   ],
   "source": [
    "# Gerando todos os caminhos de Jade até Marisa.\n",
    "#Um caminho simples é um caminho sem nós repetidos\n",
    "for path in nx.all_simple_paths(G, source=3, target=18, cutoff=3): # cutoff é o tamanho do caminho\n",
    "    print(path)\n"
   ]
  },
  {
   "cell_type": "code",
   "execution_count": 17,
   "metadata": {},
   "outputs": [
    {
     "name": "stdout",
     "output_type": "stream",
     "text": [
      "[(3, 4), (4, 8), (8, 18)]\n",
      "[(3, 4), (4, 9), (9, 18)]\n",
      "[(3, 4), (4, 6), (6, 18)]\n",
      "[(3, 4), (4, 7), (7, 18)]\n",
      "[(3, 5), (5, 8), (8, 18)]\n",
      "[(3, 5), (5, 6), (6, 18)]\n",
      "[(3, 5), (5, 9), (9, 18)]\n"
     ]
    }
   ],
   "source": [
    "# Mostra todos as arestas que ligam cada vértice do caminho\n",
    "for path in nx.all_simple_edge_paths(G, 3, 18, cutoff = 3):\n",
    "    print(path)"
   ]
  },
  {
   "cell_type": "code",
   "execution_count": 18,
   "metadata": {},
   "outputs": [
    {
     "data": {
      "text/plain": [
       "10"
      ]
     },
     "execution_count": 18,
     "metadata": {},
     "output_type": "execute_result"
    }
   ],
   "source": [
    "d =  G.get_edge_data(3,4)['WEIGHT'] + G.get_edge_data(4,8)['WEIGHT'] + G.get_edge_data(8,18)['WEIGHT']\n",
    "d"
   ]
  },
  {
   "cell_type": "code",
   "execution_count": 19,
   "metadata": {},
   "outputs": [
    {
     "data": {
      "text/plain": [
       "3"
      ]
     },
     "execution_count": 19,
     "metadata": {},
     "output_type": "execute_result"
    }
   ],
   "source": [
    "d =  G.get_edge_data(3,5)['WEIGHT'] + G.get_edge_data(5,6)['WEIGHT'] + G.get_edge_data(6,18)['WEIGHT']\n",
    "d"
   ]
  },
  {
   "cell_type": "code",
   "execution_count": 21,
   "metadata": {},
   "outputs": [
    {
     "name": "stdout",
     "output_type": "stream",
     "text": [
      "Caminho de custo mínimo:  [1, 5, 3, 13, 4, 20]\n",
      "Tamanho do caminho:  7\n"
     ]
    }
   ],
   "source": [
    "# outro exemplo\n",
    "# Descobre o caminho de custo mínimo (ccm) do vértice // o peso das arestas é considerado\n",
    "ccm = nx.dijkstra_path(G,source = 1, target =20, weight = 'WEIGHT') \n",
    "tam = nx.dijkstra_path_length(G,source = 1, target = 20, weight = 'WEIGHT')\n",
    "print('Caminho de custo mínimo: ', ccm)\n",
    "print('Tamanho do caminho: ', tam)"
   ]
  }
 ],
 "metadata": {
  "kernelspec": {
   "display_name": "Python 3",
   "language": "python",
   "name": "python3"
  },
  "language_info": {
   "codemirror_mode": {
    "name": "ipython",
    "version": 3
   },
   "file_extension": ".py",
   "mimetype": "text/x-python",
   "name": "python",
   "nbconvert_exporter": "python",
   "pygments_lexer": "ipython3",
   "version": "3.7.4"
  }
 },
 "nbformat": 4,
 "nbformat_minor": 4
}
