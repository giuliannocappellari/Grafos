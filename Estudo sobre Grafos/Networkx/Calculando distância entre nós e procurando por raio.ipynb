{
 "cells": [
  {
   "cell_type": "markdown",
   "metadata": {},
   "source": [
    "\n",
    "\n"
   ]
  },
  {
   "cell_type": "code",
   "execution_count": 1,
   "metadata": {},
   "outputs": [],
   "source": [
    "import networkx as nx\n",
    "import pandas as pd\n",
    "from pyvis.network import Network\n",
    "import ibm_db\n",
    "import ibm_db_dbi"
   ]
  },
  {
   "cell_type": "code",
   "execution_count": 2,
   "metadata": {},
   "outputs": [],
   "source": [
    "#conectando ao BigSql\n",
    "#COLOCAR CREDENCIAIS\n",
    "db = ibm_db.connect(\"DATABASE=BIGSQL;HOSTNAME=bigsql.pro.intra.rs.gov.br;PORT=32051;PROTOCOL=TCPIP;UID=XXXXXX;PWD=XXXXX;\", \"\", \"\")\n",
    "conn = ibm_db_dbi.Connection(db)   "
   ]
  },
  {
   "cell_type": "code",
   "execution_count": 3,
   "metadata": {},
   "outputs": [
    {
     "data": {
      "text/html": [
       "<div>\n",
       "<style scoped>\n",
       "    .dataframe tbody tr th:only-of-type {\n",
       "        vertical-align: middle;\n",
       "    }\n",
       "\n",
       "    .dataframe tbody tr th {\n",
       "        vertical-align: top;\n",
       "    }\n",
       "\n",
       "    .dataframe thead th {\n",
       "        text-align: right;\n",
       "    }\n",
       "</style>\n",
       "<table border=\"1\" class=\"dataframe\">\n",
       "  <thead>\n",
       "    <tr style=\"text-align: right;\">\n",
       "      <th></th>\n",
       "      <th>src</th>\n",
       "      <th>tgt</th>\n",
       "      <th>rel</th>\n",
       "      <th>weight</th>\n",
       "      <th>edge_key</th>\n",
       "    </tr>\n",
       "  </thead>\n",
       "  <tbody>\n",
       "    <tr>\n",
       "      <th>0</th>\n",
       "      <td>3</td>\n",
       "      <td>4</td>\n",
       "      <td>irmã</td>\n",
       "      <td>3</td>\n",
       "      <td>F</td>\n",
       "    </tr>\n",
       "    <tr>\n",
       "      <th>1</th>\n",
       "      <td>5</td>\n",
       "      <td>4</td>\n",
       "      <td>co-autores</td>\n",
       "      <td>4</td>\n",
       "      <td>C</td>\n",
       "    </tr>\n",
       "    <tr>\n",
       "      <th>2</th>\n",
       "      <td>5</td>\n",
       "      <td>4</td>\n",
       "      <td>co-autores</td>\n",
       "      <td>4</td>\n",
       "      <td>C</td>\n",
       "    </tr>\n",
       "    <tr>\n",
       "      <th>3</th>\n",
       "      <td>6</td>\n",
       "      <td>7</td>\n",
       "      <td>co-autores</td>\n",
       "      <td>2</td>\n",
       "      <td>C</td>\n",
       "    </tr>\n",
       "    <tr>\n",
       "      <th>4</th>\n",
       "      <td>7</td>\n",
       "      <td>6</td>\n",
       "      <td>co-autores</td>\n",
       "      <td>2</td>\n",
       "      <td>C</td>\n",
       "    </tr>\n",
       "  </tbody>\n",
       "</table>\n",
       "</div>"
      ],
      "text/plain": [
       "   src  tgt         rel  weight edge_key\n",
       "0    3    4        irmã       3        F\n",
       "1    5    4  co-autores       4        C\n",
       "2    5    4  co-autores       4        C\n",
       "3    6    7  co-autores       2        C\n",
       "4    7    6  co-autores       2        C"
      ]
     },
     "execution_count": 3,
     "metadata": {},
     "output_type": "execute_result"
    }
   ],
   "source": [
    "# buscando os dados das arestas / quem se relaciona com quem\n",
    "query = \"select * from PROCERGS_MILENA_VILLAR.RELACIONAMENTO2;\"\n",
    "df = pd.read_sql_query(query, conn)\n",
    "# alterando os nomes das colunas para letras minúsculas\n",
    "df.rename(str.lower, axis='columns', inplace = True)\n",
    "df.head()"
   ]
  },
  {
   "cell_type": "code",
   "execution_count": 4,
   "metadata": {},
   "outputs": [],
   "source": [
    "#informando quais colunas da tabela serão o source, target e demais atributos;\n",
    "#create_using específica qual é o tipo do grafo\n",
    "# edge_key diferencia / categoriza o tipo de relação\n",
    "M = nx.from_pandas_edgelist(df, source = 'src', target = 'tgt', edge_key='edge_key', edge_attr=['rel','weight'], create_using=nx.MultiDiGraph())"
   ]
  },
  {
   "cell_type": "code",
   "execution_count": 5,
   "metadata": {},
   "outputs": [
    {
     "data": {
      "text/plain": [
       "True"
      ]
     },
     "execution_count": 5,
     "metadata": {},
     "output_type": "execute_result"
    }
   ],
   "source": [
    "# verificando se o grafo está considerando a coluna weight como peso\n",
    "nx.is_weighted(M)"
   ]
  },
  {
   "cell_type": "code",
   "execution_count": 6,
   "metadata": {},
   "outputs": [
    {
     "data": {
      "text/plain": [
       "[(1, 2, 'C', {'rel': 'co-autores', 'weight': 4}),\n",
       " (1, 3, 'F', {'rel': 'mãe', 'weight': 5}),\n",
       " (1, 4, 'F', {'rel': 'mãe', 'weight': 5}),\n",
       " (1, 10, 'F', {'rel': 'irmão', 'weight': 3}),\n",
       " (1, 16, 'F', {'rel': 'irmã', 'weight': 3})]"
      ]
     },
     "execution_count": 6,
     "metadata": {},
     "output_type": "execute_result"
    }
   ],
   "source": [
    "# verificando se importou os edges corretamente\n",
    "sorted(M.edges(data = True, keys = True))[:5]"
   ]
  },
  {
   "cell_type": "code",
   "execution_count": 7,
   "metadata": {
    "scrolled": true
   },
   "outputs": [
    {
     "data": {
      "text/html": [
       "\n",
       "        <iframe\n",
       "            width=\"900px\"\n",
       "            height=\"400px\"\n",
       "            src=\"m.html\"\n",
       "            frameborder=\"0\"\n",
       "            allowfullscreen\n",
       "        ></iframe>\n",
       "        "
      ],
      "text/plain": [
       "<IPython.lib.display.IFrame at 0x126d5310>"
      ]
     },
     "execution_count": 7,
     "metadata": {},
     "output_type": "execute_result"
    }
   ],
   "source": [
    "# plotar o grafo\n",
    "nt = Network(\"400px\", \"900px\", notebook = True, directed = False)\n",
    "nt.from_nx(M)\n",
    "nt.show(\"m.html\")"
   ]
  },
  {
   "cell_type": "code",
   "execution_count": 8,
   "metadata": {},
   "outputs": [],
   "source": [
    "#buscando os labels dos nós(vértices)\n",
    "query = \"select * from PROCERGS_MILENA_VILLAR.ATRIBUTOS;\"\n",
    "df_node = pd.read_sql_query(query, conn)"
   ]
  },
  {
   "cell_type": "code",
   "execution_count": 9,
   "metadata": {},
   "outputs": [
    {
     "data": {
      "text/html": [
       "<div>\n",
       "<style scoped>\n",
       "    .dataframe tbody tr th:only-of-type {\n",
       "        vertical-align: middle;\n",
       "    }\n",
       "\n",
       "    .dataframe tbody tr th {\n",
       "        vertical-align: top;\n",
       "    }\n",
       "\n",
       "    .dataframe thead th {\n",
       "        text-align: right;\n",
       "    }\n",
       "</style>\n",
       "<table border=\"1\" class=\"dataframe\">\n",
       "  <thead>\n",
       "    <tr style=\"text-align: right;\">\n",
       "      <th></th>\n",
       "      <th>ID</th>\n",
       "      <th>NOME</th>\n",
       "      <th>SZ</th>\n",
       "      <th>GP</th>\n",
       "      <th>LAT</th>\n",
       "      <th>LONGT</th>\n",
       "      <th>P_ARMA</th>\n",
       "      <th>TIPO_ARMA</th>\n",
       "      <th>TIPO_CRIME</th>\n",
       "      <th>NUM_VITIMAS</th>\n",
       "    </tr>\n",
       "  </thead>\n",
       "  <tbody>\n",
       "    <tr>\n",
       "      <th>0</th>\n",
       "      <td>1</td>\n",
       "      <td>Vivianne</td>\n",
       "      <td>15</td>\n",
       "      <td>1</td>\n",
       "      <td>-29.881725</td>\n",
       "      <td>-51.164042</td>\n",
       "      <td>SIM</td>\n",
       "      <td>2</td>\n",
       "      <td>ASSALTO</td>\n",
       "      <td>5</td>\n",
       "    </tr>\n",
       "    <tr>\n",
       "      <th>1</th>\n",
       "      <td>2</td>\n",
       "      <td>Eloi</td>\n",
       "      <td>5</td>\n",
       "      <td>1</td>\n",
       "      <td>-29.881725</td>\n",
       "      <td>-51.164042</td>\n",
       "      <td>SIM</td>\n",
       "      <td>2</td>\n",
       "      <td>NÃO</td>\n",
       "      <td>0</td>\n",
       "    </tr>\n",
       "    <tr>\n",
       "      <th>2</th>\n",
       "      <td>3</td>\n",
       "      <td>Jade</td>\n",
       "      <td>5</td>\n",
       "      <td>1</td>\n",
       "      <td>-29.881725</td>\n",
       "      <td>-51.164042</td>\n",
       "      <td>NÃO</td>\n",
       "      <td>0</td>\n",
       "      <td>NÃO</td>\n",
       "      <td>0</td>\n",
       "    </tr>\n",
       "    <tr>\n",
       "      <th>3</th>\n",
       "      <td>4</td>\n",
       "      <td>Camila</td>\n",
       "      <td>15</td>\n",
       "      <td>2</td>\n",
       "      <td>-29.894814</td>\n",
       "      <td>-51.159835</td>\n",
       "      <td>SIM</td>\n",
       "      <td>4</td>\n",
       "      <td>SEQUESTRO</td>\n",
       "      <td>3</td>\n",
       "    </tr>\n",
       "    <tr>\n",
       "      <th>4</th>\n",
       "      <td>5</td>\n",
       "      <td>Eduardo</td>\n",
       "      <td>5</td>\n",
       "      <td>2</td>\n",
       "      <td>-29.894814</td>\n",
       "      <td>-51.159835</td>\n",
       "      <td>SIM</td>\n",
       "      <td>2</td>\n",
       "      <td>ASSALTO</td>\n",
       "      <td>3</td>\n",
       "    </tr>\n",
       "  </tbody>\n",
       "</table>\n",
       "</div>"
      ],
      "text/plain": [
       "   ID      NOME  SZ  GP        LAT      LONGT P_ARMA TIPO_ARMA TIPO_CRIME  \\\n",
       "0   1  Vivianne  15   1 -29.881725 -51.164042    SIM         2    ASSALTO   \n",
       "1   2      Eloi   5   1 -29.881725 -51.164042    SIM         2        NÃO   \n",
       "2   3      Jade   5   1 -29.881725 -51.164042    NÃO         0        NÃO   \n",
       "3   4    Camila  15   2 -29.894814 -51.159835    SIM         4  SEQUESTRO   \n",
       "4   5   Eduardo   5   2 -29.894814 -51.159835    SIM         2    ASSALTO   \n",
       "\n",
       "   NUM_VITIMAS  \n",
       "0            5  \n",
       "1            0  \n",
       "2            0  \n",
       "3            3  \n",
       "4            3  "
      ]
     },
     "execution_count": 9,
     "metadata": {},
     "output_type": "execute_result"
    }
   ],
   "source": [
    "df_node.head()"
   ]
  },
  {
   "cell_type": "code",
   "execution_count": 10,
   "metadata": {},
   "outputs": [],
   "source": [
    "#transformando a tabela em um dicionário para atribuir labels aos IDs dos nós\n",
    "nodelabel = df_node.set_index(\"ID\").T.to_dict('records')[0]\n",
    "# atribuindo o atributo label\n",
    "nx.set_node_attributes(M, nodelabel, 'title')\n",
    "#M.nodes(data=True)"
   ]
  },
  {
   "cell_type": "code",
   "execution_count": 11,
   "metadata": {},
   "outputs": [],
   "source": [
    "#buscando os tamanhos dos nós(vértices)\n",
    "query = \"select ID,SZ from PROCERGS_MILENA_VILLAR.ATRIBUTOS;\"\n",
    "a = pd.read_sql_query(query, conn)"
   ]
  },
  {
   "cell_type": "code",
   "execution_count": 12,
   "metadata": {},
   "outputs": [],
   "source": [
    "#transformando a tabela em um dicionário para atribuir os tamanhos aos IDs dos nós\n",
    "nodeatrib = a.set_index(\"ID\").T.to_dict('records')[0]\n",
    "# atribuindo o atributo label\n",
    "nx.set_node_attributes(M, nodeatrib, 'size')\n",
    "#M.nodes(data=True)"
   ]
  },
  {
   "cell_type": "code",
   "execution_count": 13,
   "metadata": {},
   "outputs": [],
   "source": [
    "#buscando os grupos dos nós(vértices)\n",
    "query = \"select ID,GP from PROCERGS_MILENA_VILLAR.ATRIBUTOS;\"\n",
    "g = pd.read_sql_query(query, conn)"
   ]
  },
  {
   "cell_type": "code",
   "execution_count": 14,
   "metadata": {},
   "outputs": [],
   "source": [
    "#transformando a tabela em um dicionário para atribuir os grupos aos IDs dos nós\n",
    "nodeatrib = g.set_index(\"ID\").T.to_dict('records')[0]\n",
    "# atribuindo o atributo label\n",
    "nx.set_node_attributes(M, nodeatrib, 'group')\n",
    "#M.nodes(data=True)"
   ]
  },
  {
   "cell_type": "code",
   "execution_count": 15,
   "metadata": {},
   "outputs": [],
   "source": [
    "#buscando o atributo coordenadas dos nós(vértices)\n",
    "query = \"select * from PROCERGS_MILENA_VILLAR.COORDENADAS;\"\n",
    "at_node = pd.read_sql_query(query, conn)\n",
    "#at_node.head()"
   ]
  },
  {
   "cell_type": "code",
   "execution_count": 16,
   "metadata": {},
   "outputs": [],
   "source": [
    "#transformando a tabela em um dicionário\n",
    "c = at_node.set_index(\"ID\").T.to_dict('list')\n",
    "#adicionando o atributo coordenada\n",
    "nx.set_node_attributes(M, c, 'pos')\n",
    "#M.nodes(data=True)"
   ]
  },
  {
   "cell_type": "code",
   "execution_count": 17,
   "metadata": {},
   "outputs": [],
   "source": [
    "#buscando TIPO DE CRIME, NUM. VÍTIMAS dos nós(vértices)\n",
    "query = \"select ID,P_ARMA,TIPO_ARMA,TIPO_CRIME,NUM_VITIMAS from PROCERGS_MILENA_VILLAR.ATRIBUTOS;\"\n",
    "g = pd.read_sql_query(query, conn)"
   ]
  },
  {
   "cell_type": "code",
   "execution_count": 18,
   "metadata": {},
   "outputs": [],
   "source": [
    "#transformando a tabela em um dicionário para atribuir aos IDs dos nós\n",
    "nodeatrib = g.set_index(\"ID\").T.to_dict()\n",
    "# atribuindo o atributo \n",
    "nx.set_node_attributes(M, nodeatrib)\n",
    "#M.nodes(data=True)"
   ]
  },
  {
   "cell_type": "code",
   "execution_count": 19,
   "metadata": {},
   "outputs": [
    {
     "data": {
      "text/html": [
       "\n",
       "        <iframe\n",
       "            width=\"900px\"\n",
       "            height=\"400px\"\n",
       "            src=\"mg.html\"\n",
       "            frameborder=\"0\"\n",
       "            allowfullscreen\n",
       "        ></iframe>\n",
       "        "
      ],
      "text/plain": [
       "<IPython.lib.display.IFrame at 0x126da9d0>"
      ]
     },
     "execution_count": 19,
     "metadata": {},
     "output_type": "execute_result"
    }
   ],
   "source": [
    "# plotar o grafo\n",
    "nt = Network(\"400px\", \"900px\", notebook = True)\n",
    "nt.toggle_hide_edges_on_drag(False) # esconde as arestas quando clica com o mouse\n",
    "#nt.barnes_hut() #tipo de layout\n",
    "# nt.show_buttons(filter_=['physics'])\n",
    "nt.from_nx(M)\n",
    "nt.show(\"mg.html\")"
   ]
  },
  {
   "cell_type": "markdown",
   "metadata": {},
   "source": [
    "### Calculando distância entre nós"
   ]
  },
  {
   "cell_type": "code",
   "execution_count": 20,
   "metadata": {},
   "outputs": [],
   "source": [
    "# calculando distância em Km\n",
    "import geopy.distance\n",
    "def distancia(nodes, i, j):\n",
    "    p1 = M.nodes[i]['pos']\n",
    "    p2 = M.nodes[j]['pos']\n",
    "    return geopy.distance.distance(p1, p2).km"
   ]
  },
  {
   "cell_type": "code",
   "execution_count": 21,
   "metadata": {},
   "outputs": [],
   "source": [
    "G = nx.Graph()"
   ]
  },
  {
   "cell_type": "code",
   "execution_count": 22,
   "metadata": {},
   "outputs": [],
   "source": [
    "# Calculando a distância entre todos os nós, criando arestas entre esses nós e adicionando chave 'D', atribuindo () a distancia entre os nós\n",
    "for u in M:\n",
    "    for v in M:\n",
    "        if (u != v):\n",
    "            dt = distancia(M.nodes, u, v)\n",
    "            G.add_edge(u, v, distancia = dt)"
   ]
  },
  {
   "cell_type": "code",
   "execution_count": 23,
   "metadata": {},
   "outputs": [
    {
     "data": {
      "text/html": [
       "\n",
       "        <iframe\n",
       "            width=\"900px\"\n",
       "            height=\"400px\"\n",
       "            src=\"g.html\"\n",
       "            frameborder=\"0\"\n",
       "            allowfullscreen\n",
       "        ></iframe>\n",
       "        "
      ],
      "text/plain": [
       "<IPython.lib.display.IFrame at 0x126da0f0>"
      ]
     },
     "execution_count": 23,
     "metadata": {},
     "output_type": "execute_result"
    }
   ],
   "source": [
    "nt = Network(\"400px\", \"900px\", notebook = True)\n",
    "nt.from_nx(G)\n",
    "nt.show(\"g.html\")"
   ]
  },
  {
   "cell_type": "markdown",
   "metadata": {},
   "source": [
    "#### Achar todo os nós em um raio de 2km do nó 1.\n",
    "#### Mostrar distância desses nós em relação ao nó 1.\n",
    "#### Se o nó não for 'vizinho' de 1, mostrar caminho custo mínimo até esse nó."
   ]
  },
  {
   "cell_type": "code",
   "execution_count": 24,
   "metadata": {},
   "outputs": [
    {
     "data": {
      "text/plain": [
       "{1: 0,\n",
       " 3: 0.0,\n",
       " 2: 0.0,\n",
       " 4: 1.5068113311624167,\n",
       " 5: 1.5068113311624167,\n",
       " 15: 1.8759250723451013,\n",
       " 14: 1.8759250723451013,\n",
       " 10: 1.8759250723451013,\n",
       " 13: 1.8759250723451013,\n",
       " 12: 1.8759250723451013,\n",
       " 11: 1.8759250723451013}"
      ]
     },
     "execution_count": 24,
     "metadata": {},
     "output_type": "execute_result"
    }
   ],
   "source": [
    "# achar todos os nós que estão em um raio de 2km de um determinado nó (1)\n",
    "distancia, caminho = nx.single_source_dijkstra(G, source= 1, target=None, cutoff= 2, weight='distancia')\n",
    "distancia"
   ]
  },
  {
   "cell_type": "code",
   "execution_count": 25,
   "metadata": {},
   "outputs": [],
   "source": [
    "# Separando os nós que são vizinhos \n",
    "vizinhos = M.adj[1]\n",
    "dist_vizinho = {k: v for k, v in distancia.items() if k in vizinhos}\n",
    "# Separando os nós que não são vizinhos\n",
    "dist_nao_vizinho = {k: v for k, v in distancia.items() if k not in vizinhos}\n",
    "nao_vizinhos = list(sorted(dist_nao_vizinho.keys()))"
   ]
  },
  {
   "cell_type": "code",
   "execution_count": 26,
   "metadata": {},
   "outputs": [
    {
     "name": "stdout",
     "output_type": "stream",
     "text": [
      "{3: 0.0, 2: 0.0, 4: 1.5068113311624167, 10: 1.8759250723451013}\n"
     ]
    }
   ],
   "source": [
    "# distância dos nós vizinhos\n",
    "print(dist_vizinho)"
   ]
  },
  {
   "cell_type": "code",
   "execution_count": 27,
   "metadata": {},
   "outputs": [
    {
     "name": "stdout",
     "output_type": "stream",
     "text": [
      "{1: 0, 5: 1.5068113311624167, 15: 1.8759250723451013, 14: 1.8759250723451013, 13: 1.8759250723451013, 12: 1.8759250723451013, 11: 1.8759250723451013}\n"
     ]
    }
   ],
   "source": [
    "# distância dos nós não vizinhos\n",
    "print(dist_nao_vizinho)"
   ]
  },
  {
   "cell_type": "code",
   "execution_count": 28,
   "metadata": {},
   "outputs": [
    {
     "name": "stdout",
     "output_type": "stream",
     "text": [
      "Caminho de custo mínimo:  [1]\n",
      "Caminho não encontrado até  5\n",
      "Caminho de custo mínimo:  [1, 10, 11]\n",
      "Caminho de custo mínimo:  [1, 3, 12]\n",
      "Caminho de custo mínimo:  [1, 3, 13]\n",
      "Caminho não encontrado até  14\n",
      "Caminho não encontrado até  15\n"
     ]
    }
   ],
   "source": [
    "# Caminho mínimo dos nós não vizinhos\n",
    "for n in nao_vizinhos:\n",
    "    try:\n",
    "        ccm = nx.dijkstra_path(M,source = 1, target = n)\n",
    "        print('Caminho de custo mínimo: ',ccm)\n",
    "    except nx.NetworkXNoPath:\n",
    "        print(\"Caminho não encontrado até \",n) "
   ]
  },
  {
   "cell_type": "code",
   "execution_count": 29,
   "metadata": {},
   "outputs": [
    {
     "name": "stdout",
     "output_type": "stream",
     "text": [
      "[1, 10, 11]\n",
      "[1, 16, 10, 11]\n",
      "[1, 2, 3, 4, 13, 12]\n",
      "[1, 2, 3, 4, 12]\n",
      "[1, 2, 3, 13, 12]\n",
      "[1, 2, 3, 13, 4, 12]\n",
      "[1, 2, 3, 12]\n",
      "[1, 3, 4, 13, 12]\n",
      "[1, 3, 4, 12]\n",
      "[1, 3, 13, 12]\n",
      "[1, 3, 13, 4, 12]\n",
      "[1, 3, 12]\n",
      "[1, 4, 3, 13, 12]\n",
      "[1, 4, 3, 12]\n",
      "[1, 4, 13, 3, 12]\n",
      "[1, 4, 13, 12]\n",
      "[1, 4, 12]\n",
      "[1, 10, 11, 12]\n",
      "[1, 10, 11, 13, 3, 4, 12]\n",
      "[1, 10, 11, 13, 3, 12]\n",
      "[1, 10, 11, 13, 12]\n",
      "[1, 10, 11, 13, 4, 3, 12]\n",
      "[1, 10, 11, 13, 4, 12]\n",
      "[1, 10, 12]\n",
      "[1, 10, 13, 3, 4, 12]\n",
      "[1, 10, 13, 3, 12]\n",
      "[1, 10, 13, 12]\n",
      "[1, 10, 13, 4, 3, 12]\n",
      "[1, 10, 13, 4, 12]\n",
      "[1, 16, 10, 11, 12]\n",
      "[1, 16, 10, 11, 13, 3, 4, 12]\n",
      "[1, 16, 10, 11, 13, 3, 12]\n",
      "[1, 16, 10, 11, 13, 12]\n",
      "[1, 16, 10, 11, 13, 4, 3, 12]\n",
      "[1, 16, 10, 11, 13, 4, 12]\n",
      "[1, 16, 10, 12]\n",
      "[1, 16, 10, 13, 3, 4, 12]\n",
      "[1, 16, 10, 13, 3, 12]\n",
      "[1, 16, 10, 13, 12]\n",
      "[1, 16, 10, 13, 4, 3, 12]\n",
      "[1, 16, 10, 13, 4, 12]\n",
      "[1, 2, 3, 4, 13]\n",
      "[1, 2, 3, 4, 12, 13]\n",
      "[1, 2, 3, 13]\n",
      "[1, 2, 3, 12, 13]\n",
      "[1, 2, 3, 12, 4, 13]\n",
      "[1, 3, 4, 13]\n",
      "[1, 3, 4, 12, 13]\n",
      "[1, 3, 13]\n",
      "[1, 3, 12, 13]\n",
      "[1, 3, 12, 4, 13]\n",
      "[1, 4, 3, 13]\n",
      "[1, 4, 3, 12, 13]\n",
      "[1, 4, 13]\n",
      "[1, 4, 12, 13]\n",
      "[1, 4, 12, 3, 13]\n",
      "[1, 10, 11, 12, 13]\n",
      "[1, 10, 11, 12, 3, 4, 13]\n",
      "[1, 10, 11, 12, 3, 13]\n",
      "[1, 10, 11, 12, 4, 3, 13]\n",
      "[1, 10, 11, 12, 4, 13]\n",
      "[1, 10, 11, 13]\n",
      "[1, 10, 12, 13]\n",
      "[1, 10, 12, 3, 4, 13]\n",
      "[1, 10, 12, 3, 13]\n",
      "[1, 10, 12, 4, 3, 13]\n",
      "[1, 10, 12, 4, 13]\n",
      "[1, 10, 13]\n",
      "[1, 16, 10, 11, 12, 13]\n",
      "[1, 16, 10, 11, 12, 3, 4, 13]\n",
      "[1, 16, 10, 11, 12, 3, 13]\n",
      "[1, 16, 10, 11, 12, 4, 3, 13]\n",
      "[1, 16, 10, 11, 12, 4, 13]\n",
      "[1, 16, 10, 11, 13]\n",
      "[1, 16, 10, 12, 13]\n",
      "[1, 16, 10, 12, 3, 4, 13]\n",
      "[1, 16, 10, 12, 3, 13]\n",
      "[1, 16, 10, 12, 4, 3, 13]\n",
      "[1, 16, 10, 12, 4, 13]\n",
      "[1, 16, 10, 13]\n"
     ]
    }
   ],
   "source": [
    "# todos os caminhos dos nós não vizinhos\n",
    "for n in nao_vizinhos:\n",
    "    for path in nx.all_simple_paths(M, source=1, target= n, cutoff=None): # cutoff é o tamanho do caminho\n",
    "        print(path)"
   ]
  }
 ],
 "metadata": {
  "kernelspec": {
   "display_name": "Python 3",
   "language": "python",
   "name": "python3"
  },
  "language_info": {
   "codemirror_mode": {
    "name": "ipython",
    "version": 3
   },
   "file_extension": ".py",
   "mimetype": "text/x-python",
   "name": "python",
   "nbconvert_exporter": "python",
   "pygments_lexer": "ipython3",
   "version": "3.7.4"
  }
 },
 "nbformat": 4,
 "nbformat_minor": 4
}
