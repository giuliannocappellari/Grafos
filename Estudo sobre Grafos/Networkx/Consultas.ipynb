{
 "cells": [
  {
   "cell_type": "markdown",
   "metadata": {},
   "source": [
    "## Documentação\n",
    "\n",
    "https://networkx.org/documentation/stable/reference/classes/multidigraph.html\n",
    "\n",
    "https://pypi.org/project/networkx-query/\n",
    "\n",
    "https://networkx.org/documentation/stable//reference/introduction.html\n",
    "\n",
    "https://stackoverflow.com/questions/15644684/best-practices-for-querying-graphs-by-edge-and-node-attributes-in-networkx\n"
   ]
  },
  {
   "cell_type": "code",
   "execution_count": 51,
   "metadata": {},
   "outputs": [],
   "source": [
    "import networkx as nx\n",
    "import pandas as pd\n",
    "from pyvis.network import Network\n",
    "#import sqlalchemy\n",
    "import ibm_db\n",
    "import ibm_db_dbi"
   ]
  },
  {
   "cell_type": "code",
   "execution_count": 2,
   "metadata": {},
   "outputs": [],
   "source": [
    "#conectando ao BigSql\n",
    "# COLOCAR CREDENCIAIS\n",
    "db = ibm_db.connect(\"DATABASE=BIGSQL;HOSTNAME=bigsql.pro.intra.rs.gov.br;PORT=32051;PROTOCOL=TCPIP;UID=XXXXX;PWD=XXXXXX;\", \"\", \"\")\n",
    "conn = ibm_db_dbi.Connection(db)   "
   ]
  },
  {
   "cell_type": "code",
   "execution_count": 7,
   "metadata": {},
   "outputs": [],
   "source": [
    "# buscando os dados das arestas / quem se relaciona com quem\n",
    "query = \"select * from PROCERGS_MILENA_VILLAR.RELACIONAMENTO2;\"\n",
    "df = pd.read_sql_query(query, conn)\n",
    "#informando quais colunas da tabela serão o source, target e demais atributos; create_using específica qual é o tipo do grafo\n",
    "G = nx.from_pandas_edgelist(df, source = 'SRC', target = 'TGT', edge_attr=['REL','WEIGHT'], create_using=nx.MultiDiGraph())"
   ]
  },
  {
   "cell_type": "code",
   "execution_count": 23,
   "metadata": {},
   "outputs": [
    {
     "data": {
      "text/plain": [
       "OutMultiEdgeDataView([(2, 1, {'REL': 'co-autores', 'WEIGHT': 4}), (2, 3, {'REL': 'pai', 'WEIGHT': 5}), (1, 2, {'REL': 'co-autores', 'WEIGHT': 4}), (1, 3, {'REL': 'mãe', 'WEIGHT': 5}), (1, 4, {'REL': 'mãe', 'WEIGHT': 5}), (1, 16, {'REL': 'irmã', 'WEIGHT': 3}), (1, 10, {'REL': 'irmão', 'WEIGHT': 3}), (3, 13, {'REL': 'co-autores', 'WEIGHT': 1}), (3, 12, {'REL': 'co-autores', 'WEIGHT': 1}), (3, 4, {'REL': 'irmã', 'WEIGHT': 3}), (4, 3, {'REL': 'irmã', 'WEIGHT': 3}), (4, 13, {'REL': 'co-autores', 'WEIGHT': 1}), (4, 12, {'REL': 'co-autores', 'WEIGHT': 1}), (4, 9, {'REL': 'co-autores', 'WEIGHT': 3}), (4, 8, {'REL': 'co-autores', 'WEIGHT': 3}), (10, 16, {'REL': 'irmão', 'WEIGHT': 3}), (10, 11, {'REL': 'co-autores', 'WEIGHT': 4}), (10, 12, {'REL': 'pai', 'WEIGHT': 5}), (10, 13, {'REL': 'pai', 'WEIGHT': 5}), (10, 1, {'REL': 'irmão', 'WEIGHT': 3}), (16, 10, {'REL': 'irmão', 'WEIGHT': 3}), (16, 1, {'REL': 'irmã', 'WEIGHT': 3}), (11, 10, {'REL': 'co-autores', 'WEIGHT': 4}), (11, 12, {'REL': 'mãe', 'WEIGHT': 5}), (11, 13, {'REL': 'mãe', 'WEIGHT': 5}), (12, 13, {'REL': 'irmão', 'WEIGHT': 3}), (12, 3, {'REL': 'co-autores', 'WEIGHT': 1}), (12, 4, {'REL': 'co-autores', 'WEIGHT': 1}), (13, 12, {'REL': 'irmão', 'WEIGHT': 3}), (13, 3, {'REL': 'co-autores', 'WEIGHT': 1}), (13, 4, {'REL': 'co-autores', 'WEIGHT': 1}), (15, 14, {'REL': 'co-autores', 'WEIGHT': 4}), (15, 1, {'REL': 'pai', 'WEIGHT': 5}), (15, 10, {'REL': 'pai', 'WEIGHT': 5}), (15, 16, {'REL': 'pai', 'WEIGHT': 5}), (15, 2, {'REL': 'advog', 'WEIGHT': 1}), (15, 3, {'REL': 'advog', 'WEIGHT': 1}), (15, 5, {'REL': 'advog', 'WEIGHT': 1}), (14, 15, {'REL': 'co-autores', 'WEIGHT': 4}), (14, 1, {'REL': 'mãe', 'WEIGHT': 5}), (14, 1, {'REL': 'advog', 'WEIGHT': 1}), (14, 10, {'REL': 'mãe', 'WEIGHT': 5}), (14, 10, {'REL': 'advog', 'WEIGHT': 1}), (14, 16, {'REL': 'mãe', 'WEIGHT': 5}), (17, 18, {'REL': 'co-autores', 'WEIGHT': 4}), (17, 7, {'REL': 'pai', 'WEIGHT': 5}), (17, 19, {'REL': 'advog', 'WEIGHT': 1}), (17, 20, {'REL': 'advog', 'WEIGHT': 1}), (17, 4, {'REL': 'advog', 'WEIGHT': 1}), (18, 17, {'REL': 'co-autores', 'WEIGHT': 4}), (18, 7, {'REL': 'mãe', 'WEIGHT': 5}), (18, 7, {'REL': 'advog', 'WEIGHT': 1}), (18, 6, {'REL': 'advog', 'WEIGHT': 1}), (7, 8, {'REL': 'mãe', 'WEIGHT': 5}), (7, 9, {'REL': 'mãe', 'WEIGHT': 5}), (7, 6, {'REL': 'co-autores', 'WEIGHT': 2}), (19, 20, {'REL': 'co-autores', 'WEIGHT': 3}), (19, 4, {'REL': 'co-autores', 'WEIGHT': 3}), (20, 4, {'REL': 'co-autores', 'WEIGHT': 3}), (5, 4, {'REL': 'co-autores', 'WEIGHT': 4}), (5, 4, {'REL': 'co-autores', 'WEIGHT': 4}), (6, 4, {'REL': 'pai', 'WEIGHT': 5}), (6, 9, {'REL': 'pai', 'WEIGHT': 5}), (6, 7, {'REL': 'co-autores', 'WEIGHT': 2}), (6, 8, {'REL': 'pai', 'WEIGHT': 5}), (8, 4, {'REL': 'co-autores', 'WEIGHT': 3}), (8, 9, {'REL': 'irmã', 'WEIGHT': 3}), (9, 4, {'REL': 'co-autores', 'WEIGHT': 3}), (9, 8, {'REL': 'irmã', 'WEIGHT': 3})])"
      ]
     },
     "execution_count": 23,
     "metadata": {},
     "output_type": "execute_result"
    }
   ],
   "source": [
    "#VISUALIZANDO AS ARESTAS E RELACIONAMENTOS\n",
    "G.edges(data = True)"
   ]
  },
  {
   "cell_type": "code",
   "execution_count": 41,
   "metadata": {
    "scrolled": true
   },
   "outputs": [
    {
     "data": {
      "text/html": [
       "\n",
       "        <iframe\n",
       "            width=\"900px\"\n",
       "            height=\"400px\"\n",
       "            src=\"g.html\"\n",
       "            frameborder=\"0\"\n",
       "            allowfullscreen\n",
       "        ></iframe>\n",
       "        "
      ],
      "text/plain": [
       "<IPython.lib.display.IFrame at 0x12b7a050>"
      ]
     },
     "execution_count": 41,
     "metadata": {},
     "output_type": "execute_result"
    }
   ],
   "source": [
    "# plotar o grafo\n",
    "nt = Network(\"400px\", \"900px\", notebook = True, directed = False)\n",
    "nt.from_nx(G)\n",
    "nt.show(\"g.html\")"
   ]
  },
  {
   "cell_type": "markdown",
   "metadata": {},
   "source": [
    "## Adicionando atributos aos nós"
   ]
  },
  {
   "cell_type": "code",
   "execution_count": 9,
   "metadata": {},
   "outputs": [],
   "source": [
    "#buscando os labels dos nós(vértices)\n",
    "query = \"select * from PROCERGS_MILENA_VILLAR.ATRIBUTOS;\"\n",
    "df_node = pd.read_sql_query(query, conn)"
   ]
  },
  {
   "cell_type": "code",
   "execution_count": 8,
   "metadata": {},
   "outputs": [
    {
     "data": {
      "text/html": [
       "<div>\n",
       "<style scoped>\n",
       "    .dataframe tbody tr th:only-of-type {\n",
       "        vertical-align: middle;\n",
       "    }\n",
       "\n",
       "    .dataframe tbody tr th {\n",
       "        vertical-align: top;\n",
       "    }\n",
       "\n",
       "    .dataframe thead th {\n",
       "        text-align: right;\n",
       "    }\n",
       "</style>\n",
       "<table border=\"1\" class=\"dataframe\">\n",
       "  <thead>\n",
       "    <tr style=\"text-align: right;\">\n",
       "      <th></th>\n",
       "      <th>ID</th>\n",
       "      <th>NOME</th>\n",
       "      <th>SZ</th>\n",
       "      <th>GP</th>\n",
       "      <th>LAT</th>\n",
       "      <th>LONGT</th>\n",
       "      <th>P_ARMA</th>\n",
       "      <th>TIPO_ARMA</th>\n",
       "      <th>TIPO_CRIME</th>\n",
       "      <th>NUM_VITIMAS</th>\n",
       "    </tr>\n",
       "  </thead>\n",
       "  <tbody>\n",
       "    <tr>\n",
       "      <th>0</th>\n",
       "      <td>2</td>\n",
       "      <td>Eloi</td>\n",
       "      <td>5</td>\n",
       "      <td>1</td>\n",
       "      <td>-29.881725</td>\n",
       "      <td>-51.164042</td>\n",
       "      <td>SIM</td>\n",
       "      <td>2</td>\n",
       "      <td>NÃO</td>\n",
       "      <td>0</td>\n",
       "    </tr>\n",
       "    <tr>\n",
       "      <th>1</th>\n",
       "      <td>7</td>\n",
       "      <td>Inês</td>\n",
       "      <td>15</td>\n",
       "      <td>3</td>\n",
       "      <td>-29.916482</td>\n",
       "      <td>-51.146204</td>\n",
       "      <td>NÃO</td>\n",
       "      <td>0</td>\n",
       "      <td>NÃO</td>\n",
       "      <td>0</td>\n",
       "    </tr>\n",
       "    <tr>\n",
       "      <th>2</th>\n",
       "      <td>9</td>\n",
       "      <td>Carolina</td>\n",
       "      <td>15</td>\n",
       "      <td>3</td>\n",
       "      <td>-29.916482</td>\n",
       "      <td>-51.146204</td>\n",
       "      <td>SIM</td>\n",
       "      <td>3</td>\n",
       "      <td>HOMICIDIO</td>\n",
       "      <td>3</td>\n",
       "    </tr>\n",
       "    <tr>\n",
       "      <th>3</th>\n",
       "      <td>11</td>\n",
       "      <td>Elis</td>\n",
       "      <td>5</td>\n",
       "      <td>4</td>\n",
       "      <td>-29.897718</td>\n",
       "      <td>-51.170391</td>\n",
       "      <td>SIM</td>\n",
       "      <td>3</td>\n",
       "      <td>TRAF DROG</td>\n",
       "      <td>0</td>\n",
       "    </tr>\n",
       "    <tr>\n",
       "      <th>4</th>\n",
       "      <td>14</td>\n",
       "      <td>Maria</td>\n",
       "      <td>2</td>\n",
       "      <td>5</td>\n",
       "      <td>-29.897718</td>\n",
       "      <td>-51.170391</td>\n",
       "      <td>NÃO</td>\n",
       "      <td>0</td>\n",
       "      <td>NÃO</td>\n",
       "      <td>0</td>\n",
       "    </tr>\n",
       "  </tbody>\n",
       "</table>\n",
       "</div>"
      ],
      "text/plain": [
       "   ID      NOME  SZ  GP        LAT      LONGT P_ARMA TIPO_ARMA TIPO_CRIME  \\\n",
       "0   2      Eloi   5   1 -29.881725 -51.164042    SIM         2        NÃO   \n",
       "1   7      Inês  15   3 -29.916482 -51.146204    NÃO         0        NÃO   \n",
       "2   9  Carolina  15   3 -29.916482 -51.146204    SIM         3  HOMICIDIO   \n",
       "3  11      Elis   5   4 -29.897718 -51.170391    SIM         3  TRAF DROG   \n",
       "4  14     Maria   2   5 -29.897718 -51.170391    NÃO         0        NÃO   \n",
       "\n",
       "  NUM_VITIMAS  \n",
       "0           0  \n",
       "1           0  \n",
       "2           3  \n",
       "3           0  \n",
       "4           0  "
      ]
     },
     "execution_count": 8,
     "metadata": {},
     "output_type": "execute_result"
    }
   ],
   "source": [
    "df_node.head()"
   ]
  },
  {
   "cell_type": "code",
   "execution_count": 10,
   "metadata": {},
   "outputs": [
    {
     "data": {
      "text/plain": [
       "NodeDataView({2: {'title': 'Eloi'}, 1: {'title': 'Vivianne'}, 3: {'title': 'Jade'}, 4: {'title': 'Camila'}, 10: {'title': 'Fabio'}, 16: {'title': 'Virginia'}, 11: {'title': 'Elis'}, 12: {'title': 'Felipe'}, 13: {'title': 'Brenda'}, 15: {'title': 'Ney'}, 14: {'title': 'Maria'}, 17: {'title': 'Joaquim'}, 18: {'title': 'Marisa'}, 7: {'title': 'Inês'}, 19: {'title': 'Maiara'}, 20: {'title': 'Ligia'}, 5: {'title': 'Eduardo'}, 6: {'title': 'Ricardo'}, 8: {'title': 'Barbara'}, 9: {'title': 'Carolina'}})"
      ]
     },
     "execution_count": 10,
     "metadata": {},
     "output_type": "execute_result"
    }
   ],
   "source": [
    "#transformando a tabela em um dicionário para atribuir labels aos IDs dos nós\n",
    "nodelabel = df_node.set_index(\"ID\").T.to_dict('records')[0]\n",
    "# atribuindo o atributo label\n",
    "nx.set_node_attributes(G, nodelabel, 'title')\n",
    "G.nodes(data=True)"
   ]
  },
  {
   "cell_type": "code",
   "execution_count": 12,
   "metadata": {},
   "outputs": [],
   "source": [
    "#buscando os tamanhos dos nós(vértices)\n",
    "query = \"select ID,SZ from PROCERGS_MILENA_VILLAR.ATRIBUTOS;\"\n",
    "a = pd.read_sql_query(query, conn)"
   ]
  },
  {
   "cell_type": "code",
   "execution_count": 13,
   "metadata": {},
   "outputs": [
    {
     "data": {
      "text/plain": [
       "NodeDataView({2: {'title': 'Eloi', 'size': 5}, 1: {'title': 'Vivianne', 'size': 15}, 3: {'title': 'Jade', 'size': 5}, 4: {'title': 'Camila', 'size': 15}, 10: {'title': 'Fabio', 'size': 5}, 16: {'title': 'Virginia', 'size': 2}, 11: {'title': 'Elis', 'size': 5}, 12: {'title': 'Felipe', 'size': 1}, 13: {'title': 'Brenda', 'size': 1}, 15: {'title': 'Ney', 'size': 2}, 14: {'title': 'Maria', 'size': 2}, 17: {'title': 'Joaquim', 'size': 15}, 18: {'title': 'Marisa', 'size': 15}, 7: {'title': 'Inês', 'size': 15}, 19: {'title': 'Maiara', 'size': 15}, 20: {'title': 'Ligia', 'size': 15}, 5: {'title': 'Eduardo', 'size': 5}, 6: {'title': 'Ricardo', 'size': 5}, 8: {'title': 'Barbara', 'size': 15}, 9: {'title': 'Carolina', 'size': 15}})"
      ]
     },
     "execution_count": 13,
     "metadata": {},
     "output_type": "execute_result"
    }
   ],
   "source": [
    "#transformando a tabela em um dicionário para atribuir os tamanhos aos IDs dos nós\n",
    "nodeatrib = a.set_index(\"ID\").T.to_dict('records')[0]\n",
    "# atribuindo o atributo label\n",
    "nx.set_node_attributes(G, nodeatrib, 'size')\n",
    "G.nodes(data=True)"
   ]
  },
  {
   "cell_type": "code",
   "execution_count": 15,
   "metadata": {},
   "outputs": [],
   "source": [
    "#buscando os grupos dos nós(vértices)\n",
    "query = \"select ID,GP from PROCERGS_MILENA_VILLAR.ATRIBUTOS;\"\n",
    "g = pd.read_sql_query(query, conn)"
   ]
  },
  {
   "cell_type": "code",
   "execution_count": 16,
   "metadata": {},
   "outputs": [
    {
     "data": {
      "text/plain": [
       "NodeDataView({2: {'title': 'Eloi', 'size': 5, 'group': 1}, 1: {'title': 'Vivianne', 'size': 15, 'group': 1}, 3: {'title': 'Jade', 'size': 5, 'group': 1}, 4: {'title': 'Camila', 'size': 15, 'group': 2}, 10: {'title': 'Fabio', 'size': 5, 'group': 4}, 16: {'title': 'Virginia', 'size': 2, 'group': 6}, 11: {'title': 'Elis', 'size': 5, 'group': 4}, 12: {'title': 'Felipe', 'size': 1, 'group': 4}, 13: {'title': 'Brenda', 'size': 1, 'group': 4}, 15: {'title': 'Ney', 'size': 2, 'group': 5}, 14: {'title': 'Maria', 'size': 2, 'group': 5}, 17: {'title': 'Joaquim', 'size': 15, 'group': 7}, 18: {'title': 'Marisa', 'size': 15, 'group': 7}, 7: {'title': 'Inês', 'size': 15, 'group': 3}, 19: {'title': 'Maiara', 'size': 15, 'group': 8}, 20: {'title': 'Ligia', 'size': 15, 'group': 8}, 5: {'title': 'Eduardo', 'size': 5, 'group': 2}, 6: {'title': 'Ricardo', 'size': 5, 'group': 3}, 8: {'title': 'Barbara', 'size': 15, 'group': 3}, 9: {'title': 'Carolina', 'size': 15, 'group': 3}})"
      ]
     },
     "execution_count": 16,
     "metadata": {},
     "output_type": "execute_result"
    }
   ],
   "source": [
    "#transformando a tabela em um dicionário para atribuir os grupos aos IDs dos nós\n",
    "nodeatrib = g.set_index(\"ID\").T.to_dict('records')[0]\n",
    "# atribuindo o atributo label\n",
    "nx.set_node_attributes(G, nodeatrib, 'group')\n",
    "G.nodes(data=True)"
   ]
  },
  {
   "cell_type": "code",
   "execution_count": 18,
   "metadata": {},
   "outputs": [
    {
     "data": {
      "text/html": [
       "<div>\n",
       "<style scoped>\n",
       "    .dataframe tbody tr th:only-of-type {\n",
       "        vertical-align: middle;\n",
       "    }\n",
       "\n",
       "    .dataframe tbody tr th {\n",
       "        vertical-align: top;\n",
       "    }\n",
       "\n",
       "    .dataframe thead th {\n",
       "        text-align: right;\n",
       "    }\n",
       "</style>\n",
       "<table border=\"1\" class=\"dataframe\">\n",
       "  <thead>\n",
       "    <tr style=\"text-align: right;\">\n",
       "      <th></th>\n",
       "      <th>ID</th>\n",
       "      <th>LAT</th>\n",
       "      <th>LONGT</th>\n",
       "    </tr>\n",
       "  </thead>\n",
       "  <tbody>\n",
       "    <tr>\n",
       "      <th>0</th>\n",
       "      <td>7</td>\n",
       "      <td>-29.916482</td>\n",
       "      <td>-51.146204</td>\n",
       "    </tr>\n",
       "    <tr>\n",
       "      <th>1</th>\n",
       "      <td>8</td>\n",
       "      <td>-29.916482</td>\n",
       "      <td>-51.146204</td>\n",
       "    </tr>\n",
       "    <tr>\n",
       "      <th>2</th>\n",
       "      <td>9</td>\n",
       "      <td>-29.916482</td>\n",
       "      <td>-51.146204</td>\n",
       "    </tr>\n",
       "    <tr>\n",
       "      <th>3</th>\n",
       "      <td>10</td>\n",
       "      <td>-29.897718</td>\n",
       "      <td>-51.170391</td>\n",
       "    </tr>\n",
       "    <tr>\n",
       "      <th>4</th>\n",
       "      <td>11</td>\n",
       "      <td>-29.897718</td>\n",
       "      <td>-51.170391</td>\n",
       "    </tr>\n",
       "  </tbody>\n",
       "</table>\n",
       "</div>"
      ],
      "text/plain": [
       "   ID        LAT      LONGT\n",
       "0   7 -29.916482 -51.146204\n",
       "1   8 -29.916482 -51.146204\n",
       "2   9 -29.916482 -51.146204\n",
       "3  10 -29.897718 -51.170391\n",
       "4  11 -29.897718 -51.170391"
      ]
     },
     "execution_count": 18,
     "metadata": {},
     "output_type": "execute_result"
    }
   ],
   "source": [
    "#buscando o atributo coordenadas dos nós(vértices)\n",
    "query = \"select * from PROCERGS_MILENA_VILLAR.COORDENADAS;\"\n",
    "at_node = pd.read_sql_query(query, conn)\n",
    "at_node.head()"
   ]
  },
  {
   "cell_type": "code",
   "execution_count": 19,
   "metadata": {},
   "outputs": [
    {
     "data": {
      "text/plain": [
       "NodeDataView({2: {'title': 'Eloi', 'size': 5, 'group': 1, 'coord': [-29.881724532142304, -51.164042431648795]}, 1: {'title': 'Vivianne', 'size': 15, 'group': 1, 'coord': [-29.881724532142304, -51.164042431648795]}, 3: {'title': 'Jade', 'size': 5, 'group': 1, 'coord': [-29.881724532142304, -51.164042431648795]}, 4: {'title': 'Camila', 'size': 15, 'group': 2, 'coord': [-29.894813954047603, -51.15983506048432]}, 10: {'title': 'Fabio', 'size': 5, 'group': 4, 'coord': [-29.897717760996297, -51.17039117397637]}, 16: {'title': 'Virginia', 'size': 2, 'group': 6, 'coord': [-30.029295930685592, -51.201077060480124]}, 11: {'title': 'Elis', 'size': 5, 'group': 4, 'coord': [-29.897717760996297, -51.17039117397637]}, 12: {'title': 'Felipe', 'size': 1, 'group': 4, 'coord': [-29.897717760996297, -51.17039117397637]}, 13: {'title': 'Brenda', 'size': 1, 'group': 4, 'coord': [-29.897717760996297, -51.17039117397637]}, 15: {'title': 'Ney', 'size': 2, 'group': 5, 'coord': [-29.897717760996297, -51.17039117397637]}, 14: {'title': 'Maria', 'size': 2, 'group': 5, 'coord': [-29.897717760996297, -51.17039117397637]}, 17: {'title': 'Joaquim', 'size': 15, 'group': 7, 'coord': [-29.910263870608784, -51.182155612135084]}, 18: {'title': 'Marisa', 'size': 15, 'group': 7, 'coord': [-29.910263870608784, -51.182155612135084]}, 7: {'title': 'Inês', 'size': 15, 'group': 3, 'coord': [-29.916481995490678, -51.14620368931968]}, 19: {'title': 'Maiara', 'size': 15, 'group': 8, 'coord': [-29.906951078843637, -51.175015731648074]}, 20: {'title': 'Ligia', 'size': 15, 'group': 8, 'coord': [-29.86000771351742, -51.178089786018376]}, 5: {'title': 'Eduardo', 'size': 5, 'group': 2, 'coord': [-29.894813954047603, -51.15983506048432]}, 6: {'title': 'Ricardo', 'size': 5, 'group': 3, 'coord': [-29.916481995490678, -51.14620368931968]}, 8: {'title': 'Barbara', 'size': 15, 'group': 3, 'coord': [-29.916481995490678, -51.14620368931968]}, 9: {'title': 'Carolina', 'size': 15, 'group': 3, 'coord': [-29.916481995490678, -51.14620368931968]}})"
      ]
     },
     "execution_count": 19,
     "metadata": {},
     "output_type": "execute_result"
    }
   ],
   "source": [
    "#transformando a tabela em um dicionário\n",
    "c = at_node.set_index(\"ID\").T.to_dict('list')\n",
    "#adicionando o atributo coordenada\n",
    "nx.set_node_attributes(G, c, 'coord')\n",
    "G.nodes(data=True)"
   ]
  },
  {
   "cell_type": "code",
   "execution_count": 21,
   "metadata": {},
   "outputs": [],
   "source": [
    "#buscando TIPO DE CRIME, NUM. VÍTIMAS dos nós(vértices)\n",
    "query = \"select ID,P_ARMA,TIPO_ARMA,TIPO_CRIME,NUM_VITIMAS from PROCERGS_MILENA_VILLAR.ATRIBUTOS;\"\n",
    "g = pd.read_sql_query(query, conn)"
   ]
  },
  {
   "cell_type": "code",
   "execution_count": 22,
   "metadata": {},
   "outputs": [
    {
     "data": {
      "text/plain": [
       "NodeDataView({2: {'title': 'Eloi', 'size': 5, 'group': 1, 'coord': [-29.881724532142304, -51.164042431648795], 'P_ARMA': 'SIM', 'TIPO_ARMA': '2', 'TIPO_CRIME': 'NÃO', 'NUM_VITIMAS': '0'}, 1: {'title': 'Vivianne', 'size': 15, 'group': 1, 'coord': [-29.881724532142304, -51.164042431648795], 'P_ARMA': 'SIM', 'TIPO_ARMA': '2', 'TIPO_CRIME': 'ASSALTO', 'NUM_VITIMAS': '5'}, 3: {'title': 'Jade', 'size': 5, 'group': 1, 'coord': [-29.881724532142304, -51.164042431648795], 'P_ARMA': 'NÃO', 'TIPO_ARMA': '0', 'TIPO_CRIME': 'NÃO', 'NUM_VITIMAS': '0'}, 4: {'title': 'Camila', 'size': 15, 'group': 2, 'coord': [-29.894813954047603, -51.15983506048432], 'P_ARMA': 'SIM', 'TIPO_ARMA': '4', 'TIPO_CRIME': 'SEQUESTRO', 'NUM_VITIMAS': '3'}, 10: {'title': 'Fabio', 'size': 5, 'group': 4, 'coord': [-29.897717760996297, -51.17039117397637], 'P_ARMA': 'SIM', 'TIPO_ARMA': '4', 'TIPO_CRIME': 'HOMICIDIO', 'NUM_VITIMAS': '10'}, 16: {'title': 'Virginia', 'size': 2, 'group': 6, 'coord': [-30.029295930685592, -51.201077060480124], 'P_ARMA': 'SIM', 'TIPO_ARMA': '3', 'TIPO_CRIME': 'HOMICIDIO', 'NUM_VITIMAS': '5'}, 11: {'title': 'Elis', 'size': 5, 'group': 4, 'coord': [-29.897717760996297, -51.17039117397637], 'P_ARMA': 'SIM', 'TIPO_ARMA': '3', 'TIPO_CRIME': 'TRAF DROG', 'NUM_VITIMAS': '0'}, 12: {'title': 'Felipe', 'size': 1, 'group': 4, 'coord': [-29.897717760996297, -51.17039117397637], 'P_ARMA': 'SIM', 'TIPO_ARMA': '2', 'TIPO_CRIME': 'ASSALTO', 'NUM_VITIMAS': '1'}, 13: {'title': 'Brenda', 'size': 1, 'group': 4, 'coord': [-29.897717760996297, -51.17039117397637], 'P_ARMA': 'SIM', 'TIPO_ARMA': '4', 'TIPO_CRIME': 'ASSALTO', 'NUM_VITIMAS': '4'}, 15: {'title': 'Ney', 'size': 2, 'group': 5, 'coord': [-29.897717760996297, -51.17039117397637], 'P_ARMA': 'NÃO', 'TIPO_ARMA': '0', 'TIPO_CRIME': 'NÃO', 'NUM_VITIMAS': '0'}, 14: {'title': 'Maria', 'size': 2, 'group': 5, 'coord': [-29.897717760996297, -51.17039117397637], 'P_ARMA': 'NÃO', 'TIPO_ARMA': '0', 'TIPO_CRIME': 'NÃO', 'NUM_VITIMAS': '0'}, 17: {'title': 'Joaquim', 'size': 15, 'group': 7, 'coord': [-29.910263870608784, -51.182155612135084], 'P_ARMA': 'SIM', 'TIPO_ARMA': '2', 'TIPO_CRIME': 'HOMICIDIO', 'NUM_VITIMAS': '3'}, 18: {'title': 'Marisa', 'size': 15, 'group': 7, 'coord': [-29.910263870608784, -51.182155612135084], 'P_ARMA': 'SIM', 'TIPO_ARMA': '4', 'TIPO_CRIME': 'TRAF DROG', 'NUM_VITIMAS': '0'}, 7: {'title': 'Inês', 'size': 15, 'group': 3, 'coord': [-29.916481995490678, -51.14620368931968], 'P_ARMA': 'NÃO', 'TIPO_ARMA': '0', 'TIPO_CRIME': 'NÃO', 'NUM_VITIMAS': '0'}, 19: {'title': 'Maiara', 'size': 15, 'group': 8, 'coord': [-29.906951078843637, -51.175015731648074], 'P_ARMA': 'SIM', 'TIPO_ARMA': '4', 'TIPO_CRIME': 'TRAF DROG', 'NUM_VITIMAS': '0'}, 20: {'title': 'Ligia', 'size': 15, 'group': 8, 'coord': [-29.86000771351742, -51.178089786018376], 'P_ARMA': 'SIM', 'TIPO_ARMA': '4', 'TIPO_CRIME': 'TRAF DROG', 'NUM_VITIMAS': '0'}, 5: {'title': 'Eduardo', 'size': 5, 'group': 2, 'coord': [-29.894813954047603, -51.15983506048432], 'P_ARMA': 'SIM', 'TIPO_ARMA': '2', 'TIPO_CRIME': 'ASSALTO', 'NUM_VITIMAS': '3'}, 6: {'title': 'Ricardo', 'size': 5, 'group': 3, 'coord': [-29.916481995490678, -51.14620368931968], 'P_ARMA': 'SIM', 'TIPO_ARMA': '1', 'TIPO_CRIME': 'TRAF DROG', 'NUM_VITIMAS': '0'}, 8: {'title': 'Barbara', 'size': 15, 'group': 3, 'coord': [-29.916481995490678, -51.14620368931968], 'P_ARMA': 'NÃO', 'TIPO_ARMA': '0', 'TIPO_CRIME': 'TRAF DROG', 'NUM_VITIMAS': '0'}, 9: {'title': 'Carolina', 'size': 15, 'group': 3, 'coord': [-29.916481995490678, -51.14620368931968], 'P_ARMA': 'SIM', 'TIPO_ARMA': '3', 'TIPO_CRIME': 'HOMICIDIO', 'NUM_VITIMAS': '3'}})"
      ]
     },
     "execution_count": 22,
     "metadata": {},
     "output_type": "execute_result"
    }
   ],
   "source": [
    "#transformando a tabela em um dicionário para atribuir aos IDs dos nós\n",
    "nodeatrib = g.set_index(\"ID\").T.to_dict()\n",
    "# atribuindo o atributo \n",
    "nx.set_node_attributes(G, nodeatrib)\n",
    "G.nodes(data=True)"
   ]
  },
  {
   "cell_type": "code",
   "execution_count": 52,
   "metadata": {},
   "outputs": [
    {
     "data": {
      "text/html": [
       "\n",
       "        <iframe\n",
       "            width=\"900px\"\n",
       "            height=\"400px\"\n",
       "            src=\"ga.html\"\n",
       "            frameborder=\"0\"\n",
       "            allowfullscreen\n",
       "        ></iframe>\n",
       "        "
      ],
      "text/plain": [
       "<IPython.lib.display.IFrame at 0x14410b0>"
      ]
     },
     "execution_count": 52,
     "metadata": {},
     "output_type": "execute_result"
    }
   ],
   "source": [
    "# plotar o grafo\n",
    "nt = Network(\"400px\", \"900px\", notebook = True)\n",
    "nt.toggle_hide_edges_on_drag(False) # esconde as arestas quando clica com o mouse\n",
    "#nt.barnes_hut() #tipo de layout\n",
    "# nt.show_buttons(filter_=['physics'])\n",
    "nt.from_nx(G)\n",
    "nt.show(\"ga.html\")"
   ]
  },
  {
   "cell_type": "markdown",
   "metadata": {},
   "source": [
    "## Consultas"
   ]
  },
  {
   "cell_type": "code",
   "execution_count": 24,
   "metadata": {},
   "outputs": [
    {
     "data": {
      "text/plain": [
       "[(15, 2),\n",
       " (15, 3),\n",
       " (15, 5),\n",
       " (14, 1),\n",
       " (14, 10),\n",
       " (17, 19),\n",
       " (17, 20),\n",
       " (17, 4),\n",
       " (18, 7),\n",
       " (18, 6)]"
      ]
     },
     "execution_count": 24,
     "metadata": {},
     "output_type": "execute_result"
    }
   ],
   "source": [
    "# Descobrindo quais nós possuem relacionamento = advogado\n",
    "relacionamento = [(u,v) for (u,v,d) in G.edges(data=True) if d[\"REL\"] == 'advog']\n",
    "list(relacionamento)"
   ]
  },
  {
   "cell_type": "code",
   "execution_count": 26,
   "metadata": {},
   "outputs": [
    {
     "name": "stdout",
     "output_type": "stream",
     "text": [
      "Maria\n"
     ]
    }
   ],
   "source": [
    "# identificando os nós\n",
    "print(G.nodes[14]['title'])"
   ]
  },
  {
   "cell_type": "code",
   "execution_count": 27,
   "metadata": {},
   "outputs": [
    {
     "name": "stdout",
     "output_type": "stream",
     "text": [
      "{1, 2, 3}\n"
     ]
    }
   ],
   "source": [
    "# buscando nós que possuem o relacionamento 'co-autores' e estão no grupo '1'\n",
    "q = set(n for u,v,d in G.edges(data=True)\n",
    "               if d['REL']=='co-autores'\n",
    "               for n in (u, v)\n",
    "               if G.nodes[n]['group'] == 1)\n",
    "print(q)"
   ]
  },
  {
   "cell_type": "code",
   "execution_count": 29,
   "metadata": {},
   "outputs": [
    {
     "name": "stdout",
     "output_type": "stream",
     "text": [
      "[1, 4, 16, 13, 17, 5, 9]\n"
     ]
    }
   ],
   "source": [
    "#Consultando atributo dos nós\n",
    "#método 1\n",
    "grupo = (n for n in G if G.nodes[n]['NUM_VITIMAS'] > '2')\n",
    "print(list(grupo))"
   ]
  },
  {
   "cell_type": "code",
   "execution_count": 30,
   "metadata": {},
   "outputs": [
    {
     "name": "stdout",
     "output_type": "stream",
     "text": [
      "[4, 5]\n"
     ]
    }
   ],
   "source": [
    "#Consultando atributo dos nós\n",
    "# método 2\n",
    "grupo = (n for n,d in G.nodes(data=True) if d['group'] == 2 and d['NUM_VITIMAS'] > '2')\n",
    "print(list(grupo))"
   ]
  },
  {
   "cell_type": "code",
   "execution_count": 32,
   "metadata": {},
   "outputs": [
    {
     "data": {
      "text/plain": [
       "AdjacencyView({13: {0: {'REL': 'co-autores', 'WEIGHT': 1}}, 12: {0: {'REL': 'co-autores', 'WEIGHT': 1}}, 4: {0: {'REL': 'irmã', 'WEIGHT': 3}}})"
      ]
     },
     "execution_count": 32,
     "metadata": {},
     "output_type": "execute_result"
    }
   ],
   "source": [
    "# métodos para encontrar relações que saem de um nó específico e vão para outro (vizinhos)\n",
    "# 1º metodo\n",
    "G[3]"
   ]
  },
  {
   "cell_type": "code",
   "execution_count": 33,
   "metadata": {},
   "outputs": [
    {
     "data": {
      "text/plain": [
       "AdjacencyView({13: {0: {'REL': 'co-autores', 'WEIGHT': 1}}, 12: {0: {'REL': 'co-autores', 'WEIGHT': 1}}, 4: {0: {'REL': 'irmã', 'WEIGHT': 3}}})"
      ]
     },
     "execution_count": 33,
     "metadata": {},
     "output_type": "execute_result"
    }
   ],
   "source": [
    "# 2º metodo\n",
    "G.adj[3]"
   ]
  },
  {
   "cell_type": "code",
   "execution_count": 34,
   "metadata": {},
   "outputs": [
    {
     "data": {
      "text/plain": [
       "[13, 12, 4]"
      ]
     },
     "execution_count": 34,
     "metadata": {},
     "output_type": "execute_result"
    }
   ],
   "source": [
    "# 3º metodo\n",
    "list(G.neighbors(3))"
   ]
  },
  {
   "cell_type": "code",
   "execution_count": 35,
   "metadata": {},
   "outputs": [
    {
     "data": {
      "text/plain": [
       "[13, 12, 4]"
      ]
     },
     "execution_count": 35,
     "metadata": {},
     "output_type": "execute_result"
    }
   ],
   "source": [
    "# 4º metodo\n",
    "list(G.successors(3))"
   ]
  },
  {
   "cell_type": "code",
   "execution_count": 36,
   "metadata": {},
   "outputs": [
    {
     "data": {
      "text/plain": [
       "[1, 2, 4, 13, 12, 15]"
      ]
     },
     "execution_count": 36,
     "metadata": {},
     "output_type": "execute_result"
    }
   ],
   "source": [
    "# método para encontrar relações que chegam em um nó específico \n",
    "list(G.predecessors(3))"
   ]
  },
  {
   "cell_type": "code",
   "execution_count": 55,
   "metadata": {},
   "outputs": [
    {
     "data": {
      "text/html": [
       "\n",
       "        <iframe\n",
       "            width=\"900px\"\n",
       "            height=\"400px\"\n",
       "            src=\"h.html\"\n",
       "            frameborder=\"0\"\n",
       "            allowfullscreen\n",
       "        ></iframe>\n",
       "        "
      ],
      "text/plain": [
       "<IPython.lib.display.IFrame at 0x4ac6990>"
      ]
     },
     "execution_count": 55,
     "metadata": {},
     "output_type": "execute_result"
    }
   ],
   "source": [
    "# vizinhos (sucessores e predecessores) do nó 3, raio = 1\n",
    "nt = Network(\"400px\", \"900px\", notebook = True)\n",
    "H= nx.generators.ego_graph(G, 3, radius=1, center = True, undirected = True)\n",
    "nt.from_nx(H)\n",
    "nt.show(\"h.html\")"
   ]
  },
  {
   "cell_type": "code",
   "execution_count": 37,
   "metadata": {},
   "outputs": [
    {
     "name": "stdout",
     "output_type": "stream",
     "text": [
      "5\n",
      "0\n",
      "3\n",
      "4\n",
      "1\n",
      "0\n"
     ]
    }
   ],
   "source": [
    "#Número de vítimas dos vizinhos (predecessores) de 3\n",
    "for n in G.predecessors(3):\n",
    "    print(G.nodes[n]['NUM_VITIMAS'])"
   ]
  },
  {
   "cell_type": "code",
   "execution_count": 38,
   "metadata": {},
   "outputs": [
    {
     "name": "stdout",
     "output_type": "stream",
     "text": [
      "4\n",
      "1\n",
      "3\n"
     ]
    }
   ],
   "source": [
    "#Número de vítimas dos vizinhos (sucessores)  de 3\n",
    "for n in G.successors(3):\n",
    "    print(G.nodes[n]['NUM_VITIMAS'])"
   ]
  },
  {
   "cell_type": "code",
   "execution_count": 39,
   "metadata": {},
   "outputs": [
    {
     "data": {
      "text/plain": [
       "[13, 4]"
      ]
     },
     "execution_count": 39,
     "metadata": {},
     "output_type": "execute_result"
    }
   ],
   "source": [
    "# Vizinhos (sucessores) de 3 que possuem mais de 3 vítimas\n",
    "[y for y in [x for x in G.successors(3)] \n",
    " if 'NUM_VITIMAS' in G.nodes[y] and G.nodes[y]['NUM_VITIMAS'] >= '3']"
   ]
  },
  {
   "cell_type": "code",
   "execution_count": 40,
   "metadata": {},
   "outputs": [
    {
     "data": {
      "text/plain": [
       "[1, 4, 13]"
      ]
     },
     "execution_count": 40,
     "metadata": {},
     "output_type": "execute_result"
    }
   ],
   "source": [
    "# Vizinhos (predecessores) de 3 que possuem mais de 3 vítimas\n",
    "[y for y in [x for x in G.predecessors(3)]\n",
    " if 'NUM_VITIMAS' in G.nodes[y] and G.nodes[y]['NUM_VITIMAS'] >= '3']"
   ]
  },
  {
   "cell_type": "code",
   "execution_count": 45,
   "metadata": {},
   "outputs": [
    {
     "name": "stdout",
     "output_type": "stream",
     "text": [
      "[1, 2, 4, 5, 6, 9, 10, 11, 12, 13, 16, 17, 18, 19, 20]\n"
     ]
    }
   ],
   "source": [
    "# Quem são as pessoas que têm armas?\n",
    "arma = (n for n in G if G.nodes[n]['P_ARMA'] == 'SIM')\n",
    "print(sorted(arma))\n"
   ]
  },
  {
   "cell_type": "code",
   "execution_count": null,
   "metadata": {},
   "outputs": [],
   "source": [
    "# vizinhos comuns entre dois nós\n",
    "nx.common_neighbors(G,1,4)\n",
    "# não implementado para grafos direcionados"
   ]
  }
 ],
 "metadata": {
  "kernelspec": {
   "display_name": "Python 3",
   "language": "python",
   "name": "python3"
  },
  "language_info": {
   "codemirror_mode": {
    "name": "ipython",
    "version": 3
   },
   "file_extension": ".py",
   "mimetype": "text/x-python",
   "name": "python",
   "nbconvert_exporter": "python",
   "pygments_lexer": "ipython3",
   "version": "3.7.4"
  }
 },
 "nbformat": 4,
 "nbformat_minor": 4
}
