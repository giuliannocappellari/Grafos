{
 "cells": [
  {
   "cell_type": "code",
   "execution_count": 1,
   "metadata": {},
   "outputs": [],
   "source": [
    "import networkx as nx\n",
    "import pandas as pd\n",
    "from pyvis.network import Network\n",
    "#import sqlalchemy\n",
    "import ibm_db\n",
    "import ibm_db_dbi"
   ]
  },
  {
   "cell_type": "code",
   "execution_count": 2,
   "metadata": {},
   "outputs": [],
   "source": [
    "#conectando ao BigSql\n",
    "#colocar credenciais\n",
    "db = ibm_db.connect(\"DATABASE=BIGSQL;HOSTNAME=bigsql.pro.intra.rs.gov.br;PORT=32051;PROTOCOL=TCPIP;UID=XXXXX;PWD=XXXXX;\", \"\", \"\")\n",
    "conn = ibm_db_dbi.Connection(db)   "
   ]
  },
  {
   "cell_type": "code",
   "execution_count": 3,
   "metadata": {},
   "outputs": [],
   "source": [
    "# buscando os dados das arestas / quem se relaciona com quem\n",
    "query = \"select * from PROCERGS_MILENA_VILLAR.RELACIONAMENTO;\"\n",
    "df = pd.read_sql_query(query, conn)\n",
    "g = nx.from_pandas_edgelist(df, 'SRC', 'TGT', edge_attr= ['REL','WGT'])"
   ]
  },
  {
   "cell_type": "code",
   "execution_count": 4,
   "metadata": {},
   "outputs": [],
   "source": [
    "# criando o grafo não direcionado\n",
    "G = nx.Graph(g)"
   ]
  },
  {
   "cell_type": "code",
   "execution_count": 5,
   "metadata": {
    "scrolled": true
   },
   "outputs": [
    {
     "data": {
      "text/html": [
       "\n",
       "        <iframe\n",
       "            width=\"900px\"\n",
       "            height=\"400px\"\n",
       "            src=\"g.html\"\n",
       "            frameborder=\"0\"\n",
       "            allowfullscreen\n",
       "        ></iframe>\n",
       "        "
      ],
      "text/plain": [
       "<IPython.lib.display.IFrame at 0x11e30830>"
      ]
     },
     "execution_count": 5,
     "metadata": {},
     "output_type": "execute_result"
    }
   ],
   "source": [
    "# plotar o grafo\n",
    "nt = Network(\"400px\", \"900px\", notebook = True)\n",
    "nt.from_nx(G)\n",
    "nt.show(\"g.html\")"
   ]
  },
  {
   "cell_type": "code",
   "execution_count": 6,
   "metadata": {},
   "outputs": [],
   "source": [
    "#buscando os labels dos nós(vértices)\n",
    "query = \"select * from PROCERGS_MILENA_VILLAR.PESSOAS;\"\n",
    "df_node = pd.read_sql_query(query, conn)"
   ]
  },
  {
   "cell_type": "code",
   "execution_count": 7,
   "metadata": {},
   "outputs": [
    {
     "data": {
      "text/plain": [
       "NodeDataView({2: {'size': 10, 'label': 'Eloi'}, 1: {'size': 10, 'label': 'Vivianne'}, 3: {'size': 10, 'label': 'Jade'}, 4: {'size': 10, 'label': 'Camila'}, 10: {'size': 10, 'label': 'Fabio'}, 16: {'size': 10, 'label': 'Virginia'}, 11: {'size': 10, 'label': 'Elis'}, 12: {'size': 10, 'label': 'Felipe'}, 13: {'size': 10, 'label': 'Brenda'}, 15: {'size': 10, 'label': 'Ney'}, 14: {'size': 10, 'label': 'Maria'}, 17: {'size': 10, 'label': 'Joaquim'}, 18: {'size': 10, 'label': 'Marisa'}, 7: {'size': 10, 'label': 'Inês'}, 19: {'size': 10, 'label': 'Maiara'}, 20: {'size': 10, 'label': 'Ligia'}, 8: {'size': 10, 'label': 'Barbara'}, 6: {'size': 10, 'label': 'Ricardo'}, 5: {'size': 10, 'label': 'Eduardo'}, 9: {'size': 10, 'label': 'Carolina'}})"
      ]
     },
     "execution_count": 7,
     "metadata": {},
     "output_type": "execute_result"
    }
   ],
   "source": [
    "#transformando a tabela em um dicionário para atribuir labels aos IDs dos nós\n",
    "nodelabel = df_node.set_index(\"ID\").T.to_dict('records')[0]\n",
    "# atribuindo o atributo label\n",
    "nx.set_node_attributes(G, nodelabel, 'label')\n",
    "G.nodes(data=True)"
   ]
  },
  {
   "cell_type": "code",
   "execution_count": 8,
   "metadata": {},
   "outputs": [],
   "source": [
    "#buscando os tamanhos dos nós(vértices)\n",
    "query = \"select ID,SZ from PROCERGS_MILENA_VILLAR.ATRIB;\"\n",
    "a = pd.read_sql_query(query, conn)"
   ]
  },
  {
   "cell_type": "code",
   "execution_count": 9,
   "metadata": {},
   "outputs": [
    {
     "data": {
      "text/plain": [
       "NodeDataView({2: {'size': 5, 'label': 'Eloi'}, 1: {'size': 15, 'label': 'Vivianne'}, 3: {'size': 5, 'label': 'Jade'}, 4: {'size': 15, 'label': 'Camila'}, 10: {'size': 5, 'label': 'Fabio'}, 16: {'size': 2, 'label': 'Virginia'}, 11: {'size': 5, 'label': 'Elis'}, 12: {'size': 1, 'label': 'Felipe'}, 13: {'size': 1, 'label': 'Brenda'}, 15: {'size': 2, 'label': 'Ney'}, 14: {'size': 2, 'label': 'Maria'}, 17: {'size': 15, 'label': 'Joaquim'}, 18: {'size': 15, 'label': 'Marisa'}, 7: {'size': 15, 'label': 'Inês'}, 19: {'size': 15, 'label': 'Maiara'}, 20: {'size': 15, 'label': 'Ligia'}, 8: {'size': 15, 'label': 'Barbara'}, 6: {'size': 5, 'label': 'Ricardo'}, 5: {'size': 5, 'label': 'Eduardo'}, 9: {'size': 15, 'label': 'Carolina'}})"
      ]
     },
     "execution_count": 9,
     "metadata": {},
     "output_type": "execute_result"
    }
   ],
   "source": [
    "#transformando a tabela em um dicionário para atribuir os tamanhos aos IDs dos nós\n",
    "nodeatrib = a.set_index(\"ID\").T.to_dict('records')[0]\n",
    "# atribuindo o atributo label\n",
    "nx.set_node_attributes(G, nodeatrib, 'size')\n",
    "G.nodes(data=True)"
   ]
  },
  {
   "cell_type": "code",
   "execution_count": 10,
   "metadata": {},
   "outputs": [],
   "source": [
    "#buscando os grupos dos nós(vértices)\n",
    "query = \"select ID,GP from PROCERGS_MILENA_VILLAR.ATRIB;\"\n",
    "g = pd.read_sql_query(query, conn)"
   ]
  },
  {
   "cell_type": "code",
   "execution_count": 11,
   "metadata": {},
   "outputs": [
    {
     "data": {
      "text/plain": [
       "NodeDataView({2: {'size': 5, 'label': 'Eloi', 'group': 1}, 1: {'size': 15, 'label': 'Vivianne', 'group': 1}, 3: {'size': 5, 'label': 'Jade', 'group': 1}, 4: {'size': 15, 'label': 'Camila', 'group': 2}, 10: {'size': 5, 'label': 'Fabio', 'group': 4}, 16: {'size': 2, 'label': 'Virginia', 'group': 6}, 11: {'size': 5, 'label': 'Elis', 'group': 4}, 12: {'size': 1, 'label': 'Felipe', 'group': 4}, 13: {'size': 1, 'label': 'Brenda', 'group': 4}, 15: {'size': 2, 'label': 'Ney', 'group': 5}, 14: {'size': 2, 'label': 'Maria', 'group': 5}, 17: {'size': 15, 'label': 'Joaquim', 'group': 7}, 18: {'size': 15, 'label': 'Marisa', 'group': 7}, 7: {'size': 15, 'label': 'Inês', 'group': 3}, 19: {'size': 15, 'label': 'Maiara', 'group': 8}, 20: {'size': 15, 'label': 'Ligia', 'group': 8}, 8: {'size': 15, 'label': 'Barbara', 'group': 3}, 6: {'size': 5, 'label': 'Ricardo', 'group': 3}, 5: {'size': 5, 'label': 'Eduardo', 'group': 2}, 9: {'size': 15, 'label': 'Carolina', 'group': 3}})"
      ]
     },
     "execution_count": 11,
     "metadata": {},
     "output_type": "execute_result"
    }
   ],
   "source": [
    "#transformando a tabela em um dicionário para atribuir os grupos aos IDs dos nós\n",
    "nodeatrib = g.set_index(\"ID\").T.to_dict('records')[0]\n",
    "# atribuindo o atributo label\n",
    "nx.set_node_attributes(G, nodeatrib, 'group')\n",
    "G.nodes(data=True)"
   ]
  },
  {
   "cell_type": "code",
   "execution_count": 12,
   "metadata": {},
   "outputs": [
    {
     "data": {
      "text/html": [
       "<div>\n",
       "<style scoped>\n",
       "    .dataframe tbody tr th:only-of-type {\n",
       "        vertical-align: middle;\n",
       "    }\n",
       "\n",
       "    .dataframe tbody tr th {\n",
       "        vertical-align: top;\n",
       "    }\n",
       "\n",
       "    .dataframe thead th {\n",
       "        text-align: right;\n",
       "    }\n",
       "</style>\n",
       "<table border=\"1\" class=\"dataframe\">\n",
       "  <thead>\n",
       "    <tr style=\"text-align: right;\">\n",
       "      <th></th>\n",
       "      <th>ID</th>\n",
       "      <th>LAT</th>\n",
       "      <th>LONGT</th>\n",
       "    </tr>\n",
       "  </thead>\n",
       "  <tbody>\n",
       "    <tr>\n",
       "      <th>0</th>\n",
       "      <td>7</td>\n",
       "      <td>-29.916482</td>\n",
       "      <td>-51.146204</td>\n",
       "    </tr>\n",
       "    <tr>\n",
       "      <th>1</th>\n",
       "      <td>8</td>\n",
       "      <td>-29.916482</td>\n",
       "      <td>-51.146204</td>\n",
       "    </tr>\n",
       "    <tr>\n",
       "      <th>2</th>\n",
       "      <td>9</td>\n",
       "      <td>-29.916482</td>\n",
       "      <td>-51.146204</td>\n",
       "    </tr>\n",
       "    <tr>\n",
       "      <th>3</th>\n",
       "      <td>10</td>\n",
       "      <td>-29.897718</td>\n",
       "      <td>-51.170391</td>\n",
       "    </tr>\n",
       "    <tr>\n",
       "      <th>4</th>\n",
       "      <td>11</td>\n",
       "      <td>-29.897718</td>\n",
       "      <td>-51.170391</td>\n",
       "    </tr>\n",
       "  </tbody>\n",
       "</table>\n",
       "</div>"
      ],
      "text/plain": [
       "   ID        LAT      LONGT\n",
       "0   7 -29.916482 -51.146204\n",
       "1   8 -29.916482 -51.146204\n",
       "2   9 -29.916482 -51.146204\n",
       "3  10 -29.897718 -51.170391\n",
       "4  11 -29.897718 -51.170391"
      ]
     },
     "execution_count": 12,
     "metadata": {},
     "output_type": "execute_result"
    }
   ],
   "source": [
    "#buscando o atributo coordenadas dos nós(vértices)\n",
    "query = \"select * from PROCERGS_MILENA_VILLAR.COORDENADAS;\"\n",
    "at_node = pd.read_sql_query(query, conn)\n",
    "at_node.head()"
   ]
  },
  {
   "cell_type": "code",
   "execution_count": 13,
   "metadata": {},
   "outputs": [
    {
     "data": {
      "text/plain": [
       "NodeDataView({2: {'size': 5, 'label': 'Eloi', 'group': 1, 'pos': [-29.881724532142304, -51.164042431648795]}, 1: {'size': 15, 'label': 'Vivianne', 'group': 1, 'pos': [-29.881724532142304, -51.164042431648795]}, 3: {'size': 5, 'label': 'Jade', 'group': 1, 'pos': [-29.881724532142304, -51.164042431648795]}, 4: {'size': 15, 'label': 'Camila', 'group': 2, 'pos': [-29.894813954047603, -51.15983506048432]}, 10: {'size': 5, 'label': 'Fabio', 'group': 4, 'pos': [-29.897717760996297, -51.17039117397637]}, 16: {'size': 2, 'label': 'Virginia', 'group': 6, 'pos': [-30.029295930685592, -51.201077060480124]}, 11: {'size': 5, 'label': 'Elis', 'group': 4, 'pos': [-29.897717760996297, -51.17039117397637]}, 12: {'size': 1, 'label': 'Felipe', 'group': 4, 'pos': [-29.897717760996297, -51.17039117397637]}, 13: {'size': 1, 'label': 'Brenda', 'group': 4, 'pos': [-29.897717760996297, -51.17039117397637]}, 15: {'size': 2, 'label': 'Ney', 'group': 5, 'pos': [-29.897717760996297, -51.17039117397637]}, 14: {'size': 2, 'label': 'Maria', 'group': 5, 'pos': [-29.897717760996297, -51.17039117397637]}, 17: {'size': 15, 'label': 'Joaquim', 'group': 7, 'pos': [-29.910263870608784, -51.182155612135084]}, 18: {'size': 15, 'label': 'Marisa', 'group': 7, 'pos': [-29.910263870608784, -51.182155612135084]}, 7: {'size': 15, 'label': 'Inês', 'group': 3, 'pos': [-29.916481995490678, -51.14620368931968]}, 19: {'size': 15, 'label': 'Maiara', 'group': 8, 'pos': [-29.906951078843637, -51.175015731648074]}, 20: {'size': 15, 'label': 'Ligia', 'group': 8, 'pos': [-29.86000771351742, -51.178089786018376]}, 8: {'size': 15, 'label': 'Barbara', 'group': 3, 'pos': [-29.916481995490678, -51.14620368931968]}, 6: {'size': 5, 'label': 'Ricardo', 'group': 3, 'pos': [-29.916481995490678, -51.14620368931968]}, 5: {'size': 5, 'label': 'Eduardo', 'group': 2, 'pos': [-29.894813954047603, -51.15983506048432]}, 9: {'size': 15, 'label': 'Carolina', 'group': 3, 'pos': [-29.916481995490678, -51.14620368931968]}})"
      ]
     },
     "execution_count": 13,
     "metadata": {},
     "output_type": "execute_result"
    }
   ],
   "source": [
    "#transformando a tabela em um dicionário\n",
    "c = at_node.set_index(\"ID\").T.to_dict('list')\n",
    "#adicionando o atributo coordenada\n",
    "nx.set_node_attributes(G, c, 'pos')\n",
    "G.nodes(data=True)"
   ]
  },
  {
   "cell_type": "code",
   "execution_count": 14,
   "metadata": {},
   "outputs": [
    {
     "data": {
      "text/html": [
       "\n",
       "        <iframe\n",
       "            width=\"900px\"\n",
       "            height=\"400px\"\n",
       "            src=\"ga.html\"\n",
       "            frameborder=\"0\"\n",
       "            allowfullscreen\n",
       "        ></iframe>\n",
       "        "
      ],
      "text/plain": [
       "<IPython.lib.display.IFrame at 0x11beb6d0>"
      ]
     },
     "execution_count": 14,
     "metadata": {},
     "output_type": "execute_result"
    }
   ],
   "source": [
    "# plotar o grafo\n",
    "nt = Network(\"400px\", \"900px\", notebook = True)\n",
    "nt.from_nx(G)\n",
    "nt.show(\"ga.html\")"
   ]
  },
  {
   "cell_type": "code",
   "execution_count": 15,
   "metadata": {},
   "outputs": [
    {
     "name": "stdout",
     "output_type": "stream",
     "text": [
      "Caminho de custo mínimo:  [3, 5, 6, 18]\n"
     ]
    }
   ],
   "source": [
    "# O id é \n",
    "# Descobre o caminho de custo mínimo (ccm) do vértice '1' até '2' // o peso é considerado\n",
    "ccm = nx.dijkstra_path(G,source = 3, target = 18, weight = 'WGT')\n",
    "print('Caminho de custo mínimo: ',ccm)"
   ]
  }
 ],
 "metadata": {
  "kernelspec": {
   "display_name": "Python 3",
   "language": "python",
   "name": "python3"
  },
  "language_info": {
   "codemirror_mode": {
    "name": "ipython",
    "version": 3
   },
   "file_extension": ".py",
   "mimetype": "text/x-python",
   "name": "python",
   "nbconvert_exporter": "python",
   "pygments_lexer": "ipython3",
   "version": "3.7.4"
  }
 },
 "nbformat": 4,
 "nbformat_minor": 4
}
