{
 "cells": [
  {
   "cell_type": "markdown",
   "metadata": {},
   "source": [
    "### Tipo de grafo selecionado: \n",
    "### Cálculo do Grau de Centralidade (Degree Centrality)\n",
    "### Cálculo Centralidade do Autovetor / Valor (Eigenvector)\n",
    "### Betweenness\n",
    "### Closeness"
   ]
  },
  {
   "cell_type": "code",
   "execution_count": 1,
   "metadata": {},
   "outputs": [],
   "source": [
    "import networkx as nx\n",
    "import ibm_db\n",
    "import ibm_db_dbi\n",
    "import pandas as pd\n",
    "from pyvis.network import Network\n",
    "from itertools import combinations\n",
    "import time"
   ]
  },
  {
   "cell_type": "markdown",
   "metadata": {},
   "source": [
    "### Função cria_grafo"
   ]
  },
  {
   "cell_type": "code",
   "execution_count": 6,
   "metadata": {},
   "outputs": [],
   "source": [
    "def cria_grafo(user,pwd):\n",
    "    \n",
    "    db = ibm_db.connect(\"DATABASE=BIGSQL;HOSTNAME=bigsql.pro.intra.rs.gov.br;PORT=32051;PROTOCOL=TCPIP;UID=\"+user+\";PWD=\"+pwd+\";\", \"\", \"\")\n",
    "    conn = ibm_db_dbi.Connection(db) \n",
    "    \n",
    "    # Selecionando ocorrência e pessoas de interesse\n",
    "    query = \"\"\" SELECT\n",
    "                    oc.NRO_INT_OCORRENCIA,\n",
    "                    poc.NRO_INT_PESSOA_INTERESSE, \n",
    "                    tp.TXT_DESCRICAO VINCULO\n",
    "                FROM\n",
    "                    GESEG_TARGET.GESEG_VER_OCORRENCIA oc\n",
    "                    INNER JOIN GESEG_TARGET.GESEG_DIM_GRUPO_FATO ft ON oc.NRO_INT_FATO = ft.NRO_INT_FATO\n",
    "                    INNER JOIN GESEG_TARGET.GESEG_VER_PARTICIPANTE_OCORRENCIA poc ON oc.NRO_INT_OCORRENCIA = poc.NRO_INT_OCORRENCIA\n",
    "                    INNER JOIN GESEG_TARGET.GESEG_DIM_TIPO_PARTICIPACAO tp ON poc.NRO_INT_TIPO_PARTICIPACAO = tp.NRO_INT_TIPO_PARTICIPACAO -- Coloquei para descobrir participação pessoa de interesse\n",
    "                WHERE\n",
    "                    ft.NRO_INT_FATO IN (201003,201013,201012,201009,201015,201025,201006,202567,202540,202545,202536,202549,202561,202565,202553,202557,201004,201005)\n",
    "                    AND YEAR(DATA_FATO) IN (2016,2017)\n",
    "                    AND poc.NRO_INT_TIPO_PARTICIPACAO IN (4,7,8,13,14)\n",
    "                GROUP BY oc.NRO_INT_OCORRENCIA, poc.NRO_INT_PESSOA_INTERESSE,tp.TXT_DESCRICAO;\"\"\"\n",
    "    \n",
    "    df = pd.read_sql_query(query, conn)\n",
    "    # title é utilizado para aparecer o tipo de vínculo quando o mouse passar pela aresta\n",
    "    df['title'] = df['VINCULO']\n",
    "    \n",
    "    #informando quais colunas da tabela serão o source, target e demais atributos;\n",
    "    D = nx.from_pandas_edgelist(df, source = 'NRO_INT_OCORRENCIA', target = 'NRO_INT_PESSOA_INTERESSE', edge_attr= True, create_using=nx.Graph())\n",
    "    \n",
    "    # definindo o atributo 'tipo_no' para todos os nós\n",
    "    for n in D.nodes:\n",
    "        D.nodes[n].setdefault('TIPO_NO', 'sem_descricao')\n",
    "        \n",
    "    # NÓ OCORRÊNCIA\n",
    "    #buscando os atributos do vértice \n",
    "    query = \"\"\"SELECT\n",
    "                    oc.NRO_INT_OCORRENCIA,\n",
    "                    ft.DESC_FATO Fato,\n",
    "                    DATA_REGISTRO,\n",
    "                    HORA_REGISTRO,\n",
    "                    DATA_FATO,\n",
    "                    HORA_FATO,\n",
    "                    count(*) envolvimentos,\n",
    "                    count(DISTINCT poc.NRO_INT_PESSOA_INTERESSE) pessoas_envolvidas\n",
    "                FROM\n",
    "                    GESEG_TARGET.GESEG_VER_OCORRENCIA oc\n",
    "                    INNER JOIN GESEG_TARGET.GESEG_DIM_GRUPO_FATO ft ON oc.NRO_INT_FATO = ft.NRO_INT_FATO\n",
    "                    INNER JOIN GESEG_TARGET.GESEG_VER_PARTICIPANTE_OCORRENCIA poc ON oc.NRO_INT_OCORRENCIA = poc.NRO_INT_OCORRENCIA\n",
    "                WHERE\n",
    "                    ft.NRO_INT_FATO IN (201003,201013,201012,201009,201015,201025,201006,202567,202540,202545,202536,202549,202561,202565,202553,202557,201004,201005)\n",
    "                    AND YEAR(DATA_FATO) IN (2016,2017)\n",
    "                    AND poc.NRO_INT_TIPO_PARTICIPACAO IN (4,7,8,13,14)\n",
    "                GROUP BY oc.NRO_INT_OCORRENCIA, DATA_REGISTRO, DATA_FATO, ft.DESC_FATO, HORA_FATO, HORA_REGISTRO;\"\"\"\n",
    "\n",
    "    #TRANSFERINDO DADOS PARA TABELA\n",
    "    df_node_ocor = pd.read_sql_query(query, conn)\n",
    "    \n",
    "    #Criando shape e cor diferente para os nós ocorrência\n",
    "    df_node_ocor['TIPO_NO'] = 'ocorrencia'\n",
    "    df_node_ocor['NUMERO'] = df_node_ocor['NRO_INT_OCORRENCIA']\n",
    "    df_node_ocor['shape'] = 'triangle'\n",
    "    df_node_ocor['color'] = 'orange'\n",
    "    df_node_ocor['label'] = ' '\n",
    "    df_node_ocor['title'] = 'Ocorrência: ' + df_node_ocor['NRO_INT_OCORRENCIA'].astype(str) + '\\n Fato: ' + df_node_ocor['FATO']\n",
    "\n",
    "    #formatando o atributo Data\n",
    "    df_node_ocor['DATA_FATO'] = pd.to_datetime(df_node_ocor['DATA_FATO'])\n",
    "    df_node_ocor['DATA_FATO'] = df_node_ocor['DATA_FATO'].dt.strftime('%Y-%m-%d')\n",
    "    df_node_ocor['DATA_REGISTRO'] = pd.to_datetime(df_node_ocor['DATA_REGISTRO'])\n",
    "    df_node_ocor['DATA_REGISTRO'] = df_node_ocor['DATA_REGISTRO'].dt.strftime('%Y-%m-%d')\n",
    "    \n",
    "    #transformando a tabela em um dicionário para atribuir os dados aos vértices 'ocorrencia'\n",
    "    node_ocorr_atrib = df_node_ocor.set_index(\"NRO_INT_OCORRENCIA\").T.to_dict()\n",
    "    # atributo \n",
    "    nx.set_node_attributes(D, node_ocorr_atrib)\n",
    "    \n",
    "    #NÓ PESSOA DE INTERESSE\n",
    "    # atributos do nó\n",
    "    query = \"\"\"SELECT\n",
    "                    DISTINCT pi.NRO_INT_PESSOA_INTERESSE,\n",
    "                    pi.NOME\n",
    "                FROM\n",
    "                    GESEG_TARGET.GESEG_VER_PESSOA_INTERESSE pi\n",
    "                WHERE\n",
    "                    NRO_INT_PESSOA_INTERESSE IN (\n",
    "                    SELECT \n",
    "                        poc.NRO_INT_PESSOA_INTERESSE\n",
    "                    FROM\n",
    "                        GESEG_TARGET.GESEG_VER_OCORRENCIA oc\n",
    "                        INNER JOIN GESEG_TARGET.GESEG_DIM_GRUPO_FATO ft ON oc.NRO_INT_FATO = ft.NRO_INT_FATO\n",
    "                        INNER JOIN GESEG_TARGET.GESEG_VER_PARTICIPANTE_OCORRENCIA poc ON oc.NRO_INT_OCORRENCIA = poc.NRO_INT_OCORRENCIA\n",
    "                    WHERE ft.NRO_INT_FATO IN (201003,201013,201012,201009,201015,201025,201006,202567,202540,202545,202536,202549,202561,202565,202553,202557,201004,201005)\n",
    "                        AND YEAR(DATA_FATO) IN (2016,2017)\n",
    "                        AND poc.NRO_INT_TIPO_PARTICIPACAO IN (4,7,8,13,14)\n",
    "                    );\"\"\"\n",
    "    \n",
    "    #TRANSFERINDO DADOS PARA TABELA\n",
    "    df_node_pi = pd.read_sql_query(query, conn)\n",
    "    \n",
    "    #Retirando o label dos nós\n",
    "    df_node_pi['TIPO_NO'] = 'pessoa'\n",
    "    df_node_pi['label'] = ' '\n",
    "    df_node_pi['title'] = df_node_pi['NOME']\n",
    "    df_node_pi['NUMERO'] = df_node_pi['NRO_INT_PESSOA_INTERESSE']\n",
    "    \n",
    "    #transformando a tabela em um dicionário para atribuir os dados aos vértices 'pesso interesse'\n",
    "    node_ocorr_atrib2 = df_node_pi.set_index(\"NRO_INT_PESSOA_INTERESSE\").T.to_dict()\n",
    "    # definindo atributos\n",
    "    nx.set_node_attributes(D, node_ocorr_atrib2)\n",
    "    \n",
    "    ### Co- Autores\n",
    "    #Criando vínculo co-autores\n",
    "    for n in D.nodes:\n",
    "        if D.nodes[n]['TIPO_NO'] == 'ocorrencia':\n",
    "            lista_vizinhos = D.neighbors(n)\n",
    "            liga_vizinhos = combinations(lista_vizinhos, 2) \n",
    "            D.add_edges_from(liga_vizinhos, VINCULO ='co-autores')\n",
    "            \n",
    "    # Verificando quais nós possuem mais de uma ligação 'co-autor' entre eles\n",
    "    #duplos = [(u, v, k, d) for u, v, k, d in D.edges(data=True, keys = True) if d['VINCULO'] == 'co-autores' and k != 0]\n",
    "\n",
    "    # formatando os edges que desejamos excluir\n",
    "    #duplos_format = []\n",
    "    #for i in range(len(duplos)):\n",
    "        #duplos_format.append(duplos[i][:3])\n",
    "        \n",
    "    # removendo ligações de co-autores duplicados\n",
    "    #D.remove_edges_from(duplos_format)\n",
    "    \n",
    "    # colocando o atributo 'title' para aparecer qual é a relação quando o mouse parar em cima da aresta\n",
    "    for u,v,d in D.edges(data=True):\n",
    "        if d['VINCULO'] == 'co-autores':\n",
    "            D[u][v]['title'] = 'co-autores'\n",
    "            \n",
    "    conn.close()\n",
    "    return D;"
   ]
  },
  {
   "cell_type": "code",
   "execution_count": 3,
   "metadata": {},
   "outputs": [],
   "source": [
    "# plotar o grafo\n",
    "def plot_g_pyviz(G, name='out.html', height='300px', width='100%',notebook=True, directed=False):\n",
    "    g = G.copy() # some attributes added to nodes\n",
    "    net = Network(notebook=notebook, directed=directed, height=height, width=width)\n",
    "    opts = '''\n",
    "        var options = {\n",
    "          \"physics\": {\n",
    "            \"forceAtlas2Based\": {\n",
    "              \"gravitationalConstant\": -100,\n",
    "              \"centralGravity\": 0.11,\n",
    "              \"springLength\": 100,\n",
    "              \"springConstant\": 0.09,\n",
    "              \"avoidOverlap\": 1\n",
    "            },\n",
    "            \"minVelocity\": 0.75,\n",
    "            \"solver\": \"forceAtlas2Based\",\n",
    "            \"timestep\": 0.22\n",
    "          }\n",
    "        }\n",
    "    '''\n",
    "\n",
    "    net.set_options(opts)\n",
    "    # uncomment this to play with layout\n",
    "    # net.show_buttons(filter_=['physics'])\n",
    "    net.from_nx(g)\n",
    "    return net.show(name)"
   ]
  },
  {
   "cell_type": "markdown",
   "metadata": {},
   "source": [
    "### Criando grafo"
   ]
  },
  {
   "cell_type": "code",
   "execution_count": 7,
   "metadata": {},
   "outputs": [
    {
     "name": "stdout",
     "output_type": "stream",
     "text": [
      "Tempo de execução criação de grafo: 12.857410669326782 segundos\n"
     ]
    }
   ],
   "source": [
    "# CRIANDO GRAFO\n",
    "\n",
    "#COLOCAR CREDENCIAIS para acessar o banco\n",
    "user = \"milena-villar\"\n",
    "pwd = \"inicial@19\"\n",
    "\n",
    "t1 = time.time()\n",
    "# chamando função\n",
    "G = cria_grafo(user, pwd)\n",
    "tempoExec = time.time() - t1\n",
    "print(\"Tempo de execução criação de grafo: {} segundos\".format(tempoExec))"
   ]
  },
  {
   "cell_type": "code",
   "execution_count": 8,
   "metadata": {},
   "outputs": [
    {
     "name": "stdout",
     "output_type": "stream",
     "text": [
      "['4025CAD23B7ED014F4A421D5866337C7']\n"
     ]
    }
   ],
   "source": [
    "# verificando se todos os nós estão com o 'tipo' definido\n",
    "teste = (n for n in G if G.nodes[n]['TIPO_NO']== 'sem_descricao')\n",
    "print(sorted(teste))"
   ]
  },
  {
   "cell_type": "code",
   "execution_count": 9,
   "metadata": {},
   "outputs": [
    {
     "data": {
      "text/plain": [
       "{'VINCULO': 'co-autores', 'title': 'co-autores'}"
      ]
     },
     "execution_count": 9,
     "metadata": {},
     "output_type": "execute_result"
    }
   ],
   "source": [
    "# Verificando se os edges 'co-autores' duplicados foram excluídos\n",
    "G['1495C1291F438A12CBE7284F2383F2F1']['71B94064FD47CA2D303503957F0205F2']"
   ]
  },
  {
   "cell_type": "code",
   "execution_count": 24,
   "metadata": {},
   "outputs": [
    {
     "data": {
      "text/html": [
       "\n",
       "        <iframe\n",
       "            width=\"100%\"\n",
       "            height=\"300px\"\n",
       "            src=\"multigrafo2016.html\"\n",
       "            frameborder=\"0\"\n",
       "            allowfullscreen\n",
       "        ></iframe>\n",
       "        "
      ],
      "text/plain": [
       "<IPython.lib.display.IFrame at 0x1c26f9a8dd8>"
      ]
     },
     "execution_count": 24,
     "metadata": {},
     "output_type": "execute_result"
    }
   ],
   "source": [
    "# Testando co-autores // ,32309971\n",
    "T2= nx.generators.ego_graph(G, 31025120 , radius=1, center = True, undirected = True)\n",
    "\n",
    "# plotar o grafo\n",
    "plot_g_pyviz(T2,name='multigrafo2016.html' ,notebook = True, directed = False)"
   ]
  },
  {
   "cell_type": "code",
   "execution_count": 15,
   "metadata": {},
   "outputs": [
    {
     "name": "stdout",
     "output_type": "stream",
     "text": [
      "número de vértices:  18367\n",
      "número de arestas:  20953\n"
     ]
    }
   ],
   "source": [
    "print('número de vértices: ',G.number_of_nodes())\n",
    "print('número de arestas: ',G.number_of_edges())"
   ]
  },
  {
   "cell_type": "code",
   "execution_count": 16,
   "metadata": {},
   "outputs": [
    {
     "name": "stdout",
     "output_type": "stream",
     "text": [
      "Número de comunidades encontradas:  6349\n"
     ]
    }
   ],
   "source": [
    "# Comunidades\n",
    "\n",
    "import community\n",
    "\n",
    "partition = community.best_partition(G)\n",
    "values = [partition.get(node) for node in G.nodes()]\n",
    "print(\"Número de comunidades encontradas: \", len(set(values)))"
   ]
  },
  {
   "cell_type": "code",
   "execution_count": 17,
   "metadata": {},
   "outputs": [
    {
     "name": "stdout",
     "output_type": "stream",
     "text": [
      "Grau médio dos nós: 2.28\n"
     ]
    }
   ],
   "source": [
    "import numpy as np\n",
    "\n",
    "deg = nx.degree(G)\n",
    "deg_seq = [d for n,d in deg]\n",
    "\n",
    "nos = G.number_of_nodes()\n",
    "grau_med = sum(deg_seq)/ nos\n",
    "\n",
    "print(\"Grau médio dos nós: %.2f\" % grau_med)"
   ]
  },
  {
   "cell_type": "markdown",
   "metadata": {},
   "source": [
    " O critério de Molloy-Reed busca demonstrar a existência, ou ausência, de um componente gigante em uma rede aleatória.\n",
    "Seguindo o principio que para um componente gigante existir em uma rede, a maioria dos nós precisam estar conectados a outros dois nós, pelo menos."
   ]
  },
  {
   "cell_type": "code",
   "execution_count": 18,
   "metadata": {},
   "outputs": [],
   "source": [
    "# Componente Gigante ( maior cluster conectado da rede)\n",
    "largest_cc = max(nx.connected_components(G), key=len)\n",
    "G0 = G.subgraph(largest_cc)\n",
    "# plotar o grafo\n",
    "plot_g_pyviz(G0, name='cg2016_2017.html', height='100%',notebook = False, directed = False)"
   ]
  },
  {
   "cell_type": "markdown",
   "metadata": {},
   "source": [
    "Conforme o artigo: \"nos concentramos apenas no componente gigante da rede, uma vez que o maior componente conectado pode representar uma fase do crime generalizado e auto-organizado, mais perigoso do ponto de vista da segurança nacional.\""
   ]
  },
  {
   "cell_type": "code",
   "execution_count": 19,
   "metadata": {},
   "outputs": [
    {
     "name": "stdout",
     "output_type": "stream",
     "text": [
      "número de vértices: 967  5% do número total de nós\n",
      "número de arestas: 3165  15% do número total de nós\n"
     ]
    }
   ],
   "source": [
    "pver = (G0.number_of_nodes()/G.number_of_nodes())*100\n",
    "aver = (G0.number_of_edges()/G.number_of_edges())*100\n",
    "print('número de vértices: '+ str(G0.number_of_nodes()) + '  {:01.0f}% do número total de nós'.format(pver))\n",
    "print('número de arestas: ' + str(G0.number_of_edges()) + '  {:02.0f}% do número total de nós'.format(aver))"
   ]
  },
  {
   "cell_type": "code",
   "execution_count": 20,
   "metadata": {},
   "outputs": [
    {
     "name": "stdout",
     "output_type": "stream",
     "text": [
      "Grau médio dos nós: 6.55\n"
     ]
    }
   ],
   "source": [
    "deg0 = nx.degree(G0)\n",
    "deg_seq0 = [d for n,d in deg0]\n",
    "\n",
    "nos0 = G0.number_of_nodes()\n",
    "grau_med0 = sum(deg_seq0)/ nos0\n",
    "\n",
    "print(\"Grau médio dos nós: {:01.2f}\".format(grau_med0))"
   ]
  },
  {
   "cell_type": "code",
   "execution_count": 21,
   "metadata": {},
   "outputs": [
    {
     "name": "stdout",
     "output_type": "stream",
     "text": [
      "Número de comunidades encontradas:  22\n"
     ]
    }
   ],
   "source": [
    "# Comunidades G0\n",
    "partition_G0 = community.best_partition(G0)\n",
    "values0 = [partition_G0.get(node) for node in G0.nodes()]\n",
    "print(\"Número de comunidades encontradas: \", len(set(values0)))"
   ]
  },
  {
   "cell_type": "code",
   "execution_count": 22,
   "metadata": {},
   "outputs": [],
   "source": [
    "# Configurando as cores das comunidades e plotando o grafo\n",
    "color_list = [\"#c357c5\",\"#52c35e\",\"#785cce\",\"#87bb37\",\"#507ddb\",\"#c2b73d\",\"#b78ddf\",\"#4e8f2d\",\"#d6438e\",\"#61c38e\",\"#d8425b\",\n",
    "              \"#45c7c8\",\"#db542e\",\"#629fd6\",\"#dc9030\",\"#6561a3\",\"#938a2a\",\"#9a4c87\",\"#438a4d\",\"#dd86b6\",\"#2a6a45\",\"#a84927\",\n",
    "              \"#38987e\",\"#a54a5b\",\"#9eb46b\",\"#e48374\",\"#616f2a\",\"#d3a166\",\"#90652d\"]\n",
    "\n",
    "color_list = color_list[0:len(set(values0))]\n",
    "color_dict = pd.Series(color_list, index=np.arange(0,len(set(values0)))).to_dict()\n",
    "\n",
    "for key, value in partition_G0.items():\n",
    "    partition_G0[key] = color_dict[value]\n",
    "\n",
    "nx.set_node_attributes(G0, partition_G0, 'color')\n",
    "plot_g_pyviz(G0, name='cg2016_2017_comunidades.html', height='100%', notebook = False, directed = False)"
   ]
  },
  {
   "cell_type": "markdown",
   "metadata": {},
   "source": [
    "Conforme o artigo: \" A densidade e a eficiência da rede nos informam sobre o compromisso entre a segurança e a difusão efetiva de informações e dados\"\n",
    "\n",
    "A baixa densidade e eficiência estão relacionados à clandestinidade da rede que tenta constantemente se esconder da vigilância policial."
   ]
  },
  {
   "cell_type": "code",
   "execution_count": 23,
   "metadata": {},
   "outputs": [
    {
     "name": "stdout",
     "output_type": "stream",
     "text": [
      "Densidade do grafo: 0.0068\n"
     ]
    }
   ],
   "source": [
    "# Densidade: o quão esparsa é a rede; nível de conectividade\n",
    "# Conforme o artigo: \"em uma rede \"brilhante\" com um grande número de conexões entre criminosos, \n",
    "# a investigação ou captura de um ator ajudaria as autoridades a extrair informações críticas sobre a estrutura da rede.\n",
    "# Uma rede mais escura, no entanto, embora oculte a estrutura das investigações, retardaria a transferência de informações\n",
    "# dentro da rede devido aos caminhos mais longos entre os criminosos.\"\n",
    "dens0 = nx.density(G0)\n",
    "print(\"Densidade do grafo: {:04.4f}\".format(dens0))"
   ]
  },
  {
   "cell_type": "code",
   "execution_count": 41,
   "metadata": {},
   "outputs": [
    {
     "name": "stdout",
     "output_type": "stream",
     "text": [
      "Eficiência do grafo: 0.1970\n"
     ]
    }
   ],
   "source": [
    "# Eficiência da rede: se as conexões estão contribuindo para a redução do tamanho dos caminhos da rede\n",
    "# Conforme o artigo: \"a eficiência da rede quantifica a troca de informações\"\n",
    "efic0 = nx.global_efficiency(G0)\n",
    "print(\"Eficiência do grafo: {:04.4f}\".format(efic0))"
   ]
  },
  {
   "cell_type": "code",
   "execution_count": 27,
   "metadata": {},
   "outputs": [
    {
     "name": "stdout",
     "output_type": "stream",
     "text": [
      "Coeficiente de aglomeração médio: 0.76\n",
      "Comprimento médio de caminho mais curto: 6.45\n"
     ]
    }
   ],
   "source": [
    "# Coeficiente de aglomeração: coesão do grupo a que o nó pertence. Quanto mais os vizinhos do nó se conhecerem,\n",
    "#maior é o coeficiente de aglomeração, mais coeso é o grupo.\n",
    "md_ca = nx.average_clustering(G0)\n",
    "md_cc = nx.average_shortest_path_length(G0)\n",
    "print(\"Coeficiente de aglomeração médio: {:04.2f}\".format(md_ca))\n",
    "print(\"Comprimento médio de caminho mais curto: {:04.2f}\".format(md_cc))"
   ]
  },
  {
   "cell_type": "markdown",
   "metadata": {},
   "source": [
    "A rede também é altamente hierárquica, refletindo o fato de que alguns indivíduos proeminentes são responsáveis pela coesão da rede, enquanto a maioria dos criminosos debaixo k participam apenas de uma pequena quantidade de interações."
   ]
  },
  {
   "cell_type": "markdown",
   "metadata": {},
   "source": [
    "## Algoritmos de Centralidade"
   ]
  },
  {
   "cell_type": "markdown",
   "metadata": {},
   "source": [
    "### Grau de centralidade \n",
    "É uma medida do número de links diretos para outros nós na rede. É uma medida local, pois seu valor é calculado com base no número de links que um nó tem com os outros nós diretamente adjacentes a ele. Atores em redes sociais com um alto grau de centralidade servem como hubs e como principais canais de informação. Nas redes sociais, por exemplo, a distribuição de graus de nós segue uma distribuição de leis de potência, o que significa que muito poucos nós têm um número extremamente grande de conexões. Naturalmente, esses nós de alto grau têm mais impacto na rede do que outros nós e, portanto, são considerados mais importantes."
   ]
  },
  {
   "cell_type": "code",
   "execution_count": 31,
   "metadata": {},
   "outputs": [
    {
     "name": "stdout",
     "output_type": "stream",
     "text": [
      "Tempo de execução: 0.013 segundos\n",
      " \n"
     ]
    }
   ],
   "source": [
    "# grau de centralidade\n",
    "t1 = time.time()\n",
    "dg = nx.degree_centrality(G0)\n",
    "tempoExec = time.time() - t1\n",
    "\n",
    "print(\"Tempo de execução: {} segundos\".format(\"%.3f\" %tempoExec))\n",
    "print(' ')\n"
   ]
  },
  {
   "cell_type": "code",
   "execution_count": 33,
   "metadata": {},
   "outputs": [
    {
     "data": {
      "text/html": [
       "<div>\n",
       "<style scoped>\n",
       "    .dataframe tbody tr th:only-of-type {\n",
       "        vertical-align: middle;\n",
       "    }\n",
       "\n",
       "    .dataframe tbody tr th {\n",
       "        vertical-align: top;\n",
       "    }\n",
       "\n",
       "    .dataframe thead th {\n",
       "        text-align: right;\n",
       "    }\n",
       "</style>\n",
       "<table border=\"1\" class=\"dataframe\">\n",
       "  <thead>\n",
       "    <tr style=\"text-align: right;\">\n",
       "      <th></th>\n",
       "      <th>Nome</th>\n",
       "      <th>Grau de Centralidade</th>\n",
       "      <th>Posição</th>\n",
       "    </tr>\n",
       "    <tr>\n",
       "      <th>Num_Pessoa_Interesse</th>\n",
       "      <th></th>\n",
       "      <th></th>\n",
       "      <th></th>\n",
       "    </tr>\n",
       "  </thead>\n",
       "  <tbody>\n",
       "    <tr>\n",
       "      <th>FCCE57960B6D4FB3A366E2E2C79B65E8</th>\n",
       "      <td>JOSE DALVANI NUNES RODRIGUES</td>\n",
       "      <td>0.1480</td>\n",
       "      <td>1</td>\n",
       "    </tr>\n",
       "    <tr>\n",
       "      <th>1495C1291F438A12CBE7284F2383F2F1</th>\n",
       "      <td>MAGNO BERLIM DA SILVA CARDOSO</td>\n",
       "      <td>0.0704</td>\n",
       "      <td>2</td>\n",
       "    </tr>\n",
       "    <tr>\n",
       "      <th>A78C1C54C25E3060E8928CDE8116786F</th>\n",
       "      <td>DOUGLAS GONCALVES ROMANO DOS SANTOS</td>\n",
       "      <td>0.0663</td>\n",
       "      <td>3</td>\n",
       "    </tr>\n",
       "    <tr>\n",
       "      <th>71B94064FD47CA2D303503957F0205F2</th>\n",
       "      <td>DENISON RICARDO MONTEIRO DOS SANTOS</td>\n",
       "      <td>0.0569</td>\n",
       "      <td>4</td>\n",
       "    </tr>\n",
       "    <tr>\n",
       "      <th>9B7F3C93D1827BD878FD59888217D131</th>\n",
       "      <td>JEFERSON OLIVEIRA ALMEIDA</td>\n",
       "      <td>0.0538</td>\n",
       "      <td>5</td>\n",
       "    </tr>\n",
       "    <tr>\n",
       "      <th>76E93116575CD38FC73B37F6BC241ECB</th>\n",
       "      <td>JULIANO DA SILVA FRAGA</td>\n",
       "      <td>0.0518</td>\n",
       "      <td>6</td>\n",
       "    </tr>\n",
       "    <tr>\n",
       "      <th>F0D4A6433AF58E5855BA79DD43BDD832</th>\n",
       "      <td>ERICK VINICIUS DA SILVA MATTOS</td>\n",
       "      <td>0.0455</td>\n",
       "      <td>7</td>\n",
       "    </tr>\n",
       "    <tr>\n",
       "      <th>04E6920BCE6144A8BCCC663F6E15B1CA</th>\n",
       "      <td>LUIS ROBERTO DA SILVA SILVA</td>\n",
       "      <td>0.0455</td>\n",
       "      <td>8</td>\n",
       "    </tr>\n",
       "    <tr>\n",
       "      <th>C348D60507F5D21F955EE964FCCCEBA0</th>\n",
       "      <td>DOUGLAS LOHAN RODRIGUES DA SILVA</td>\n",
       "      <td>0.0424</td>\n",
       "      <td>9</td>\n",
       "    </tr>\n",
       "    <tr>\n",
       "      <th>AC6D8A4288508D5ED1DD7D37AB133CC0</th>\n",
       "      <td>MARCELO ASSIS DOS SANTOS</td>\n",
       "      <td>0.0404</td>\n",
       "      <td>10</td>\n",
       "    </tr>\n",
       "  </tbody>\n",
       "</table>\n",
       "</div>"
      ],
      "text/plain": [
       "                                                                 Nome  \\\n",
       "Num_Pessoa_Interesse                                                    \n",
       "FCCE57960B6D4FB3A366E2E2C79B65E8         JOSE DALVANI NUNES RODRIGUES   \n",
       "1495C1291F438A12CBE7284F2383F2F1        MAGNO BERLIM DA SILVA CARDOSO   \n",
       "A78C1C54C25E3060E8928CDE8116786F  DOUGLAS GONCALVES ROMANO DOS SANTOS   \n",
       "71B94064FD47CA2D303503957F0205F2  DENISON RICARDO MONTEIRO DOS SANTOS   \n",
       "9B7F3C93D1827BD878FD59888217D131            JEFERSON OLIVEIRA ALMEIDA   \n",
       "76E93116575CD38FC73B37F6BC241ECB               JULIANO DA SILVA FRAGA   \n",
       "F0D4A6433AF58E5855BA79DD43BDD832       ERICK VINICIUS DA SILVA MATTOS   \n",
       "04E6920BCE6144A8BCCC663F6E15B1CA          LUIS ROBERTO DA SILVA SILVA   \n",
       "C348D60507F5D21F955EE964FCCCEBA0     DOUGLAS LOHAN RODRIGUES DA SILVA   \n",
       "AC6D8A4288508D5ED1DD7D37AB133CC0             MARCELO ASSIS DOS SANTOS   \n",
       "\n",
       "                                  Grau de Centralidade  Posição  \n",
       "Num_Pessoa_Interesse                                             \n",
       "FCCE57960B6D4FB3A366E2E2C79B65E8                0.1480        1  \n",
       "1495C1291F438A12CBE7284F2383F2F1                0.0704        2  \n",
       "A78C1C54C25E3060E8928CDE8116786F                0.0663        3  \n",
       "71B94064FD47CA2D303503957F0205F2                0.0569        4  \n",
       "9B7F3C93D1827BD878FD59888217D131                0.0538        5  \n",
       "76E93116575CD38FC73B37F6BC241ECB                0.0518        6  \n",
       "F0D4A6433AF58E5855BA79DD43BDD832                0.0455        7  \n",
       "04E6920BCE6144A8BCCC663F6E15B1CA                0.0455        8  \n",
       "C348D60507F5D21F955EE964FCCCEBA0                0.0424        9  \n",
       "AC6D8A4288508D5ED1DD7D37AB133CC0                0.0404       10  "
      ]
     },
     "execution_count": 33,
     "metadata": {},
     "output_type": "execute_result"
    }
   ],
   "source": [
    "# Tabela\n",
    "d = dict(G0.nodes(data=\"title\", default=1))\n",
    "id_nome = pd.DataFrame(list(d.items()),columns=['Num_Pessoa_Interesse', 'title'])\n",
    "id_nome.set_index('Num_Pessoa_Interesse',inplace=True)\n",
    "\n",
    "aux_dg = pd.DataFrame(list(dg.items()), columns=['Num_Pessoa_Interesse', 'Grau de Centralidade'])\n",
    "aux_dg.set_index('Num_Pessoa_Interesse',inplace=True)\n",
    "\n",
    "rankings_dg = pd.concat([id_nome, aux_dg], axis=1)\n",
    "rankings_dg.columns = ['Nome','Grau de Centralidade'] \n",
    "rankings_dg.sort_values('Grau de Centralidade', ascending = False, inplace = True)\n",
    "\n",
    "N = 967\n",
    "rankings_dg['Posição'] = range(1, N + 1)\n",
    "\n",
    "rankings_dg.head(10).round(4)"
   ]
  },
  {
   "cell_type": "markdown",
   "metadata": {},
   "source": [
    "### Algoritmo Eigenvector (Centralidade do autovetor)\n",
    "A medida de Centralidade do autovetor descreve a centralidade de um nó em relação à estrutura global da rede. Ela atribui pontuações relativas a todos os nós na rede com base no conceito de que as conexões para nós com alta pontuação contribuem mais do que as conexões para nós com baixa pontuação.\n",
    "Ela mede a extensão em que um nó é conectado a nós bem conectados.\n",
    "Nós com alta pontuação são considerados influentes por estarem conectados a nós importantes. Enquanto permanecem em grande parte nas sombras, eles podem explorar o poder dado por conhecer nós bem conectados."
   ]
  },
  {
   "cell_type": "code",
   "execution_count": 34,
   "metadata": {},
   "outputs": [
    {
     "name": "stdout",
     "output_type": "stream",
     "text": [
      "Tempo de execução: 0.348 segundos\n",
      " \n"
     ]
    }
   ],
   "source": [
    "t1 = time.time()\n",
    "# centralidade do autovetor\n",
    "ec = nx.eigenvector_centrality_numpy(G0) # função mais rápida; não precisa converter\n",
    "tempoExec = time.time() - t1\n",
    "\n",
    "print(\"Tempo de execução: {} segundos\".format(\"%.3f\" %tempoExec))\n",
    "print(' ')"
   ]
  },
  {
   "cell_type": "code",
   "execution_count": 36,
   "metadata": {},
   "outputs": [
    {
     "data": {
      "text/html": [
       "<div>\n",
       "<style scoped>\n",
       "    .dataframe tbody tr th:only-of-type {\n",
       "        vertical-align: middle;\n",
       "    }\n",
       "\n",
       "    .dataframe tbody tr th {\n",
       "        vertical-align: top;\n",
       "    }\n",
       "\n",
       "    .dataframe thead th {\n",
       "        text-align: right;\n",
       "    }\n",
       "</style>\n",
       "<table border=\"1\" class=\"dataframe\">\n",
       "  <thead>\n",
       "    <tr style=\"text-align: right;\">\n",
       "      <th></th>\n",
       "      <th>Nome</th>\n",
       "      <th>Eigenvector</th>\n",
       "      <th>Posição</th>\n",
       "    </tr>\n",
       "    <tr>\n",
       "      <th>Num_Pessoa_Interesse</th>\n",
       "      <th></th>\n",
       "      <th></th>\n",
       "      <th></th>\n",
       "    </tr>\n",
       "  </thead>\n",
       "  <tbody>\n",
       "    <tr>\n",
       "      <th>FCCE57960B6D4FB3A366E2E2C79B65E8</th>\n",
       "      <td>JOSE DALVANI NUNES RODRIGUES</td>\n",
       "      <td>0.3450</td>\n",
       "      <td>1</td>\n",
       "    </tr>\n",
       "    <tr>\n",
       "      <th>1495C1291F438A12CBE7284F2383F2F1</th>\n",
       "      <td>MAGNO BERLIM DA SILVA CARDOSO</td>\n",
       "      <td>0.2585</td>\n",
       "      <td>2</td>\n",
       "    </tr>\n",
       "    <tr>\n",
       "      <th>A78C1C54C25E3060E8928CDE8116786F</th>\n",
       "      <td>DOUGLAS GONCALVES ROMANO DOS SANTOS</td>\n",
       "      <td>0.2421</td>\n",
       "      <td>3</td>\n",
       "    </tr>\n",
       "    <tr>\n",
       "      <th>71B94064FD47CA2D303503957F0205F2</th>\n",
       "      <td>DENISON RICARDO MONTEIRO DOS SANTOS</td>\n",
       "      <td>0.2348</td>\n",
       "      <td>4</td>\n",
       "    </tr>\n",
       "    <tr>\n",
       "      <th>76E93116575CD38FC73B37F6BC241ECB</th>\n",
       "      <td>JULIANO DA SILVA FRAGA</td>\n",
       "      <td>0.2155</td>\n",
       "      <td>5</td>\n",
       "    </tr>\n",
       "    <tr>\n",
       "      <th>9B7F3C93D1827BD878FD59888217D131</th>\n",
       "      <td>JEFERSON OLIVEIRA ALMEIDA</td>\n",
       "      <td>0.1965</td>\n",
       "      <td>6</td>\n",
       "    </tr>\n",
       "    <tr>\n",
       "      <th>6E7C0DA4D145EE7CE950C0B16F2A2DB6</th>\n",
       "      <td>WILLIAM OTAVIO OLIVEIRA DA SILVA</td>\n",
       "      <td>0.1871</td>\n",
       "      <td>7</td>\n",
       "    </tr>\n",
       "    <tr>\n",
       "      <th>C348D60507F5D21F955EE964FCCCEBA0</th>\n",
       "      <td>DOUGLAS LOHAN RODRIGUES DA SILVA</td>\n",
       "      <td>0.1799</td>\n",
       "      <td>8</td>\n",
       "    </tr>\n",
       "    <tr>\n",
       "      <th>05E01F13B8497FA74AE3241F37741A9B</th>\n",
       "      <td>PAULO RICARDO DA ROSA SANTOS</td>\n",
       "      <td>0.1714</td>\n",
       "      <td>9</td>\n",
       "    </tr>\n",
       "    <tr>\n",
       "      <th>C43BE20422FB709F7FF721EF132208CB</th>\n",
       "      <td>GABRIEL ANTONIO DE OLIVEIRA BITTENCOURT</td>\n",
       "      <td>0.1535</td>\n",
       "      <td>10</td>\n",
       "    </tr>\n",
       "  </tbody>\n",
       "</table>\n",
       "</div>"
      ],
      "text/plain": [
       "                                                                     Nome  \\\n",
       "Num_Pessoa_Interesse                                                        \n",
       "FCCE57960B6D4FB3A366E2E2C79B65E8             JOSE DALVANI NUNES RODRIGUES   \n",
       "1495C1291F438A12CBE7284F2383F2F1            MAGNO BERLIM DA SILVA CARDOSO   \n",
       "A78C1C54C25E3060E8928CDE8116786F      DOUGLAS GONCALVES ROMANO DOS SANTOS   \n",
       "71B94064FD47CA2D303503957F0205F2      DENISON RICARDO MONTEIRO DOS SANTOS   \n",
       "76E93116575CD38FC73B37F6BC241ECB                   JULIANO DA SILVA FRAGA   \n",
       "9B7F3C93D1827BD878FD59888217D131                JEFERSON OLIVEIRA ALMEIDA   \n",
       "6E7C0DA4D145EE7CE950C0B16F2A2DB6         WILLIAM OTAVIO OLIVEIRA DA SILVA   \n",
       "C348D60507F5D21F955EE964FCCCEBA0         DOUGLAS LOHAN RODRIGUES DA SILVA   \n",
       "05E01F13B8497FA74AE3241F37741A9B             PAULO RICARDO DA ROSA SANTOS   \n",
       "C43BE20422FB709F7FF721EF132208CB  GABRIEL ANTONIO DE OLIVEIRA BITTENCOURT   \n",
       "\n",
       "                                  Eigenvector  Posição  \n",
       "Num_Pessoa_Interesse                                    \n",
       "FCCE57960B6D4FB3A366E2E2C79B65E8       0.3450        1  \n",
       "1495C1291F438A12CBE7284F2383F2F1       0.2585        2  \n",
       "A78C1C54C25E3060E8928CDE8116786F       0.2421        3  \n",
       "71B94064FD47CA2D303503957F0205F2       0.2348        4  \n",
       "76E93116575CD38FC73B37F6BC241ECB       0.2155        5  \n",
       "9B7F3C93D1827BD878FD59888217D131       0.1965        6  \n",
       "6E7C0DA4D145EE7CE950C0B16F2A2DB6       0.1871        7  \n",
       "C348D60507F5D21F955EE964FCCCEBA0       0.1799        8  \n",
       "05E01F13B8497FA74AE3241F37741A9B       0.1714        9  \n",
       "C43BE20422FB709F7FF721EF132208CB       0.1535       10  "
      ]
     },
     "execution_count": 36,
     "metadata": {},
     "output_type": "execute_result"
    }
   ],
   "source": [
    "# Tabela\n",
    "aux_ec = pd.DataFrame(list(ec.items()), columns=['Num_Pessoa_Interesse', 'Eigenvector'])\n",
    "aux_ec.set_index('Num_Pessoa_Interesse',inplace=True)\n",
    "\n",
    "rankings_ec = pd.concat([id_nome, aux_ec], axis=1)\n",
    "rankings_ec.columns = ['Nome','Eigenvector'] \n",
    "rankings_ec.sort_values('Eigenvector', ascending = False, inplace = True)\n",
    "\n",
    "N = 967\n",
    "rankings_ec['Posição'] = range(1, N + 1)\n",
    "rankings_ec.head(10).round(4)"
   ]
  },
  {
   "cell_type": "markdown",
   "metadata": {},
   "source": [
    "### Algoritmo Betweenness (Centralidade de Interdependência)\n",
    "Mede o número de caminhos mais curtos em que o nó se encontra. A Centralidade de Interdependência pode ser descrita como quão\n",
    "importante um nó é, como um link entre diferentes redes. Nós com alta centralidade de interdependência controlam o fluxo de informação porque eles formam pontes críticas entre outros nós ou grupos de nós.\n",
    "A Centralidade de Interdependência mostra quais nós são prováveis caminhos de informação e pode ser usado para determinar como um grafo irá separar os nós. Da mesma forma, é uma maneira de identificar aqueles que atuam como pontes (também chamadas de chaves de limite) entre dois ou mais segmentos de grafos que, de outra forma, não seriam capazes de se comunicar\n",
    "entre si. Essa medida toca na importância que um ator pode ganhar estando no meio das comunicações sociais de uma rede e em que medida, em uma sociedade, ele é necessário como elo na cadeia de contatos."
   ]
  },
  {
   "cell_type": "code",
   "execution_count": 116,
   "metadata": {},
   "outputs": [
    {
     "name": "stdout",
     "output_type": "stream",
     "text": [
      "Tempo de execução: 12.734 segundos\n",
      " \n"
     ]
    }
   ],
   "source": [
    "t1 = time.time()\n",
    "bc = nx.betweenness_centrality(G0)\n",
    "tempoExec = time.time() - t1\n",
    "\n",
    "print(\"Tempo de execução: {} segundos\".format(\"%.3f\" %tempoExec))\n",
    "print(' ')\n"
   ]
  },
  {
   "cell_type": "code",
   "execution_count": 117,
   "metadata": {},
   "outputs": [
    {
     "data": {
      "text/html": [
       "<div>\n",
       "<style scoped>\n",
       "    .dataframe tbody tr th:only-of-type {\n",
       "        vertical-align: middle;\n",
       "    }\n",
       "\n",
       "    .dataframe tbody tr th {\n",
       "        vertical-align: top;\n",
       "    }\n",
       "\n",
       "    .dataframe thead th {\n",
       "        text-align: right;\n",
       "    }\n",
       "</style>\n",
       "<table border=\"1\" class=\"dataframe\">\n",
       "  <thead>\n",
       "    <tr style=\"text-align: right;\">\n",
       "      <th></th>\n",
       "      <th>Nome</th>\n",
       "      <th>Betweenness</th>\n",
       "      <th>Posição</th>\n",
       "    </tr>\n",
       "    <tr>\n",
       "      <th>Num_Pessoa_Interesse</th>\n",
       "      <th></th>\n",
       "      <th></th>\n",
       "      <th></th>\n",
       "    </tr>\n",
       "  </thead>\n",
       "  <tbody>\n",
       "    <tr>\n",
       "      <th>FCCE57960B6D4FB3A366E2E2C79B65E8</th>\n",
       "      <td>JOSE DALVANI NUNES RODRIGUES</td>\n",
       "      <td>0.4955</td>\n",
       "      <td>1</td>\n",
       "    </tr>\n",
       "    <tr>\n",
       "      <th>0765A653C03AC699E2322F5280FE2CBD</th>\n",
       "      <td>WAGNER REIS DA SILVA</td>\n",
       "      <td>0.4033</td>\n",
       "      <td>2</td>\n",
       "    </tr>\n",
       "    <tr>\n",
       "      <th>B6C15C650538E504594A9CC68070241B</th>\n",
       "      <td>MAXIMILIANO DA SILVA PACHECO</td>\n",
       "      <td>0.3486</td>\n",
       "      <td>3</td>\n",
       "    </tr>\n",
       "    <tr>\n",
       "      <th>9B7F3C93D1827BD878FD59888217D131</th>\n",
       "      <td>JEFERSON OLIVEIRA ALMEIDA</td>\n",
       "      <td>0.3298</td>\n",
       "      <td>4</td>\n",
       "    </tr>\n",
       "    <tr>\n",
       "      <th>938287B54D1F92232CB490C5890533E3</th>\n",
       "      <td>MARCOS DA SILVA OLIVEIRA</td>\n",
       "      <td>0.2412</td>\n",
       "      <td>5</td>\n",
       "    </tr>\n",
       "    <tr>\n",
       "      <th>F55E3058C48FB0ACD18812B5B230578F</th>\n",
       "      <td>ROMAR GONCALVES GOMES</td>\n",
       "      <td>0.2322</td>\n",
       "      <td>6</td>\n",
       "    </tr>\n",
       "    <tr>\n",
       "      <th>1D17711922B088BB40A63B849474B6C4</th>\n",
       "      <td>BRUNO FERNANDO SANHUDO TEIXEIRA</td>\n",
       "      <td>0.2039</td>\n",
       "      <td>7</td>\n",
       "    </tr>\n",
       "    <tr>\n",
       "      <th>81925BF90874257538F1C626C6F362D3</th>\n",
       "      <td>EDINILSON SILVA DOS SANTOS</td>\n",
       "      <td>0.1636</td>\n",
       "      <td>8</td>\n",
       "    </tr>\n",
       "    <tr>\n",
       "      <th>04E6920BCE6144A8BCCC663F6E15B1CA</th>\n",
       "      <td>LUIS ROBERTO DA SILVA SILVA</td>\n",
       "      <td>0.1219</td>\n",
       "      <td>9</td>\n",
       "    </tr>\n",
       "    <tr>\n",
       "      <th>5DB9E9B2776FD23CACC2494E72633538</th>\n",
       "      <td>JOELCIO ABREU BORGES</td>\n",
       "      <td>0.1110</td>\n",
       "      <td>10</td>\n",
       "    </tr>\n",
       "  </tbody>\n",
       "</table>\n",
       "</div>"
      ],
      "text/plain": [
       "                                                             Nome  \\\n",
       "Num_Pessoa_Interesse                                                \n",
       "FCCE57960B6D4FB3A366E2E2C79B65E8     JOSE DALVANI NUNES RODRIGUES   \n",
       "0765A653C03AC699E2322F5280FE2CBD             WAGNER REIS DA SILVA   \n",
       "B6C15C650538E504594A9CC68070241B     MAXIMILIANO DA SILVA PACHECO   \n",
       "9B7F3C93D1827BD878FD59888217D131        JEFERSON OLIVEIRA ALMEIDA   \n",
       "938287B54D1F92232CB490C5890533E3         MARCOS DA SILVA OLIVEIRA   \n",
       "F55E3058C48FB0ACD18812B5B230578F            ROMAR GONCALVES GOMES   \n",
       "1D17711922B088BB40A63B849474B6C4  BRUNO FERNANDO SANHUDO TEIXEIRA   \n",
       "81925BF90874257538F1C626C6F362D3       EDINILSON SILVA DOS SANTOS   \n",
       "04E6920BCE6144A8BCCC663F6E15B1CA      LUIS ROBERTO DA SILVA SILVA   \n",
       "5DB9E9B2776FD23CACC2494E72633538             JOELCIO ABREU BORGES   \n",
       "\n",
       "                                  Betweenness  Posição  \n",
       "Num_Pessoa_Interesse                                    \n",
       "FCCE57960B6D4FB3A366E2E2C79B65E8       0.4955        1  \n",
       "0765A653C03AC699E2322F5280FE2CBD       0.4033        2  \n",
       "B6C15C650538E504594A9CC68070241B       0.3486        3  \n",
       "9B7F3C93D1827BD878FD59888217D131       0.3298        4  \n",
       "938287B54D1F92232CB490C5890533E3       0.2412        5  \n",
       "F55E3058C48FB0ACD18812B5B230578F       0.2322        6  \n",
       "1D17711922B088BB40A63B849474B6C4       0.2039        7  \n",
       "81925BF90874257538F1C626C6F362D3       0.1636        8  \n",
       "04E6920BCE6144A8BCCC663F6E15B1CA       0.1219        9  \n",
       "5DB9E9B2776FD23CACC2494E72633538       0.1110       10  "
      ]
     },
     "execution_count": 117,
     "metadata": {},
     "output_type": "execute_result"
    }
   ],
   "source": [
    "# Tabela\n",
    "aux_bc = pd.DataFrame(list(bc.items()), columns=['Num_Pessoa_Interesse', 'Betweenness'])\n",
    "aux_bc.set_index('Num_Pessoa_Interesse',inplace=True)\n",
    "\n",
    "rankings_bc = pd.concat([id_nome, aux_bc], axis=1)\n",
    "rankings_bc.columns = ['Nome','Betweenness'] \n",
    "rankings_bc.sort_values('Betweenness', ascending = False, inplace = True)\n",
    "\n",
    "N = 967\n",
    "rankings_bc['Posição'] = range(1, N + 1)\n",
    "rankings_bc.head(10).round(4)"
   ]
  },
  {
   "cell_type": "markdown",
   "metadata": {},
   "source": [
    "### Algoritmo Closeness (Centralidade de Proximidade)\n",
    "Esta medida de centralidade tenta expressar a importância de um vértice pelo fato dele estar próximo a muitos outros vértices. Esse vértice pode ser importante se estiver relativamente próximo do conjunto restante dos demais vértices na rede. A centralidade de proximidade é importante para entender a disseminação de informações em redes, de modo que a distância entre um nó em particular e outros tenha um efeito sobre como esse nó pode receber ou enviar informações para outros nós. Nas redes de informação, a proximidade revela quanto tempo leva para que um pouco de informação flua de um nó para outro na rede. Nós de alta pontuação geralmente têm caminhos mais curtos para o restante dos nós na rede."
   ]
  },
  {
   "cell_type": "code",
   "execution_count": 118,
   "metadata": {},
   "outputs": [
    {
     "name": "stdout",
     "output_type": "stream",
     "text": [
      "Tempo de execução: 18.752 segundos\n",
      " \n"
     ]
    }
   ],
   "source": [
    "t1 = time.time()\n",
    "cc = nx.closeness_centrality(G0)\n",
    "tempoExec = time.time() - t1\n",
    "\n",
    "print(\"Tempo de execução: {} segundos\".format(\"%.3f\" %tempoExec))\n",
    "print(' ')"
   ]
  },
  {
   "cell_type": "code",
   "execution_count": 119,
   "metadata": {},
   "outputs": [
    {
     "data": {
      "text/html": [
       "<div>\n",
       "<style scoped>\n",
       "    .dataframe tbody tr th:only-of-type {\n",
       "        vertical-align: middle;\n",
       "    }\n",
       "\n",
       "    .dataframe tbody tr th {\n",
       "        vertical-align: top;\n",
       "    }\n",
       "\n",
       "    .dataframe thead th {\n",
       "        text-align: right;\n",
       "    }\n",
       "</style>\n",
       "<table border=\"1\" class=\"dataframe\">\n",
       "  <thead>\n",
       "    <tr style=\"text-align: right;\">\n",
       "      <th></th>\n",
       "      <th>Nome</th>\n",
       "      <th>Closeness</th>\n",
       "      <th>Posição</th>\n",
       "    </tr>\n",
       "    <tr>\n",
       "      <th>Num_Pessoa_Interesse</th>\n",
       "      <th></th>\n",
       "      <th></th>\n",
       "      <th></th>\n",
       "    </tr>\n",
       "  </thead>\n",
       "  <tbody>\n",
       "    <tr>\n",
       "      <th>FCCE57960B6D4FB3A366E2E2C79B65E8</th>\n",
       "      <td>JOSE DALVANI NUNES RODRIGUES</td>\n",
       "      <td>0.2716</td>\n",
       "      <td>1</td>\n",
       "    </tr>\n",
       "    <tr>\n",
       "      <th>9B7F3C93D1827BD878FD59888217D131</th>\n",
       "      <td>JEFERSON OLIVEIRA ALMEIDA</td>\n",
       "      <td>0.2481</td>\n",
       "      <td>2</td>\n",
       "    </tr>\n",
       "    <tr>\n",
       "      <th>04E6920BCE6144A8BCCC663F6E15B1CA</th>\n",
       "      <td>LUIS ROBERTO DA SILVA SILVA</td>\n",
       "      <td>0.2476</td>\n",
       "      <td>3</td>\n",
       "    </tr>\n",
       "    <tr>\n",
       "      <th>0765A653C03AC699E2322F5280FE2CBD</th>\n",
       "      <td>WAGNER REIS DA SILVA</td>\n",
       "      <td>0.2441</td>\n",
       "      <td>4</td>\n",
       "    </tr>\n",
       "    <tr>\n",
       "      <th>1495C1291F438A12CBE7284F2383F2F1</th>\n",
       "      <td>MAGNO BERLIM DA SILVA CARDOSO</td>\n",
       "      <td>0.2420</td>\n",
       "      <td>5</td>\n",
       "    </tr>\n",
       "    <tr>\n",
       "      <th>A78C1C54C25E3060E8928CDE8116786F</th>\n",
       "      <td>DOUGLAS GONCALVES ROMANO DOS SANTOS</td>\n",
       "      <td>0.2400</td>\n",
       "      <td>6</td>\n",
       "    </tr>\n",
       "    <tr>\n",
       "      <th>71B94064FD47CA2D303503957F0205F2</th>\n",
       "      <td>DENISON RICARDO MONTEIRO DOS SANTOS</td>\n",
       "      <td>0.2388</td>\n",
       "      <td>7</td>\n",
       "    </tr>\n",
       "    <tr>\n",
       "      <th>76E93116575CD38FC73B37F6BC241ECB</th>\n",
       "      <td>JULIANO DA SILVA FRAGA</td>\n",
       "      <td>0.2386</td>\n",
       "      <td>8</td>\n",
       "    </tr>\n",
       "    <tr>\n",
       "      <th>AC6D8A4288508D5ED1DD7D37AB133CC0</th>\n",
       "      <td>MARCELO ASSIS DOS SANTOS</td>\n",
       "      <td>0.2376</td>\n",
       "      <td>9</td>\n",
       "    </tr>\n",
       "    <tr>\n",
       "      <th>6E7C0DA4D145EE7CE950C0B16F2A2DB6</th>\n",
       "      <td>WILLIAM OTAVIO OLIVEIRA DA SILVA</td>\n",
       "      <td>0.2373</td>\n",
       "      <td>10</td>\n",
       "    </tr>\n",
       "  </tbody>\n",
       "</table>\n",
       "</div>"
      ],
      "text/plain": [
       "                                                                 Nome  \\\n",
       "Num_Pessoa_Interesse                                                    \n",
       "FCCE57960B6D4FB3A366E2E2C79B65E8         JOSE DALVANI NUNES RODRIGUES   \n",
       "9B7F3C93D1827BD878FD59888217D131            JEFERSON OLIVEIRA ALMEIDA   \n",
       "04E6920BCE6144A8BCCC663F6E15B1CA          LUIS ROBERTO DA SILVA SILVA   \n",
       "0765A653C03AC699E2322F5280FE2CBD                 WAGNER REIS DA SILVA   \n",
       "1495C1291F438A12CBE7284F2383F2F1        MAGNO BERLIM DA SILVA CARDOSO   \n",
       "A78C1C54C25E3060E8928CDE8116786F  DOUGLAS GONCALVES ROMANO DOS SANTOS   \n",
       "71B94064FD47CA2D303503957F0205F2  DENISON RICARDO MONTEIRO DOS SANTOS   \n",
       "76E93116575CD38FC73B37F6BC241ECB               JULIANO DA SILVA FRAGA   \n",
       "AC6D8A4288508D5ED1DD7D37AB133CC0             MARCELO ASSIS DOS SANTOS   \n",
       "6E7C0DA4D145EE7CE950C0B16F2A2DB6     WILLIAM OTAVIO OLIVEIRA DA SILVA   \n",
       "\n",
       "                                  Closeness  Posição  \n",
       "Num_Pessoa_Interesse                                  \n",
       "FCCE57960B6D4FB3A366E2E2C79B65E8     0.2716        1  \n",
       "9B7F3C93D1827BD878FD59888217D131     0.2481        2  \n",
       "04E6920BCE6144A8BCCC663F6E15B1CA     0.2476        3  \n",
       "0765A653C03AC699E2322F5280FE2CBD     0.2441        4  \n",
       "1495C1291F438A12CBE7284F2383F2F1     0.2420        5  \n",
       "A78C1C54C25E3060E8928CDE8116786F     0.2400        6  \n",
       "71B94064FD47CA2D303503957F0205F2     0.2388        7  \n",
       "76E93116575CD38FC73B37F6BC241ECB     0.2386        8  \n",
       "AC6D8A4288508D5ED1DD7D37AB133CC0     0.2376        9  \n",
       "6E7C0DA4D145EE7CE950C0B16F2A2DB6     0.2373       10  "
      ]
     },
     "execution_count": 119,
     "metadata": {},
     "output_type": "execute_result"
    }
   ],
   "source": [
    "# Tabela\n",
    "aux_cc = pd.DataFrame(list(cc.items()), columns=['Num_Pessoa_Interesse', 'Closeness'])\n",
    "aux_cc.set_index('Num_Pessoa_Interesse',inplace=True)\n",
    "\n",
    "rankings_cc = pd.concat([id_nome, aux_cc], axis=1)\n",
    "rankings_cc.columns = ['Nome','Closeness'] \n",
    "rankings_cc.sort_values('Closeness', ascending = False, inplace = True)\n",
    "\n",
    "N = 967\n",
    "rankings_cc['Posição'] = range(1, N + 1)\n",
    "rankings_cc.head(10).round(4)"
   ]
  },
  {
   "cell_type": "code",
   "execution_count": null,
   "metadata": {},
   "outputs": [],
   "source": [
    "#V.clear()"
   ]
  },
  {
   "cell_type": "code",
   "execution_count": null,
   "metadata": {},
   "outputs": [],
   "source": []
  }
 ],
 "metadata": {
  "kernelspec": {
   "display_name": "Python 3",
   "language": "python",
   "name": "python3"
  },
  "language_info": {
   "codemirror_mode": {
    "name": "ipython",
    "version": 3
   },
   "file_extension": ".py",
   "mimetype": "text/x-python",
   "name": "python",
   "nbconvert_exporter": "python",
   "pygments_lexer": "ipython3",
   "version": "3.7.0"
  }
 },
 "nbformat": 4,
 "nbformat_minor": 2
}
