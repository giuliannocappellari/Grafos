{
 "cells": [
  {
   "cell_type": "code",
   "execution_count": 5,
   "metadata": {},
   "outputs": [],
   "source": [
    "from pyvis.network import Network\n",
    "import pandas as pd\n",
    "import networkx as nx"
   ]
  },
  {
   "cell_type": "code",
   "execution_count": 10,
   "metadata": {},
   "outputs": [
    {
     "data": {
      "text/html": [
       "\n",
       "        <iframe\n",
       "            width=\"900px\"\n",
       "            height=\"500px\"\n",
       "            src=\"nx.html\"\n",
       "            frameborder=\"0\"\n",
       "            allowfullscreen\n",
       "        ></iframe>\n",
       "        "
      ],
      "text/plain": [
       "<IPython.lib.display.IFrame at 0xe36c470>"
      ]
     },
     "execution_count": 10,
     "metadata": {},
     "output_type": "execute_result"
    }
   ],
   "source": [
    "nx_graph = nx.cycle_graph(7)\n",
    "nx.spring_layout\n",
    "#Criando Grupos\n",
    "nx_graph.nodes[1]['title'] = 'Família 1'\n",
    "nx_graph.nodes[1]['group'] = 4\n",
    "nx_graph.nodes[2]['title'] = 'Família 2'\n",
    "nx_graph.nodes[2]['group'] = 2\n",
    "nx_graph.nodes[3]['title'] = 'Família 3'\n",
    "nx_graph.nodes[3]['group'] = 1\n",
    "\n",
    "#Criando vértices e atribuindo a um grupo\n",
    "nx_graph.add_node(0, size=16, title='Maria', group=1)\n",
    "nx_graph.add_node(1, size=25, title='Viviane', group=1)\n",
    "nx_graph.add_node(2, size=25, title='Ricardo', group=1)\n",
    "nx_graph.add_node(3, size=15, title='Jade', group=1)\n",
    "nx_graph.add_node(4, size=20, title='Camila', group=2)\n",
    "nx_graph.add_node(5, size=20, title='Eduardo', group=2)\n",
    "nx_graph.add_node(6, size=10, title='Maiara', group=3)\n",
    "\n",
    "#Criando arestas\n",
    "nx_graph.add_edge(2, 1, title = 'marido', weight=5)\n",
    "nx_graph.add_edge(1, 3, title = 'mãe', weight=5)\n",
    "nx_graph.add_edge(1, 4, title =  'mãe', weight=5)\n",
    "nx_graph.add_edge(2, 3, title =  'pai', weight=5)\n",
    "nx_graph.add_edge(2, 4, title =  'padrasto', weight=4)\n",
    "nx_graph.add_edge(5, 4, title = 'marido', weight=5)\n",
    "nx_graph.add_edge(1, 5, title = 'sogra', weight=3)\n",
    "nx_graph.add_edge(2, 5, title = 'sogro', weight=3)\n",
    "nx_graph.add_edge(3, 4, title = 'irmã', weight=4)\n",
    "nx_graph.add_edge(4, 6, title = 'amiga', weight=1)\n",
    "nx_graph.add_edge(0, 1, title = 'mãe', weight=5)\n",
    "nx_graph.add_edge(0, 3, title = 'vó', weight=4)\n",
    "nx_graph.add_edge(0, 4, title = 'vó', weight=4)\n",
    "nx_graph.add_edge(0, 2, title = 'sogra', weight=3)\n",
    "\n",
    "nt = Network(\"500px\", \"900px\", notebook = True)\n",
    "nt.from_nx(nx_graph)\n",
    "nt.show(\"nx.html\")"
   ]
  }
 ],
 "metadata": {
  "kernelspec": {
   "display_name": "Python 3",
   "language": "python",
   "name": "python3"
  },
  "language_info": {
   "codemirror_mode": {
    "name": "ipython",
    "version": 3
   },
   "file_extension": ".py",
   "mimetype": "text/x-python",
   "name": "python",
   "nbconvert_exporter": "python",
   "pygments_lexer": "ipython3",
   "version": "3.7.4"
  }
 },
 "nbformat": 4,
 "nbformat_minor": 4
}
